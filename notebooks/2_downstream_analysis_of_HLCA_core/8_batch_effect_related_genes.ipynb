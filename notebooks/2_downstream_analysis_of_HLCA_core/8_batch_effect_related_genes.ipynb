{
 "cells": [
  {
   "cell_type": "markdown",
   "id": "2b36fc99-0b0a-48a3-a7fd-2b7c700360aa",
   "metadata": {},
   "source": [
    "# Analysis of genes related to batch-effects:"
   ]
  },
  {
   "cell_type": "markdown",
   "id": "7ea8582d-a386-4567-a91a-8ba98a62814a",
   "metadata": {},
   "source": [
    "load modules:"
   ]
  },
  {
   "cell_type": "code",
   "execution_count": 1,
   "id": "516907c0-2058-4490-8125-a8181f3634ee",
   "metadata": {},
   "outputs": [],
   "source": [
    "import scanpy as sc\n",
    "import pandas as pd\n",
    "import numpy as np\n",
    "import os"
   ]
  },
  {
   "cell_type": "markdown",
   "id": "c6ceaf76-954f-4e4e-abd7-57409732df41",
   "metadata": {},
   "source": [
    "for pretty code formatting:"
   ]
  },
  {
   "cell_type": "code",
   "execution_count": 2,
   "id": "3589c665-95d0-4ab9-ae46-af913a32879c",
   "metadata": {},
   "outputs": [],
   "source": [
    "%load_ext lab_black"
   ]
  },
  {
   "cell_type": "markdown",
   "id": "7fe168dd-f954-40d4-a5e5-579e0f06c88b",
   "metadata": {},
   "source": [
    "set paths:"
   ]
  },
  {
   "cell_type": "code",
   "execution_count": 3,
   "id": "d9006f52-f4ab-4bb8-a52a-2972f9b07231",
   "metadata": {},
   "outputs": [],
   "source": [
    "path_hlca_core = \"../../data/HLCA_core_h5ads/HLCA_v2.h5ad\"\n",
    "dir_results = \"../../results/batch_related_genes/\""
   ]
  },
  {
   "cell_type": "markdown",
   "id": "968541b0-c551-4903-9cbc-325cd2a374f2",
   "metadata": {},
   "source": [
    "load data:"
   ]
  },
  {
   "cell_type": "code",
   "execution_count": 4,
   "id": "8a5c8566-b81e-4e36-928d-6c5a60dbfe4f",
   "metadata": {},
   "outputs": [],
   "source": [
    "adata = sc.read_h5ad(path_hlca_core)"
   ]
  },
  {
   "cell_type": "markdown",
   "id": "ac5bd61e-cec1-45ae-afb8-023c419b616b",
   "metadata": {},
   "source": [
    "Perform differential expression analysis on datasets, once per (coarse) cell type."
   ]
  },
  {
   "cell_type": "code",
   "execution_count": 5,
   "id": "c26d31dc-4b4a-4857-bca8-e2df8dc0dbcb",
   "metadata": {},
   "outputs": [],
   "source": [
    "deg_dfs_sign = dict()  # significance\n",
    "deg_dfs_es = dict()  # effect size"
   ]
  },
  {
   "cell_type": "code",
   "execution_count": 17,
   "id": "2d93416c-9cb0-453a-8f4f-4b70ce82f2bc",
   "metadata": {},
   "outputs": [],
   "source": [
    "min_n_cells = 10\n",
    "min_n_samples = 3"
   ]
  },
  {
   "cell_type": "code",
   "execution_count": 40,
   "id": "e1a2a8b3-87e1-4fc1-a4cb-1b67be2e69b2",
   "metadata": {},
   "outputs": [
    {
     "name": "stdout",
     "output_type": "stream",
     "text": [
      "Working on celltype Alveolar macrophages\n",
      "Working on celltype Innate lymphoid cell NK\n",
      "Working on celltype AT2\n",
      "Working on celltype Basal\n",
      "Working on celltype EC venous\n",
      "Working on celltype T cell lineage\n",
      "Working on celltype EC arterial\n",
      "Working on celltype Peribronchial fibroblasts\n",
      "Working on celltype AT1\n",
      "Working on celltype Multiciliated\n",
      "Working on celltype Plasma cells\n",
      "Working on celltype Secretory\n",
      "Working on celltype Smooth muscle\n",
      "Working on celltype Monocytes\n",
      "Working on celltype Monocyte-derived Mph\n",
      "Working on celltype SMG serous\n",
      "Working on celltype EC capillary\n",
      "Working on celltype Adventitial fibroblasts\n",
      "Working on celltype Lymphatic EC\n",
      "Working on celltype Transitional Club-AT2 cells\n",
      "Working on celltype Alveolar fibroblasts\n",
      "Working on celltype Neuroendocrine\n",
      "Working on celltype DC2\n",
      "Working on celltype DC1\n",
      "Working on celltype Myofibroblasts\n",
      "Working on celltype B cell\n",
      "Working on celltype Mast cells\n",
      "Working on celltype Interstitial Mph perivascular\n",
      "Working on celltype SMG mucous\n",
      "Working on celltype Pericytes\n",
      "Working on celltype SMG duct\n",
      "Working on celltype Mesothelium\n",
      "Working on celltype Ionocyte\n",
      "Working on celltype Fibromyocytes\n",
      "Working on celltype Tuft\n",
      "Working on celltype Plasmacytoid DCs\n",
      "Working on celltype Subpleural fibroblasts\n",
      "Working on celltype Hematopoietic stem cells\n",
      "Working on celltype Migratory DCs\n"
     ]
    }
   ],
   "source": [
    "for ct in adata.obs.manual_ann_grouped.unique():\n",
    "    print(f\"Working on celltype {ct}\")\n",
    "    subadata = adata[adata.obs.manual_ann_grouped == ct, :].copy()\n",
    "    # throw out datasets that have fewer than min_n_cells of the ct\n",
    "    dataset_cell_sample_count = (\n",
    "        subadata.obs.groupby(\"dataset\")\n",
    "        .agg({\"dataset\": \"count\", \"sample\": \"nunique\"})\n",
    "        .rename(columns={\"dataset\": \"ncells\", \"sample\": \"nsamples\"})\n",
    "    )\n",
    "    ds_to_keep = dataset_cell_sample_count.loc[\n",
    "        [\n",
    "            suffcells and suffsamples\n",
    "            for suffcells, suffsamples in zip(\n",
    "                dataset_cell_sample_count.ncells >= min_n_cells,\n",
    "                dataset_cell_sample_count.nsamples >= min_n_samples,\n",
    "            )\n",
    "        ],\n",
    "        :,\n",
    "    ].index.tolist()\n",
    "    subadata = subadata[subadata.obs.dataset.isin(ds_to_keep), :].copy()\n",
    "    sc.tl.rank_genes_groups(subadata, groupby=\"dataset\", method=\"wilcoxon\")\n",
    "    deg_df_sign = pd.DataFrame(\n",
    "        index=adata.var.index, columns=sorted(adata.obs.dataset.unique())\n",
    "    )\n",
    "    deg_df_es = pd.DataFrame(\n",
    "        index=adata.var.index, columns=sorted(adata.obs.dataset.unique())\n",
    "    )\n",
    "    for dataset in ds_to_keep:\n",
    "        # extract gene sets per dataset:\n",
    "        genes_sign_df = sc.get.rank_genes_groups_df(subadata, group=dataset)\n",
    "        genes_sign_df.index = genes_sign_df.names\n",
    "        # take only significant ones\n",
    "        genes_sign = genes_sign_df.loc[genes_sign_df.pvals_adj < 0.05].names\n",
    "        # set significant ones to true in overview dataframe\n",
    "        deg_df_sign[dataset] = False\n",
    "        deg_df_sign.loc[genes_sign, dataset] = True\n",
    "        deg_df_es[dataset] = np.nan\n",
    "        deg_df_es.loc[genes_sign, dataset] = genes_sign_df.loc[\n",
    "            genes_sign, \"logfoldchanges\"\n",
    "        ]\n",
    "    deg_dfs_sign[ct] = deg_df_sign\n",
    "    deg_dfs_es[ct] = deg_df_es"
   ]
  },
  {
   "cell_type": "code",
   "execution_count": 41,
   "id": "074c47b1-9c90-40dc-8db4-a448d850a23c",
   "metadata": {},
   "outputs": [],
   "source": [
    "import pickle"
   ]
  },
  {
   "cell_type": "code",
   "execution_count": 43,
   "id": "0ca52d60-f90c-40eb-8ff8-471445445ccc",
   "metadata": {},
   "outputs": [],
   "source": [
    "with open(\"../../../batch_deg_dfs_sign.pickle\", \"wb\") as handle:\n",
    "    pickle.dump(deg_dfs_sign, handle, protocol=pickle.HIGHEST_PROTOCOL)\n",
    "with open(\"../../../batch_deg_dfs_es.pickle\", \"wb\") as handle:\n",
    "    pickle.dump(deg_dfs_es, handle, protocol=pickle.HIGHEST_PROTOCOL)\n",
    "# with open('filename.pickle', 'rb') as handle:\n",
    "#     b = pickle.load(handle)"
   ]
  },
  {
   "cell_type": "markdown",
   "id": "c645d36d-3080-4a39-a0ed-67e607821732",
   "metadata": {},
   "source": [
    "For each cell type, count the number (or fraction?) of datasets for which the gene is significantly differentially expressed.<br> \n",
    "Consider subselecting to only over-expressed or under-expressed genes!! So that a single super-ambient RNA does not dominate the results."
   ]
  },
  {
   "cell_type": "markdown",
   "id": "fdb0e608-b00c-496f-9f6a-9ab582e095f5",
   "metadata": {},
   "source": [
    "Create empty dataframe counting, per gene, in how many datasets the gene is differentially expressed:"
   ]
  },
  {
   "cell_type": "code",
   "execution_count": 69,
   "id": "4a2bc767-1b85-4965-b7d2-530264e03971",
   "metadata": {},
   "outputs": [],
   "source": [
    "n_datasets_diff_per_ct = pd.DataFrame(\n",
    "    index=adata.var.index, columns=sorted(adata.obs.manual_ann_grouped.unique())\n",
    ")"
   ]
  },
  {
   "cell_type": "markdown",
   "id": "2d8a3897-a76a-45c3-b62f-12fc5dff8923",
   "metadata": {},
   "source": [
    "fraction instead of absolute count (so that we can disregard datasets that had too few cells/samples):"
   ]
  },
  {
   "cell_type": "code",
   "execution_count": 70,
   "id": "caafdb30-ae96-450e-bd48-33d64937030c",
   "metadata": {},
   "outputs": [],
   "source": [
    "frac_dataset_diff_per_ct = n_datasets_diff_per_ct.copy()"
   ]
  },
  {
   "cell_type": "markdown",
   "id": "462643a7-85e3-4fdf-bebc-bb7262d40cf9",
   "metadata": {},
   "source": [
    "or only differentially upregulated (and not down), absolute count:"
   ]
  },
  {
   "cell_type": "code",
   "execution_count": 71,
   "id": "7879d4da-8430-4d96-a303-1ae8dc9584c1",
   "metadata": {},
   "outputs": [],
   "source": [
    "n_datasets_up_per_ct = n_datasets_diff_per_ct.copy()"
   ]
  },
  {
   "cell_type": "markdown",
   "id": "084f8702-edac-4584-85b1-81c9374188d2",
   "metadata": {},
   "source": [
    "or fraction:"
   ]
  },
  {
   "cell_type": "code",
   "execution_count": 72,
   "id": "6f9c5e06-424e-44e9-bfe7-b7eb2413cb55",
   "metadata": {},
   "outputs": [],
   "source": [
    "frac_datasets_up_per_ct = n_datasets_diff_per_ct.copy()"
   ]
  },
  {
   "cell_type": "markdown",
   "id": "a9dd34de-246a-464f-acbf-541f226f3c2e",
   "metadata": {},
   "source": [
    "now fill in dataframes:"
   ]
  },
  {
   "cell_type": "code",
   "execution_count": 121,
   "id": "3aef9927-0a25-4277-ab9c-163c82fb0202",
   "metadata": {},
   "outputs": [],
   "source": [
    "for ct in n_datasets_diff_per_ct.columns:\n",
    "    deg_df = deg_dfs_sign[ct]\n",
    "    es_df = deg_dfs_es[ct]\n",
    "    # for each gene, count number of datasets with \"True\" (i.e. significantly diff. expr)\n",
    "    n_datasets_diff_per_ct.loc[deg_df.index, ct] = deg_df.sum(axis=1)\n",
    "    # for each gene, count number of datasets with \"True\" and a pos. eff. size\n",
    "    n_datasets_up_per_ct.loc[es_df.index, ct] = (es_df > 0).sum(\n",
    "        axis=1\n",
    "    )  # the df only contains effect sizes for significant genes\n",
    "    # check for how many datasets we had data\n",
    "    deg_df_notnull = ~pd.isnull(deg_df)\n",
    "    # now calculate fraction among datasets for which we could do dea\n",
    "    frac_dataset_diff_per_ct.loc[deg_df.index, ct] = deg_df.sum(\n",
    "        axis=1\n",
    "    ) / deg_df_notnull.sum(axis=1)\n",
    "    frac_datasets_up_per_ct.loc[deg_df.index, ct] = (es_df > 0).sum(\n",
    "        axis=1\n",
    "    ) / deg_df_notnull.sum(axis=1)"
   ]
  },
  {
   "cell_type": "markdown",
   "id": "9c6c2d6b-5a26-4192-891c-e91acb0f12c3",
   "metadata": {},
   "source": [
    "Check which genes are consistently associated with batch effects:"
   ]
  },
  {
   "cell_type": "markdown",
   "id": "e97a0da5-efb3-44d6-91b3-07b2865f8689",
   "metadata": {},
   "source": [
    "Differentially expressed...:"
   ]
  },
  {
   "cell_type": "code",
   "execution_count": 122,
   "id": "11663f31-15f2-483a-b44c-28c70e01ef48",
   "metadata": {},
   "outputs": [],
   "source": [
    "n_dataset_diff_gene_mean = n_datasets_diff_per_ct.mean(axis=1)"
   ]
  },
  {
   "cell_type": "code",
   "execution_count": 123,
   "id": "eb9f8a2a-65a8-4a23-99dd-799c3a8bf930",
   "metadata": {},
   "outputs": [
    {
     "data": {
      "text/plain": [
       "RPL13A        7.102564\n",
       "RPL27A        6.974359\n",
       "RPS17         6.769231\n",
       "RPL7          6.692308\n",
       "RPL31         6.666667\n",
       "RPS6          6.615385\n",
       "TMSB4X        6.589744\n",
       "RPL41         6.564103\n",
       "RPL23A        6.538462\n",
       "RPS20         6.538462\n",
       "RPS27         6.435897\n",
       "RPL3          6.410256\n",
       "RPL21         6.410256\n",
       "RPS18         6.384615\n",
       "RPL37A        6.358974\n",
       "RPS29         6.307692\n",
       "MT-ND4        6.256410\n",
       "RPLP2         6.205128\n",
       "RPL26         6.179487\n",
       "MT-ND2        6.128205\n",
       "RPS2          6.076923\n",
       "RPL38         6.051282\n",
       "RPS9          6.051282\n",
       "RPS25         6.051282\n",
       "RPL27         6.025641\n",
       "FTL           6.025641\n",
       "RPL35         6.025641\n",
       "RPL13         6.025641\n",
       "RPL23         6.000000\n",
       "RPL18A        5.948718\n",
       "RPL15         5.948718\n",
       "RPL34         5.948718\n",
       "MT-ND4L       5.923077\n",
       "RPS14         5.897436\n",
       "AC090498.1    5.871795\n",
       "MALAT1        5.846154\n",
       "RPL9          5.820513\n",
       "RPL36A        5.794872\n",
       "RPL10         5.794872\n",
       "RPS10         5.794872\n",
       "dtype: float64"
      ]
     },
     "execution_count": 123,
     "metadata": {},
     "output_type": "execute_result"
    }
   ],
   "source": [
    "n_dataset_diff_gene_mean.sort_values(ascending=False).head(40)  # top in absolute number"
   ]
  },
  {
   "cell_type": "code",
   "execution_count": 124,
   "id": "f55d3615-d1f8-4e82-a1c4-f60c9a361f64",
   "metadata": {},
   "outputs": [],
   "source": [
    "frac_dataset_diff_gene_mean = frac_dataset_diff_per_ct.mean(axis=1)"
   ]
  },
  {
   "cell_type": "code",
   "execution_count": 125,
   "id": "50f5b40a-3a6a-4bd9-8c74-a3fdedbe3cff",
   "metadata": {},
   "outputs": [
    {
     "data": {
      "text/plain": [
       "RPL13A        0.865863\n",
       "RPL27A        0.833118\n",
       "RPS17         0.817062\n",
       "RPL7          0.812179\n",
       "RPL31         0.807835\n",
       "RPL41         0.807305\n",
       "RPS6          0.802920\n",
       "RPL23A        0.789041\n",
       "RPL3          0.783767\n",
       "RPL21         0.780581\n",
       "RPS18         0.780565\n",
       "RPS27         0.774987\n",
       "RPS29         0.773197\n",
       "TMSB4X        0.770113\n",
       "MT-ND4        0.768952\n",
       "RPS20         0.765769\n",
       "RPL37A        0.758535\n",
       "RPS2          0.752146\n",
       "RPLP2         0.751240\n",
       "RPL26         0.747099\n",
       "MT-ND4L       0.742133\n",
       "RPS9          0.735487\n",
       "RPL38         0.732486\n",
       "MT-ND2        0.732149\n",
       "RPL27         0.730933\n",
       "RPL35         0.727613\n",
       "RPL15         0.726311\n",
       "RPL23         0.722789\n",
       "FTL           0.715037\n",
       "AC090498.1    0.713401\n",
       "RPL34         0.711760\n",
       "RPL18A        0.710152\n",
       "RPL13         0.703337\n",
       "RPL36A        0.703128\n",
       "HSPA1A        0.701972\n",
       "MALAT1        0.698962\n",
       "B2M           0.693899\n",
       "RPS25         0.693465\n",
       "RPS11         0.693116\n",
       "RPL32         0.692171\n",
       "HSP90AA1      0.687052\n",
       "JUN           0.685811\n",
       "RPS4X         0.685121\n",
       "RPS10         0.684049\n",
       "ZFP36         0.682321\n",
       "RPS14         0.680388\n",
       "FTH1          0.676706\n",
       "RPL9          0.674710\n",
       "MT-ATP8       0.674212\n",
       "MT-CO2        0.673042\n",
       "dtype: float64"
      ]
     },
     "execution_count": 125,
     "metadata": {},
     "output_type": "execute_result"
    }
   ],
   "source": [
    "frac_dataset_diff_gene_mean.sort_values(ascending=False).head(50)  # top in fraction"
   ]
  },
  {
   "cell_type": "markdown",
   "id": "102be95a-39c8-44eb-9030-006bfd667b7e",
   "metadata": {},
   "source": [
    "...or only upregulated:"
   ]
  },
  {
   "cell_type": "code",
   "execution_count": 126,
   "id": "9f04343c-0c53-45d6-bd67-664947682e66",
   "metadata": {},
   "outputs": [],
   "source": [
    "n_dataset_up_gene_mean = n_datasets_up_per_ct.mean(axis=1)"
   ]
  },
  {
   "cell_type": "code",
   "execution_count": 127,
   "id": "937cd9c3-4d6f-462d-8263-6b3c288db719",
   "metadata": {},
   "outputs": [
    {
     "data": {
      "text/plain": [
       "RPL13A    4.820513\n",
       "RPL27A    4.666667\n",
       "RPS17     4.487179\n",
       "RPS20     4.461538\n",
       "TMSB4X    4.384615\n",
       "RPS6      4.384615\n",
       "RPL41     4.358974\n",
       "RPL31     4.333333\n",
       "RPL7      4.307692\n",
       "RPS18     4.153846\n",
       "RPS2      4.102564\n",
       "RPL23A    4.076923\n",
       "RPL23     4.076923\n",
       "RPS9      4.051282\n",
       "RPL21     4.051282\n",
       "RPL3      4.051282\n",
       "MT-ND4    3.923077\n",
       "RPS11     3.897436\n",
       "RPL37A    3.871795\n",
       "RPS27     3.871795\n",
       "RPS29     3.871795\n",
       "RPL13     3.794872\n",
       "RPLP2     3.769231\n",
       "RPL27     3.743590\n",
       "MT-ND2    3.743590\n",
       "RPL18A    3.717949\n",
       "RPL35     3.717949\n",
       "RPL9      3.717949\n",
       "MALAT1    3.692308\n",
       "RPL26     3.666667\n",
       "FTL       3.666667\n",
       "RPL15     3.641026\n",
       "RPL38     3.615385\n",
       "RPS16     3.564103\n",
       "RPS14     3.564103\n",
       "UBA52     3.538462\n",
       "RPS25     3.487179\n",
       "RPL10A    3.487179\n",
       "RPS4X     3.435897\n",
       "RPS19     3.410256\n",
       "FTH1      3.358974\n",
       "RPL10     3.333333\n",
       "TPT1      3.307692\n",
       "RPL34     3.307692\n",
       "RPS3      3.282051\n",
       "SAT1      3.282051\n",
       "RPS15     3.256410\n",
       "OAZ1      3.230769\n",
       "MT-ND1    3.230769\n",
       "ATP5O     3.230769\n",
       "dtype: float64"
      ]
     },
     "execution_count": 127,
     "metadata": {},
     "output_type": "execute_result"
    }
   ],
   "source": [
    "n_dataset_up_gene_mean.sort_values(ascending=False).head(50)"
   ]
  },
  {
   "cell_type": "code",
   "execution_count": 128,
   "id": "f92b78b3-dd30-45ae-8179-7ff36a3736f8",
   "metadata": {},
   "outputs": [],
   "source": [
    "frac_dataset_up_gene_mean = frac_datasets_up_per_ct.mean(axis=1)"
   ]
  },
  {
   "cell_type": "code",
   "execution_count": 129,
   "id": "ea9a8b55-7bb8-47cb-b1f0-1fa757176285",
   "metadata": {},
   "outputs": [
    {
     "data": {
      "text/plain": [
       "RPL13A    0.568862\n",
       "RPL27A    0.542243\n",
       "RPS17     0.523002\n",
       "RPL41     0.519452\n",
       "RPS6      0.513044\n",
       "RPL31     0.511628\n",
       "RPS20     0.509949\n",
       "RPL7      0.507741\n",
       "TMSB4X    0.498652\n",
       "RPS18     0.487655\n",
       "RPS2      0.484694\n",
       "RPL3      0.482902\n",
       "RPL23A    0.479443\n",
       "RPL21     0.477783\n",
       "RPS9      0.471260\n",
       "RPL23     0.469564\n",
       "MT-ND4    0.469469\n",
       "RPS27     0.461587\n",
       "RPS29     0.457482\n",
       "RPS11     0.452621\n",
       "RPL37A    0.448153\n",
       "MT-ND2    0.445019\n",
       "RPL27     0.443446\n",
       "RPLP2     0.442844\n",
       "RPL35     0.437144\n",
       "RPL26     0.435820\n",
       "RPL15     0.434998\n",
       "RPL18A    0.430927\n",
       "RPL13     0.428792\n",
       "MALAT1    0.427771\n",
       "FTL       0.426204\n",
       "RPL38     0.425983\n",
       "RPL9      0.420311\n",
       "UBA52     0.412706\n",
       "RPS14     0.403983\n",
       "RPS4X     0.400820\n",
       "RPS25     0.397541\n",
       "RPS16     0.396869\n",
       "RPL10A    0.396719\n",
       "RPL34     0.395041\n",
       "RPS19     0.390012\n",
       "FTH1      0.389940\n",
       "RPL32     0.383357\n",
       "RPL4      0.383039\n",
       "RPS3      0.378015\n",
       "RPL10     0.377954\n",
       "RPS15A    0.376325\n",
       "SAT1      0.375785\n",
       "RPS23     0.375237\n",
       "RPL36A    0.374635\n",
       "dtype: float64"
      ]
     },
     "execution_count": 129,
     "metadata": {},
     "output_type": "execute_result"
    }
   ],
   "source": [
    "frac_dataset_up_gene_mean.sort_values(ascending=False).head(50)"
   ]
  },
  {
   "cell_type": "markdown",
   "id": "4e595733-705f-476c-91e5-99de3f549e7f",
   "metadata": {},
   "source": [
    "## Store result:"
   ]
  },
  {
   "cell_type": "code",
   "execution_count": 130,
   "id": "34086fe2-9810-4a16-84b1-4ce4ff70f476",
   "metadata": {},
   "outputs": [],
   "source": [
    "df_to_store = pd.DataFrame(\n",
    "    data=frac_dataset_up_gene_mean,\n",
    "    columns=[\n",
    "        \"fraction of datasets in which significantly upregulated (mean across cell types)\"\n",
    "    ],\n",
    ").sort_values(\n",
    "    by=\"fraction of datasets in which significantly upregulated (mean across cell types)\",\n",
    "    ascending=False,\n",
    ")"
   ]
  },
  {
   "cell_type": "code",
   "execution_count": 131,
   "id": "c3ecdf46-9808-4050-99fb-5b532c5aac6a",
   "metadata": {},
   "outputs": [],
   "source": [
    "df_to_store.to_csv(os.path.join(dir_results, \"batch_gene_list.csv\"))"
   ]
  },
  {
   "cell_type": "markdown",
   "id": "449e8bc5-d3a8-4c94-ad9a-2450e4334bdb",
   "metadata": {},
   "source": [
    "## Analyze top 50:"
   ]
  },
  {
   "cell_type": "code",
   "execution_count": 132,
   "id": "0312d934-7046-44c3-9120-d48b0dfc9b4a",
   "metadata": {},
   "outputs": [],
   "source": [
    "top_50 = df_to_store.head(50).index.tolist()"
   ]
  },
  {
   "cell_type": "code",
   "execution_count": 133,
   "id": "c08c5a7a-7bf2-4da8-97a5-eadf56542afa",
   "metadata": {},
   "outputs": [],
   "source": [
    "n_ribosomal = np.sum(\n",
    "    [gene.startswith(\"RPL\") or gene.startswith(\"RPS\") for gene in top_50]\n",
    ")"
   ]
  },
  {
   "cell_type": "code",
   "execution_count": 134,
   "id": "3b040604-e9ed-4762-8ad6-e3f3f43731d3",
   "metadata": {},
   "outputs": [],
   "source": [
    "n_mitochondrial = np.sum([gene.startswith(\"MT-\") for gene in top_50])"
   ]
  },
  {
   "cell_type": "code",
   "execution_count": 135,
   "id": "57d13a28-9823-42a1-ab13-9a73a0fd47c3",
   "metadata": {},
   "outputs": [],
   "source": [
    "non_ribo_non_mito = [gene for gene in top_50 if gene[:3] not in [\"RPL\", \"RPS\", \"MT-\"]]"
   ]
  },
  {
   "cell_type": "code",
   "execution_count": 136,
   "id": "5c439b92-c46d-4c0a-81da-51de054fbc2e",
   "metadata": {},
   "outputs": [
    {
     "name": "stdout",
     "output_type": "stream",
     "text": [
      "n ribosomal genes: 42\n",
      "n_mitochondrial: 2\n"
     ]
    }
   ],
   "source": [
    "print(f\"n ribosomal genes: {n_ribosomal}\\nn_mitochondrial: {n_mitochondrial}\")"
   ]
  },
  {
   "cell_type": "code",
   "execution_count": 137,
   "id": "aa7beb4a-a301-4b88-a6ce-7bc7b4fb66e4",
   "metadata": {},
   "outputs": [
    {
     "data": {
      "text/plain": [
       "['TMSB4X', 'MALAT1', 'FTL', 'UBA52', 'FTH1', 'SAT1']"
      ]
     },
     "execution_count": 137,
     "metadata": {},
     "output_type": "execute_result"
    }
   ],
   "source": [
    "non_ribo_non_mito"
   ]
  },
  {
   "cell_type": "markdown",
   "id": "4fd5be26-2ab7-406f-ad82-a9477c6f062d",
   "metadata": {},
   "source": [
    "basically correspond to most highly expressed genes:"
   ]
  },
  {
   "cell_type": "code",
   "execution_count": 138,
   "id": "6f6c1bb1-53b2-459f-8945-2732d27bab5d",
   "metadata": {},
   "outputs": [
    {
     "data": {
      "image/png": "[encoded data removed]",
      "text/plain": [
       "<Figure size 360x828 with 1 Axes>"
      ]
     },
     "metadata": {
      "needs_background": "light"
     },
     "output_type": "display_data"
    }
   ],
   "source": [
    "sc.pl.highest_expr_genes(adata, n_top=50)"
   ]
  },
  {
   "cell_type": "code",
   "execution_count": null,
   "id": "b3616c34-075d-480c-a2e5-be3de688dbde",
   "metadata": {},
   "outputs": [],
   "source": []
  }
 ],
 "metadata": {
  "kernelspec": {
   "display_name": "Python 3 (ipykernel)",
   "language": "python",
   "name": "python3"
  },
  "language_info": {
   "codemirror_mode": {
    "name": "ipython",
    "version": 3
   },
   "file_extension": ".py",
   "mimetype": "text/x-python",
   "name": "python",
   "nbconvert_exporter": "python",
   "pygments_lexer": "ipython3",
   "version": "3.7.13"
  }
 },
 "nbformat": 4,
 "nbformat_minor": 5
}
