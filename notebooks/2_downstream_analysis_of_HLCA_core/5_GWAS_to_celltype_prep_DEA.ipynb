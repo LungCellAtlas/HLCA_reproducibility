{
 "cells": [
  {
   "cell_type": "markdown",
   "metadata": {},
   "source": [
    "# Preparation for LDSC mapping of GWAS results to HLCA cell types:"
   ]
  },
  {
   "cell_type": "markdown",
   "metadata": {},
   "source": [
    "### Import modules"
   ]
  },
  {
   "cell_type": "code",
   "execution_count": 1,
   "metadata": {},
   "outputs": [],
   "source": [
    "import scanpy as sc\n",
    "import os\n",
    "import pandas as pd"
   ]
  },
  {
   "cell_type": "markdown",
   "metadata": {},
   "source": [
    "for pretty code formatting:"
   ]
  },
  {
   "cell_type": "code",
   "execution_count": 2,
   "metadata": {},
   "outputs": [],
   "source": [
    "%load_ext lab_black"
   ]
  },
  {
   "cell_type": "markdown",
   "metadata": {},
   "source": [
    "### Set paths and load files:"
   ]
  },
  {
   "cell_type": "code",
   "execution_count": 10,
   "metadata": {},
   "outputs": [],
   "source": [
    "path_HLCA = \"../../data/HLCA_core_h5ads/HLCA_v2.h5ad\"\n",
    "dir_DEA_results_coarse_cts = \"../../results/DEAs/grouped_manann_vs_rest/\"\n",
    "dir_gene_sets_for_LDSC = \"../../results/LDSC_GWAS_to_celltype/celltype_genesets/\"  # directory where we will store the top 1000 genes for every cell type, will be used for LDSC GWAS analysis"
   ]
  },
  {
   "cell_type": "code",
   "execution_count": 5,
   "metadata": {},
   "outputs": [],
   "source": [
    "adata = sc.read_h5ad(path_HLCA)"
   ]
  },
  {
   "cell_type": "markdown",
   "metadata": {},
   "source": [
    "### Perform differential expression analysis and store in ldsc required format:"
   ]
  },
  {
   "cell_type": "markdown",
   "metadata": {},
   "source": [
    "perform differential expression analysis, one-versus-all:"
   ]
  },
  {
   "cell_type": "code",
   "execution_count": 7,
   "metadata": {},
   "outputs": [],
   "source": [
    "sc.tl.rank_genes_groups(\n",
    "    adata, groupby=\"manual_ann_grouped\", use_raw=False, method=\"wilcoxon\"\n",
    ")"
   ]
  },
  {
   "cell_type": "markdown",
   "metadata": {},
   "source": [
    "generate a dictionary that maps our gene names to ensembl ids:"
   ]
  },
  {
   "cell_type": "code",
   "execution_count": 8,
   "metadata": {},
   "outputs": [],
   "source": [
    "gene_name_to_ens_id = dict(zip(adata.var.index, adata.var.gene_ids))"
   ]
  },
  {
   "cell_type": "markdown",
   "metadata": {},
   "source": [
    "write dea results, and write top 1000 genes per cell type for LDSC GWAS stratification later. Use ensembl ids rather than gene names."
   ]
  },
  {
   "cell_type": "code",
   "execution_count": 11,
   "metadata": {},
   "outputs": [],
   "source": [
    "for ct in adata.obs.manual_ann_grouped.unique():\n",
    "    # extract dea dataframe and store to csv\n",
    "    dea_df = sc.get.rank_genes_groups_df(adata, group=ct)\n",
    "    # add ensembl ids\n",
    "    dea_df[\"gene_ids\"] = dea_df.names.map(gene_name_to_ens_id)\n",
    "    # remove spaces from cell type name\n",
    "    ct_no_spaces = ct.replace(\" \", \"_\")\n",
    "    #     write to csv\n",
    "    dea_df.to_csv(\n",
    "        os.path.join(dir_DEA_results_coarse_cts, f\"{ct_no_spaces}_vs_rest.csv\")\n",
    "    )\n",
    "    with open(\n",
    "        os.path.join(dir_gene_sets_for_LDSC, f\"{ct_no_spaces}.GeneSet\"),\n",
    "        \"w+\",\n",
    "    ) as f:\n",
    "        # exclude HLA genes, since they have funny LD patterns\n",
    "        dea_df_filt = dea_df.loc[~dea_df.names.str.startswith(\"HLA-\"), :]\n",
    "        dea_df_final = dea_df_filt.sort_values(by=\"scores\", ascending=False).iloc[:1000]\n",
    "        # make sure these do not include genes with negative t statistics\n",
    "        if (dea_df_final.scores < 0).any():\n",
    "            raise ValueError(\n",
    "                \"Note that the top1000 of your DEA are partly lower-expressed genes! Exiting.\"\n",
    "            )\n",
    "        for ens_id in dea_df_final[\"gene_ids\"].values:\n",
    "            f.write(ens_id + \"\\n\")"
   ]
  },
  {
   "cell_type": "markdown",
   "metadata": {},
   "source": [
    "also store all genes to file, for LDSC control:"
   ]
  },
  {
   "cell_type": "code",
   "execution_count": 12,
   "metadata": {},
   "outputs": [],
   "source": [
    "with open(os.path.join(dir_gene_sets_for_LDSC, \"control.GeneSet\"), \"w+\") as f:\n",
    "    for gene_name, ens_id in zip(adata.var.index, adata.var.gene_ids):\n",
    "        # exclude HLA genes\n",
    "        if not gene_name.startswith(\"HLA-\"):\n",
    "            f.write(ens_id + \"\\n\")"
   ]
  },
  {
   "cell_type": "code",
   "execution_count": null,
   "metadata": {},
   "outputs": [],
   "source": []
  }
 ],
 "metadata": {
  "kernelspec": {
   "display_name": "Python 3",
   "language": "python",
   "name": "python3"
  },
  "language_info": {
   "codemirror_mode": {
    "name": "ipython",
    "version": 3
   },
   "file_extension": ".py",
   "mimetype": "text/x-python",
   "name": "python",
   "nbconvert_exporter": "python",
   "pygments_lexer": "ipython3",
   "version": "3.7.5"
  }
 },
 "nbformat": 4,
 "nbformat_minor": 4
}
