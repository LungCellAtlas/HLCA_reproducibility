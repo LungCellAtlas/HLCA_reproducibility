{
 "cells": [
  {
   "cell_type": "markdown",
   "id": "71608704",
   "metadata": {},
   "source": [
    "### Generation of cell type signature matrices for deconvolution\n",
    "\n",
    "Here we generate input files for CIBERSORTx deconvolution: expression matrix with custom cell type composition. For each specified cell type we'll sample up to 'n_cells' cells to include in the reference (default: 200), to be used to generate a signature matrix in CIBERSORTx. Cells are sampled from a specified location (nose, airway, or parenchyma). The parameters here are the ones used for the paper, but the script can be adapted to tailer the matrices to any specific research question and bulk dataset by adjusting parameter settings/cell type subselection etc."
   ]
  },
  {
   "cell_type": "code",
   "execution_count": 1,
   "id": "0858be5b",
   "metadata": {},
   "outputs": [],
   "source": [
    "# import libraries\n",
    "import numpy as np\n",
    "import pandas as pd\n",
    "import scanpy as sc"
   ]
  },
  {
   "cell_type": "markdown",
   "id": "6938e210-4b86-4ee5-9bd3-cdb1c7058dee",
   "metadata": {},
   "source": [
    "set paths:"
   ]
  },
  {
   "cell_type": "code",
   "execution_count": null,
   "id": "91eb9bf0-1223-4f76-9ac9-7e02a3db98cc",
   "metadata": {},
   "outputs": [],
   "source": [
    "path_hlca = \"../../data/HLCA_core_h5ads/HLCA_v2.h5ad\"\n",
    "output_path = \"../../results/deconvolution/signature_matrices\" # no trailing slash"
   ]
  },
  {
   "cell_type": "markdown",
   "id": "f535519d",
   "metadata": {},
   "source": [
    "### Set up\n",
    "\n",
    "Specify \"location\" to subset reference set to anatomical location to sample from + specify file location of HLCA object. \"n_cells\" is number of cells included in the reference per cell type. \"gene_IDs\" refers to the format: Ensembl ID or HGNC symbol (specify \"HGNC\" or \"ENSG\" respectively), to match the bulk data."
   ]
  },
  {
   "cell_type": "code",
   "execution_count": 2,
   "id": "775a2773",
   "metadata": {},
   "outputs": [],
   "source": [
    "# set up & load HLCA data\n",
    "location = \"parenchyma\"\n",
    "adata = sc.read(path_hlca)\n",
    "n_cells = 200\n",
    "gene_IDs = \"HGNC\" # \"HGNC\" or \"ENSG\""
   ]
  },
  {
   "cell_type": "markdown",
   "id": "96deb037",
   "metadata": {},
   "source": [
    "#### Configure which cell types will be included. "
   ]
  },
  {
   "cell_type": "code",
   "execution_count": 3,
   "id": "7e5dd410",
   "metadata": {},
   "outputs": [],
   "source": [
    "# key = the column in adata.obs (so level 1 - 5)\n",
    "# value = the cell type as specified in that column\n",
    "# value can be a list of multiple cell types if we want to merge those\n",
    "\n",
    "# NOSE example:\n",
    "include_cell_types = [\n",
    "    (\"ann_level_4_clean\", [\"Basal resting\", \"Suprabasal\"]),\n",
    "    (\"ann_level_4_clean\", \"Hillock-like\"),\n",
    "    (\"ann_level_3_clean\", \"Multiciliated lineage\"),\n",
    "    (\"ann_level_4_clean\", \"Club\"),\n",
    "    (\"ann_level_4_clean\", \"Goblet\"),\n",
    "    (\"ann_level_3_clean\", \"T cell lineage\"),\n",
    "    (\"ann_level_3_clean\", \"Dendritic cells\")\n",
    "]"
   ]
  },
  {
   "cell_type": "markdown",
   "id": "63d664a0",
   "metadata": {},
   "source": [
    "#### Run check for typos / existence of the specified cell types"
   ]
  },
  {
   "cell_type": "code",
   "execution_count": 4,
   "id": "5d6b86f3",
   "metadata": {},
   "outputs": [
    {
     "name": "stdout",
     "output_type": "stream",
     "text": [
      "All good!\n"
     ]
    }
   ],
   "source": [
    "# run check for typing errors\n",
    "warning = False\n",
    "for item in include_cell_types:\n",
    "    \n",
    "    if type(item[1]) == str: # if just the one cell type (simple)\n",
    "        if item[1] not in adata.obs[item[0]].unique():\n",
    "            print(\"Warning: \" + item[1] + \" not found in column \" + item[0])\n",
    "            warning = True\n",
    "        \n",
    "    else: # if list of cell types to be combined\n",
    "        for cell_type in item[1]:\n",
    "            if cell_type not in adata.obs[item[0]].unique():\n",
    "                print(\"Warning: \" + cell_type + \" not found in column \" + item[0])\n",
    "                warning = True\n",
    "                \n",
    "if warning == False:\n",
    "    print(\"All good!\")"
   ]
  },
  {
   "cell_type": "markdown",
   "id": "f34ea541",
   "metadata": {},
   "source": [
    "#### Subsample to n_cells cells per cell type"
   ]
  },
  {
   "cell_type": "code",
   "execution_count": 5,
   "id": "9c8d3fab",
   "metadata": {
    "scrolled": true
   },
   "outputs": [
    {
     "name": "stderr",
     "output_type": "stream",
     "text": [
      "/home/tessa/anaconda3/lib/python3.9/site-packages/anndata/_core/anndata.py:1785: FutureWarning: X.dtype being converted to np.float32 from float64. In the next version of anndata (0.9) conversion will not be automatic. Pass dtype explicitly to avoid this warning. Pass `AnnData(X, dtype=X.dtype, ...)` to get the future behavour.\n",
      "  [AnnData(sparse.csr_matrix(a.shape), obs=a.obs) for a in all_adatas],\n",
      "/home/tessa/anaconda3/lib/python3.9/site-packages/anndata/_core/anndata.py:1785: FutureWarning: X.dtype being converted to np.float32 from float64. In the next version of anndata (0.9) conversion will not be automatic. Pass dtype explicitly to avoid this warning. Pass `AnnData(X, dtype=X.dtype, ...)` to get the future behavour.\n",
      "  [AnnData(sparse.csr_matrix(a.shape), obs=a.obs) for a in all_adatas],\n",
      "/home/tessa/anaconda3/lib/python3.9/site-packages/anndata/_core/anndata.py:1785: FutureWarning: X.dtype being converted to np.float32 from float64. In the next version of anndata (0.9) conversion will not be automatic. Pass dtype explicitly to avoid this warning. Pass `AnnData(X, dtype=X.dtype, ...)` to get the future behavour.\n",
      "  [AnnData(sparse.csr_matrix(a.shape), obs=a.obs) for a in all_adatas],\n",
      "/home/tessa/anaconda3/lib/python3.9/site-packages/anndata/_core/anndata.py:1785: FutureWarning: X.dtype being converted to np.float32 from float64. In the next version of anndata (0.9) conversion will not be automatic. Pass dtype explicitly to avoid this warning. Pass `AnnData(X, dtype=X.dtype, ...)` to get the future behavour.\n",
      "  [AnnData(sparse.csr_matrix(a.shape), obs=a.obs) for a in all_adatas],\n",
      "/home/tessa/anaconda3/lib/python3.9/site-packages/anndata/_core/anndata.py:1785: FutureWarning: X.dtype being converted to np.float32 from float64. In the next version of anndata (0.9) conversion will not be automatic. Pass dtype explicitly to avoid this warning. Pass `AnnData(X, dtype=X.dtype, ...)` to get the future behavour.\n",
      "  [AnnData(sparse.csr_matrix(a.shape), obs=a.obs) for a in all_adatas],\n",
      "/home/tessa/anaconda3/lib/python3.9/site-packages/anndata/_core/anndata.py:1785: FutureWarning: X.dtype being converted to np.float32 from float64. In the next version of anndata (0.9) conversion will not be automatic. Pass dtype explicitly to avoid this warning. Pass `AnnData(X, dtype=X.dtype, ...)` to get the future behavour.\n",
      "  [AnnData(sparse.csr_matrix(a.shape), obs=a.obs) for a in all_adatas],\n"
     ]
    }
   ],
   "source": [
    "adata = adata[adata.obs['anatomical_region_level_1'] == location]\n",
    "\n",
    "count_subsets = 0\n",
    "for item in include_cell_types:\n",
    "    \n",
    "    # subset adata to relevant cell types\n",
    "    if type(item[1]) == str:\n",
    "        adata_subset = adata[adata.obs[item[0]] == item[1]].copy()\n",
    "        adata_subset.obs['custom_label'] = item[1]\n",
    "    else:\n",
    "        adata_subset = adata[adata.obs[item[0]].isin(item[1])].copy()\n",
    "        adata_subset.obs['custom_label'] = ' & '.join(item[1])\n",
    "    \n",
    "    # subsample to n_cells cells\n",
    "    if adata_subset.obs.shape[0] > n_cells:\n",
    "        sc.pp.subsample(adata_subset, n_obs=n_cells, random_state=0)\n",
    "    \n",
    "    # merge with previous cell types' data\n",
    "    if count_subsets == 0:\n",
    "        adata_subsampled = adata_subset\n",
    "    else:\n",
    "        adata_subsampled = adata_subsampled.concatenate(adata_subset)\n",
    "    \n",
    "    count_subsets +=1"
   ]
  },
  {
   "cell_type": "markdown",
   "id": "5f860938",
   "metadata": {},
   "source": [
    "#### Save cell counts matrix with HGNC gene names"
   ]
  },
  {
   "cell_type": "code",
   "execution_count": 6,
   "id": "3bed889a",
   "metadata": {},
   "outputs": [
    {
     "name": "stderr",
     "output_type": "stream",
     "text": [
      "/tmp/ipykernel_1043170/268086778.py:12: FutureWarning: The frame.append method is deprecated and will be removed from pandas in a future version. Use pandas.concat instead.\n",
      "  counts_withInfo = counts_withInfo.append(counts_layer)\n"
     ]
    },
    {
     "name": "stdout",
     "output_type": "stream",
     "text": [
      "done parenchyma\n"
     ]
    }
   ],
   "source": [
    "adata = adata_subsampled\n",
    "    \n",
    "# write scRNA-seq counts matrix with cols = samples and rows = genes\n",
    "counts_layer = pd.DataFrame(adata.layers['counts'].todense(), index=adata.to_df().index, \n",
    "                            columns=adata.to_df().columns)    \n",
    "counts_layer = counts_layer.transpose()\n",
    "\n",
    "# get labels as first row (calling it GeneSymbols to get the colname of the first col right)\n",
    "# (not entirely sure if that's neccessary, but let's run with it..)\n",
    "adata.obs['GeneSymbols'] = adata.obs['custom_label']\n",
    "counts_withInfo = pd.DataFrame(adata.obs['GeneSymbols']).transpose()\n",
    "counts_withInfo = counts_withInfo.append(counts_layer)\n",
    "\n",
    "# write\n",
    "counts_withInfo.to_csv(output_path + \"/\" + location + \"_subsampled_matrix_max\" + str(n_cells) + \"cells_HGNC.txt\", \n",
    "                       header=False, sep='\\t')\n",
    "print(\"done \" + location)"
   ]
  },
  {
   "cell_type": "markdown",
   "id": "51d9c58d",
   "metadata": {},
   "source": [
    "#### Save cell counts matrix with Ensembl gene names"
   ]
  },
  {
   "cell_type": "code",
   "execution_count": 7,
   "id": "f0f5eb1c",
   "metadata": {},
   "outputs": [
    {
     "name": "stderr",
     "output_type": "stream",
     "text": [
      "/tmp/ipykernel_1043170/1661205056.py:12: FutureWarning: The frame.append method is deprecated and will be removed from pandas in a future version. Use pandas.concat instead.\n",
      "  counts_withInfo = counts_withInfo.append(counts_layer)\n"
     ]
    },
    {
     "name": "stdout",
     "output_type": "stream",
     "text": [
      "done parenchyma\n"
     ]
    }
   ],
   "source": [
    "adata = adata_subsampled\n",
    "        \n",
    "# write scRNA-seq counts matrix with cols = samples and rows = genes\n",
    "counts_layer = pd.DataFrame(adata.layers['counts'].todense(), index=adata.to_df().index, \n",
    "                            columns=adata.var['gene_ids'])    \n",
    "counts_layer = counts_layer.transpose()\n",
    "\n",
    "# get labels as first row (calling it GeneSymbols to get the colname of the first col right)\n",
    "# (not entirely sure if that's neccessary, but let's run with it..)\n",
    "adata.obs['GeneSymbols'] = adata.obs['custom_label']\n",
    "counts_withInfo = pd.DataFrame(adata.obs['GeneSymbols']).transpose()\n",
    "counts_withInfo = counts_withInfo.append(counts_layer)\n",
    "\n",
    "# write\n",
    "counts_withInfo.to_csv(output_path + \"/\" + location + \"_subsampled_matrix_max\" + str(n_cells) + \"cells_ENSG.txt\", \n",
    "                       header=False, sep='\\t')\n",
    "print(\"done \" + location)"
   ]
  }
 ],
 "metadata": {
  "kernelspec": {
   "display_name": "Python 3 (ipykernel)",
   "language": "python",
   "name": "python3"
  },
  "language_info": {
   "codemirror_mode": {
    "name": "ipython",
    "version": 3
   },
   "file_extension": ".py",
   "mimetype": "text/x-python",
   "name": "python",
   "nbconvert_exporter": "python",
   "pygments_lexer": "ipython3",
   "version": "3.7.13"
  }
 },
 "nbformat": 4,
 "nbformat_minor": 5
}
