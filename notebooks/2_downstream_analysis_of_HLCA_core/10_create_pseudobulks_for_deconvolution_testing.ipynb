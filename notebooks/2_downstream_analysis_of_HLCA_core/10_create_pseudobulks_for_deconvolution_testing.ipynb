{
 "cells": [
  {
   "cell_type": "markdown",
   "id": "8b7d9cb6",
   "metadata": {},
   "source": [
    "### Script: export pseudobulk sample data for CIBERSORTx deconvolution"
   ]
  },
  {
   "cell_type": "markdown",
   "id": "f70cab30-2692-491a-aeb7-7dd8fe465ae1",
   "metadata": {},
   "source": [
    "Here we create pseudobulks from HLCA samples to test bulk deconvolution using HLCA-based cell type signature matrices on."
   ]
  },
  {
   "cell_type": "markdown",
   "id": "1fe09463-2928-4d7d-84df-e4ce6e09340c",
   "metadata": {},
   "source": [
    "Notebook written by Tessa Gillett."
   ]
  },
  {
   "cell_type": "code",
   "execution_count": 2,
   "id": "a8aae65b",
   "metadata": {},
   "outputs": [],
   "source": [
    "import numpy as np\n",
    "import pandas as pd\n",
    "import scanpy as sc"
   ]
  },
  {
   "cell_type": "code",
   "execution_count": null,
   "id": "bf8f4162",
   "metadata": {},
   "outputs": [],
   "source": [
    "def pseudobulk(adata, groupby):\n",
    "    \n",
    "    # groupby is a list of names of adata.obs columns used to split cells into pseudobulk samples\n",
    "    # e.g. groupby = ['donor', 'celltype'] --> each pseudobulk 'sample' is the aggregation of a given celltype \n",
    "    # for a given donor\n",
    "    \n",
    "    # add metadata column for pseudobulk 'sample'\n",
    "    first_col = True\n",
    "    for col in groupby: \n",
    "        if first_col == True:\n",
    "            adata.obs['pseudobulk_sample'] = adata.obs[col].astype(str)\n",
    "            first_col = False\n",
    "        else:\n",
    "            adata.obs['pseudobulk_sample'] = adata.obs['pseudobulk_sample'] + '_' + adata.obs[col].astype(str)\n",
    "    \n",
    "    # get subset of raw count matrix for each 'sample' --> sum into single pseudobulk column.\n",
    "    first_label = True\n",
    "    for label in adata.obs['pseudobulk_sample'].unique():\n",
    "        bool_mask = adata.obs['pseudobulk_sample'] == label # boolean mask for cells of pseudobulk sample\n",
    "        subset_counts = adata.layers['counts'][bool_mask,] # subset count matrix for pseudobulk sample\n",
    "\n",
    "        # sum values over all cells in 'sample' for each feature:\n",
    "        subset_pseudobulk = pd.DataFrame(subset_counts.sum(axis=0).transpose(), columns=[label])\n",
    "    \n",
    "        # merge with the other samples\n",
    "        if first_label == True:\n",
    "            pseudobulk_matrix = subset_pseudobulk\n",
    "            first_label = False\n",
    "        else:\n",
    "            pseudobulk_matrix = pd.concat([pseudobulk_matrix, subset_pseudobulk], axis=1)\n",
    "        \n",
    "        \n",
    "    # add feature names\n",
    "    pseudobulk_matrix.index = adata.var.index\n",
    "\n",
    "    return pseudobulk_matrix"
   ]
  },
  {
   "cell_type": "markdown",
   "id": "0db2c54b",
   "metadata": {},
   "source": [
    "### Reading in & inspecting HLCA data"
   ]
  },
  {
   "cell_type": "code",
   "execution_count": 4,
   "id": "5b616f54",
   "metadata": {
    "collapsed": true,
    "jupyter": {
     "outputs_hidden": true
    }
   },
   "outputs": [
    {
     "data": {
      "text/plain": [
       "AnnData object with n_obs × n_vars = 584944 × 28527\n",
       "    obs: 'sample', 'original_celltype_ann', 'study_long', 'study', 'last_author_PI', 'subject_ID', 'subject_ID_as_published', 'pre_or_postnatal', 'age_in_years', 'age_range', 'sex', 'ethnicity', 'mixed_ethnicity', 'smoking_status', 'smoking_history', 'BMI', 'known_lung_disease', 'condition', 'subject_type', 'cause_of_death', 'sample_type', 'anatomical_region_coarse', 'anatomical_region_detailed', 'tissue_dissociation_protocol', 'cells_or_nuclei', 'single_cell_platform', \"3'_or_5'\", 'enrichment', 'sequencing_platform', 'reference_genome_coarse', 'ensembl_release_reference_genome', 'cell_ranger_version', 'disease_status', 'fresh_or_frozen', 'cultured', 'cell_viability_%', 'comments', 'Processing_site', 'dataset', 'anatomical_region_level_1', 'anatomical_region_level_2', 'anatomical_region_level_3', 'anatomical_region_highest_res', 'age', 'ann_level_1', 'ann_level_2', 'ann_level_3', 'ann_level_4', 'ann_level_5', 'ann_highest_res', 'ann_new', 'n_genes', 'total_counts', 'log10_total_counts', 'n_genes_detected', 'mito_frac', 'ribo_frac', 'compl', 'size_factors', 'ann_level_1_clean', 'ann_level_2_clean', 'ann_level_3_clean', 'ann_level_4_clean', 'ann_level_5_clean', 'scanvi_label', 'leiden_1', 'leiden_2', 'leiden_3', 'anatomical_region_ccf_score', 'manual_ann', 'leiden_4', 'reannotation_type', 'leiden_5', 'original_ann_level_1', 'original_ann_level_2', 'original_ann_level_3', 'original_ann_level_4', 'original_ann_level_5', 'original_ann_highest_res', 'original_ann_new', 'original_ann_level_1_clean', 'original_ann_level_2_clean', 'original_ann_level_3_clean', 'original_ann_level_4_clean', 'original_ann_level_5_clean', 'cluster_annotated', 'manual_ann_grouped', 'entropy_subject_ID_leiden_3', 'entropy_dataset_leiden_3', 'entropy_original_ann_level_1_leiden_3', 'entropy_original_ann_level_2_clean_leiden_3', 'entropy_original_ann_level_3_clean_leiden_3'\n",
       "    var: 'gene_symbols', 'n_cells', 'highly_variable', 'means', 'dispersions', 'dispersions_norm', 'highly_variable_nbatches', 'highly_variable_intersection', 'gene_ids'\n",
       "    uns: 'anatomical_region_level_1_colors', 'ann_level_1_clean_colors', 'ann_level_1_colors', 'ann_level_2_clean_colors', 'ann_level_2_colors', 'ann_level_3_clean_colors', 'ann_level_3_colors', 'ann_level_4_clean_colors', 'ann_level_4_colors', 'ann_level_5_clean_colors', 'ann_level_5_colors', 'dataset_colors', 'fresh_or_frozen_colors', 'hvg', 'leiden', 'leiden_1_colors', 'leiden_2_colors', 'leiden_3_colors', 'leiden_4_colors', 'leiden_5_colors', 'manual_ann_colors', 'manual_ann_grouped_colors', 'neighbors', 'original_ann_level_1_colors', 'pca', 'rank_genes_groups', 'reannotation_type_colors', 'scanvi_label_colors', 'study_colors', 'umap'\n",
       "    obsm: 'X_pca', 'X_scanvi_emb', 'X_umap', 'X_umap_scanvi', 'X_umap_unintegrated'\n",
       "    varm: 'PCs'\n",
       "    layers: 'counts'\n",
       "    obsp: 'connectivities', 'distances'"
      ]
     },
     "execution_count": 4,
     "metadata": {},
     "output_type": "execute_result"
    }
   ],
   "source": [
    "# read in annData object\n",
    "adata = sc.read(\"../data/HLCA_v1.1_20220725.h5ad\")\n",
    "adata"
   ]
  },
  {
   "cell_type": "code",
   "execution_count": null,
   "id": "7943f724",
   "metadata": {},
   "outputs": [],
   "source": [
    "# which studies do we have?\n",
    "adata.obs['study'].unique()"
   ]
  },
  {
   "cell_type": "markdown",
   "id": "2ad6e64b",
   "metadata": {},
   "source": [
    "### Get samples for airway"
   ]
  },
  {
   "cell_type": "code",
   "execution_count": 5,
   "id": "32249427",
   "metadata": {},
   "outputs": [],
   "source": [
    "# check which samples we have\n",
    "adata_airway = adata[adata.obs['study'].isin(['Nawijn_2021', 'Seibold_2020'])]\n",
    "# adata_airway.obs.groupby('sample')['sample'].count()"
   ]
  },
  {
   "cell_type": "code",
   "execution_count": 6,
   "id": "817e8f71",
   "metadata": {},
   "outputs": [],
   "source": [
    "# airway samples from Nawijn '21 only, all from Seibold:\n",
    "samples_airway = ['GRO-01_biopsy', 'GRO-02_biopsy', 'GRO-03_biopsy', 'GRO-04_biopsy', 'GRO-05_biopsy', \n",
    "                  'GRO-06_biopsy', 'GRO-07_biopsy', 'GRO-08_biopsy', 'GRO-09_biopsy', 'GRO-10_biopsy',\n",
    "                  'GRO-11_biopsy', 'T85', 'T89', 'T90', 'T101', 'T120', 'T121', 'T126', 'T137', 'T153',\n",
    "                  'T154', 'T164', 'T165', 'T166', 'T167']\n",
    "adata_airway = adata_airway[adata_airway.obs['sample'].isin(samples_airway)]"
   ]
  },
  {
   "cell_type": "markdown",
   "id": "76b2fc23",
   "metadata": {},
   "source": [
    "### Get samples for nose"
   ]
  },
  {
   "cell_type": "code",
   "execution_count": 9,
   "id": "6a81f3c3",
   "metadata": {
    "scrolled": true
   },
   "outputs": [],
   "source": [
    "# check which samples we have\n",
    "adata_nose = adata[adata.obs['study'].isin(['Jain_Misharin_2021', 'Barbry_Leroy_2020'])]\n",
    "# adata_nose.obs.groupby('sample')['sample'].count()"
   ]
  },
  {
   "cell_type": "code",
   "execution_count": null,
   "id": "046378de",
   "metadata": {
    "scrolled": true
   },
   "outputs": [],
   "source": [
    "# pd.crosstab(adata_nose[adata_nose.obs['study']=='Jain_Misharin_2021'].obs['sample'], \n",
    "#             adata_nose.obs['single_cell_platform'])"
   ]
  },
  {
   "cell_type": "code",
   "execution_count": null,
   "id": "c0c2f47a",
   "metadata": {
    "scrolled": true
   },
   "outputs": [],
   "source": [
    "# pd.crosstab(adata_nose[adata_nose.obs['study']=='Barbry_Leroy_2020'].obs['sample'], \n",
    "#             adata_nose.obs['anatomical_region_coarse'])"
   ]
  },
  {
   "cell_type": "code",
   "execution_count": 10,
   "id": "b90e1b89",
   "metadata": {},
   "outputs": [],
   "source": [
    "# v2 samples from Jain_Misharin, nasal samples from Barbry_Leroy\n",
    "samples_nose = ['SC181', 'SC182', 'SC183', 'SC184', 'SC185', 'D322_Biop_Nas1', 'D339_Biop_Nas1', 'D344_Biop_Nas1',\n",
    "               'D353_Brus_Nas1', 'D363_Brus_Nas1', 'D367_Brus_Nas1', 'D372_Brus_Nas1']\n",
    "adata_nose = adata_nose[adata_nose.obs['sample'].isin(samples_nose)]"
   ]
  },
  {
   "cell_type": "markdown",
   "id": "f8d55595",
   "metadata": {},
   "source": [
    "### Get samples for parenchyma"
   ]
  },
  {
   "cell_type": "code",
   "execution_count": 12,
   "id": "ace25d00",
   "metadata": {},
   "outputs": [],
   "source": [
    "adata_parenchyma = adata[adata.obs['study'].isin(['Banovich_Kropski_2020', 'Misharin_Budinger_2018'])]\n",
    "# adata_parenchyma.obs.groupby('sample')['sample'].count()"
   ]
  },
  {
   "cell_type": "code",
   "execution_count": null,
   "id": "86c626d2",
   "metadata": {},
   "outputs": [],
   "source": [
    "# # which samples do we have?\n",
    "# pd.crosstab(adata_parenchyma.obs['sample'], adata_parenchyma.obs['anatomical_region_coarse'])\n",
    "# pd.crosstab(adata_parenchyma.obs['sample'], adata_parenchyma.obs['study'])"
   ]
  },
  {
   "cell_type": "code",
   "execution_count": 13,
   "id": "588b962b",
   "metadata": {},
   "outputs": [],
   "source": [
    "# all from Misharin_Budinger_2018, 10 samples from Banovich_Kropski_2020 with >2500 cells\n",
    "samples_parenchyma = ['SC07', 'SC10', 'SC18', 'SC20', 'SC22', 'SC24', 'SC27', 'SC29', 'VUHD101', 'VUHD68', \n",
    "                      'VUHD67', 'VUHD66', 'F02617', 'F02611', 'F02607', 'F02528', 'F02526', 'F02524']"
   ]
  },
  {
   "cell_type": "code",
   "execution_count": 14,
   "id": "9a02f268",
   "metadata": {},
   "outputs": [],
   "source": [
    "adata_parenchyma = adata_parenchyma[adata_parenchyma.obs['sample'].isin(samples_parenchyma)]"
   ]
  },
  {
   "cell_type": "markdown",
   "id": "422cc7f4",
   "metadata": {},
   "source": [
    "### Create pseudobulk data"
   ]
  },
  {
   "cell_type": "code",
   "execution_count": null,
   "id": "e4f5b408",
   "metadata": {},
   "outputs": [],
   "source": [
    "# create pseudobulk with samples splitted by categories listed in the second argument\n",
    "pseudobulk_airway = pseudobulk(adata_airway, ['sample'])\n",
    "\n",
    "# write pseudobulk raw count matrix \n",
    "pseudobulk_airway.to_csv('../data/pseudobulk_data/pseudobulk_airway.csv')  "
   ]
  },
  {
   "cell_type": "code",
   "execution_count": null,
   "id": "345cbda8",
   "metadata": {},
   "outputs": [],
   "source": [
    "# create pseudobulk with samples splitted by categories listed in the second argument\n",
    "pseudobulk_nose = pseudobulk(adata_nose, ['sample'])\n",
    "\n",
    "# write pseudobulk raw count matrix \n",
    "pseudobulk_nose.to_csv('../data/pseudobulk_data/pseudobulk_nose.csv')  "
   ]
  },
  {
   "cell_type": "code",
   "execution_count": null,
   "id": "48dfc743",
   "metadata": {},
   "outputs": [],
   "source": [
    "# create pseudobulk with samples splitted by categories listed in the second argument\n",
    "pseudobulk_parenchyma = pseudobulk(adata_parenchyma, ['sample'])\n",
    "\n",
    "# write pseudobulk raw count matrix \n",
    "pseudobulk_parenchyma.to_csv('../data/pseudobulk_data/pseudobulk_parenchyma.csv')  "
   ]
  }
 ],
 "metadata": {
  "kernelspec": {
   "display_name": "Python 3 (ipykernel)",
   "language": "python",
   "name": "python3"
  },
  "language_info": {
   "codemirror_mode": {
    "name": "ipython",
    "version": 3
   },
   "file_extension": ".py",
   "mimetype": "text/x-python",
   "name": "python",
   "nbconvert_exporter": "python",
   "pygments_lexer": "ipython3",
   "version": "3.7.13"
  }
 },
 "nbformat": 4,
 "nbformat_minor": 5
}
