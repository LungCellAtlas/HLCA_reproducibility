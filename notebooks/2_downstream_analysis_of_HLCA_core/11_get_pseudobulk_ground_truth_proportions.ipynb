{
 "cells": [
  {
   "cell_type": "markdown",
   "id": "fd9e8639",
   "metadata": {},
   "source": [
    "### Getting cell count data for pseudobulk samples\n",
    "\n",
    "In this script we determine the ground truth cell type proportions for the pseudobulks created in notebook 10. "
   ]
  },
  {
   "cell_type": "markdown",
   "id": "91b814a7-2dd9-4ad7-ae07-460539639219",
   "metadata": {},
   "source": [
    "Script written by Tessa Gillett."
   ]
  },
  {
   "cell_type": "code",
   "execution_count": 1,
   "id": "e63de7b4",
   "metadata": {},
   "outputs": [],
   "source": [
    "import numpy as np\n",
    "import pandas as pd\n",
    "import scanpy as sc\n",
    "\n",
    "# read in annData object\n",
    "adata = sc.read(\"../HLCA_v1.1_20220725.h5ad\")"
   ]
  },
  {
   "cell_type": "markdown",
   "id": "97064ea6",
   "metadata": {},
   "source": [
    "#### Get airway pseudobulk subset"
   ]
  },
  {
   "cell_type": "code",
   "execution_count": 2,
   "id": "7fea70d9",
   "metadata": {},
   "outputs": [],
   "source": [
    "adata_airway = adata[adata.obs['study'].isin(['Nawijn_2021', 'Seibold_2020'])]\n",
    "\n",
    "samples_airway = ['GRO-01_biopsy', 'GRO-02_biopsy', 'GRO-03_biopsy', 'GRO-04_biopsy', 'GRO-05_biopsy', \n",
    "                  'GRO-06_biopsy', 'GRO-07_biopsy', 'GRO-08_biopsy', 'GRO-09_biopsy', 'GRO-10_biopsy',\n",
    "                  'GRO-11_biopsy', 'T85', 'T89', 'T90', 'T101', 'T120', 'T121', 'T126', 'T137', 'T153',\n",
    "                  'T154', 'T164', 'T165', 'T166', 'T167']\n",
    "\n",
    "adata_airway = adata_airway[adata_airway.obs['sample'].isin(samples_airway)]"
   ]
  },
  {
   "cell_type": "markdown",
   "id": "83a4b551",
   "metadata": {},
   "source": [
    "#### Get nose pseudobulk subset"
   ]
  },
  {
   "cell_type": "code",
   "execution_count": null,
   "id": "8d7a1568",
   "metadata": {},
   "outputs": [],
   "source": [
    "adata_nose = adata[adata.obs['study'].isin(['Jain_Misharin_2021', 'Barbry_Leroy_2020'])]\n",
    "\n",
    "samples_nose = ['SC181', 'SC182', 'SC183', 'SC184', 'SC185', 'D322_Biop_Nas1', 'D339_Biop_Nas1', 'D344_Biop_Nas1',\n",
    "               'D353_Brus_Nas1', 'D363_Brus_Nas1', 'D367_Brus_Nas1', 'D372_Brus_Nas1']\n",
    "\n",
    "adata_nose = adata_nose[adata_nose.obs['sample'].isin(samples_nose)]"
   ]
  },
  {
   "cell_type": "markdown",
   "id": "b085d9be",
   "metadata": {},
   "source": [
    "#### Get parenchyma pseudobulk subset"
   ]
  },
  {
   "cell_type": "code",
   "execution_count": null,
   "id": "08a048c7",
   "metadata": {},
   "outputs": [],
   "source": [
    "adata_parenchyma = adata[adata.obs['study'].isin(['Banovich_Kropski_2020', 'Misharin_Budinger_2018'])]\n",
    "\n",
    "samples_parenchyma = ['SC07', 'SC10', 'SC18', 'SC20', 'SC22', 'SC24', 'SC27', 'SC29', 'VUHD101', 'VUHD68', \n",
    "                      'VUHD67', 'VUHD66', 'F02617', 'F02611', 'F02607', 'F02528', 'F02526', 'F02524']\n",
    "\n",
    "adata_parenchyma = adata_parenchyma[adata_parenchyma.obs['sample'].isin(samples_parenchyma)]"
   ]
  },
  {
   "cell_type": "markdown",
   "id": "6b0456e9",
   "metadata": {},
   "source": [
    "#### Add custom_label annotations"
   ]
  },
  {
   "cell_type": "code",
   "execution_count": null,
   "id": "4b2c01bd",
   "metadata": {},
   "outputs": [],
   "source": [
    "# key = the column in adata.obs (so level 1 - 5)\n",
    "# value = the cell type as specified in that column\n",
    "# value can be a list of multiple cell types if we want to merge those\n",
    "\n",
    "# PARENCHYMA\n",
    "include_cell_types_parenchyma = [\n",
    "    (\"ann_level_3_clean\", \"EC arterial\"),    \n",
    "    (\"ann_level_3_clean\", \"EC capillary\"),\n",
    "    (\"ann_level_3_clean\", \"EC venous\"),    \n",
    "    (\"ann_level_2_clean\", \"Lymphatic EC\"),\n",
    "    (\"ann_level_3_clean\", [\"Basal\", \"Secretory\"]),    \n",
    "    (\"ann_level_3_clean\", \"Multiciliated lineage\"),\n",
    "    (\"ann_level_3_clean\", \"AT2\"),\n",
    "    (\"ann_level_3_clean\", \"B cell lineage\"),\n",
    "    (\"ann_level_3_clean\", [\"Innate lymphoid cell NK\", \"T cell lineage\"]),\n",
    "    (\"ann_level_3_clean\", \"Dendritic cells\"),\n",
    "    (\"ann_level_4_clean\", 'Alveolar macrophages'),\n",
    "    (\"ann_level_4_clean\", \"Interstitial macrophages\"),\n",
    "    (\"ann_level_3_clean\", \"Mast cells\"),\n",
    "    (\"ann_level_3_clean\", \"Monocytes\"),\n",
    "    (\"ann_level_2_clean\", \"Fibroblast lineage\"),\n",
    "    (\"ann_level_2_clean\", \"Smooth muscle\")\n",
    "]    "
   ]
  },
  {
   "cell_type": "code",
   "execution_count": null,
   "id": "7bb13bab",
   "metadata": {},
   "outputs": [],
   "source": [
    "# NOSE\n",
    "include_cell_types_nose = [\n",
    "    (\"ann_level_4_clean\", [\"Basal resting\", \"Suprabasal\"]),\n",
    "    (\"ann_level_4_clean\", \"Hillock-like\"),\n",
    "    (\"ann_level_3_clean\", \"Multiciliated lineage\"),\n",
    "    (\"ann_level_4_clean\", \"Club\"),\n",
    "    (\"ann_level_4_clean\", \"Goblet\"),\n",
    "    (\"ann_level_3_clean\", \"T cell lineage\"),\n",
    "    (\"ann_level_3_clean\", \"Dendritic cells\")\n",
    "]"
   ]
  },
  {
   "cell_type": "code",
   "execution_count": 3,
   "id": "537d279d",
   "metadata": {},
   "outputs": [],
   "source": [
    "# AIRWAY\n",
    "include_cell_types_airway = [\n",
    "    (\"ann_level_3_clean\", \"EC capillary\"), \n",
    "    (\"ann_level_3_clean\", \"EC venous\"),\n",
    "    (\"ann_level_3_clean\", \"B cell lineage\"),\n",
    "    (\"ann_level_4_clean\", \"NK cells\"),\n",
    "    (\"ann_level_4_clean\", \"CD4 T cells\"),\n",
    "    (\"ann_level_4_clean\", \"CD8 T cells\"),\n",
    "    (\"ann_level_3_clean\", \"Dendritic cells\"),\n",
    "    (\"ann_level_4_clean\", \"Alveolar macrophages\"),\n",
    "    (\"ann_level_4_clean\", \"Interstitial macrophages\"),\n",
    "    (\"ann_level_3_clean\", \"Mast cells\"),\n",
    "    (\"ann_level_3_clean\", \"Monocytes\"),\n",
    "    (\"ann_level_3_clean\", \"Fibroblasts\"),\n",
    "    (\"ann_level_2_clean\", \"Smooth muscle\"),\n",
    "    (\"ann_level_3_clean\", [\"Basal\", \"Secretory\"]), \n",
    "    (\"ann_level_3_clean\", \"Multiciliated lineage\") \n",
    "]"
   ]
  },
  {
   "cell_type": "code",
   "execution_count": 4,
   "id": "f4993929",
   "metadata": {},
   "outputs": [],
   "source": [
    "def write_count_file(adata, outfile, include_cell_types):\n",
    "    \n",
    "    samples = adata.obs['sample'].unique()\n",
    "    \n",
    "    with open(outfile, 'w') as f:\n",
    "        f.write(\"sample,custom_label,sample\\n\") # header\n",
    "        \n",
    "        for i in include_cell_types:\n",
    "            for s in samples:\n",
    "                \n",
    "                if type(i[1]) == str:\n",
    "                    nr = adata.obs[(adata.obs['sample'] == s) & (adata.obs[i[0]] == i[1])].shape[0]\n",
    "                    f.write(s + ',' + i[1] + ',' + str(nr) + '\\n')\n",
    "                else:\n",
    "                    nr = adata.obs[(adata.obs['sample'] == s) & (adata.obs[i[0]].isin( i[1]))].shape[0]\n",
    "                    f.write(s + ',' + ' & '.join(i[1]) + ',' + str(nr) + '\\n')\n",
    "                \n",
    "        "
   ]
  },
  {
   "cell_type": "code",
   "execution_count": null,
   "id": "b0a445b5",
   "metadata": {},
   "outputs": [],
   "source": [
    "write_count_file(adata_parenchyma, \n",
    "                 '../pseudobulk_analysis/cell_counts_pseudobulk_samples/cell_counts_pseudobulk_parenchyma.csv',\n",
    "                include_cell_types_parenchyma)"
   ]
  },
  {
   "cell_type": "code",
   "execution_count": null,
   "id": "66b1ab23",
   "metadata": {},
   "outputs": [],
   "source": [
    "write_count_file(adata_nose, \n",
    "                 '../pseudobulk_analysis/cell_counts_pseudobulk_samples/cell_counts_pseudobulk_nose.csv',\n",
    "                include_cell_types_nose)"
   ]
  },
  {
   "cell_type": "code",
   "execution_count": 5,
   "id": "61fb7767",
   "metadata": {},
   "outputs": [],
   "source": [
    "write_count_file(adata_airway, \n",
    "                 '../pseudobulk_analysis/cell_counts_pseudobulk_samples/cell_counts_pseudobulk_airway.csv',\n",
    "                include_cell_types_airway)"
   ]
  },
  {
   "cell_type": "markdown",
   "id": "908a2959-638b-478c-b581-68c8171bf5a0",
   "metadata": {},
   "source": [
    "Note: the rest of the deconvolution analysis is performed in bash and R. See bash and R subdirectories in scripts directory of GitHub repo."
   ]
  },
  {
   "cell_type": "markdown",
   "id": "820bf6bc-224b-4e80-9139-62f41b5be5a9",
   "metadata": {},
   "source": [
    "Order of scripts:\n",
    "1. [../../scripts/bash/bulk_deconvolution/convolution_pseudobulks.sh](../../scripts/bash/bulk_deconvolution/convolution_pseudobulks.sh) - commands used to do the deconvolutions on the pseudobulk data<br>\n",
    "2. [../../scripts/R/bulk_deconvolution/process_pseudobulk_deconvolution.R](../../scripts/R/bulk_deconvolution/process_pseudobulk_deconvolution.R) - code to look at the pseudobulk deconvolution results, e.g. generate the plots with the correlations between deconvolution proportions and ground truth<br>\n",
    "3. [../../scripts/R/preprocess_bulk_data.R](../../scripts/R/preprocess_bulk_data.R) - filter/prep true bulk data as received to feed into CIBERSORTx<br>\n",
    "4. [../../scripts/bash/deconvolution_bulk_data.sh](../../scripts/bash/deconvolution_bulk_data.sh) - commands used to do the bulk deconvolutions<br>\n",
    "5. [../../scripts/R/process_bulk_deconvolution.R](../../scripts/R/process_bulk_deconvolution.R) - code to look at the results: kicking out >60% zero cell types, wilcoxon rank sums, plotting results etc."
   ]
  },
  {
   "cell_type": "code",
   "execution_count": null,
   "id": "81a82054-6ce0-46ce-8ca3-20abc0859768",
   "metadata": {},
   "outputs": [],
   "source": []
  }
 ],
 "metadata": {
  "kernelspec": {
   "display_name": "Python 3 (ipykernel)",
   "language": "python",
   "name": "python3"
  },
  "language_info": {
   "codemirror_mode": {
    "name": "ipython",
    "version": 3
   },
   "file_extension": ".py",
   "mimetype": "text/x-python",
   "name": "python",
   "nbconvert_exporter": "python",
   "pygments_lexer": "ipython3",
   "version": "3.7.13"
  }
 },
 "nbformat": 4,
 "nbformat_minor": 5
}
