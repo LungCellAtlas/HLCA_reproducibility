{
 "cells": [
  {
   "cell_type": "markdown",
   "metadata": {},
   "source": [
    "# Subsampling from the HLCA core to prepare basis for deconvolution of bulk RNA-seq (or microarray) based on HLCA cell type transcriptomes"
   ]
  },
  {
   "cell_type": "markdown",
   "metadata": {},
   "source": [
    "import modules:"
   ]
  },
  {
   "cell_type": "code",
   "execution_count": 1,
   "metadata": {},
   "outputs": [],
   "source": [
    "import scanpy as sc\n",
    "import numpy as np\n",
    "import pandas as pd\n",
    "import os"
   ]
  },
  {
   "cell_type": "markdown",
   "metadata": {},
   "source": [
    "for pretty code formatting (not necessary to run code:)"
   ]
  },
  {
   "cell_type": "code",
   "execution_count": 2,
   "metadata": {},
   "outputs": [],
   "source": [
    "%load_ext lab_black"
   ]
  },
  {
   "cell_type": "markdown",
   "metadata": {},
   "source": [
    "Set paths"
   ]
  },
  {
   "cell_type": "code",
   "execution_count": 3,
   "metadata": {},
   "outputs": [],
   "source": [
    "path_HLCA = \"../../data/HLCA_core_h5ads/HLCA_v2.h5ad\"\n",
    "path_celltype_to_anatomical_location = \"../../supporting_files/celltype_anatomical_location/cell_type_mapping_to_anatomical_location.csv\"\n",
    "dir_out = \"../../data/HLCA_core_h5ads/deconvolution_basis/\""
   ]
  },
  {
   "cell_type": "markdown",
   "metadata": {},
   "source": [
    "Read files:"
   ]
  },
  {
   "cell_type": "code",
   "execution_count": 4,
   "metadata": {},
   "outputs": [],
   "source": [
    "adata = sc.read_h5ad(path_HLCA)"
   ]
  },
  {
   "cell_type": "markdown",
   "metadata": {},
   "source": [
    "anatomical location info (this table does not include HSCs, but those are too rare to detect anyway):"
   ]
  },
  {
   "cell_type": "code",
   "execution_count": 5,
   "metadata": {},
   "outputs": [],
   "source": [
    "ct_to_an = pd.read_csv(path_celltype_to_anatomical_location, index_col=0).loc[\n",
    "    :, [\"Nose\", \"Airway\", \"Parenchyma\"]\n",
    "]\n",
    "ct_to_an.columns = [col.lower() for col in ct_to_an.columns]  # convert to lowercase"
   ]
  },
  {
   "cell_type": "markdown",
   "metadata": {},
   "source": [
    "Now subsample per cell type, once for every anatomical location:"
   ]
  },
  {
   "cell_type": "code",
   "execution_count": 6,
   "metadata": {},
   "outputs": [],
   "source": [
    "subsample_size = 1000\n",
    "min_n_cells = 100"
   ]
  },
  {
   "cell_type": "code",
   "execution_count": 7,
   "metadata": {},
   "outputs": [],
   "source": [
    "adatas_sub = dict()"
   ]
  },
  {
   "cell_type": "markdown",
   "metadata": {},
   "source": [
    "## Subsample per anatomical location:"
   ]
  },
  {
   "cell_type": "code",
   "execution_count": 8,
   "metadata": {},
   "outputs": [],
   "source": [
    "verbose = True"
   ]
  },
  {
   "cell_type": "code",
   "execution_count": 9,
   "metadata": {},
   "outputs": [
    {
     "name": "stdout",
     "output_type": "stream",
     "text": [
      "Working on samples from parenchyma\n",
      "Subsampling for cell type AT0.\n",
      "Subsampling for cell type AT1.\n",
      "Subsampling for cell type AT2.\n",
      "Not enough cells of AT2 proliferating in parenchyma. Taking cells from the other anatomical regions.\n",
      "Subsampling for cell type Adventitial fibroblasts.\n",
      "Subsampling for cell type Alveolar Mph CCL3+.\n",
      "Subsampling for cell type Alveolar Mph MT-positive.\n",
      "Subsampling for cell type Alveolar Mph proliferating.\n",
      "Subsampling for cell type Alveolar fibroblasts.\n",
      "Subsampling for cell type Alveolar macrophages.\n",
      "Subsampling for cell type B cells.\n",
      "Subsampling for cell type CD4 T cells.\n",
      "Subsampling for cell type CD8 T cells.\n",
      "Subsampling for cell type Classical monocytes.\n",
      "Not enough cells of Club (non-nasal) in parenchyma. Taking cells from the other anatomical regions.\n",
      "Not enough cells of DC1 in parenchyma. Taking cells from the other anatomical regions.\n",
      "Subsampling for cell type DC2.\n",
      "Not enough cells of Deuterosomal in parenchyma. Taking cells from the other anatomical regions.\n",
      "Subsampling for cell type EC aerocyte capillary.\n",
      "Subsampling for cell type EC arterial.\n",
      "Subsampling for cell type EC general capillary.\n",
      "Subsampling for cell type EC venous pulmonary.\n",
      "Subsampling for cell type EC venous systemic.\n",
      "Not enough cells of Fibromyocytes in parenchyma. Taking cells from the other anatomical regions.\n",
      "Not enough cells of Goblet (subsegmental) in parenchyma. Taking cells from the other anatomical regions.\n",
      "Not enough cells of Hematopoietic stem cells in parenchyma. Taking cells from the other anatomical regions.\n",
      "Subsampling for cell type Interstitial Mph perivascular.\n",
      "Not enough cells of Ionocyte in parenchyma. Taking cells from the other anatomical regions.\n",
      "Not enough cells of Lymphatic EC differentiating in parenchyma. Taking cells from the other anatomical regions.\n",
      "Subsampling for cell type Lymphatic EC mature.\n",
      "Not enough cells of Lymphatic EC proliferating in parenchyma. Taking cells from the other anatomical regions.\n",
      "Subsampling for cell type Mast cells.\n",
      "Not enough cells of Mesothelium in parenchyma. Taking cells from the other anatomical regions.\n",
      "Not enough cells of Migratory DCs in parenchyma. Taking cells from the other anatomical regions.\n",
      "Subsampling for cell type Monocyte-derived Mph.\n",
      "Subsampling for cell type Multiciliated (non-nasal).\n",
      "Not enough cells of Myofibroblasts in parenchyma. Taking cells from the other anatomical regions.\n",
      "Subsampling for cell type NK cells.\n",
      "Not enough cells of Neuroendocrine in parenchyma. Taking cells from the other anatomical regions.\n",
      "Subsampling for cell type Non-classical monocytes.\n",
      "Subsampling for cell type Pericytes.\n",
      "Subsampling for cell type Plasma cells.\n",
      "Not enough cells of Plasmacytoid DCs in parenchyma. Taking cells from the other anatomical regions.\n",
      "Subsampling for cell type pre-TB secretory.\n",
      "Subsampling for cell type Smooth muscle.\n",
      "Not enough cells of Subpleural fibroblasts in parenchyma. Taking cells from the other anatomical regions.\n",
      "Not enough cells of T cells proliferating in parenchyma. Taking cells from the other anatomical regions.\n",
      "Working on samples from airway\n",
      "Not enough cells of Adventitial fibroblasts in airway. Taking cells from the other anatomical regions.\n",
      "Subsampling for cell type Alveolar macrophages.\n",
      "Subsampling for cell type B cells.\n",
      "Subsampling for cell type Basal resting.\n",
      "Subsampling for cell type CD4 T cells.\n",
      "Subsampling for cell type CD8 T cells.\n",
      "Subsampling for cell type Classical monocytes.\n",
      "Subsampling for cell type Club (non-nasal).\n",
      "Not enough cells of DC1 in airway. Taking cells from the other anatomical regions.\n",
      "Subsampling for cell type DC2.\n",
      "Not enough cells of Deuterosomal in airway. Taking cells from the other anatomical regions.\n",
      "Not enough cells of EC arterial in airway. Taking cells from the other anatomical regions.\n",
      "Subsampling for cell type EC general capillary.\n",
      "Not enough cells of EC venous pulmonary in airway. Taking cells from the other anatomical regions.\n",
      "Subsampling for cell type EC venous systemic.\n",
      "Not enough cells of Fibromyocytes in airway. Taking cells from the other anatomical regions.\n",
      "Subsampling for cell type Goblet (bronchial).\n",
      "Not enough cells of Goblet (subsegmental) in airway. Taking cells from the other anatomical regions.\n",
      "Not enough cells of Hematopoietic stem cells in airway. Taking cells from the other anatomical regions.\n",
      "Subsampling for cell type Hillock-like.\n",
      "Not enough cells of Interstitial Mph perivascular in airway. Taking cells from the other anatomical regions.\n",
      "Not enough cells of Ionocyte in airway. Taking cells from the other anatomical regions.\n",
      "Not enough cells of Lymphatic EC differentiating in airway. Taking cells from the other anatomical regions.\n",
      "Not enough cells of Lymphatic EC mature in airway. Taking cells from the other anatomical regions.\n",
      "No cells from Lymphatic EC proliferating in this anatomical region. Taking all cells from another region.\n",
      "Subsampling for cell type Mast cells.\n",
      "Not enough cells of Migratory DCs in airway. Taking cells from the other anatomical regions.\n",
      "Subsampling for cell type Monocyte-derived Mph.\n",
      "Subsampling for cell type Multiciliated (non-nasal).\n",
      "Not enough cells of Myofibroblasts in airway. Taking cells from the other anatomical regions.\n",
      "Subsampling for cell type NK cells.\n",
      "Not enough cells of Neuroendocrine in airway. Taking cells from the other anatomical regions.\n",
      "Not enough cells of Non-classical monocytes in airway. Taking cells from the other anatomical regions.\n",
      "Subsampling for cell type Peribronchial fibroblasts.\n",
      "Not enough cells of Pericytes in airway. Taking cells from the other anatomical regions.\n",
      "Not enough cells of Plasma cells in airway. Taking cells from the other anatomical regions.\n",
      "Not enough cells of Plasmacytoid DCs in airway. Taking cells from the other anatomical regions.\n",
      "Not enough cells of SM activated stress response in airway. Taking cells from the other anatomical regions.\n",
      "Subsampling for cell type SMG duct.\n",
      "Not enough cells of SMG mucous in airway. Taking cells from the other anatomical regions.\n",
      "Subsampling for cell type SMG serous (bronchial).\n",
      "Subsampling for cell type Smooth muscle.\n",
      "Subsampling for cell type Suprabasal.\n",
      "Not enough cells of T cells proliferating in airway. Taking cells from the other anatomical regions.\n",
      "Not enough cells of Tuft in airway. Taking cells from the other anatomical regions.\n",
      "Working on samples from nose\n",
      "Not enough cells of B cells in nose. Taking cells from the other anatomical regions.\n",
      "Not enough cells of CD4 T cells in nose. Taking cells from the other anatomical regions.\n",
      "Subsampling for cell type CD8 T cells.\n",
      "Not enough cells of Classical monocytes in nose. Taking cells from the other anatomical regions.\n",
      "Subsampling for cell type Club (nasal).\n",
      "Not enough cells of DC1 in nose. Taking cells from the other anatomical regions.\n",
      "Subsampling for cell type DC2.\n",
      "Not enough cells of Deuterosomal in nose. Taking cells from the other anatomical regions.\n",
      "Not enough cells of EC venous systemic in nose. Taking cells from the other anatomical regions.\n",
      "Subsampling for cell type Goblet (nasal).\n",
      "No cells from Hematopoietic stem cells in this anatomical region. Taking all cells from another region.\n",
      "Subsampling for cell type Hillock-like.\n",
      "Not enough cells of Ionocyte in nose. Taking cells from the other anatomical regions.\n",
      "Not enough cells of Mast cells in nose. Taking cells from the other anatomical regions.\n",
      "Not enough cells of Migratory DCs in nose. Taking cells from the other anatomical regions.\n",
      "Not enough cells of Monocyte-derived Mph in nose. Taking cells from the other anatomical regions.\n",
      "Subsampling for cell type Multiciliated (nasal).\n",
      "Not enough cells of Plasmacytoid DCs in nose. Taking cells from the other anatomical regions.\n",
      "Not enough cells of SMG duct in nose. Taking cells from the other anatomical regions.\n",
      "Not enough cells of SMG mucous in nose. Taking cells from the other anatomical regions.\n",
      "Subsampling for cell type SMG serous (nasal).\n",
      "Not enough cells of Suprabasal in nose. Taking cells from the other anatomical regions.\n",
      "Not enough cells of T cells proliferating in nose. Taking cells from the other anatomical regions.\n",
      "Not enough cells of Tuft in nose. Taking cells from the other anatomical regions.\n"
     ]
    }
   ],
   "source": [
    "for anatomical_location in adata.obs.anatomical_region_level_1.unique():\n",
    "    print(f\"Working on samples from {anatomical_location}\")\n",
    "    cells_to_keep = list()\n",
    "    adata_region = adata[\n",
    "        adata.obs.anatomical_region_level_1 == anatomical_location, :\n",
    "    ].copy()\n",
    "    cts_to_keep = ct_to_an.loc[ct_to_an[anatomical_location] == \"x\", :].index.tolist()\n",
    "    cell_type_counts = adata_region.obs.manual_ann.value_counts()\n",
    "    for ct in cts_to_keep:\n",
    "        if ct in cell_type_counts.index:  # check if ct exists in data\n",
    "            ct_count = cell_type_counts[ct]\n",
    "            # subsample if enough cells are present\n",
    "            if ct_count > subsample_size:\n",
    "                if verbose:\n",
    "                    print(f\"Subsampling for cell type {ct}.\")\n",
    "                ct_sample = list(\n",
    "                    np.random.choice(\n",
    "                        adata_region.obs.loc[\n",
    "                            adata_region.obs.manual_ann == ct, :\n",
    "                        ].index.tolist(),\n",
    "                        size=subsample_size,\n",
    "                        replace=False,\n",
    "                    )\n",
    "                )\n",
    "            # include cells from same cell type but other location if not enough cells are present\n",
    "            else:\n",
    "                if verbose:\n",
    "                    print(\n",
    "                        f\"Not enough cells of {ct} in {anatomical_location}. Taking cells from the other anatomical regions.\"\n",
    "                    )\n",
    "                ct_sample_part_1 = adata_region.obs.loc[\n",
    "                    adata_region.obs.manual_ann == ct, :\n",
    "                ].index.tolist()\n",
    "                n_cells_to_add = subsample_size - len(ct_sample_part_1)\n",
    "                ct_cells_from_other_regions = adata.obs.loc[\n",
    "                    [\n",
    "                        not_from_region and from_ct\n",
    "                        for not_from_region, from_ct in zip(\n",
    "                            ~adata.obs.index.isin(adata_region.obs.index),\n",
    "                            adata.obs.manual_ann == ct,\n",
    "                        )\n",
    "                    ],\n",
    "                    :,\n",
    "                ].index.tolist()\n",
    "                if len(ct_cells_from_other_regions) <= n_cells_to_add:\n",
    "                    ct_sample_part_2 = ct_cells_from_other_regions\n",
    "                else:\n",
    "                    ct_sample_part_2 = list(\n",
    "                        np.random.choice(\n",
    "                            ct_cells_from_other_regions,\n",
    "                            size=n_cells_to_add,\n",
    "                            replace=False,\n",
    "                        )\n",
    "                    )\n",
    "                ct_sample = ct_sample_part_1 + ct_sample_part_2\n",
    "\n",
    "        else:\n",
    "            if ct not in adata.obs.manual_ann.unique():\n",
    "                raise ValueError(\n",
    "                    f\"{ct} not in anndata? Check this (might be a typo in the google doc). Exiting.\"\n",
    "                )\n",
    "            else:\n",
    "                # sampe from other anatomical regions:\n",
    "                if verbose:\n",
    "                    print(\n",
    "                        f\"No cells from {ct} in this anatomical region. Taking all cells from another region.\"\n",
    "                    )\n",
    "                ct_cells_from_other_regions = adata.obs.loc[\n",
    "                    adata.obs.manual_ann == ct, :\n",
    "                ].index.tolist()\n",
    "                if len(ct_cells_from_other_regions) < subsample_size:\n",
    "                    ct_sample = ct_cells_from_other_regions\n",
    "                else:\n",
    "                    ct_sample = list(\n",
    "                        np.random.choice(\n",
    "                            ct_cells_from_other_regions,\n",
    "                            size=subsample_size,\n",
    "                            replace=False,\n",
    "                        )\n",
    "                    )\n",
    "        cells_to_keep += ct_sample\n",
    "    adatas_sub[anatomical_location] = adata[cells_to_keep, :].copy()"
   ]
  },
  {
   "cell_type": "markdown",
   "metadata": {},
   "source": [
    "Kick out cell types with fewer than min_n_cells cells:"
   ]
  },
  {
   "cell_type": "code",
   "execution_count": 10,
   "metadata": {},
   "outputs": [
    {
     "name": "stdout",
     "output_type": "stream",
     "text": [
      "Removing cts ['Hematopoietic stem cells', 'Lymphatic EC proliferating'] for region parenchyma.\n",
      "Removing cts ['Hematopoietic stem cells', 'Lymphatic EC proliferating'] for region airway.\n",
      "Removing cts ['Hematopoietic stem cells'] for region nose.\n"
     ]
    }
   ],
   "source": [
    "for region, adata_region in adatas_sub.items():\n",
    "    ct_counts_region = adata_region.obs.manual_ann.value_counts()\n",
    "    cts_to_remove = ct_counts_region.loc[ct_counts_region < min_n_cells].index.tolist()\n",
    "    print(f\"Removing cts {cts_to_remove} for region {region}.\")\n",
    "    adatas_sub[region] = adatas_sub[region][\n",
    "        ~adatas_sub[region].obs.manual_ann.isin(cts_to_remove), :\n",
    "    ].copy()"
   ]
  },
  {
   "cell_type": "markdown",
   "metadata": {},
   "source": [
    "Store results:"
   ]
  },
  {
   "cell_type": "code",
   "execution_count": 11,
   "metadata": {},
   "outputs": [],
   "source": [
    "for region, adata_region in adatas_sub.items():\n",
    "    adata_region.write(\n",
    "        os.path.join(dir_out, f\"HLCA_core_subsampled_for_{region}_deconvolution.h5ad\")\n",
    "    )"
   ]
  },
  {
   "cell_type": "code",
   "execution_count": null,
   "metadata": {},
   "outputs": [],
   "source": []
  }
 ],
 "metadata": {
  "kernelspec": {
   "display_name": "Python 3 (ipykernel)",
   "language": "python",
   "name": "python3"
  },
  "language_info": {
   "codemirror_mode": {
    "name": "ipython",
    "version": 3
   },
   "file_extension": ".py",
   "mimetype": "text/x-python",
   "name": "python",
   "nbconvert_exporter": "python",
   "pygments_lexer": "ipython3",
   "version": "3.7.13"
  }
 },
 "nbformat": 4,
 "nbformat_minor": 4
}
