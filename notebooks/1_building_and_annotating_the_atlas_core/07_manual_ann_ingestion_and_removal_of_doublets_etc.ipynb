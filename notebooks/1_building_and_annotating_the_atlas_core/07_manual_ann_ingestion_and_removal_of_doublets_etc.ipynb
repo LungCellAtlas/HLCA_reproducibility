{
 "cells": [
  {
   "cell_type": "markdown",
   "metadata": {},
   "source": [
    "## Ingestion of manual annotations of the HLCA and removal of low QC cells:"
   ]
  },
  {
   "cell_type": "markdown",
   "metadata": {},
   "source": [
    "In this notebook we add the manual annotations of the HLCA clusters to the HLCA object, and we will remove cells that were annotated as low quality (e.g. high mitochondrial count clusters, doublets, etc.). We will also do a comparison of original versus final (manual) annotations. "
   ]
  },
  {
   "cell_type": "markdown",
   "metadata": {},
   "source": [
    "### Import modules and set paths:"
   ]
  },
  {
   "cell_type": "code",
   "execution_count": 1,
   "metadata": {},
   "outputs": [],
   "source": [
    "import scanpy as sc\n",
    "import pandas as pd\n",
    "import numpy as np\n",
    "import sys\n",
    "\n",
    "sys.path.append(\"../../scripts/\")\n",
    "import reference_based_harmonizing"
   ]
  },
  {
   "cell_type": "markdown",
   "metadata": {},
   "source": [
    "For pretty code formatting (not necessary to run):"
   ]
  },
  {
   "cell_type": "code",
   "execution_count": 3,
   "metadata": {},
   "outputs": [],
   "source": [
    "%load_ext lab_black"
   ]
  },
  {
   "cell_type": "markdown",
   "metadata": {},
   "source": [
    "Figure parameters:"
   ]
  },
  {
   "cell_type": "code",
   "execution_count": 2,
   "metadata": {},
   "outputs": [],
   "source": [
    "sc.set_figure_params(figsize=(5, 5))"
   ]
  },
  {
   "cell_type": "markdown",
   "metadata": {},
   "source": [
    "Paths:"
   ]
  },
  {
   "cell_type": "code",
   "execution_count": 5,
   "metadata": {},
   "outputs": [],
   "source": [
    "path_input_HLCA = \"../../data/HLCA_core_h5ads/HLCA_v1_intermediates/LCA_Bano_Barb_Jain_Kras_Lafy_Meye_Mish_MishBud_Nawi_Seib_Teic_log1p.h5ad\"\n",
    "path_output_HLCA = \"../../data/HLCA_core_h5ads/HLCA_v1.h5ad\"\n",
    "path_manual_anns = \"../../supporting_files/celltype_reannotation/manual_cluster_annotation_20210820.csv\"\n",
    "path_celltype_ref_mapping = \"../../supporting_files/metadata_harmonization/HLCA_cell_type_reference_mapping_20211103.csv\"\n",
    "path_man_anns_levd_and_colors = \"../../supporting_files/celltype_structure_and_colors/manual_anns_and_leveled_anns_ordered.csv\"\n",
    "path_grouped_man_anns_levd_and_colors = \"../../supporting_files/celltype_structure_and_colors/manual_anns_grouped_order_and_colors.csv\""
   ]
  },
  {
   "cell_type": "markdown",
   "metadata": {},
   "source": [
    "### Add manual annotations to HLCA:"
   ]
  },
  {
   "cell_type": "markdown",
   "metadata": {},
   "source": [
    "import atlas:"
   ]
  },
  {
   "cell_type": "code",
   "execution_count": 4,
   "metadata": {},
   "outputs": [],
   "source": [
    "adata_full = sc.read(path_input_HLCA)"
   ]
  },
  {
   "cell_type": "code",
   "execution_count": 7,
   "metadata": {},
   "outputs": [
    {
     "data": {
      "text/plain": [
       "AnnData object with n_obs × n_vars = 587218 × 28527\n",
       "    obs: 'sample', 'original_celltype_ann', 'study_long', 'study', 'last_author_PI', 'subject_ID', 'subject_ID_as_published', 'pre_or_postnatal', 'age_in_years', 'age_range', 'sex', 'ethnicity', 'mixed_ethnicity', 'smoking_status', 'smoking_history', 'BMI', 'known_lung_disease', 'condition', 'subject_type', 'cause_of_death', 'sample_type', 'anatomical_region_coarse', 'anatomical_region_detailed', 'tissue_dissociation_protocol', 'cells_or_nuclei', 'single_cell_platform', \"3'_or_5'\", 'enrichment', 'sequencing_platform', 'reference_genome_coarse', 'ensembl_release_reference_genome', 'cell_ranger_version', 'disease_status', 'fresh_or_frozen', 'cultured', 'cell_viability_%', 'comments', 'Processing_site', 'dataset', 'anatomical_region_level_1', 'anatomical_region_level_2', 'anatomical_region_level_3', 'anatomical_region_highest_res', 'age', 'ann_level_1', 'ann_level_2', 'ann_level_3', 'ann_level_4', 'ann_level_5', 'ann_highest_res', 'ann_new', 'n_genes', 'total_counts', 'log10_total_counts', 'n_genes_detected', 'mito_frac', 'ribo_frac', 'compl', 'size_factors', 'ann_level_1_clean', 'ann_level_2_clean', 'ann_level_3_clean', 'ann_level_4_clean', 'ann_level_5_clean', 'scanvi_label', 'leiden_1', 'leiden_2', 'leiden_3', 'anatomical_region_ccf_score', 'entropy_study_leiden_3', 'entropy_dataset_leiden_3', 'entropy_subject_ID_leiden_3', 'entropy_ann_level_1_leiden_3', 'entropy_ann_level_2_clean_leiden_3', 'entropy_ann_level_3_clean_leiden_3', 'entropy_ann_level_4_clean_leiden_3', 'entropy_ann_level_5_clean_leiden_3', 'entropy_ann_level_1_leiden_2', 'entropy_ann_level_2_clean_leiden_2', 'entropy_ann_level_3_clean_leiden_2', 'entropy_ann_level_4_clean_leiden_2', 'entropy_ann_level_5_clean_leiden_2', 'manual_ann', 'leiden_4', 'reannotation_type', 'leiden_5'\n",
       "    var: 'gene_symbols', 'n_cells', 'highly_variable', 'means', 'dispersions', 'dispersions_norm', 'highly_variable_nbatches', 'highly_variable_intersection', 'gene_ids'\n",
       "    uns: 'anatomical_region_level_1_colors', 'ann_level_1_clean_colors', 'ann_level_1_colors', 'ann_level_2_clean_colors', 'ann_level_3_clean_colors', 'ann_level_3_colors', 'ann_level_4_clean_colors', 'ann_level_4_colors', 'ann_level_5_clean_colors', 'dataset_colors', 'hvg', 'leiden', 'leiden_1_colors', 'leiden_2_colors', 'leiden_3_colors', 'leiden_4_colors', 'leiden_5_colors', 'neighbors', 'pca', 'rank_genes_groups', 'reannotation_type_colors', 'scanvi_label_colors', 'study_colors', 'umap'\n",
       "    obsm: 'X_pca', 'X_scanvi_emb', 'X_umap', 'X_umap_scanvi', 'X_umap_unintegrated'\n",
       "    varm: 'PCs'\n",
       "    layers: 'counts'\n",
       "    obsp: 'connectivities', 'distances'"
      ]
     },
     "execution_count": 7,
     "metadata": {},
     "output_type": "execute_result"
    }
   ],
   "source": [
    "adata_full"
   ]
  },
  {
   "cell_type": "markdown",
   "metadata": {},
   "source": [
    "import manual annotations of clusters:"
   ]
  },
  {
   "cell_type": "code",
   "execution_count": 10,
   "metadata": {},
   "outputs": [],
   "source": [
    "manual_annot_raw = pd.read_csv(path_manual_anns)"
   ]
  },
  {
   "cell_type": "markdown",
   "metadata": {},
   "source": [
    "import cell type reference:"
   ]
  },
  {
   "cell_type": "code",
   "execution_count": 11,
   "metadata": {},
   "outputs": [],
   "source": [
    "harmonizing_df = reference_based_harmonizing.load_harmonizing_table(path_celltype_ref_mapping)\n",
    "consensus_df = reference_based_harmonizing.create_consensus_table(harmonizing_df)"
   ]
  },
  {
   "cell_type": "markdown",
   "metadata": {},
   "source": [
    "update harmonized *original* annotations in the atlas (These are not the final manual annotations!!). This is only necessary if the cell type mapping has changed."
   ]
  },
  {
   "cell_type": "code",
   "execution_count": 12,
   "metadata": {},
   "outputs": [],
   "source": [
    "celltype_translation_df = (\n",
    "    reference_based_harmonizing.create_orig_ann_to_consensus_translation_df(\n",
    "        adata_full, consensus_df, harmonizing_df, verbose=False\n",
    "    )\n",
    ")"
   ]
  },
  {
   "cell_type": "code",
   "execution_count": null,
   "metadata": {},
   "outputs": [],
   "source": [
    "adata_full = reference_based_harmonizing.consensus_annotate_anndata(\n",
    "    adata_full, celltype_translation_df, verbose=True\n",
    ")"
   ]
  },
  {
   "cell_type": "code",
   "execution_count": 13,
   "metadata": {},
   "outputs": [],
   "source": [
    "adata_full = reference_based_harmonizing.add_clean_annotation(adata_full)"
   ]
  },
  {
   "cell_type": "markdown",
   "metadata": {},
   "source": [
    "pre-process manual annotation table:"
   ]
  },
  {
   "cell_type": "code",
   "execution_count": 14,
   "metadata": {},
   "outputs": [],
   "source": [
    "# pre-process manual annotation dataframe:\n",
    "manual_annot = pd.DataFrame(index=manual_annot_raw.index)\n",
    "# store the highest cluster level for each row\n",
    "manual_annot[\"cl_level\"] = np.sum(\n",
    "    ~pd.isnull(manual_annot_raw.loc[:, [f\"Leiden {lev}\" for lev in range(1, 6)]]),\n",
    "    axis=1,\n",
    ")\n",
    "# store the matching cluster name:\n",
    "manual_annot[\"cl\"] = [\n",
    "    manual_annot_raw.loc[row, f\"Leiden {lev}\"]\n",
    "    for row, lev in zip(manual_annot.index, manual_annot[\"cl_level\"])\n",
    "]\n",
    "# and the matching final annotation:\n",
    "manual_annot[\"final_ann\"] = manual_annot_raw[\"Final annotation\"]\n",
    "# and the matching coarse annotations:\n",
    "manual_annot[\"final_ann_coarse\"] = manual_annot_raw[\"Coarse final annotation\"]"
   ]
  },
  {
   "cell_type": "markdown",
   "metadata": {},
   "source": [
    "convert final annotations to matching leveled annotations (level 1-5):"
   ]
  },
  {
   "cell_type": "code",
   "execution_count": 15,
   "metadata": {},
   "outputs": [],
   "source": [
    "final_ann_set = manual_annot.final_ann.unique()\n",
    "final_anns_to_leveled_anns_df = pd.DataFrame(\n",
    "    index=final_ann_set, columns=[f\"Level_{num}\" for num in range(1, 6)] + [\"ordering\"]\n",
    ")\n",
    "\n",
    "\n",
    "def find_matching_leveled_ann(final_ann):\n",
    "    return [ann for ann in consensus_df.index if ann[2:] == final_ann]\n",
    "\n",
    "\n",
    "final_ann_to_leveled_ann = {\n",
    "    final_ann: find_matching_leveled_ann(final_ann) for final_ann in final_ann_set\n",
    "}"
   ]
  },
  {
   "cell_type": "markdown",
   "metadata": {},
   "source": [
    "check where there's no translation, or two translations available (something is wrong there, unless these are clusters to be discarded, e.g. doublets):"
   ]
  },
  {
   "cell_type": "code",
   "execution_count": 16,
   "metadata": {},
   "outputs": [
    {
     "name": "stdout",
     "output_type": "stream",
     "text": [
      "HBB-contaminated [] (setting translation to 'Unicorns_and_artefacts')\n",
      "Poor QC [] (setting translation to 'Unicorns_and_artefacts')\n",
      "Doublets [] (setting translation to 'Unicorns_and_artefacts')\n",
      "Single donor - Fibroblasts CRABP1+ NOV+ [] (setting translation to 'Unicorns_and_artefacts')\n"
     ]
    }
   ],
   "source": [
    "for final_ann, leveled_anns in final_ann_to_leveled_ann.items():\n",
    "    if len(leveled_anns) == 0:\n",
    "        print(\n",
    "            final_ann, leveled_anns, \"(setting translation to 'Unicorns_and_artefacts')\"\n",
    "        )\n",
    "        final_ann_to_leveled_ann[final_ann] = \"Unicorns_and_artefacts\"\n",
    "    elif len(leveled_anns) > 1:\n",
    "        print(final_ann, leveled_anns)\n",
    "        print(\n",
    "            \"THIS NEEDS TO BE FIXED!!! This annotation is present at more than 1 level in the reference!!\"\n",
    "        )\n",
    "        final_ann_to_leveled_ann[final_ann] = leveled_anns[0]\n",
    "    else:\n",
    "        final_ann_to_leveled_ann[final_ann] = leveled_anns[0]"
   ]
  },
  {
   "cell_type": "markdown",
   "metadata": {},
   "source": [
    "create dfs with translations of manual annotations to leveled annotations"
   ]
  },
  {
   "cell_type": "code",
   "execution_count": 17,
   "metadata": {},
   "outputs": [],
   "source": [
    "for final_ann in final_anns_to_leveled_anns_df.index:\n",
    "    if final_ann_to_leveled_ann[final_ann] == \"Unicorns_and_artefacts\":\n",
    "        final_anns_to_leveled_anns_df.loc[\n",
    "            final_ann, [f\"Level_{num}\" for num in range(1, 6)] + [\"ordering\"]\n",
    "        ] = ([\"Unicorns_and_artefacts\"] + 4 * [\"1_Unicorns_and_artefacts\"] + [1000])\n",
    "    else:\n",
    "        final_anns_to_leveled_anns_df.loc[\n",
    "            final_ann, [f\"Level_{num}\" for num in range(1, 6)]\n",
    "        ] = consensus_df.loc[\n",
    "            final_ann_to_leveled_ann[final_ann], [f\"level_{num}\" for num in range(1, 6)]\n",
    "        ].values\n",
    "        # get row location of this annotation in consensus_df,\n",
    "        # so that we can use the ordering from the consensus df:\n",
    "        final_anns_to_leveled_anns_df.loc[final_ann, \"ordering\"] = np.where(\n",
    "            consensus_df.index == final_ann_to_leveled_ann[final_ann]\n",
    "        )[0][0]"
   ]
  },
  {
   "cell_type": "markdown",
   "metadata": {},
   "source": [
    "sort df:"
   ]
  },
  {
   "cell_type": "code",
   "execution_count": 18,
   "metadata": {},
   "outputs": [],
   "source": [
    "final_anns_to_leveled_anns_df.sort_values(by=\"ordering\", ascending=True, inplace=True)"
   ]
  },
  {
   "cell_type": "code",
   "execution_count": 19,
   "metadata": {},
   "outputs": [
    {
     "data": {
      "text/html": [
       "<div>\n",
       "<style scoped>\n",
       "    .dataframe tbody tr th:only-of-type {\n",
       "        vertical-align: middle;\n",
       "    }\n",
       "\n",
       "    .dataframe tbody tr th {\n",
       "        vertical-align: top;\n",
       "    }\n",
       "\n",
       "    .dataframe thead th {\n",
       "        text-align: right;\n",
       "    }\n",
       "</style>\n",
       "<table border=\"1\" class=\"dataframe\">\n",
       "  <thead>\n",
       "    <tr style=\"text-align: right;\">\n",
       "      <th></th>\n",
       "      <th>Level_1</th>\n",
       "      <th>Level_2</th>\n",
       "      <th>Level_3</th>\n",
       "      <th>Level_4</th>\n",
       "      <th>Level_5</th>\n",
       "      <th>ordering</th>\n",
       "    </tr>\n",
       "  </thead>\n",
       "  <tbody>\n",
       "    <tr>\n",
       "      <th>Basal resting</th>\n",
       "      <td>Epithelial</td>\n",
       "      <td>Airway epithelium</td>\n",
       "      <td>Basal</td>\n",
       "      <td>Basal resting</td>\n",
       "      <td>4_Basal resting</td>\n",
       "      <td>3</td>\n",
       "    </tr>\n",
       "    <tr>\n",
       "      <th>Suprabasal</th>\n",
       "      <td>Epithelial</td>\n",
       "      <td>Airway epithelium</td>\n",
       "      <td>Basal</td>\n",
       "      <td>Suprabasal</td>\n",
       "      <td>4_Suprabasal</td>\n",
       "      <td>4</td>\n",
       "    </tr>\n",
       "    <tr>\n",
       "      <th>Deuterosomal</th>\n",
       "      <td>Epithelial</td>\n",
       "      <td>Airway epithelium</td>\n",
       "      <td>Multiciliated lineage</td>\n",
       "      <td>Deuterosomal</td>\n",
       "      <td>4_Deuterosomal</td>\n",
       "      <td>13</td>\n",
       "    </tr>\n",
       "    <tr>\n",
       "      <th>Multiciliated (nasal)</th>\n",
       "      <td>Epithelial</td>\n",
       "      <td>Airway epithelium</td>\n",
       "      <td>Multiciliated lineage</td>\n",
       "      <td>Multiciliated</td>\n",
       "      <td>Multiciliated (nasal)</td>\n",
       "      <td>15</td>\n",
       "    </tr>\n",
       "    <tr>\n",
       "      <th>Multiciliated (non-nasal)</th>\n",
       "      <td>Epithelial</td>\n",
       "      <td>Airway epithelium</td>\n",
       "      <td>Multiciliated lineage</td>\n",
       "      <td>Multiciliated</td>\n",
       "      <td>Multiciliated (non-nasal)</td>\n",
       "      <td>16</td>\n",
       "    </tr>\n",
       "  </tbody>\n",
       "</table>\n",
       "</div>"
      ],
      "text/plain": [
       "                              Level_1            Level_2  \\\n",
       "Basal resting              Epithelial  Airway epithelium   \n",
       "Suprabasal                 Epithelial  Airway epithelium   \n",
       "Deuterosomal               Epithelial  Airway epithelium   \n",
       "Multiciliated (nasal)      Epithelial  Airway epithelium   \n",
       "Multiciliated (non-nasal)  Epithelial  Airway epithelium   \n",
       "\n",
       "                                         Level_3        Level_4  \\\n",
       "Basal resting                              Basal  Basal resting   \n",
       "Suprabasal                                 Basal     Suprabasal   \n",
       "Deuterosomal               Multiciliated lineage   Deuterosomal   \n",
       "Multiciliated (nasal)      Multiciliated lineage  Multiciliated   \n",
       "Multiciliated (non-nasal)  Multiciliated lineage  Multiciliated   \n",
       "\n",
       "                                             Level_5 ordering  \n",
       "Basal resting                        4_Basal resting        3  \n",
       "Suprabasal                              4_Suprabasal        4  \n",
       "Deuterosomal                          4_Deuterosomal       13  \n",
       "Multiciliated (nasal)          Multiciliated (nasal)       15  \n",
       "Multiciliated (non-nasal)  Multiciliated (non-nasal)       16  "
      ]
     },
     "execution_count": 19,
     "metadata": {},
     "output_type": "execute_result"
    }
   ],
   "source": [
    "final_anns_to_leveled_anns_df.head(5)"
   ]
  },
  {
   "cell_type": "markdown",
   "metadata": {},
   "source": [
    "now add all this info to our adata:"
   ]
  },
  {
   "cell_type": "markdown",
   "metadata": {},
   "source": [
    "store original leveled annotations under \"original_ann_level_[lev number]\" (these are the harmonized original annotations, and not the corrected, manual annotations)"
   ]
  },
  {
   "cell_type": "code",
   "execution_count": 20,
   "metadata": {},
   "outputs": [],
   "source": [
    "adata_full.obs.columns = [\n",
    "    col.replace(\"ann_level_\", \"original_ann_level_\") for col in adata_full.obs.columns\n",
    "]"
   ]
  },
  {
   "cell_type": "markdown",
   "metadata": {},
   "source": [
    "Check which cells are manually annotated at which clustering level (this will make mapping easier):"
   ]
  },
  {
   "cell_type": "code",
   "execution_count": 21,
   "metadata": {},
   "outputs": [],
   "source": [
    "max_annotated_at_lev_3 = adata_full.obs.leiden_3.values.isin(manual_annot.cl.values)\n",
    "max_annotated_at_lev_4 = adata_full.obs.leiden_4.values.isin(manual_annot.cl.values)\n",
    "max_annotated_at_lev_5 = adata_full.obs.leiden_5.values.isin(manual_annot.cl.values)\n",
    "adata_full.obs.loc[max_annotated_at_lev_3, \"cluster_annotated\"] = adata_full.obs.loc[\n",
    "    max_annotated_at_lev_3, \"leiden_3\"\n",
    "]\n",
    "adata_full.obs.loc[max_annotated_at_lev_4, \"cluster_annotated\"] = adata_full.obs.loc[\n",
    "    max_annotated_at_lev_4, \"leiden_4\"\n",
    "]\n",
    "adata_full.obs.loc[max_annotated_at_lev_5, \"cluster_annotated\"] = adata_full.obs.loc[\n",
    "    max_annotated_at_lev_5, \"leiden_5\"\n",
    "]"
   ]
  },
  {
   "cell_type": "markdown",
   "metadata": {},
   "source": [
    "0 cells should have None/nan:"
   ]
  },
  {
   "cell_type": "code",
   "execution_count": 22,
   "metadata": {},
   "outputs": [
    {
     "data": {
      "text/plain": [
       "0"
      ]
     },
     "execution_count": 22,
     "metadata": {},
     "output_type": "execute_result"
    }
   ],
   "source": [
    "sum(pd.isnull(adata_full.obs.cluster_annotated))"
   ]
  },
  {
   "cell_type": "markdown",
   "metadata": {},
   "source": [
    "This should add up to all cells:"
   ]
  },
  {
   "cell_type": "code",
   "execution_count": 23,
   "metadata": {},
   "outputs": [
    {
     "data": {
      "text/plain": [
       "587218"
      ]
     },
     "execution_count": 23,
     "metadata": {},
     "output_type": "execute_result"
    }
   ],
   "source": [
    "sum(max_annotated_at_lev_3) + sum(max_annotated_at_lev_4) + sum(max_annotated_at_lev_5)"
   ]
  },
  {
   "cell_type": "markdown",
   "metadata": {},
   "source": [
    "i.e. should correspond to:"
   ]
  },
  {
   "cell_type": "code",
   "execution_count": 24,
   "metadata": {},
   "outputs": [
    {
     "data": {
      "text/plain": [
       "587218"
      ]
     },
     "execution_count": 24,
     "metadata": {},
     "output_type": "execute_result"
    }
   ],
   "source": [
    "adata_full.n_obs"
   ]
  },
  {
   "cell_type": "markdown",
   "metadata": {},
   "source": [
    "generate cluster to manual ann mapping:"
   ]
  },
  {
   "cell_type": "code",
   "execution_count": 25,
   "metadata": {},
   "outputs": [],
   "source": [
    "cl_to_manann = {\n",
    "    cl: manann for cl, manann in zip(manual_annot.cl, manual_annot.final_ann)\n",
    "}"
   ]
  },
  {
   "cell_type": "code",
   "execution_count": 26,
   "metadata": {},
   "outputs": [],
   "source": [
    "adata_full.obs[\"manual_ann\"] = None"
   ]
  },
  {
   "cell_type": "code",
   "execution_count": 27,
   "metadata": {},
   "outputs": [],
   "source": [
    "# map level 3 clusters to manann\n",
    "adata_full.obs.loc[max_annotated_at_lev_3, \"manual_ann\"] = adata_full.obs.loc[\n",
    "    max_annotated_at_lev_3, \"leiden_3\"\n",
    "].map(cl_to_manann)\n",
    "# level 4 clusters\n",
    "adata_full.obs.loc[max_annotated_at_lev_4, \"manual_ann\"] = adata_full.obs.loc[\n",
    "    max_annotated_at_lev_4, \"leiden_4\"\n",
    "].map(cl_to_manann)\n",
    "# and level 5 clusters\n",
    "adata_full.obs.loc[max_annotated_at_lev_5, \"manual_ann\"] = adata_full.obs.loc[\n",
    "    max_annotated_at_lev_5, \"leiden_5\"\n",
    "].map(cl_to_manann)"
   ]
  },
  {
   "cell_type": "markdown",
   "metadata": {},
   "source": [
    "plot to see if results make sense:"
   ]
  },
  {
   "cell_type": "code",
   "execution_count": 28,
   "metadata": {},
   "outputs": [
    {
     "name": "stderr",
     "output_type": "stream",
     "text": [
      "... storing 'original_ann_level_2_clean' as categorical\n",
      "... storing 'original_ann_level_3_clean' as categorical\n",
      "... storing 'original_ann_level_4_clean' as categorical\n",
      "... storing 'original_ann_level_5_clean' as categorical\n",
      "... storing 'manual_ann' as categorical\n",
      "... storing 'cluster_annotated' as categorical\n"
     ]
    },
    {
     "data": {
      "image/png": "[encoded data removed]",
      "text/plain": [
       "<Figure size 432x288 with 1 Axes>"
      ]
     },
     "metadata": {},
     "output_type": "display_data"
    }
   ],
   "source": [
    "sc.pl.umap(adata_full, color=\"manual_ann\", frameon=False)"
   ]
  },
  {
   "cell_type": "markdown",
   "metadata": {},
   "source": [
    "if wanted, check if all cell types are represented by more than one donor (with at least 10 cells of the cell type)"
   ]
  },
  {
   "cell_type": "code",
   "execution_count": 29,
   "metadata": {},
   "outputs": [],
   "source": [
    "counts_per_subj_per_ct = adata_full.obs.groupby([\"manual_ann\", \"subject_ID\"]).agg(\n",
    "    {\"subject_ID\": \"count\"}\n",
    ")"
   ]
  },
  {
   "cell_type": "code",
   "execution_count": 30,
   "metadata": {},
   "outputs": [],
   "source": [
    "more_than_10_per_subj_per_ct = counts_per_subj_per_ct > 10"
   ]
  },
  {
   "cell_type": "markdown",
   "metadata": {},
   "source": [
    "This shows the number of donors with at least 10 cells of the cell type:"
   ]
  },
  {
   "cell_type": "code",
   "execution_count": 31,
   "metadata": {},
   "outputs": [
    {
     "data": {
      "text/plain": [
       "manual_ann\n",
       "Lymphatic EC proliferating                 1\n",
       "Single donor - Fibroblasts CRABP1+ NOV+    1\n",
       "SMG serous (nasal)                         3\n",
       "Neuroendocrine                             4\n",
       "Alveolar Mφ MT-positive                    4\n",
       "dtype: int64"
      ]
     },
     "execution_count": 31,
     "metadata": {},
     "output_type": "execute_result"
    }
   ],
   "source": [
    "more_than_10_per_subj_per_ct.unstack().sum(axis=1).sort_values()[:5]"
   ]
  },
  {
   "cell_type": "markdown",
   "metadata": {},
   "source": [
    "Now also add leveled annotations for each cell (i.e. from level 1 to level 5 for every cell, based on final annotation which is somewhere in the hierarchy):"
   ]
  },
  {
   "cell_type": "code",
   "execution_count": 32,
   "metadata": {},
   "outputs": [],
   "source": [
    "for lev in range(1, 6):\n",
    "    man_ann_to_lev_mapper = {\n",
    "        manann: levann\n",
    "        for manann, levann in zip(\n",
    "            final_anns_to_leveled_anns_df.index,\n",
    "            final_anns_to_leveled_anns_df[f\"Level_{lev}\"],\n",
    "        )\n",
    "    }\n",
    "    # delete old colors\n",
    "    if f\"ann_level_{lev}_colors\" in adata_full.uns.keys():\n",
    "        del adata_full.uns[f\"ann_level_{lev}_colors\"]\n",
    "    adata_full.obs[f\"ann_level_{lev}\"] = adata_full.obs.manual_ann.map(\n",
    "        man_ann_to_lev_mapper\n",
    "    )"
   ]
  },
  {
   "cell_type": "markdown",
   "metadata": {},
   "source": [
    "add clean annotations (without forward propagation of lower levels) and remove forward-propagated labels:"
   ]
  },
  {
   "cell_type": "code",
   "execution_count": 33,
   "metadata": {},
   "outputs": [],
   "source": [
    "adata_full = reference_based_harmonizing.add_clean_annotation(adata_full)"
   ]
  },
  {
   "cell_type": "code",
   "execution_count": 34,
   "metadata": {},
   "outputs": [],
   "source": [
    "for lev in range(1, 6):\n",
    "    del adata_full.obs[f\"ann_level_{lev}\"]\n",
    "    adata_full.obs.rename(\n",
    "        columns={f\"ann_level_{lev}_clean\": f\"ann_level_{lev}\"}, inplace=True\n",
    "    )"
   ]
  },
  {
   "cell_type": "markdown",
   "metadata": {},
   "source": [
    "Remove \"Unicorns and Artefacts\" (i.e. doublets, low QC etc.):"
   ]
  },
  {
   "cell_type": "code",
   "execution_count": 35,
   "metadata": {},
   "outputs": [],
   "source": [
    "n_cells_before = adata_full.n_obs"
   ]
  },
  {
   "cell_type": "code",
   "execution_count": null,
   "metadata": {},
   "outputs": [],
   "source": [
    "adata_full = adata_full[\n",
    "    adata_full.obs.ann_level_1 != \"Unicorns_and_artefacts\", :\n",
    "].copy()"
   ]
  },
  {
   "cell_type": "code",
   "execution_count": null,
   "metadata": {},
   "outputs": [],
   "source": [
    "n_cells_after = adata_full.n_obs"
   ]
  },
  {
   "cell_type": "code",
   "execution_count": null,
   "metadata": {},
   "outputs": [],
   "source": [
    "print(\"Cells removed:\", n_cells_before - n_cells_after)"
   ]
  },
  {
   "cell_type": "markdown",
   "metadata": {},
   "source": [
    "### Re-embed (neighbor graph and umap) after removing cells based on manual annotations (incl. e.g. doublets):"
   ]
  },
  {
   "cell_type": "code",
   "execution_count": null,
   "metadata": {},
   "outputs": [],
   "source": [
    "sc.pp.neighbors(adata_full, n_neighbors=30, use_rep=\"X_scanvi_emb\")"
   ]
  },
  {
   "cell_type": "code",
   "execution_count": null,
   "metadata": {},
   "outputs": [],
   "source": [
    "sc.tl.umap(adata_full)"
   ]
  },
  {
   "cell_type": "code",
   "execution_count": null,
   "metadata": {},
   "outputs": [],
   "source": [
    "adata_full.obsm[\"X_umap_scanvi\"] = adata_full.obsm[\"X_umap\"]"
   ]
  },
  {
   "cell_type": "code",
   "execution_count": null,
   "metadata": {},
   "outputs": [],
   "source": [
    "sc.pl.umap(\n",
    "    adata_full,\n",
    "    color=[f\"ann_level_{n}\" for n in range(1, 6)],\n",
    "    frameon=False,\n",
    "    ncols=1,\n",
    ")"
   ]
  },
  {
   "cell_type": "markdown",
   "metadata": {},
   "source": [
    "### Add manual annotation coarse:"
   ]
  },
  {
   "cell_type": "markdown",
   "metadata": {},
   "source": [
    "This annotation, which was also determined manually, is a coarsified version of the final annotations, and will be used for e.g. GWAS mapping to HLCA cell types, and modeling of effects of age, sex etc. on cell types. Each of these coarse annotations is part of the 5-level hierarchical cell-type reference."
   ]
  },
  {
   "cell_type": "code",
   "execution_count": null,
   "metadata": {},
   "outputs": [],
   "source": [
    "fine_ann_to_coarse = {\n",
    "    fine: coarse\n",
    "    for fine, coarse in zip(manual_annot.final_ann, manual_annot.final_ann_coarse)\n",
    "}"
   ]
  },
  {
   "cell_type": "markdown",
   "metadata": {},
   "source": [
    "sanity check: check if there's not an accidental one-to-many mapping:"
   ]
  },
  {
   "cell_type": "code",
   "execution_count": null,
   "metadata": {},
   "outputs": [],
   "source": [
    "for fine, coarse in zip(manual_annot.final_ann, manual_annot.final_ann_coarse):\n",
    "    if fine_ann_to_coarse[fine] != coarse:\n",
    "        print(\n",
    "            f\"There's a one-to-many mapping, check this! Fine: {fine}, coarse: {coarse}\"\n",
    "        )"
   ]
  },
  {
   "cell_type": "markdown",
   "metadata": {},
   "source": [
    "Add coarse annotations to adata:"
   ]
  },
  {
   "cell_type": "code",
   "execution_count": null,
   "metadata": {},
   "outputs": [],
   "source": [
    "adata_full.obs[\"manual_ann_grouped\"] = adata_full.obs.manual_ann.map(fine_ann_to_coarse)"
   ]
  },
  {
   "cell_type": "markdown",
   "metadata": {},
   "source": [
    "And plot:"
   ]
  },
  {
   "cell_type": "code",
   "execution_count": null,
   "metadata": {},
   "outputs": [],
   "source": [
    "sc.pl.umap(adata_full, color=\"manual_ann_grouped\")"
   ]
  },
  {
   "cell_type": "markdown",
   "metadata": {},
   "source": [
    "### Generate colors for all manual annotations, and store:"
   ]
  },
  {
   "cell_type": "markdown",
   "metadata": {},
   "source": [
    "Delete existing color map, as this was generated (for umap above) for all manual annotations, including low QC and doublet clusters. We can generate a color map with fewer colors after removing the cells above."
   ]
  },
  {
   "cell_type": "code",
   "execution_count": null,
   "metadata": {},
   "outputs": [],
   "source": [
    "del adata_full.uns[\"manual_ann_colors\"]"
   ]
  },
  {
   "cell_type": "markdown",
   "metadata": {},
   "source": [
    "Order the remaining manual annotations (i.e. not the doublets etc.) in a biologically sensible order, i.e. using the order of the hierarchical cell type reference."
   ]
  },
  {
   "cell_type": "code",
   "execution_count": null,
   "metadata": {},
   "outputs": [],
   "source": [
    "manual_ann_ordered = [\n",
    "    manann\n",
    "    for manann in final_anns_to_leveled_anns_df.index.tolist()\n",
    "    if manann in adata_full.obs.manual_ann.unique()\n",
    "]"
   ]
  },
  {
   "cell_type": "markdown",
   "metadata": {},
   "source": [
    "Also re-order categories in manual ann adata column accordingly:"
   ]
  },
  {
   "cell_type": "code",
   "execution_count": null,
   "metadata": {},
   "outputs": [],
   "source": [
    "adata_full.obs.manual_ann.cat.reorder_categories(manual_ann_ordered, inplace=True)"
   ]
  },
  {
   "cell_type": "markdown",
   "metadata": {},
   "source": [
    "Do the same for the \"grouped\" manual annotations (i.e. the coarsified annotations), based on the ordered fine annotations:"
   ]
  },
  {
   "cell_type": "code",
   "execution_count": null,
   "metadata": {},
   "outputs": [],
   "source": [
    "del adata_full.uns[\"manual_ann_grouped_colors\"]"
   ]
  },
  {
   "cell_type": "code",
   "execution_count": null,
   "metadata": {},
   "outputs": [],
   "source": [
    "manual_ann_grouped_ordered = list()\n",
    "for manann in manual_ann_ordered:\n",
    "    grouped_manann = fine_ann_to_coarse[manann]\n",
    "    if not grouped_manann in manual_ann_grouped_ordered:\n",
    "        manual_ann_grouped_ordered.append(grouped_manann)"
   ]
  },
  {
   "cell_type": "code",
   "execution_count": null,
   "metadata": {},
   "outputs": [],
   "source": [
    "adata_full.obs.manual_ann_grouped.cat.reorder_categories(\n",
    "    manual_ann_grouped_ordered, inplace=True\n",
    ")"
   ]
  },
  {
   "cell_type": "markdown",
   "metadata": {},
   "source": [
    "Plot umap for both, which autmoatically generated a colormap:"
   ]
  },
  {
   "cell_type": "code",
   "execution_count": null,
   "metadata": {},
   "outputs": [],
   "source": [
    "sc.pl.umap(adata_full, color=\"manual_ann\", frameon=False)"
   ]
  },
  {
   "cell_type": "code",
   "execution_count": null,
   "metadata": {},
   "outputs": [],
   "source": [
    "sc.pl.umap(adata_full, color=\"manual_ann_grouped\", frameon=False)"
   ]
  },
  {
   "cell_type": "markdown",
   "metadata": {},
   "source": [
    "store color mapping in dataframe:"
   ]
  },
  {
   "cell_type": "code",
   "execution_count": null,
   "metadata": {},
   "outputs": [],
   "source": [
    "colors = adata_full.uns[\"manual_ann_colors\"]"
   ]
  },
  {
   "cell_type": "code",
   "execution_count": null,
   "metadata": {},
   "outputs": [],
   "source": [
    "man_ann_to_color = {man_ann: col for man_ann, col in zip(manual_ann_ordered, colors)}"
   ]
  },
  {
   "cell_type": "code",
   "execution_count": null,
   "metadata": {},
   "outputs": [],
   "source": [
    "final_anns_to_leveled_anns_df[\"colors\"] = final_anns_to_leveled_anns_df.index.map(\n",
    "    man_ann_to_color\n",
    ")"
   ]
  },
  {
   "cell_type": "code",
   "execution_count": null,
   "metadata": {},
   "outputs": [],
   "source": [
    "colors_grouped_manann = adata_full.uns[\"manual_ann_grouped_colors\"]"
   ]
  },
  {
   "cell_type": "code",
   "execution_count": null,
   "metadata": {},
   "outputs": [],
   "source": [
    "man_ann_grouped_to_color = {\n",
    "    mananngr: col\n",
    "    for mananngr, col in zip(manual_ann_grouped_ordered, colors_grouped_manann)\n",
    "}"
   ]
  },
  {
   "cell_type": "code",
   "execution_count": null,
   "metadata": {},
   "outputs": [],
   "source": [
    "mananngrouped_df = pd.DataFrame(index=manual_ann_grouped_ordered)\n",
    "mananngrouped_df[\"color\"] = mananngrouped_df.index.map(man_ann_grouped_to_color)"
   ]
  },
  {
   "cell_type": "markdown",
   "metadata": {},
   "source": [
    "store order and colors of annotations"
   ]
  },
  {
   "cell_type": "code",
   "execution_count": null,
   "metadata": {},
   "outputs": [],
   "source": [
    "# remove annotations that were discarded (e.g. \"Doublets\")\n",
    "final_anns_to_leveled_anns_df = final_anns_to_leveled_anns_df.loc[\n",
    "    [\n",
    "        manann\n",
    "        for manann in final_anns_to_leveled_anns_df.index\n",
    "        if manann in adata_full.obs.manual_ann.unique()\n",
    "    ],\n",
    "    :,\n",
    "]"
   ]
  },
  {
   "cell_type": "code",
   "execution_count": null,
   "metadata": {},
   "outputs": [],
   "source": [
    "final_anns_to_leveled_anns_df.to_csv(path_man_anns_levd_and_colors)"
   ]
  },
  {
   "cell_type": "code",
   "execution_count": null,
   "metadata": {},
   "outputs": [],
   "source": [
    "mananngrouped_df.to_csv(path_grouped_man_anns_levd_and_colors)"
   ]
  },
  {
   "cell_type": "markdown",
   "metadata": {},
   "source": [
    "## Quantify re-annotations:"
   ]
  },
  {
   "cell_type": "markdown",
   "metadata": {},
   "source": [
    "Check which cells, according to the manual reannotation, were correctly annotated, incorrectly annotated, or underannotated."
   ]
  },
  {
   "cell_type": "markdown",
   "metadata": {},
   "source": [
    "First, generate two empty dictionaries that will contain the mapping of the manual annotations to the leveled annotations, plus the level of each manual annotation in the hierarchical cell type reference. This will allow us to match the (harmonized) original with the final annotations."
   ]
  },
  {
   "cell_type": "code",
   "execution_count": null,
   "metadata": {},
   "outputs": [],
   "source": [
    "manann2refann = dict()\n",
    "manann2level = dict()"
   ]
  },
  {
   "cell_type": "markdown",
   "metadata": {},
   "source": [
    "check to which level the manual annotations mapped (also check for slight changes in writing, e.g. different capitalization or underscores versus spaces)"
   ]
  },
  {
   "cell_type": "code",
   "execution_count": null,
   "metadata": {},
   "outputs": [],
   "source": [
    "for ct in adata_full.obs.manual_ann.unique():\n",
    "    ct_found = False\n",
    "    for level in [2, 3, 4, 5]:\n",
    "        level_cts = adata_full.obs[f\"ann_level_{level}\"].unique()\n",
    "        if not ct_found:\n",
    "            for level_ct in level_cts:\n",
    "                if ct.lower() == level_ct.lower():\n",
    "                    manann2refann[ct] = level_ct\n",
    "                    manann2level[ct] = level\n",
    "                    ct_found = True\n",
    "                elif ct.replace(\"_\", \" \").lower() == level_ct.lower():\n",
    "                    manann2refann[ct] = level_ct\n",
    "                    manann2level[ct] = level\n",
    "                    ct_found = True\n",
    "                elif ct.replace(\"_\", \" \").lower().strip(\"s\") == level_ct.lower():\n",
    "                    manann2refann[ct] = level_ct\n",
    "                    manann2level[ct] = level\n",
    "                    ct_found = True\n",
    "    if ct_found == True:\n",
    "        if manann2refann[ct] != ct:\n",
    "            print(ct)\n",
    "    if ct_found == False:\n",
    "        print(f\"{ct} not found\")"
   ]
  },
  {
   "cell_type": "markdown",
   "metadata": {},
   "source": [
    "function to determine the reannotation type for every cell. We distinguish four types: \n",
    "- \"correctly annotated\", i.e. the original annotation was at least as detailed as the final annotation, and corresponds to the final annotation at the final annotation's level.\n",
    "- \"underannotated, correct\", i.e. the original annotation was less detailed than the final annotations, and corresponds to the final annotation at a lower level than the final annotation's level\n",
    "- \"underannotated, incorrect\", i.e. the original annotation was less detailed than the final annotation, and does not correspond to the final annotation at that lower level (this will be called \"misannotated in figures and paper)\n",
    "- \"misannotated\", i.e. the original annotation was equally or more detailed than the final annotation, but does not corresond to the final annotation at the final annotation's level."
   ]
  },
  {
   "cell_type": "code",
   "execution_count": null,
   "metadata": {},
   "outputs": [],
   "source": [
    "def get_cell_reannotation_type(\n",
    "    manann, refann, manann2refann, manann2level, consensus_df\n",
    "):\n",
    "    manann_matched = manann2refann[manann]\n",
    "    if manann_matched == refann:\n",
    "        # if manual annotation and original annotation are the same,\n",
    "        # then return correctly annotated\n",
    "        return \"correctly annotated\"\n",
    "    elif refann[:2] in [\"1_\", \"2_\", \"3_\", \"4_\"]:\n",
    "        # if the original annotation has a 1_, 2_ etc. prefix at the level\n",
    "        # of the manual annotation, then it was not annotated at this level.\n",
    "        # In that case, check if the annotation at lower levels was correct.\n",
    "        refann_level = refann[0]\n",
    "        # check what the annotation at the refann_level is for the manual\n",
    "        # annotation.\n",
    "        manann_at_refann_level = consensus_df.loc[\n",
    "            f\"{manann2level[manann]}_{manann_matched}\", f\"level_{refann_level}\"\n",
    "        ]\n",
    "        # if the refann has the correct under-annotation, then return:\n",
    "        if refann[2:] == manann_at_refann_level:\n",
    "            return \"underannotated, correct\"\n",
    "        # otherwise, it was misannotated\n",
    "        else:\n",
    "            return \"underannotated, incorrect\"\n",
    "    # if manann does not match refann, but it doesn't have a prefix,\n",
    "    # then it was misannotated\n",
    "    else:\n",
    "        return \"misannotated\""
   ]
  },
  {
   "cell_type": "markdown",
   "metadata": {},
   "source": [
    "Calculate \"reannotation type\" for all cells in the HLCA:"
   ]
  },
  {
   "cell_type": "code",
   "execution_count": null,
   "metadata": {},
   "outputs": [],
   "source": [
    "adata_full.obs[\"reannotation_type\"] = [\n",
    "    get_cell_reannotation_type(\n",
    "        manann=manann,\n",
    "        refann=adata_full.obs.loc[cell, f\"original_ann_level_{manann2level[manann]}\"],\n",
    "        manann2refann=manann2refann,\n",
    "        manann2level=manann2level,\n",
    "        consensus_df=consensus_df,\n",
    "    )\n",
    "    for cell, manann in zip(adata_full.obs.index, adata_full.obs.manual_ann)\n",
    "]"
   ]
  },
  {
   "cell_type": "markdown",
   "metadata": {},
   "source": [
    "And plot:"
   ]
  },
  {
   "cell_type": "code",
   "execution_count": null,
   "metadata": {},
   "outputs": [],
   "source": [
    "sc.pl.umap(adata_full, color=\"reannotation_type\")"
   ]
  },
  {
   "cell_type": "markdown",
   "metadata": {},
   "source": [
    "### Store final adata:"
   ]
  },
  {
   "cell_type": "code",
   "execution_count": null,
   "metadata": {},
   "outputs": [],
   "source": [
    "adata_full.write(path_output_HLCA)"
   ]
  }
 ],
 "metadata": {
  "kernelspec": {
   "display_name": "Python 3",
   "language": "python",
   "name": "python3"
  },
  "language_info": {
   "codemirror_mode": {
    "name": "ipython",
    "version": 3
   },
   "file_extension": ".py",
   "mimetype": "text/x-python",
   "name": "python",
   "nbconvert_exporter": "python",
   "pygments_lexer": "ipython3",
   "version": "3.7.5"
  }
 },
 "nbformat": 4,
 "nbformat_minor": 4
}
