{
 "cells": [
  {
   "cell_type": "markdown",
   "metadata": {},
   "source": [
    "## Rare cell detection after integration with 3 different methods"
   ]
  },
  {
   "cell_type": "markdown",
   "metadata": {},
   "source": [
    "In this notebook we assess how well rare cells (ionocytes, neuroendocrine cells, and tuft cells) can be detected after integration of datasets with three different methods: scanVI, Seurat's RPCA, and Harmony. We do the same for the final integrated atlas."
   ]
  },
  {
   "cell_type": "markdown",
   "metadata": {},
   "source": [
    "### Import modules, set paths, choose integration to analyze:"
   ]
  },
  {
   "cell_type": "code",
   "execution_count": 1,
   "metadata": {},
   "outputs": [],
   "source": [
    "import scanpy as sc\n",
    "import pandas as pd\n",
    "import sys\n",
    "import os"
   ]
  },
  {
   "cell_type": "markdown",
   "metadata": {},
   "source": [
    "for pretty code formatting (not necessary to run code:)"
   ]
  },
  {
   "cell_type": "code",
   "execution_count": 2,
   "metadata": {},
   "outputs": [],
   "source": [
    "%load_ext lab_black"
   ]
  },
  {
   "cell_type": "markdown",
   "metadata": {},
   "source": [
    "set figures to high resolution (also not necessary to run code):"
   ]
  },
  {
   "cell_type": "code",
   "execution_count": 3,
   "metadata": {},
   "outputs": [],
   "source": [
    "sc.set_figure_params(dpi=140)"
   ]
  },
  {
   "cell_type": "markdown",
   "metadata": {},
   "source": [
    "initiate empty dictionary in which to store figures:"
   ]
  },
  {
   "cell_type": "code",
   "execution_count": 4,
   "metadata": {},
   "outputs": [],
   "source": [
    "FIGURES = dict()"
   ]
  },
  {
   "cell_type": "markdown",
   "metadata": {},
   "source": [
    "set paths:"
   ]
  },
  {
   "cell_type": "code",
   "execution_count": 5,
   "metadata": {},
   "outputs": [],
   "source": [
    "dir_benchmarking_res = (\n",
    "    \"../../results/integration_benchmarking/benchmarking_results/integration/\"\n",
    ")\n",
    "dir_clustering = \"../../results/integration_benchmarking/clustering/\"\n",
    "dir_results = \"../../results/integration_benchmarking/rare_cell_recovery/\"\n",
    "path_HLCA = \"../../data/HLCA_core_h5ads/HLCA_v1.h5ad\""
   ]
  },
  {
   "cell_type": "markdown",
   "metadata": {},
   "source": [
    "choose the integration to analyze (choose one of the four lines below):"
   ]
  },
  {
   "cell_type": "code",
   "execution_count": 6,
   "metadata": {},
   "outputs": [],
   "source": [
    "# dataset = \"LCA_v1\"  # full atlas\n",
    "# dataset = \"scanvi\"  # benchmarking\n",
    "# dataset = \"seuratrpca\"  # benchmarking\n",
    "dataset = \"scanvi\"  # benchmarking"
   ]
  },
  {
   "cell_type": "markdown",
   "metadata": {},
   "source": [
    "### Perform analysis:"
   ]
  },
  {
   "cell_type": "markdown",
   "metadata": {},
   "source": [
    "import the data, and the matched nested clustering. We will use the integration with optimal preprocessing for every method, as assessed via benchmarking:"
   ]
  },
  {
   "cell_type": "code",
   "execution_count": 7,
   "metadata": {},
   "outputs": [
    {
     "name": "stdout",
     "output_type": "stream",
     "text": [
      "Dataset name: scanvi\n",
      "importing scanvi data\n"
     ]
    }
   ],
   "source": [
    "print(\"Dataset name:\", dataset)\n",
    "if dataset == \"LCA_v1\":\n",
    "    print(f\"importing {dataset} data\")\n",
    "    adata = sc.read(path_HLCA)\n",
    "else:\n",
    "    # import the integration with the best-performing preprocessing (i.e. either\n",
    "    # with or without scaling, and hvg versus full feature)\n",
    "    if dataset == \"seuratrpca\":\n",
    "        print(f\"importing {dataset} data\")\n",
    "        adata = sc.read(\n",
    "            os.path.join(dir_benchmarking_res, f\"unscaled/hvg/R/{dataset}.h5ad\")\n",
    "        )\n",
    "    elif dataset == \"harmony\":\n",
    "        print(f\"importing {dataset} data\")\n",
    "        adata = sc.read(\n",
    "            os.path.join(dir_benchmarking_res, f\"scaled/hvg/R/{dataset}.h5ad\")\n",
    "        )\n",
    "    elif dataset == \"scanvi\":\n",
    "        print(f\"importing {dataset} data\")\n",
    "        adata = sc.read(\n",
    "            os.path.join(dir_benchmarking_res, f\"unscaled/hvg/{dataset}.h5ad\")\n",
    "        )\n",
    "    # update brush/tuft cell naming. In the paper we call them tuft and\n",
    "    # not brush anymore\n",
    "    ct_name_updater = {ct: ct for ct in adata.obs.ann_level_4.unique()}\n",
    "    ct_name_updater[\"Brush Cell/Tuft\"] = \"Brush Cell Tuft\"\n",
    "    adata.obs.ann_level_4 = adata.obs.ann_level_4.map(ct_name_updater)\n",
    "    # import cluster assignments:\n",
    "    for cl_level in [\"1\", \"2\", \"3\"]:\n",
    "        cl_ass = pd.read_csv(\n",
    "            os.path.join(\n",
    "                dir_clustering,\n",
    "                f\"{dataset}/{dataset}_leiden_{cl_level}_cluster_assignment.csv\",\n",
    "            ),\n",
    "            index_col=0,\n",
    "        )\n",
    "        adata.obs[f\"leiden_{cl_level}\"] = cl_ass.loc[\n",
    "            adata.obs.index, f\"leiden_{cl_level}\"\n",
    "        ]"
   ]
  },
  {
   "cell_type": "markdown",
   "metadata": {},
   "source": [
    "Print percentage of cells annotated as each of the three rare cell types:"
   ]
  },
  {
   "cell_type": "code",
   "execution_count": 8,
   "metadata": {},
   "outputs": [
    {
     "data": {
      "text/html": [
       "<div>\n",
       "<style scoped>\n",
       "    .dataframe tbody tr th:only-of-type {\n",
       "        vertical-align: middle;\n",
       "    }\n",
       "\n",
       "    .dataframe tbody tr th {\n",
       "        vertical-align: top;\n",
       "    }\n",
       "\n",
       "    .dataframe thead th {\n",
       "        text-align: right;\n",
       "    }\n",
       "</style>\n",
       "<table border=\"1\" class=\"dataframe\">\n",
       "  <thead>\n",
       "    <tr style=\"text-align: right;\">\n",
       "      <th></th>\n",
       "      <th>ann_level_4</th>\n",
       "    </tr>\n",
       "    <tr>\n",
       "      <th>ann_level_4</th>\n",
       "      <th></th>\n",
       "    </tr>\n",
       "  </thead>\n",
       "  <tbody>\n",
       "    <tr>\n",
       "      <th>Ionocyte</th>\n",
       "      <td>0.065034</td>\n",
       "    </tr>\n",
       "    <tr>\n",
       "      <th>Neuroendocrine</th>\n",
       "      <td>0.027411</td>\n",
       "    </tr>\n",
       "    <tr>\n",
       "      <th>Brush Cell Tuft</th>\n",
       "      <td>0.023111</td>\n",
       "    </tr>\n",
       "  </tbody>\n",
       "</table>\n",
       "</div>"
      ],
      "text/plain": [
       "                 ann_level_4\n",
       "ann_level_4                 \n",
       "Ionocyte            0.065034\n",
       "Neuroendocrine      0.027411\n",
       "Brush Cell Tuft     0.023111"
      ]
     },
     "execution_count": 8,
     "metadata": {},
     "output_type": "execute_result"
    }
   ],
   "source": [
    "ct_counts = adata.obs.groupby(\"ann_level_4\").agg({\"ann_level_4\": \"count\"})\n",
    "ct_counts = ct_counts / ct_counts.sum() * 100\n",
    "ct_counts.loc[[\"Ionocyte\", \"Neuroendocrine\", \"Brush Cell Tuft\"], :]"
   ]
  },
  {
   "cell_type": "markdown",
   "metadata": {},
   "source": [
    "Calculate cluster sizes for leiden 3 clusters (i.e. finest clusters of nested clustering):"
   ]
  },
  {
   "cell_type": "code",
   "execution_count": 9,
   "metadata": {},
   "outputs": [],
   "source": [
    "cluster_sizes = (\n",
    "    adata.obs.groupby(\"leiden_3\")\n",
    "    .agg({\"leiden_3\": \"count\"})\n",
    "    .rename(columns={\"leiden_3\": \"n_cells\"})\n",
    ")"
   ]
  },
  {
   "cell_type": "markdown",
   "metadata": {},
   "source": [
    "Calculate number of rare cells per cluster (i.e. annotated at level 3 as \"Rare\"):"
   ]
  },
  {
   "cell_type": "code",
   "execution_count": 10,
   "metadata": {},
   "outputs": [],
   "source": [
    "leiden_3_Rare_count = (\n",
    "    adata.obs.groupby([\"ann_level_3\", \"leiden_3\"])\n",
    "    .agg({\"leiden_3\": \"count\"})\n",
    "    .loc[\"Rare\", :]\n",
    "    .rename(columns={\"leiden_3\": \"n_cells\"})\n",
    "    .sort_values(by=\"n_cells\", ascending=False)\n",
    ")"
   ]
  },
  {
   "cell_type": "markdown",
   "metadata": {},
   "source": [
    "Calculate number of level-4 annotated rare cells per cluster (i.e. annotated at level 4 as \"Ionocyte\", \"Tuft\" or \"Neuroendicrone\"):"
   ]
  },
  {
   "cell_type": "code",
   "execution_count": 11,
   "metadata": {},
   "outputs": [],
   "source": [
    "rare_cells_cluster_ass = (\n",
    "    adata.obs.groupby([\"ann_level_4\", \"leiden_3\"])\n",
    "    .agg({\"leiden_3\": \"count\"})\n",
    "    .rename(columns={\"leiden_3\": \"n_cells\"})\n",
    ")"
   ]
  },
  {
   "cell_type": "markdown",
   "metadata": {},
   "source": [
    "Now calculate recall (perc. of annotated rare cells recovered in cluster) and precision (percentage of cells in cluster annotated as rare cell) for each of these annotations:"
   ]
  },
  {
   "cell_type": "code",
   "execution_count": 12,
   "metadata": {},
   "outputs": [],
   "source": [
    "rare_cell_recall = pd.DataFrame(index=sorted(adata.obs.leiden_3.unique()))\n",
    "# neuroendocrine\n",
    "rare_cell_recall[\"n_ne\"] = 0\n",
    "rare_cell_recall.loc[\n",
    "    rare_cells_cluster_ass.loc[\"Neuroendocrine\"].index, \"n_ne\"\n",
    "] = rare_cells_cluster_ass.loc[\"Neuroendocrine\"].n_cells\n",
    "rare_cell_recall[\"recall_ne\"] = round(\n",
    "    rare_cell_recall.n_ne / rare_cell_recall.n_ne.sum(), 3\n",
    ")\n",
    "rare_cell_recall[\"prec_ne\"] = round(\n",
    "    rare_cell_recall.n_ne / cluster_sizes.loc[rare_cell_recall.index, \"n_cells\"], 3\n",
    ")\n",
    "# ionoctyes\n",
    "rare_cell_recall[\"n_io\"] = 0\n",
    "rare_cell_recall.loc[\n",
    "    rare_cells_cluster_ass.loc[\"Ionocyte\"].index, \"n_io\"\n",
    "] = rare_cells_cluster_ass.loc[\"Ionocyte\"].n_cells\n",
    "\n",
    "rare_cell_recall[\"recall_io\"] = round(\n",
    "    rare_cell_recall.n_io / rare_cell_recall.n_io.sum(), 3\n",
    ")\n",
    "rare_cell_recall[\"prec_io\"] = round(\n",
    "    rare_cell_recall.n_io / cluster_sizes.loc[rare_cell_recall.index, \"n_cells\"], 3\n",
    ")\n",
    "# brush/tuft\n",
    "rare_cell_recall[\"n_brush\"] = 0\n",
    "rare_cell_recall.loc[\n",
    "    rare_cells_cluster_ass.loc[\"Brush Cell Tuft\"].index, \"n_brush\"\n",
    "] = rare_cells_cluster_ass.loc[\"Brush Cell Tuft\"].n_cells\n",
    "\n",
    "\n",
    "rare_cell_recall[\"recall_brush\"] = round(\n",
    "    rare_cell_recall.n_brush / rare_cell_recall.n_brush.sum(), 3\n",
    ")\n",
    "rare_cell_recall[\"prec_brush\"] = round(\n",
    "    rare_cell_recall.n_brush / cluster_sizes.loc[rare_cell_recall.index, \"n_cells\"], 3\n",
    ")\n",
    "# total\n",
    "rare_cell_recall[\"recall_Rare\"] = 0\n",
    "\n",
    "rare_cell_recall.loc[leiden_3_Rare_count.index, \"recall_Rare\"] = round(\n",
    "    leiden_3_Rare_count.n_cells / leiden_3_Rare_count.n_cells.sum(),\n",
    "    3,\n",
    ")\n",
    "rare_cell_recall.loc[leiden_3_Rare_count.index, \"prec_Rare\"] = round(\n",
    "    leiden_3_Rare_count.n_cells\n",
    "    / cluster_sizes.loc[leiden_3_Rare_count.index, \"n_cells\"],\n",
    "    3,\n",
    ")\n",
    "# sort by total\n",
    "rare_cell_recall.sort_values(by=\"recall_Rare\", inplace=True, ascending=False)"
   ]
  },
  {
   "cell_type": "markdown",
   "metadata": {},
   "source": [
    "Keep only clusters with at least one rare cell:"
   ]
  },
  {
   "cell_type": "code",
   "execution_count": 13,
   "metadata": {},
   "outputs": [],
   "source": [
    "recall = rare_cell_recall.loc[rare_cell_recall.recall_Rare > 0, :]"
   ]
  },
  {
   "cell_type": "markdown",
   "metadata": {},
   "source": [
    "identify top recall clusters for ionocytes, brush/tuft, and neuroendocrine:"
   ]
  },
  {
   "cell_type": "code",
   "execution_count": 14,
   "metadata": {},
   "outputs": [],
   "source": [
    "io_top_cl = recall.sort_values(by=\"recall_io\", ascending=False).index[0]\n",
    "brush_top_cl = recall.sort_values(by=\"recall_brush\", ascending=False).index[0]\n",
    "if io_top_cl == brush_top_cl:\n",
    "    brush_top_cl = recall.sort_values(by=\"recall_brush\", ascending=False).index[1]\n",
    "ne_top_cl = recall.sort_values(by=\"recall_ne\", ascending=False).index[0]"
   ]
  },
  {
   "cell_type": "markdown",
   "metadata": {},
   "source": [
    "Take top 3, convert fractions to percentages:"
   ]
  },
  {
   "cell_type": "code",
   "execution_count": 15,
   "metadata": {},
   "outputs": [],
   "source": [
    "recall_top3 = (\n",
    "    recall.loc[\n",
    "        [io_top_cl, brush_top_cl, ne_top_cl], [\"recall_io\", \"recall_brush\", \"recall_ne\"]\n",
    "    ]\n",
    "    * 100\n",
    ")"
   ]
  },
  {
   "cell_type": "markdown",
   "metadata": {},
   "source": [
    "Rename columns:"
   ]
  },
  {
   "cell_type": "code",
   "execution_count": 16,
   "metadata": {},
   "outputs": [],
   "source": [
    "recall_top3.rename(\n",
    "    columns={\n",
    "        \"recall_ne\": \"% of NE cell annotations\",\n",
    "        \"recall_io\": \"% of ionocyte annotations\",\n",
    "        \"recall_brush\": \"% of tuft annotations\",\n",
    "    },\n",
    "    inplace=True,\n",
    ")\n",
    "recall_top3.index.name = \"res. 3 cluster\"\n",
    "# recall_top3 = recall_top3.loc[sorted(recall_top3.index.tolist()), :]"
   ]
  },
  {
   "cell_type": "markdown",
   "metadata": {},
   "source": [
    "Do the same for the precision results:"
   ]
  },
  {
   "cell_type": "code",
   "execution_count": 17,
   "metadata": {},
   "outputs": [],
   "source": [
    "precision_top3 = (\n",
    "    recall.loc[\n",
    "        [io_top_cl, brush_top_cl, ne_top_cl], [\"prec_io\", \"prec_brush\", \"prec_ne\"]\n",
    "    ]\n",
    "    * 100\n",
    ")"
   ]
  },
  {
   "cell_type": "code",
   "execution_count": 18,
   "metadata": {},
   "outputs": [],
   "source": [
    "precision_top3.rename(\n",
    "    columns={\n",
    "        \"prec_ne\": \"NE precision\",\n",
    "        \"prec_io\": \"Ionocyte precision\",\n",
    "        \"prec_brush\": \"Tuft precision\",\n",
    "    },\n",
    "    inplace=True,\n",
    ")\n",
    "precision_top3.index.name = \"res. 3 cluster\""
   ]
  },
  {
   "cell_type": "markdown",
   "metadata": {},
   "source": [
    "Remove name of column names:"
   ]
  },
  {
   "cell_type": "code",
   "execution_count": 19,
   "metadata": {},
   "outputs": [],
   "source": [
    "recall_top3.columns.name = None\n",
    "precision_top3.columns.name = None"
   ]
  },
  {
   "cell_type": "markdown",
   "metadata": {},
   "source": [
    "Show results:"
   ]
  },
  {
   "cell_type": "code",
   "execution_count": 20,
   "metadata": {},
   "outputs": [
    {
     "data": {
      "text/html": [
       "<div>\n",
       "<style scoped>\n",
       "    .dataframe tbody tr th:only-of-type {\n",
       "        vertical-align: middle;\n",
       "    }\n",
       "\n",
       "    .dataframe tbody tr th {\n",
       "        vertical-align: top;\n",
       "    }\n",
       "\n",
       "    .dataframe thead th {\n",
       "        text-align: right;\n",
       "    }\n",
       "</style>\n",
       "<table border=\"1\" class=\"dataframe\">\n",
       "  <thead>\n",
       "    <tr style=\"text-align: right;\">\n",
       "      <th></th>\n",
       "      <th>% of ionocyte annotations</th>\n",
       "      <th>% of tuft annotations</th>\n",
       "      <th>% of NE cell annotations</th>\n",
       "    </tr>\n",
       "    <tr>\n",
       "      <th>res. 3 cluster</th>\n",
       "      <th></th>\n",
       "      <th></th>\n",
       "      <th></th>\n",
       "    </tr>\n",
       "  </thead>\n",
       "  <tbody>\n",
       "    <tr>\n",
       "      <th>0.7.0</th>\n",
       "      <td>90.9</td>\n",
       "      <td>9.3</td>\n",
       "      <td>0.0</td>\n",
       "    </tr>\n",
       "    <tr>\n",
       "      <th>0.7.3</th>\n",
       "      <td>1.7</td>\n",
       "      <td>79.1</td>\n",
       "      <td>0.0</td>\n",
       "    </tr>\n",
       "    <tr>\n",
       "      <th>0.7.4</th>\n",
       "      <td>1.2</td>\n",
       "      <td>1.2</td>\n",
       "      <td>94.1</td>\n",
       "    </tr>\n",
       "  </tbody>\n",
       "</table>\n",
       "</div>"
      ],
      "text/plain": [
       "                % of ionocyte annotations  % of tuft annotations  \\\n",
       "res. 3 cluster                                                     \n",
       "0.7.0                                90.9                    9.3   \n",
       "0.7.3                                 1.7                   79.1   \n",
       "0.7.4                                 1.2                    1.2   \n",
       "\n",
       "                % of NE cell annotations  \n",
       "res. 3 cluster                            \n",
       "0.7.0                                0.0  \n",
       "0.7.3                                0.0  \n",
       "0.7.4                               94.1  "
      ]
     },
     "execution_count": 20,
     "metadata": {},
     "output_type": "execute_result"
    }
   ],
   "source": [
    "recall_top3"
   ]
  },
  {
   "cell_type": "code",
   "execution_count": 21,
   "metadata": {},
   "outputs": [
    {
     "data": {
      "text/html": [
       "<div>\n",
       "<style scoped>\n",
       "    .dataframe tbody tr th:only-of-type {\n",
       "        vertical-align: middle;\n",
       "    }\n",
       "\n",
       "    .dataframe tbody tr th {\n",
       "        vertical-align: top;\n",
       "    }\n",
       "\n",
       "    .dataframe thead th {\n",
       "        text-align: right;\n",
       "    }\n",
       "</style>\n",
       "<table border=\"1\" class=\"dataframe\">\n",
       "  <thead>\n",
       "    <tr style=\"text-align: right;\">\n",
       "      <th></th>\n",
       "      <th>Ionocyte precision</th>\n",
       "      <th>Tuft precision</th>\n",
       "      <th>NE precision</th>\n",
       "    </tr>\n",
       "    <tr>\n",
       "      <th>res. 3 cluster</th>\n",
       "      <th></th>\n",
       "      <th></th>\n",
       "      <th></th>\n",
       "    </tr>\n",
       "  </thead>\n",
       "  <tbody>\n",
       "    <tr>\n",
       "      <th>0.7.0</th>\n",
       "      <td>59.9</td>\n",
       "      <td>2.2</td>\n",
       "      <td>0.0</td>\n",
       "    </tr>\n",
       "    <tr>\n",
       "      <th>0.7.3</th>\n",
       "      <td>2.6</td>\n",
       "      <td>44.4</td>\n",
       "      <td>0.0</td>\n",
       "    </tr>\n",
       "    <tr>\n",
       "      <th>0.7.4</th>\n",
       "      <td>2.1</td>\n",
       "      <td>0.7</td>\n",
       "      <td>68.6</td>\n",
       "    </tr>\n",
       "  </tbody>\n",
       "</table>\n",
       "</div>"
      ],
      "text/plain": [
       "                Ionocyte precision  Tuft precision  NE precision\n",
       "res. 3 cluster                                                  \n",
       "0.7.0                         59.9             2.2           0.0\n",
       "0.7.3                          2.6            44.4           0.0\n",
       "0.7.4                          2.1             0.7          68.6"
      ]
     },
     "execution_count": 21,
     "metadata": {},
     "output_type": "execute_result"
    }
   ],
   "source": [
    "precision_top3"
   ]
  },
  {
   "cell_type": "markdown",
   "metadata": {},
   "source": [
    "Save result:"
   ]
  },
  {
   "cell_type": "code",
   "execution_count": 23,
   "metadata": {},
   "outputs": [],
   "source": [
    "recall_top3.to_csv(os.path.join(dir_results, f\"Rare_cell_recall_{dataset}.csv\"))\n",
    "precision_top3.to_csv(os.path.join(dir_results, f\"Rare_cell_precision_{dataset}.csv\"))"
   ]
  },
  {
   "cell_type": "code",
   "execution_count": null,
   "metadata": {},
   "outputs": [],
   "source": []
  }
 ],
 "metadata": {
  "kernelspec": {
   "display_name": "Python 3",
   "language": "python",
   "name": "python3"
  },
  "language_info": {
   "codemirror_mode": {
    "name": "ipython",
    "version": 3
   },
   "file_extension": ".py",
   "mimetype": "text/x-python",
   "name": "python",
   "nbconvert_exporter": "python",
   "pygments_lexer": "ipython3",
   "version": "3.7.5"
  }
 },
 "nbformat": 4,
 "nbformat_minor": 4
}
