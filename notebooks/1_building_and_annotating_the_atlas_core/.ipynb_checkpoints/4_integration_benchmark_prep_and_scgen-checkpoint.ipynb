{
 "cells": [
  {
   "cell_type": "markdown",
   "metadata": {},
   "source": [
    "## Integration benchmarking prep and integration with scGen"
   ]
  },
  {
   "cell_type": "markdown",
   "metadata": {},
   "source": [
    "In this notebook, we prepare the benchmarking atlas (subset of total atlas) for integration. As 2 methods in the benchmarking require cell labels, we will create common (coarse) cell labels across all cells in the benchmarking atlas.<br>\n",
    "We will also run scGen, as this method was not included in the automated integration of scIB."
   ]
  },
  {
   "cell_type": "code",
   "execution_count": 2,
   "metadata": {},
   "outputs": [],
   "source": [
    "import scanpy as sc\n",
    "import numpy as np\n",
    "import pandas as pd\n",
    "import scgen # only needed for final part, running scgen\n",
    "import sys"
   ]
  },
  {
   "cell_type": "markdown",
   "metadata": {},
   "source": [
    "### create integration object from normally annotated object:"
   ]
  },
  {
   "cell_type": "code",
   "execution_count": 3,
   "metadata": {},
   "outputs": [],
   "source": [
    "adata = sc.read(\n",
    "    \"../../data/HLCA_core_h5ads/benchmarking_atlas/Barb_Kras_Krop_Lafy_Meye_Mish_MishNew_Nawi_Seib_Teic_log1p.h5ad\"\n",
    ")"
   ]
  },
  {
   "cell_type": "code",
   "execution_count": 4,
   "metadata": {},
   "outputs": [
    {
     "data": {
      "text/plain": [
       "[Meyer, Kropski/Banovich, Barbry/Leroy, Lafyatis/Rojas, Seibold, Krasnow/Quake, Misharin, Teichmann, Nawijn, Misharin/Budinger]\n",
       "Categories (10, object): [Meyer, Kropski/Banovich, Barbry/Leroy, Lafyatis/Rojas, ..., Misharin, Teichmann, Nawijn, Misharin/Budinger]"
      ]
     },
     "execution_count": 4,
     "metadata": {},
     "output_type": "execute_result"
    }
   ],
   "source": [
    "adata.obs['last_author/PI'].unique()"
   ]
  },
  {
   "cell_type": "markdown",
   "metadata": {},
   "source": [
    "### make label-vector for scGen: level 3 where possible, otherwise level 2"
   ]
  },
  {
   "cell_type": "code",
   "execution_count": 5,
   "metadata": {},
   "outputs": [
    {
     "data": {
      "text/plain": [
       "(18302, 31099)"
      ]
     },
     "execution_count": 5,
     "metadata": {},
     "output_type": "execute_result"
    }
   ],
   "source": [
    "lev2_adata = adata[adata.obs.ann_highest_res == 2, :].copy()\n",
    "lev2_adata.shape"
   ]
  },
  {
   "cell_type": "code",
   "execution_count": 6,
   "metadata": {},
   "outputs": [
    {
     "data": {
      "text/plain": [
       "(3770, 31099)"
      ]
     },
     "execution_count": 6,
     "metadata": {},
     "output_type": "execute_result"
    }
   ],
   "source": [
    "lev1_adata = adata[adata.obs.ann_highest_res == 1, :].copy()\n",
    "lev1_adata.shape"
   ]
  },
  {
   "cell_type": "code",
   "execution_count": 7,
   "metadata": {},
   "outputs": [
    {
     "data": {
      "text/plain": [
       "{'Blood vessels',\n",
       " 'Fibroblast lineage',\n",
       " 'Lymphoid',\n",
       " 'Mesothelium',\n",
       " 'Smooth Muscle'}"
      ]
     },
     "execution_count": 7,
     "metadata": {},
     "output_type": "execute_result"
    }
   ],
   "source": [
    "set(lev2_adata.obs.ann_level_2)"
   ]
  },
  {
   "cell_type": "code",
   "execution_count": 8,
   "metadata": {},
   "outputs": [],
   "source": [
    "lev1_df = lev1_adata.obs.groupby(\"ann_level_1\").agg(\n",
    "    {\"ann_level_1\": \"count\", \"last_author/PI\": \"nunique\"}\n",
    ")  # , 'dataset':'first'})\n",
    "lev2_df = lev2_adata.obs.groupby(\"ann_level_2\").agg(\n",
    "    {\"ann_level_2\": \"count\", \"last_author/PI\": \"nunique\"}\n",
    ")"
   ]
  },
  {
   "cell_type": "code",
   "execution_count": 9,
   "metadata": {},
   "outputs": [
    {
     "data": {
      "text/html": [
       "<div>\n",
       "<style scoped>\n",
       "    .dataframe tbody tr th:only-of-type {\n",
       "        vertical-align: middle;\n",
       "    }\n",
       "\n",
       "    .dataframe tbody tr th {\n",
       "        vertical-align: top;\n",
       "    }\n",
       "\n",
       "    .dataframe thead th {\n",
       "        text-align: right;\n",
       "    }\n",
       "</style>\n",
       "<table border=\"1\" class=\"dataframe\">\n",
       "  <thead>\n",
       "    <tr style=\"text-align: right;\">\n",
       "      <th></th>\n",
       "      <th>ann_level_1</th>\n",
       "      <th>last_author/PI</th>\n",
       "    </tr>\n",
       "    <tr>\n",
       "      <th>ann_level_1</th>\n",
       "      <th></th>\n",
       "      <th></th>\n",
       "    </tr>\n",
       "  </thead>\n",
       "  <tbody>\n",
       "    <tr>\n",
       "      <th>Cycling cells</th>\n",
       "      <td>373</td>\n",
       "      <td>3</td>\n",
       "    </tr>\n",
       "    <tr>\n",
       "      <th>Epithelial</th>\n",
       "      <td>1893</td>\n",
       "      <td>1</td>\n",
       "    </tr>\n",
       "    <tr>\n",
       "      <th>Stroma</th>\n",
       "      <td>933</td>\n",
       "      <td>2</td>\n",
       "    </tr>\n",
       "    <tr>\n",
       "      <th>Unicorns and artifacts</th>\n",
       "      <td>571</td>\n",
       "      <td>2</td>\n",
       "    </tr>\n",
       "  </tbody>\n",
       "</table>\n",
       "</div>"
      ],
      "text/plain": [
       "                        ann_level_1  last_author/PI\n",
       "ann_level_1                                        \n",
       "Cycling cells                   373               3\n",
       "Epithelial                     1893               1\n",
       "Stroma                          933               2\n",
       "Unicorns and artifacts          571               2"
      ]
     },
     "execution_count": 9,
     "metadata": {},
     "output_type": "execute_result"
    }
   ],
   "source": [
    "lev1_df"
   ]
  },
  {
   "cell_type": "code",
   "execution_count": 10,
   "metadata": {},
   "outputs": [],
   "source": [
    "df_all_lev2 = adata.obs.groupby(\"ann_level_2\").agg(\n",
    "    {\"ann_level_2\": \"count\", \"ann_level_3\": \"nunique\", \"last_author/PI\": \"nunique\"}\n",
    ")\n",
    "df_all_lev1 = adata.obs.groupby(\"ann_level_1\").agg(\n",
    "    {\"ann_level_1\": \"count\", \"ann_level_3\": \"nunique\", \"last_author/PI\": \"nunique\"}\n",
    ")"
   ]
  },
  {
   "cell_type": "markdown",
   "metadata": {},
   "source": [
    "per celltype, show proportion of cells that has max-level 2 annotations:"
   ]
  },
  {
   "cell_type": "code",
   "execution_count": 11,
   "metadata": {},
   "outputs": [],
   "source": [
    "lev2_df[\"proportion under-annotated\"] = np.round(\n",
    "    lev2_df.ann_level_2 / df_all_lev2.loc[lev2_df.index, \"ann_level_2\"], 2\n",
    ")\n",
    "lev2_df[\"ncells with higher ann\"] = (\n",
    "    df_all_lev2.loc[lev2_df.index, \"ann_level_2\"] - lev2_df.ann_level_2\n",
    ")\n",
    "lev2_df.rename(\n",
    "    columns={\"ann_level_2\": \"n_cells\", \"last_author/PI\": \"n_datasets\"}, inplace=True\n",
    ")"
   ]
  },
  {
   "cell_type": "code",
   "execution_count": 12,
   "metadata": {},
   "outputs": [
    {
     "data": {
      "text/html": [
       "<div>\n",
       "<style scoped>\n",
       "    .dataframe tbody tr th:only-of-type {\n",
       "        vertical-align: middle;\n",
       "    }\n",
       "\n",
       "    .dataframe tbody tr th {\n",
       "        vertical-align: top;\n",
       "    }\n",
       "\n",
       "    .dataframe thead th {\n",
       "        text-align: right;\n",
       "    }\n",
       "</style>\n",
       "<table border=\"1\" class=\"dataframe\">\n",
       "  <thead>\n",
       "    <tr style=\"text-align: right;\">\n",
       "      <th></th>\n",
       "      <th>n_cells</th>\n",
       "      <th>n_datasets</th>\n",
       "      <th>proportion under-annotated</th>\n",
       "      <th>ncells with higher ann</th>\n",
       "    </tr>\n",
       "    <tr>\n",
       "      <th>ann_level_2</th>\n",
       "      <th></th>\n",
       "      <th></th>\n",
       "      <th></th>\n",
       "      <th></th>\n",
       "    </tr>\n",
       "  </thead>\n",
       "  <tbody>\n",
       "    <tr>\n",
       "      <th>Blood vessels</th>\n",
       "      <td>9662</td>\n",
       "      <td>6</td>\n",
       "      <td>0.37</td>\n",
       "      <td>16493</td>\n",
       "    </tr>\n",
       "    <tr>\n",
       "      <th>Fibroblast lineage</th>\n",
       "      <td>5331</td>\n",
       "      <td>3</td>\n",
       "      <td>0.37</td>\n",
       "      <td>9272</td>\n",
       "    </tr>\n",
       "    <tr>\n",
       "      <th>Lymphoid</th>\n",
       "      <td>1300</td>\n",
       "      <td>2</td>\n",
       "      <td>0.03</td>\n",
       "      <td>47404</td>\n",
       "    </tr>\n",
       "    <tr>\n",
       "      <th>Mesothelium</th>\n",
       "      <td>204</td>\n",
       "      <td>4</td>\n",
       "      <td>0.95</td>\n",
       "      <td>10</td>\n",
       "    </tr>\n",
       "    <tr>\n",
       "      <th>Smooth Muscle</th>\n",
       "      <td>1805</td>\n",
       "      <td>5</td>\n",
       "      <td>0.54</td>\n",
       "      <td>1546</td>\n",
       "    </tr>\n",
       "  </tbody>\n",
       "</table>\n",
       "</div>"
      ],
      "text/plain": [
       "                    n_cells  n_datasets  proportion under-annotated  \\\n",
       "ann_level_2                                                           \n",
       "Blood vessels          9662           6                        0.37   \n",
       "Fibroblast lineage     5331           3                        0.37   \n",
       "Lymphoid               1300           2                        0.03   \n",
       "Mesothelium             204           4                        0.95   \n",
       "Smooth Muscle          1805           5                        0.54   \n",
       "\n",
       "                    ncells with higher ann  \n",
       "ann_level_2                                 \n",
       "Blood vessels                        16493  \n",
       "Fibroblast lineage                    9272  \n",
       "Lymphoid                             47404  \n",
       "Mesothelium                             10  \n",
       "Smooth Muscle                         1546  "
      ]
     },
     "execution_count": 12,
     "metadata": {},
     "output_type": "execute_result"
    }
   ],
   "source": [
    "lev2_df"
   ]
  },
  {
   "cell_type": "markdown",
   "metadata": {},
   "source": [
    "Plan for level 2:  \n",
    "1) set all blood vessels to level 2 annotation  \n",
    "2) set all fibroblasts to level 2 annotation  \n",
    "3) remove level 2 lymphoid annotations, mixed bags  \n",
    "4) set all mesothelium to level 2 annotation  \n",
    "5) set all smooth muscle to level 2 annotation  \n"
   ]
  },
  {
   "cell_type": "code",
   "execution_count": 13,
   "metadata": {},
   "outputs": [],
   "source": [
    "lev1_df[\"proportion under-annotated\"] = np.round(\n",
    "    lev1_df.ann_level_1 / df_all_lev1.loc[lev1_df.index, \"ann_level_1\"], 2\n",
    ")\n",
    "lev1_df[\"ncells with finer ann\"] = (\n",
    "    df_all_lev1.loc[lev1_df.index, \"ann_level_1\"] - lev1_df.ann_level_1\n",
    ")\n",
    "lev1_df.rename(\n",
    "    columns={\"ann_level_1\": \"n_cells\", \"last_author/PI\": \"n_datasets\"}, inplace=True\n",
    ")"
   ]
  },
  {
   "cell_type": "code",
   "execution_count": 14,
   "metadata": {},
   "outputs": [
    {
     "data": {
      "text/html": [
       "<div>\n",
       "<style scoped>\n",
       "    .dataframe tbody tr th:only-of-type {\n",
       "        vertical-align: middle;\n",
       "    }\n",
       "\n",
       "    .dataframe tbody tr th {\n",
       "        vertical-align: top;\n",
       "    }\n",
       "\n",
       "    .dataframe thead th {\n",
       "        text-align: right;\n",
       "    }\n",
       "</style>\n",
       "<table border=\"1\" class=\"dataframe\">\n",
       "  <thead>\n",
       "    <tr style=\"text-align: right;\">\n",
       "      <th></th>\n",
       "      <th>n_cells</th>\n",
       "      <th>n_datasets</th>\n",
       "      <th>proportion under-annotated</th>\n",
       "      <th>ncells with finer ann</th>\n",
       "    </tr>\n",
       "    <tr>\n",
       "      <th>ann_level_1</th>\n",
       "      <th></th>\n",
       "      <th></th>\n",
       "      <th></th>\n",
       "      <th></th>\n",
       "    </tr>\n",
       "  </thead>\n",
       "  <tbody>\n",
       "    <tr>\n",
       "      <th>Cycling cells</th>\n",
       "      <td>373</td>\n",
       "      <td>3</td>\n",
       "      <td>1.00</td>\n",
       "      <td>0</td>\n",
       "    </tr>\n",
       "    <tr>\n",
       "      <th>Epithelial</th>\n",
       "      <td>1893</td>\n",
       "      <td>1</td>\n",
       "      <td>0.01</td>\n",
       "      <td>177623</td>\n",
       "    </tr>\n",
       "    <tr>\n",
       "      <th>Stroma</th>\n",
       "      <td>933</td>\n",
       "      <td>2</td>\n",
       "      <td>0.05</td>\n",
       "      <td>18168</td>\n",
       "    </tr>\n",
       "    <tr>\n",
       "      <th>Unicorns and artifacts</th>\n",
       "      <td>571</td>\n",
       "      <td>2</td>\n",
       "      <td>1.00</td>\n",
       "      <td>0</td>\n",
       "    </tr>\n",
       "  </tbody>\n",
       "</table>\n",
       "</div>"
      ],
      "text/plain": [
       "                        n_cells  n_datasets  proportion under-annotated  \\\n",
       "ann_level_1                                                               \n",
       "Cycling cells               373           3                        1.00   \n",
       "Epithelial                 1893           1                        0.01   \n",
       "Stroma                      933           2                        0.05   \n",
       "Unicorns and artifacts      571           2                        1.00   \n",
       "\n",
       "                        ncells with finer ann  \n",
       "ann_level_1                                    \n",
       "Cycling cells                               0  \n",
       "Epithelial                             177623  \n",
       "Stroma                                  18168  \n",
       "Unicorns and artifacts                      0  "
      ]
     },
     "execution_count": 14,
     "metadata": {},
     "output_type": "execute_result"
    }
   ],
   "source": [
    "lev1_df"
   ]
  },
  {
   "cell_type": "markdown",
   "metadata": {},
   "source": [
    "Plan for level 1:  \n",
    "1) take out Cycling cells (since probably very mixed) and Unicorns and Artifacts   \n",
    "2) take out epithelial level 1 (from dataset Sasha, \"Alveolar epithelial type 2 cells + Secretory cells\", he also has clusters of these separated.  \n",
    "3) take out level1 stroma (from Sasha's and from Lafyatis data, small and very mixed clusters)"
   ]
  },
  {
   "cell_type": "markdown",
   "metadata": {},
   "source": [
    "## plan execution"
   ]
  },
  {
   "cell_type": "code",
   "execution_count": 27,
   "metadata": {},
   "outputs": [],
   "source": [
    "n_cells_removed = dict()"
   ]
  },
  {
   "cell_type": "markdown",
   "metadata": {},
   "source": [
    "### level 1:"
   ]
  },
  {
   "cell_type": "code",
   "execution_count": 15,
   "metadata": {},
   "outputs": [],
   "source": [
    "obs = adata.obs.copy()"
   ]
  },
  {
   "cell_type": "code",
   "execution_count": 16,
   "metadata": {},
   "outputs": [],
   "source": [
    "# convert ann_level_... columns to list instead of categories, so that it's easier to add new categories:\n",
    "for l in range(1, 6):\n",
    "    obs[\"ann_level_\" + str(l)] = obs[\"ann_level_\" + str(l)].tolist()"
   ]
  },
  {
   "cell_type": "code",
   "execution_count": 17,
   "metadata": {},
   "outputs": [
    {
     "data": {
      "text/plain": [
       "(377181, 72)"
      ]
     },
     "execution_count": 17,
     "metadata": {},
     "output_type": "execute_result"
    }
   ],
   "source": [
    "obs.shape"
   ]
  },
  {
   "cell_type": "code",
   "execution_count": 18,
   "metadata": {},
   "outputs": [
    {
     "name": "stdout",
     "output_type": "stream",
     "text": [
      "Number of cycling + unicorn and artifact cells removed: 944\n"
     ]
    }
   ],
   "source": [
    "# 1.1: take out cycling and unicorns and artefacts\n",
    "n_cells_before = obs.shape[0]\n",
    "obs = obs.loc[\n",
    "    [ann not in [\"Cycling cells\", \"Unicorns and artifacts\"] for ann in obs.ann_level_1],\n",
    "    :,\n",
    "]\n",
    "print(\n",
    "    \"Number of cycling + unicorn and artifact cells removed:\",\n",
    "    n_cells_before - obs.shape[0],\n",
    ")"
   ]
  },
  {
   "cell_type": "code",
   "execution_count": 28,
   "metadata": {},
   "outputs": [
    {
     "name": "stdout",
     "output_type": "stream",
     "text": [
      "number of cycling cells: 373\n"
     ]
    }
   ],
   "source": [
    "n_cells_removed[\"Cycling cells\"] = sum(adata.obs.ann_level_1 == \"Cycling cells\")\n",
    "print(\"number of cycling cells:\", n_cells_removed[\"Cycling cells\"])"
   ]
  },
  {
   "cell_type": "code",
   "execution_count": 21,
   "metadata": {},
   "outputs": [
    {
     "name": "stdout",
     "output_type": "stream",
     "text": [
      "Number of lev1 epithelial and stroma cells removed:  2826\n"
     ]
    }
   ],
   "source": [
    "# 1.2 and 1.3: take out level 1 epithelial and level 1 stroma\n",
    "n_cells_before = obs.shape[0]\n",
    "not_lev_1_epi_or_stroma = obs.index[\n",
    "    [ann not in [\"1_Epithelial\", \"1_Stroma\"] for ann in obs.ann_level_2.values]\n",
    "].tolist()\n",
    "obs = obs.loc[not_lev_1_epi_or_stroma, :]\n",
    "n_cells_removed[\"1_Epithelial_and_1_Stroma\"] = n_cells_before - obs.shape[0]\n",
    "print(\n",
    "    \"Number of lev1 epithelial and stroma cells removed: \",\n",
    "    n_cells_removed[\"1_Epithelial_and_1_Stroma\"]\n",
    ")\n"
   ]
  },
  {
   "cell_type": "markdown",
   "metadata": {},
   "source": [
    "### level 2:"
   ]
  },
  {
   "cell_type": "code",
   "execution_count": 22,
   "metadata": {},
   "outputs": [
    {
     "name": "stdout",
     "output_type": "stream",
     "text": [
      "Number of cells set to level 2 Blood vessels: 26155\n"
     ]
    }
   ],
   "source": [
    "# 2.1: set all blood vessels to level 2 annotation:\n",
    "lev2_bld_vs_cells = obs.index[obs.ann_level_2.values == \"Blood vessels\"].tolist()\n",
    "obs.loc[lev2_bld_vs_cells, [\"ann_level_3\", \"ann_level_4\", \"ann_level_5\"]] = [\n",
    "    \"2_Blood vessels\",\n",
    "    \"2_Blood vessels\",\n",
    "    \"2_Blood vessels\",\n",
    "]\n",
    "print(\"Number of cells set to level 2 Blood vessels:\", len(lev2_bld_vs_cells))"
   ]
  },
  {
   "cell_type": "code",
   "execution_count": 23,
   "metadata": {},
   "outputs": [
    {
     "name": "stdout",
     "output_type": "stream",
     "text": [
      "Number of cells set to level 2 Fibroblast lineage: 14603\n"
     ]
    }
   ],
   "source": [
    "# 2.2: set all fibroblasts to level 2 annotation:\n",
    "lev2_fib_cells = obs.index[obs.ann_level_2.values == \"Fibroblast lineage\"].tolist()\n",
    "obs.loc[lev2_fib_cells, [\"ann_level_3\", \"ann_level_4\", \"ann_level_5\"]] = [\n",
    "    \"2_Fibroblast lineage\",\n",
    "    \"2_Fibroblast lineage\",\n",
    "    \"2_Fibroblast lineage\",\n",
    "]\n",
    "print(\"Number of cells set to level 2 Fibroblast lineage:\", len(lev2_fib_cells))"
   ]
  },
  {
   "cell_type": "code",
   "execution_count": 24,
   "metadata": {},
   "outputs": [
    {
     "name": "stdout",
     "output_type": "stream",
     "text": [
      "Number of level-2 lymphoid cells removed: 1300\n"
     ]
    }
   ],
   "source": [
    "# 2.3: ...remove level 2 lymphoid annotations, mixed bags... (might want to ask Sasha and Martijn to annotate better: we lose 1300 cells)\n",
    "n_cells_before = obs.shape[0]\n",
    "not_lev2_lymph_cells = obs.index[obs.ann_level_3.values != \"2_Lymphoid\"].tolist()\n",
    "obs = obs.loc[not_lev2_lymph_cells, :]\n",
    "n_cells_removed[\"2_Lymphoid\"] = n_cells_before - obs.shape[0]\n",
    "print(\"Number of level-2 lymphoid cells removed:\", n_cells_removed[\"2_Lymphoid\"])"
   ]
  },
  {
   "cell_type": "code",
   "execution_count": 25,
   "metadata": {},
   "outputs": [
    {
     "name": "stdout",
     "output_type": "stream",
     "text": [
      "Number of cells set to level 2 Mesothelium: 214\n"
     ]
    }
   ],
   "source": [
    "# 2.4: set all mesothelium cells to level 2 annotation:\n",
    "lev2_mes_cells = obs.index[obs.ann_level_2.values == \"Mesothelium\"].tolist()\n",
    "obs.loc[lev2_mes_cells, [\"ann_level_3\", \"ann_level_4\", \"ann_level_5\"]] = [\n",
    "    \"2_Mesothelium\",\n",
    "    \"2_Mesothelium\",\n",
    "    \"2_Mesothelium\",\n",
    "]\n",
    "print(\"Number of cells set to level 2 Mesothelium:\", len(lev2_mes_cells))"
   ]
  },
  {
   "cell_type": "code",
   "execution_count": 26,
   "metadata": {},
   "outputs": [
    {
     "name": "stdout",
     "output_type": "stream",
     "text": [
      "Number of cells set to level 2 Smooth Muscle: 3351\n"
     ]
    }
   ],
   "source": [
    "# 2.5: set all smooth muscle to level 2 annotation\n",
    "lev2_sm_cells = obs.index[obs.ann_level_2.values == \"Smooth Muscle\"].tolist()\n",
    "obs.loc[lev2_sm_cells, [\"ann_level_3\", \"ann_level_4\", \"ann_level_5\"]] = [\n",
    "    \"2_Smooth Muscle\",\n",
    "    \"2_Smooth Muscle\",\n",
    "    \"2_Smooth Muscle\",\n",
    "]\n",
    "print(\"Number of cells set to level 2 Smooth Muscle:\", len(lev2_sm_cells))"
   ]
  },
  {
   "cell_type": "code",
   "execution_count": 32,
   "metadata": {},
   "outputs": [
    {
     "data": {
      "text/plain": [
       "{'Cycling cells': 373, '1_Epithelial_and_1_Stroma': 2826, '2_Lymphoid': 1300}"
      ]
     },
     "execution_count": 32,
     "metadata": {},
     "output_type": "execute_result"
    }
   ],
   "source": [
    "n_cells_removed"
   ]
  },
  {
   "cell_type": "code",
   "execution_count": 37,
   "metadata": {},
   "outputs": [
    {
     "data": {
      "text/plain": [
       "4499"
      ]
     },
     "execution_count": 37,
     "metadata": {},
     "output_type": "execute_result"
    }
   ],
   "source": [
    "np.sum([x for x in n_cells_removed.values()])"
   ]
  },
  {
   "cell_type": "code",
   "execution_count": null,
   "metadata": {},
   "outputs": [],
   "source": [
    "adata_scgen = adata[obs.index, :].copy()"
   ]
  },
  {
   "cell_type": "code",
   "execution_count": null,
   "metadata": {},
   "outputs": [],
   "source": [
    "adata_scgen.shape"
   ]
  },
  {
   "cell_type": "code",
   "execution_count": null,
   "metadata": {},
   "outputs": [],
   "source": [
    "adata_scgen.obs[\"scgen_labels\"] = obs.loc[adata_scgen.obs.index, \"ann_level_3\"]"
   ]
  },
  {
   "cell_type": "code",
   "execution_count": null,
   "metadata": {},
   "outputs": [],
   "source": [
    "set(adata_scgen.obs.scgen_labels)"
   ]
  },
  {
   "cell_type": "code",
   "execution_count": null,
   "metadata": {},
   "outputs": [],
   "source": [
    "sc.pl.umap(\n",
    "    adata_scgen,\n",
    "    color=[\"last_author/PI\", \"ann_level_2\", \"ann_level_3\", \"scgen_labels\"],\n",
    "    ncols=1,\n",
    ")"
   ]
  },
  {
   "cell_type": "code",
   "execution_count": null,
   "metadata": {},
   "outputs": [],
   "source": [
    "adata_scgen.write(\n",
    "    \"../../data/HLCA_core_h5ads/benchmarking_atlas/Barb_Kras_Krop_Lafy_Meye_Mish_MishNew_Nawi_Seib_Teic_log1p_scGEN_INPUT.h5ad\"\n",
    ")"
   ]
  },
  {
   "cell_type": "code",
   "execution_count": null,
   "metadata": {},
   "outputs": [],
   "source": [
    "adata.obs.ann_highest_res = pd.Categorical(adata.obs.ann_highest_res)"
   ]
  },
  {
   "cell_type": "code",
   "execution_count": null,
   "metadata": {},
   "outputs": [],
   "source": [
    "sc.pl.umap(adata, color=['last_author/PI','ann_level_2','ann_level_3', 'ann_highest_res'], ncols=1)"
   ]
  },
  {
   "cell_type": "code",
   "execution_count": null,
   "metadata": {},
   "outputs": [],
   "source": [
    "# take out cells that don't have level 3 annotations, and keep only highly variable genes:\n",
    "adata = adata[[highestres in [3,4,5] for highestres in adata.obs.ann_highest_res],:].copy()\n",
    "adata = adata[:,adata.var.highly_variable].copy()"
   ]
  },
  {
   "cell_type": "code",
   "execution_count": null,
   "metadata": {},
   "outputs": [],
   "source": [
    "adata.write(\n",
    "    \"../../data/HLCA_core_h5ads/benchmarking_atlas/Barb_Kras_Krop_Lafy_Meye_Mish_MishNew_Nawi_Seib_Teic_log1p_scGEN_INPUT_gene_filtered.h5ad\"\n",
    ")"
   ]
  },
  {
   "cell_type": "code",
   "execution_count": null,
   "metadata": {},
   "outputs": [],
   "source": [
    "sc.pl.umap(adata, color=['last_author/PI','ann_level_2','ann_level_3', 'ann_highest_res'], ncols=1)"
   ]
  },
  {
   "cell_type": "markdown",
   "metadata": {},
   "source": [
    "### Run scgen:"
   ]
  },
  {
   "cell_type": "markdown",
   "metadata": {},
   "source": [
    "make sure this is 1.1.5!"
   ]
  },
  {
   "cell_type": "code",
   "execution_count": 4,
   "metadata": {},
   "outputs": [],
   "source": [
    "scgen.__version__"
   ]
  },
  {
   "cell_type": "markdown",
   "metadata": {},
   "source": [
    "specify data to load:"
   ]
  },
  {
   "cell_type": "code",
   "execution_count": 5,
   "metadata": {},
   "outputs": [],
   "source": [
    "scaled_or_unscaled = \"unscaled\" # choose \"scaled\" or \"unscaled\"\n",
    "hvg_or_full = \"hvg\" # choose \"hvg\" or \"full_feature\""
   ]
  },
  {
   "cell_type": "markdown",
   "metadata": {},
   "source": [
    "load data, this is data pre-formatted etc. during integration benchmark, but derived from data as prepared above:"
   ]
  },
  {
   "cell_type": "code",
   "execution_count": 6,
   "metadata": {},
   "outputs": [],
   "source": [
    "adata = sc.read(\"../../results/integration_benchmarking/benchmarking_results/prepare/{}/{}/adata_pre.h5ad\".format(scaled_or_unscaled, hvg_or_full))"
   ]
  },
  {
   "cell_type": "code",
   "execution_count": null,
   "metadata": {},
   "outputs": [],
   "source": [
    "adata.shape"
   ]
  },
  {
   "cell_type": "markdown",
   "metadata": {},
   "source": [
    "run scgen:"
   ]
  },
  {
   "cell_type": "code",
   "execution_count": null,
   "metadata": {},
   "outputs": [],
   "source": [
    "network = scgen.VAEArithKeras(x_dimension= adata.shape[1], model_path=\"./models/batch\" )"
   ]
  },
  {
   "cell_type": "code",
   "execution_count": null,
   "metadata": {},
   "outputs": [],
   "source": [
    "network.train(train_data=adata, n_epochs=50,batch_size=128,verbose=True)"
   ]
  },
  {
   "cell_type": "code",
   "execution_count": null,
   "metadata": {},
   "outputs": [],
   "source": [
    "corrected_adata =  scgen.batch_removal(network, adata, batch_key=\"dataset\", cell_label_key=\"scgen_labels\")"
   ]
  },
  {
   "cell_type": "code",
   "execution_count": null,
   "metadata": {},
   "outputs": [],
   "source": [
    "corrected_adata.obs.tail(5)"
   ]
  },
  {
   "cell_type": "markdown",
   "metadata": {},
   "source": [
    "Note that scgen creates corrected counts, and that a PCA of those corrected counts will create a corrected embedding:"
   ]
  },
  {
   "cell_type": "code",
   "execution_count": null,
   "metadata": {},
   "outputs": [],
   "source": [
    "corrected_adata = sc.pp.pca(corrected_adata, n_comps=50, copy=True)"
   ]
  },
  {
   "cell_type": "code",
   "execution_count": null,
   "metadata": {},
   "outputs": [],
   "source": [
    "sc.pp.neighbors(corrected_adata)\n",
    "sc.tl.umap(corrected_adata)"
   ]
  },
  {
   "cell_type": "code",
   "execution_count": null,
   "metadata": {},
   "outputs": [],
   "source": [
    "sc.pl.umap(corrected_adata, color=[\"dataset\", \"scgen_labels\"], wspace=.5, frameon=False)"
   ]
  },
  {
   "cell_type": "markdown",
   "metadata": {},
   "source": [
    "store result"
   ]
  },
  {
   "cell_type": "code",
   "execution_count": null,
   "metadata": {},
   "outputs": [],
   "source": [
    "corrected_adata.obsm['X_emb'] = corrected_adata.obsm['X_pca']"
   ]
  },
  {
   "cell_type": "code",
   "execution_count": null,
   "metadata": {},
   "outputs": [],
   "source": [
    "corrected_adata.write(\"../../results/integration_benchmarking/benchmarking_results/scgen_benchmarking_results/integration/{}/{}/scgen.h5ad\".format(scaled_or_unscaled, hvg_or_full))"
   ]
  },
  {
   "cell_type": "markdown",
   "metadata": {},
   "source": [
    "store embedding"
   ]
  },
  {
   "cell_type": "code",
   "execution_count": null,
   "metadata": {},
   "outputs": [],
   "source": [
    "emb = pd.DataFrame(index=corrected_adata.obs.index)\n",
    "for col in ['scgen_labels','dataset']:\n",
    "    emb[col] = corrected_adata.obs[col]\n",
    "emb.index.set_names(\"CellID\", inplace=True)\n",
    "emb['UMAP1'] = corrected_adata.obsm[\"X_umap\"][:,0]\n",
    "emb['UMAP2'] = corrected_adata.obsm[\"X_umap\"][:,1]"
   ]
  },
  {
   "cell_type": "code",
   "execution_count": null,
   "metadata": {},
   "outputs": [],
   "source": [
    "emb.to_csv(\"../../results/integration_benchmarking/benchmarking_results/scgen_benchmarking_results/embeddings/{}/{}/scgen_full.csv\".format(scaled_or_unscaled, hvg_or_full))"
   ]
  },
  {
   "cell_type": "code",
   "execution_count": null,
   "metadata": {},
   "outputs": [],
   "source": []
  }
 ],
 "metadata": {
  "kernelspec": {
   "display_name": "Python 3",
   "language": "python",
   "name": "python3"
  },
  "language_info": {
   "codemirror_mode": {
    "name": "ipython",
    "version": 3
   },
   "file_extension": ".py",
   "mimetype": "text/x-python",
   "name": "python",
   "nbconvert_exporter": "python",
   "pygments_lexer": "ipython3",
   "version": "3.7.5"
  }
 },
 "nbformat": 4,
 "nbformat_minor": 4
}
