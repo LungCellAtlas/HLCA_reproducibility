{
 "cells": [
  {
   "cell_type": "markdown",
   "metadata": {},
   "source": [
    "# Splitting of HLCA by compartment(s)"
   ]
  },
  {
   "cell_type": "markdown",
   "metadata": {},
   "source": [
    "Here we'll split the HLCA into three subsets for figure generation, i.e. into epithelial, immune, and endothelial-stromal sub-HLCAs:"
   ]
  },
  {
   "cell_type": "markdown",
   "metadata": {},
   "source": [
    "### Load modules and set paths:"
   ]
  },
  {
   "cell_type": "code",
   "execution_count": 1,
   "metadata": {},
   "outputs": [],
   "source": [
    "import scanpy as sc\n",
    "import os\n",
    "import matplotlib.pyplot as plt"
   ]
  },
  {
   "cell_type": "markdown",
   "metadata": {},
   "source": [
    "for pretty code formatting:"
   ]
  },
  {
   "cell_type": "code",
   "execution_count": 2,
   "metadata": {},
   "outputs": [],
   "source": [
    "%load_ext lab_black"
   ]
  },
  {
   "cell_type": "code",
   "execution_count": 3,
   "metadata": {},
   "outputs": [],
   "source": [
    "path_HLCA = \"../../data/HLCA_core_h5ads/HLCA_v2.h5ad\"\n",
    "dir_HLCA_subsets = \"../../data/HLCA_core_h5ads/HLCA_subsets/\""
   ]
  },
  {
   "cell_type": "markdown",
   "metadata": {},
   "source": [
    "### Split atlas, re-calculate umaps, and store:"
   ]
  },
  {
   "cell_type": "code",
   "execution_count": 4,
   "metadata": {},
   "outputs": [],
   "source": [
    "adata = sc.read(path_HLCA)"
   ]
  },
  {
   "cell_type": "markdown",
   "metadata": {},
   "source": [
    "set mapping of clusters to compartments:"
   ]
  },
  {
   "cell_type": "code",
   "execution_count": 5,
   "metadata": {},
   "outputs": [],
   "source": [
    "cl2comp = {\"0\": \"epithelial\", \"1\": \"immune\", \"2\": \"endothelial_and_stromal\"}"
   ]
  },
  {
   "cell_type": "markdown",
   "metadata": {},
   "source": [
    "initiate dictionary to store the atlas subsets in:"
   ]
  },
  {
   "cell_type": "code",
   "execution_count": 6,
   "metadata": {},
   "outputs": [],
   "source": [
    "subadatas = dict()"
   ]
  },
  {
   "cell_type": "markdown",
   "metadata": {},
   "source": [
    "Now subset to each of the specified groups using clusters, and re-calcualte neighbor graph (based on scANVI embeddign) and umaps, then store:"
   ]
  },
  {
   "cell_type": "code",
   "execution_count": 7,
   "metadata": {},
   "outputs": [],
   "source": [
    "for cl_number, comp_name in cl2comp.items():\n",
    "    subadata = adata[adata.obs.leiden_1 == cl_number, :].copy()\n",
    "    sc.pp.neighbors(subadata, n_neighbors=15, use_rep=\"X_scanvi_emb\")\n",
    "    sc.tl.umap(subadata)\n",
    "    subadata.obsm[\"X_umap_scanvi\"] = subadata.obsm[\"X_umap\"]\n",
    "    subadatas[comp_name] = subadata\n",
    "    subadata.write(os.path.join(dir_HLCA_subsets, f\"HLCA_{comp_name}.h5ad\"))\n",
    "    del subadata"
   ]
  },
  {
   "cell_type": "code",
   "execution_count": null,
   "metadata": {},
   "outputs": [],
   "source": []
  }
 ],
 "metadata": {
  "kernelspec": {
   "display_name": "Python 3",
   "language": "python",
   "name": "python3"
  },
  "language_info": {
   "codemirror_mode": {
    "name": "ipython",
    "version": 3
   },
   "file_extension": ".py",
   "mimetype": "text/x-python",
   "name": "python",
   "nbconvert_exporter": "python",
   "pygments_lexer": "ipython3",
   "version": "3.7.5"
  }
 },
 "nbformat": 4,
 "nbformat_minor": 4
}
