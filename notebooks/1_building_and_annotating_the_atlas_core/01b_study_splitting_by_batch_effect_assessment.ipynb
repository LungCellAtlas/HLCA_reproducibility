{
 "cells": [
  {
   "cell_type": "markdown",
   "metadata": {},
   "source": [
    "## HLCA core, assessment of study-dataset splitting"
   ]
  },
  {
   "cell_type": "markdown",
   "metadata": {},
   "source": [
    "In this notebook we will determine which of the studies that have substantial differences in experimental conditions within study will need to be split into separate datasets (datasets will be the \"batches\" used for integration)."
   ]
  },
  {
   "cell_type": "markdown",
   "metadata": {},
   "source": [
    "### Import modules"
   ]
  },
  {
   "cell_type": "code",
   "execution_count": 89,
   "metadata": {},
   "outputs": [],
   "source": [
    "import scanpy as sc\n",
    "import pandas as pd\n",
    "import numpy as np\n",
    "import sys\n",
    "import matplotlib.pyplot as plt\n",
    "from sklearn.linear_model import LinearRegression\n",
    "\n",
    "sys.path.append(\"../../scripts/\")\n",
    "import preprocessing\n",
    "import utils"
   ]
  },
  {
   "cell_type": "markdown",
   "metadata": {},
   "source": [
    "For pretty coding and automatic script loading after script changes, not needed to run notebook:"
   ]
  },
  {
   "cell_type": "code",
   "execution_count": 2,
   "metadata": {},
   "outputs": [],
   "source": [
    "%load_ext lab_black"
   ]
  },
  {
   "cell_type": "code",
   "execution_count": 3,
   "metadata": {},
   "outputs": [],
   "source": [
    "%load_ext autoreload\n",
    "%autoreload 2"
   ]
  },
  {
   "cell_type": "markdown",
   "metadata": {},
   "source": [
    "### Set paths:"
   ]
  },
  {
   "cell_type": "code",
   "execution_count": 8,
   "metadata": {},
   "outputs": [],
   "source": [
    "# path of partly preprocessed HLCA file used in this notebook:\n",
    "path_HLCA_subjfilt_ann = \"../../data/HLCA_core_h5ads/HLCA_v1_intermediates/LCA_Bano_Barb_Jain_Kras_Lafy_Meye_Mish_MishBud_Nawi_Seib_Teic_RAW_subjfilt_ann.h5ad\"\n",
    "# path to results directory:\n",
    "dir_out = \"../../results/study_splitting_into_datasets\""
   ]
  },
  {
   "cell_type": "markdown",
   "metadata": {},
   "source": [
    "### Check batch effects:"
   ]
  },
  {
   "cell_type": "markdown",
   "metadata": {},
   "source": [
    "load HLCA:"
   ]
  },
  {
   "cell_type": "code",
   "execution_count": 4,
   "metadata": {},
   "outputs": [],
   "source": [
    "adata_full = sc.read(path_HLCA_subjfilt_ann)"
   ]
  },
  {
   "cell_type": "markdown",
   "metadata": {},
   "source": [
    "Set study we want to look at. For the HLCA core, we checked \"Banovich_Kropski_2020\", \"Jain_Misharin_2021\", \"Lafyatis_Rojas_2019\" and \"Seibold_2020\"."
   ]
  },
  {
   "cell_type": "code",
   "execution_count": 5,
   "metadata": {},
   "outputs": [],
   "source": [
    "study_of_interest = \"Banovich_Kropski_2020\""
   ]
  },
  {
   "cell_type": "markdown",
   "metadata": {},
   "source": [
    "for banovich kropski study, we also want to look at processing site:"
   ]
  },
  {
   "cell_type": "code",
   "execution_count": 6,
   "metadata": {},
   "outputs": [],
   "source": [
    "if study_of_interest == \"Banovich_Kropski_2020\":\n",
    "    include_processing_site = True\n",
    "else:\n",
    "    include_processing_site = False\n",
    "    "
   ]
  },
  {
   "cell_type": "markdown",
   "metadata": {},
   "source": [
    "subset to study:"
   ]
  },
  {
   "cell_type": "code",
   "execution_count": 105,
   "metadata": {},
   "outputs": [],
   "source": [
    "adata = adata_full[adata_full.obs.study == study_of_interest, :].copy()"
   ]
  },
  {
   "cell_type": "markdown",
   "metadata": {},
   "source": [
    "annotate with QC info and normalize (simple total counts normalization):"
   ]
  },
  {
   "cell_type": "code",
   "execution_count": 106,
   "metadata": {},
   "outputs": [],
   "source": [
    "adata = preprocessing.add_cell_annotations(adata, var_index=\"gene_ids\")"
   ]
  },
  {
   "cell_type": "code",
   "execution_count": 108,
   "metadata": {},
   "outputs": [],
   "source": [
    "median_libsize = np.median(adata.X.sum(axis=1).flatten(), axis=1)"
   ]
  },
  {
   "cell_type": "code",
   "execution_count": 109,
   "metadata": {},
   "outputs": [],
   "source": [
    "sc.pp.normalize_per_cell(adata, counts_per_cell_after=median_libsize[0, 0])"
   ]
  },
  {
   "cell_type": "markdown",
   "metadata": {},
   "source": [
    "perform pca:"
   ]
  },
  {
   "cell_type": "code",
   "execution_count": 110,
   "metadata": {},
   "outputs": [],
   "source": [
    "sc.tl.pca(adata)"
   ]
  },
  {
   "cell_type": "code",
   "execution_count": 114,
   "metadata": {},
   "outputs": [],
   "source": [
    "n_pcs = 50"
   ]
  },
  {
   "cell_type": "markdown",
   "metadata": {},
   "source": [
    "specifiy covariates we want to check (we will quantify their correlation with the 1st 50 PCs, to see how much variance they can each explain):"
   ]
  },
  {
   "cell_type": "code",
   "execution_count": 115,
   "metadata": {},
   "outputs": [],
   "source": [
    "covariates = [\n",
    "    \"dataset\",\n",
    "    \"sample\",\n",
    "    \"total_counts\",\n",
    "    \"log10_total_counts\",\n",
    "    \"mito_frac\",\n",
    "    \"3'_or_5'\",\n",
    "    \"BMI\",\n",
    "    \"cell_ranger_version\",\n",
    "    \"cell_viability_%\",\n",
    "    \"ethnicity\",\n",
    "    \"sample_type\",\n",
    "    \"sequencing_platform\",\n",
    "    \"sex\",\n",
    "    \"single_cell_platform\",\n",
    "    \"smoking_status\",\n",
    "    \"subject_type\",\n",
    "    \"subject_ID\",\n",
    "    #     \"tissue dissociation protocol\",\n",
    "    \"anatomical_region_coarse\",\n",
    "    \"age_in_years\",\n",
    "    \"original_celltype_ann\",\n",
    "    \"Processing_site\",\n",
    "]"
   ]
  },
  {
   "cell_type": "markdown",
   "metadata": {},
   "source": [
    "Create shuffled assignment of single cell platform (and processing site if included), to compare actual variance explained to variance explained expected by random. We will assign all cells of the same sample to the same value."
   ]
  },
  {
   "cell_type": "code",
   "execution_count": 116,
   "metadata": {},
   "outputs": [],
   "source": [
    "# create shuffled version of single cell platform, and of Processing_site:\n",
    "if include_processing_site:\n",
    "    sample_to_scplatform = adata.obs.groupby(\"sample\").agg(\n",
    "        {\"single_cell_platform\": \"first\", \"Processing_site\": \"first\"}\n",
    "    )\n",
    "else:\n",
    "    sample_to_scplatform = adata.obs.groupby(\"sample\").agg(\n",
    "        {\"single_cell_platform\": \"first\"}\n",
    "    )\n",
    "for i in range(10):\n",
    "    np.random.shuffle(sample_to_scplatform.single_cell_platform)\n",
    "    adata.obs[\"single_cell_platform_shuffled_\" + str(i)] = adata.obs[\"sample\"].map(\n",
    "        dict(\n",
    "            zip(\n",
    "                sample_to_scplatform.index,\n",
    "                sample_to_scplatform.single_cell_platform,\n",
    "            )\n",
    "        )\n",
    "    )\n",
    "    covariates.append(\"single_cell_platform_shuffled_\" + str(i))\n",
    "    if include_processing_site:\n",
    "        np.random.shuffle(sample_to_scplatform.Processing_site)\n",
    "        adata.obs[\"Processing_site_shuffled_\" + str(i)] = adata.obs[\"sample\"].map(\n",
    "            dict(zip(sample_to_scplatform.index, sample_to_scplatform.Processing_site))\n",
    "        )\n",
    "        covariates.append(\"Processing_site_shuffled_\" + str(i))"
   ]
  },
  {
   "cell_type": "markdown",
   "metadata": {},
   "source": [
    "Now check for every covariate, for every PC how much variance among the cells' PC scores the covariate can explain. Add this variance explained per PC up across PCs for every covariate. This will give us the total amount of variance explained per covariate."
   ]
  },
  {
   "cell_type": "code",
   "execution_count": 117,
   "metadata": {},
   "outputs": [],
   "source": [
    "var_explained = pd.DataFrame(index=range(n_pcs), columns=covariates + [\"overall\"])\n",
    "for pc in range(n_pcs):\n",
    "    y_true_unfiltered = adata.obsm[\"X_pca\"][:, pc]\n",
    "    var_explained.loc[pc, \"overall\"] = np.var(y_true_unfiltered)\n",
    "    for cov in covariates:\n",
    "        x = adata.obs[cov].values.copy()\n",
    "        x_nans = np.vectorize(utils.check_if_nan)(x)\n",
    "        x = x[~x_nans]\n",
    "        if len(x) != 0:\n",
    "            y_true = y_true_unfiltered[~x_nans].reshape(-1, 1)\n",
    "            if x.dtype in [\"float32\", \"float\", \"float64\"]:\n",
    "                x = x.reshape(-1, 1)\n",
    "            else:\n",
    "                if len(set(x)) == 1:\n",
    "                    var_explained.loc[pc, cov] = np.nan\n",
    "                    continue\n",
    "                x = pd.get_dummies(x)\n",
    "            lrf = LinearRegression(fit_intercept=True).fit(\n",
    "                x,\n",
    "                y_true,\n",
    "            )\n",
    "            y_pred = lrf.predict(x)\n",
    "            var_explained.loc[pc, cov] = np.var(y_pred)\n",
    "total_variance_explained = np.sum(var_explained, axis=0).sort_values(ascending=False)\n",
    "total_variance_explained_fractions = (\n",
    "    total_variance_explained / total_variance_explained[\"overall\"]\n",
    ")"
   ]
  },
  {
   "cell_type": "markdown",
   "metadata": {},
   "source": [
    "Do the same for the shuffled covariates. Calculate mean over shuffling instances, add as one value to clean fractions:"
   ]
  },
  {
   "cell_type": "code",
   "execution_count": 119,
   "metadata": {},
   "outputs": [],
   "source": [
    "total_variance_explained_clean = total_variance_explained_fractions[\n",
    "    [\n",
    "        x\n",
    "        for x in total_variance_explained_fractions.index\n",
    "        if not x.startswith(\"Processing_site_shuffled\")\n",
    "        and not x.startswith(\"single_cell_platform_shuffled\")\n",
    "    ]\n",
    "]\n",
    "total_variance_explained_clean[\"single_cell_platform_shuffled\"] = np.mean(\n",
    "    total_variance_explained_fractions[\n",
    "        [\n",
    "            x\n",
    "            for x in total_variance_explained_fractions.index\n",
    "            if x.startswith(\"single_cell_platform_\")\n",
    "        ]\n",
    "    ]\n",
    ")\n",
    "stdev_single_cell_platform_shuffled = np.std(\n",
    "    total_variance_explained_fractions[\n",
    "        [\n",
    "            x\n",
    "            for x in total_variance_explained_fractions.index\n",
    "            if x.startswith(\"single_cell_platform_\")\n",
    "        ]\n",
    "    ]\n",
    ")\n",
    "if include_processing_site:\n",
    "    total_variance_explained_clean[\"Processing_site_shuffled\"] = np.mean(\n",
    "        total_variance_explained_fractions[\n",
    "            [\n",
    "                x\n",
    "                for x in total_variance_explained_fractions.index\n",
    "                if x.startswith(\"Processing_site_shuffled\")\n",
    "            ]\n",
    "        ]\n",
    "    )\n",
    "    stdev_processing_site_shuffled = np.std(\n",
    "        total_variance_explained_fractions[\n",
    "            [\n",
    "                x\n",
    "                for x in total_variance_explained_fractions.index\n",
    "                if x.startswith(\"Processing_site_shuffled\")\n",
    "            ]\n",
    "        ]\n",
    "    )"
   ]
  },
  {
   "cell_type": "markdown",
   "metadata": {},
   "source": [
    "Sort results:"
   ]
  },
  {
   "cell_type": "code",
   "execution_count": 120,
   "metadata": {},
   "outputs": [],
   "source": [
    "total_variance_explained_clean.sort_values(ascending=False, inplace=True)"
   ]
  },
  {
   "cell_type": "markdown",
   "metadata": {},
   "source": [
    "Plot:"
   ]
  },
  {
   "cell_type": "code",
   "execution_count": 121,
   "metadata": {},
   "outputs": [
    {
     "data": {
      "image/png": "[encoded data removed]",
      "text/plain": [
       "<Figure size 576x288 with 1 Axes>"
      ]
     },
     "metadata": {
      "needs_background": "light"
     },
     "output_type": "display_data"
    }
   ],
   "source": [
    "plt.figure(figsize=(8, 4))\n",
    "plt.bar(\n",
    "    total_variance_explained_clean[::-1].index,\n",
    "    total_variance_explained_clean[::-1].values,\n",
    ")\n",
    "plt.title(\n",
    "    f\"covariate correlation with first 50 PCs\\n({study_of_interest}, whole dataset)\",\n",
    "    fontsize=14,\n",
    ")  # \\n({dominant_type})\n",
    "plt.xticks(rotation=90)\n",
    "plt.show()"
   ]
  },
  {
   "cell_type": "markdown",
   "metadata": {},
   "source": [
    "### Store results:"
   ]
  },
  {
   "cell_type": "code",
   "execution_count": 123,
   "metadata": {},
   "outputs": [
    {
     "name": "stdout",
     "output_type": "stream",
     "text": [
      "Study: Banovich_Kropski_2020\n"
     ]
    }
   ],
   "source": [
    "print(\"Study:\", study_of_interest)"
   ]
  },
  {
   "cell_type": "code",
   "execution_count": 124,
   "metadata": {},
   "outputs": [],
   "source": [
    "res = pd.DataFrame(total_variance_explained_clean)\n",
    "res.columns = [\"fraction_of_variance_explained\"]\n",
    "res.loc[\"single_cell_platform_shuffled\", \"stdev\"] = stdev_single_cell_platform_shuffled\n",
    "if include_processing_site:\n",
    "    res.loc[\"Processing_site_shuffled\", \"stdev\"] = stdev_processing_site_shuffled"
   ]
  },
  {
   "cell_type": "code",
   "execution_count": 125,
   "metadata": {},
   "outputs": [],
   "source": [
    "res.to_csv(\n",
    "    f\"{dir_out}/{study_of_interest}_variance_explained_per_covariate.csv\"\n",
    ")"
   ]
  },
  {
   "cell_type": "markdown",
   "metadata": {},
   "source": [
    "print z-score:"
   ]
  },
  {
   "cell_type": "code",
   "execution_count": 127,
   "metadata": {},
   "outputs": [
    {
     "data": {
      "text/plain": [
       "-0.40137780967322567"
      ]
     },
     "execution_count": 127,
     "metadata": {},
     "output_type": "execute_result"
    }
   ],
   "source": [
    "(\n",
    "    res.loc[\"single_cell_platform\", \"fraction_of_variance_explained\"]\n",
    "    - res.loc[\"single_cell_platform_shuffled\", \"fraction_of_variance_explained\"]\n",
    ") / res.loc[\"single_cell_platform_shuffled\", \"stdev\"]"
   ]
  },
  {
   "cell_type": "code",
   "execution_count": 130,
   "metadata": {},
   "outputs": [
    {
     "name": "stdout",
     "output_type": "stream",
     "text": [
      "1.1970538520857914\n"
     ]
    }
   ],
   "source": [
    "if include_processing_site:\n",
    "    print(\n",
    "        (\n",
    "            res.loc[\"Processing_site\", \"fraction_of_variance_explained\"]\n",
    "            - res.loc[\"Processing_site_shuffled\", \"fraction_of_variance_explained\"]\n",
    "        )\n",
    "        / res.loc[\"Processing_site_shuffled\", \"stdev\"]\n",
    "    )"
   ]
  }
 ],
 "metadata": {
  "kernelspec": {
   "display_name": "Python 3",
   "language": "python",
   "name": "python3"
  },
  "language_info": {
   "codemirror_mode": {
    "name": "ipython",
    "version": 3
   },
   "file_extension": ".py",
   "mimetype": "text/x-python",
   "name": "python",
   "nbconvert_exporter": "python",
   "pygments_lexer": "ipython3",
   "version": "3.7.5"
  }
 },
 "nbformat": 4,
 "nbformat_minor": 4
}
