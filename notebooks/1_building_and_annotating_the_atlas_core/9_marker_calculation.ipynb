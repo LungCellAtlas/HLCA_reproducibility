{
 "cells": [
  {
   "cell_type": "markdown",
   "metadata": {},
   "source": [
    "## Marker gene calculation"
   ]
  },
  {
   "cell_type": "markdown",
   "metadata": {},
   "source": [
    "In this notebook we calculate marker genes for the cell types of the HLCA. We will first calculate the marker genes of our \"grouped\" annotations, i.e. a slightly coarser version of our final manual annotations. These coarser annotations are used for the mapping of GWAS results to cell types (for which we'll need the marker genes calculated below), and for the modeling of effects of age, sex etc. on HLCA cell types.  \n",
    "We will also calculate marker genes for the final, finest cell type annotations. For this we will use a more complex approach, as you will see below."
   ]
  },
  {
   "cell_type": "markdown",
   "metadata": {},
   "source": [
    "### Import modules and set paths:"
   ]
  },
  {
   "cell_type": "code",
   "execution_count": 1,
   "metadata": {},
   "outputs": [],
   "source": [
    "import scanpy as sc\n",
    "import pandas as pd\n",
    "import numpy as np\n",
    "import sys\n",
    "import os"
   ]
  },
  {
   "cell_type": "markdown",
   "metadata": {},
   "source": [
    "For pretty code formatting (not necessary to run):"
   ]
  },
  {
   "cell_type": "code",
   "execution_count": 2,
   "metadata": {},
   "outputs": [],
   "source": [
    "%load_ext lab_black"
   ]
  },
  {
   "cell_type": "markdown",
   "metadata": {},
   "source": [
    "Figure parameters:"
   ]
  },
  {
   "cell_type": "code",
   "execution_count": 3,
   "metadata": {},
   "outputs": [],
   "source": [
    "sc.set_figure_params(figsize=(5, 5))"
   ]
  },
  {
   "cell_type": "markdown",
   "metadata": {},
   "source": [
    "Paths:"
   ]
  },
  {
   "cell_type": "code",
   "execution_count": 4,
   "metadata": {},
   "outputs": [],
   "source": [
    "path_HLCA = \"../../data/HLCA_core_h5ads/HLCA_v1.h5ad\"\n",
    "path_man_anns_levd_and_colors = \"../../supporting_files/celltype_structure_and_colors/manual_anns_and_leveled_anns_ordered.csv\"\n",
    "dir_DEA_results_coarse_cts = \"../../results/DEAs/grouped_manann_vs_rest/\"\n",
    "dir_gene_sets_for_LDSC = \"../../results/LDSC/custom_annot_1000genes/genesets/\"  # directory where we will store the top 1000 genes for every cell type, will be used for LDSC GWAS analysis\n",
    "dir_DEA_results_fine_versus_subref = \"../../results/DEAs/manann_1_vs_subref_filt/\"\n",
    "dir_DEA_results_fine_versus_comp = \"../../results/DEAs/manann_1_vs_comp/\"\n",
    "path_marker_genes = \"../../results/DEAs/manann_top10markergenes.csv\""
   ]
  },
  {
   "cell_type": "markdown",
   "metadata": {},
   "source": [
    "import atlas:"
   ]
  },
  {
   "cell_type": "code",
   "execution_count": 5,
   "metadata": {},
   "outputs": [],
   "source": [
    "adata = sc.read(path_HLCA)"
   ]
  },
  {
   "cell_type": "markdown",
   "metadata": {},
   "source": [
    "## DEA for coarse cell types (for LDSC GWAS analysis)."
   ]
  },
  {
   "cell_type": "markdown",
   "metadata": {},
   "source": [
    "perform differential expression analysis, one-versus-all:"
   ]
  },
  {
   "cell_type": "code",
   "execution_count": null,
   "metadata": {},
   "outputs": [],
   "source": [
    "sc.tl.rank_genes_groups(\n",
    "    adata, groupby=\"manual_ann_grouped\", use_raw=False, method=\"t-test\"\n",
    ")"
   ]
  },
  {
   "cell_type": "markdown",
   "metadata": {},
   "source": [
    "generate a dictionary that maps our gene names to ensembl ids:"
   ]
  },
  {
   "cell_type": "code",
   "execution_count": null,
   "metadata": {},
   "outputs": [],
   "source": [
    "gene_name_to_ens_id = dict(zip(adata.var.index, adata.var.gene_ids))"
   ]
  },
  {
   "cell_type": "markdown",
   "metadata": {},
   "source": [
    "write dea results, and write top 1000 genes per cell type for LDSC GWAS stratification later. Use ensembl ids rather than gene names."
   ]
  },
  {
   "cell_type": "code",
   "execution_count": null,
   "metadata": {},
   "outputs": [],
   "source": [
    "for ct in adata.obs.manual_ann_grouped.unique():\n",
    "    # extract dea dataframe and store to csv\n",
    "    dea_df = sc.get.rank_genes_groups_df(adata, group=ct)\n",
    "    # add ensembl ids\n",
    "    dea_df[\"gene_ids\"] = dea_df.names.map(gene_name_to_ens_id)\n",
    "    # remove spaces from cell type name\n",
    "    ct_no_spaces = ct.replace(\" \", \"_\")\n",
    "    #     write to csv\n",
    "    dea_df.to_csv(os.path.join(dir_DEA_results_coarse_cts, f\"{ct_no_spaces}_vs_rest.csv\"))\n",
    "    with open(\n",
    "        os.path.join(dir_gene_sets_for_LDSC, f\"{ct_no_spaces}.GeneSet\"),\n",
    "        \"w+\",\n",
    "    ) as f:\n",
    "        # exclude HLA genes, since they have funny LD patterns\n",
    "        dea_df_filt = dea_df.loc[~dea_df.names.str.startswith(\"HLA-\"), :]\n",
    "        dea_df_final = dea_df_filt.sort_values(by=\"scores\", ascending=False).iloc[\n",
    "            :1000\n",
    "        ]\n",
    "        # make sure these do not include genes with negative t statistics\n",
    "        if (dea_df_final.scores < 0).any():\n",
    "            raise ValueError(\n",
    "                \"Note that the top1000 of your DEA are partly lower-expressed genes! Exiting.\"\n",
    "            )\n",
    "        for ens_id in dea_df_final[\"gene_ids\"].values:\n",
    "            f.write(ens_id + \"\\n\")"
   ]
  },
  {
   "cell_type": "markdown",
   "metadata": {},
   "source": [
    "also store all genes to file, for LDSC control:"
   ]
  },
  {
   "cell_type": "code",
   "execution_count": null,
   "metadata": {},
   "outputs": [],
   "source": [
    "with open(os.path.join(dir_gene_sets_for_LDSC, \"control.GeneSet\"), \"w+\") as f:\n",
    "    for gene_name, ens_id in zip(adata.var.index, adata.var.gene_ids):\n",
    "        # exclude HLA genes\n",
    "        if not gene_name.startswith(\"HLA-\"):\n",
    "            f.write(ens_id + \"\\n\")"
   ]
  },
  {
   "cell_type": "markdown",
   "metadata": {},
   "source": [
    "## DEA for marker identification of most detailed cell type annotations. (Compare to rest of compartment, and where needed rest of smaller subref)"
   ]
  },
  {
   "cell_type": "markdown",
   "metadata": {},
   "source": [
    "We will now calculate top 10 markers for all detailed manual annotations in the HLCA, i.e. the \"leaf nodes\" of the hierarchical cell-type annotation tree. As we don't want our markers to reflect general differences between coarser cell types (e.g. all epithelial cell types ending up with a general epithelial marker as cell-type specific markers), we only compare to the rest of a cell-type's \"compartment\" (e.g. other epithelial, immune, endothelial or stromal cells), and take the top 10 after filtering. In some cases, where cell type annotations are very detailed (e.g. macrophage subtypes), we we do an additional comparison between the detailed cell type (e.g. monocyte-derived macrophages) and its parent cell type (all other macrophages). We will then take the top 5 of both comparisons."
   ]
  },
  {
   "cell_type": "markdown",
   "metadata": {},
   "source": [
    "load mapper of final anns to leveled anns, if not available anymore from rest of script:"
   ]
  },
  {
   "cell_type": "code",
   "execution_count": 6,
   "metadata": {},
   "outputs": [],
   "source": [
    "final_anns_to_leveled_anns_df = pd.read_csv(path_man_anns_levd_and_colors, index_col=0)"
   ]
  },
  {
   "cell_type": "markdown",
   "metadata": {},
   "source": [
    "store cts in bio-based order:"
   ]
  },
  {
   "cell_type": "code",
   "execution_count": 7,
   "metadata": {},
   "outputs": [],
   "source": [
    "cts = final_anns_to_leveled_anns_df.index.tolist()"
   ]
  },
  {
   "cell_type": "code",
   "execution_count": 8,
   "metadata": {},
   "outputs": [
    {
     "data": {
      "image/png": "[encoded data removed]",
      "text/plain": [
       "<Figure size 400x400 with 1 Axes>"
      ]
     },
     "metadata": {},
     "output_type": "display_data"
    }
   ],
   "source": [
    "sc.pl.umap(adata, color=\"ann_level_1\")"
   ]
  },
  {
   "cell_type": "markdown",
   "metadata": {},
   "source": [
    "set wanted filtering type, choose from \"default\", \"strict\", \"extra strict\". We used \"strict\" for the HLCA paper."
   ]
  },
  {
   "cell_type": "code",
   "execution_count": 9,
   "metadata": {},
   "outputs": [],
   "source": [
    "filtering = \"strict\""
   ]
  },
  {
   "cell_type": "markdown",
   "metadata": {},
   "source": [
    "specify for which cell types we also want to compare to a smaller set of cells than the entire compartment. If we don't want to do an additional comparison, set the cell type to \"None\". "
   ]
  },
  {
   "cell_type": "code",
   "execution_count": 10,
   "metadata": {},
   "outputs": [],
   "source": [
    "subreference = {\n",
    "    \"Basal resting\": \"3_Basal\",\n",
    "    \"Suprabasal\": \"3_Basal\",\n",
    "    \"Deuterosomal\": \"3_Multiciliated lineage\",\n",
    "    \"Multiciliated (nasal)\": \"3_Multiciliated lineage\",\n",
    "    \"Multiciliated (non-nasal)\": \"3_Multiciliated lineage\",\n",
    "    \"Club (non-nasal)\": \"3_Secretory\",\n",
    "    \"Club (nasal)\": \"3_Secretory\",\n",
    "    \"Goblet (nasal)\": \"3_Secretory\",\n",
    "    \"Goblet (bronchial)\": \"3_Secretory\",\n",
    "    \"Goblet (subsegmental)\": \"3_Secretory\",\n",
    "    \"Transitional Club-AT2\": \"3_Secretory\",\n",
    "    \"Ionocyte\": \"None\",\n",
    "    \"Tuft\": \"None\",\n",
    "    \"Neuroendocrine\": \"None\",\n",
    "    \"SMG serous (nasal)\": \"3_Submucosal Secretory\",\n",
    "    \"SMG serous (bronchial)\": \"3_Submucosal Secretory\",\n",
    "    \"SMG mucous\": \"3_Submucosal Secretory\",\n",
    "    \"SMG duct\": \"3_Submucosal Secretory\",\n",
    "    \"AT1\": \"2_Alveolar epithelium\",\n",
    "    \"AT2\": \"2_Alveolar epithelium\",\n",
    "    \"AT2 proliferating\": \"2_Alveolar epithelium\",\n",
    "    \"EC arterial\": \"None\",\n",
    "    \"EC aerocyte capillary\": \"None\",\n",
    "    \"EC general capillary\": \"None\",\n",
    "    \"EC venous systemic\": \"None\",\n",
    "    \"EC venous pulmonary\": \"None\",\n",
    "    \"Lymphatic EC mature\": \"None\",\n",
    "    \"Lymphatic EC proliferating\": \"None\",\n",
    "    \"Lymphatic EC differentiating\": \"None\",\n",
    "    \"Peribronchial fibroblasts\": \"None\",\n",
    "    \"Adventitial fibroblasts\": \"2_Fibroblast lineage\",\n",
    "    \"Alveolar fibroblasts\": \"2_Fibroblast lineage\",\n",
    "    \"Pericytes\": \"2_Fibroblast lineage\",\n",
    "    \"Subpleural fibroblasts\": \"2_Fibroblast lineage\",\n",
    "    \"Myofibroblasts\": \"2_Fibroblast lineage\",\n",
    "    \"Smooth muscle\": \"2_Smooth muscle\",\n",
    "    \"Fibromyocytes\": \"2_Smooth muscle\",\n",
    "    \"SM activated stress response\": \"2_Smooth muscle\",\n",
    "    \"Mesothelium\": \"None\",\n",
    "    \"B cells\": \"None\",\n",
    "    \"Plasma cells\": \"None\",\n",
    "    \"CD4 T cells\": \"3_T cell lineage\",\n",
    "    \"CD8 T cells\": \"3_T cell lineage\",\n",
    "    \"T cells proliferating\": \"3_T cell lineage\",\n",
    "    \"NK cells\": \"None\",\n",
    "    \"DC1\": \"3_Dendritic cells\",\n",
    "    \"DC2\": \"3_Dendritic cells\",\n",
    "    \"Migratory DCs\": \"3_Dendritic cells\",\n",
    "    \"Plasmacytoid DCs\": \"3_Dendritic cells\",\n",
    "    \"Alveolar macrophages\": \"None\",\n",
    "    \"Alveolar Mφ CCL3+\": \"4_Alveolar macrophages\",\n",
    "    \"Alveolar Mφ MT-positive\": \"4_Alveolar macrophages\",\n",
    "    \"Alveolar Mφ proliferating\": \"4_Alveolar macrophages\",\n",
    "    \"Monocyte-derived Mφ\": \"4_Interstitial macrophages\",\n",
    "    \"Interstitial Mφ perivascular\": \"4_Interstitial macrophages\",\n",
    "    \"Classical monocytes\": \"3_Monocytes\",\n",
    "    \"Non-classical monocytes\": \"3_Monocytes\",\n",
    "    \"Mast cells\": \"None\",\n",
    "}"
   ]
  },
  {
   "cell_type": "markdown",
   "metadata": {},
   "source": [
    "Now perform the DEAs comparing cell types to their smaller-than-compartment sister cell types, and write to file:"
   ]
  },
  {
   "cell_type": "code",
   "execution_count": 90,
   "metadata": {},
   "outputs": [
    {
     "name": "stdout",
     "output_type": "stream",
     "text": [
      "2_Smooth muscle\n"
     ]
    },
    {
     "name": "stderr",
     "output_type": "stream",
     "text": [
      "... storing 'ann_level_3' as categorical\n"
     ]
    },
    {
     "name": "stdout",
     "output_type": "stream",
     "text": [
      "Subref 2_Smooth muscle has only one label at level 2. Ignoring this annotation level, and setting level one higher.\n",
      "3\n",
      "3_Monocytes\n",
      "4\n",
      "3_Dendritic cells\n",
      "4\n",
      "3_Multiciliated lineage\n",
      "4\n",
      "5\n"
     ]
    }
   ],
   "source": [
    "subreference_adatas = dict()\n",
    "for subref in set(subreference.values()):\n",
    "    if subref != \"None\":\n",
    "        print(subref)\n",
    "        lev = subref[0]\n",
    "        reflabel = subref[2:]\n",
    "        subref_adata = adata[\n",
    "            adata.obs[f\"ann_level_{lev}\"] == reflabel, :\n",
    "        ].copy()\n",
    "        # remove genes without counts:\n",
    "        sc.pp.filter_genes(subref_adata, min_cells=3)\n",
    "        # identify level at which sub-annotations are:\n",
    "        labels_in_subref = [ct for ct in cts if subreference[ct] == subref]\n",
    "        label_levels = dict()\n",
    "        for label in labels_in_subref:\n",
    "            label_levs = [\n",
    "                labellev\n",
    "                for labellev in range(1, 6)\n",
    "                if label in final_anns_to_leveled_anns_df[f\"Level_{labellev}\"].values\n",
    "            ]\n",
    "            if len(label_levs) > 1:\n",
    "                print(\"WARNING: THIS LABEL IS PRESENT IN MULTIPLE LEVELS:\", label)\n",
    "            if len(set(subref_adata.obs[f\"ann_level_{label_levs[0]}\"])) == 1:\n",
    "                print(\n",
    "                    f\"Subref {subref} has only one label at level {label_levs[0]}. Ignoring this annotation level, and setting level one higher.\"\n",
    "                )\n",
    "                subref_adata.obs[f\"ann_level_{label_levs[0] + 1}\"] = subref_adata.obs[\n",
    "                    f\"ann_level_{label_levs[0] + 1}\"\n",
    "                ].tolist()\n",
    "                subref_adata.obs.loc[\n",
    "                    subref_adata.obs.manual_ann == label,\n",
    "                    f\"ann_level_{label_levs[0] + 1}\",\n",
    "                ] = label\n",
    "                label_levs[0] = label_levs[0] + 1\n",
    "\n",
    "            label_levels[label] = label_levs[0]\n",
    "        # now perform DEA at all wanted levels and filter according to filtering setting.\n",
    "        for dea_level in set(label_levels.values()):\n",
    "            print(dea_level)\n",
    "            sc.tl.rank_genes_groups(\n",
    "                subref_adata,\n",
    "                groupby=f\"ann_level_{dea_level}\",\n",
    "                use_raw=False,\n",
    "                method=\"t-test\",\n",
    "                key_added=f\"ann_level_{dea_level}\",\n",
    "            )\n",
    "            if filtering == \"default\":\n",
    "                sc.tl.filter_rank_genes_groups(\n",
    "                    subref_adata, key=f\"ann_level_{dea_level}\"\n",
    "                )\n",
    "            elif filtering == \"strict\":\n",
    "                sc.tl.filter_rank_genes_groups(\n",
    "                    subref_adata,\n",
    "                    key=f\"ann_level_{dea_level}\",\n",
    "                    min_in_group_fraction=0.5,\n",
    "                    max_out_group_fraction=0.25,\n",
    "                )\n",
    "            elif filtering == \"extra_strict\":\n",
    "                sc.tl.filter_rank_genes_groups(\n",
    "                    subref_adata,\n",
    "                    key=f\"ann_level_{dea_level}\",\n",
    "                    min_in_group_fraction=0.3,\n",
    "                    max_out_group_fraction=0.02,\n",
    "                )\n",
    "        for ct in labels_in_subref:\n",
    "            if ct in label_levels.keys():\n",
    "                labellev = label_levels[ct]\n",
    "            else:\n",
    "                ct_matched = [ct_new for ct_new in label_levels.keys() if ct in ct_new][\n",
    "                    0\n",
    "                ]\n",
    "                print(f\"WARNING: assuming that {ct_matched} is the same as {ct}.\")\n",
    "                ct = ct_matched\n",
    "                labellev = label_levels[ct_matched]\n",
    "            ct_no_spaces = ct.replace(\" \", \"_\")\n",
    "            dea_df_filtered = sc.get.rank_genes_groups_df(\n",
    "                subref_adata, group=ct, key=f\"ann_level_{labellev}\"\n",
    "            )\n",
    "            if filtering == \"default\":\n",
    "                dea_df_filtered.to_csv(\n",
    "                    os.path.join(dir_DEA_results_fine_versus_subref, f\"{ct_no_spaces}_dea_results_ttest_filt.csv\")\n",
    "                )\n",
    "            elif filtering == \"strict\":\n",
    "                dea_df_filtered.to_csv(\n",
    "                    os.path.join(dir_DEA_results_fine_versus_subref, f\"{ct_no_spaces}_dea_results_ttest_filt_strict.csv\")\n",
    "                )\n",
    "            elif filtering == \"extra_strict\":\n",
    "                dea_df_filtered.to_csv(\n",
    "                    os.path.join(dir_DEA_results_fine_versus_subref, f\"{ct_no_spaces}_dea_results_ttest_filt_extra_strict.csv\")\n",
    "                )"
   ]
  },
  {
   "cell_type": "markdown",
   "metadata": {},
   "source": [
    "Now do the cell-type versus compartment DEA (i.e. one versus Epithelial/Endothelial/Immune/Stromal), for all final annotations, and write to file:"
   ]
  },
  {
   "cell_type": "code",
   "execution_count": 15,
   "metadata": {},
   "outputs": [],
   "source": [
    "subadatas = dict()\n",
    "for comp in adata.obs.ann_level_1.unique():\n",
    "    print(comp)\n",
    "    if comp != \"Immune\":  # temporary, since I already ran immune in a previous run\n",
    "        subadata = adata[adata.obs.ann_level_1 == comp, :].copy()\n",
    "        print(subadata.shape)\n",
    "        sc.tl.rank_genes_groups(\n",
    "            subadata, groupby=\"manual_ann\", use_raw=False, method=\"t-test\"\n",
    "        )\n",
    "        if filtering == \"default\":\n",
    "            sc.tl.filter_rank_genes_groups(subadata)\n",
    "        elif filtering == \"strict\":\n",
    "            sc.tl.filter_rank_genes_groups(\n",
    "                subadata, min_in_group_fraction=0.5, max_out_group_fraction=0.25\n",
    "            )\n",
    "        elif filtering == \"extra_strict\":\n",
    "            sc.tl.filter_rank_genes_groups(\n",
    "                subadata, min_in_group_fraction=0.3, max_out_group_fraction=0.02\n",
    "            )\n",
    "        else:\n",
    "            raise ValueError(\"FILTERING SHOULD BE SET TO EITHER 'STRICT' OR 'DEFAULT'!\")\n",
    "        for ct in subadata.obs.manual_ann.unique():\n",
    "            print(ct)\n",
    "            ct_no_spaces = ct.replace(\" \", \"_\")\n",
    "            dea_df_filtered = sc.get.rank_genes_groups_df(\n",
    "                subadata, group=ct, key=\"rank_genes_groups_filtered\"\n",
    "            )  # .dropna(axis=0)\n",
    "            if filtering == \"default\":\n",
    "                dea_df_filtered.to_csv(\n",
    "                     os.path.join(dir_DEA_results_fine_versus_comp, f\"{ct_no_spaces}_dea_results_ttest_filt.csv\")\n",
    "                )\n",
    "            elif filtering == \"strict\":\n",
    "                dea_df_filtered.to_csv(\n",
    "                    os.path.join(dir_DEA_results_fine_versus_comp, f\"{ct_no_spaces}_dea_results_ttest_filt_strict.csv\")\n",
    "                )\n",
    "            elif filtering == \"extra_strict\":\n",
    "                dea_df_filtered.to_csv(\n",
    "                     os.path.join(dir_DEA_results_fine_versus_comp, f\"{ct_no_spaces}_dea_results_ttest_filt_extra_strict.csv\")\n",
    "                )\n",
    "\n",
    "            dea_df = sc.get.rank_genes_groups_df(\n",
    "                subadata, group=ct, key=\"rank_genes_groups\"\n",
    "            )\n",
    "            dea_df.to_csv(\n",
    "                os.path.join(dir_DEA_results_fine_versus_comp, f\"{ct_no_spaces}_dea_results_ttest_unfilt.csv\")\n",
    "            )\n",
    "        subadatas[comp] = subadata"
   ]
  },
  {
   "cell_type": "markdown",
   "metadata": {},
   "source": [
    "Generate the final marker table, with max. 10 markers per cell type (and fewer only if no more genes passed filtering):"
   ]
  },
  {
   "cell_type": "code",
   "execution_count": 11,
   "metadata": {},
   "outputs": [],
   "source": [
    "n_genes_per_ct = 10"
   ]
  },
  {
   "cell_type": "code",
   "execution_count": 14,
   "metadata": {},
   "outputs": [
    {
     "name": "stderr",
     "output_type": "stream",
     "text": [
      "/home/icb/lisa.sikkema/miniconda3/envs/scRNAseq_analysis/lib/python3.7/site-packages/ipykernel_launcher.py:68: SettingWithCopyWarning: \n",
      "A value is trying to be set on a copy of a slice from a DataFrame.\n",
      "Try using .loc[row_indexer,col_indexer] = value instead\n",
      "\n",
      "See the caveats in the documentation: https://pandas.pydata.org/pandas-docs/stable/user_guide/indexing.html#returning-a-view-versus-a-copy\n"
     ]
    }
   ],
   "source": [
    "verbose = False\n",
    "# initiate empty dataframe\n",
    "marker_genes = pd.DataFrame(index=np.arange(n_genes_per_ct), columns=cts)\n",
    "# initiate empty dictionary in which to track number of markers per ct\n",
    "n_marker_genes_per_ct = dict()\n",
    "for ct in cts:\n",
    "    ct_no_spaces = ct.replace(\" \", \"_\")\n",
    "    # import one versus compartment results (stored above)\n",
    "    dea_df_comp = pd.read_csv(\n",
    "        os.path.join(\n",
    "            dir_DEA_results_fine_versus_comp,\n",
    "            f\"{ct_no_spaces}_dea_results_ttest_filt_strict.csv\",\n",
    "        )\n",
    "    ).dropna(axis=0)\n",
    "    # check if a one-versus-\"subreference\" exists. If so, import those results too\n",
    "    subref_path = os.path.join(\n",
    "        dir_DEA_results_fine_versus_subref,\n",
    "        f\"{ct_no_spaces}_dea_results_ttest_filt_strict.csv\",\n",
    "    )\n",
    "    if os.path.isfile(subref_path):\n",
    "        dea_df_subref = pd.read_csv(subref_path).dropna(axis=0)\n",
    "        has_subref = True\n",
    "        comp_marker_n = int(n_genes_per_ct / 2)\n",
    "        if verbose:\n",
    "            print(f\"{ct} has a subreference.\")\n",
    "    else:\n",
    "        if verbose:\n",
    "            print(f\"{ct} has no subreference.\")\n",
    "        comp_marker_n = n_genes_per_ct\n",
    "        n_marker_genes_subref = 0\n",
    "        marker_genes_subref = []\n",
    "        has_subref = False\n",
    "    n_marker_genes_comp = min(dea_df_comp.shape[0], comp_marker_n)\n",
    "    marker_genes_comp = (\n",
    "        dea_df_comp.sort_values(by=\"scores\", ascending=False)\n",
    "        .iloc[:n_marker_genes_comp, :]\n",
    "        .names.values.tolist()\n",
    "    )\n",
    "    if has_subref:\n",
    "        # remove marker genes selected based on compartment dea from df:\n",
    "        dea_df_subref = dea_df_subref.loc[\n",
    "            ~dea_df_subref.names.isin(marker_genes_comp), :\n",
    "        ]\n",
    "        dea_df_subref = dea_df_subref.loc[\n",
    "            dea_df_subref.names.isin(dea_df_comp.names), :\n",
    "        ]\n",
    "        # count how many genes we can select\n",
    "        n_marker_genes_subref = min(\n",
    "            dea_df_subref.shape[0], n_genes_per_ct - comp_marker_n\n",
    "        )\n",
    "        if verbose:\n",
    "            print(\"n marker genes subref:\", n_marker_genes_subref)\n",
    "        # extract top marker genes\n",
    "        marker_genes_subref = (\n",
    "            dea_df_subref.sort_values(by=\"scores\", ascending=False)\n",
    "            .iloc[:n_marker_genes_subref, :]\n",
    "            .names.values.tolist()\n",
    "        )\n",
    "        if verbose:\n",
    "            print(\n",
    "                \"Comp degs and subref degs unique?\",\n",
    "                len(marker_genes_subref + marker_genes_comp)\n",
    "                == len(set(marker_genes_subref + marker_genes_comp)),\n",
    "            )\n",
    "    marker_genes_ct = marker_genes_comp + marker_genes_subref\n",
    "\n",
    "    n_marker_genes_per_ct[ct] = n_marker_genes_comp + n_marker_genes_subref\n",
    "    marker_genes.iloc[: n_marker_genes_per_ct[ct], :][ct] = marker_genes_ct"
   ]
  },
  {
   "cell_type": "code",
   "execution_count": 15,
   "metadata": {},
   "outputs": [
    {
     "data": {
      "text/html": [
       "<div>\n",
       "<style scoped>\n",
       "    .dataframe tbody tr th:only-of-type {\n",
       "        vertical-align: middle;\n",
       "    }\n",
       "\n",
       "    .dataframe tbody tr th {\n",
       "        vertical-align: top;\n",
       "    }\n",
       "\n",
       "    .dataframe thead th {\n",
       "        text-align: right;\n",
       "    }\n",
       "</style>\n",
       "<table border=\"1\" class=\"dataframe\">\n",
       "  <thead>\n",
       "    <tr style=\"text-align: right;\">\n",
       "      <th></th>\n",
       "      <th>Basal resting</th>\n",
       "      <th>Suprabasal</th>\n",
       "      <th>Deuterosomal</th>\n",
       "      <th>Multiciliated (nasal)</th>\n",
       "      <th>Multiciliated (non-nasal)</th>\n",
       "      <th>Club (non-nasal)</th>\n",
       "      <th>Club (nasal)</th>\n",
       "      <th>Goblet (nasal)</th>\n",
       "      <th>Goblet (bronchial)</th>\n",
       "      <th>Goblet (subsegmental)</th>\n",
       "      <th>...</th>\n",
       "      <th>Plasmacytoid DCs</th>\n",
       "      <th>Alveolar macrophages</th>\n",
       "      <th>Alveolar Mφ CCL3+</th>\n",
       "      <th>Alveolar Mφ MT-positive</th>\n",
       "      <th>Alveolar Mφ proliferating</th>\n",
       "      <th>Monocyte-derived Mφ</th>\n",
       "      <th>Interstitial Mφ perivascular</th>\n",
       "      <th>Classical monocytes</th>\n",
       "      <th>Non-classical monocytes</th>\n",
       "      <th>Mast cells</th>\n",
       "    </tr>\n",
       "  </thead>\n",
       "  <tbody>\n",
       "    <tr>\n",
       "      <th>0</th>\n",
       "      <td>KRT15</td>\n",
       "      <td>KRT5</td>\n",
       "      <td>CCNO</td>\n",
       "      <td>C20orf85</td>\n",
       "      <td>C20orf85</td>\n",
       "      <td>TSPAN8</td>\n",
       "      <td>ASRGL1</td>\n",
       "      <td>LYPD2</td>\n",
       "      <td>MUC5B</td>\n",
       "      <td>TSPAN8</td>\n",
       "      <td>...</td>\n",
       "      <td>GZMB</td>\n",
       "      <td>FABP4</td>\n",
       "      <td>MIR3945HG</td>\n",
       "      <td>MT1X</td>\n",
       "      <td>KIAA0101</td>\n",
       "      <td>RNASE1</td>\n",
       "      <td>F13A1</td>\n",
       "      <td>FCN1</td>\n",
       "      <td>FCN1</td>\n",
       "      <td>TPSAB1</td>\n",
       "    </tr>\n",
       "    <tr>\n",
       "      <th>1</th>\n",
       "      <td>KRT17</td>\n",
       "      <td>KRT17</td>\n",
       "      <td>CDC20B</td>\n",
       "      <td>C9orf24</td>\n",
       "      <td>CAPS</td>\n",
       "      <td>CYP2F1</td>\n",
       "      <td>LYPD2</td>\n",
       "      <td>PI3</td>\n",
       "      <td>RARRES1</td>\n",
       "      <td>MUC5B</td>\n",
       "      <td>...</td>\n",
       "      <td>JCHAIN</td>\n",
       "      <td>APOE</td>\n",
       "      <td>CCL20</td>\n",
       "      <td>MT1E</td>\n",
       "      <td>CKS1B</td>\n",
       "      <td>C15orf48</td>\n",
       "      <td>RNASE1</td>\n",
       "      <td>VCAN</td>\n",
       "      <td>LILRB2</td>\n",
       "      <td>TPSB2</td>\n",
       "    </tr>\n",
       "    <tr>\n",
       "      <th>2</th>\n",
       "      <td>KRT5</td>\n",
       "      <td>SERPINB4</td>\n",
       "      <td>ZMYND10</td>\n",
       "      <td>RSPH1</td>\n",
       "      <td>C9orf24</td>\n",
       "      <td>TFF3</td>\n",
       "      <td>UGT2A1</td>\n",
       "      <td>CEACAM5</td>\n",
       "      <td>SAA1</td>\n",
       "      <td>C16orf89</td>\n",
       "      <td>...</td>\n",
       "      <td>ITM2C</td>\n",
       "      <td>MSR1</td>\n",
       "      <td>HLA-DQA2</td>\n",
       "      <td>MT1G</td>\n",
       "      <td>TYMS</td>\n",
       "      <td>VCAN</td>\n",
       "      <td>STAB1</td>\n",
       "      <td>S100A12</td>\n",
       "      <td>FGL2</td>\n",
       "      <td>CPA3</td>\n",
       "    </tr>\n",
       "    <tr>\n",
       "      <th>3</th>\n",
       "      <td>DST</td>\n",
       "      <td>SERPINB13</td>\n",
       "      <td>KIF9</td>\n",
       "      <td>PIFO</td>\n",
       "      <td>RSPH1</td>\n",
       "      <td>TGM2</td>\n",
       "      <td>TFCP2L1</td>\n",
       "      <td>LYNX1</td>\n",
       "      <td>ANKRD36C</td>\n",
       "      <td>MTRNR2L10</td>\n",
       "      <td>...</td>\n",
       "      <td>IRF7</td>\n",
       "      <td>SERPING1</td>\n",
       "      <td>PHLDA3</td>\n",
       "      <td>SFTPB</td>\n",
       "      <td>CENPW</td>\n",
       "      <td>CXCL8</td>\n",
       "      <td>RNASE6</td>\n",
       "      <td>CFP</td>\n",
       "      <td>CFP</td>\n",
       "      <td>HPGDS</td>\n",
       "    </tr>\n",
       "    <tr>\n",
       "      <th>4</th>\n",
       "      <td>DLK2</td>\n",
       "      <td>KRT6A</td>\n",
       "      <td>FOXJ1</td>\n",
       "      <td>RP11-356K23.1</td>\n",
       "      <td>FAM183A</td>\n",
       "      <td>MUC5B</td>\n",
       "      <td>LY6D</td>\n",
       "      <td>MUC5AC</td>\n",
       "      <td>SAA2</td>\n",
       "      <td>CLCA2</td>\n",
       "      <td>...</td>\n",
       "      <td>PPP1R14B</td>\n",
       "      <td>MCEMP1</td>\n",
       "      <td>ITGB8</td>\n",
       "      <td>KCNMA1</td>\n",
       "      <td>NUSAP1</td>\n",
       "      <td>NaN</td>\n",
       "      <td>GPR183</td>\n",
       "      <td>EREG</td>\n",
       "      <td>LILRA5</td>\n",
       "      <td>MS4A2</td>\n",
       "    </tr>\n",
       "    <tr>\n",
       "      <th>5</th>\n",
       "      <td>IL33</td>\n",
       "      <td>CLCA2</td>\n",
       "      <td>HES6</td>\n",
       "      <td>CCDC80</td>\n",
       "      <td>MS4A8</td>\n",
       "      <td>CXCL6</td>\n",
       "      <td>TPD52L1</td>\n",
       "      <td>MUC16</td>\n",
       "      <td>LYZ</td>\n",
       "      <td>CFD</td>\n",
       "      <td>...</td>\n",
       "      <td>C12orf75</td>\n",
       "      <td>TREM1</td>\n",
       "      <td>CCL4L2</td>\n",
       "      <td>EMP1</td>\n",
       "      <td>CDK1</td>\n",
       "      <td>NaN</td>\n",
       "      <td>FGL2</td>\n",
       "      <td>CD300E</td>\n",
       "      <td>CSF1R</td>\n",
       "      <td>GATA2</td>\n",
       "    </tr>\n",
       "    <tr>\n",
       "      <th>6</th>\n",
       "      <td>FHL2</td>\n",
       "      <td>LY6D</td>\n",
       "      <td>CEP78</td>\n",
       "      <td>PROM1</td>\n",
       "      <td>TFF3</td>\n",
       "      <td>C16orf89</td>\n",
       "      <td>SORD</td>\n",
       "      <td>C15orf48</td>\n",
       "      <td>PLCG2</td>\n",
       "      <td>KIAA1324</td>\n",
       "      <td>...</td>\n",
       "      <td>TSPAN13</td>\n",
       "      <td>GPNMB</td>\n",
       "      <td>NINJ1</td>\n",
       "      <td>MT1F</td>\n",
       "      <td>UBE2C</td>\n",
       "      <td>NaN</td>\n",
       "      <td>CSF1R</td>\n",
       "      <td>FGL2</td>\n",
       "      <td>LILRB1</td>\n",
       "      <td>KIT</td>\n",
       "    </tr>\n",
       "    <tr>\n",
       "      <th>7</th>\n",
       "      <td>PTPRZ1</td>\n",
       "      <td>PPP1R14B</td>\n",
       "      <td>TMEM106C</td>\n",
       "      <td>OMG</td>\n",
       "      <td>IGFBP5</td>\n",
       "      <td>HES4</td>\n",
       "      <td>PI3</td>\n",
       "      <td>BPIFA1</td>\n",
       "      <td>FCGBP</td>\n",
       "      <td>LTF</td>\n",
       "      <td>...</td>\n",
       "      <td>UGCG</td>\n",
       "      <td>CYP27A1</td>\n",
       "      <td>SCGB3A1</td>\n",
       "      <td>C15orf48</td>\n",
       "      <td>PTTG1</td>\n",
       "      <td>NaN</td>\n",
       "      <td>FCGR2B</td>\n",
       "      <td>NaN</td>\n",
       "      <td>WARS</td>\n",
       "      <td>CLU</td>\n",
       "    </tr>\n",
       "    <tr>\n",
       "      <th>8</th>\n",
       "      <td>NaN</td>\n",
       "      <td>AKR1C3</td>\n",
       "      <td>CCDC67</td>\n",
       "      <td>DIAPH2</td>\n",
       "      <td>CFAP43</td>\n",
       "      <td>RHOV</td>\n",
       "      <td>NaN</td>\n",
       "      <td>CCDC80</td>\n",
       "      <td>RIMS1</td>\n",
       "      <td>TMEM45A</td>\n",
       "      <td>...</td>\n",
       "      <td>APP</td>\n",
       "      <td>PPARG</td>\n",
       "      <td>TNIP3</td>\n",
       "      <td>RP11-598F7.3</td>\n",
       "      <td>MKI67</td>\n",
       "      <td>NaN</td>\n",
       "      <td>IL13RA1</td>\n",
       "      <td>NaN</td>\n",
       "      <td>FAM26F</td>\n",
       "      <td>VWA5A</td>\n",
       "    </tr>\n",
       "    <tr>\n",
       "      <th>9</th>\n",
       "      <td>NaN</td>\n",
       "      <td>IGFBP3</td>\n",
       "      <td>KDELC2</td>\n",
       "      <td>C15orf48</td>\n",
       "      <td>C2orf40</td>\n",
       "      <td>KIAA1324</td>\n",
       "      <td>NaN</td>\n",
       "      <td>DHRS9</td>\n",
       "      <td>MUC5AC</td>\n",
       "      <td>FCGBP</td>\n",
       "      <td>...</td>\n",
       "      <td>TCF4</td>\n",
       "      <td>NUPR1</td>\n",
       "      <td>CXCL5</td>\n",
       "      <td>NaN</td>\n",
       "      <td>SMC4</td>\n",
       "      <td>NaN</td>\n",
       "      <td>METRNL</td>\n",
       "      <td>NaN</td>\n",
       "      <td>LIMD2</td>\n",
       "      <td>RGS13</td>\n",
       "    </tr>\n",
       "  </tbody>\n",
       "</table>\n",
       "<p>10 rows × 58 columns</p>\n",
       "</div>"
      ],
      "text/plain": [
       "  Basal resting Suprabasal Deuterosomal Multiciliated (nasal)  \\\n",
       "0         KRT15       KRT5         CCNO              C20orf85   \n",
       "1         KRT17      KRT17       CDC20B               C9orf24   \n",
       "2          KRT5   SERPINB4      ZMYND10                 RSPH1   \n",
       "3           DST  SERPINB13         KIF9                  PIFO   \n",
       "4          DLK2      KRT6A        FOXJ1         RP11-356K23.1   \n",
       "5          IL33      CLCA2         HES6                CCDC80   \n",
       "6          FHL2       LY6D        CEP78                 PROM1   \n",
       "7        PTPRZ1   PPP1R14B     TMEM106C                   OMG   \n",
       "8           NaN     AKR1C3       CCDC67                DIAPH2   \n",
       "9           NaN     IGFBP3       KDELC2              C15orf48   \n",
       "\n",
       "  Multiciliated (non-nasal) Club (non-nasal) Club (nasal) Goblet (nasal)  \\\n",
       "0                  C20orf85           TSPAN8       ASRGL1          LYPD2   \n",
       "1                      CAPS           CYP2F1        LYPD2            PI3   \n",
       "2                   C9orf24             TFF3       UGT2A1        CEACAM5   \n",
       "3                     RSPH1             TGM2      TFCP2L1          LYNX1   \n",
       "4                   FAM183A            MUC5B         LY6D         MUC5AC   \n",
       "5                     MS4A8            CXCL6      TPD52L1          MUC16   \n",
       "6                      TFF3         C16orf89         SORD       C15orf48   \n",
       "7                    IGFBP5             HES4          PI3         BPIFA1   \n",
       "8                    CFAP43             RHOV          NaN         CCDC80   \n",
       "9                   C2orf40         KIAA1324          NaN          DHRS9   \n",
       "\n",
       "  Goblet (bronchial) Goblet (subsegmental)  ... Plasmacytoid DCs  \\\n",
       "0              MUC5B                TSPAN8  ...             GZMB   \n",
       "1            RARRES1                 MUC5B  ...           JCHAIN   \n",
       "2               SAA1              C16orf89  ...            ITM2C   \n",
       "3           ANKRD36C             MTRNR2L10  ...             IRF7   \n",
       "4               SAA2                 CLCA2  ...         PPP1R14B   \n",
       "5                LYZ                   CFD  ...         C12orf75   \n",
       "6              PLCG2              KIAA1324  ...          TSPAN13   \n",
       "7              FCGBP                   LTF  ...             UGCG   \n",
       "8              RIMS1               TMEM45A  ...              APP   \n",
       "9             MUC5AC                 FCGBP  ...             TCF4   \n",
       "\n",
       "  Alveolar macrophages Alveolar Mφ CCL3+ Alveolar Mφ MT-positive  \\\n",
       "0                FABP4         MIR3945HG                    MT1X   \n",
       "1                 APOE             CCL20                    MT1E   \n",
       "2                 MSR1          HLA-DQA2                    MT1G   \n",
       "3             SERPING1            PHLDA3                   SFTPB   \n",
       "4               MCEMP1             ITGB8                  KCNMA1   \n",
       "5                TREM1            CCL4L2                    EMP1   \n",
       "6                GPNMB             NINJ1                    MT1F   \n",
       "7              CYP27A1           SCGB3A1                C15orf48   \n",
       "8                PPARG             TNIP3            RP11-598F7.3   \n",
       "9                NUPR1             CXCL5                     NaN   \n",
       "\n",
       "  Alveolar Mφ proliferating Monocyte-derived Mφ Interstitial Mφ perivascular  \\\n",
       "0                  KIAA0101              RNASE1                        F13A1   \n",
       "1                     CKS1B            C15orf48                       RNASE1   \n",
       "2                      TYMS                VCAN                        STAB1   \n",
       "3                     CENPW               CXCL8                       RNASE6   \n",
       "4                    NUSAP1                 NaN                       GPR183   \n",
       "5                      CDK1                 NaN                         FGL2   \n",
       "6                     UBE2C                 NaN                        CSF1R   \n",
       "7                     PTTG1                 NaN                       FCGR2B   \n",
       "8                     MKI67                 NaN                      IL13RA1   \n",
       "9                      SMC4                 NaN                       METRNL   \n",
       "\n",
       "  Classical monocytes Non-classical monocytes Mast cells  \n",
       "0                FCN1                    FCN1     TPSAB1  \n",
       "1                VCAN                  LILRB2      TPSB2  \n",
       "2             S100A12                    FGL2       CPA3  \n",
       "3                 CFP                     CFP      HPGDS  \n",
       "4                EREG                  LILRA5      MS4A2  \n",
       "5              CD300E                   CSF1R      GATA2  \n",
       "6                FGL2                  LILRB1        KIT  \n",
       "7                 NaN                    WARS        CLU  \n",
       "8                 NaN                  FAM26F      VWA5A  \n",
       "9                 NaN                   LIMD2      RGS13  \n",
       "\n",
       "[10 rows x 58 columns]"
      ]
     },
     "execution_count": 15,
     "metadata": {},
     "output_type": "execute_result"
    }
   ],
   "source": [
    "marker_genes"
   ]
  },
  {
   "cell_type": "markdown",
   "metadata": {},
   "source": [
    "write to file:"
   ]
  },
  {
   "cell_type": "code",
   "execution_count": null,
   "metadata": {},
   "outputs": [],
   "source": [
    "marker_genes.to_csv(path_marker_genes)"
   ]
  }
 ],
 "metadata": {
  "kernelspec": {
   "display_name": "Python 3",
   "language": "python",
   "name": "python3"
  },
  "language_info": {
   "codemirror_mode": {
    "name": "ipython",
    "version": 3
   },
   "file_extension": ".py",
   "mimetype": "text/x-python",
   "name": "python",
   "nbconvert_exporter": "python",
   "pygments_lexer": "ipython3",
   "version": "3.7.5"
  }
 },
 "nbformat": 4,
 "nbformat_minor": 4
}
