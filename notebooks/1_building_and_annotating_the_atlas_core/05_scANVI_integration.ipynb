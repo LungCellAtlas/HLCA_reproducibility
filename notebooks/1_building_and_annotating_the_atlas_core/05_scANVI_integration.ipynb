{
 "cells": [
  {
   "cell_type": "markdown",
   "metadata": {},
   "source": [
    "# Integration of HLCA datasets using scANVI"
   ]
  },
  {
   "cell_type": "markdown",
   "metadata": {},
   "source": [
    "In this notebook we integrate the HLCA datasets using scANVI. Note that scANVI should be run on a GPU."
   ]
  },
  {
   "cell_type": "markdown",
   "metadata": {},
   "source": [
    "#### import modules and set paths:"
   ]
  },
  {
   "cell_type": "code",
   "execution_count": 6,
   "metadata": {},
   "outputs": [],
   "source": [
    "import os\n",
    "import warnings\n",
    "warnings.simplefilter(action='ignore', category=FutureWarning)\n",
    "warnings.simplefilter(action='ignore', category=UserWarning)"
   ]
  },
  {
   "cell_type": "markdown",
   "metadata": {},
   "source": [
    "We use the scArches package here, as it includes scANVI as a dependency, and we will need scArches later anyway when mapping new data to the atlas."
   ]
  },
  {
   "cell_type": "code",
   "execution_count": 2,
   "metadata": {},
   "outputs": [],
   "source": [
    "import scanpy as sc\n",
    "import anndata\n",
    "import scarches as sca"
   ]
  },
  {
   "cell_type": "markdown",
   "metadata": {},
   "source": [
    "set parameters for printing and figures:"
   ]
  },
  {
   "cell_type": "code",
   "execution_count": 3,
   "metadata": {},
   "outputs": [],
   "source": [
    "torch.set_printoptions(precision=3, sci_mode=False, edgeitems=7)"
   ]
  },
  {
   "cell_type": "markdown",
   "metadata": {},
   "source": [
    "paths:"
   ]
  },
  {
   "cell_type": "code",
   "execution_count": 5,
   "metadata": {},
   "outputs": [],
   "source": [
    "path_HLCA_unintegrated = \"../../data/HLCA_core_h5ads/HLCA_v1_intermediates/LCA_Bano_Barb_Jain_Kras_Lafy_Meye_Mish_MishBud_Nawi_Seib_Teic_log1p.h5ad\"\n",
    "path_HLCA_unintegrated_prepped = \"../../data/HLCA_core_h5ads/HLCA_v1_integration/HLCA_v1_scANVI_input.h5ad\"\n",
    "dir_out = \"../../results/scANVI_integration\""
   ]
  },
  {
   "cell_type": "markdown",
   "metadata": {},
   "source": [
    "## Prepare HLCA for integration:"
   ]
  },
  {
   "cell_type": "markdown",
   "metadata": {},
   "source": [
    "### Prepare cell-type labeling:"
   ]
  },
  {
   "cell_type": "markdown",
   "metadata": {},
   "source": [
    "Load unintegrated HLCA:"
   ]
  },
  {
   "cell_type": "code",
   "execution_count": null,
   "metadata": {},
   "outputs": [],
   "source": [
    "adata = sc.read(path_HLCA_unintegrated)"
   ]
  },
  {
   "cell_type": "code",
   "execution_count": null,
   "metadata": {},
   "outputs": [],
   "source": [
    "adata"
   ]
  },
  {
   "cell_type": "markdown",
   "metadata": {},
   "source": [
    "scANVI uses cell type labels for the integration process. We will here select specific labels to use for the integration. Where possible, we will use level 3 annotations. For cell types that are rarely/never annotated at this level, we will fall back to level 2 annotations. Cells that only have level 1 annotations will be set as \"unlabeled\", except for \"proliferating cells\", which will keep their labels."
   ]
  },
  {
   "cell_type": "markdown",
   "metadata": {},
   "source": [
    "check which cells have only level 1 annotations:"
   ]
  },
  {
   "cell_type": "code",
   "execution_count": null,
   "metadata": {},
   "outputs": [],
   "source": [
    "lev1_obs = adata.obs.loc[adata.obs.ann_highest_res == 1, :].copy()\n",
    "print(\"Number of cells with only level 1 annotation:\", lev1_obs.shape[0])"
   ]
  },
  {
   "cell_type": "code",
   "execution_count": null,
   "metadata": {},
   "outputs": [],
   "source": [
    "# count number of cells per ann_level_1 group that have no further annotations\n",
    "lev1_annotations = lev1_obs.groupby(\"ann_level_1\").agg({\"ann_level_1\":\"count\"}).rename(columns={\"ann_level_1\":\"n_cells_w_only_l1_ann\"})\n",
    "# count total cells in each ann_level_1 group\n",
    "lev1_annotations['total'] = adata.obs.groupby(\"ann_level_1\").agg({\"ann_level_1\":\"count\"}).loc[lev1_annotations.index,\"ann_level_1\"]"
   ]
  },
  {
   "cell_type": "code",
   "execution_count": null,
   "metadata": {},
   "outputs": [],
   "source": [
    "lev1_annotations"
   ]
  },
  {
   "cell_type": "markdown",
   "metadata": {},
   "source": [
    "We will let all \"Proliferating cells\" keep their labels, and will set all other cells as \"unlabeled\" (since they only make up a small part of their group)"
   ]
  },
  {
   "cell_type": "code",
   "execution_count": null,
   "metadata": {},
   "outputs": [],
   "source": [
    "lev1_labeled = adata.obs.index[adata.obs.ann_level_1 == \"Proliferating cells\"]"
   ]
  },
  {
   "cell_type": "code",
   "execution_count": null,
   "metadata": {},
   "outputs": [],
   "source": [
    "lev1_unlabeled = adata.obs.index[[max_res == 1 and lev1label != \"Proliferating cells\" for max_res, lev1label in zip(adata.obs.ann_highest_res, adata.obs.ann_level_1)]]"
   ]
  },
  {
   "cell_type": "markdown",
   "metadata": {},
   "source": [
    "sanity check (should be True):"
   ]
  },
  {
   "cell_type": "code",
   "execution_count": null,
   "metadata": {},
   "outputs": [],
   "source": [
    "lev1_annotations.n_cells_w_only_l1_ann.sum() == len(lev1_labeled) + len(lev1_unlabeled)"
   ]
  },
  {
   "cell_type": "markdown",
   "metadata": {},
   "source": [
    "Now check which cells have only up to level 2 annotations:"
   ]
  },
  {
   "cell_type": "code",
   "execution_count": null,
   "metadata": {},
   "outputs": [],
   "source": [
    "lev2_obs = adata.obs.loc[adata.obs.ann_highest_res == 2, :].copy()\n",
    "print(\"Number of cells with only level 1/2 annotation:\", lev2_obs.shape[0])"
   ]
  },
  {
   "cell_type": "code",
   "execution_count": null,
   "metadata": {},
   "outputs": [],
   "source": [
    "# count number of cells per ann_level_2 group that have no further annotations\n",
    "lev2_annotations = lev2_obs.groupby(\"ann_level_2\").agg({\"ann_level_2\":\"count\"}).rename(columns={\"ann_level_2\":\"n_cells_w_only_l2_ann\"})\n",
    "# count total cells in each ann_level_2 group\n",
    "lev2_annotations['total'] = adata.obs.groupby(\"ann_level_2\").agg({\"ann_level_2\":\"count\"}).loc[lev2_annotations.index,\"ann_level_2\"]"
   ]
  },
  {
   "cell_type": "code",
   "execution_count": null,
   "metadata": {},
   "outputs": [],
   "source": [
    "lev2_annotations"
   ]
  },
  {
   "cell_type": "markdown",
   "metadata": {},
   "source": [
    "We will set all cells with level 2 annotations \"Fibroblast lineage\", \"Mesothelium\", \"Lymphatic EC\", and \"Smooth Muscle\" to their level 2 annotations. All other cels with only level 2 annotations will be set to unlabeled. "
   ]
  },
  {
   "cell_type": "code",
   "execution_count": null,
   "metadata": {},
   "outputs": [],
   "source": [
    "lev2_labels_to_keep = [\"Fibroblast lineage\", \"Mesothelium\", \"Lymphatic EC\", \"Smooth Muscle\"]\n",
    "lev2_labeled = adata.obs.index[[lev2_lab in lev2_labels_to_keep for lev2_lab in adata.obs.ann_level_2]]"
   ]
  },
  {
   "cell_type": "markdown",
   "metadata": {},
   "source": [
    "sanity check (should be True):"
   ]
  },
  {
   "cell_type": "code",
   "execution_count": null,
   "metadata": {},
   "outputs": [],
   "source": [
    "len(lev2_labeled) == lev2_annotations.loc[lev2_labels_to_keep,\"total\"].sum()"
   ]
  },
  {
   "cell_type": "code",
   "execution_count": null,
   "metadata": {},
   "outputs": [],
   "source": [
    "lev2_unlabeled = adata.obs.index[[max_res == 2 and lev2_lab not in lev2_labels_to_keep for max_res, lev2_lab in zip(adata.obs.ann_highest_res, adata.obs.ann_level_2)]]"
   ]
  },
  {
   "cell_type": "markdown",
   "metadata": {},
   "source": [
    "sanity check (should be True):"
   ]
  },
  {
   "cell_type": "code",
   "execution_count": null,
   "metadata": {},
   "outputs": [],
   "source": [
    "len(lev2_unlabeled) == lev2_annotations.loc[~lev2_annotations.index.isin(lev2_labels_to_keep),\"n_cells_w_only_l2_ann\"].sum()"
   ]
  },
  {
   "cell_type": "markdown",
   "metadata": {},
   "source": [
    "now generate scANVI labels by pooling all the information obtained above into the adata column \"scanvi_label\":"
   ]
  },
  {
   "cell_type": "code",
   "execution_count": null,
   "metadata": {},
   "outputs": [],
   "source": [
    "adata.obs['scanvi_label'] = adata.obs.ann_level_3.tolist()\n",
    "adata.obs.loc[lev1_labeled,'scanvi_label'] = adata.obs.loc[lev1_labeled, \"ann_level_1\"]\n",
    "adata.obs.loc[lev1_unlabeled,'scanvi_label'] = \"unlabeled\"\n",
    "adata.obs.loc[lev2_labeled,'scanvi_label'] = adata.obs.loc[lev2_labeled, \"ann_level_2\"]\n",
    "adata.obs.loc[lev2_unlabeled,'scanvi_label'] = \"unlabeled\""
   ]
  },
  {
   "cell_type": "markdown",
   "metadata": {},
   "source": [
    "plot to check:"
   ]
  },
  {
   "cell_type": "code",
   "execution_count": null,
   "metadata": {},
   "outputs": [],
   "source": [
    "sc.set_figure_params(figsize=(8,8))\n",
    "sc.pl.umap(adata,color='scanvi_label',size=1)"
   ]
  },
  {
   "cell_type": "markdown",
   "metadata": {},
   "source": [
    "show where unlabeled cells are located in umap:"
   ]
  },
  {
   "cell_type": "code",
   "execution_count": null,
   "metadata": {},
   "outputs": [],
   "source": [
    "sc.set_figure_params(figsize=(5,5))\n",
    "sc.pl.umap(adata,color='scanvi_label',size=1,groups=['unlabeled'])"
   ]
  },
  {
   "cell_type": "markdown",
   "metadata": {},
   "source": [
    "### Subset to hvgs and create raw layers"
   ]
  },
  {
   "cell_type": "markdown",
   "metadata": {},
   "source": [
    "subset data to highly variable genes, and make sure we have raw counts as data."
   ]
  },
  {
   "cell_type": "code",
   "execution_count": null,
   "metadata": {},
   "outputs": [],
   "source": [
    "adata = adata[:,adata.var.highly_variable].copy()"
   ]
  },
  {
   "cell_type": "code",
   "execution_count": null,
   "metadata": {},
   "outputs": [],
   "source": [
    "adata.shape"
   ]
  },
  {
   "cell_type": "markdown",
   "metadata": {},
   "source": [
    "adata currently has normalized counts, so we need to use the .layers['counts'] layer to set raw.X. Also set adata.X to the counts, since it is not fully clear to me which layer cANVI uses for analysis."
   ]
  },
  {
   "cell_type": "code",
   "execution_count": null,
   "metadata": {},
   "outputs": [],
   "source": [
    "adata.X = adata.layers['counts']\n",
    "adata.raw = adata\n",
    "raw = adata.raw.to_adata()\n",
    "raw.X = adata.layers['counts']\n",
    "adata.raw = raw"
   ]
  },
  {
   "cell_type": "markdown",
   "metadata": {},
   "source": [
    "sanity check:"
   ]
  },
  {
   "cell_type": "code",
   "execution_count": null,
   "metadata": {},
   "outputs": [],
   "source": [
    "adata.raw.X[:5,:8].toarray()"
   ]
  },
  {
   "cell_type": "code",
   "execution_count": null,
   "metadata": {},
   "outputs": [],
   "source": [
    "adata.X[:5,:8].toarray()"
   ]
  },
  {
   "cell_type": "code",
   "execution_count": null,
   "metadata": {},
   "outputs": [],
   "source": [
    "adata.layers['counts'][:5,:8].toarray()"
   ]
  },
  {
   "cell_type": "markdown",
   "metadata": {},
   "source": [
    "write and load here, if switching from CPU to GPU node now:"
   ]
  },
  {
   "cell_type": "code",
   "execution_count": null,
   "metadata": {},
   "outputs": [],
   "source": [
    "# adata.write(path_HLCA_unintegrated_prepped)"
   ]
  },
  {
   "cell_type": "code",
   "execution_count": null,
   "metadata": {},
   "outputs": [],
   "source": [
    "# adata = sc.read(path_HLCA_unintegrated_prepped)"
   ]
  },
  {
   "cell_type": "markdown",
   "metadata": {},
   "source": [
    "### Set relevant anndata.obs labels and training parameters\n",
    "\n",
    "We use parameters as provided in scANVI tutorial."
   ]
  },
  {
   "cell_type": "markdown",
   "metadata": {},
   "source": [
    "print datasets, these will be the \"conditions\" used for batch correction:"
   ]
  },
  {
   "cell_type": "code",
   "execution_count": null,
   "metadata": {},
   "outputs": [],
   "source": [
    "adata.obs.dataset.unique().tolist()"
   ]
  },
  {
   "cell_type": "code",
   "execution_count": null,
   "metadata": {},
   "outputs": [],
   "source": [
    "condition_key = 'dataset'\n",
    "cell_type_key = 'scanvi_label'\n",
    "unlabeled_category = \"unlabeled\"\n",
    "\n",
    "vae_epochs = 500\n",
    "scanvi_epochs = 200\n",
    "\n",
    "early_stopping_kwargs = {\n",
    "    \"early_stopping_metric\": \"elbo\",\n",
    "    \"save_best_state_metric\": \"elbo\",\n",
    "    \"patience\": 10,\n",
    "    \"threshold\": 0,\n",
    "    \"reduce_lr_on_plateau\": True,\n",
    "    \"lr_patience\": 8,\n",
    "    \"lr_factor\": 0.1,\n",
    "}\n",
    "early_stopping_kwargs_scanvi = {\n",
    "    \"early_stopping_metric\": \"accuracy\",\n",
    "    \"save_best_state_metric\": \"accuracy\",\n",
    "    \"on\": \"full_dataset\",\n",
    "    \"patience\": 10,\n",
    "    \"threshold\": 0.001,\n",
    "    \"reduce_lr_on_plateau\": True,\n",
    "    \"lr_patience\": 8,\n",
    "    \"lr_factor\": 0.1,\n",
    "}"
   ]
  },
  {
   "cell_type": "markdown",
   "metadata": {},
   "source": [
    "## Run scANVI:"
   ]
  },
  {
   "cell_type": "code",
   "execution_count": null,
   "metadata": {},
   "outputs": [],
   "source": [
    "sca.dataset.setup_anndata(adata, batch_key=condition_key, labels_key=cell_type_key)"
   ]
  },
  {
   "cell_type": "markdown",
   "metadata": {},
   "source": [
    "Default parameters, except n_latent=30 (higher than default) since we're processing large data with diverse cell types (was also used in benchmarking), and gene_likelihood='nb' instead of zinb since all data are UMI based (hence negative binomially distributed)."
   ]
  },
  {
   "cell_type": "code",
   "execution_count": null,
   "metadata": {},
   "outputs": [],
   "source": [
    "vae = sca.models.SCANVI(\n",
    "    adata,\n",
    "    unlabeled_category,\n",
    "    n_layers=2,\n",
    "    n_latent = 30, # to allow for capturing more heterogeneity\n",
    "    encode_covariates=True,\n",
    "    deeply_inject_covariates=False,\n",
    "    use_layer_norm=\"both\",\n",
    "    use_batch_norm=\"none\",\n",
    "    gene_likelihood=\"nb\", # because we have UMI data\n",
    "    use_cuda=True #to use GPU\n",
    ")"
   ]
  },
  {
   "cell_type": "code",
   "execution_count": null,
   "metadata": {},
   "outputs": [],
   "source": [
    "print(\"Labelled Indices: \", len(vae._labeled_indices))\n",
    "print(\"Unlabelled Indices: \", len(vae._unlabeled_indices))"
   ]
  },
  {
   "cell_type": "code",
   "execution_count": null,
   "metadata": {},
   "outputs": [],
   "source": [
    "vae.train(\n",
    "    n_epochs_unsupervised=vae_epochs,\n",
    "    n_epochs_semisupervised=scanvi_epochs,\n",
    "    unsupervised_trainer_kwargs=dict(early_stopping_kwargs=early_stopping_kwargs),\n",
    "    semisupervised_trainer_kwargs=dict(metrics_to_monitor=[\"elbo\", \"accuracy\"],\n",
    "                                       early_stopping_kwargs=early_stopping_kwargs_scanvi),\n",
    "    frequency=1\n",
    ")"
   ]
  },
  {
   "cell_type": "markdown",
   "metadata": {},
   "source": [
    "store model:"
   ]
  },
  {
   "cell_type": "code",
   "execution_count": 7,
   "metadata": {},
   "outputs": [],
   "source": [
    "model_dir = os.path.join(dir_out, \"scanvi_model\") # this is the directory name/path of the directory *to be created*"
   ]
  },
  {
   "cell_type": "code",
   "execution_count": null,
   "metadata": {},
   "outputs": [],
   "source": [
    "vae.save(model_dir, overwrite=False)"
   ]
  },
  {
   "cell_type": "markdown",
   "metadata": {},
   "source": [
    "generate anndata of integrated latent embedding:"
   ]
  },
  {
   "cell_type": "code",
   "execution_count": null,
   "metadata": {},
   "outputs": [],
   "source": [
    "reference_latent = sc.AnnData(vae.get_latent_representation())\n",
    "reference_latent.obs.index = adata.obs.index"
   ]
  },
  {
   "cell_type": "markdown",
   "metadata": {},
   "source": [
    "and store embedding:"
   ]
  },
  {
   "cell_type": "code",
   "execution_count": 10,
   "metadata": {},
   "outputs": [],
   "source": [
    "reference_latent.write(os.path.join(dir_out, \"scANVI_embedding.h5ad\")"
   ]
  },
  {
   "cell_type": "markdown",
   "metadata": {},
   "source": [
    "Add embedding to full HLCA and store:"
   ]
  },
  {
   "cell_type": "code",
   "execution_count": null,
   "metadata": {},
   "outputs": [],
   "source": [
    "#..."
   ]
  }
 ],
 "metadata": {
  "kernelspec": {
   "display_name": "Python 3",
   "language": "python",
   "name": "python3"
  },
  "language_info": {
   "codemirror_mode": {
    "name": "ipython",
    "version": 3
   },
   "file_extension": ".py",
   "mimetype": "text/x-python",
   "name": "python",
   "nbconvert_exporter": "python",
   "pygments_lexer": "ipython3",
   "version": "3.7.5"
  }
 },
 "nbformat": 4,
 "nbformat_minor": 4
}
