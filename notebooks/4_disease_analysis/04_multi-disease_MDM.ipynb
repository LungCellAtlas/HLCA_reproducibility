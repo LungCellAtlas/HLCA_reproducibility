{
 "cells": [
  {
   "cell_type": "markdown",
   "id": "8f6806fd-f2af-4937-a456-f44c7067827f",
   "metadata": {},
   "source": [
    "## Disease embedding and clustering of monocyte derived macrophages"
   ]
  },
  {
   "cell_type": "markdown",
   "id": "3b28d248-5e9a-444c-8d96-7188d7eb7dd8",
   "metadata": {},
   "source": [
    "This notebook subsets to monocyte derived macrophages from disease extension data to generate a UMAP and cluster."
   ]
  },
  {
   "cell_type": "markdown",
   "id": "859acdb4-7a03-4386-b794-f92f0bd75cf9",
   "metadata": {},
   "source": [
    "#### Structure"
   ]
  },
  {
   "cell_type": "markdown",
   "id": "ebd5b648-2105-4d9a-a785-5cd65df6170d",
   "metadata": {},
   "source": [
    "* [Global variables and paths](#bullet1)\n",
    "* [Loading data](#bullet2)\n",
    "* [Pre-processing](#bullet3)\n",
    "* [Main](#bullet4)\n",
    "* [Conclusions](#bullet5)\n",
    "* [Save](#bullet6)"
   ]
  },
  {
   "cell_type": "markdown",
   "id": "08bbd9ad-d6eb-4f99-997d-d5ad7b29f2a6",
   "metadata": {},
   "source": [
    "### Environment setup"
   ]
  },
  {
   "cell_type": "code",
   "execution_count": 1,
   "id": "f6dd1d8e-eb55-40fe-954f-98bdaef8d483",
   "metadata": {},
   "outputs": [],
   "source": [
    "%load_ext autoreload\n",
    "%autoreload 2\n",
    "import importlib"
   ]
  },
  {
   "cell_type": "code",
   "execution_count": 2,
   "id": "63152893",
   "metadata": {},
   "outputs": [],
   "source": [
    "spam_spec = importlib.util.find_spec(\"lab_black\")\n",
    "if spam_spec is not None:\n",
    "    %load_ext lab_black"
   ]
  },
  {
   "cell_type": "code",
   "execution_count": 3,
   "id": "305b0984-a7fe-4aa8-89e1-1cc1377f7ae7",
   "metadata": {},
   "outputs": [],
   "source": [
    "# basic modules\n",
    "import os, re, time\n",
    "import sys, warnings"
   ]
  },
  {
   "cell_type": "code",
   "execution_count": 4,
   "id": "30d61e2c",
   "metadata": {},
   "outputs": [],
   "source": [
    "warnings.simplefilter(action=\"ignore\", category=FutureWarning)\n",
    "warnings.simplefilter(action=\"ignore\", category=UserWarning)"
   ]
  },
  {
   "cell_type": "code",
   "execution_count": 5,
   "id": "a169afd2-8608-4b53-9ec4-629c67c2cd2f",
   "metadata": {
    "scrolled": true,
    "tags": []
   },
   "outputs": [],
   "source": [
    "# in-house/developing modules\n",
    "# tools modules\n",
    "import scanpy as sc\n",
    "import matplotlib.pyplot as plt\n",
    "import numpy as np\n",
    "import pandas as pd\n",
    "import seaborn as sns"
   ]
  },
  {
   "cell_type": "code",
   "execution_count": 5,
   "id": "a9209a7e",
   "metadata": {},
   "outputs": [
    {
     "name": "stdout",
     "output_type": "stream",
     "text": [
      "-----\n",
      "anndata     0.8.0\n",
      "scanpy      1.9.1\n",
      "-----\n",
      "7b32b9a39ad70713acde__mypyc NA\n",
      "PIL                         9.2.0\n",
      "autoreload                  NA\n",
      "backcall                    0.2.0\n",
      "beta_ufunc                  NA\n",
      "binom_ufunc                 NA\n",
      "black                       22.6.0\n",
      "blib2to3                    NA\n",
      "cffi                        1.15.1\n",
      "click                       8.1.3\n",
      "cycler                      0.10.0\n",
      "cython_runtime              NA\n",
      "dateutil                    2.8.2\n",
      "debugpy                     1.5.1\n",
      "decorator                   5.1.1\n",
      "defusedxml                  0.7.1\n",
      "entrypoints                 0.4\n",
      "h5py                        3.7.0\n",
      "igraph                      0.9.11\n",
      "ipykernel                   6.15.2\n",
      "ipython_genutils            0.2.0\n",
      "ipywidgets                  8.0.2\n",
      "jedi                        0.18.2\n",
      "joblib                      1.1.0\n",
      "jupyter_server              1.23.4\n",
      "kiwisolver                  1.4.4\n",
      "lab_black                   NA\n",
      "leidenalg                   0.8.10\n",
      "llvmlite                    0.39.0\n",
      "matplotlib                  3.5.2\n",
      "mpl_toolkits                NA\n",
      "mypy_extensions             NA\n",
      "natsort                     8.1.0\n",
      "nbinom_ufunc                NA\n",
      "numba                       0.56.0\n",
      "numpy                       1.21.6\n",
      "packaging                   23.0\n",
      "pandas                      1.3.5\n",
      "parso                       0.8.3\n",
      "pathspec                    0.9.0\n",
      "pexpect                     4.8.0\n",
      "pickleshare                 0.7.5\n",
      "pkg_resources               NA\n",
      "platformdirs                2.5.2\n",
      "prompt_toolkit              3.0.36\n",
      "psutil                      5.9.0\n",
      "ptyprocess                  0.7.0\n",
      "pydev_ipython               NA\n",
      "pydevconsole                NA\n",
      "pydevd                      2.6.0\n",
      "pydevd_concurrency_analyser NA\n",
      "pydevd_file_utils           NA\n",
      "pydevd_plugins              NA\n",
      "pydevd_tracing              NA\n",
      "pygments                    2.14.0\n",
      "pyparsing                   3.0.9\n",
      "pytz                        2022.7.1\n",
      "scipy                       1.7.3\n",
      "seaborn                     0.11.2\n",
      "session_info                1.0.0\n",
      "setuptools                  65.5.0\n",
      "six                         1.16.0\n",
      "sklearn                     1.0.2\n",
      "statsmodels                 0.13.2\n",
      "storemagic                  NA\n",
      "texttable                   1.6.4\n",
      "threadpoolctl               3.1.0\n",
      "tomli                       2.0.1\n",
      "tornado                     6.1\n",
      "traitlets                   5.8.1\n",
      "typed_ast                   1.5.4\n",
      "typing_extensions           NA\n",
      "wcwidth                     0.2.6\n",
      "zipp                        NA\n",
      "zmq                         19.0.2\n",
      "-----\n",
      "IPython             7.33.0\n",
      "jupyter_client      7.0.6\n",
      "jupyter_core        4.11.1\n",
      "jupyterlab          3.5.3\n",
      "notebook            6.5.2\n",
      "-----\n",
      "Python 3.7.13 (default, Mar 29 2022, 02:18:16) [GCC 7.5.0]\n",
      "Linux-4.18.0-425.3.1.el8.x86_64-x86_64-with-centos-8.7-Green_Obsidian\n",
      "-----\n",
      "Session information updated at 2023-05-23 16:38\n"
     ]
    }
   ],
   "source": [
    "sc.logging.print_versions()"
   ]
  },
  {
   "cell_type": "code",
   "execution_count": 6,
   "id": "21dcde96-092d-4540-b841-1e61f0af9778",
   "metadata": {},
   "outputs": [
    {
     "name": "stdout",
     "output_type": "stream",
     "text": [
      "Environment: /home/icb/ciro.suastegui/miniconda3/envs/HLCA_basic/lib/python3.7\n",
      "Working at: /icb/ciro.suastegui\n"
     ]
    }
   ],
   "source": [
    "print(\"Environment:\", re.sub(\".os.py\", \"\", os.__file__))\n",
    "parentpath = lambda _path, n: os.sep.join(_path.split(os.sep)[:-n])\n",
    "print(\"Working at:\", re.sub(parentpath(os.getcwd(), 2), \"\", os.getcwd()))"
   ]
  },
  {
   "cell_type": "markdown",
   "id": "74fc836f-d4cc-4f10-b972-78bf6ce9d311",
   "metadata": {},
   "source": [
    "### Global variables and paths"
   ]
  },
  {
   "cell_type": "code",
   "execution_count": 7,
   "id": "3ec20c3e-39f8-4025-a8a2-72972ffba9d0",
   "metadata": {},
   "outputs": [],
   "source": [
    "adata_comb_inp = \"../../data/HLCA_extended/HLCA_extended/HLCA_extended_scarches_emb.h5ad\"\n",
    "annot_inp = \"../../results/HLCA_ext_label_transfer/transfered_labels_query_only.csv\"\n",
    "edata_inp = \"../../../data/HLCA_extended/HLCA_extended/HLCA_extended_full.h5ad\"\n",
    "adata_comb_out = \"../../data/HLCA_extended/extension_disease/scarches_emb_MdM_full-matrix.h5ad\""
   ]
  },
  {
   "cell_type": "markdown",
   "id": "599fd56c-ef0b-4024-9494-7c14b527990f",
   "metadata": {
    "tags": []
   },
   "source": [
    "### Loading data <a class=\"anchor\" id=\"bullet2\"></a>"
   ]
  },
  {
   "cell_type": "code",
   "execution_count": 9,
   "id": "6a769151-28c9-424d-8675-2d81c671fd73",
   "metadata": {},
   "outputs": [
    {
     "ename": "FileNotFoundError",
     "evalue": "[Errno 2] Unable to open file (unable to open file: name = '../../data/HLCA_extended/HLCA_extended/HLCA_extended_scarches_emb.h5ad', errno = 2, error message = 'No such file or directory', flags = 0, o_flags = 0)",
     "output_type": "error",
     "traceback": [
      "\u001b[0;31m---------------------------------------------------------------------------\u001b[0m",
      "\u001b[0;31mFileNotFoundError\u001b[0m                         Traceback (most recent call last)",
      "\u001b[0;32m/tmp/ipykernel_2131686/3007269542.py\u001b[0m in \u001b[0;36m<module>\u001b[0;34m\u001b[0m\n\u001b[0;32m----> 1\u001b[0;31m \u001b[0membed\u001b[0m \u001b[0;34m=\u001b[0m \u001b[0msc\u001b[0m\u001b[0;34m.\u001b[0m\u001b[0mread\u001b[0m\u001b[0;34m(\u001b[0m\u001b[0membed_inp\u001b[0m\u001b[0;34m)\u001b[0m\u001b[0;34m\u001b[0m\u001b[0;34m\u001b[0m\u001b[0m\n\u001b[0m",
      "\u001b[0;32m~/miniconda3/envs/HLCA_basic/lib/python3.7/site-packages/scanpy/readwrite.py\u001b[0m in \u001b[0;36mread\u001b[0;34m(filename, backed, sheet, ext, delimiter, first_column_names, backup_url, cache, cache_compression, **kwargs)\u001b[0m\n\u001b[1;32m    120\u001b[0m             \u001b[0mcache\u001b[0m\u001b[0;34m=\u001b[0m\u001b[0mcache\u001b[0m\u001b[0;34m,\u001b[0m\u001b[0;34m\u001b[0m\u001b[0;34m\u001b[0m\u001b[0m\n\u001b[1;32m    121\u001b[0m             \u001b[0mcache_compression\u001b[0m\u001b[0;34m=\u001b[0m\u001b[0mcache_compression\u001b[0m\u001b[0;34m,\u001b[0m\u001b[0;34m\u001b[0m\u001b[0;34m\u001b[0m\u001b[0m\n\u001b[0;32m--> 122\u001b[0;31m             \u001b[0;34m**\u001b[0m\u001b[0mkwargs\u001b[0m\u001b[0;34m,\u001b[0m\u001b[0;34m\u001b[0m\u001b[0;34m\u001b[0m\u001b[0m\n\u001b[0m\u001b[1;32m    123\u001b[0m         )\n\u001b[1;32m    124\u001b[0m     \u001b[0;31m# generate filename and read to dict\u001b[0m\u001b[0;34m\u001b[0m\u001b[0;34m\u001b[0m\u001b[0;34m\u001b[0m\u001b[0m\n",
      "\u001b[0;32m~/miniconda3/envs/HLCA_basic/lib/python3.7/site-packages/scanpy/readwrite.py\u001b[0m in \u001b[0;36m_read\u001b[0;34m(filename, backed, sheet, ext, delimiter, first_column_names, backup_url, cache, cache_compression, suppress_cache_warning, **kwargs)\u001b[0m\n\u001b[1;32m    720\u001b[0m     \u001b[0;32mif\u001b[0m \u001b[0mext\u001b[0m \u001b[0;32min\u001b[0m \u001b[0;34m{\u001b[0m\u001b[0;34m'h5'\u001b[0m\u001b[0;34m,\u001b[0m \u001b[0;34m'h5ad'\u001b[0m\u001b[0;34m}\u001b[0m\u001b[0;34m:\u001b[0m\u001b[0;34m\u001b[0m\u001b[0;34m\u001b[0m\u001b[0m\n\u001b[1;32m    721\u001b[0m         \u001b[0;32mif\u001b[0m \u001b[0msheet\u001b[0m \u001b[0;32mis\u001b[0m \u001b[0;32mNone\u001b[0m\u001b[0;34m:\u001b[0m\u001b[0;34m\u001b[0m\u001b[0;34m\u001b[0m\u001b[0m\n\u001b[0;32m--> 722\u001b[0;31m             \u001b[0;32mreturn\u001b[0m \u001b[0mread_h5ad\u001b[0m\u001b[0;34m(\u001b[0m\u001b[0mfilename\u001b[0m\u001b[0;34m,\u001b[0m \u001b[0mbacked\u001b[0m\u001b[0;34m=\u001b[0m\u001b[0mbacked\u001b[0m\u001b[0;34m)\u001b[0m\u001b[0;34m\u001b[0m\u001b[0;34m\u001b[0m\u001b[0m\n\u001b[0m\u001b[1;32m    723\u001b[0m         \u001b[0;32melse\u001b[0m\u001b[0;34m:\u001b[0m\u001b[0;34m\u001b[0m\u001b[0;34m\u001b[0m\u001b[0m\n\u001b[1;32m    724\u001b[0m             \u001b[0mlogg\u001b[0m\u001b[0;34m.\u001b[0m\u001b[0mdebug\u001b[0m\u001b[0;34m(\u001b[0m\u001b[0;34mf'reading sheet {sheet} from file {filename}'\u001b[0m\u001b[0;34m)\u001b[0m\u001b[0;34m\u001b[0m\u001b[0;34m\u001b[0m\u001b[0m\n",
      "\u001b[0;32m~/miniconda3/envs/HLCA_basic/lib/python3.7/site-packages/anndata/_io/h5ad.py\u001b[0m in \u001b[0;36mread_h5ad\u001b[0;34m(filename, backed, as_sparse, as_sparse_fmt, chunk_size)\u001b[0m\n\u001b[1;32m    222\u001b[0m     )\n\u001b[1;32m    223\u001b[0m \u001b[0;34m\u001b[0m\u001b[0m\n\u001b[0;32m--> 224\u001b[0;31m     \u001b[0;32mwith\u001b[0m \u001b[0mh5py\u001b[0m\u001b[0;34m.\u001b[0m\u001b[0mFile\u001b[0m\u001b[0;34m(\u001b[0m\u001b[0mfilename\u001b[0m\u001b[0;34m,\u001b[0m \u001b[0;34m\"r\"\u001b[0m\u001b[0;34m)\u001b[0m \u001b[0;32mas\u001b[0m \u001b[0mf\u001b[0m\u001b[0;34m:\u001b[0m\u001b[0;34m\u001b[0m\u001b[0;34m\u001b[0m\u001b[0m\n\u001b[0m\u001b[1;32m    225\u001b[0m         \u001b[0md\u001b[0m \u001b[0;34m=\u001b[0m \u001b[0;34m{\u001b[0m\u001b[0;34m}\u001b[0m\u001b[0;34m\u001b[0m\u001b[0;34m\u001b[0m\u001b[0m\n\u001b[1;32m    226\u001b[0m         \u001b[0;32mfor\u001b[0m \u001b[0mk\u001b[0m \u001b[0;32min\u001b[0m \u001b[0mf\u001b[0m\u001b[0;34m.\u001b[0m\u001b[0mkeys\u001b[0m\u001b[0;34m(\u001b[0m\u001b[0;34m)\u001b[0m\u001b[0;34m:\u001b[0m\u001b[0;34m\u001b[0m\u001b[0;34m\u001b[0m\u001b[0m\n",
      "\u001b[0;32m~/miniconda3/envs/HLCA_basic/lib/python3.7/site-packages/h5py/_hl/files.py\u001b[0m in \u001b[0;36m__init__\u001b[0;34m(self, name, mode, driver, libver, userblock_size, swmr, rdcc_nslots, rdcc_nbytes, rdcc_w0, track_order, fs_strategy, fs_persist, fs_threshold, fs_page_size, page_buf_size, min_meta_keep, min_raw_keep, locking, alignment_threshold, alignment_interval, **kwds)\u001b[0m\n\u001b[1;32m    531\u001b[0m                                  \u001b[0mfs_persist\u001b[0m\u001b[0;34m=\u001b[0m\u001b[0mfs_persist\u001b[0m\u001b[0;34m,\u001b[0m \u001b[0mfs_threshold\u001b[0m\u001b[0;34m=\u001b[0m\u001b[0mfs_threshold\u001b[0m\u001b[0;34m,\u001b[0m\u001b[0;34m\u001b[0m\u001b[0;34m\u001b[0m\u001b[0m\n\u001b[1;32m    532\u001b[0m                                  fs_page_size=fs_page_size)\n\u001b[0;32m--> 533\u001b[0;31m                 \u001b[0mfid\u001b[0m \u001b[0;34m=\u001b[0m \u001b[0mmake_fid\u001b[0m\u001b[0;34m(\u001b[0m\u001b[0mname\u001b[0m\u001b[0;34m,\u001b[0m \u001b[0mmode\u001b[0m\u001b[0;34m,\u001b[0m \u001b[0muserblock_size\u001b[0m\u001b[0;34m,\u001b[0m \u001b[0mfapl\u001b[0m\u001b[0;34m,\u001b[0m \u001b[0mfcpl\u001b[0m\u001b[0;34m,\u001b[0m \u001b[0mswmr\u001b[0m\u001b[0;34m=\u001b[0m\u001b[0mswmr\u001b[0m\u001b[0;34m)\u001b[0m\u001b[0;34m\u001b[0m\u001b[0;34m\u001b[0m\u001b[0m\n\u001b[0m\u001b[1;32m    534\u001b[0m \u001b[0;34m\u001b[0m\u001b[0m\n\u001b[1;32m    535\u001b[0m             \u001b[0;32mif\u001b[0m \u001b[0misinstance\u001b[0m\u001b[0;34m(\u001b[0m\u001b[0mlibver\u001b[0m\u001b[0;34m,\u001b[0m \u001b[0mtuple\u001b[0m\u001b[0;34m)\u001b[0m\u001b[0;34m:\u001b[0m\u001b[0;34m\u001b[0m\u001b[0;34m\u001b[0m\u001b[0m\n",
      "\u001b[0;32m~/miniconda3/envs/HLCA_basic/lib/python3.7/site-packages/h5py/_hl/files.py\u001b[0m in \u001b[0;36mmake_fid\u001b[0;34m(name, mode, userblock_size, fapl, fcpl, swmr)\u001b[0m\n\u001b[1;32m    224\u001b[0m         \u001b[0;32mif\u001b[0m \u001b[0mswmr\u001b[0m \u001b[0;32mand\u001b[0m \u001b[0mswmr_support\u001b[0m\u001b[0;34m:\u001b[0m\u001b[0;34m\u001b[0m\u001b[0;34m\u001b[0m\u001b[0m\n\u001b[1;32m    225\u001b[0m             \u001b[0mflags\u001b[0m \u001b[0;34m|=\u001b[0m \u001b[0mh5f\u001b[0m\u001b[0;34m.\u001b[0m\u001b[0mACC_SWMR_READ\u001b[0m\u001b[0;34m\u001b[0m\u001b[0;34m\u001b[0m\u001b[0m\n\u001b[0;32m--> 226\u001b[0;31m         \u001b[0mfid\u001b[0m \u001b[0;34m=\u001b[0m \u001b[0mh5f\u001b[0m\u001b[0;34m.\u001b[0m\u001b[0mopen\u001b[0m\u001b[0;34m(\u001b[0m\u001b[0mname\u001b[0m\u001b[0;34m,\u001b[0m \u001b[0mflags\u001b[0m\u001b[0;34m,\u001b[0m \u001b[0mfapl\u001b[0m\u001b[0;34m=\u001b[0m\u001b[0mfapl\u001b[0m\u001b[0;34m)\u001b[0m\u001b[0;34m\u001b[0m\u001b[0;34m\u001b[0m\u001b[0m\n\u001b[0m\u001b[1;32m    227\u001b[0m     \u001b[0;32melif\u001b[0m \u001b[0mmode\u001b[0m \u001b[0;34m==\u001b[0m \u001b[0;34m'r+'\u001b[0m\u001b[0;34m:\u001b[0m\u001b[0;34m\u001b[0m\u001b[0;34m\u001b[0m\u001b[0m\n\u001b[1;32m    228\u001b[0m         \u001b[0mfid\u001b[0m \u001b[0;34m=\u001b[0m \u001b[0mh5f\u001b[0m\u001b[0;34m.\u001b[0m\u001b[0mopen\u001b[0m\u001b[0;34m(\u001b[0m\u001b[0mname\u001b[0m\u001b[0;34m,\u001b[0m \u001b[0mh5f\u001b[0m\u001b[0;34m.\u001b[0m\u001b[0mACC_RDWR\u001b[0m\u001b[0;34m,\u001b[0m \u001b[0mfapl\u001b[0m\u001b[0;34m=\u001b[0m\u001b[0mfapl\u001b[0m\u001b[0;34m)\u001b[0m\u001b[0;34m\u001b[0m\u001b[0;34m\u001b[0m\u001b[0m\n",
      "\u001b[0;32mh5py/_objects.pyx\u001b[0m in \u001b[0;36mh5py._objects.with_phil.wrapper\u001b[0;34m()\u001b[0m\n",
      "\u001b[0;32mh5py/_objects.pyx\u001b[0m in \u001b[0;36mh5py._objects.with_phil.wrapper\u001b[0;34m()\u001b[0m\n",
      "\u001b[0;32mh5py/h5f.pyx\u001b[0m in \u001b[0;36mh5py.h5f.open\u001b[0;34m()\u001b[0m\n",
      "\u001b[0;31mFileNotFoundError\u001b[0m: [Errno 2] Unable to open file (unable to open file: name = '../../data/HLCA_extended/HLCA_extended/HLCA_extended_scarches_emb.h5ad', errno = 2, error message = 'No such file or directory', flags = 0, o_flags = 0)"
     ]
    }
   ],
   "source": [
    "adata_comb = sc.read(adata_comb_inp)"
   ]
  },
  {
   "cell_type": "code",
   "execution_count": null,
   "id": "1a3bdd96-23ac-4b7e-ad59-668ffd1d31bb",
   "metadata": {},
   "outputs": [
    {
     "data": {
      "text/plain": [
       "AnnData object with n_obs × n_vars = 2382658 × 30\n",
       "    obs: 'sample', 'original_celltype_ann', 'study_long', 'study', 'last_author_PI', 'subject_ID', 'subject_ID_as_published', 'pre_or_postnatal', 'age_in_years', 'age_range', 'sex', 'smoking_status', 'smoking_history', 'BMI', 'known_lung_disease', 'condition', 'subject_type', 'cause_of_death', 'sample_type', 'anatomical_region_coarse', 'anatomical_region_detailed', 'tissue_dissociation_protocol', 'cells_or_nuclei', 'single_cell_platform', \"3'_or_5'\", 'enrichment', 'sequencing_platform', 'reference_genome_coarse', 'ensembl_release_reference_genome', 'cell_ranger_version', 'disease_status', 'fresh_or_frozen', 'cultured', 'cell_viability_%', 'comments', 'Processing_site', 'dataset', 'anatomical_region_level_1', 'anatomical_region_level_2', 'anatomical_region_level_3', 'anatomical_region_highest_res', 'age', 'ann_level_1', 'ann_level_2', 'ann_level_3', 'ann_level_4', 'ann_level_5', 'ann_highest_res', 'ann_new', 'n_genes', 'total_counts', 'log10_total_counts', 'n_genes_detected', 'mito_frac', 'ribo_frac', 'compl', 'size_factors', 'ann_level_1_clean', 'ann_level_2_clean', 'ann_level_3_clean', 'ann_level_4_clean', 'ann_level_5_clean', 'scanvi_label', 'leiden_1', 'leiden_2', 'leiden_3', 'anatomical_region_ccf_score', 'manual_ann', 'leiden_4', 'reannotation_type', 'leiden_5', 'original_ann_level_1', 'original_ann_level_2', 'original_ann_level_3', 'original_ann_level_4', 'original_ann_level_5', 'original_ann_highest_res', 'original_ann_new', 'original_ann_level_1_clean', 'original_ann_level_2_clean', 'original_ann_level_3_clean', 'original_ann_level_4_clean', 'original_ann_level_5_clean', 'cluster_annotated', 'manual_ann_grouped', 'entropy_subject_ID_leiden_3', 'entropy_dataset_leiden_3', 'entropy_original_ann_level_1_leiden_3', 'entropy_original_ann_level_2_clean_leiden_3', 'entropy_original_ann_level_3_clean_leiden_3', 'core_or_extension', 'ancestry', 'mixed_ancestry', 'transf_ann_level_1_label', 'transf_ann_level_1_uncert', 'transf_ann_level_2_label', 'transf_ann_level_2_uncert', 'transf_ann_level_3_label', 'transf_ann_level_3_uncert', 'transf_ann_level_4_label', 'transf_ann_level_4_uncert', 'transf_ann_level_5_label', 'transf_ann_level_5_uncert'\n",
       "    uns: 'ann_level_3_colors', 'manual_ann_colors', 'neighbors', 'transf_ann_level_3_label_colors', 'umap'\n",
       "    obsm: 'X_umap'\n",
       "    obsp: 'connectivities', 'distances'"
      ]
     },
     "execution_count": 23,
     "metadata": {},
     "output_type": "execute_result"
    }
   ],
   "source": [
    "embed"
   ]
  },
  {
   "cell_type": "code",
   "execution_count": null,
   "id": "29ba8de1",
   "metadata": {},
   "outputs": [],
   "source": [
    "edata = sc.read(edata_inp, backed=\"r\")"
   ]
  },
  {
   "cell_type": "code",
   "execution_count": null,
   "id": "2f102db3",
   "metadata": {},
   "outputs": [],
   "source": [
    "edata"
   ]
  },
  {
   "cell_type": "code",
   "execution_count": 24,
   "id": "6e6c7e26-aa9b-4cd9-90e0-d71ce954cfd4",
   "metadata": {
    "tags": []
   },
   "outputs": [],
   "source": [
    "annot_pred = pd.read_csv(annot_inp, index_col=0)"
   ]
  },
  {
   "cell_type": "code",
   "execution_count": 25,
   "id": "a8a017d2-d082-4ada-b590-67ea5fd31b3d",
   "metadata": {},
   "outputs": [
    {
     "data": {
      "text/html": [
       "<div>\n",
       "<style scoped>\n",
       "    .dataframe tbody tr th:only-of-type {\n",
       "        vertical-align: middle;\n",
       "    }\n",
       "\n",
       "    .dataframe tbody tr th {\n",
       "        vertical-align: top;\n",
       "    }\n",
       "\n",
       "    .dataframe thead th {\n",
       "        text-align: right;\n",
       "    }\n",
       "</style>\n",
       "<table border=\"1\" class=\"dataframe\">\n",
       "  <thead>\n",
       "    <tr style=\"text-align: right;\">\n",
       "      <th></th>\n",
       "      <th>most_confident_level</th>\n",
       "      <th>most_confident_uncert</th>\n",
       "      <th>most_confident_label</th>\n",
       "      <th>transf_ann_level_5_uncert</th>\n",
       "      <th>transf_ann_level_5_label</th>\n",
       "      <th>transf_ann_level_4_uncert</th>\n",
       "      <th>transf_ann_level_4_label</th>\n",
       "      <th>transf_ann_level_3_uncert</th>\n",
       "      <th>transf_ann_level_3_label</th>\n",
       "      <th>transf_ann_level_2_uncert</th>\n",
       "      <th>transf_ann_level_2_label</th>\n",
       "      <th>transf_ann_level_1_uncert</th>\n",
       "      <th>transf_ann_level_1_label</th>\n",
       "    </tr>\n",
       "  </thead>\n",
       "  <tbody>\n",
       "    <tr>\n",
       "      <th>001C_AAACCTGCATCGGGTC_adams</th>\n",
       "      <td>Level_3</td>\n",
       "      <td>0.000000e+00</td>\n",
       "      <td>Monocytes</td>\n",
       "      <td>1.400267e-01</td>\n",
       "      <td>4_Non-classical monocytes</td>\n",
       "      <td>1.400267e-01</td>\n",
       "      <td>Non-classical monocytes</td>\n",
       "      <td>0.000000e+00</td>\n",
       "      <td>Monocytes</td>\n",
       "      <td>0.000000e+00</td>\n",
       "      <td>Myeloid</td>\n",
       "      <td>0.000000e+00</td>\n",
       "      <td>Immune</td>\n",
       "    </tr>\n",
       "    <tr>\n",
       "      <th>001C_AAACCTGTCAACACCA_adams</th>\n",
       "      <td>Level_4</td>\n",
       "      <td>0.000000e+00</td>\n",
       "      <td>Alveolar macrophages</td>\n",
       "      <td>2.600470e-01</td>\n",
       "      <td>4_Alveolar macrophages</td>\n",
       "      <td>0.000000e+00</td>\n",
       "      <td>Alveolar macrophages</td>\n",
       "      <td>0.000000e+00</td>\n",
       "      <td>Macrophages</td>\n",
       "      <td>0.000000e+00</td>\n",
       "      <td>Myeloid</td>\n",
       "      <td>0.000000e+00</td>\n",
       "      <td>Immune</td>\n",
       "    </tr>\n",
       "    <tr>\n",
       "      <th>001C_AAACCTGTCACAGTAC_adams</th>\n",
       "      <td>Level_2</td>\n",
       "      <td>5.960464e-08</td>\n",
       "      <td>Lymphoid</td>\n",
       "      <td>2.200202e-01</td>\n",
       "      <td>4_NK cells</td>\n",
       "      <td>2.200202e-01</td>\n",
       "      <td>NK cells</td>\n",
       "      <td>2.200202e-01</td>\n",
       "      <td>Innate lymphoid cell NK</td>\n",
       "      <td>5.960464e-08</td>\n",
       "      <td>Lymphoid</td>\n",
       "      <td>5.960464e-08</td>\n",
       "      <td>Immune</td>\n",
       "    </tr>\n",
       "    <tr>\n",
       "      <th>001C_AAACCTGTCTGTCTAT_adams</th>\n",
       "      <td>Level_2</td>\n",
       "      <td>0.000000e+00</td>\n",
       "      <td>Myeloid</td>\n",
       "      <td>2.799665e-01</td>\n",
       "      <td>Monocyte-derived Mph</td>\n",
       "      <td>2.599604e-01</td>\n",
       "      <td>Interstitial macrophages</td>\n",
       "      <td>2.399455e-01</td>\n",
       "      <td>Macrophages</td>\n",
       "      <td>0.000000e+00</td>\n",
       "      <td>Myeloid</td>\n",
       "      <td>0.000000e+00</td>\n",
       "      <td>Immune</td>\n",
       "    </tr>\n",
       "    <tr>\n",
       "      <th>001C_AAACGGGAGACTAAGT_adams</th>\n",
       "      <td>Level_5</td>\n",
       "      <td>5.960464e-08</td>\n",
       "      <td>3_Lymphatic EC mature</td>\n",
       "      <td>5.960464e-08</td>\n",
       "      <td>3_Lymphatic EC mature</td>\n",
       "      <td>5.960464e-08</td>\n",
       "      <td>3_Lymphatic EC mature</td>\n",
       "      <td>5.960464e-08</td>\n",
       "      <td>Lymphatic EC mature</td>\n",
       "      <td>5.960464e-08</td>\n",
       "      <td>Lymphatic EC</td>\n",
       "      <td>5.960464e-08</td>\n",
       "      <td>Endothelial</td>\n",
       "    </tr>\n",
       "    <tr>\n",
       "      <th>...</th>\n",
       "      <td>...</td>\n",
       "      <td>...</td>\n",
       "      <td>...</td>\n",
       "      <td>...</td>\n",
       "      <td>...</td>\n",
       "      <td>...</td>\n",
       "      <td>...</td>\n",
       "      <td>...</td>\n",
       "      <td>...</td>\n",
       "      <td>...</td>\n",
       "      <td>...</td>\n",
       "      <td>...</td>\n",
       "      <td>...</td>\n",
       "    </tr>\n",
       "    <tr>\n",
       "      <th>TTTGATCTCGGAATTC-1_DD073R_tata_unpubl</th>\n",
       "      <td>Level_3</td>\n",
       "      <td>0.000000e+00</td>\n",
       "      <td>Fibroblasts</td>\n",
       "      <td>5.998033e-02</td>\n",
       "      <td>4_Alveolar fibroblasts</td>\n",
       "      <td>5.998033e-02</td>\n",
       "      <td>Alveolar fibroblasts</td>\n",
       "      <td>0.000000e+00</td>\n",
       "      <td>Fibroblasts</td>\n",
       "      <td>0.000000e+00</td>\n",
       "      <td>Fibroblast lineage</td>\n",
       "      <td>0.000000e+00</td>\n",
       "      <td>Stroma</td>\n",
       "    </tr>\n",
       "    <tr>\n",
       "      <th>TTTGGAGAGGATTTAG-1_DD073R_tata_unpubl</th>\n",
       "      <td>Level_2</td>\n",
       "      <td>0.000000e+00</td>\n",
       "      <td>Smooth muscle</td>\n",
       "      <td>6.000769e-02</td>\n",
       "      <td>3_Smooth muscle FAM83D+</td>\n",
       "      <td>6.000769e-02</td>\n",
       "      <td>3_Smooth muscle FAM83D+</td>\n",
       "      <td>6.000769e-02</td>\n",
       "      <td>Smooth muscle FAM83D+</td>\n",
       "      <td>0.000000e+00</td>\n",
       "      <td>Smooth muscle</td>\n",
       "      <td>0.000000e+00</td>\n",
       "      <td>Stroma</td>\n",
       "    </tr>\n",
       "    <tr>\n",
       "      <th>TTTGGTTCACGACGCT-1_DD073R_tata_unpubl</th>\n",
       "      <td>Level_2</td>\n",
       "      <td>0.000000e+00</td>\n",
       "      <td>Fibroblast lineage</td>\n",
       "      <td>1.199936e-01</td>\n",
       "      <td>4_Peribronchial fibroblasts</td>\n",
       "      <td>1.199936e-01</td>\n",
       "      <td>Peribronchial fibroblasts</td>\n",
       "      <td>2.001530e-02</td>\n",
       "      <td>Fibroblasts</td>\n",
       "      <td>0.000000e+00</td>\n",
       "      <td>Fibroblast lineage</td>\n",
       "      <td>0.000000e+00</td>\n",
       "      <td>Stroma</td>\n",
       "    </tr>\n",
       "    <tr>\n",
       "      <th>TTTGGTTGTGATACAA-1_DD073R_tata_unpubl</th>\n",
       "      <td>Level_5</td>\n",
       "      <td>0.000000e+00</td>\n",
       "      <td>4_Alveolar fibroblasts</td>\n",
       "      <td>0.000000e+00</td>\n",
       "      <td>4_Alveolar fibroblasts</td>\n",
       "      <td>0.000000e+00</td>\n",
       "      <td>Alveolar fibroblasts</td>\n",
       "      <td>0.000000e+00</td>\n",
       "      <td>Fibroblasts</td>\n",
       "      <td>0.000000e+00</td>\n",
       "      <td>Fibroblast lineage</td>\n",
       "      <td>0.000000e+00</td>\n",
       "      <td>Stroma</td>\n",
       "    </tr>\n",
       "    <tr>\n",
       "      <th>TTTGGTTGTGGAATGC-1_DD073R_tata_unpubl</th>\n",
       "      <td>Level_1</td>\n",
       "      <td>0.000000e+00</td>\n",
       "      <td>Stroma</td>\n",
       "      <td>2.599888e-01</td>\n",
       "      <td>2_Smooth muscle</td>\n",
       "      <td>2.599888e-01</td>\n",
       "      <td>2_Smooth muscle</td>\n",
       "      <td>2.599888e-01</td>\n",
       "      <td>2_Smooth muscle</td>\n",
       "      <td>2.599888e-01</td>\n",
       "      <td>Smooth muscle</td>\n",
       "      <td>0.000000e+00</td>\n",
       "      <td>Stroma</td>\n",
       "    </tr>\n",
       "  </tbody>\n",
       "</table>\n",
       "<p>1797714 rows × 13 columns</p>\n",
       "</div>"
      ],
      "text/plain": [
       "                                      most_confident_level  \\\n",
       "001C_AAACCTGCATCGGGTC_adams                        Level_3   \n",
       "001C_AAACCTGTCAACACCA_adams                        Level_4   \n",
       "001C_AAACCTGTCACAGTAC_adams                        Level_2   \n",
       "001C_AAACCTGTCTGTCTAT_adams                        Level_2   \n",
       "001C_AAACGGGAGACTAAGT_adams                        Level_5   \n",
       "...                                                    ...   \n",
       "TTTGATCTCGGAATTC-1_DD073R_tata_unpubl              Level_3   \n",
       "TTTGGAGAGGATTTAG-1_DD073R_tata_unpubl              Level_2   \n",
       "TTTGGTTCACGACGCT-1_DD073R_tata_unpubl              Level_2   \n",
       "TTTGGTTGTGATACAA-1_DD073R_tata_unpubl              Level_5   \n",
       "TTTGGTTGTGGAATGC-1_DD073R_tata_unpubl              Level_1   \n",
       "\n",
       "                                       most_confident_uncert  \\\n",
       "001C_AAACCTGCATCGGGTC_adams                     0.000000e+00   \n",
       "001C_AAACCTGTCAACACCA_adams                     0.000000e+00   \n",
       "001C_AAACCTGTCACAGTAC_adams                     5.960464e-08   \n",
       "001C_AAACCTGTCTGTCTAT_adams                     0.000000e+00   \n",
       "001C_AAACGGGAGACTAAGT_adams                     5.960464e-08   \n",
       "...                                                      ...   \n",
       "TTTGATCTCGGAATTC-1_DD073R_tata_unpubl           0.000000e+00   \n",
       "TTTGGAGAGGATTTAG-1_DD073R_tata_unpubl           0.000000e+00   \n",
       "TTTGGTTCACGACGCT-1_DD073R_tata_unpubl           0.000000e+00   \n",
       "TTTGGTTGTGATACAA-1_DD073R_tata_unpubl           0.000000e+00   \n",
       "TTTGGTTGTGGAATGC-1_DD073R_tata_unpubl           0.000000e+00   \n",
       "\n",
       "                                         most_confident_label  \\\n",
       "001C_AAACCTGCATCGGGTC_adams                         Monocytes   \n",
       "001C_AAACCTGTCAACACCA_adams              Alveolar macrophages   \n",
       "001C_AAACCTGTCACAGTAC_adams                          Lymphoid   \n",
       "001C_AAACCTGTCTGTCTAT_adams                           Myeloid   \n",
       "001C_AAACGGGAGACTAAGT_adams             3_Lymphatic EC mature   \n",
       "...                                                       ...   \n",
       "TTTGATCTCGGAATTC-1_DD073R_tata_unpubl             Fibroblasts   \n",
       "TTTGGAGAGGATTTAG-1_DD073R_tata_unpubl           Smooth muscle   \n",
       "TTTGGTTCACGACGCT-1_DD073R_tata_unpubl      Fibroblast lineage   \n",
       "TTTGGTTGTGATACAA-1_DD073R_tata_unpubl  4_Alveolar fibroblasts   \n",
       "TTTGGTTGTGGAATGC-1_DD073R_tata_unpubl                  Stroma   \n",
       "\n",
       "                                       transf_ann_level_5_uncert  \\\n",
       "001C_AAACCTGCATCGGGTC_adams                         1.400267e-01   \n",
       "001C_AAACCTGTCAACACCA_adams                         2.600470e-01   \n",
       "001C_AAACCTGTCACAGTAC_adams                         2.200202e-01   \n",
       "001C_AAACCTGTCTGTCTAT_adams                         2.799665e-01   \n",
       "001C_AAACGGGAGACTAAGT_adams                         5.960464e-08   \n",
       "...                                                          ...   \n",
       "TTTGATCTCGGAATTC-1_DD073R_tata_unpubl               5.998033e-02   \n",
       "TTTGGAGAGGATTTAG-1_DD073R_tata_unpubl               6.000769e-02   \n",
       "TTTGGTTCACGACGCT-1_DD073R_tata_unpubl               1.199936e-01   \n",
       "TTTGGTTGTGATACAA-1_DD073R_tata_unpubl               0.000000e+00   \n",
       "TTTGGTTGTGGAATGC-1_DD073R_tata_unpubl               2.599888e-01   \n",
       "\n",
       "                                          transf_ann_level_5_label  \\\n",
       "001C_AAACCTGCATCGGGTC_adams              4_Non-classical monocytes   \n",
       "001C_AAACCTGTCAACACCA_adams                 4_Alveolar macrophages   \n",
       "001C_AAACCTGTCACAGTAC_adams                             4_NK cells   \n",
       "001C_AAACCTGTCTGTCTAT_adams                   Monocyte-derived Mph   \n",
       "001C_AAACGGGAGACTAAGT_adams                  3_Lymphatic EC mature   \n",
       "...                                                            ...   \n",
       "TTTGATCTCGGAATTC-1_DD073R_tata_unpubl       4_Alveolar fibroblasts   \n",
       "TTTGGAGAGGATTTAG-1_DD073R_tata_unpubl      3_Smooth muscle FAM83D+   \n",
       "TTTGGTTCACGACGCT-1_DD073R_tata_unpubl  4_Peribronchial fibroblasts   \n",
       "TTTGGTTGTGATACAA-1_DD073R_tata_unpubl       4_Alveolar fibroblasts   \n",
       "TTTGGTTGTGGAATGC-1_DD073R_tata_unpubl              2_Smooth muscle   \n",
       "\n",
       "                                       transf_ann_level_4_uncert  \\\n",
       "001C_AAACCTGCATCGGGTC_adams                         1.400267e-01   \n",
       "001C_AAACCTGTCAACACCA_adams                         0.000000e+00   \n",
       "001C_AAACCTGTCACAGTAC_adams                         2.200202e-01   \n",
       "001C_AAACCTGTCTGTCTAT_adams                         2.599604e-01   \n",
       "001C_AAACGGGAGACTAAGT_adams                         5.960464e-08   \n",
       "...                                                          ...   \n",
       "TTTGATCTCGGAATTC-1_DD073R_tata_unpubl               5.998033e-02   \n",
       "TTTGGAGAGGATTTAG-1_DD073R_tata_unpubl               6.000769e-02   \n",
       "TTTGGTTCACGACGCT-1_DD073R_tata_unpubl               1.199936e-01   \n",
       "TTTGGTTGTGATACAA-1_DD073R_tata_unpubl               0.000000e+00   \n",
       "TTTGGTTGTGGAATGC-1_DD073R_tata_unpubl               2.599888e-01   \n",
       "\n",
       "                                        transf_ann_level_4_label  \\\n",
       "001C_AAACCTGCATCGGGTC_adams              Non-classical monocytes   \n",
       "001C_AAACCTGTCAACACCA_adams                 Alveolar macrophages   \n",
       "001C_AAACCTGTCACAGTAC_adams                             NK cells   \n",
       "001C_AAACCTGTCTGTCTAT_adams             Interstitial macrophages   \n",
       "001C_AAACGGGAGACTAAGT_adams                3_Lymphatic EC mature   \n",
       "...                                                          ...   \n",
       "TTTGATCTCGGAATTC-1_DD073R_tata_unpubl       Alveolar fibroblasts   \n",
       "TTTGGAGAGGATTTAG-1_DD073R_tata_unpubl    3_Smooth muscle FAM83D+   \n",
       "TTTGGTTCACGACGCT-1_DD073R_tata_unpubl  Peribronchial fibroblasts   \n",
       "TTTGGTTGTGATACAA-1_DD073R_tata_unpubl       Alveolar fibroblasts   \n",
       "TTTGGTTGTGGAATGC-1_DD073R_tata_unpubl            2_Smooth muscle   \n",
       "\n",
       "                                       transf_ann_level_3_uncert  \\\n",
       "001C_AAACCTGCATCGGGTC_adams                         0.000000e+00   \n",
       "001C_AAACCTGTCAACACCA_adams                         0.000000e+00   \n",
       "001C_AAACCTGTCACAGTAC_adams                         2.200202e-01   \n",
       "001C_AAACCTGTCTGTCTAT_adams                         2.399455e-01   \n",
       "001C_AAACGGGAGACTAAGT_adams                         5.960464e-08   \n",
       "...                                                          ...   \n",
       "TTTGATCTCGGAATTC-1_DD073R_tata_unpubl               0.000000e+00   \n",
       "TTTGGAGAGGATTTAG-1_DD073R_tata_unpubl               6.000769e-02   \n",
       "TTTGGTTCACGACGCT-1_DD073R_tata_unpubl               2.001530e-02   \n",
       "TTTGGTTGTGATACAA-1_DD073R_tata_unpubl               0.000000e+00   \n",
       "TTTGGTTGTGGAATGC-1_DD073R_tata_unpubl               2.599888e-01   \n",
       "\n",
       "                                      transf_ann_level_3_label  \\\n",
       "001C_AAACCTGCATCGGGTC_adams                          Monocytes   \n",
       "001C_AAACCTGTCAACACCA_adams                        Macrophages   \n",
       "001C_AAACCTGTCACAGTAC_adams            Innate lymphoid cell NK   \n",
       "001C_AAACCTGTCTGTCTAT_adams                        Macrophages   \n",
       "001C_AAACGGGAGACTAAGT_adams                Lymphatic EC mature   \n",
       "...                                                        ...   \n",
       "TTTGATCTCGGAATTC-1_DD073R_tata_unpubl              Fibroblasts   \n",
       "TTTGGAGAGGATTTAG-1_DD073R_tata_unpubl    Smooth muscle FAM83D+   \n",
       "TTTGGTTCACGACGCT-1_DD073R_tata_unpubl              Fibroblasts   \n",
       "TTTGGTTGTGATACAA-1_DD073R_tata_unpubl              Fibroblasts   \n",
       "TTTGGTTGTGGAATGC-1_DD073R_tata_unpubl          2_Smooth muscle   \n",
       "\n",
       "                                       transf_ann_level_2_uncert  \\\n",
       "001C_AAACCTGCATCGGGTC_adams                         0.000000e+00   \n",
       "001C_AAACCTGTCAACACCA_adams                         0.000000e+00   \n",
       "001C_AAACCTGTCACAGTAC_adams                         5.960464e-08   \n",
       "001C_AAACCTGTCTGTCTAT_adams                         0.000000e+00   \n",
       "001C_AAACGGGAGACTAAGT_adams                         5.960464e-08   \n",
       "...                                                          ...   \n",
       "TTTGATCTCGGAATTC-1_DD073R_tata_unpubl               0.000000e+00   \n",
       "TTTGGAGAGGATTTAG-1_DD073R_tata_unpubl               0.000000e+00   \n",
       "TTTGGTTCACGACGCT-1_DD073R_tata_unpubl               0.000000e+00   \n",
       "TTTGGTTGTGATACAA-1_DD073R_tata_unpubl               0.000000e+00   \n",
       "TTTGGTTGTGGAATGC-1_DD073R_tata_unpubl               2.599888e-01   \n",
       "\n",
       "                                      transf_ann_level_2_label  \\\n",
       "001C_AAACCTGCATCGGGTC_adams                            Myeloid   \n",
       "001C_AAACCTGTCAACACCA_adams                            Myeloid   \n",
       "001C_AAACCTGTCACAGTAC_adams                           Lymphoid   \n",
       "001C_AAACCTGTCTGTCTAT_adams                            Myeloid   \n",
       "001C_AAACGGGAGACTAAGT_adams                       Lymphatic EC   \n",
       "...                                                        ...   \n",
       "TTTGATCTCGGAATTC-1_DD073R_tata_unpubl       Fibroblast lineage   \n",
       "TTTGGAGAGGATTTAG-1_DD073R_tata_unpubl            Smooth muscle   \n",
       "TTTGGTTCACGACGCT-1_DD073R_tata_unpubl       Fibroblast lineage   \n",
       "TTTGGTTGTGATACAA-1_DD073R_tata_unpubl       Fibroblast lineage   \n",
       "TTTGGTTGTGGAATGC-1_DD073R_tata_unpubl            Smooth muscle   \n",
       "\n",
       "                                       transf_ann_level_1_uncert  \\\n",
       "001C_AAACCTGCATCGGGTC_adams                         0.000000e+00   \n",
       "001C_AAACCTGTCAACACCA_adams                         0.000000e+00   \n",
       "001C_AAACCTGTCACAGTAC_adams                         5.960464e-08   \n",
       "001C_AAACCTGTCTGTCTAT_adams                         0.000000e+00   \n",
       "001C_AAACGGGAGACTAAGT_adams                         5.960464e-08   \n",
       "...                                                          ...   \n",
       "TTTGATCTCGGAATTC-1_DD073R_tata_unpubl               0.000000e+00   \n",
       "TTTGGAGAGGATTTAG-1_DD073R_tata_unpubl               0.000000e+00   \n",
       "TTTGGTTCACGACGCT-1_DD073R_tata_unpubl               0.000000e+00   \n",
       "TTTGGTTGTGATACAA-1_DD073R_tata_unpubl               0.000000e+00   \n",
       "TTTGGTTGTGGAATGC-1_DD073R_tata_unpubl               0.000000e+00   \n",
       "\n",
       "                                      transf_ann_level_1_label  \n",
       "001C_AAACCTGCATCGGGTC_adams                             Immune  \n",
       "001C_AAACCTGTCAACACCA_adams                             Immune  \n",
       "001C_AAACCTGTCACAGTAC_adams                             Immune  \n",
       "001C_AAACCTGTCTGTCTAT_adams                             Immune  \n",
       "001C_AAACGGGAGACTAAGT_adams                        Endothelial  \n",
       "...                                                        ...  \n",
       "TTTGATCTCGGAATTC-1_DD073R_tata_unpubl                   Stroma  \n",
       "TTTGGAGAGGATTTAG-1_DD073R_tata_unpubl                   Stroma  \n",
       "TTTGGTTCACGACGCT-1_DD073R_tata_unpubl                   Stroma  \n",
       "TTTGGTTGTGATACAA-1_DD073R_tata_unpubl                   Stroma  \n",
       "TTTGGTTGTGGAATGC-1_DD073R_tata_unpubl                   Stroma  \n",
       "\n",
       "[1797714 rows x 13 columns]"
      ]
     },
     "execution_count": 25,
     "metadata": {},
     "output_type": "execute_result"
    }
   ],
   "source": [
    "annot_pred"
   ]
  },
  {
   "cell_type": "markdown",
   "id": "41cf9bac-3940-4d69-936c-a26fd495c37a",
   "metadata": {},
   "source": [
    "### Pre-processing <a class=\"anchor\" id=\"bullet3\"></a>"
   ]
  },
  {
   "cell_type": "code",
   "execution_count": 26,
   "id": "c1677575-d71f-469f-a3aa-a800148b19e2",
   "metadata": {},
   "outputs": [
    {
     "name": "stdout",
     "output_type": "stream",
     "text": [
      "Intersection with prediction: 1797714\n"
     ]
    },
    {
     "data": {
      "text/plain": [
       "extension    1797714\n",
       "core          584944\n",
       "Name: core_or_extension, dtype: int64"
      ]
     },
     "execution_count": 26,
     "metadata": {},
     "output_type": "execute_result"
    }
   ],
   "source": [
    "index_intersect = list(set(embed.obs.index) & set(annot_pred.index))\n",
    "print(\"Intersection with prediction:\", len(index_intersect))\n",
    "embed.obs.core_or_extension.value_counts()"
   ]
  },
  {
   "cell_type": "markdown",
   "id": "52b4cc4d-1542-4a74-9361-8f1a310b976e",
   "metadata": {},
   "source": [
    "Getting the columns we need for the annotation at different levels."
   ]
  },
  {
   "cell_type": "code",
   "execution_count": 27,
   "id": "6cb3875d-5e58-491b-81ff-60db1ae42692",
   "metadata": {},
   "outputs": [],
   "source": [
    "temp = [not i in embed.obs.columns for i in annot_pred.columns]\n",
    "embed.obs = pd.concat([embed.obs, annot_pred.loc[index_intersect, temp]], axis=1)"
   ]
  },
  {
   "cell_type": "code",
   "execution_count": 28,
   "id": "b2709aac-bd15-4b2e-94a0-4507a2d0a4a4",
   "metadata": {},
   "outputs": [
    {
     "name": "stdout",
     "output_type": "stream",
     "text": [
      "-------------------- transf_ann_level_1_label\n",
      "-------------------- transf_ann_level_2_label\n",
      "-------------------- transf_ann_level_3_label\n",
      "-------------------- transf_ann_level_4_label\n",
      "-------------------- transf_ann_level_5_label\n"
     ]
    }
   ],
   "source": [
    "for column_i in list(\n",
    "    filter(re.compile(r\"transf_ann_level_._label\").search, embed.obs.columns)\n",
    "):\n",
    "    print(\"--------------------\", column_i)\n",
    "    embed.obs[column_i] = embed.obs[column_i].astype(str)\n",
    "    embed.obs[re.sub(\"transf_|_label\", \"\", column_i)] = embed.obs[\n",
    "        re.sub(\"transf_|_label\", \"\", column_i)\n",
    "    ].astype(str)\n",
    "    temp = embed.obs[column_i] == \"nan\"\n",
    "    embed.obs[\"celltype\"] = embed.obs[column_i]\n",
    "    embed.obs.loc[temp, \"celltype\"] = embed.obs.loc[\n",
    "        temp, re.sub(\"transf_|_label\", \"\", column_i)\n",
    "    ]\n",
    "    embed.obs[column_i] = embed.obs[\"celltype\"]"
   ]
  },
  {
   "cell_type": "code",
   "execution_count": 29,
   "id": "a5711ea3-42f4-482c-b06c-01478d51891a",
   "metadata": {},
   "outputs": [
    {
     "data": {
      "text/html": [
       "<div>\n",
       "<style scoped>\n",
       "    .dataframe tbody tr th:only-of-type {\n",
       "        vertical-align: middle;\n",
       "    }\n",
       "\n",
       "    .dataframe tbody tr th {\n",
       "        vertical-align: top;\n",
       "    }\n",
       "\n",
       "    .dataframe thead th {\n",
       "        text-align: right;\n",
       "    }\n",
       "</style>\n",
       "<table border=\"1\" class=\"dataframe\">\n",
       "  <thead>\n",
       "    <tr style=\"text-align: right;\">\n",
       "      <th></th>\n",
       "      <th>transf_ann_level_5_label</th>\n",
       "      <th>ann_level_5</th>\n",
       "      <th>celltype</th>\n",
       "      <th>core_or_extension</th>\n",
       "    </tr>\n",
       "  </thead>\n",
       "  <tbody>\n",
       "    <tr>\n",
       "      <th>GCGACCATCCCTAACC_SC22</th>\n",
       "      <td>4_Alveolar macrophages</td>\n",
       "      <td>4_Alveolar macrophages</td>\n",
       "      <td>4_Alveolar macrophages</td>\n",
       "      <td>core</td>\n",
       "    </tr>\n",
       "    <tr>\n",
       "      <th>P2_1_GCGCAACCAGTTAACC</th>\n",
       "      <td>4_NK cells</td>\n",
       "      <td>4_NK cells</td>\n",
       "      <td>4_NK cells</td>\n",
       "      <td>core</td>\n",
       "    </tr>\n",
       "    <tr>\n",
       "      <th>GCTCTGTAGTGCTGCC_SC27</th>\n",
       "      <td>3_AT2</td>\n",
       "      <td>3_AT2</td>\n",
       "      <td>3_AT2</td>\n",
       "      <td>core</td>\n",
       "    </tr>\n",
       "    <tr>\n",
       "      <th>P2_8_TTAGGACGTTCAGGCC</th>\n",
       "      <td>Alveolar Mph CCL3+</td>\n",
       "      <td>Alveolar Mph CCL3+</td>\n",
       "      <td>Alveolar Mph CCL3+</td>\n",
       "      <td>core</td>\n",
       "    </tr>\n",
       "    <tr>\n",
       "      <th>CTTGATTGTCAGTTTG_T164</th>\n",
       "      <td>4_Suprabasal</td>\n",
       "      <td>4_Suprabasal</td>\n",
       "      <td>4_Suprabasal</td>\n",
       "      <td>core</td>\n",
       "    </tr>\n",
       "    <tr>\n",
       "      <th>...</th>\n",
       "      <td>...</td>\n",
       "      <td>...</td>\n",
       "      <td>...</td>\n",
       "      <td>...</td>\n",
       "    </tr>\n",
       "    <tr>\n",
       "      <th>TTTGATCTCGGAATTC-1_DD073R_tata_unpubl</th>\n",
       "      <td>4_Alveolar fibroblasts</td>\n",
       "      <td>nan</td>\n",
       "      <td>4_Alveolar fibroblasts</td>\n",
       "      <td>extension</td>\n",
       "    </tr>\n",
       "    <tr>\n",
       "      <th>TTTGGAGAGGATTTAG-1_DD073R_tata_unpubl</th>\n",
       "      <td>3_Smooth muscle FAM83D+</td>\n",
       "      <td>nan</td>\n",
       "      <td>3_Smooth muscle FAM83D+</td>\n",
       "      <td>extension</td>\n",
       "    </tr>\n",
       "    <tr>\n",
       "      <th>TTTGGTTCACGACGCT-1_DD073R_tata_unpubl</th>\n",
       "      <td>4_Peribronchial fibroblasts</td>\n",
       "      <td>nan</td>\n",
       "      <td>4_Peribronchial fibroblasts</td>\n",
       "      <td>extension</td>\n",
       "    </tr>\n",
       "    <tr>\n",
       "      <th>TTTGGTTGTGATACAA-1_DD073R_tata_unpubl</th>\n",
       "      <td>4_Alveolar fibroblasts</td>\n",
       "      <td>nan</td>\n",
       "      <td>4_Alveolar fibroblasts</td>\n",
       "      <td>extension</td>\n",
       "    </tr>\n",
       "    <tr>\n",
       "      <th>TTTGGTTGTGGAATGC-1_DD073R_tata_unpubl</th>\n",
       "      <td>2_Smooth muscle</td>\n",
       "      <td>nan</td>\n",
       "      <td>2_Smooth muscle</td>\n",
       "      <td>extension</td>\n",
       "    </tr>\n",
       "  </tbody>\n",
       "</table>\n",
       "<p>2382658 rows × 4 columns</p>\n",
       "</div>"
      ],
      "text/plain": [
       "                                          transf_ann_level_5_label  \\\n",
       "GCGACCATCCCTAACC_SC22                       4_Alveolar macrophages   \n",
       "P2_1_GCGCAACCAGTTAACC                                   4_NK cells   \n",
       "GCTCTGTAGTGCTGCC_SC27                                        3_AT2   \n",
       "P2_8_TTAGGACGTTCAGGCC                           Alveolar Mph CCL3+   \n",
       "CTTGATTGTCAGTTTG_T164                                 4_Suprabasal   \n",
       "...                                                            ...   \n",
       "TTTGATCTCGGAATTC-1_DD073R_tata_unpubl       4_Alveolar fibroblasts   \n",
       "TTTGGAGAGGATTTAG-1_DD073R_tata_unpubl      3_Smooth muscle FAM83D+   \n",
       "TTTGGTTCACGACGCT-1_DD073R_tata_unpubl  4_Peribronchial fibroblasts   \n",
       "TTTGGTTGTGATACAA-1_DD073R_tata_unpubl       4_Alveolar fibroblasts   \n",
       "TTTGGTTGTGGAATGC-1_DD073R_tata_unpubl              2_Smooth muscle   \n",
       "\n",
       "                                                  ann_level_5  \\\n",
       "GCGACCATCCCTAACC_SC22                  4_Alveolar macrophages   \n",
       "P2_1_GCGCAACCAGTTAACC                              4_NK cells   \n",
       "GCTCTGTAGTGCTGCC_SC27                                   3_AT2   \n",
       "P2_8_TTAGGACGTTCAGGCC                      Alveolar Mph CCL3+   \n",
       "CTTGATTGTCAGTTTG_T164                            4_Suprabasal   \n",
       "...                                                       ...   \n",
       "TTTGATCTCGGAATTC-1_DD073R_tata_unpubl                     nan   \n",
       "TTTGGAGAGGATTTAG-1_DD073R_tata_unpubl                     nan   \n",
       "TTTGGTTCACGACGCT-1_DD073R_tata_unpubl                     nan   \n",
       "TTTGGTTGTGATACAA-1_DD073R_tata_unpubl                     nan   \n",
       "TTTGGTTGTGGAATGC-1_DD073R_tata_unpubl                     nan   \n",
       "\n",
       "                                                          celltype  \\\n",
       "GCGACCATCCCTAACC_SC22                       4_Alveolar macrophages   \n",
       "P2_1_GCGCAACCAGTTAACC                                   4_NK cells   \n",
       "GCTCTGTAGTGCTGCC_SC27                                        3_AT2   \n",
       "P2_8_TTAGGACGTTCAGGCC                           Alveolar Mph CCL3+   \n",
       "CTTGATTGTCAGTTTG_T164                                 4_Suprabasal   \n",
       "...                                                            ...   \n",
       "TTTGATCTCGGAATTC-1_DD073R_tata_unpubl       4_Alveolar fibroblasts   \n",
       "TTTGGAGAGGATTTAG-1_DD073R_tata_unpubl      3_Smooth muscle FAM83D+   \n",
       "TTTGGTTCACGACGCT-1_DD073R_tata_unpubl  4_Peribronchial fibroblasts   \n",
       "TTTGGTTGTGATACAA-1_DD073R_tata_unpubl       4_Alveolar fibroblasts   \n",
       "TTTGGTTGTGGAATGC-1_DD073R_tata_unpubl              2_Smooth muscle   \n",
       "\n",
       "                                      core_or_extension  \n",
       "GCGACCATCCCTAACC_SC22                              core  \n",
       "P2_1_GCGCAACCAGTTAACC                              core  \n",
       "GCTCTGTAGTGCTGCC_SC27                              core  \n",
       "P2_8_TTAGGACGTTCAGGCC                              core  \n",
       "CTTGATTGTCAGTTTG_T164                              core  \n",
       "...                                                 ...  \n",
       "TTTGATCTCGGAATTC-1_DD073R_tata_unpubl         extension  \n",
       "TTTGGAGAGGATTTAG-1_DD073R_tata_unpubl         extension  \n",
       "TTTGGTTCACGACGCT-1_DD073R_tata_unpubl         extension  \n",
       "TTTGGTTGTGATACAA-1_DD073R_tata_unpubl         extension  \n",
       "TTTGGTTGTGGAATGC-1_DD073R_tata_unpubl         extension  \n",
       "\n",
       "[2382658 rows x 4 columns]"
      ]
     },
     "execution_count": 29,
     "metadata": {},
     "output_type": "execute_result"
    }
   ],
   "source": [
    "embed.obs[\n",
    "    [column_i, re.sub(\"transf_|_label\", \"\", column_i), \"celltype\", \"core_or_extension\"]\n",
    "]"
   ]
  },
  {
   "cell_type": "markdown",
   "id": "e42359a3",
   "metadata": {},
   "source": [
    "Combining embedding and full-matrix objects"
   ]
  },
  {
   "cell_type": "code",
   "execution_count": null,
   "id": "53270ff9",
   "metadata": {},
   "outputs": [],
   "source": [
    "adata_comb = edata[barcodes].to_memory()"
   ]
  },
  {
   "cell_type": "code",
   "execution_count": null,
   "id": "d70dc097",
   "metadata": {},
   "outputs": [],
   "source": [
    "temp = [i for i in embed.obs.columns if not i in adata_comb.obs.columns]\n",
    "df = embed.obs.loc[:, temp]\n",
    "print(f\"Adding {df.shape[1]} more columns\")\n",
    "adata_comb.obs = pd.concat([adata_comb.obs, df], axis=1)\n",
    "adata_comb.obsm = embed[adata_comb.obs_names].obsm"
   ]
  },
  {
   "cell_type": "markdown",
   "id": "997a5305",
   "metadata": {},
   "source": [
    "Normalizing and log-transforming"
   ]
  },
  {
   "cell_type": "code",
   "execution_count": null,
   "id": "dbda73ea",
   "metadata": {},
   "outputs": [],
   "source": [
    "sc.pp.normalize_total(adata_comb, target_sum=7699)"
   ]
  },
  {
   "cell_type": "code",
   "execution_count": null,
   "id": "729cafd7",
   "metadata": {},
   "outputs": [],
   "source": [
    "sc.pp.log1p(adata_comb)"
   ]
  },
  {
   "attachments": {},
   "cell_type": "markdown",
   "id": "9f0ab26c-dde3-4774-8104-35c192fc3cfb",
   "metadata": {},
   "source": [
    "Renaming superfluous conditions and merging major groups."
   ]
  },
  {
   "cell_type": "code",
   "execution_count": null,
   "id": "c9c54324-5c99-46fc-a591-898351f4b5bc",
   "metadata": {},
   "outputs": [],
   "source": [
    "condition_simplifier = {cond: cond for cond in adata_comb.obs.condition.unique()}\n",
    "condition_simplifier"
   ]
  },
  {
   "cell_type": "code",
   "execution_count": null,
   "id": "4e877653",
   "metadata": {},
   "outputs": [],
   "source": [
    "condition_simplifier.update(\n",
    "    {\n",
    "        \"COVID-19 moderate\": \"COVID-19\",\n",
    "        \"COVID-19 severe\": \"COVID-19\",\n",
    "        \"Healthy (tumor adjacent)\": \"Healthy\",\n",
    "        \"Large Cell Carcinoma\": \"Carcinoma\",\n",
    "        \"Lung adenocarcinoma\": \"Carcinoma\",\n",
    "        \"Pleiomorphic Carcinoma\": \"Carcinoma\",\n",
    "        \"Squamous Cell Carcinoma\": \"Carcinoma\",\n",
    "        \"HP\": \"ILD\",\n",
    "        \"Myositis-associated ILD\": \"ILD\",\n",
    "        \"NSIP\": \"ILD\",\n",
    "        \"Systemic sclerosis-associated ILD\": \"ILD\",\n",
    "        \"Healthy (tumor adjacent)\": \"Healthy\",\n",
    "        \"End-stage lung fibrosis, unknown etiology\": \"ILD\",\n",
    "        \"Chronic rhinitis\": \"Other diseases\",\n",
    "        \"Lymphangioleiomyomatosis\": \"Other diseases\",\n",
    "        \"Sarcoidosis\": \"Other diseases\",\n",
    "    }\n",
    ")"
   ]
  },
  {
   "cell_type": "markdown",
   "id": "43dcd0b4",
   "metadata": {},
   "source": [
    "There are two samples (one subject) in the Schiller_2020 data that are End-stage Fibrosis but not IPF."
   ]
  },
  {
   "cell_type": "code",
   "execution_count": null,
   "id": "8ffb8969",
   "metadata": {},
   "outputs": [],
   "source": [
    "schiller_subjects = (\n",
    "    adata_comb.obs.loc[adata_comb.obs.study == \"Schiller_2020\"]\n",
    "    .subject_ID.astype(str)\n",
    "    .unique()\n",
    "    .tolist()\n",
    ")\n",
    "schiller_subjects = set(schiller_subjects) - set([\"muc8257\", \"muc8258\"])\n",
    "indexes = adata_comb.obs[\"subject_ID\"].isin(schiller_subjects) & adata_comb.obs[\n",
    "    \"condition\"\n",
    "].isin([\"End-stage lung fibrosis, unknown etiology\", \"IPF\"])\n",
    "adata_comb.obs.loc[indexes, \"condition\"] = \"IPF\""
   ]
  },
  {
   "cell_type": "code",
   "execution_count": null,
   "id": "ffda1939",
   "metadata": {},
   "outputs": [],
   "source": [
    "adata_comb.obs[\"condition_merged\"] = (\n",
    "    adata_comb.obs[\"condition\"].map(condition_simplifier).astype(\"category\")\n",
    ")"
   ]
  },
  {
   "cell_type": "markdown",
   "id": "a09f4d39-fb9b-4144-9594-3c73e0572e8e",
   "metadata": {},
   "source": [
    "Now including the core and extensions."
   ]
  },
  {
   "cell_type": "code",
   "execution_count": 34,
   "id": "819fb0a0-9cf3-4a7d-967f-50769f72733d",
   "metadata": {},
   "outputs": [],
   "source": [
    "embed_disease_obs = adata_comb.obs.copy()"
   ]
  },
  {
   "cell_type": "markdown",
   "id": "49c5f3fc-21cd-48c3-83ed-0ce3db634f4a",
   "metadata": {},
   "source": [
    "We're only focusing on the **M**onocyte **d**erived **M**acrophages (MdM)."
   ]
  },
  {
   "cell_type": "code",
   "execution_count": 37,
   "id": "e66bbd0e-3c00-4fdf-ba39-fc8c68ea982b",
   "metadata": {},
   "outputs": [
    {
     "data": {
      "text/plain": [
       "4_Alveolar macrophages           337565\n",
       "Monocyte-derived Mph             203219\n",
       "Alveolar Mph CCL3+                23332\n",
       "Interstitial Mph perivascular     21005\n",
       "Alveolar Mph proliferating         6460\n",
       "Alveolar Mph MT-positive           2952\n",
       "Name: transf_ann_level_5_label, dtype: int64"
      ]
     },
     "execution_count": 37,
     "metadata": {},
     "output_type": "execute_result"
    }
   ],
   "source": [
    "pd.set_option(\"display.max_rows\", 500)\n",
    "temp = embed_disease_obs.transf_ann_level_5_label.value_counts()\n",
    "temp[[i for i, s in enumerate(temp.index) if re.search(\"macro|Mph\", s)]]"
   ]
  },
  {
   "cell_type": "code",
   "execution_count": 38,
   "id": "c64f73e0-8525-4244-9a13-c99cf6395ea3",
   "metadata": {},
   "outputs": [],
   "source": [
    "embed_disease_celltype_obs = embed_disease_obs[\n",
    "    embed_disease_obs.transf_ann_level_5_label.isin([\"Monocyte-derived Mph\"])\n",
    "]"
   ]
  },
  {
   "cell_type": "code",
   "execution_count": 39,
   "id": "b1049c0d-abf0-401a-a228-d30f18dd6b0d",
   "metadata": {},
   "outputs": [
    {
     "data": {
      "text/html": [
       "<div>\n",
       "<style scoped>\n",
       "    .dataframe tbody tr th:only-of-type {\n",
       "        vertical-align: middle;\n",
       "    }\n",
       "\n",
       "    .dataframe tbody tr th {\n",
       "        vertical-align: top;\n",
       "    }\n",
       "\n",
       "    .dataframe thead th {\n",
       "        text-align: right;\n",
       "    }\n",
       "</style>\n",
       "<table border=\"1\" class=\"dataframe\">\n",
       "  <thead>\n",
       "    <tr style=\"text-align: right;\">\n",
       "      <th>core_or_extension</th>\n",
       "      <th>core</th>\n",
       "      <th>extension</th>\n",
       "    </tr>\n",
       "    <tr>\n",
       "      <th>condition</th>\n",
       "      <th></th>\n",
       "      <th></th>\n",
       "    </tr>\n",
       "  </thead>\n",
       "  <tbody>\n",
       "    <tr>\n",
       "      <th>CF</th>\n",
       "      <td>0</td>\n",
       "      <td>1</td>\n",
       "    </tr>\n",
       "    <tr>\n",
       "      <th>COPD</th>\n",
       "      <td>0</td>\n",
       "      <td>1945</td>\n",
       "    </tr>\n",
       "    <tr>\n",
       "      <th>COVID-19</th>\n",
       "      <td>0</td>\n",
       "      <td>43386</td>\n",
       "    </tr>\n",
       "    <tr>\n",
       "      <th>COVID-19 moderate</th>\n",
       "      <td>0</td>\n",
       "      <td>200</td>\n",
       "    </tr>\n",
       "    <tr>\n",
       "      <th>COVID-19 severe</th>\n",
       "      <td>0</td>\n",
       "      <td>11681</td>\n",
       "    </tr>\n",
       "    <tr>\n",
       "      <th>Chronic rhinitis</th>\n",
       "      <td>0</td>\n",
       "      <td>157</td>\n",
       "    </tr>\n",
       "    <tr>\n",
       "      <th>HP</th>\n",
       "      <td>0</td>\n",
       "      <td>1761</td>\n",
       "    </tr>\n",
       "    <tr>\n",
       "      <th>Healthy</th>\n",
       "      <td>28223</td>\n",
       "      <td>42381</td>\n",
       "    </tr>\n",
       "    <tr>\n",
       "      <th>ILD</th>\n",
       "      <td>0</td>\n",
       "      <td>885</td>\n",
       "    </tr>\n",
       "    <tr>\n",
       "      <th>IPF</th>\n",
       "      <td>0</td>\n",
       "      <td>49813</td>\n",
       "    </tr>\n",
       "    <tr>\n",
       "      <th>Large Cell Carcinoma</th>\n",
       "      <td>0</td>\n",
       "      <td>1328</td>\n",
       "    </tr>\n",
       "    <tr>\n",
       "      <th>Lung adenocarcinoma</th>\n",
       "      <td>0</td>\n",
       "      <td>2964</td>\n",
       "    </tr>\n",
       "    <tr>\n",
       "      <th>Lymphangioleiomyomatosis</th>\n",
       "      <td>0</td>\n",
       "      <td>266</td>\n",
       "    </tr>\n",
       "    <tr>\n",
       "      <th>Myositis-associated ILD</th>\n",
       "      <td>0</td>\n",
       "      <td>2336</td>\n",
       "    </tr>\n",
       "    <tr>\n",
       "      <th>NSIP</th>\n",
       "      <td>0</td>\n",
       "      <td>1085</td>\n",
       "    </tr>\n",
       "    <tr>\n",
       "      <th>Pleiomorphic Carcinoma</th>\n",
       "      <td>0</td>\n",
       "      <td>102</td>\n",
       "    </tr>\n",
       "    <tr>\n",
       "      <th>Pneumonia non-COVID</th>\n",
       "      <td>0</td>\n",
       "      <td>1951</td>\n",
       "    </tr>\n",
       "    <tr>\n",
       "      <th>Sarcoidosis</th>\n",
       "      <td>0</td>\n",
       "      <td>518</td>\n",
       "    </tr>\n",
       "    <tr>\n",
       "      <th>Squamous Cell Carcinoma</th>\n",
       "      <td>0</td>\n",
       "      <td>3184</td>\n",
       "    </tr>\n",
       "    <tr>\n",
       "      <th>Systemic sclerosis-associated ILD</th>\n",
       "      <td>0</td>\n",
       "      <td>9052</td>\n",
       "    </tr>\n",
       "  </tbody>\n",
       "</table>\n",
       "</div>"
      ],
      "text/plain": [
       "core_or_extension                   core  extension\n",
       "condition                                          \n",
       "CF                                     0          1\n",
       "COPD                                   0       1945\n",
       "COVID-19                               0      43386\n",
       "COVID-19 moderate                      0        200\n",
       "COVID-19 severe                        0      11681\n",
       "Chronic rhinitis                       0        157\n",
       "HP                                     0       1761\n",
       "Healthy                            28223      42381\n",
       "ILD                                    0        885\n",
       "IPF                                    0      49813\n",
       "Large Cell Carcinoma                   0       1328\n",
       "Lung adenocarcinoma                    0       2964\n",
       "Lymphangioleiomyomatosis               0        266\n",
       "Myositis-associated ILD                0       2336\n",
       "NSIP                                   0       1085\n",
       "Pleiomorphic Carcinoma                 0        102\n",
       "Pneumonia non-COVID                    0       1951\n",
       "Sarcoidosis                            0        518\n",
       "Squamous Cell Carcinoma                0       3184\n",
       "Systemic sclerosis-associated ILD      0       9052"
      ]
     },
     "execution_count": 39,
     "metadata": {},
     "output_type": "execute_result"
    }
   ],
   "source": [
    "pd.crosstab(\n",
    "    embed_disease_celltype_obs.condition, embed_disease_celltype_obs.core_or_extension\n",
    ")"
   ]
  },
  {
   "cell_type": "markdown",
   "id": "2a84ddd4-ef6f-4b70-a427-f7366aaa5319",
   "metadata": {},
   "source": [
    "Removing datasets and condition that are not well represented (keeping >50 cells)."
   ]
  },
  {
   "cell_type": "code",
   "execution_count": 40,
   "id": "887984db-2c35-4f69-8849-9b292e38cc66",
   "metadata": {},
   "outputs": [],
   "source": [
    "n_condition = embed_disease_celltype_obs.condition.value_counts()\n",
    "n_condition"
   ]
  },
  {
   "cell_type": "code",
   "execution_count": 40,
   "id": "3b3bc512-7987-4d47-8698-dc5786de676e",
   "metadata": {},
   "outputs": [
    {
     "data": {
      "text/plain": [
       "Kaminski_2020                62861\n",
       "Banovich_Kropski_2020        23986\n",
       "Budinger_2020                16062\n",
       "Zhang_2021                   12434\n",
       "Regev_2021_Nuclei             8606\n",
       "Wunderink_2021_cryo           8347\n",
       "Lambrechts_2021               7207\n",
       "Misharin_Budinger_2018        6994\n",
       "Thienpont_2018_10Xv2          6394\n",
       "Meyer_2021_5prime             5840\n",
       "Lafyatis_2019                 5661\n",
       "Sheppard_2020                 4892\n",
       "Wunderink_2021_fresh          4559\n",
       "Misharin_2021                 4173\n",
       "Lafyatis_Rojas_2019_10Xv2     4028\n",
       "Meyer_2019                    2202\n",
       "Teichmann_Meyer_2019          2062\n",
       "Janssen_2020                  1980\n",
       "Duong_lungMAP_unpubl          1551\n",
       "Schiller_2021                 1461\n",
       "Eils_2020                     1385\n",
       "Sun_2020_batch3               1356\n",
       "Sun_2020_batch1               1075\n",
       "Schiller_2020                 1059\n",
       "Peer_Massague_2020            1048\n",
       "Sun_2020_batch4                995\n",
       "Lafyatis_Rojas_2019_10Xv1      681\n",
       "Krasnow_2020                   662\n",
       "Tata_unpubl                    578\n",
       "Sun_2020_batch2                519\n",
       "MeyerNikolic_unpubl_UCL        471\n",
       "Regev_2021_Cryo                440\n",
       "Meyer_2021_3prime              349\n",
       "Thienpont_2018_10Xv1           307\n",
       "Xu_2020_LAM1_3                 266\n",
       "Shalek_2018                    227\n",
       "Barbry_Leroy_2020              208\n",
       "Regev_2021_Fresh               116\n",
       "Schultze_unpubl                108\n",
       "Jain_Misharin_2021_10Xv2        31\n",
       "Nawijn_2021                     20\n",
       "Jain_Misharin_2021_10Xv1        13\n",
       "Gomperts2021_UCLA                2\n",
       "Seibold_2020_10Xv2               2\n",
       "Seibold_2020_10Xv3               1\n",
       "Gomperts_2021_CSMC               0\n",
       "Gomperts_2021_CFF                0\n",
       "Sims_2019                        0\n",
       "Barbry_unpubl                    0\n",
       "Name: dataset, dtype: int64"
      ]
     },
     "execution_count": 40,
     "metadata": {},
     "output_type": "execute_result"
    }
   ],
   "source": [
    "n_dataset = embed_disease_celltype_obs.dataset.value_counts()\n",
    "n_dataset"
   ]
  },
  {
   "cell_type": "code",
   "execution_count": 41,
   "id": "f8278309-4864-4e4c-a905-80319b6f9767",
   "metadata": {},
   "outputs": [],
   "source": [
    "embed_disease_celltype_obs = embed_disease_celltype_obs[\n",
    "    embed_disease_celltype_obs.condition.isin(\n",
    "        n_condition[n_condition > 50].index.tolist()\n",
    "    ).tolist()\n",
    "    and embed_disease_celltype_obs.dataset.astype(str)\n",
    "    .isin(n_dataset[n_dataset > 50].index.tolist())\n",
    "    .tolist()\n",
    "]"
   ]
  },
  {
   "cell_type": "code",
   "execution_count": 43,
   "id": "8bc261c4-5543-48ea-a612-323779100ed7",
   "metadata": {},
   "outputs": [],
   "source": [
    "embed_disease = embed[embed_disease_celltype_obs.index].copy()"
   ]
  },
  {
   "cell_type": "code",
   "execution_count": 44,
   "id": "6632dfd9-6157-4ebd-a22f-9ded103b64bd",
   "metadata": {},
   "outputs": [
    {
     "data": {
      "text/plain": [
       "AnnData object with n_obs × n_vars = 203150 × 30\n",
       "    obs: 'sample', 'original_celltype_ann', 'study_long', 'study', 'last_author_PI', 'subject_ID', 'subject_ID_as_published', 'pre_or_postnatal', 'age_in_years', 'age_range', 'sex', 'smoking_status', 'smoking_history', 'BMI', 'known_lung_disease', 'condition', 'subject_type', 'cause_of_death', 'sample_type', 'anatomical_region_coarse', 'anatomical_region_detailed', 'tissue_dissociation_protocol', 'cells_or_nuclei', 'single_cell_platform', \"3'_or_5'\", 'enrichment', 'sequencing_platform', 'reference_genome_coarse', 'ensembl_release_reference_genome', 'cell_ranger_version', 'disease_status', 'fresh_or_frozen', 'cultured', 'cell_viability_%', 'comments', 'Processing_site', 'dataset', 'anatomical_region_level_1', 'anatomical_region_level_2', 'anatomical_region_level_3', 'anatomical_region_highest_res', 'age', 'ann_level_1', 'ann_level_2', 'ann_level_3', 'ann_level_4', 'ann_level_5', 'ann_highest_res', 'ann_new', 'n_genes', 'total_counts', 'log10_total_counts', 'n_genes_detected', 'mito_frac', 'ribo_frac', 'compl', 'size_factors', 'ann_level_1_clean', 'ann_level_2_clean', 'ann_level_3_clean', 'ann_level_4_clean', 'ann_level_5_clean', 'scanvi_label', 'leiden_1', 'leiden_2', 'leiden_3', 'anatomical_region_ccf_score', 'manual_ann', 'leiden_4', 'reannotation_type', 'leiden_5', 'original_ann_level_1', 'original_ann_level_2', 'original_ann_level_3', 'original_ann_level_4', 'original_ann_level_5', 'original_ann_highest_res', 'original_ann_new', 'original_ann_level_1_clean', 'original_ann_level_2_clean', 'original_ann_level_3_clean', 'original_ann_level_4_clean', 'original_ann_level_5_clean', 'cluster_annotated', 'manual_ann_grouped', 'entropy_subject_ID_leiden_3', 'entropy_dataset_leiden_3', 'entropy_original_ann_level_1_leiden_3', 'entropy_original_ann_level_2_clean_leiden_3', 'entropy_original_ann_level_3_clean_leiden_3', 'core_or_extension', 'ancestry', 'mixed_ancestry', 'transf_ann_level_1_label', 'transf_ann_level_1_uncert', 'transf_ann_level_2_label', 'transf_ann_level_2_uncert', 'transf_ann_level_3_label', 'transf_ann_level_3_uncert', 'transf_ann_level_4_label', 'transf_ann_level_4_uncert', 'transf_ann_level_5_label', 'transf_ann_level_5_uncert', 'most_confident_level', 'most_confident_uncert', 'most_confident_label', 'celltype'\n",
       "    uns: 'ann_level_3_colors', 'manual_ann_colors', 'neighbors', 'transf_ann_level_3_label_colors', 'umap'\n",
       "    obsm: 'X_umap'\n",
       "    obsp: 'connectivities', 'distances'"
      ]
     },
     "execution_count": 44,
     "metadata": {},
     "output_type": "execute_result"
    }
   ],
   "source": [
    "embed_disease"
   ]
  },
  {
   "cell_type": "markdown",
   "id": "d557dad7-df4c-46e6-b10f-b76eb58b43e1",
   "metadata": {},
   "source": [
    "Transefered celltypes are independent across levels."
   ]
  },
  {
   "cell_type": "code",
   "execution_count": 46,
   "id": "704b350c-6d1f-4d4b-bcd8-719ca11db894",
   "metadata": {},
   "outputs": [
    {
     "data": {
      "text/html": [
       "<div>\n",
       "<style scoped>\n",
       "    .dataframe tbody tr th:only-of-type {\n",
       "        vertical-align: middle;\n",
       "    }\n",
       "\n",
       "    .dataframe tbody tr th {\n",
       "        vertical-align: top;\n",
       "    }\n",
       "\n",
       "    .dataframe thead th {\n",
       "        text-align: right;\n",
       "    }\n",
       "</style>\n",
       "<table border=\"1\" class=\"dataframe\">\n",
       "  <thead>\n",
       "    <tr style=\"text-align: right;\">\n",
       "      <th>core_or_extension</th>\n",
       "      <th>core</th>\n",
       "      <th>extension</th>\n",
       "    </tr>\n",
       "    <tr>\n",
       "      <th>transf_ann_level_5_label</th>\n",
       "      <th></th>\n",
       "      <th></th>\n",
       "    </tr>\n",
       "  </thead>\n",
       "  <tbody>\n",
       "    <tr>\n",
       "      <th>Monocyte-derived Mph</th>\n",
       "      <td>28156</td>\n",
       "      <td>174994</td>\n",
       "    </tr>\n",
       "  </tbody>\n",
       "</table>\n",
       "</div>"
      ],
      "text/plain": [
       "core_or_extension          core  extension\n",
       "transf_ann_level_5_label                  \n",
       "Monocyte-derived Mph      28156     174994"
      ]
     },
     "execution_count": 46,
     "metadata": {},
     "output_type": "execute_result"
    }
   ],
   "source": [
    "pd.crosstab(\n",
    "    embed_disease.obs.transf_ann_level_5_label, embed_disease.obs.core_or_extension\n",
    ")"
   ]
  },
  {
   "cell_type": "markdown",
   "id": "9c64adca-7eea-4e62-b7c1-b7df53fef179",
   "metadata": {},
   "source": [
    "### Main <a class=\"anchor\" id=\"bullet4\"></a>"
   ]
  },
  {
   "cell_type": "markdown",
   "id": "e62c2499-3827-47df-830c-bfe853148f13",
   "metadata": {},
   "source": [
    "Calculate UMAP."
   ]
  },
  {
   "cell_type": "code",
   "execution_count": 47,
   "id": "0a2b6e84-d074-431c-827f-6168334af017",
   "metadata": {},
   "outputs": [
    {
     "name": "stdout",
     "output_type": "stream",
     "text": [
      "CPU times: user 1min 42s, sys: 3.4 s, total: 1min 46s\n",
      "Wall time: 1min 24s\n"
     ]
    }
   ],
   "source": [
    "%%time\n",
    "sc.pp.neighbors(embed_disease, n_neighbors=30)"
   ]
  },
  {
   "cell_type": "code",
   "execution_count": 48,
   "id": "c974a0d4-4f58-4b5a-882b-2b70a7250735",
   "metadata": {},
   "outputs": [
    {
     "name": "stdout",
     "output_type": "stream",
     "text": [
      "CPU times: user 8min 14s, sys: 57.3 s, total: 9min 11s\n",
      "Wall time: 7min 10s\n"
     ]
    }
   ],
   "source": [
    "%%time\n",
    "sc.tl.umap(embed_disease)"
   ]
  },
  {
   "cell_type": "markdown",
   "id": "38e8a82f-87b0-41bd-b902-391ae38e66fd",
   "metadata": {},
   "source": [
    "#### Clustering"
   ]
  },
  {
   "cell_type": "code",
   "execution_count": 50,
   "id": "1952e2ea-5a4c-4a9b-8bd6-b1f38663e500",
   "metadata": {},
   "outputs": [
    {
     "name": "stdout",
     "output_type": "stream",
     "text": [
      "CPU times: user 6min 11s, sys: 16.7 s, total: 6min 28s\n",
      "Wall time: 6min 28s\n"
     ]
    }
   ],
   "source": [
    "%%time\n",
    "sc.tl.leiden(embed_disease, resolution=0.3, key_added=\"leiden_0.3\")"
   ]
  },
  {
   "cell_type": "markdown",
   "id": "ee289751-f73b-4bfa-97ad-031204d434e1",
   "metadata": {},
   "source": [
    "### Save <a class=\"anchor\" id=\"bullet6\"></a>"
   ]
  },
  {
   "cell_type": "code",
   "execution_count": 51,
   "id": "57ef46fe-9088-43e1-9581-02e8d177f207",
   "metadata": {},
   "outputs": [
    {
     "data": {
      "text/plain": [
       "AnnData object with n_obs × n_vars = 203150 × 30\n",
       "    obs: 'sample', 'original_celltype_ann', 'study_long', 'study', 'last_author_PI', 'subject_ID', 'subject_ID_as_published', 'pre_or_postnatal', 'age_in_years', 'age_range', 'sex', 'ethnicity', 'mixed_ethnicity', 'smoking_status', 'smoking_history', 'BMI', 'known_lung_disease', 'condition', 'subject_type', 'cause_of_death', 'sample_type', 'anatomical_region_coarse', 'anatomical_region_detailed', 'tissue_dissociation_protocol', 'cells_or_nuclei', 'single_cell_platform', \"3'_or_5'\", 'enrichment', 'sequencing_platform', 'reference_genome_coarse', 'ensembl_release_reference_genome', 'cell_ranger_version', 'disease_status', 'fresh_or_frozen', 'cultured', 'cell_viability_%', 'comments', 'Processing_site', 'dataset', 'anatomical_region_level_1', 'anatomical_region_level_2', 'anatomical_region_level_3', 'anatomical_region_highest_res', 'age', 'ann_level_1', 'ann_level_2', 'ann_level_3', 'ann_level_4', 'ann_level_5', 'ann_highest_res', 'ann_new', 'n_genes', 'total_counts', 'log10_total_counts', 'n_genes_detected', 'mito_frac', 'ribo_frac', 'compl', 'size_factors', 'ann_level_1_clean', 'ann_level_2_clean', 'ann_level_3_clean', 'ann_level_4_clean', 'ann_level_5_clean', 'scanvi_label', 'leiden_1', 'leiden_2', 'leiden_3', 'anatomical_region_ccf_score', 'manual_ann', 'leiden_4', 'reannotation_type', 'leiden_5', 'original_ann_level_1', 'original_ann_level_2', 'original_ann_level_3', 'original_ann_level_4', 'original_ann_level_5', 'original_ann_highest_res', 'original_ann_new', 'original_ann_level_1_clean', 'original_ann_level_2_clean', 'original_ann_level_3_clean', 'original_ann_level_4_clean', 'original_ann_level_5_clean', 'cluster_annotated', 'manual_ann_grouped', 'entropy_subject_ID_leiden_3', 'entropy_dataset_leiden_3', 'entropy_original_ann_level_1_leiden_3', 'entropy_original_ann_level_2_clean_leiden_3', 'entropy_original_ann_level_3_clean_leiden_3', 'core_or_extension', 'most_confident_level', 'most_confident_uncert', 'most_confident_label', 'transf_ann_level_5_uncert', 'transf_ann_level_5_label', 'transf_ann_level_4_uncert', 'transf_ann_level_4_label', 'transf_ann_level_3_uncert', 'transf_ann_level_3_label', 'transf_ann_level_2_uncert', 'transf_ann_level_2_label', 'transf_ann_level_1_uncert', 'transf_ann_level_1_label', 'celltype', 'leiden_0.1', 'leiden_0.3', 'leiden_0.5'\n",
       "    uns: 'neighbors', 'umap', 'leiden', 'core_or_extension_colors', 'study_colors', 'condition_colors', 'transf_ann_level_4_label_colors', 'transf_ann_level_5_label_colors', 'leiden_0.1_colors', 'leiden_0.3_colors', 'leiden_0.5_colors'\n",
       "    obsm: 'X_umap'\n",
       "    obsp: 'connectivities', 'distances'"
      ]
     },
     "execution_count": 51,
     "metadata": {},
     "output_type": "execute_result"
    }
   ],
   "source": [
    "embed_disease"
   ]
  },
  {
   "cell_type": "code",
   "execution_count": 52,
   "id": "24c94df1-c12f-484a-9724-d17ad7026076",
   "metadata": {},
   "outputs": [],
   "source": [
    "embed_disease.write(filename=embed_out)"
   ]
  },
  {
   "cell_type": "markdown",
   "id": "bad168ba-6d8c-4bc9-8fb3-0fd6b9754293",
   "metadata": {},
   "source": [
    "Done."
   ]
  }
 ],
 "metadata": {
  "kernelspec": {
   "display_name": "Python [conda env:HLCA_basic] *",
   "language": "python",
   "name": "conda-env-HLCA_basic-py"
  },
  "language_info": {
   "codemirror_mode": {
    "name": "ipython",
    "version": 3
   },
   "file_extension": ".py",
   "mimetype": "text/x-python",
   "name": "python",
   "nbconvert_exporter": "python",
   "pygments_lexer": "ipython3",
   "version": "3.7.13"
  }
 },
 "nbformat": 4,
 "nbformat_minor": 5
}
