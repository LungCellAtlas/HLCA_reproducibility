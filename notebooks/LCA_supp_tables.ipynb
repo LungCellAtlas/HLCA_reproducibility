{
 "cells": [
  {
   "cell_type": "markdown",
   "metadata": {},
   "source": [
    "# GENERATION OF SEVERAL SUPPLEMENTARY TABLES"
   ]
  },
  {
   "cell_type": "markdown",
   "metadata": {},
   "source": [
    "load modules:"
   ]
  },
  {
   "cell_type": "code",
   "execution_count": 1,
   "metadata": {},
   "outputs": [],
   "source": [
    "import scanpy as sc\n",
    "import pandas as pd\n",
    "import numpy as np\n",
    "import sys\n",
    "import os\n",
    "\n",
    "sys.path.append(\"../scripts/\")\n",
    "import reference_based_harmonizing"
   ]
  },
  {
   "cell_type": "code",
   "execution_count": 2,
   "metadata": {},
   "outputs": [],
   "source": [
    "%load_ext lab_black"
   ]
  },
  {
   "cell_type": "markdown",
   "metadata": {},
   "source": [
    "set paths:"
   ]
  },
  {
   "cell_type": "code",
   "execution_count": 3,
   "metadata": {},
   "outputs": [],
   "source": [
    "path_hlca_core = \"../data/HLCA_core_h5ads/HLCA_v2.h5ad\"\n",
    "path_hlca_ext_emb = (\n",
    "    \"../data/HLCA_extended/HLCA_extended/HLCA_extended_scarches_emb.h5ad\"\n",
    ")\n",
    "path_manual_anns_in = \"../supporting_files/celltype_structure_and_colors/manual_anns_and_leveled_anns_ordered.csv\"\n",
    "dir_supp_tables_out = \"../results/suppl_tables/\""
   ]
  },
  {
   "cell_type": "markdown",
   "metadata": {},
   "source": [
    "load data:"
   ]
  },
  {
   "cell_type": "code",
   "execution_count": 4,
   "metadata": {},
   "outputs": [],
   "source": [
    "core = sc.read_h5ad(path_hlca_core)"
   ]
  },
  {
   "cell_type": "code",
   "execution_count": 5,
   "metadata": {},
   "outputs": [],
   "source": [
    "ext = sc.read_h5ad(path_hlca_ext_emb)"
   ]
  },
  {
   "cell_type": "markdown",
   "metadata": {},
   "source": [
    "## DATASET TABLE: "
   ]
  },
  {
   "cell_type": "markdown",
   "metadata": {},
   "source": [
    "creates part of the dataset info from supplementary table"
   ]
  },
  {
   "cell_type": "code",
   "execution_count": 6,
   "metadata": {},
   "outputs": [],
   "source": [
    "def get_set_as_str(x):\n",
    "    \"\"\"Function to extract string of the set of values from a dataframe column\"\"\"\n",
    "    x_set = x.unique()\n",
    "    x_set_str_list = [str(i) for i in x_set]\n",
    "    x_set_str = \", \".join(x_set_str_list)\n",
    "    return x_set_str"
   ]
  },
  {
   "cell_type": "code",
   "execution_count": 9,
   "metadata": {},
   "outputs": [],
   "source": [
    "dataset_overview = ext.obs.groupby(\"study\").agg(\n",
    "    n_datasets=(\"dataset\", \"nunique\"),\n",
    "    dataset_names=(\"dataset\", get_set_as_str),\n",
    "    core_or_extension=(\"core_or_extension\", get_set_as_str),\n",
    "    lung_condition=(\"condition\", get_set_as_str),\n",
    "    n_subjects=(\"subject_ID\", \"nunique\"),\n",
    "    n_samples=(\"sample\", \"nunique\"),\n",
    "    n_cells=(\"study\", \"count\"),\n",
    "    cells_or_nuclei=(\"cells_or_nuclei\", get_set_as_str),\n",
    "    single_cell_platform=(\"single_cell_platform\", get_set_as_str),\n",
    "    tissue_sampling_type=(\"sample_type\", get_set_as_str),\n",
    ")"
   ]
  },
  {
   "cell_type": "code",
   "execution_count": 10,
   "metadata": {},
   "outputs": [],
   "source": [
    "dataset_overview[\"in_core\"] = [\n",
    "    \"core\" in c_or_e for c_or_e in dataset_overview.core_or_extension\n",
    "]"
   ]
  },
  {
   "cell_type": "code",
   "execution_count": 11,
   "metadata": {},
   "outputs": [],
   "source": [
    "dataset_overview.sort_values(\n",
    "    by=[\"in_core\", \"study\"], ascending=[False, True], inplace=True\n",
    ")"
   ]
  },
  {
   "cell_type": "markdown",
   "metadata": {},
   "source": [
    "## SAMPLE TABLE"
   ]
  },
  {
   "cell_type": "code",
   "execution_count": 236,
   "metadata": {},
   "outputs": [],
   "source": [
    "agg_vars = [\n",
    "    \"study\",\n",
    "    \"dataset\",\n",
    "    \"subject_ID\",\n",
    "    \"age\",\n",
    "    \"sex\",\n",
    "    \"ethnicity\",\n",
    "    \"mixed_ethnicity\",\n",
    "    \"smoking_status\",\n",
    "    \"BMI\",\n",
    "    \"condition\",\n",
    "    \"subject_type\",\n",
    "    \"cause_of_death\",\n",
    "    \"sample_type\",\n",
    "    \"single_cell_platform\",\n",
    "    \"3'_or_5'\",\n",
    "    \"sequencing_platform\",\n",
    "    \"cell_ranger_version\",\n",
    "    \"fresh_or_frozen\",\n",
    "    \"anatomical_region_level_1\",\n",
    "    \"anatomical_region_level_2\",\n",
    "    \"anatomical_region_level_3\",\n",
    "    \"cells_or_nuclei\",\n",
    "]"
   ]
  },
  {
   "cell_type": "markdown",
   "metadata": {},
   "source": [
    "sanity check: check if any sample has multiple values for any of these covariates (should not be the case):"
   ]
  },
  {
   "cell_type": "code",
   "execution_count": 237,
   "metadata": {},
   "outputs": [],
   "source": [
    "agg_style = \"nunique\"\n",
    "sample_unique_covs = core.obs.groupby(\"sample\").agg(\n",
    "    {var: agg_style for var in agg_vars}\n",
    ")"
   ]
  },
  {
   "cell_type": "markdown",
   "metadata": {},
   "source": [
    "This should be 0:"
   ]
  },
  {
   "cell_type": "code",
   "execution_count": 238,
   "metadata": {},
   "outputs": [
    {
     "data": {
      "text/plain": [
       "0"
      ]
     },
     "execution_count": 238,
     "metadata": {},
     "output_type": "execute_result"
    }
   ],
   "source": [
    "(sample_unique_covs > 1).sum().sum()"
   ]
  },
  {
   "cell_type": "markdown",
   "metadata": {},
   "source": [
    "Now aggregate actual values per sample:"
   ]
  },
  {
   "cell_type": "code",
   "execution_count": 270,
   "metadata": {},
   "outputs": [],
   "source": [
    "agg_style = \"first\"\n",
    "core_cov_values = core.obs.groupby(\"sample\").agg({var: agg_style for var in agg_vars})"
   ]
  },
  {
   "cell_type": "markdown",
   "metadata": {},
   "source": [
    "for anatomical region, remove forward-propagated labels:"
   ]
  },
  {
   "cell_type": "code",
   "execution_count": 271,
   "metadata": {},
   "outputs": [],
   "source": [
    "for lev in range(1, 4):\n",
    "    cov = f\"anatomical_region_level_{lev}\"\n",
    "    mapping = {loc: loc for loc in core_cov_values[cov].unique()}\n",
    "    for key, value in mapping.items():\n",
    "        if key[:2] in [\"1_\", \"2_\"]:\n",
    "            mapping[key] = np.nan\n",
    "    core_cov_values[cov] = core_cov_values[cov].map(mapping)"
   ]
  },
  {
   "cell_type": "markdown",
   "metadata": {},
   "source": [
    "set condition \"nan\" to \"healthy\" (these are all healthy lungs unless specified otherwise):"
   ]
  },
  {
   "cell_type": "code",
   "execution_count": 272,
   "metadata": {},
   "outputs": [],
   "source": [
    "core_cov_values.loc[core_cov_values.condition == \"nan\", \"condition\"] = \"healthy\""
   ]
  },
  {
   "cell_type": "code",
   "execution_count": 273,
   "metadata": {},
   "outputs": [],
   "source": [
    "core_cov_values.rename(columns={\"condition\": \"lung_condition\"}, inplace=True)"
   ]
  },
  {
   "cell_type": "markdown",
   "metadata": {},
   "source": [
    "put \"v\" before cell ranger version, to prevent conversion to dates in excel:"
   ]
  },
  {
   "cell_type": "code",
   "execution_count": 274,
   "metadata": {},
   "outputs": [],
   "source": [
    "cell_ranger_cleaner = {\n",
    "    v: f\"v.{v}\" for v in core_cov_values.cell_ranger_version.unique()\n",
    "}\n",
    "cell_ranger_cleaner[\"nan\"] = \"nan\"\n",
    "core_cov_values.cell_ranger_version = core_cov_values.cell_ranger_version.map(\n",
    "    cell_ranger_cleaner\n",
    ")"
   ]
  },
  {
   "cell_type": "code",
   "execution_count": 275,
   "metadata": {},
   "outputs": [
    {
     "data": {
      "text/plain": [
       "array(['had TB as a child (fully treated over 30+ years)', 'healthy',\n",
       "       'worsening respiratory function prior to arrest',\n",
       "       'non-small cell lung cancer', 'carcinoid'], dtype=object)"
      ]
     },
     "execution_count": 275,
     "metadata": {},
     "output_type": "execute_result"
    }
   ],
   "source": [
    "core_cov_values.lung_condition.unique()"
   ]
  },
  {
   "cell_type": "code",
   "execution_count": 276,
   "metadata": {},
   "outputs": [
    {
     "data": {
      "text/plain": [
       "AnnData object with n_obs × n_vars = 2232536 × 30\n",
       "    obs: 'dataset', 'study', 'manual_ann', 'ann_level_1', 'ann_level_2', 'ann_level_3', 'ann_level_4', 'ann_level_5', 'condition', 'single_cell_platform', 'disease', 'cells_or_nuclei', 'HLCA_or_query', 'subject_ID', 'sample', 'sample_type', 'age', 'sex', 'ethnicity', 'BMI', 'smoking_status', 'anatomical_region_level_1', 'anatomical_region_level_2', 'anatomical_region_level_3', 'original_celltype_ann', 'original_ann_level_1', 'original_ann_level_2', 'original_ann_level_3', 'original_ann_level_4', 'original_ann_level_5', 'original_ann_level_1_clean', 'original_ann_level_2_clean', 'original_ann_level_3_clean', 'original_ann_level_4_clean', 'original_ann_level_5_clean', 'manual_ann_grouped'\n",
       "    uns: 'HLCA_or_query_colors', 'cells_or_nuclei_colors', 'condition_colors', 'dataset_colors', 'disease_colors', 'manual_ann_colors', 'neighbors', 'original_ann_level_1_colors', 'original_ann_level_3_clean_colors', 'single_cell_platform_colors', 'study_colors', 'umap'\n",
       "    obsm: 'X_umap'\n",
       "    obsp: 'connectivities', 'distances'"
      ]
     },
     "execution_count": 276,
     "metadata": {},
     "output_type": "execute_result"
    }
   ],
   "source": [
    "ext"
   ]
  },
  {
   "cell_type": "code",
   "execution_count": 277,
   "metadata": {},
   "outputs": [],
   "source": [
    "covs_ext = [\n",
    "    \"dataset\",\n",
    "    \"study\",\n",
    "    \"subject_ID\",\n",
    "    \"condition\",\n",
    "    \"sample_type\",\n",
    "    \"age\",\n",
    "    \"sex\",\n",
    "    \"ethnicity\",\n",
    "    \"BMI\",\n",
    "    \"smoking_status\",\n",
    "    \"anatomical_region_level_1\",\n",
    "    \"anatomical_region_level_2\",\n",
    "    \"anatomical_region_level_3\",\n",
    "    #     \"single_cell_platform\", excluding this as it needs to be cleaned up a lot\n",
    "    \"cells_or_nuclei\",\n",
    "    \"HLCA_or_query\",\n",
    "]"
   ]
  },
  {
   "cell_type": "code",
   "execution_count": 278,
   "metadata": {},
   "outputs": [],
   "source": [
    "ext_nunique_covs = ext.obs.groupby(\"sample\").agg({cov: \"nunique\" for cov in covs_ext})"
   ]
  },
  {
   "cell_type": "code",
   "execution_count": 279,
   "metadata": {},
   "outputs": [
    {
     "data": {
      "text/plain": [
       "0"
      ]
     },
     "execution_count": 279,
     "metadata": {},
     "output_type": "execute_result"
    }
   ],
   "source": [
    "(ext_nunique_covs > 1).sum().sum()"
   ]
  },
  {
   "cell_type": "code",
   "execution_count": 280,
   "metadata": {},
   "outputs": [],
   "source": [
    "ext_cov_values = ext.obs.groupby(\"sample\").agg({cov: \"first\" for cov in covs_ext})"
   ]
  },
  {
   "cell_type": "markdown",
   "metadata": {},
   "source": [
    "drop all HLCA core samples, as we already got more detailed metadata for those above:"
   ]
  },
  {
   "cell_type": "code",
   "execution_count": 281,
   "metadata": {},
   "outputs": [],
   "source": [
    "ext_cov_values = ext_cov_values.loc[ext_cov_values.HLCA_or_query != \"HLCA\", :]"
   ]
  },
  {
   "cell_type": "code",
   "execution_count": 282,
   "metadata": {},
   "outputs": [
    {
     "data": {
      "text/html": [
       "<div>\n",
       "<style scoped>\n",
       "    .dataframe tbody tr th:only-of-type {\n",
       "        vertical-align: middle;\n",
       "    }\n",
       "\n",
       "    .dataframe tbody tr th {\n",
       "        vertical-align: top;\n",
       "    }\n",
       "\n",
       "    .dataframe thead th {\n",
       "        text-align: right;\n",
       "    }\n",
       "</style>\n",
       "<table border=\"1\" class=\"dataframe\">\n",
       "  <thead>\n",
       "    <tr style=\"text-align: right;\">\n",
       "      <th></th>\n",
       "      <th>dataset</th>\n",
       "      <th>study</th>\n",
       "      <th>subject_ID</th>\n",
       "      <th>condition</th>\n",
       "      <th>sample_type</th>\n",
       "      <th>age</th>\n",
       "      <th>sex</th>\n",
       "      <th>ethnicity</th>\n",
       "      <th>BMI</th>\n",
       "      <th>smoking_status</th>\n",
       "      <th>anatomical_region_level_1</th>\n",
       "      <th>anatomical_region_level_2</th>\n",
       "      <th>anatomical_region_level_3</th>\n",
       "      <th>cells_or_nuclei</th>\n",
       "      <th>HLCA_or_query</th>\n",
       "    </tr>\n",
       "    <tr>\n",
       "      <th>sample</th>\n",
       "      <th></th>\n",
       "      <th></th>\n",
       "      <th></th>\n",
       "      <th></th>\n",
       "      <th></th>\n",
       "      <th></th>\n",
       "      <th></th>\n",
       "      <th></th>\n",
       "      <th></th>\n",
       "      <th></th>\n",
       "      <th></th>\n",
       "      <th></th>\n",
       "      <th></th>\n",
       "      <th></th>\n",
       "      <th></th>\n",
       "    </tr>\n",
       "  </thead>\n",
       "  <tbody>\n",
       "    <tr>\n",
       "      <th>1A1DFBng</th>\n",
       "      <td>Eils_2020</td>\n",
       "      <td>Eils_2020</td>\n",
       "      <td>1A1DFBng</td>\n",
       "      <td>Healthy</td>\n",
       "      <td>surgical_resection</td>\n",
       "      <td>47.0</td>\n",
       "      <td>F</td>\n",
       "      <td>nan</td>\n",
       "      <td>NaN</td>\n",
       "      <td>active</td>\n",
       "      <td>nan</td>\n",
       "      <td>nan</td>\n",
       "      <td>nan</td>\n",
       "      <td>nuclei</td>\n",
       "      <td>Query</td>\n",
       "    </tr>\n",
       "    <tr>\n",
       "      <th>001C</th>\n",
       "      <td>Kaminski_2020</td>\n",
       "      <td>Kaminski_2020</td>\n",
       "      <td>001C</td>\n",
       "      <td>Control</td>\n",
       "      <td>donor_lung</td>\n",
       "      <td>nan</td>\n",
       "      <td>nan</td>\n",
       "      <td>nan</td>\n",
       "      <td>NaN</td>\n",
       "      <td>nan</td>\n",
       "      <td>nan</td>\n",
       "      <td>nan</td>\n",
       "      <td>nan</td>\n",
       "      <td>cells</td>\n",
       "      <td>Query</td>\n",
       "    </tr>\n",
       "    <tr>\n",
       "      <th>002C</th>\n",
       "      <td>Kaminski_2020</td>\n",
       "      <td>Kaminski_2020</td>\n",
       "      <td>002C</td>\n",
       "      <td>Control</td>\n",
       "      <td>donor_lung</td>\n",
       "      <td>nan</td>\n",
       "      <td>nan</td>\n",
       "      <td>nan</td>\n",
       "      <td>NaN</td>\n",
       "      <td>nan</td>\n",
       "      <td>nan</td>\n",
       "      <td>nan</td>\n",
       "      <td>nan</td>\n",
       "      <td>cells</td>\n",
       "      <td>Query</td>\n",
       "    </tr>\n",
       "    <tr>\n",
       "      <th>003C</th>\n",
       "      <td>Kaminski_2020</td>\n",
       "      <td>Kaminski_2020</td>\n",
       "      <td>003C</td>\n",
       "      <td>Control</td>\n",
       "      <td>donor_lung</td>\n",
       "      <td>nan</td>\n",
       "      <td>nan</td>\n",
       "      <td>nan</td>\n",
       "      <td>NaN</td>\n",
       "      <td>nan</td>\n",
       "      <td>nan</td>\n",
       "      <td>nan</td>\n",
       "      <td>nan</td>\n",
       "      <td>cells</td>\n",
       "      <td>Query</td>\n",
       "    </tr>\n",
       "    <tr>\n",
       "      <th>8CO</th>\n",
       "      <td>Kaminski_2020</td>\n",
       "      <td>Kaminski_2020</td>\n",
       "      <td>8CO</td>\n",
       "      <td>COPD</td>\n",
       "      <td>lung_explant</td>\n",
       "      <td>nan</td>\n",
       "      <td>nan</td>\n",
       "      <td>nan</td>\n",
       "      <td>NaN</td>\n",
       "      <td>nan</td>\n",
       "      <td>nan</td>\n",
       "      <td>nan</td>\n",
       "      <td>nan</td>\n",
       "      <td>cells</td>\n",
       "      <td>Query</td>\n",
       "    </tr>\n",
       "    <tr>\n",
       "      <th>...</th>\n",
       "      <td>...</td>\n",
       "      <td>...</td>\n",
       "      <td>...</td>\n",
       "      <td>...</td>\n",
       "      <td>...</td>\n",
       "      <td>...</td>\n",
       "      <td>...</td>\n",
       "      <td>...</td>\n",
       "      <td>...</td>\n",
       "      <td>...</td>\n",
       "      <td>...</td>\n",
       "      <td>...</td>\n",
       "      <td>...</td>\n",
       "      <td>...</td>\n",
       "      <td>...</td>\n",
       "    </tr>\n",
       "    <tr>\n",
       "      <th>scrBT1428</th>\n",
       "      <td>Thienpont_2018_10Xv2</td>\n",
       "      <td>Thienpont_2018</td>\n",
       "      <td>lambrechts_7</td>\n",
       "      <td>Squamous Cell Carcinoma</td>\n",
       "      <td>surgical_resection</td>\n",
       "      <td>nan</td>\n",
       "      <td>nan</td>\n",
       "      <td>nan</td>\n",
       "      <td>NaN</td>\n",
       "      <td>nan</td>\n",
       "      <td>nan</td>\n",
       "      <td>nan</td>\n",
       "      <td>nan</td>\n",
       "      <td>cells</td>\n",
       "      <td>Query</td>\n",
       "    </tr>\n",
       "    <tr>\n",
       "      <th>scrBT1429</th>\n",
       "      <td>Thienpont_2018_10Xv2</td>\n",
       "      <td>Thienpont_2018</td>\n",
       "      <td>lambrechts_8</td>\n",
       "      <td>Pleiomorphic Carcinoma</td>\n",
       "      <td>surgical_resection</td>\n",
       "      <td>nan</td>\n",
       "      <td>nan</td>\n",
       "      <td>nan</td>\n",
       "      <td>NaN</td>\n",
       "      <td>nan</td>\n",
       "      <td>nan</td>\n",
       "      <td>nan</td>\n",
       "      <td>nan</td>\n",
       "      <td>cells</td>\n",
       "      <td>Query</td>\n",
       "    </tr>\n",
       "    <tr>\n",
       "      <th>scrBT1430</th>\n",
       "      <td>Thienpont_2018_10Xv2</td>\n",
       "      <td>Thienpont_2018</td>\n",
       "      <td>lambrechts_8</td>\n",
       "      <td>Pleiomorphic Carcinoma</td>\n",
       "      <td>surgical_resection</td>\n",
       "      <td>nan</td>\n",
       "      <td>nan</td>\n",
       "      <td>nan</td>\n",
       "      <td>NaN</td>\n",
       "      <td>nan</td>\n",
       "      <td>nan</td>\n",
       "      <td>nan</td>\n",
       "      <td>nan</td>\n",
       "      <td>cells</td>\n",
       "      <td>Query</td>\n",
       "    </tr>\n",
       "    <tr>\n",
       "      <th>scrBT1431</th>\n",
       "      <td>Thienpont_2018_10Xv2</td>\n",
       "      <td>Thienpont_2018</td>\n",
       "      <td>lambrechts_8</td>\n",
       "      <td>Pleiomorphic Carcinoma</td>\n",
       "      <td>surgical_resection</td>\n",
       "      <td>nan</td>\n",
       "      <td>nan</td>\n",
       "      <td>nan</td>\n",
       "      <td>NaN</td>\n",
       "      <td>nan</td>\n",
       "      <td>nan</td>\n",
       "      <td>nan</td>\n",
       "      <td>nan</td>\n",
       "      <td>cells</td>\n",
       "      <td>Query</td>\n",
       "    </tr>\n",
       "    <tr>\n",
       "      <th>scrBT1432</th>\n",
       "      <td>Thienpont_2018_10Xv2</td>\n",
       "      <td>Thienpont_2018</td>\n",
       "      <td>lambrechts_8</td>\n",
       "      <td>Pleiomorphic Carcinoma</td>\n",
       "      <td>surgical_resection</td>\n",
       "      <td>nan</td>\n",
       "      <td>nan</td>\n",
       "      <td>nan</td>\n",
       "      <td>NaN</td>\n",
       "      <td>nan</td>\n",
       "      <td>nan</td>\n",
       "      <td>nan</td>\n",
       "      <td>nan</td>\n",
       "      <td>cells</td>\n",
       "      <td>Query</td>\n",
       "    </tr>\n",
       "  </tbody>\n",
       "</table>\n",
       "<p>507 rows × 15 columns</p>\n",
       "</div>"
      ],
      "text/plain": [
       "                        dataset           study    subject_ID  \\\n",
       "sample                                                          \n",
       "1A1DFBng              Eils_2020       Eils_2020      1A1DFBng   \n",
       "001C              Kaminski_2020   Kaminski_2020          001C   \n",
       "002C              Kaminski_2020   Kaminski_2020          002C   \n",
       "003C              Kaminski_2020   Kaminski_2020          003C   \n",
       "8CO               Kaminski_2020   Kaminski_2020           8CO   \n",
       "...                         ...             ...           ...   \n",
       "scrBT1428  Thienpont_2018_10Xv2  Thienpont_2018  lambrechts_7   \n",
       "scrBT1429  Thienpont_2018_10Xv2  Thienpont_2018  lambrechts_8   \n",
       "scrBT1430  Thienpont_2018_10Xv2  Thienpont_2018  lambrechts_8   \n",
       "scrBT1431  Thienpont_2018_10Xv2  Thienpont_2018  lambrechts_8   \n",
       "scrBT1432  Thienpont_2018_10Xv2  Thienpont_2018  lambrechts_8   \n",
       "\n",
       "                         condition         sample_type   age  sex ethnicity  \\\n",
       "sample                                                                        \n",
       "1A1DFBng                   Healthy  surgical_resection  47.0    F       nan   \n",
       "001C                       Control          donor_lung   nan  nan       nan   \n",
       "002C                       Control          donor_lung   nan  nan       nan   \n",
       "003C                       Control          donor_lung   nan  nan       nan   \n",
       "8CO                           COPD        lung_explant   nan  nan       nan   \n",
       "...                            ...                 ...   ...  ...       ...   \n",
       "scrBT1428  Squamous Cell Carcinoma  surgical_resection   nan  nan       nan   \n",
       "scrBT1429   Pleiomorphic Carcinoma  surgical_resection   nan  nan       nan   \n",
       "scrBT1430   Pleiomorphic Carcinoma  surgical_resection   nan  nan       nan   \n",
       "scrBT1431   Pleiomorphic Carcinoma  surgical_resection   nan  nan       nan   \n",
       "scrBT1432   Pleiomorphic Carcinoma  surgical_resection   nan  nan       nan   \n",
       "\n",
       "           BMI smoking_status anatomical_region_level_1  \\\n",
       "sample                                                    \n",
       "1A1DFBng   NaN         active                       nan   \n",
       "001C       NaN            nan                       nan   \n",
       "002C       NaN            nan                       nan   \n",
       "003C       NaN            nan                       nan   \n",
       "8CO        NaN            nan                       nan   \n",
       "...        ...            ...                       ...   \n",
       "scrBT1428  NaN            nan                       nan   \n",
       "scrBT1429  NaN            nan                       nan   \n",
       "scrBT1430  NaN            nan                       nan   \n",
       "scrBT1431  NaN            nan                       nan   \n",
       "scrBT1432  NaN            nan                       nan   \n",
       "\n",
       "          anatomical_region_level_2 anatomical_region_level_3 cells_or_nuclei  \\\n",
       "sample                                                                          \n",
       "1A1DFBng                        nan                       nan          nuclei   \n",
       "001C                            nan                       nan           cells   \n",
       "002C                            nan                       nan           cells   \n",
       "003C                            nan                       nan           cells   \n",
       "8CO                             nan                       nan           cells   \n",
       "...                             ...                       ...             ...   \n",
       "scrBT1428                       nan                       nan           cells   \n",
       "scrBT1429                       nan                       nan           cells   \n",
       "scrBT1430                       nan                       nan           cells   \n",
       "scrBT1431                       nan                       nan           cells   \n",
       "scrBT1432                       nan                       nan           cells   \n",
       "\n",
       "          HLCA_or_query  \n",
       "sample                   \n",
       "1A1DFBng          Query  \n",
       "001C              Query  \n",
       "002C              Query  \n",
       "003C              Query  \n",
       "8CO               Query  \n",
       "...                 ...  \n",
       "scrBT1428         Query  \n",
       "scrBT1429         Query  \n",
       "scrBT1430         Query  \n",
       "scrBT1431         Query  \n",
       "scrBT1432         Query  \n",
       "\n",
       "[507 rows x 15 columns]"
      ]
     },
     "execution_count": 282,
     "metadata": {},
     "output_type": "execute_result"
    }
   ],
   "source": [
    "ext_cov_values"
   ]
  },
  {
   "cell_type": "markdown",
   "metadata": {},
   "source": [
    "clean up several columns:"
   ]
  },
  {
   "cell_type": "code",
   "execution_count": 283,
   "metadata": {},
   "outputs": [],
   "source": [
    "condition_cleaner = {con: con for con in ext_cov_values.condition.unique()}"
   ]
  },
  {
   "cell_type": "code",
   "execution_count": 284,
   "metadata": {},
   "outputs": [],
   "source": [
    "condition_cleaner[\"healthy\"] = \"healthy\"\n",
    "condition_cleaner[\"Control\"] = \"healthy\""
   ]
  },
  {
   "cell_type": "code",
   "execution_count": 285,
   "metadata": {},
   "outputs": [],
   "source": [
    "sex_cleaner = {sex: sex for sex in ext_cov_values.sex.unique()}\n",
    "sex_cleaner[\"F\"] = \"female\"\n",
    "sex_cleaner[\"M\"] = \"male\"\n",
    "sex_cleaner[\"Female\"] = \"female\"\n",
    "sex_cleaner[\"Male\"] = \"male\""
   ]
  },
  {
   "cell_type": "code",
   "execution_count": 286,
   "metadata": {},
   "outputs": [],
   "source": [
    "ethnicity_cleaner = {eth: eth for eth in ext_cov_values.ethnicity.unique()}\n",
    "ethnicity_cleaner[\"Latina\"] = \"latino\"\n",
    "ethnicity_cleaner[\"None\"] = \"nan\""
   ]
  },
  {
   "cell_type": "code",
   "execution_count": 287,
   "metadata": {},
   "outputs": [],
   "source": [
    "ext_cov_values.condition = ext_cov_values.condition.map(condition_cleaner)\n",
    "ext_cov_values.sex = ext_cov_values.sex.map(sex_cleaner)\n",
    "ext_cov_values.ethnicity = ext_cov_values.ethnicity.map(ethnicity_cleaner)"
   ]
  },
  {
   "cell_type": "code",
   "execution_count": 288,
   "metadata": {},
   "outputs": [],
   "source": [
    "ext_cov_values.rename(\n",
    "    columns={\"HLCA_or_query\": \"HLCA_core_or_extension\", \"condition\": \"lung_condition\"},\n",
    "    inplace=True,\n",
    ")\n",
    "ext_cov_values[\"HLCA_core_or_extension\"] = \"extension\""
   ]
  },
  {
   "cell_type": "markdown",
   "metadata": {},
   "source": [
    "Concatenate core and extended data:"
   ]
  },
  {
   "cell_type": "code",
   "execution_count": 289,
   "metadata": {},
   "outputs": [],
   "source": [
    "core_cov_values[\"HLCA_core_or_extension\"] = \"core\""
   ]
  },
  {
   "cell_type": "markdown",
   "metadata": {},
   "source": [
    "convert categoricals to lists:"
   ]
  },
  {
   "cell_type": "code",
   "execution_count": 290,
   "metadata": {},
   "outputs": [],
   "source": [
    "ext_cov_values.index = ext_cov_values.index.tolist()\n",
    "core_cov_values.index = core_cov_values.index.tolist()"
   ]
  },
  {
   "cell_type": "code",
   "execution_count": 291,
   "metadata": {},
   "outputs": [],
   "source": [
    "sample_table = pd.concat((core_cov_values, ext_cov_values), axis=0, join=\"outer\")"
   ]
  },
  {
   "cell_type": "code",
   "execution_count": 292,
   "metadata": {},
   "outputs": [],
   "source": [
    "columns_reordered = [\"HLCA_core_or_extension\"] + [\n",
    "    col for col in sample_table.columns if not col == \"HLCA_core_or_extension\"\n",
    "]"
   ]
  },
  {
   "cell_type": "code",
   "execution_count": 293,
   "metadata": {},
   "outputs": [],
   "source": [
    "sample_table = sample_table.loc[:, columns_reordered]"
   ]
  },
  {
   "cell_type": "code",
   "execution_count": 294,
   "metadata": {},
   "outputs": [],
   "source": [
    "sample_table.index.name = \"sample\""
   ]
  },
  {
   "cell_type": "code",
   "execution_count": 295,
   "metadata": {},
   "outputs": [],
   "source": [
    "sample_table.sort_values(\n",
    "    by=[\"HLCA_core_or_extension\", \"study\", \"dataset\", \"subject_ID\", \"sample\"],\n",
    "    inplace=True,\n",
    ")"
   ]
  },
  {
   "cell_type": "markdown",
   "metadata": {},
   "source": [
    "write:"
   ]
  },
  {
   "cell_type": "code",
   "execution_count": 297,
   "metadata": {},
   "outputs": [],
   "source": [
    "sample_table.to_csv(\"../suppl_tables/SuppT_sample_overview.csv\")"
   ]
  },
  {
   "cell_type": "markdown",
   "metadata": {},
   "source": [
    "## Cell type reference mapping:"
   ]
  },
  {
   "cell_type": "code",
   "execution_count": 299,
   "metadata": {},
   "outputs": [],
   "source": [
    "cell_reference_path = \"../LCA_metadata/LCA_cell_type_reference_mapping_20211103.csv\""
   ]
  },
  {
   "cell_type": "code",
   "execution_count": 301,
   "metadata": {},
   "outputs": [],
   "source": [
    "harmonizing_df = reference_based_harmonizing.load_harmonizing_table(cell_reference_path)\n",
    "# consensus_df = reference_based_harmonizing.create_consensus_table(harmonizing_df)"
   ]
  },
  {
   "cell_type": "markdown",
   "metadata": {},
   "source": [
    "remove columns after first \"unnamed\" column:"
   ]
  },
  {
   "cell_type": "code",
   "execution_count": 310,
   "metadata": {},
   "outputs": [],
   "source": [
    "last_column = np.where(harmonizing_df.columns.str.startswith(\"Unnamed\"))[0][0]"
   ]
  },
  {
   "cell_type": "code",
   "execution_count": 314,
   "metadata": {},
   "outputs": [],
   "source": [
    "harmonizing_df = harmonizing_df.iloc[:, :last_column]"
   ]
  },
  {
   "cell_type": "code",
   "execution_count": 320,
   "metadata": {},
   "outputs": [
    {
     "name": "stderr",
     "output_type": "stream",
     "text": [
      "/home/icb/lisa.sikkema/miniconda3/envs/scRNAseq_analysis/lib/python3.7/site-packages/ipykernel_launcher.py:1: SettingWithCopyWarning: \n",
      "A value is trying to be set on a copy of a slice from a DataFrame\n",
      "\n",
      "See the caveats in the documentation: https://pandas.pydata.org/pandas-docs/stable/user_guide/indexing.html#returning-a-view-versus-a-copy\n",
      "  \"\"\"Entry point for launching an IPython kernel.\n",
      "/home/icb/lisa.sikkema/miniconda3/envs/scRNAseq_analysis/lib/python3.7/site-packages/ipykernel_launcher.py:2: SettingWithCopyWarning: \n",
      "A value is trying to be set on a copy of a slice from a DataFrame\n",
      "\n",
      "See the caveats in the documentation: https://pandas.pydata.org/pandas-docs/stable/user_guide/indexing.html#returning-a-view-versus-a-copy\n",
      "  \n"
     ]
    }
   ],
   "source": [
    "harmonizing_df.dropna(axis=0, how=\"all\", inplace=True)\n",
    "harmonizing_df.dropna(axis=1, how=\"all\", inplace=True)"
   ]
  },
  {
   "cell_type": "code",
   "execution_count": 322,
   "metadata": {},
   "outputs": [],
   "source": [
    "harmonizing_df.to_csv(\"../suppl_tables/SuppT_celltype_ref_mapping.csv\")"
   ]
  },
  {
   "cell_type": "markdown",
   "metadata": {},
   "source": [
    "## Manual annotations, hierarchy:"
   ]
  },
  {
   "cell_type": "code",
   "execution_count": 68,
   "metadata": {},
   "outputs": [],
   "source": [
    "manual_ann_hierarchy = pd.read_csv(path_manual_anns_in, index_col=0)"
   ]
  },
  {
   "cell_type": "code",
   "execution_count": 69,
   "metadata": {},
   "outputs": [],
   "source": [
    "manual_ann_hierarchy.drop(columns=[\"ordering\", \"colors\"], inplace=True)"
   ]
  },
  {
   "cell_type": "code",
   "execution_count": 70,
   "metadata": {},
   "outputs": [],
   "source": [
    "manual_ann_hierarchy.columns = [\n",
    "    f\"Level {lev} annotation (% of cells)\" for lev in range(1, 6)\n",
    "]"
   ]
  },
  {
   "cell_type": "code",
   "execution_count": 71,
   "metadata": {},
   "outputs": [],
   "source": [
    "ct_perc_per_lev = dict()\n",
    "for lev in range(1, 6):\n",
    "    ct_perc = round(core.obs[f\"ann_level_{lev}\"].value_counts() / core.n_obs * 100, 1)\n",
    "    ct_perc_per_lev[lev] = ct_perc\n",
    "ct_perc_per_lev[\"finest\"] = round(\n",
    "    core.obs.manual_ann.value_counts() / core.n_obs * 100, 1\n",
    ")"
   ]
  },
  {
   "cell_type": "code",
   "execution_count": 72,
   "metadata": {},
   "outputs": [
    {
     "data": {
      "text/plain": [
       "Epithelial     48.2\n",
       "Immune         39.2\n",
       "Endothelial     8.2\n",
       "Stroma          4.3\n",
       "Name: ann_level_1, dtype: float64"
      ]
     },
     "execution_count": 72,
     "metadata": {},
     "output_type": "execute_result"
    }
   ],
   "source": [
    "ct_perc_per_lev[1]"
   ]
  },
  {
   "cell_type": "code",
   "execution_count": 73,
   "metadata": {},
   "outputs": [],
   "source": [
    "new_index = list()\n",
    "for ct in manual_ann_hierarchy.index:\n",
    "    new_index.append(f\"{ct} ({ct_perc_per_lev['finest'][ct]})\")\n",
    "manual_ann_hierarchy.index = new_index"
   ]
  },
  {
   "cell_type": "code",
   "execution_count": 74,
   "metadata": {},
   "outputs": [],
   "source": [
    "for lev in range(1, 6):\n",
    "    new_values_uncleaned = [\n",
    "        f\"{ct} ({ct_perc_per_lev[lev][ct]})\"\n",
    "        for ct in manual_ann_hierarchy[f\"Level {lev} annotation (% of cells)\"]\n",
    "    ]\n",
    "    new_values = list()\n",
    "    for ct in new_values_uncleaned:\n",
    "        if ct[:2] in [\"1_\", \"2_\", \"3_\", \"4_\"]:\n",
    "            new_values.append(np.nan)\n",
    "        else:\n",
    "            new_values.append(ct)\n",
    "    manual_ann_hierarchy[f\"Level {lev} annotation (% of cells)\"] = new_values"
   ]
  },
  {
   "cell_type": "code",
   "execution_count": 75,
   "metadata": {},
   "outputs": [],
   "source": [
    "manual_ann_hierarchy.index.name = \"Finest annotation (% of cells)\""
   ]
  },
  {
   "cell_type": "code",
   "execution_count": 76,
   "metadata": {},
   "outputs": [
    {
     "data": {
      "text/html": [
       "<div>\n",
       "<style scoped>\n",
       "    .dataframe tbody tr th:only-of-type {\n",
       "        vertical-align: middle;\n",
       "    }\n",
       "\n",
       "    .dataframe tbody tr th {\n",
       "        vertical-align: top;\n",
       "    }\n",
       "\n",
       "    .dataframe thead th {\n",
       "        text-align: right;\n",
       "    }\n",
       "</style>\n",
       "<table border=\"1\" class=\"dataframe\">\n",
       "  <thead>\n",
       "    <tr style=\"text-align: right;\">\n",
       "      <th></th>\n",
       "      <th>Level 1 annotation (% of cells)</th>\n",
       "      <th>Level 2 annotation (% of cells)</th>\n",
       "      <th>Level 3 annotation (% of cells)</th>\n",
       "      <th>Level 4 annotation (% of cells)</th>\n",
       "      <th>Level 5 annotation (% of cells)</th>\n",
       "    </tr>\n",
       "    <tr>\n",
       "      <th>Finest annotation (% of cells)</th>\n",
       "      <th></th>\n",
       "      <th></th>\n",
       "      <th></th>\n",
       "      <th></th>\n",
       "      <th></th>\n",
       "    </tr>\n",
       "  </thead>\n",
       "  <tbody>\n",
       "    <tr>\n",
       "      <th>Basal resting (6.7)</th>\n",
       "      <td>Epithelial (48.2)</td>\n",
       "      <td>Airway epithelium (35.4)</td>\n",
       "      <td>Basal (14.5)</td>\n",
       "      <td>Basal resting (6.7)</td>\n",
       "      <td>NaN</td>\n",
       "    </tr>\n",
       "    <tr>\n",
       "      <th>Suprabasal (7.0)</th>\n",
       "      <td>Epithelial (48.2)</td>\n",
       "      <td>Airway epithelium (35.4)</td>\n",
       "      <td>Basal (14.5)</td>\n",
       "      <td>Suprabasal (7.0)</td>\n",
       "      <td>NaN</td>\n",
       "    </tr>\n",
       "    <tr>\n",
       "      <th>Hillock-like (0.8)</th>\n",
       "      <td>Epithelial (48.2)</td>\n",
       "      <td>Airway epithelium (35.4)</td>\n",
       "      <td>Basal (14.5)</td>\n",
       "      <td>Hillock-like (0.8)</td>\n",
       "      <td>NaN</td>\n",
       "    </tr>\n",
       "    <tr>\n",
       "      <th>Deuterosomal (0.2)</th>\n",
       "      <td>Epithelial (48.2)</td>\n",
       "      <td>Airway epithelium (35.4)</td>\n",
       "      <td>Multiciliated lineage (7.0)</td>\n",
       "      <td>Deuterosomal (0.2)</td>\n",
       "      <td>NaN</td>\n",
       "    </tr>\n",
       "    <tr>\n",
       "      <th>Multiciliated (nasal) (0.8)</th>\n",
       "      <td>Epithelial (48.2)</td>\n",
       "      <td>Airway epithelium (35.4)</td>\n",
       "      <td>Multiciliated lineage (7.0)</td>\n",
       "      <td>Multiciliated (6.9)</td>\n",
       "      <td>Multiciliated (nasal) (0.8)</td>\n",
       "    </tr>\n",
       "    <tr>\n",
       "      <th>...</th>\n",
       "      <td>...</td>\n",
       "      <td>...</td>\n",
       "      <td>...</td>\n",
       "      <td>...</td>\n",
       "      <td>...</td>\n",
       "    </tr>\n",
       "    <tr>\n",
       "      <th>Monocyte-derived Mph (4.8)</th>\n",
       "      <td>Immune (39.2)</td>\n",
       "      <td>Myeloid (26.6)</td>\n",
       "      <td>Macrophages (19.1)</td>\n",
       "      <td>Interstitial macrophages (5.6)</td>\n",
       "      <td>Monocyte-derived Mph (4.8)</td>\n",
       "    </tr>\n",
       "    <tr>\n",
       "      <th>Interstitial Mph perivascular (0.8)</th>\n",
       "      <td>Immune (39.2)</td>\n",
       "      <td>Myeloid (26.6)</td>\n",
       "      <td>Macrophages (19.1)</td>\n",
       "      <td>Interstitial macrophages (5.6)</td>\n",
       "      <td>Interstitial Mph perivascular (0.8)</td>\n",
       "    </tr>\n",
       "    <tr>\n",
       "      <th>Classical monocytes (3.0)</th>\n",
       "      <td>Immune (39.2)</td>\n",
       "      <td>Myeloid (26.6)</td>\n",
       "      <td>Monocytes (4.5)</td>\n",
       "      <td>Classical monocytes (3.0)</td>\n",
       "      <td>NaN</td>\n",
       "    </tr>\n",
       "    <tr>\n",
       "      <th>Non-classical monocytes (1.5)</th>\n",
       "      <td>Immune (39.2)</td>\n",
       "      <td>Myeloid (26.6)</td>\n",
       "      <td>Monocytes (4.5)</td>\n",
       "      <td>Non-classical monocytes (1.5)</td>\n",
       "      <td>NaN</td>\n",
       "    </tr>\n",
       "    <tr>\n",
       "      <th>Mast cells (1.1)</th>\n",
       "      <td>Immune (39.2)</td>\n",
       "      <td>Myeloid (26.6)</td>\n",
       "      <td>Mast cells (1.1)</td>\n",
       "      <td>NaN</td>\n",
       "      <td>NaN</td>\n",
       "    </tr>\n",
       "  </tbody>\n",
       "</table>\n",
       "<p>61 rows × 5 columns</p>\n",
       "</div>"
      ],
      "text/plain": [
       "                                    Level 1 annotation (% of cells)  \\\n",
       "Finest annotation (% of cells)                                        \n",
       "Basal resting (6.7)                               Epithelial (48.2)   \n",
       "Suprabasal (7.0)                                  Epithelial (48.2)   \n",
       "Hillock-like (0.8)                                Epithelial (48.2)   \n",
       "Deuterosomal (0.2)                                Epithelial (48.2)   \n",
       "Multiciliated (nasal) (0.8)                       Epithelial (48.2)   \n",
       "...                                                             ...   \n",
       "Monocyte-derived Mph (4.8)                            Immune (39.2)   \n",
       "Interstitial Mph perivascular (0.8)                   Immune (39.2)   \n",
       "Classical monocytes (3.0)                             Immune (39.2)   \n",
       "Non-classical monocytes (1.5)                         Immune (39.2)   \n",
       "Mast cells (1.1)                                      Immune (39.2)   \n",
       "\n",
       "                                    Level 2 annotation (% of cells)  \\\n",
       "Finest annotation (% of cells)                                        \n",
       "Basal resting (6.7)                        Airway epithelium (35.4)   \n",
       "Suprabasal (7.0)                           Airway epithelium (35.4)   \n",
       "Hillock-like (0.8)                         Airway epithelium (35.4)   \n",
       "Deuterosomal (0.2)                         Airway epithelium (35.4)   \n",
       "Multiciliated (nasal) (0.8)                Airway epithelium (35.4)   \n",
       "...                                                             ...   \n",
       "Monocyte-derived Mph (4.8)                           Myeloid (26.6)   \n",
       "Interstitial Mph perivascular (0.8)                  Myeloid (26.6)   \n",
       "Classical monocytes (3.0)                            Myeloid (26.6)   \n",
       "Non-classical monocytes (1.5)                        Myeloid (26.6)   \n",
       "Mast cells (1.1)                                     Myeloid (26.6)   \n",
       "\n",
       "                                    Level 3 annotation (% of cells)  \\\n",
       "Finest annotation (% of cells)                                        \n",
       "Basal resting (6.7)                                    Basal (14.5)   \n",
       "Suprabasal (7.0)                                       Basal (14.5)   \n",
       "Hillock-like (0.8)                                     Basal (14.5)   \n",
       "Deuterosomal (0.2)                      Multiciliated lineage (7.0)   \n",
       "Multiciliated (nasal) (0.8)             Multiciliated lineage (7.0)   \n",
       "...                                                             ...   \n",
       "Monocyte-derived Mph (4.8)                       Macrophages (19.1)   \n",
       "Interstitial Mph perivascular (0.8)              Macrophages (19.1)   \n",
       "Classical monocytes (3.0)                           Monocytes (4.5)   \n",
       "Non-classical monocytes (1.5)                       Monocytes (4.5)   \n",
       "Mast cells (1.1)                                   Mast cells (1.1)   \n",
       "\n",
       "                                    Level 4 annotation (% of cells)  \\\n",
       "Finest annotation (% of cells)                                        \n",
       "Basal resting (6.7)                             Basal resting (6.7)   \n",
       "Suprabasal (7.0)                                   Suprabasal (7.0)   \n",
       "Hillock-like (0.8)                               Hillock-like (0.8)   \n",
       "Deuterosomal (0.2)                               Deuterosomal (0.2)   \n",
       "Multiciliated (nasal) (0.8)                     Multiciliated (6.9)   \n",
       "...                                                             ...   \n",
       "Monocyte-derived Mph (4.8)           Interstitial macrophages (5.6)   \n",
       "Interstitial Mph perivascular (0.8)  Interstitial macrophages (5.6)   \n",
       "Classical monocytes (3.0)                 Classical monocytes (3.0)   \n",
       "Non-classical monocytes (1.5)         Non-classical monocytes (1.5)   \n",
       "Mast cells (1.1)                                                NaN   \n",
       "\n",
       "                                         Level 5 annotation (% of cells)  \n",
       "Finest annotation (% of cells)                                            \n",
       "Basal resting (6.7)                                                  NaN  \n",
       "Suprabasal (7.0)                                                     NaN  \n",
       "Hillock-like (0.8)                                                   NaN  \n",
       "Deuterosomal (0.2)                                                   NaN  \n",
       "Multiciliated (nasal) (0.8)                  Multiciliated (nasal) (0.8)  \n",
       "...                                                                  ...  \n",
       "Monocyte-derived Mph (4.8)                    Monocyte-derived Mph (4.8)  \n",
       "Interstitial Mph perivascular (0.8)  Interstitial Mph perivascular (0.8)  \n",
       "Classical monocytes (3.0)                                            NaN  \n",
       "Non-classical monocytes (1.5)                                        NaN  \n",
       "Mast cells (1.1)                                                     NaN  \n",
       "\n",
       "[61 rows x 5 columns]"
      ]
     },
     "execution_count": 76,
     "metadata": {},
     "output_type": "execute_result"
    }
   ],
   "source": [
    "manual_ann_hierarchy"
   ]
  },
  {
   "cell_type": "markdown",
   "metadata": {},
   "source": [
    "## Store tables:"
   ]
  },
  {
   "cell_type": "code",
   "execution_count": 12,
   "metadata": {},
   "outputs": [],
   "source": [
    "dataset_overview.to_csv(\n",
    "    os.path.join(dir_supp_tables_out, \"SuppT_X_dataset_overview.csv\")\n",
    ")"
   ]
  },
  {
   "cell_type": "code",
   "execution_count": 77,
   "metadata": {},
   "outputs": [],
   "source": [
    "manual_ann_hierarchy.to_csv(os.path.join(dir_supp_tables_out, \"SuppT_X_manual_ann.csv\"))"
   ]
  },
  {
   "cell_type": "code",
   "execution_count": null,
   "metadata": {},
   "outputs": [],
   "source": []
  }
 ],
 "metadata": {
  "kernelspec": {
   "display_name": "Python 3 (ipykernel)",
   "language": "python",
   "name": "python3"
  },
  "language_info": {
   "codemirror_mode": {
    "name": "ipython",
    "version": 3
   },
   "file_extension": ".py",
   "mimetype": "text/x-python",
   "name": "python",
   "nbconvert_exporter": "python",
   "pygments_lexer": "ipython3",
   "version": "3.7.13"
  }
 },
 "nbformat": 4,
 "nbformat_minor": 4
}
