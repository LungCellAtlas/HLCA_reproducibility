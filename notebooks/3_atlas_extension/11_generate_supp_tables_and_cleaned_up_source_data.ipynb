{
 "cells": [
  {
   "cell_type": "markdown",
   "metadata": {},
   "source": [
    "# GENERATION OF SEVERAL SUPPLEMENTARY TABLES + CLEANED-UP SOURCE DATA"
   ]
  },
  {
   "cell_type": "markdown",
   "metadata": {},
   "source": [
    "load modules:"
   ]
  },
  {
   "cell_type": "code",
   "execution_count": 1,
   "metadata": {},
   "outputs": [],
   "source": [
    "import scanpy as sc\n",
    "import pandas as pd\n",
    "import numpy as np\n",
    "import sys\n",
    "import os\n",
    "\n",
    "sys.path.append(\"../../scripts/\")\n",
    "import reference_based_harmonizing\n",
    "import utils"
   ]
  },
  {
   "cell_type": "code",
   "execution_count": 2,
   "metadata": {},
   "outputs": [],
   "source": [
    "%load_ext lab_black"
   ]
  },
  {
   "cell_type": "markdown",
   "metadata": {},
   "source": [
    "set paths:"
   ]
  },
  {
   "cell_type": "code",
   "execution_count": 3,
   "metadata": {},
   "outputs": [],
   "source": [
    "path_hlca_core = \"../../data/HLCA_core_h5ads/HLCA_v2.h5ad\"\n",
    "path_hlca_core_clean_out = (\n",
    "    \"../../data/HLCA_core_h5ads/clean_objects_to_share/HLCA_core_v1.1_to_share.h5ad\"\n",
    ")\n",
    "path_hlca_ext_emb = (\n",
    "    \"../../data/HLCA_extended/HLCA_extended/HLCA_extended_full_object.h5ad\"\n",
    ")\n",
    "path_hlca_ext_clean_out = (\n",
    "    \"../../data/HLCA_extended/clean_objects_to_share/HLCA_full_v1.1_to_share.h5ad\"\n",
    ")\n",
    "path_cell_label_harmonization = \"../../supporting_files/metadata_harmonization/HLCA_cell_type_reference_mapping_20221007.csv\"\n",
    "path_manual_anns_in = \"../../supporting_files/celltype_structure_and_colors/manual_anns_and_leveled_anns_ordered.csv\"\n",
    "dir_cov_mod_results_in = \"../../results/covariate_modeling/output/\"\n",
    "dir_supp_tables_out = \"../../results/suppl_tables/\""
   ]
  },
  {
   "cell_type": "markdown",
   "metadata": {},
   "source": [
    "load data:"
   ]
  },
  {
   "cell_type": "code",
   "execution_count": 5,
   "metadata": {},
   "outputs": [],
   "source": [
    "core = sc.read_h5ad(path_hlca_core)"
   ]
  },
  {
   "cell_type": "code",
   "execution_count": 4,
   "metadata": {},
   "outputs": [],
   "source": [
    "ext = sc.read_h5ad(path_hlca_ext_emb)"
   ]
  },
  {
   "cell_type": "markdown",
   "metadata": {},
   "source": [
    "## DATASET TABLE: "
   ]
  },
  {
   "cell_type": "markdown",
   "metadata": {},
   "source": [
    "creates part of the dataset info from supplementary table"
   ]
  },
  {
   "cell_type": "code",
   "execution_count": 6,
   "metadata": {},
   "outputs": [],
   "source": [
    "def get_set_as_str(x):\n",
    "    \"\"\"Function to extract string of the set of values from a dataframe column\"\"\"\n",
    "    x_set = x.unique()\n",
    "    x_set_str_list = [str(i) for i in x_set]\n",
    "    x_set_str = \", \".join(x_set_str_list)\n",
    "    return x_set_str"
   ]
  },
  {
   "cell_type": "code",
   "execution_count": 7,
   "metadata": {},
   "outputs": [],
   "source": [
    "dataset_overview = ext.obs.groupby(\"study\").agg(\n",
    "    n_datasets=(\"dataset\", \"nunique\"),\n",
    "    dataset_names=(\"dataset\", get_set_as_str),\n",
    "    core_or_extension=(\"core_or_extension\", get_set_as_str),\n",
    "    lung_condition=(\"condition\", get_set_as_str),\n",
    "    n_subjects=(\"subject_ID\", \"nunique\"),\n",
    "    n_samples=(\"sample\", \"nunique\"),\n",
    "    n_cells=(\"study\", \"count\"),\n",
    "    cells_or_nuclei=(\"cells_or_nuclei\", get_set_as_str),\n",
    "    single_cell_platform=(\"single_cell_platform\", get_set_as_str),\n",
    "    tissue_sampling_type=(\"sample_type\", get_set_as_str),\n",
    ")"
   ]
  },
  {
   "cell_type": "code",
   "execution_count": 8,
   "metadata": {},
   "outputs": [],
   "source": [
    "dataset_overview[\"in_core\"] = [\n",
    "    \"core\" in c_or_e for c_or_e in dataset_overview.core_or_extension\n",
    "]"
   ]
  },
  {
   "cell_type": "code",
   "execution_count": 9,
   "metadata": {},
   "outputs": [],
   "source": [
    "dataset_overview.sort_values(\n",
    "    by=[\"in_core\", \"study\"], ascending=[False, True], inplace=True\n",
    ")"
   ]
  },
  {
   "cell_type": "markdown",
   "metadata": {},
   "source": [
    "## SAMPLE TABLE"
   ]
  },
  {
   "cell_type": "code",
   "execution_count": 10,
   "metadata": {},
   "outputs": [],
   "source": [
    "sample_overview = (\n",
    "    ext.obs.groupby(\"sample\")\n",
    "    .agg(\n",
    "        HLCA_core_or_extension=(\"core_or_extension\", \"first\"),\n",
    "        dataset=(\"dataset\", \"first\"),\n",
    "        study=(\"study\", \"first\"),\n",
    "        n_cells=(\"sample\", \"count\"),\n",
    "        subject_ID=(\"subject_ID\", \"first\"),\n",
    "        age=(\"age\", \"first\"),\n",
    "        sex=(\"sex\", \"first\"),\n",
    "        lung_condition=(\"condition\", \"first\"),\n",
    "        cells_or_nuclei=(\"cells_or_nuclei\", \"first\"),\n",
    "        single_cell_platform=(\"single_cell_platform\", \"first\"),\n",
    "        tissue_sampling_type=(\"sample_type\", \"first\"),\n",
    "        tissue_dissociation_protocol=(\"tissue_dissociation_protocol\", \"first\"),\n",
    "        ancestry=(\"ancestry\", \"first\"),\n",
    "        mixed_ancestry=(\"mixed_ancestry\", \"first\"),\n",
    "        smoking_status=(\"smoking_status\", \"first\"),\n",
    "        BMI=(\"BMI\", \"first\"),\n",
    "        cause_of_death=(\"cause_of_death\", \"first\"),\n",
    "        sequencing_platform=(\"sequencing_platform\", \"first\"),\n",
    "        cell_ranger_version=(\"cell_ranger_version\", \"first\"),\n",
    "        fresh_or_frozen=(\"fresh_or_frozen\", \"first\"),\n",
    "        anatomical_region_level_1=(\"anatomical_region_level_1\", \"first\"),\n",
    "        anatomical_region_level_2=(\"anatomical_region_level_2\", \"first\"),\n",
    "        anatomical_region_level_3=(\"anatomical_region_level_3\", \"first\"),\n",
    "    )\n",
    "    .sort_values(by=[\"HLCA_core_or_extension\", \"study\", \"dataset\", \"subject_ID\"])\n",
    ")"
   ]
  },
  {
   "cell_type": "markdown",
   "metadata": {},
   "source": [
    "sanity check: check if any sample has multiple values for any of these covariates (should not be the case):"
   ]
  },
  {
   "cell_type": "code",
   "execution_count": 11,
   "metadata": {},
   "outputs": [],
   "source": [
    "agg_style = \"nunique\"\n",
    "sample_unique_covs = ext.obs.groupby(\"sample\").agg(\n",
    "    {\n",
    "        var: agg_style\n",
    "        for var in [\n",
    "            \"core_or_extension\",\n",
    "            \"dataset\",\n",
    "            \"study\",\n",
    "            \"sample\",\n",
    "            \"subject_ID\",\n",
    "            \"age\",\n",
    "            \"sex\",\n",
    "            \"condition\",\n",
    "            \"cells_or_nuclei\",\n",
    "            \"single_cell_platform\",\n",
    "            \"sample_type\",\n",
    "            \"tissue_dissociation_protocol\",\n",
    "            \"ancestry\",\n",
    "            \"mixed_ancestry\",\n",
    "            \"smoking_status\",\n",
    "            \"BMI\",\n",
    "            \"cause_of_death\",\n",
    "            \"sequencing_platform\",\n",
    "            \"cell_ranger_version\",\n",
    "            \"fresh_or_frozen\",\n",
    "            \"anatomical_region_level_1\",\n",
    "            \"anatomical_region_level_2\",\n",
    "            \"anatomical_region_level_3\",\n",
    "        ]\n",
    "    }\n",
    ")"
   ]
  },
  {
   "cell_type": "markdown",
   "metadata": {},
   "source": [
    "This should be 0:"
   ]
  },
  {
   "cell_type": "code",
   "execution_count": 12,
   "metadata": {},
   "outputs": [
    {
     "data": {
      "text/plain": [
       "0"
      ]
     },
     "execution_count": 12,
     "metadata": {},
     "output_type": "execute_result"
    }
   ],
   "source": [
    "(sample_unique_covs > 1).sum().sum()"
   ]
  },
  {
   "cell_type": "markdown",
   "metadata": {},
   "source": [
    "for anatomical region, remove forward-propagated labels:"
   ]
  },
  {
   "cell_type": "code",
   "execution_count": 13,
   "metadata": {},
   "outputs": [],
   "source": [
    "for lev in range(1, 4):\n",
    "    cov = f\"anatomical_region_level_{lev}\"\n",
    "    mapping = {loc: loc for loc in sample_overview[cov].unique()}\n",
    "    for key, value in mapping.items():\n",
    "        if not pd.isnull(key):\n",
    "            if key[:2] in [\"1_\", \"2_\"]:\n",
    "                mapping[key] = np.nan\n",
    "    sample_overview[cov] = sample_overview[cov].map(mapping)"
   ]
  },
  {
   "cell_type": "markdown",
   "metadata": {},
   "source": [
    "put \"v\" before cell ranger version, to prevent conversion to dates in excel:"
   ]
  },
  {
   "cell_type": "code",
   "execution_count": 14,
   "metadata": {},
   "outputs": [],
   "source": [
    "cell_ranger_cleaner = {\n",
    "    v: f\"v.{v}\" for v in sample_overview.cell_ranger_version.unique()\n",
    "}\n",
    "cell_ranger_cleaner[\"nan\"] = \"nan\"\n",
    "sample_overview.cell_ranger_version = sample_overview.cell_ranger_version.map(\n",
    "    cell_ranger_cleaner\n",
    ")"
   ]
  },
  {
   "cell_type": "markdown",
   "metadata": {},
   "source": [
    "## Cell type reference mapping:"
   ]
  },
  {
   "cell_type": "code",
   "execution_count": 15,
   "metadata": {},
   "outputs": [],
   "source": [
    "harmonizing_df = reference_based_harmonizing.load_harmonizing_table(\n",
    "    path_cell_label_harmonization\n",
    ")\n",
    "# consensus_df = reference_based_harmonizing.create_consensus_table(harmonizing_df)"
   ]
  },
  {
   "cell_type": "markdown",
   "metadata": {},
   "source": [
    "remove columns after first \"unnamed\" column:"
   ]
  },
  {
   "cell_type": "code",
   "execution_count": 16,
   "metadata": {},
   "outputs": [],
   "source": [
    "last_column = np.where(harmonizing_df.columns.str.startswith(\"Unnamed\"))[0][0]"
   ]
  },
  {
   "cell_type": "code",
   "execution_count": 17,
   "metadata": {},
   "outputs": [],
   "source": [
    "harmonizing_df = harmonizing_df.iloc[:, :last_column]"
   ]
  },
  {
   "cell_type": "code",
   "execution_count": 18,
   "metadata": {},
   "outputs": [],
   "source": [
    "harmonizing_df.dropna(axis=0, how=\"all\", inplace=True)\n",
    "harmonizing_df.dropna(axis=1, how=\"all\", inplace=True)"
   ]
  },
  {
   "cell_type": "code",
   "execution_count": 19,
   "metadata": {},
   "outputs": [
    {
     "data": {
      "text/html": [
       "<div>\n",
       "<style scoped>\n",
       "    .dataframe tbody tr th:only-of-type {\n",
       "        vertical-align: middle;\n",
       "    }\n",
       "\n",
       "    .dataframe tbody tr th {\n",
       "        vertical-align: top;\n",
       "    }\n",
       "\n",
       "    .dataframe thead th {\n",
       "        text-align: right;\n",
       "    }\n",
       "</style>\n",
       "<table border=\"1\" class=\"dataframe\">\n",
       "  <thead>\n",
       "    <tr style=\"text-align: right;\">\n",
       "      <th></th>\n",
       "      <th>Level_1</th>\n",
       "      <th>Level_2</th>\n",
       "      <th>Level_3</th>\n",
       "      <th>Level_4</th>\n",
       "      <th>Level_5</th>\n",
       "      <th>Banovich_Kropski_2020</th>\n",
       "      <th>Barbry_Leroy_2020</th>\n",
       "      <th>Jain_Misharin_2021</th>\n",
       "      <th>Krasnow_2020</th>\n",
       "      <th>Meyer_2019</th>\n",
       "      <th>...</th>\n",
       "      <th>Seibold_2020</th>\n",
       "      <th>Teichmann_Meyer_2019</th>\n",
       "      <th>Thienpont_2018</th>\n",
       "      <th>Kaminski_2020</th>\n",
       "      <th>Banovich_Kropski_2020_disease</th>\n",
       "      <th>Misharin_Budinger_2018_disease</th>\n",
       "      <th>Eils_2020</th>\n",
       "      <th>Sheppard_2020</th>\n",
       "      <th>Duong_lungMAP_unpubl</th>\n",
       "      <th>Sun_2020</th>\n",
       "    </tr>\n",
       "  </thead>\n",
       "  <tbody>\n",
       "    <tr>\n",
       "      <th>0</th>\n",
       "      <td>Epithelial</td>\n",
       "      <td>None</td>\n",
       "      <td>None</td>\n",
       "      <td>None</td>\n",
       "      <td>None</td>\n",
       "      <td>None</td>\n",
       "      <td>None</td>\n",
       "      <td>None</td>\n",
       "      <td>None</td>\n",
       "      <td>None</td>\n",
       "      <td>...</td>\n",
       "      <td>None</td>\n",
       "      <td>None</td>\n",
       "      <td>Epithelial</td>\n",
       "      <td>None</td>\n",
       "      <td>Proliferating Epithelial Cells</td>\n",
       "      <td>Proliferating epithelial</td>\n",
       "      <td>None</td>\n",
       "      <td>Epithelial</td>\n",
       "      <td>None</td>\n",
       "      <td>None</td>\n",
       "    </tr>\n",
       "    <tr>\n",
       "      <th>1</th>\n",
       "      <td>None</td>\n",
       "      <td>Airway epithelium</td>\n",
       "      <td>None</td>\n",
       "      <td>None</td>\n",
       "      <td>None</td>\n",
       "      <td>None</td>\n",
       "      <td>None</td>\n",
       "      <td>None</td>\n",
       "      <td>None</td>\n",
       "      <td>None</td>\n",
       "      <td>...</td>\n",
       "      <td>None</td>\n",
       "      <td>None</td>\n",
       "      <td>None</td>\n",
       "      <td>None</td>\n",
       "      <td>None</td>\n",
       "      <td>None</td>\n",
       "      <td>None</td>\n",
       "      <td>None</td>\n",
       "      <td>None</td>\n",
       "      <td>None</td>\n",
       "    </tr>\n",
       "    <tr>\n",
       "      <th>2</th>\n",
       "      <td>None</td>\n",
       "      <td>None</td>\n",
       "      <td>Basal</td>\n",
       "      <td>None</td>\n",
       "      <td>None</td>\n",
       "      <td>Basal</td>\n",
       "      <td>None</td>\n",
       "      <td>None</td>\n",
       "      <td>Basal</td>\n",
       "      <td>None</td>\n",
       "      <td>...</td>\n",
       "      <td>None</td>\n",
       "      <td>None</td>\n",
       "      <td>None</td>\n",
       "      <td>Basal</td>\n",
       "      <td>Basal</td>\n",
       "      <td>KRT5 Basal cells</td>\n",
       "      <td>None</td>\n",
       "      <td>None</td>\n",
       "      <td>Basal</td>\n",
       "      <td>basal cells</td>\n",
       "    </tr>\n",
       "    <tr>\n",
       "      <th>3</th>\n",
       "      <td>None</td>\n",
       "      <td>None</td>\n",
       "      <td>Basal</td>\n",
       "      <td>None</td>\n",
       "      <td>None</td>\n",
       "      <td>None</td>\n",
       "      <td>None</td>\n",
       "      <td>None</td>\n",
       "      <td>None</td>\n",
       "      <td>None</td>\n",
       "      <td>...</td>\n",
       "      <td>None</td>\n",
       "      <td>None</td>\n",
       "      <td>None</td>\n",
       "      <td>None</td>\n",
       "      <td>None</td>\n",
       "      <td>None</td>\n",
       "      <td>None</td>\n",
       "      <td>None</td>\n",
       "      <td>None</td>\n",
       "      <td>None</td>\n",
       "    </tr>\n",
       "    <tr>\n",
       "      <th>4</th>\n",
       "      <td>None</td>\n",
       "      <td>None</td>\n",
       "      <td>Basal</td>\n",
       "      <td>None</td>\n",
       "      <td>None</td>\n",
       "      <td>None</td>\n",
       "      <td>None</td>\n",
       "      <td>None</td>\n",
       "      <td>None</td>\n",
       "      <td>None</td>\n",
       "      <td>...</td>\n",
       "      <td>None</td>\n",
       "      <td>None</td>\n",
       "      <td>None</td>\n",
       "      <td>None</td>\n",
       "      <td>None</td>\n",
       "      <td>None</td>\n",
       "      <td>None</td>\n",
       "      <td>None</td>\n",
       "      <td>None</td>\n",
       "      <td>None</td>\n",
       "    </tr>\n",
       "    <tr>\n",
       "      <th>...</th>\n",
       "      <td>...</td>\n",
       "      <td>...</td>\n",
       "      <td>...</td>\n",
       "      <td>...</td>\n",
       "      <td>...</td>\n",
       "      <td>...</td>\n",
       "      <td>...</td>\n",
       "      <td>...</td>\n",
       "      <td>...</td>\n",
       "      <td>...</td>\n",
       "      <td>...</td>\n",
       "      <td>...</td>\n",
       "      <td>...</td>\n",
       "      <td>...</td>\n",
       "      <td>...</td>\n",
       "      <td>...</td>\n",
       "      <td>...</td>\n",
       "      <td>...</td>\n",
       "      <td>...</td>\n",
       "      <td>...</td>\n",
       "      <td>...</td>\n",
       "    </tr>\n",
       "    <tr>\n",
       "      <th>282</th>\n",
       "      <td>Proliferating cells</td>\n",
       "      <td>None</td>\n",
       "      <td>None</td>\n",
       "      <td>None</td>\n",
       "      <td>None</td>\n",
       "      <td>None</td>\n",
       "      <td>None</td>\n",
       "      <td>None</td>\n",
       "      <td>None</td>\n",
       "      <td>None</td>\n",
       "      <td>...</td>\n",
       "      <td>None</td>\n",
       "      <td>None</td>\n",
       "      <td>None</td>\n",
       "      <td>None</td>\n",
       "      <td>None</td>\n",
       "      <td>None</td>\n",
       "      <td>None</td>\n",
       "      <td>None</td>\n",
       "      <td>None</td>\n",
       "      <td>None</td>\n",
       "    </tr>\n",
       "    <tr>\n",
       "      <th>283</th>\n",
       "      <td>Unknown</td>\n",
       "      <td>None</td>\n",
       "      <td>None</td>\n",
       "      <td>None</td>\n",
       "      <td>None</td>\n",
       "      <td>None</td>\n",
       "      <td>None</td>\n",
       "      <td>None</td>\n",
       "      <td>None</td>\n",
       "      <td>None</td>\n",
       "      <td>...</td>\n",
       "      <td>None</td>\n",
       "      <td>None</td>\n",
       "      <td>None</td>\n",
       "      <td>None</td>\n",
       "      <td>None</td>\n",
       "      <td>None</td>\n",
       "      <td>None</td>\n",
       "      <td>None</td>\n",
       "      <td>Mast/Basal</td>\n",
       "      <td>unclassified</td>\n",
       "    </tr>\n",
       "    <tr>\n",
       "      <th>284</th>\n",
       "      <td>Cancer</td>\n",
       "      <td>None</td>\n",
       "      <td>None</td>\n",
       "      <td>None</td>\n",
       "      <td>None</td>\n",
       "      <td>None</td>\n",
       "      <td>None</td>\n",
       "      <td>None</td>\n",
       "      <td>None</td>\n",
       "      <td>None</td>\n",
       "      <td>...</td>\n",
       "      <td>None</td>\n",
       "      <td>None</td>\n",
       "      <td>Cancer</td>\n",
       "      <td>None</td>\n",
       "      <td>None</td>\n",
       "      <td>None</td>\n",
       "      <td>None</td>\n",
       "      <td>None</td>\n",
       "      <td>None</td>\n",
       "      <td>None</td>\n",
       "    </tr>\n",
       "    <tr>\n",
       "      <th>285</th>\n",
       "      <td>Unicorns and artifacts</td>\n",
       "      <td>None</td>\n",
       "      <td>None</td>\n",
       "      <td>None</td>\n",
       "      <td>None</td>\n",
       "      <td>AT2 - low quality</td>\n",
       "      <td>None</td>\n",
       "      <td>None</td>\n",
       "      <td>None</td>\n",
       "      <td>None</td>\n",
       "      <td>...</td>\n",
       "      <td>None</td>\n",
       "      <td>None</td>\n",
       "      <td>None</td>\n",
       "      <td>None</td>\n",
       "      <td>None</td>\n",
       "      <td>None</td>\n",
       "      <td>None</td>\n",
       "      <td>None</td>\n",
       "      <td>None</td>\n",
       "      <td>None</td>\n",
       "    </tr>\n",
       "    <tr>\n",
       "      <th>286</th>\n",
       "      <td>Unicorns and artifacts</td>\n",
       "      <td>None</td>\n",
       "      <td>None</td>\n",
       "      <td>None</td>\n",
       "      <td>None</td>\n",
       "      <td>None</td>\n",
       "      <td>None</td>\n",
       "      <td>None</td>\n",
       "      <td>None</td>\n",
       "      <td>None</td>\n",
       "      <td>...</td>\n",
       "      <td>None</td>\n",
       "      <td>None</td>\n",
       "      <td>None</td>\n",
       "      <td>None</td>\n",
       "      <td>None</td>\n",
       "      <td>None</td>\n",
       "      <td>None</td>\n",
       "      <td>None</td>\n",
       "      <td>None</td>\n",
       "      <td>None</td>\n",
       "    </tr>\n",
       "  </tbody>\n",
       "</table>\n",
       "<p>286 rows × 27 columns</p>\n",
       "</div>"
      ],
      "text/plain": [
       "                    Level_1            Level_2 Level_3 Level_4 Level_5  \\\n",
       "0                Epithelial               None    None    None    None   \n",
       "1                      None  Airway epithelium    None    None    None   \n",
       "2                      None               None   Basal    None    None   \n",
       "3                      None               None   Basal    None    None   \n",
       "4                      None               None   Basal    None    None   \n",
       "..                      ...                ...     ...     ...     ...   \n",
       "282     Proliferating cells               None    None    None    None   \n",
       "283                 Unknown               None    None    None    None   \n",
       "284                  Cancer               None    None    None    None   \n",
       "285  Unicorns and artifacts               None    None    None    None   \n",
       "286  Unicorns and artifacts               None    None    None    None   \n",
       "\n",
       "    Banovich_Kropski_2020 Barbry_Leroy_2020 Jain_Misharin_2021 Krasnow_2020  \\\n",
       "0                    None              None               None         None   \n",
       "1                    None              None               None         None   \n",
       "2                   Basal              None               None        Basal   \n",
       "3                    None              None               None         None   \n",
       "4                    None              None               None         None   \n",
       "..                    ...               ...                ...          ...   \n",
       "282                  None              None               None         None   \n",
       "283                  None              None               None         None   \n",
       "284                  None              None               None         None   \n",
       "285     AT2 - low quality              None               None         None   \n",
       "286                  None              None               None         None   \n",
       "\n",
       "    Meyer_2019  ... Seibold_2020 Teichmann_Meyer_2019 Thienpont_2018  \\\n",
       "0         None  ...         None                 None     Epithelial   \n",
       "1         None  ...         None                 None           None   \n",
       "2         None  ...         None                 None           None   \n",
       "3         None  ...         None                 None           None   \n",
       "4         None  ...         None                 None           None   \n",
       "..         ...  ...          ...                  ...            ...   \n",
       "282       None  ...         None                 None           None   \n",
       "283       None  ...         None                 None           None   \n",
       "284       None  ...         None                 None         Cancer   \n",
       "285       None  ...         None                 None           None   \n",
       "286       None  ...         None                 None           None   \n",
       "\n",
       "    Kaminski_2020   Banovich_Kropski_2020_disease  \\\n",
       "0            None  Proliferating Epithelial Cells   \n",
       "1            None                            None   \n",
       "2           Basal                           Basal   \n",
       "3            None                            None   \n",
       "4            None                            None   \n",
       "..            ...                             ...   \n",
       "282          None                            None   \n",
       "283          None                            None   \n",
       "284          None                            None   \n",
       "285          None                            None   \n",
       "286          None                            None   \n",
       "\n",
       "    Misharin_Budinger_2018_disease Eils_2020 Sheppard_2020  \\\n",
       "0         Proliferating epithelial      None    Epithelial   \n",
       "1                             None      None          None   \n",
       "2                 KRT5 Basal cells      None          None   \n",
       "3                             None      None          None   \n",
       "4                             None      None          None   \n",
       "..                             ...       ...           ...   \n",
       "282                           None      None          None   \n",
       "283                           None      None          None   \n",
       "284                           None      None          None   \n",
       "285                           None      None          None   \n",
       "286                           None      None          None   \n",
       "\n",
       "    Duong_lungMAP_unpubl      Sun_2020  \n",
       "0                   None          None  \n",
       "1                   None          None  \n",
       "2                  Basal   basal cells  \n",
       "3                   None          None  \n",
       "4                   None          None  \n",
       "..                   ...           ...  \n",
       "282                 None          None  \n",
       "283           Mast/Basal  unclassified  \n",
       "284                 None          None  \n",
       "285                 None          None  \n",
       "286                 None          None  \n",
       "\n",
       "[286 rows x 27 columns]"
      ]
     },
     "execution_count": 19,
     "metadata": {},
     "output_type": "execute_result"
    }
   ],
   "source": [
    "harmonizing_df"
   ]
  },
  {
   "cell_type": "markdown",
   "metadata": {},
   "source": [
    "## Manual annotations, hierarchy:"
   ]
  },
  {
   "cell_type": "code",
   "execution_count": 15,
   "metadata": {},
   "outputs": [],
   "source": [
    "manual_ann_hierarchy = pd.read_csv(path_manual_anns_in, index_col=0)"
   ]
  },
  {
   "cell_type": "code",
   "execution_count": 16,
   "metadata": {},
   "outputs": [],
   "source": [
    "manual_ann_hierarchy.drop(columns=[\"ordering\", \"colors\"], inplace=True)"
   ]
  },
  {
   "cell_type": "code",
   "execution_count": 17,
   "metadata": {},
   "outputs": [],
   "source": [
    "manual_ann_hierarchy.columns = [\n",
    "    f\"Level {lev} annotation (n cells, % of cells)\" for lev in range(1, 6)\n",
    "]"
   ]
  },
  {
   "cell_type": "code",
   "execution_count": 18,
   "metadata": {},
   "outputs": [],
   "source": [
    "ct_perc_per_lev = dict()\n",
    "ct_n_per_lev = dict()\n",
    "for lev in range(1, 6):\n",
    "    ct_n = core.obs[f\"ann_level_{lev}\"].value_counts()\n",
    "    ct_perc = round(ct_n / core.n_obs * 100, 1)\n",
    "    ct_perc_per_lev[lev] = ct_perc\n",
    "    ct_n_per_lev[lev] = ct_n\n",
    "ct_n_per_lev[\"finest\"] = core.obs.manual_ann.value_counts()\n",
    "ct_perc_per_lev[\"finest\"] = round(\n",
    "    core.obs.manual_ann.value_counts() / core.n_obs * 100, 1\n",
    ")"
   ]
  },
  {
   "cell_type": "code",
   "execution_count": 21,
   "metadata": {},
   "outputs": [],
   "source": [
    "new_index = list()\n",
    "for ct in manual_ann_hierarchy.index:\n",
    "    new_index.append(\n",
    "        f\"{ct} (n={ct_n_per_lev['finest'][ct]}, {ct_perc_per_lev['finest'][ct]}%)\"\n",
    "    )\n",
    "manual_ann_hierarchy.index = new_index"
   ]
  },
  {
   "cell_type": "code",
   "execution_count": 22,
   "metadata": {},
   "outputs": [],
   "source": [
    "for lev in range(1, 6):\n",
    "    new_values_uncleaned = [\n",
    "        f\"{ct} (n={ct_n_per_lev[lev][ct]}, {ct_perc_per_lev[lev][ct]}%)\"\n",
    "        for ct in manual_ann_hierarchy[f\"Level {lev} annotation (n cells, % of cells)\"]\n",
    "    ]\n",
    "    new_values = list()\n",
    "    for ct in new_values_uncleaned:\n",
    "        if ct[:2] in [\"1_\", \"2_\", \"3_\", \"4_\"]:\n",
    "            new_values.append(np.nan)\n",
    "        else:\n",
    "            new_values.append(ct)\n",
    "    manual_ann_hierarchy[f\"Level {lev} annotation (n cells, % of cells)\"] = new_values"
   ]
  },
  {
   "cell_type": "code",
   "execution_count": 24,
   "metadata": {},
   "outputs": [],
   "source": [
    "manual_ann_hierarchy.index.name = \"Finest annotation (n cells, % of cells)\""
   ]
  },
  {
   "cell_type": "code",
   "execution_count": 25,
   "metadata": {},
   "outputs": [
    {
     "data": {
      "text/html": [
       "<div>\n",
       "<style scoped>\n",
       "    .dataframe tbody tr th:only-of-type {\n",
       "        vertical-align: middle;\n",
       "    }\n",
       "\n",
       "    .dataframe tbody tr th {\n",
       "        vertical-align: top;\n",
       "    }\n",
       "\n",
       "    .dataframe thead th {\n",
       "        text-align: right;\n",
       "    }\n",
       "</style>\n",
       "<table border=\"1\" class=\"dataframe\">\n",
       "  <thead>\n",
       "    <tr style=\"text-align: right;\">\n",
       "      <th></th>\n",
       "      <th>Level 1 annotation (n cells, % of cells)</th>\n",
       "      <th>Level 2 annotation (n cells, % of cells)</th>\n",
       "      <th>Level 3 annotation (n cells, % of cells)</th>\n",
       "      <th>Level 4 annotation (n cells, % of cells)</th>\n",
       "      <th>Level 5 annotation (n cells, % of cells)</th>\n",
       "    </tr>\n",
       "    <tr>\n",
       "      <th>Finest annotation (n cells, % of cells)</th>\n",
       "      <th></th>\n",
       "      <th></th>\n",
       "      <th></th>\n",
       "      <th></th>\n",
       "      <th></th>\n",
       "    </tr>\n",
       "  </thead>\n",
       "  <tbody>\n",
       "    <tr>\n",
       "      <th>Basal resting (n=38955, 6.7%)</th>\n",
       "      <td>Epithelial (n=282065, 48.2%)</td>\n",
       "      <td>Airway epithelium (n=207023, 35.4%)</td>\n",
       "      <td>Basal (n=84713, 14.5%)</td>\n",
       "      <td>Basal resting (n=38955, 6.7%)</td>\n",
       "      <td>NaN</td>\n",
       "    </tr>\n",
       "    <tr>\n",
       "      <th>Suprabasal (n=41158, 7.0%)</th>\n",
       "      <td>Epithelial (n=282065, 48.2%)</td>\n",
       "      <td>Airway epithelium (n=207023, 35.4%)</td>\n",
       "      <td>Basal (n=84713, 14.5%)</td>\n",
       "      <td>Suprabasal (n=41158, 7.0%)</td>\n",
       "      <td>NaN</td>\n",
       "    </tr>\n",
       "    <tr>\n",
       "      <th>Hillock-like (n=4600, 0.8%)</th>\n",
       "      <td>Epithelial (n=282065, 48.2%)</td>\n",
       "      <td>Airway epithelium (n=207023, 35.4%)</td>\n",
       "      <td>Basal (n=84713, 14.5%)</td>\n",
       "      <td>Hillock-like (n=4600, 0.8%)</td>\n",
       "      <td>NaN</td>\n",
       "    </tr>\n",
       "    <tr>\n",
       "      <th>Deuterosomal (n=1004, 0.2%)</th>\n",
       "      <td>Epithelial (n=282065, 48.2%)</td>\n",
       "      <td>Airway epithelium (n=207023, 35.4%)</td>\n",
       "      <td>Multiciliated lineage (n=41098, 7.0%)</td>\n",
       "      <td>Deuterosomal (n=1004, 0.2%)</td>\n",
       "      <td>NaN</td>\n",
       "    </tr>\n",
       "    <tr>\n",
       "      <th>Multiciliated (nasal) (n=4869, 0.8%)</th>\n",
       "      <td>Epithelial (n=282065, 48.2%)</td>\n",
       "      <td>Airway epithelium (n=207023, 35.4%)</td>\n",
       "      <td>Multiciliated lineage (n=41098, 7.0%)</td>\n",
       "      <td>Multiciliated (n=40094, 6.9%)</td>\n",
       "      <td>Multiciliated (nasal) (n=4869, 0.8%)</td>\n",
       "    </tr>\n",
       "    <tr>\n",
       "      <th>...</th>\n",
       "      <td>...</td>\n",
       "      <td>...</td>\n",
       "      <td>...</td>\n",
       "      <td>...</td>\n",
       "      <td>...</td>\n",
       "    </tr>\n",
       "    <tr>\n",
       "      <th>Monocyte-derived Mph (n=28223, 4.8%)</th>\n",
       "      <td>Immune (n=229496, 39.2%)</td>\n",
       "      <td>Myeloid (n=155315, 26.6%)</td>\n",
       "      <td>Macrophages (n=111844, 19.1%)</td>\n",
       "      <td>Interstitial macrophages (n=33028, 5.6%)</td>\n",
       "      <td>Monocyte-derived Mph (n=28223, 4.8%)</td>\n",
       "    </tr>\n",
       "    <tr>\n",
       "      <th>Interstitial Mph perivascular (n=4805, 0.8%)</th>\n",
       "      <td>Immune (n=229496, 39.2%)</td>\n",
       "      <td>Myeloid (n=155315, 26.6%)</td>\n",
       "      <td>Macrophages (n=111844, 19.1%)</td>\n",
       "      <td>Interstitial macrophages (n=33028, 5.6%)</td>\n",
       "      <td>Interstitial Mph perivascular (n=4805, 0.8%)</td>\n",
       "    </tr>\n",
       "    <tr>\n",
       "      <th>Classical monocytes (n=17695, 3.0%)</th>\n",
       "      <td>Immune (n=229496, 39.2%)</td>\n",
       "      <td>Myeloid (n=155315, 26.6%)</td>\n",
       "      <td>Monocytes (n=26529, 4.5%)</td>\n",
       "      <td>Classical monocytes (n=17695, 3.0%)</td>\n",
       "      <td>NaN</td>\n",
       "    </tr>\n",
       "    <tr>\n",
       "      <th>Non-classical monocytes (n=8834, 1.5%)</th>\n",
       "      <td>Immune (n=229496, 39.2%)</td>\n",
       "      <td>Myeloid (n=155315, 26.6%)</td>\n",
       "      <td>Monocytes (n=26529, 4.5%)</td>\n",
       "      <td>Non-classical monocytes (n=8834, 1.5%)</td>\n",
       "      <td>NaN</td>\n",
       "    </tr>\n",
       "    <tr>\n",
       "      <th>Mast cells (n=6623, 1.1%)</th>\n",
       "      <td>Immune (n=229496, 39.2%)</td>\n",
       "      <td>Myeloid (n=155315, 26.6%)</td>\n",
       "      <td>Mast cells (n=6623, 1.1%)</td>\n",
       "      <td>NaN</td>\n",
       "      <td>NaN</td>\n",
       "    </tr>\n",
       "  </tbody>\n",
       "</table>\n",
       "<p>61 rows × 5 columns</p>\n",
       "</div>"
      ],
      "text/plain": [
       "                                             Level 1 annotation (n cells, % of cells)  \\\n",
       "Finest annotation (n cells, % of cells)                                                 \n",
       "Basal resting (n=38955, 6.7%)                            Epithelial (n=282065, 48.2%)   \n",
       "Suprabasal (n=41158, 7.0%)                               Epithelial (n=282065, 48.2%)   \n",
       "Hillock-like (n=4600, 0.8%)                              Epithelial (n=282065, 48.2%)   \n",
       "Deuterosomal (n=1004, 0.2%)                              Epithelial (n=282065, 48.2%)   \n",
       "Multiciliated (nasal) (n=4869, 0.8%)                     Epithelial (n=282065, 48.2%)   \n",
       "...                                                                               ...   \n",
       "Monocyte-derived Mph (n=28223, 4.8%)                         Immune (n=229496, 39.2%)   \n",
       "Interstitial Mph perivascular (n=4805, 0.8%)                 Immune (n=229496, 39.2%)   \n",
       "Classical monocytes (n=17695, 3.0%)                          Immune (n=229496, 39.2%)   \n",
       "Non-classical monocytes (n=8834, 1.5%)                       Immune (n=229496, 39.2%)   \n",
       "Mast cells (n=6623, 1.1%)                                    Immune (n=229496, 39.2%)   \n",
       "\n",
       "                                             Level 2 annotation (n cells, % of cells)  \\\n",
       "Finest annotation (n cells, % of cells)                                                 \n",
       "Basal resting (n=38955, 6.7%)                     Airway epithelium (n=207023, 35.4%)   \n",
       "Suprabasal (n=41158, 7.0%)                        Airway epithelium (n=207023, 35.4%)   \n",
       "Hillock-like (n=4600, 0.8%)                       Airway epithelium (n=207023, 35.4%)   \n",
       "Deuterosomal (n=1004, 0.2%)                       Airway epithelium (n=207023, 35.4%)   \n",
       "Multiciliated (nasal) (n=4869, 0.8%)              Airway epithelium (n=207023, 35.4%)   \n",
       "...                                                                               ...   \n",
       "Monocyte-derived Mph (n=28223, 4.8%)                        Myeloid (n=155315, 26.6%)   \n",
       "Interstitial Mph perivascular (n=4805, 0.8%)                Myeloid (n=155315, 26.6%)   \n",
       "Classical monocytes (n=17695, 3.0%)                         Myeloid (n=155315, 26.6%)   \n",
       "Non-classical monocytes (n=8834, 1.5%)                      Myeloid (n=155315, 26.6%)   \n",
       "Mast cells (n=6623, 1.1%)                                   Myeloid (n=155315, 26.6%)   \n",
       "\n",
       "                                             Level 3 annotation (n cells, % of cells)  \\\n",
       "Finest annotation (n cells, % of cells)                                                 \n",
       "Basal resting (n=38955, 6.7%)                                  Basal (n=84713, 14.5%)   \n",
       "Suprabasal (n=41158, 7.0%)                                     Basal (n=84713, 14.5%)   \n",
       "Hillock-like (n=4600, 0.8%)                                    Basal (n=84713, 14.5%)   \n",
       "Deuterosomal (n=1004, 0.2%)                     Multiciliated lineage (n=41098, 7.0%)   \n",
       "Multiciliated (nasal) (n=4869, 0.8%)            Multiciliated lineage (n=41098, 7.0%)   \n",
       "...                                                                               ...   \n",
       "Monocyte-derived Mph (n=28223, 4.8%)                    Macrophages (n=111844, 19.1%)   \n",
       "Interstitial Mph perivascular (n=4805, 0.8%)            Macrophages (n=111844, 19.1%)   \n",
       "Classical monocytes (n=17695, 3.0%)                         Monocytes (n=26529, 4.5%)   \n",
       "Non-classical monocytes (n=8834, 1.5%)                      Monocytes (n=26529, 4.5%)   \n",
       "Mast cells (n=6623, 1.1%)                                   Mast cells (n=6623, 1.1%)   \n",
       "\n",
       "                                              Level 4 annotation (n cells, % of cells)  \\\n",
       "Finest annotation (n cells, % of cells)                                                  \n",
       "Basal resting (n=38955, 6.7%)                            Basal resting (n=38955, 6.7%)   \n",
       "Suprabasal (n=41158, 7.0%)                                  Suprabasal (n=41158, 7.0%)   \n",
       "Hillock-like (n=4600, 0.8%)                                Hillock-like (n=4600, 0.8%)   \n",
       "Deuterosomal (n=1004, 0.2%)                                Deuterosomal (n=1004, 0.2%)   \n",
       "Multiciliated (nasal) (n=4869, 0.8%)                     Multiciliated (n=40094, 6.9%)   \n",
       "...                                                                                ...   \n",
       "Monocyte-derived Mph (n=28223, 4.8%)          Interstitial macrophages (n=33028, 5.6%)   \n",
       "Interstitial Mph perivascular (n=4805, 0.8%)  Interstitial macrophages (n=33028, 5.6%)   \n",
       "Classical monocytes (n=17695, 3.0%)                Classical monocytes (n=17695, 3.0%)   \n",
       "Non-classical monocytes (n=8834, 1.5%)          Non-classical monocytes (n=8834, 1.5%)   \n",
       "Mast cells (n=6623, 1.1%)                                                          NaN   \n",
       "\n",
       "                                                  Level 5 annotation (n cells, % of cells)  \n",
       "Finest annotation (n cells, % of cells)                                                     \n",
       "Basal resting (n=38955, 6.7%)                                                          NaN  \n",
       "Suprabasal (n=41158, 7.0%)                                                             NaN  \n",
       "Hillock-like (n=4600, 0.8%)                                                            NaN  \n",
       "Deuterosomal (n=1004, 0.2%)                                                            NaN  \n",
       "Multiciliated (nasal) (n=4869, 0.8%)                  Multiciliated (nasal) (n=4869, 0.8%)  \n",
       "...                                                                                    ...  \n",
       "Monocyte-derived Mph (n=28223, 4.8%)                  Monocyte-derived Mph (n=28223, 4.8%)  \n",
       "Interstitial Mph perivascular (n=4805, 0.8%)  Interstitial Mph perivascular (n=4805, 0.8%)  \n",
       "Classical monocytes (n=17695, 3.0%)                                                    NaN  \n",
       "Non-classical monocytes (n=8834, 1.5%)                                                 NaN  \n",
       "Mast cells (n=6623, 1.1%)                                                              NaN  \n",
       "\n",
       "[61 rows x 5 columns]"
      ]
     },
     "execution_count": 25,
     "metadata": {},
     "output_type": "execute_result"
    }
   ],
   "source": [
    "manual_ann_hierarchy"
   ]
  },
  {
   "cell_type": "markdown",
   "metadata": {},
   "source": [
    "## Covariate modeling, gene results:"
   ]
  },
  {
   "cell_type": "markdown",
   "metadata": {},
   "source": [
    "Here we are just renaming the files and storing them in the SuppT folder"
   ]
  },
  {
   "cell_type": "code",
   "execution_count": 28,
   "metadata": {},
   "outputs": [],
   "source": [
    "# cts = os.listdir(dir_cov_mod_results_in)"
   ]
  },
  {
   "cell_type": "code",
   "execution_count": 29,
   "metadata": {},
   "outputs": [],
   "source": [
    "# ct_results_gene = dict()"
   ]
  },
  {
   "cell_type": "code",
   "execution_count": 30,
   "metadata": {},
   "outputs": [],
   "source": [
    "# for ct in cts:\n",
    "#     ct_results_gene[ct] = pd.read_csv(\n",
    "#         os.path.join(dir_cov_mod_results_in, ct, \"mm_output_padj.csv\"), index_col=0\n",
    "#     )"
   ]
  },
  {
   "cell_type": "markdown",
   "metadata": {},
   "source": [
    "## \"Source data\": the HLCA core"
   ]
  },
  {
   "cell_type": "markdown",
   "metadata": {},
   "source": [
    "prepare:"
   ]
  },
  {
   "cell_type": "code",
   "execution_count": 31,
   "metadata": {},
   "outputs": [],
   "source": [
    "obs_cols_to_keep = [\n",
    "    \"BMI\",\n",
    "    \"age\",\n",
    "    \"anatomical_region_ccf_score\",\n",
    "    \"anatomical_region_level_1\",\n",
    "    \"anatomical_region_level_2\",\n",
    "    \"anatomical_region_level_3\",\n",
    "    \"ancestry\",\n",
    "    \"ann_level_1_clean\",\n",
    "    \"ann_level_2_clean\",\n",
    "    \"ann_level_3_clean\",\n",
    "    \"ann_level_4_clean\",\n",
    "    \"ann_level_5_clean\",\n",
    "    \"cause_of_death\",\n",
    "    \"condition\",\n",
    "    \"dataset\",\n",
    "    \"entropy_dataset_leiden_3\",\n",
    "    \"entropy_original_ann_level_1_leiden_3\",\n",
    "    \"entropy_original_ann_level_2_clean_leiden_3\",\n",
    "    \"entropy_original_ann_level_3_clean_leiden_3\",\n",
    "    \"entropy_subject_ID_leiden_3\",\n",
    "    \"fresh_or_frozen\",\n",
    "    \"leiden_1\",\n",
    "    \"leiden_2\",\n",
    "    \"leiden_3\",\n",
    "    \"leiden_4\",\n",
    "    \"leiden_5\",\n",
    "    \"log10_total_counts\",\n",
    "    \"manual_ann\",\n",
    "    \"manual_ann_grouped\",\n",
    "    \"mixed_ancestry\",\n",
    "    \"n_genes_detected\",\n",
    "    \"original_ann_highest_res\",\n",
    "    \"original_ann_level_1_clean\",\n",
    "    \"original_ann_level_2_clean\",\n",
    "    \"original_ann_level_3_clean\",\n",
    "    \"original_ann_level_4_clean\",\n",
    "    \"original_ann_level_5_clean\",\n",
    "    \"original_celltype_ann\",\n",
    "    \"reannotation_type\",\n",
    "    \"sample\",\n",
    "    \"sample_type\",\n",
    "    \"scanvi_label\",\n",
    "    \"sequencing_platform\",\n",
    "    \"sex\",\n",
    "    \"single_cell_platform\",\n",
    "    \"size_factors\",\n",
    "    \"smoking_status\",\n",
    "    \"study\",\n",
    "    \"subject_ID\",\n",
    "    \"subject_type\",\n",
    "    \"tissue_dissociation_protocol\",\n",
    "]"
   ]
  },
  {
   "cell_type": "code",
   "execution_count": 32,
   "metadata": {},
   "outputs": [],
   "source": [
    "var_cols_to_keep = [\"gene_ids\"]"
   ]
  },
  {
   "cell_type": "code",
   "execution_count": 33,
   "metadata": {},
   "outputs": [],
   "source": [
    "obs_renaming = {\n",
    "    \"original_ann_level_1_clean\": \"original_ann_level_1\",\n",
    "    \"original_ann_level_2_clean\": \"original_ann_level_2\",\n",
    "    \"original_ann_level_3_clean\": \"original_ann_level_3\",\n",
    "    \"original_ann_level_4_clean\": \"original_ann_level_4\",\n",
    "    \"original_ann_level_5_clean\": \"original_ann_level_5\",\n",
    "    \"ann_level_1_clean\": \"ann_level_1\",\n",
    "    \"ann_level_2_clean\": \"ann_level_2\",\n",
    "    \"ann_level_3_clean\": \"ann_level_3\",\n",
    "    \"ann_level_4_clean\": \"ann_level_4\",\n",
    "    \"ann_level_5_clean\": \"ann_level_5\",\n",
    "    \"manual_ann\": \"ann_finest_level\",\n",
    "    \"manual_ann_grouped\": \"ann_coarse_for_GWAS_and_modeling\",\n",
    "    \"original_celltype_ann\": \"original_ann_nonharmonized\",\n",
    "    \"condition\": \"lung_condition\",\n",
    "    \"sample_type\": \"tissue_sampling_method\",\n",
    "}"
   ]
  },
  {
   "cell_type": "code",
   "execution_count": 34,
   "metadata": {},
   "outputs": [],
   "source": [
    "uns_to_keep = [\n",
    "    \"manual_ann_colors\",\n",
    "    \"manual_ann_grouped_colors\",\n",
    "    \"neighbors\",\n",
    "    \"umap\",\n",
    "]"
   ]
  },
  {
   "cell_type": "code",
   "execution_count": 35,
   "metadata": {},
   "outputs": [],
   "source": [
    "uns_to_rename = {\n",
    "    \"manual_ann_colors\": \"ann_finest_level_colors\",\n",
    "    \"manual_ann_grouped_colors\": \"ann_coarse_for_GWAS_and_modeling_colors\",\n",
    "}"
   ]
  },
  {
   "cell_type": "markdown",
   "metadata": {},
   "source": [
    "Now clean:"
   ]
  },
  {
   "cell_type": "code",
   "execution_count": 36,
   "metadata": {},
   "outputs": [],
   "source": [
    "for obsm_cat in [\"X_pca\", \"X_umap_scanvi\", \"X_umap_unintegrated\"]:\n",
    "    if obsm_cat in core.obsm.keys():\n",
    "        del core.obsm[obsm_cat]"
   ]
  },
  {
   "cell_type": "code",
   "execution_count": 37,
   "metadata": {},
   "outputs": [],
   "source": [
    "del core.varm"
   ]
  },
  {
   "cell_type": "code",
   "execution_count": 38,
   "metadata": {},
   "outputs": [],
   "source": [
    "core.obs = core.obs.loc[:, obs_cols_to_keep].copy()\n",
    "core.var = core.var.loc[:, var_cols_to_keep].copy()"
   ]
  },
  {
   "cell_type": "code",
   "execution_count": 39,
   "metadata": {},
   "outputs": [],
   "source": [
    "core.obs.rename(columns=obs_renaming, inplace=True)"
   ]
  },
  {
   "cell_type": "code",
   "execution_count": 40,
   "metadata": {},
   "outputs": [],
   "source": [
    "uns_keys = list(core.uns.keys())\n",
    "for uns in uns_keys:\n",
    "    if uns not in uns_to_keep:\n",
    "        del core.uns[uns]\n",
    "# rename\n",
    "for orig_name, new_name in uns_to_rename.items():\n",
    "    core.uns[new_name] = core.uns[orig_name]\n",
    "    del core.uns[orig_name]"
   ]
  },
  {
   "cell_type": "code",
   "execution_count": 41,
   "metadata": {},
   "outputs": [
    {
     "data": {
      "image/png": "[encoded data removed]",
      "text/plain": [
       "<Figure size 432x288 with 1 Axes>"
      ]
     },
     "metadata": {},
     "output_type": "display_data"
    }
   ],
   "source": [
    "sc.pl.umap(core, color=\"ann_finest_level\")"
   ]
  },
  {
   "cell_type": "markdown",
   "metadata": {},
   "source": [
    "convert adata.X to float32:"
   ]
  },
  {
   "cell_type": "code",
   "execution_count": 42,
   "metadata": {},
   "outputs": [],
   "source": [
    "core.X = core.X.astype(np.float32)"
   ]
  },
  {
   "cell_type": "markdown",
   "metadata": {},
   "source": [
    "Set all versions of nan (i.e. \"nan\", NaN, None, etc.) to np.nan:"
   ]
  },
  {
   "cell_type": "code",
   "execution_count": 43,
   "metadata": {},
   "outputs": [],
   "source": [
    "core_obs_none_entries = core.obs.applymap(utils.check_if_nan)\n",
    "core.obs.mask(core_obs_none_entries.values, inplace=True)"
   ]
  },
  {
   "cell_type": "markdown",
   "metadata": {},
   "source": [
    "and store:"
   ]
  },
  {
   "cell_type": "code",
   "execution_count": 44,
   "metadata": {},
   "outputs": [],
   "source": [
    "core.write(\n",
    "    path_hlca_core_clean_out,\n",
    "    compression=\"gzip\",\n",
    ")"
   ]
  },
  {
   "cell_type": "markdown",
   "metadata": {},
   "source": [
    "## \"Source data\": HLCA extension"
   ]
  },
  {
   "cell_type": "code",
   "execution_count": 6,
   "metadata": {},
   "outputs": [
    {
     "data": {
      "text/plain": [
       "AnnData object with n_obs × n_vars = 2382658 × 59574\n",
       "    obs: 'sample', 'original_celltype_ann', 'study_long', 'study', 'last_author_PI', 'subject_ID', 'subject_ID_as_published', 'pre_or_postnatal', 'age_in_years', 'age_range', 'sex', 'smoking_status', 'smoking_history', 'BMI', 'known_lung_disease', 'condition', 'subject_type', 'cause_of_death', 'sample_type', 'anatomical_region_coarse', 'anatomical_region_detailed', 'tissue_dissociation_protocol', 'cells_or_nuclei', 'single_cell_platform', \"3'_or_5'\", 'enrichment', 'sequencing_platform', 'reference_genome_coarse', 'ensembl_release_reference_genome', 'cell_ranger_version', 'disease_status', 'fresh_or_frozen', 'cultured', 'cell_viability_%', 'comments', 'Processing_site', 'dataset', 'anatomical_region_level_1', 'anatomical_region_level_2', 'anatomical_region_level_3', 'anatomical_region_highest_res', 'age', 'ann_level_1', 'ann_level_2', 'ann_level_3', 'ann_level_4', 'ann_level_5', 'ann_highest_res', 'ann_new', 'n_genes', 'total_counts', 'log10_total_counts', 'n_genes_detected', 'mito_frac', 'ribo_frac', 'compl', 'size_factors', 'ann_level_1_clean', 'ann_level_2_clean', 'ann_level_3_clean', 'ann_level_4_clean', 'ann_level_5_clean', 'scanvi_label', 'leiden_1', 'leiden_2', 'leiden_3', 'anatomical_region_ccf_score', 'manual_ann', 'leiden_4', 'reannotation_type', 'leiden_5', 'original_ann_level_1', 'original_ann_level_2', 'original_ann_level_3', 'original_ann_level_4', 'original_ann_level_5', 'original_ann_highest_res', 'original_ann_new', 'original_ann_level_1_clean', 'original_ann_level_2_clean', 'original_ann_level_3_clean', 'original_ann_level_4_clean', 'original_ann_level_5_clean', 'cluster_annotated', 'manual_ann_grouped', 'entropy_subject_ID_leiden_3', 'entropy_dataset_leiden_3', 'entropy_original_ann_level_1_leiden_3', 'entropy_original_ann_level_2_clean_leiden_3', 'entropy_original_ann_level_3_clean_leiden_3', 'core_or_extension', 'ancestry', 'mixed_ancestry', 'transf_ann_level_1_label', 'transf_ann_level_1_uncert', 'transf_ann_level_2_label', 'transf_ann_level_2_uncert', 'transf_ann_level_3_label', 'transf_ann_level_3_uncert', 'transf_ann_level_4_label', 'transf_ann_level_4_uncert', 'transf_ann_level_5_label', 'transf_ann_level_5_uncert', 'cellname_original'\n",
       "    var: 'original_aggr', 'ensembl_id'\n",
       "    uns: 'log1p', 'neighbors'\n",
       "    obsm: 'X_scanvi_emb', 'X_umap'\n",
       "    layers: 'raw'\n",
       "    obsp: 'connectivities', 'distances'"
      ]
     },
     "execution_count": 6,
     "metadata": {},
     "output_type": "execute_result"
    }
   ],
   "source": [
    "ext"
   ]
  },
  {
   "cell_type": "code",
   "execution_count": 9,
   "metadata": {},
   "outputs": [],
   "source": [
    "import matplotlib.pyplot as plt"
   ]
  },
  {
   "cell_type": "code",
   "execution_count": 13,
   "metadata": {},
   "outputs": [
    {
     "data": {
      "text/plain": [
       "array([[0.        , 0.        , 0.        , 0.        , 0.        ,\n",
       "        0.        , 0.        , 0.        , 0.        , 0.        ],\n",
       "       [0.        , 0.94607663, 0.        , 0.        , 0.        ,\n",
       "        0.        , 0.        , 0.        , 0.        , 0.        ],\n",
       "       [0.        , 0.        , 0.        , 0.        , 0.        ,\n",
       "        0.        , 0.        , 0.        , 0.        , 0.        ],\n",
       "       [0.        , 0.        , 0.        , 0.        , 0.        ,\n",
       "        0.        , 0.        , 0.        , 0.        , 0.        ],\n",
       "       [0.        , 0.        , 0.        , 0.        , 0.        ,\n",
       "        0.        , 0.        , 0.        , 0.        , 0.        ],\n",
       "       [0.        , 0.        , 0.        , 0.        , 0.        ,\n",
       "        0.        , 0.        , 0.        , 0.        , 0.        ],\n",
       "       [0.        , 0.        , 0.        , 0.        , 0.        ,\n",
       "        0.        , 0.        , 0.        , 0.        , 0.        ],\n",
       "       [0.        , 0.        , 0.        , 0.        , 0.        ,\n",
       "        0.        , 0.        , 0.        , 0.        , 0.        ],\n",
       "       [0.        , 0.        , 0.        , 0.        , 1.3324518 ,\n",
       "        0.        , 0.        , 0.        , 0.        , 0.        ],\n",
       "       [0.        , 0.        , 0.        , 0.        , 1.441603  ,\n",
       "        0.        , 0.        , 0.        , 0.        , 0.        ]],\n",
       "      dtype=float32)"
      ]
     },
     "execution_count": 13,
     "metadata": {},
     "output_type": "execute_result"
    }
   ],
   "source": [
    "ext.layers[\"raw\"][-10:, -10:].toarray()"
   ]
  },
  {
   "cell_type": "code",
   "execution_count": 5,
   "metadata": {},
   "outputs": [],
   "source": [
    "ext_obs_cols_to_keep = [\n",
    "    \"BMI\",\n",
    "    \"age\",\n",
    "    \"anatomical_region_ccf_score\",\n",
    "    \"anatomical_region_coarse\",\n",
    "    \"anatomical_region_detailed\",\n",
    "    \"anatomical_region_level_1\",\n",
    "    \"anatomical_region_level_2\",\n",
    "    \"anatomical_region_level_3\",\n",
    "    \"ancestry\",\n",
    "    \"ann_level_1_clean\",\n",
    "    \"ann_level_2_clean\",\n",
    "    \"ann_level_3_clean\",\n",
    "    \"ann_level_4_clean\",\n",
    "    \"ann_level_5_clean\",\n",
    "    \"cause_of_death\",\n",
    "    \"cells_or_nuclei\",\n",
    "    \"condition\",\n",
    "    \"core_or_extension\",\n",
    "    \"dataset\",\n",
    "    \"fresh_or_frozen\",\n",
    "    # 'log10_total_counts', # add when we have the full counts matrix\n",
    "    \"manual_ann\",\n",
    "    \"manual_ann_grouped\",\n",
    "    \"mixed_ancestry\",\n",
    "    # 'n_genes_detected', # add when we have the full counts matrix\n",
    "    \"original_ann_level_1_clean\",\n",
    "    \"original_ann_level_2_clean\",\n",
    "    \"original_ann_level_3_clean\",\n",
    "    \"original_ann_level_4_clean\",\n",
    "    \"original_ann_level_5_clean\",\n",
    "    \"original_celltype_ann\",\n",
    "    \"reannotation_type\",\n",
    "    \"sample\",\n",
    "    \"sample_type\",\n",
    "    \"scanvi_label\",\n",
    "    \"sequencing_platform\",\n",
    "    \"sex\",\n",
    "    \"single_cell_platform\",\n",
    "    # 'size_factors', # add when we have a SCRAN-normalized full counts matrix\n",
    "    \"smoking_status\",\n",
    "    \"study\",\n",
    "    \"subject_ID\",\n",
    "    \"subject_type\",\n",
    "    \"tissue_dissociation_protocol\",\n",
    "    \"transf_ann_level_1_label\",\n",
    "    \"transf_ann_level_1_uncert\",\n",
    "    \"transf_ann_level_2_label\",\n",
    "    \"transf_ann_level_2_uncert\",\n",
    "    \"transf_ann_level_3_label\",\n",
    "    \"transf_ann_level_3_uncert\",\n",
    "    \"transf_ann_level_4_label\",\n",
    "    \"transf_ann_level_4_uncert\",\n",
    "    \"transf_ann_level_5_label\",\n",
    "    \"transf_ann_level_5_uncert\",\n",
    "]"
   ]
  },
  {
   "cell_type": "code",
   "execution_count": null,
   "metadata": {},
   "outputs": [],
   "source": []
  },
  {
   "cell_type": "code",
   "execution_count": 46,
   "metadata": {},
   "outputs": [],
   "source": [
    "ext_uns_to_keep = [\n",
    "    \"neighbors\",\n",
    "    \"umap\",\n",
    "]"
   ]
  },
  {
   "cell_type": "code",
   "execution_count": 9,
   "metadata": {},
   "outputs": [
    {
     "data": {
      "text/plain": [
       "AnnData object with n_obs × n_vars = 2382658 × 61928\n",
       "    obs: 'sample', 'original_celltype_ann', 'study_long', 'study', 'last_author_PI', 'subject_ID', 'subject_ID_as_published', 'pre_or_postnatal', 'age_in_years', 'age_range', 'sex', 'smoking_status', 'smoking_history', 'BMI', 'known_lung_disease', 'condition', 'subject_type', 'cause_of_death', 'sample_type', 'anatomical_region_coarse', 'anatomical_region_detailed', 'tissue_dissociation_protocol', 'cells_or_nuclei', 'single_cell_platform', \"3'_or_5'\", 'enrichment', 'sequencing_platform', 'reference_genome_coarse', 'ensembl_release_reference_genome', 'cell_ranger_version', 'disease_status', 'fresh_or_frozen', 'cultured', 'cell_viability_%', 'comments', 'Processing_site', 'dataset', 'anatomical_region_level_1', 'anatomical_region_level_2', 'anatomical_region_level_3', 'anatomical_region_highest_res', 'age', 'ann_level_1', 'ann_level_2', 'ann_level_3', 'ann_level_4', 'ann_level_5', 'ann_highest_res', 'ann_new', 'n_genes', 'total_counts', 'log10_total_counts', 'n_genes_detected', 'mito_frac', 'ribo_frac', 'compl', 'size_factors', 'ann_level_1_clean', 'ann_level_2_clean', 'ann_level_3_clean', 'ann_level_4_clean', 'ann_level_5_clean', 'scanvi_label', 'leiden_1', 'leiden_2', 'leiden_3', 'anatomical_region_ccf_score', 'manual_ann', 'leiden_4', 'reannotation_type', 'leiden_5', 'original_ann_level_1', 'original_ann_level_2', 'original_ann_level_3', 'original_ann_level_4', 'original_ann_level_5', 'original_ann_highest_res', 'original_ann_new', 'original_ann_level_1_clean', 'original_ann_level_2_clean', 'original_ann_level_3_clean', 'original_ann_level_4_clean', 'original_ann_level_5_clean', 'cluster_annotated', 'manual_ann_grouped', 'entropy_subject_ID_leiden_3', 'entropy_dataset_leiden_3', 'entropy_original_ann_level_1_leiden_3', 'entropy_original_ann_level_2_clean_leiden_3', 'entropy_original_ann_level_3_clean_leiden_3', 'core_or_extension', 'ancestry', 'mixed_ancestry', 'transf_ann_level_1_label', 'transf_ann_level_1_uncert', 'transf_ann_level_2_label', 'transf_ann_level_2_uncert', 'transf_ann_level_3_label', 'transf_ann_level_3_uncert', 'transf_ann_level_4_label', 'transf_ann_level_4_uncert', 'transf_ann_level_5_label', 'transf_ann_level_5_uncert', 'cellname_original'"
      ]
     },
     "execution_count": 9,
     "metadata": {},
     "output_type": "execute_result"
    }
   ],
   "source": [
    "ext"
   ]
  },
  {
   "cell_type": "code",
   "execution_count": 10,
   "metadata": {},
   "outputs": [],
   "source": [
    "unc_threshold = 0.2"
   ]
  },
  {
   "cell_type": "code",
   "execution_count": 11,
   "metadata": {},
   "outputs": [],
   "source": [
    "# column renaming info\n",
    "col_renamer_ext = {\n",
    "    \"original_ann_level_1_clean\": \"original_ann_level_1\",\n",
    "    \"original_ann_level_2_clean\": \"original_ann_level_2\",\n",
    "    \"original_ann_level_3_clean\": \"original_ann_level_3\",\n",
    "    \"original_ann_level_4_clean\": \"original_ann_level_4\",\n",
    "    \"original_ann_level_5_clean\": \"original_ann_level_5\",\n",
    "    \"ann_level_1_clean\": \"ann_level_1\",\n",
    "    \"ann_level_2_clean\": \"ann_level_2\",\n",
    "    \"ann_level_3_clean\": \"ann_level_3\",\n",
    "    \"ann_level_4_clean\": \"ann_level_4\",\n",
    "    \"ann_level_5_clean\": \"ann_level_5\",\n",
    "    \"manual_ann\": \"ann_finest_level\",\n",
    "    \"manual_ann_grouped\": \"ann_coarse_for_GWAS_and_modeling\",\n",
    "    \"original_celltype_ann\": \"original_ann_nonharmonized\",\n",
    "    \"condition\": \"lung_condition\",\n",
    "    \"sample_type\": \"tissue_sampling_method\",\n",
    "}\n",
    "for lev in range(1, 6):\n",
    "    col_renamer_ext[\n",
    "        \"anatomical_region_coarse\"\n",
    "    ] = \"anatomical_region_coarse_unharmonized\"\n",
    "    col_renamer_ext[\n",
    "        \"anatomical_region_detailed\"\n",
    "    ] = \"anatomical_region_detailed_unharmonized\"\n",
    "    col_renamer_ext[f\"original_ann_level_{lev}_clean\"] = f\"original_ann_level_{lev}\""
   ]
  },
  {
   "cell_type": "markdown",
   "metadata": {},
   "source": [
    "Now clean:"
   ]
  },
  {
   "cell_type": "code",
   "execution_count": 12,
   "metadata": {},
   "outputs": [],
   "source": [
    "ext.obs = ext.obs.loc[:, ext_obs_cols_to_keep].copy()"
   ]
  },
  {
   "cell_type": "code",
   "execution_count": 13,
   "metadata": {},
   "outputs": [],
   "source": [
    "ext_uns_keys = list(ext.uns.keys())\n",
    "for uns in ext_uns_keys:\n",
    "    if uns not in ext_uns_to_keep:\n",
    "        del ext.uns[uns]"
   ]
  },
  {
   "cell_type": "markdown",
   "metadata": {},
   "source": [
    "Add scanvi embedding to obsm:"
   ]
  },
  {
   "cell_type": "code",
   "execution_count": 51,
   "metadata": {},
   "outputs": [],
   "source": [
    "# do this once we have the full gene matrix"
   ]
  },
  {
   "cell_type": "markdown",
   "metadata": {},
   "source": [
    "rename obs columns:"
   ]
  },
  {
   "cell_type": "code",
   "execution_count": 14,
   "metadata": {},
   "outputs": [],
   "source": [
    "ext.obs.rename(columns=col_renamer_ext, inplace=True)"
   ]
  },
  {
   "cell_type": "markdown",
   "metadata": {},
   "source": [
    "add column with threshold:"
   ]
  },
  {
   "cell_type": "code",
   "execution_count": 15,
   "metadata": {},
   "outputs": [],
   "source": [
    "for lev in range(1, 6):\n",
    "    ext.obs[f\"transf_ann_level_{lev}_label_thresholded\"] = ext.obs[\n",
    "        f\"transf_ann_level_{lev}_label\"\n",
    "    ].tolist()\n",
    "    ext.obs.loc[\n",
    "        ext.obs[f\"transf_ann_level_{lev}_uncert\"] > unc_threshold,\n",
    "        f\"transf_ann_level_{lev}_label_thresholded\",\n",
    "    ] = \"Unknown\""
   ]
  },
  {
   "cell_type": "markdown",
   "metadata": {},
   "source": [
    "add transfered labels to \"ann_level_[1-5]\" plus to ann_finest_level, so that annotations of core and extension can be visualized and analyzed at once"
   ]
  },
  {
   "cell_type": "code",
   "execution_count": 16,
   "metadata": {},
   "outputs": [],
   "source": [
    "for lev in range(1, 6):\n",
    "    ext.obs[f\"ann_level_{lev}\"] = ext.obs[\n",
    "        f\"ann_level_{lev}\"\n",
    "    ].tolist()  # so that we can freely add new categories\n",
    "    ext.obs.loc[ext.obs.core_or_extension == \"extension\", f\"ann_level_{lev}\"] = [\n",
    "        transf_ann\n",
    "        for transf_ann, core_or_ext in zip(\n",
    "            ext.obs[f\"transf_ann_level_{lev}_label_thresholded\"],\n",
    "            ext.obs.core_or_extension,\n",
    "        )\n",
    "        if core_or_ext == \"extension\"\n",
    "    ]\n",
    "    # remove annotations with prefixes:\n",
    "    ext.obs.loc[ext.obs.core_or_extension == \"extension\", f\"ann_level_{lev}\"] = [\n",
    "        np.nan if lab[1] == \"_\" else lab\n",
    "        for lab, core_or_ext in zip(\n",
    "            ext.obs[f\"ann_level_{lev}\"], ext.obs.core_or_extension\n",
    "        )\n",
    "        if core_or_ext == \"extension\"\n",
    "    ]\n",
    "# for ann finest level:\n",
    "ext.obs.ann_finest_level = (\n",
    "    ext.obs.ann_finest_level.tolist()\n",
    ")  # so that we can freely add new categories\n",
    "# add transfered anns from level 5\n",
    "ext.obs.loc[ext.obs.core_or_extension == \"extension\", \"ann_finest_level\"] = [\n",
    "    transf_ann\n",
    "    for transf_ann, core_or_ext in zip(\n",
    "        ext.obs[\"transf_ann_level_5_label_thresholded\"],\n",
    "        ext.obs.core_or_extension,\n",
    "    )\n",
    "    if core_or_ext == \"extension\"\n",
    "]\n",
    "# remove prefixes from annotations\n",
    "ext.obs.loc[ext.obs.core_or_extension == \"extension\", \"ann_finest_level\"] = [\n",
    "    lab[2:] if lab[1] == \"_\" else lab\n",
    "    for lab, core_or_ext in zip(ext.obs.ann_finest_level, ext.obs.core_or_extension)\n",
    "    if core_or_ext == \"extension\"\n",
    "]"
   ]
  },
  {
   "cell_type": "code",
   "execution_count": 17,
   "metadata": {},
   "outputs": [],
   "source": [
    "sc.set_figure_params(figsize=(8, 8))"
   ]
  },
  {
   "cell_type": "code",
   "execution_count": 56,
   "metadata": {},
   "outputs": [],
   "source": [
    "## as check:\n",
    "# sc.pl.umap(ext, color=[\"ann_level_2\", \"ann_finest_level\"], ncols=1, frameon=False)"
   ]
  },
  {
   "cell_type": "markdown",
   "metadata": {},
   "source": [
    "remove thresholded transfered annotations (those are now in ann_level_[1-5])"
   ]
  },
  {
   "cell_type": "code",
   "execution_count": 18,
   "metadata": {},
   "outputs": [],
   "source": [
    "for lev in range(1, 6):\n",
    "    del ext.obs[f\"transf_ann_level_{lev}_label_thresholded\"]"
   ]
  },
  {
   "cell_type": "markdown",
   "metadata": {},
   "source": [
    "sort columns alphabetically:"
   ]
  },
  {
   "cell_type": "code",
   "execution_count": 19,
   "metadata": {},
   "outputs": [],
   "source": [
    "ext.obs = ext.obs.loc[:, sorted(ext.obs.columns)].copy()"
   ]
  },
  {
   "cell_type": "code",
   "execution_count": 20,
   "metadata": {},
   "outputs": [
    {
     "data": {
      "text/plain": [
       "AnnData object with n_obs × n_vars = 2382658 × 61928\n",
       "    obs: 'BMI', 'age', 'anatomical_region_ccf_score', 'anatomical_region_coarse_unharmonized', 'anatomical_region_detailed_unharmonized', 'anatomical_region_level_1', 'anatomical_region_level_2', 'anatomical_region_level_3', 'ancestry', 'ann_coarse_for_GWAS_and_modeling', 'ann_finest_level', 'ann_level_1', 'ann_level_2', 'ann_level_3', 'ann_level_4', 'ann_level_5', 'cause_of_death', 'cells_or_nuclei', 'core_or_extension', 'dataset', 'fresh_or_frozen', 'lung_condition', 'mixed_ancestry', 'original_ann_level_1', 'original_ann_level_2', 'original_ann_level_3', 'original_ann_level_4', 'original_ann_level_5', 'original_ann_nonharmonized', 'reannotation_type', 'sample', 'scanvi_label', 'sequencing_platform', 'sex', 'single_cell_platform', 'smoking_status', 'study', 'subject_ID', 'subject_type', 'tissue_dissociation_protocol', 'tissue_sampling_method', 'transf_ann_level_1_label', 'transf_ann_level_1_uncert', 'transf_ann_level_2_label', 'transf_ann_level_2_uncert', 'transf_ann_level_3_label', 'transf_ann_level_3_uncert', 'transf_ann_level_4_label', 'transf_ann_level_4_uncert', 'transf_ann_level_5_label', 'transf_ann_level_5_uncert'"
      ]
     },
     "execution_count": 20,
     "metadata": {},
     "output_type": "execute_result"
    }
   ],
   "source": [
    "ext"
   ]
  },
  {
   "cell_type": "markdown",
   "metadata": {},
   "source": [
    "Convert float64 to float32 for counts (both raw and normalized):"
   ]
  },
  {
   "cell_type": "code",
   "execution_count": 60,
   "metadata": {},
   "outputs": [],
   "source": [
    "ext.X = ext.X.astype(np.float32)\n",
    "# to add: same for layer['counts']"
   ]
  },
  {
   "cell_type": "markdown",
   "metadata": {},
   "source": [
    "Set all versions of nan (i.e. \"nan\", NaN, None, etc.) to np.nan:"
   ]
  },
  {
   "cell_type": "code",
   "execution_count": 61,
   "metadata": {},
   "outputs": [],
   "source": [
    "ext_obs_none_entries = ext.obs.applymap(utils.check_if_nan)\n",
    "ext.obs.mask(ext_obs_none_entries.values, inplace=True)"
   ]
  },
  {
   "cell_type": "markdown",
   "metadata": {},
   "source": [
    "Write:"
   ]
  },
  {
   "cell_type": "code",
   "execution_count": 62,
   "metadata": {},
   "outputs": [],
   "source": [
    "ext.write(path_hlca_ext_clean_out, compression=\"gzip\")"
   ]
  },
  {
   "cell_type": "markdown",
   "metadata": {},
   "source": [
    "## Store tables:"
   ]
  },
  {
   "cell_type": "code",
   "execution_count": 63,
   "metadata": {},
   "outputs": [],
   "source": [
    "dataset_overview.to_csv(\n",
    "    os.path.join(dir_supp_tables_out, \"SuppT_1_dataset_overview.csv\")\n",
    ")"
   ]
  },
  {
   "cell_type": "code",
   "execution_count": 64,
   "metadata": {},
   "outputs": [],
   "source": [
    "sample_overview.to_csv(os.path.join(dir_supp_tables_out, \"SuppT_2_sample_overview.csv\"))"
   ]
  },
  {
   "cell_type": "code",
   "execution_count": 26,
   "metadata": {},
   "outputs": [],
   "source": [
    "manual_ann_hierarchy.to_csv(os.path.join(dir_supp_tables_out, \"SuppT_5_manual_ann.csv\"))"
   ]
  },
  {
   "cell_type": "code",
   "execution_count": 66,
   "metadata": {},
   "outputs": [],
   "source": [
    "harmonizing_df.to_csv(\n",
    "    os.path.join(dir_supp_tables_out, \"SuppT_4_celltype_ref_mapping.csv\")\n",
    ")"
   ]
  },
  {
   "cell_type": "code",
   "execution_count": 68,
   "metadata": {},
   "outputs": [],
   "source": [
    "# for ct, ct_res in ct_results_gene.items():\n",
    "#     ct_res.to_csv(\n",
    "#         os.path.join(\n",
    "#             dir_supp_tables_out, \"SuppT_X_covariate_modeling_gene_results\", ct + \".csv\"\n",
    "#         )\n",
    "#     )"
   ]
  },
  {
   "cell_type": "code",
   "execution_count": null,
   "metadata": {},
   "outputs": [],
   "source": []
  }
 ],
 "metadata": {
  "kernelspec": {
   "display_name": "Python 3 (ipykernel)",
   "language": "python",
   "name": "python3"
  },
  "language_info": {
   "codemirror_mode": {
    "name": "ipython",
    "version": 3
   },
   "file_extension": ".py",
   "mimetype": "text/x-python",
   "name": "python",
   "nbconvert_exporter": "python",
   "pygments_lexer": "ipython3",
   "version": "3.7.13"
  }
 },
 "nbformat": 4,
 "nbformat_minor": 4
}
