{
 "cells": [
  {
   "cell_type": "markdown",
   "id": "f0a953fc-cc27-4a89-b264-153f2f7cad0e",
   "metadata": {},
   "source": [
    "# HLCA Datasets gene harmonisation"
   ]
  },
  {
   "cell_type": "markdown",
   "id": "99ed9877",
   "metadata": {},
   "source": [
    "This notebook is in charge of using idtrack for the gene harmonisation of the HLCA."
   ]
  },
  {
   "cell_type": "markdown",
   "id": "df897a4b",
   "metadata": {},
   "source": [
    "__author__ = \"Kemal Inecik, Ciro Ramírez-Suástegui\"\n",
    "\n",
    "__maintainer__ = \"Lisa Sikkema, Ciro Ramírez-Suástegui\"\n",
    "\n",
    "__email__ = \"lisa.sikkema@helmholtz-muenchen.de, ciro.rsuastegui@helmholtz-munich.de\""
   ]
  },
  {
   "cell_type": "markdown",
   "id": "607ec207",
   "metadata": {},
   "source": [
    "### Import"
   ]
  },
  {
   "cell_type": "code",
   "execution_count": 3,
   "id": "fbc5ad8e-5349-4e46-83c3-c9ab16db3052",
   "metadata": {},
   "outputs": [],
   "source": [
    "import os\n",
    "import time\n",
    "import pickle"
   ]
  },
  {
   "cell_type": "code",
   "execution_count": null,
   "id": "bf18bd88-2818-4c77-b893-52cc72f79b97",
   "metadata": {},
   "outputs": [],
   "source": [
    "import scanpy as sc\n",
    "import idtrack"
   ]
  },
  {
   "cell_type": "code",
   "execution_count": 3,
   "id": "95b8ad71-2ea0-47f7-afed-198dcf005780",
   "metadata": {},
   "outputs": [],
   "source": [
    "%load_ext autoreload\n",
    "%autoreload 2"
   ]
  },
  {
   "cell_type": "markdown",
   "id": "824d145a",
   "metadata": {},
   "source": [
    "### Load data"
   ]
  },
  {
   "cell_type": "markdown",
   "id": "0f5f65a1-9c9d-40ad-aba7-5cd52b01cc97",
   "metadata": {},
   "source": [
    "Initialize the graph and pathfinder"
   ]
  },
  {
   "cell_type": "code",
   "execution_count": 4,
   "id": "19a77f26-5852-4c04-a2a0-cab6bf3a9e75",
   "metadata": {},
   "outputs": [
    {
     "name": "stderr",
     "output_type": "stream",
     "text": [
      "2022-11-01 16:45:08 INFO:graph_maker: The graph is being read.\n"
     ]
    }
   ],
   "source": [
    "local_dir = \"/lustre/groups/ml01/workspace/kemal.inecik/idtrack_temp\"\n",
    "idt = idtrack.API(local_repository=local_dir)\n",
    "idt.configure_logger()\n",
    "idt.initialize_graph(organism_name='homo_sapiens', ensembl_release=107, return_test=True)"
   ]
  },
  {
   "cell_type": "code",
   "execution_count": 5,
   "id": "1376cffc-093d-4893-a9b9-269b8d8d583f",
   "metadata": {},
   "outputs": [
    {
     "name": "stderr",
     "output_type": "stream",
     "text": [
      "2022-11-01 16:45:47 INFO:the_graph: Cached properties being calculated: combined_edges\n",
      "2022-11-01 16:46:32 INFO:the_graph: Cached properties being calculated: combined_edges_assembly_specific_genes\n",
      "2022-11-01 16:46:35 INFO:the_graph: Cached properties being calculated: combined_edges_genes\n",
      "2022-11-01 16:46:46 INFO:the_graph: Cached properties being calculated: lower_chars_graph\n",
      "2022-11-01 16:46:47 INFO:the_graph: Cached properties being calculated: get_active_ranges_of_id\n",
      "2022-11-01 16:47:06 INFO:the_graph: Cached properties being calculated: available_external_databases\n",
      "2022-11-01 16:47:07 INFO:the_graph: Cached properties being calculated: external_database_connection_form\n",
      "2022-11-01 16:47:40 INFO:the_graph: Cached properties being calculated: available_genome_assemblies\n",
      "2022-11-01 16:47:40 INFO:the_graph: Cached properties being calculated: available_external_databases_assembly\n",
      "2022-11-01 16:47:41 INFO:the_graph: Cached properties being calculated: node_trios\n"
     ]
    }
   ],
   "source": [
    "idt.calculate_graph_caches() "
   ]
  },
  {
   "cell_type": "markdown",
   "id": "99722a75-43cb-4947-8cdd-a1bcebbe1b57",
   "metadata": {},
   "source": [
    "The datasets of HLCA"
   ]
  },
  {
   "cell_type": "code",
   "execution_count": 6,
   "id": "dbed66bd-cb19-454c-8d98-a976a8f36b87",
   "metadata": {},
   "outputs": [],
   "source": [
    "base_path = \"/lustre/groups/ml01/workspace/hlca_lisa.sikkema_malte.luecken/HLCA_reproducibility/data\"\n",
    "dset0_dir = os.path.join(base_path, \"HLCA_extended/extension_datasets/ready/full\")\n",
    "dset1_dir = os.path.join(base_path, \"HLCA_extended/extension_datasets/raw\")\n",
    "\n",
    "adata_dict = {\n",
    "    \"Kaminski_2020\": [f\"{dset0_dir}/adams.h5ad\"],\n",
    "    \"Meyer_2021\": [f\"{dset0_dir}/meyer_2021.h5ad\"],\n",
    "    \"MeyerNikolic_unpubl\": [f\"{dset0_dir}/meyer_nikolic_unpubl.h5ad\"],\n",
    "    \"Barbry_unpubl\": [f\"{dset0_dir}/barbry.h5ad\"],\n",
    "    \"Regev_2021\": [\n",
    "        f\"{dset0_dir}/delorey_cryo.h5ad\", f\"{dset0_dir}/delorey_fresh.h5ad\",\n",
    "        f\"{dset0_dir}/delorey_nuclei.h5ad\"\n",
    "    ],\n",
    "    \"Thienpont_2018\": [f\"{dset1_dir}/Lambrechts/lambrechts.h5ad\"],\n",
    "    \"Budinger_2020\": [f\"{dset0_dir}/bharat.h5ad\"],\n",
    "    \"Banovich_Kropski_2020\": [f\"{dset0_dir}/haberman.h5ad\"],\n",
    "    \"Sheppard_2020\": [f\"{dset0_dir}/tsukui.h5ad\"],\n",
    "    \"Wunderink_2021\": [\n",
    "        f\"{dset0_dir}/grant_cryo.h5ad\", f\"{dset0_dir}/grant_fresh.h5ad\"\n",
    "    ],\n",
    "    \"Lambrechts_2021\": [\n",
    "        f\"{dset0_dir}/wouters.h5ad\" #, f\"{dset0_dir}/wouters_labs.h5ad\"\n",
    "    ],\n",
    "    \"Zhang_2021\": [f\"{dset1_dir}/Liao/covid_for_publish.h5ad\"],\n",
    "    \"Duong_lungMAP_unpubl\": [f\"{dset0_dir}/duong.h5ad\"],\n",
    "    \"Janssen_2020\": [f\"{dset0_dir}/mould.h5ad\"],\n",
    "    \"Sun_2020\": [\n",
    "        f\"{dset0_dir}/wang_sub_batch1.h5ad\", f\"{dset0_dir}/wang_sub_batch2.h5ad\",\n",
    "        f\"{dset0_dir}/wang_sub_batch3.h5ad\", f\"{dset0_dir}/wang_sub_batch4.h5ad\"],\n",
    "    \"Gomperts_2021\": [\n",
    "        f\"{dset0_dir}/carraro_ucla.h5ad\", f\"{dset0_dir}/carraro_cff.h5ad\",\n",
    "        f\"{dset0_dir}/carraro_csmc.h5ad\"],\n",
    "    \"Eils_2020\": [f\"{dset0_dir}/lukassen.h5ad\"],\n",
    "    \"Schiller_2020\": [f\"{dset0_dir}/mayr.h5ad\"],\n",
    "    \"Misharin_Budinger_2018\": [f\"{dset0_dir}/reyfman_disease.h5ad\"],\n",
    "    \"Shalek_2018\": [f\"{dset0_dir}/ordovasmontanes.h5ad\"],\n",
    "    \"Schiller_2021\": [f\"{dset0_dir}/schiller_discovair.h5ad\"],\n",
    "    \"Peer_Massague_2020\": [f\"{dset0_dir}/laughney.h5ad\"],\n",
    "    \"Lafyatis_2019\": [f\"{dset0_dir}/valenzi.h5ad\"],\n",
    "    \"Tata_unpubl\": [f\"{dset0_dir}/tata_unpubl.h5ad\"],\n",
    "    \"Xu_2020\": [f\"{dset0_dir}/guo.h5ad\"],\n",
    "    \"Sims_2019\": [f\"{dset0_dir}/szabo.h5ad\"],\n",
    "    \"Schultze_unpubl\": [f\"{dset0_dir}/schultze_unpubl.h5ad\"]\n",
    "}"
   ]
  },
  {
   "cell_type": "markdown",
   "id": "58f70790-d740-45c9-a998-1730189807e9",
   "metadata": {},
   "source": [
    "Run the ID conversion with HGNC Symbol (a.k.a gene name)"
   ]
  },
  {
   "cell_type": "code",
   "execution_count": 7,
   "id": "41926f53-aed1-465a-858b-d766a68652d4",
   "metadata": {},
   "outputs": [
    {
     "data": {
      "application/json": {
       "ascii": false,
       "bar_format": null,
       "colour": null,
       "elapsed": 0.014216899871826172,
       "initial": 0,
       "n": 0,
       "ncols": null,
       "nrows": 24,
       "postfix": null,
       "prefix": "Kaminski_2020",
       "rate": null,
       "total": 45947,
       "unit": "it",
       "unit_divisor": 1000,
       "unit_scale": false
      },
      "application/vnd.jupyter.widget-view+json": {
       "model_id": "11847d070b2443998685a846df1a9429",
       "version_major": 2,
       "version_minor": 0
      },
      "text/plain": [
       "Kaminski_2020:   0%|          | 0/45947 [00:00<?, ?it/s]"
      ]
     },
     "metadata": {},
     "output_type": "display_data"
    },
    {
     "name": "stdout",
     "output_type": "stream",
     "text": [
      "changed_only_1_to_n: 59\n",
      "changed_only_1_to_1: 4002\n",
      "alternative_target_1_to_1: 12331\n",
      "alternative_target_1_to_n: 13\n",
      "matching_1_to_0: 98\n",
      "matching_1_to_1: 33446\n",
      "matching_1_to_n: 59\n",
      "input_identifiers: 45947\n",
      "Source release: (38, 94)\n"
     ]
    },
    {
     "data": {
      "application/json": {
       "ascii": false,
       "bar_format": null,
       "colour": null,
       "elapsed": 0.012955665588378906,
       "initial": 0,
       "n": 0,
       "ncols": null,
       "nrows": 24,
       "postfix": null,
       "prefix": "Meyer_2021",
       "rate": null,
       "total": 20922,
       "unit": "it",
       "unit_divisor": 1000,
       "unit_scale": false
      },
      "application/vnd.jupyter.widget-view+json": {
       "model_id": "9b7408901e444b04a5c81c03570992d2",
       "version_major": 2,
       "version_minor": 0
      },
      "text/plain": [
       "Meyer_2021:   0%|          | 0/20922 [00:00<?, ?it/s]"
      ]
     },
     "metadata": {},
     "output_type": "display_data"
    },
    {
     "name": "stdout",
     "output_type": "stream",
     "text": [
      "changed_only_1_to_n: 3\n",
      "changed_only_1_to_1: 997\n",
      "alternative_target_1_to_1: 368\n",
      "alternative_target_1_to_n: 2\n",
      "matching_1_to_0: 17\n",
      "matching_1_to_1: 20532\n",
      "matching_1_to_n: 3\n",
      "input_identifiers: 20922\n",
      "Source release: (38, 84)\n"
     ]
    },
    {
     "data": {
      "application/json": {
       "ascii": false,
       "bar_format": null,
       "colour": null,
       "elapsed": 0.012590169906616211,
       "initial": 0,
       "n": 0,
       "ncols": null,
       "nrows": 24,
       "postfix": null,
       "prefix": "MeyerNikolic_unpubl",
       "rate": null,
       "total": 33582,
       "unit": "it",
       "unit_divisor": 1000,
       "unit_scale": false
      },
      "application/vnd.jupyter.widget-view+json": {
       "model_id": "fc1fb4c5762c4955beaef27d07a7c20e",
       "version_major": 2,
       "version_minor": 0
      },
      "text/plain": [
       "MeyerNikolic_unpubl:   0%|          | 0/33582 [00:00<?, ?it/s]"
      ]
     },
     "metadata": {},
     "output_type": "display_data"
    },
    {
     "name": "stderr",
     "output_type": "stream",
     "text": [
      "2022-11-01 17:01:46 WARNING:api: Number of unfound IDs: 27.\n"
     ]
    },
    {
     "name": "stdout",
     "output_type": "stream",
     "text": [
      "changed_only_1_to_n: 15\n",
      "changed_only_1_to_1: 2711\n",
      "alternative_target_1_to_1: 8342\n",
      "alternative_target_1_to_n: 10\n",
      "matching_1_to_0: 106\n",
      "matching_1_to_1: 25109\n",
      "matching_1_to_n: 15\n",
      "input_identifiers: 33582\n",
      "Source release: (38, 93)\n"
     ]
    },
    {
     "data": {
      "application/json": {
       "ascii": false,
       "bar_format": null,
       "colour": null,
       "elapsed": 0.012558937072753906,
       "initial": 0,
       "n": 0,
       "ncols": null,
       "nrows": 24,
       "postfix": null,
       "prefix": "Barbry_unpubl",
       "rate": null,
       "total": 16859,
       "unit": "it",
       "unit_divisor": 1000,
       "unit_scale": false
      },
      "application/vnd.jupyter.widget-view+json": {
       "model_id": "3111b1df8a174fd5973838b5337e3a0a",
       "version_major": 2,
       "version_minor": 0
      },
      "text/plain": [
       "Barbry_unpubl:   0%|          | 0/16859 [00:00<?, ?it/s]"
      ]
     },
     "metadata": {},
     "output_type": "display_data"
    },
    {
     "name": "stderr",
     "output_type": "stream",
     "text": [
      "2022-11-01 17:05:38 WARNING:api: Number of unfound IDs: 1.\n"
     ]
    },
    {
     "name": "stdout",
     "output_type": "stream",
     "text": [
      "changed_only_1_to_n: 1\n",
      "changed_only_1_to_1: 972\n",
      "alternative_target_1_to_1: 1679\n",
      "alternative_target_1_to_n: 4\n",
      "matching_1_to_0: 20\n",
      "matching_1_to_1: 15155\n",
      "matching_1_to_n: 1\n",
      "input_identifiers: 16859\n",
      "Source release: (38, 98)\n"
     ]
    },
    {
     "data": {
      "application/json": {
       "ascii": false,
       "bar_format": null,
       "colour": null,
       "elapsed": 0.055288076400756836,
       "initial": 0,
       "n": 0,
       "ncols": null,
       "nrows": 24,
       "postfix": null,
       "prefix": "Regev_2021",
       "rate": null,
       "total": 30983,
       "unit": "it",
       "unit_divisor": 1000,
       "unit_scale": false
      },
      "application/vnd.jupyter.widget-view+json": {
       "model_id": "005da307a7b24dacbc9e506e30eaf5f1",
       "version_major": 2,
       "version_minor": 0
      },
      "text/plain": [
       "Regev_2021:   0%|          | 0/30983 [00:00<?, ?it/s]"
      ]
     },
     "metadata": {},
     "output_type": "display_data"
    },
    {
     "name": "stderr",
     "output_type": "stream",
     "text": [
      "2022-11-01 17:10:14 WARNING:api: Number of unfound IDs: 48.\n"
     ]
    },
    {
     "name": "stdout",
     "output_type": "stream",
     "text": [
      "changed_only_1_to_n: 8\n",
      "changed_only_1_to_1: 2520\n",
      "alternative_target_1_to_1: 7387\n",
      "alternative_target_1_to_n: 9\n",
      "matching_1_to_0: 113\n",
      "matching_1_to_1: 23466\n",
      "matching_1_to_n: 8\n",
      "input_identifiers: 30983\n",
      "Source release: (38, 93)\n"
     ]
    },
    {
     "data": {
      "application/json": {
       "ascii": false,
       "bar_format": null,
       "colour": null,
       "elapsed": 0.012974977493286133,
       "initial": 0,
       "n": 0,
       "ncols": null,
       "nrows": 24,
       "postfix": null,
       "prefix": "Thienpont_2018",
       "rate": null,
       "total": 27958,
       "unit": "it",
       "unit_divisor": 1000,
       "unit_scale": false
      },
      "application/vnd.jupyter.widget-view+json": {
       "model_id": "6084674865b24738ab59f83ae3cb5e11",
       "version_major": 2,
       "version_minor": 0
      },
      "text/plain": [
       "Thienpont_2018:   0%|          | 0/27958 [00:00<?, ?it/s]"
      ]
     },
     "metadata": {},
     "output_type": "display_data"
    },
    {
     "name": "stdout",
     "output_type": "stream",
     "text": [
      "changed_only_1_to_n: 8\n",
      "changed_only_1_to_1: 3598\n",
      "alternative_target_1_to_1: 5342\n",
      "alternative_target_1_to_n: 43\n",
      "matching_1_to_0: 171\n",
      "matching_1_to_1: 22394\n",
      "matching_1_to_n: 8\n",
      "input_identifiers: 27958\n",
      "Source release: (38, 84)\n"
     ]
    },
    {
     "data": {
      "application/json": {
       "ascii": false,
       "bar_format": null,
       "colour": null,
       "elapsed": 0.012749433517456055,
       "initial": 0,
       "n": 0,
       "ncols": null,
       "nrows": 24,
       "postfix": null,
       "prefix": "Budinger_2020",
       "rate": null,
       "total": 26316,
       "unit": "it",
       "unit_divisor": 1000,
       "unit_scale": false
      },
      "application/vnd.jupyter.widget-view+json": {
       "model_id": "af611a39d2db4633bc08db52b5bd0d16",
       "version_major": 2,
       "version_minor": 0
      },
      "text/plain": [
       "Budinger_2020:   0%|          | 0/26316 [00:00<?, ?it/s]"
      ]
     },
     "metadata": {},
     "output_type": "display_data"
    },
    {
     "name": "stdout",
     "output_type": "stream",
     "text": [
      "changed_only_1_to_n: 6\n",
      "changed_only_1_to_1: 2122\n",
      "alternative_target_1_to_1: 4807\n",
      "alternative_target_1_to_n: 6\n",
      "matching_1_to_0: 56\n",
      "matching_1_to_1: 21441\n",
      "matching_1_to_n: 6\n",
      "input_identifiers: 26316\n",
      "Source release: (38, 93)\n"
     ]
    },
    {
     "data": {
      "application/json": {
       "ascii": false,
       "bar_format": null,
       "colour": null,
       "elapsed": 0.013656377792358398,
       "initial": 0,
       "n": 0,
       "ncols": null,
       "nrows": 24,
       "postfix": null,
       "prefix": "Banovich_Kropski_2020",
       "rate": null,
       "total": 33694,
       "unit": "it",
       "unit_divisor": 1000,
       "unit_scale": false
      },
      "application/vnd.jupyter.widget-view+json": {
       "model_id": "68cb461c488e4f59ba5419da43f40a17",
       "version_major": 2,
       "version_minor": 0
      },
      "text/plain": [
       "Banovich_Kropski_2020:   0%|          | 0/33694 [00:00<?, ?it/s]"
      ]
     },
     "metadata": {},
     "output_type": "display_data"
    },
    {
     "name": "stderr",
     "output_type": "stream",
     "text": [
      "2022-11-01 17:23:19 WARNING:api: Number of unfound IDs: 1.\n"
     ]
    },
    {
     "name": "stdout",
     "output_type": "stream",
     "text": [
      "changed_only_1_to_n: 15\n",
      "changed_only_1_to_1: 4470\n",
      "alternative_target_1_to_1: 8131\n",
      "alternative_target_1_to_n: 57\n",
      "matching_1_to_0: 262\n",
      "matching_1_to_1: 25229\n",
      "matching_1_to_n: 15\n",
      "input_identifiers: 33694\n",
      "Source release: (38, 84)\n"
     ]
    },
    {
     "data": {
      "application/json": {
       "ascii": false,
       "bar_format": null,
       "colour": null,
       "elapsed": 0.013541460037231445,
       "initial": 0,
       "n": 0,
       "ncols": null,
       "nrows": 24,
       "postfix": null,
       "prefix": "Sheppard_2020",
       "rate": null,
       "total": 27147,
       "unit": "it",
       "unit_divisor": 1000,
       "unit_scale": false
      },
      "application/vnd.jupyter.widget-view+json": {
       "model_id": "7314c34b299846e58556425282ccc8d6",
       "version_major": 2,
       "version_minor": 0
      },
      "text/plain": [
       "Sheppard_2020:   0%|          | 0/27147 [00:00<?, ?it/s]"
      ]
     },
     "metadata": {},
     "output_type": "display_data"
    },
    {
     "name": "stdout",
     "output_type": "stream",
     "text": [
      "changed_only_1_to_n: 6\n",
      "changed_only_1_to_1: 3464\n",
      "alternative_target_1_to_1: 5020\n",
      "alternative_target_1_to_n: 40\n",
      "matching_1_to_0: 166\n",
      "matching_1_to_1: 21915\n",
      "matching_1_to_n: 6\n",
      "input_identifiers: 27147\n",
      "Source release: (38, 84)\n"
     ]
    },
    {
     "data": {
      "application/json": {
       "ascii": false,
       "bar_format": null,
       "colour": null,
       "elapsed": 0.012587547302246094,
       "initial": 0,
       "n": 0,
       "ncols": null,
       "nrows": 24,
       "postfix": null,
       "prefix": "Wunderink_2021",
       "rate": null,
       "total": 21819,
       "unit": "it",
       "unit_divisor": 1000,
       "unit_scale": false
      },
      "application/vnd.jupyter.widget-view+json": {
       "model_id": "5e921956d1c24c0c82f4e037f2b077e5",
       "version_major": 2,
       "version_minor": 0
      },
      "text/plain": [
       "Wunderink_2021:   0%|          | 0/21819 [00:00<?, ?it/s]"
      ]
     },
     "metadata": {},
     "output_type": "display_data"
    },
    {
     "name": "stderr",
     "output_type": "stream",
     "text": [
      "2022-11-01 17:32:07 WARNING:api: Number of unfound IDs: 12.\n"
     ]
    },
    {
     "name": "stdout",
     "output_type": "stream",
     "text": [
      "changed_only_1_to_n: 2\n",
      "changed_only_1_to_1: 1712\n",
      "alternative_target_1_to_1: 2907\n",
      "alternative_target_1_to_n: 1\n",
      "matching_1_to_0: 53\n",
      "matching_1_to_1: 18856\n",
      "matching_1_to_n: 2\n",
      "input_identifiers: 21819\n",
      "Source release: (38, 93)\n"
     ]
    },
    {
     "data": {
      "application/json": {
       "ascii": false,
       "bar_format": null,
       "colour": null,
       "elapsed": 0.013110876083374023,
       "initial": 0,
       "n": 0,
       "ncols": null,
       "nrows": 24,
       "postfix": null,
       "prefix": "Lambrechts_2021",
       "rate": null,
       "total": 33538,
       "unit": "it",
       "unit_divisor": 1000,
       "unit_scale": false
      },
      "application/vnd.jupyter.widget-view+json": {
       "model_id": "5c032231e7fb45bca2b048c19dd1ac31",
       "version_major": 2,
       "version_minor": 0
      },
      "text/plain": [
       "Lambrechts_2021:   0%|          | 0/33538 [00:00<?, ?it/s]"
      ]
     },
     "metadata": {},
     "output_type": "display_data"
    },
    {
     "name": "stderr",
     "output_type": "stream",
     "text": [
      "2022-11-01 17:36:37 WARNING:api: Number of unfound IDs: 1.\n"
     ]
    },
    {
     "name": "stdout",
     "output_type": "stream",
     "text": [
      "changed_only_1_to_n: 15\n",
      "changed_only_1_to_1: 2693\n",
      "alternative_target_1_to_1: 8342\n",
      "alternative_target_1_to_n: 10\n",
      "matching_1_to_0: 80\n",
      "matching_1_to_1: 25091\n",
      "matching_1_to_n: 15\n",
      "input_identifiers: 33538\n",
      "Source release: (38, 93)\n"
     ]
    },
    {
     "data": {
      "application/json": {
       "ascii": false,
       "bar_format": null,
       "colour": null,
       "elapsed": 0.013303756713867188,
       "initial": 0,
       "n": 0,
       "ncols": null,
       "nrows": 24,
       "postfix": null,
       "prefix": "Zhang_2021",
       "rate": null,
       "total": 18474,
       "unit": "it",
       "unit_divisor": 1000,
       "unit_scale": false
      },
      "application/vnd.jupyter.widget-view+json": {
       "model_id": "d9720438e2954c059d18b74a71f5c6c3",
       "version_major": 2,
       "version_minor": 0
      },
      "text/plain": [
       "Zhang_2021:   0%|          | 0/18474 [00:00<?, ?it/s]"
      ]
     },
     "metadata": {},
     "output_type": "display_data"
    },
    {
     "name": "stdout",
     "output_type": "stream",
     "text": [
      "changed_only_1_to_n: 1\n",
      "changed_only_1_to_1: 806\n",
      "alternative_target_1_to_1: 99\n",
      "alternative_target_1_to_n: 0\n",
      "matching_1_to_0: 10\n",
      "matching_1_to_1: 18364\n",
      "matching_1_to_n: 1\n",
      "input_identifiers: 18474\n",
      "Source release: (38, 87)\n"
     ]
    },
    {
     "data": {
      "application/json": {
       "ascii": false,
       "bar_format": null,
       "colour": null,
       "elapsed": 0.01375889778137207,
       "initial": 0,
       "n": 0,
       "ncols": null,
       "nrows": 24,
       "postfix": null,
       "prefix": "Duong_lungMAP_unpubl",
       "rate": null,
       "total": 27678,
       "unit": "it",
       "unit_divisor": 1000,
       "unit_scale": false
      },
      "application/vnd.jupyter.widget-view+json": {
       "model_id": "09d94014f1604c68810f0780298eded4",
       "version_major": 2,
       "version_minor": 0
      },
      "text/plain": [
       "Duong_lungMAP_unpubl:   0%|          | 0/27678 [00:00<?, ?it/s]"
      ]
     },
     "metadata": {},
     "output_type": "display_data"
    },
    {
     "name": "stdout",
     "output_type": "stream",
     "text": [
      "changed_only_1_to_n: 6\n",
      "changed_only_1_to_1: 2293\n",
      "alternative_target_1_to_1: 5994\n",
      "alternative_target_1_to_n: 10\n",
      "matching_1_to_0: 51\n",
      "matching_1_to_1: 21617\n",
      "matching_1_to_n: 6\n",
      "input_identifiers: 27678\n",
      "Source release: (38, 93)\n"
     ]
    },
    {
     "data": {
      "application/json": {
       "ascii": false,
       "bar_format": null,
       "colour": null,
       "elapsed": 0.012566566467285156,
       "initial": 0,
       "n": 0,
       "ncols": null,
       "nrows": 24,
       "postfix": null,
       "prefix": "Janssen_2020",
       "rate": null,
       "total": 33538,
       "unit": "it",
       "unit_divisor": 1000,
       "unit_scale": false
      },
      "application/vnd.jupyter.widget-view+json": {
       "model_id": "958468d73ccd4cfeb8990bdfef8b611a",
       "version_major": 2,
       "version_minor": 0
      },
      "text/plain": [
       "Janssen_2020:   0%|          | 0/33538 [00:00<?, ?it/s]"
      ]
     },
     "metadata": {},
     "output_type": "display_data"
    },
    {
     "name": "stderr",
     "output_type": "stream",
     "text": [
      "2022-11-01 17:49:35 WARNING:api: Number of unfound IDs: 1.\n"
     ]
    },
    {
     "name": "stdout",
     "output_type": "stream",
     "text": [
      "changed_only_1_to_n: 15\n",
      "changed_only_1_to_1: 2693\n",
      "alternative_target_1_to_1: 8342\n",
      "alternative_target_1_to_n: 10\n",
      "matching_1_to_0: 80\n",
      "matching_1_to_1: 25091\n",
      "matching_1_to_n: 15\n",
      "input_identifiers: 33538\n",
      "Source release: (38, 93)\n"
     ]
    },
    {
     "data": {
      "application/json": {
       "ascii": false,
       "bar_format": null,
       "colour": null,
       "elapsed": 0.012502193450927734,
       "initial": 0,
       "n": 0,
       "ncols": null,
       "nrows": 24,
       "postfix": null,
       "prefix": "Sun_2020",
       "rate": null,
       "total": 26578,
       "unit": "it",
       "unit_divisor": 1000,
       "unit_scale": false
      },
      "application/vnd.jupyter.widget-view+json": {
       "model_id": "696c18308d9148e2b4f11a351bba4c87",
       "version_major": 2,
       "version_minor": 0
      },
      "text/plain": [
       "Sun_2020:   0%|          | 0/26578 [00:00<?, ?it/s]"
      ]
     },
     "metadata": {},
     "output_type": "display_data"
    },
    {
     "name": "stdout",
     "output_type": "stream",
     "text": [
      "changed_only_1_to_n: 6\n",
      "changed_only_1_to_1: 2192\n",
      "alternative_target_1_to_1: 5417\n",
      "alternative_target_1_to_n: 8\n",
      "matching_1_to_0: 50\n",
      "matching_1_to_1: 21097\n",
      "matching_1_to_n: 6\n",
      "input_identifiers: 26578\n",
      "Source release: (38, 93)\n"
     ]
    },
    {
     "data": {
      "application/json": {
       "ascii": false,
       "bar_format": null,
       "colour": null,
       "elapsed": 0.013669252395629883,
       "initial": 0,
       "n": 0,
       "ncols": null,
       "nrows": 24,
       "postfix": null,
       "prefix": "Gomperts_2021",
       "rate": null,
       "total": 31229,
       "unit": "it",
       "unit_divisor": 1000,
       "unit_scale": false
      },
      "application/vnd.jupyter.widget-view+json": {
       "model_id": "2bf1779f122b415285f756d52a535948",
       "version_major": 2,
       "version_minor": 0
      },
      "text/plain": [
       "Gomperts_2021:   0%|          | 0/31229 [00:00<?, ?it/s]"
      ]
     },
     "metadata": {},
     "output_type": "display_data"
    },
    {
     "name": "stderr",
     "output_type": "stream",
     "text": [
      "2022-11-01 17:58:31 WARNING:api: Number of unfound IDs: 187.\n"
     ]
    },
    {
     "name": "stdout",
     "output_type": "stream",
     "text": [
      "changed_only_1_to_n: 14\n",
      "changed_only_1_to_1: 4744\n",
      "alternative_target_1_to_1: 5910\n",
      "alternative_target_1_to_n: 28\n",
      "matching_1_to_0: 348\n",
      "matching_1_to_1: 24929\n",
      "matching_1_to_n: 14\n",
      "input_identifiers: 31229\n",
      "Source release: (38, 89)\n"
     ]
    },
    {
     "data": {
      "application/json": {
       "ascii": false,
       "bar_format": null,
       "colour": null,
       "elapsed": 0.01282644271850586,
       "initial": 0,
       "n": 0,
       "ncols": null,
       "nrows": 24,
       "postfix": null,
       "prefix": "Eils_2020",
       "rate": null,
       "total": 32738,
       "unit": "it",
       "unit_divisor": 1000,
       "unit_scale": false
      },
      "application/vnd.jupyter.widget-view+json": {
       "model_id": "8a2b766280f2419797fd5ed78a0407ad",
       "version_major": 2,
       "version_minor": 0
      },
      "text/plain": [
       "Eils_2020:   0%|          | 0/32738 [00:00<?, ?it/s]"
      ]
     },
     "metadata": {},
     "output_type": "display_data"
    },
    {
     "name": "stderr",
     "output_type": "stream",
     "text": [
      "2022-11-01 18:03:05 WARNING:api: Number of unfound IDs: 7.\n"
     ]
    },
    {
     "name": "stdout",
     "output_type": "stream",
     "text": [
      "changed_only_1_to_n: 17\n",
      "changed_only_1_to_1: 5448\n",
      "alternative_target_1_to_1: 7519\n",
      "alternative_target_1_to_n: 44\n",
      "matching_1_to_0: 612\n",
      "matching_1_to_1: 24546\n",
      "matching_1_to_n: 17\n",
      "input_identifiers: 32738\n",
      "Source release: (37, 79)\n"
     ]
    },
    {
     "data": {
      "application/json": {
       "ascii": false,
       "bar_format": null,
       "colour": null,
       "elapsed": 0.012913227081298828,
       "initial": 0,
       "n": 0,
       "ncols": null,
       "nrows": 24,
       "postfix": null,
       "prefix": "Schiller_2020",
       "rate": null,
       "total": 32104,
       "unit": "it",
       "unit_divisor": 1000,
       "unit_scale": false
      },
      "application/vnd.jupyter.widget-view+json": {
       "model_id": "008f46e4106841339a71a90a093a563e",
       "version_major": 2,
       "version_minor": 0
      },
      "text/plain": [
       "Schiller_2020:   0%|          | 0/32104 [00:00<?, ?it/s]"
      ]
     },
     "metadata": {},
     "output_type": "display_data"
    },
    {
     "name": "stderr",
     "output_type": "stream",
     "text": [
      "2022-11-01 18:07:29 WARNING:api: Number of unfound IDs: 40.\n"
     ]
    },
    {
     "name": "stdout",
     "output_type": "stream",
     "text": [
      "changed_only_1_to_n: 8\n",
      "changed_only_1_to_1: 4469\n",
      "alternative_target_1_to_1: 6431\n",
      "alternative_target_1_to_n: 26\n",
      "matching_1_to_0: 533\n",
      "matching_1_to_1: 25106\n",
      "matching_1_to_n: 8\n",
      "input_identifiers: 32104\n",
      "Source release: (38, 89)\n"
     ]
    },
    {
     "data": {
      "application/json": {
       "ascii": false,
       "bar_format": null,
       "colour": null,
       "elapsed": 0.012370109558105469,
       "initial": 0,
       "n": 0,
       "ncols": null,
       "nrows": 24,
       "postfix": null,
       "prefix": "Misharin_Budinger_2018",
       "rate": null,
       "total": 27181,
       "unit": "it",
       "unit_divisor": 1000,
       "unit_scale": false
      },
      "application/vnd.jupyter.widget-view+json": {
       "model_id": "a2e5274c9fe443dfb10729bb5c312a89",
       "version_major": 2,
       "version_minor": 0
      },
      "text/plain": [
       "Misharin_Budinger_2018:   0%|          | 0/27181 [00:00<?, ?it/s]"
      ]
     },
     "metadata": {},
     "output_type": "display_data"
    },
    {
     "name": "stdout",
     "output_type": "stream",
     "text": [
      "changed_only_1_to_n: 7\n",
      "changed_only_1_to_1: 3464\n",
      "alternative_target_1_to_1: 5009\n",
      "alternative_target_1_to_n: 43\n",
      "matching_1_to_0: 177\n",
      "matching_1_to_1: 21945\n",
      "matching_1_to_n: 7\n",
      "input_identifiers: 27181\n",
      "Source release: (38, 84)\n"
     ]
    },
    {
     "data": {
      "application/json": {
       "ascii": false,
       "bar_format": null,
       "colour": null,
       "elapsed": 0.012490034103393555,
       "initial": 0,
       "n": 0,
       "ncols": null,
       "nrows": 24,
       "postfix": null,
       "prefix": "Shalek_2018",
       "rate": null,
       "total": 25328,
       "unit": "it",
       "unit_divisor": 1000,
       "unit_scale": false
      },
      "application/vnd.jupyter.widget-view+json": {
       "model_id": "5e2e5223e32e4cd6a5e8cd6982c9cfd1",
       "version_major": 2,
       "version_minor": 0
      },
      "text/plain": [
       "Shalek_2018:   0%|          | 0/25328 [00:00<?, ?it/s]"
      ]
     },
     "metadata": {},
     "output_type": "display_data"
    },
    {
     "name": "stderr",
     "output_type": "stream",
     "text": [
      "2022-11-01 18:16:00 WARNING:api: Number of unfound IDs: 22.\n"
     ]
    },
    {
     "name": "stdout",
     "output_type": "stream",
     "text": [
      "changed_only_1_to_n: 7\n",
      "changed_only_1_to_1: 3647\n",
      "alternative_target_1_to_1: 3642\n",
      "alternative_target_1_to_n: 33\n",
      "matching_1_to_0: 492\n",
      "matching_1_to_1: 21154\n",
      "matching_1_to_n: 7\n",
      "input_identifiers: 25328\n",
      "Source release: (37, 79)\n"
     ]
    },
    {
     "data": {
      "application/json": {
       "ascii": false,
       "bar_format": null,
       "colour": null,
       "elapsed": 0.04154396057128906,
       "initial": 0,
       "n": 0,
       "ncols": null,
       "nrows": 24,
       "postfix": null,
       "prefix": "Schiller_2021",
       "rate": null,
       "total": 17533,
       "unit": "it",
       "unit_divisor": 1000,
       "unit_scale": false
      },
      "application/vnd.jupyter.widget-view+json": {
       "model_id": "8b5db330f19c471b9ba8df329bf01f64",
       "version_major": 2,
       "version_minor": 0
      },
      "text/plain": [
       "Schiller_2021:   0%|          | 0/17533 [00:00<?, ?it/s]"
      ]
     },
     "metadata": {},
     "output_type": "display_data"
    },
    {
     "name": "stdout",
     "output_type": "stream",
     "text": [
      "changed_only_1_to_n: 0\n",
      "changed_only_1_to_1: 497\n",
      "alternative_target_1_to_1: 193\n",
      "alternative_target_1_to_n: 0\n",
      "matching_1_to_0: 10\n",
      "matching_1_to_1: 17330\n",
      "matching_1_to_n: 0\n",
      "input_identifiers: 17533\n",
      "Source release: (38, 99)\n"
     ]
    },
    {
     "data": {
      "application/json": {
       "ascii": false,
       "bar_format": null,
       "colour": null,
       "elapsed": 0.012601613998413086,
       "initial": 0,
       "n": 0,
       "ncols": null,
       "nrows": 24,
       "postfix": null,
       "prefix": "Peer_Massague_2020",
       "rate": null,
       "total": 19222,
       "unit": "it",
       "unit_divisor": 1000,
       "unit_scale": false
      },
      "application/vnd.jupyter.widget-view+json": {
       "model_id": "1e7401da2b3a42ecb9660089686957d6",
       "version_major": 2,
       "version_minor": 0
      },
      "text/plain": [
       "Peer_Massague_2020:   0%|          | 0/19222 [00:00<?, ?it/s]"
      ]
     },
     "metadata": {},
     "output_type": "display_data"
    },
    {
     "name": "stdout",
     "output_type": "stream",
     "text": [
      "changed_only_1_to_n: 4\n",
      "changed_only_1_to_1: 1545\n",
      "alternative_target_1_to_1: 1247\n",
      "alternative_target_1_to_n: 11\n",
      "matching_1_to_0: 63\n",
      "matching_1_to_1: 17897\n",
      "matching_1_to_n: 4\n",
      "input_identifiers: 19222\n",
      "Source release: (38, 86)\n"
     ]
    },
    {
     "data": {
      "application/json": {
       "ascii": false,
       "bar_format": null,
       "colour": null,
       "elapsed": 0.012407779693603516,
       "initial": 0,
       "n": 0,
       "ncols": null,
       "nrows": 24,
       "postfix": null,
       "prefix": "Lafyatis_2019",
       "rate": null,
       "total": 22164,
       "unit": "it",
       "unit_divisor": 1000,
       "unit_scale": false
      },
      "application/vnd.jupyter.widget-view+json": {
       "model_id": "fd257de91e4443a19367084417791c62",
       "version_major": 2,
       "version_minor": 0
      },
      "text/plain": [
       "Lafyatis_2019:   0%|          | 0/22164 [00:00<?, ?it/s]"
      ]
     },
     "metadata": {},
     "output_type": "display_data"
    },
    {
     "name": "stderr",
     "output_type": "stream",
     "text": [
      "2022-11-01 18:28:49 WARNING:api: Number of unfound IDs: 1.\n"
     ]
    },
    {
     "name": "stdout",
     "output_type": "stream",
     "text": [
      "changed_only_1_to_n: 6\n",
      "changed_only_1_to_1: 1032\n",
      "alternative_target_1_to_1: 442\n",
      "alternative_target_1_to_n: 2\n",
      "matching_1_to_0: 21\n",
      "matching_1_to_1: 21693\n",
      "matching_1_to_n: 6\n",
      "input_identifiers: 22164\n",
      "Source release: (38, 84)\n"
     ]
    },
    {
     "data": {
      "application/json": {
       "ascii": false,
       "bar_format": null,
       "colour": null,
       "elapsed": 0.012565851211547852,
       "initial": 0,
       "n": 0,
       "ncols": null,
       "nrows": 24,
       "postfix": null,
       "prefix": "Tata_unpubl",
       "rate": null,
       "total": 31915,
       "unit": "it",
       "unit_divisor": 1000,
       "unit_scale": false
      },
      "application/vnd.jupyter.widget-view+json": {
       "model_id": "23fa11973588423b9ebd474cc61e48a6",
       "version_major": 2,
       "version_minor": 0
      },
      "text/plain": [
       "Tata_unpubl:   0%|          | 0/31915 [00:00<?, ?it/s]"
      ]
     },
     "metadata": {},
     "output_type": "display_data"
    },
    {
     "name": "stderr",
     "output_type": "stream",
     "text": [
      "2022-11-01 18:33:10 WARNING:api: Number of unfound IDs: 1.\n"
     ]
    },
    {
     "name": "stdout",
     "output_type": "stream",
     "text": [
      "changed_only_1_to_n: 11\n",
      "changed_only_1_to_1: 1954\n",
      "alternative_target_1_to_1: 7632\n",
      "alternative_target_1_to_n: 6\n",
      "matching_1_to_0: 36\n",
      "matching_1_to_1: 24230\n",
      "matching_1_to_n: 11\n",
      "input_identifiers: 31915\n",
      "Source release: (38, 93)\n"
     ]
    },
    {
     "data": {
      "application/json": {
       "ascii": false,
       "bar_format": null,
       "colour": null,
       "elapsed": 0.013843774795532227,
       "initial": 0,
       "n": 0,
       "ncols": null,
       "nrows": 24,
       "postfix": null,
       "prefix": "Xu_2020",
       "rate": null,
       "total": 32738,
       "unit": "it",
       "unit_divisor": 1000,
       "unit_scale": false
      },
      "application/vnd.jupyter.widget-view+json": {
       "model_id": "27e686db2ccd483f986d2ccff8794860",
       "version_major": 2,
       "version_minor": 0
      },
      "text/plain": [
       "Xu_2020:   0%|          | 0/32738 [00:00<?, ?it/s]"
      ]
     },
     "metadata": {},
     "output_type": "display_data"
    },
    {
     "name": "stderr",
     "output_type": "stream",
     "text": [
      "2022-11-01 18:37:43 WARNING:api: Number of unfound IDs: 7.\n"
     ]
    },
    {
     "name": "stdout",
     "output_type": "stream",
     "text": [
      "changed_only_1_to_n: 17\n",
      "changed_only_1_to_1: 5448\n",
      "alternative_target_1_to_1: 7519\n",
      "alternative_target_1_to_n: 44\n",
      "matching_1_to_0: 612\n",
      "matching_1_to_1: 24546\n",
      "matching_1_to_n: 17\n",
      "input_identifiers: 32738\n",
      "Source release: (37, 79)\n"
     ]
    },
    {
     "data": {
      "application/json": {
       "ascii": false,
       "bar_format": null,
       "colour": null,
       "elapsed": 0.012489557266235352,
       "initial": 0,
       "n": 0,
       "ncols": null,
       "nrows": 24,
       "postfix": null,
       "prefix": "Sims_2019",
       "rate": null,
       "total": 60725,
       "unit": "it",
       "unit_divisor": 1000,
       "unit_scale": false
      },
      "application/vnd.jupyter.widget-view+json": {
       "model_id": "183d0d4b44574bdc90b89d42e14da46e",
       "version_major": 2,
       "version_minor": 0
      },
      "text/plain": [
       "Sims_2019:   0%|          | 0/60725 [00:00<?, ?it/s]"
      ]
     },
     "metadata": {},
     "output_type": "display_data"
    },
    {
     "name": "stdout",
     "output_type": "stream",
     "text": [
      "changed_only_1_to_n: 985\n",
      "changed_only_1_to_1: 8062\n",
      "alternative_target_1_to_1: 16431\n",
      "alternative_target_1_to_n: 265\n",
      "matching_1_to_0: 1461\n",
      "matching_1_to_1: 41583\n",
      "matching_1_to_n: 985\n",
      "input_identifiers: 60725\n"
     ]
    },
    {
     "name": "stderr",
     "output_type": "stream",
     "text": [
      "2022-11-01 18:45:32 WARNING:api: Number of unfound IDs: 10.\n"
     ]
    },
    {
     "name": "stdout",
     "output_type": "stream",
     "text": [
      "Source release: (38, 83)\n"
     ]
    },
    {
     "data": {
      "application/json": {
       "ascii": false,
       "bar_format": null,
       "colour": null,
       "elapsed": 0.012710332870483398,
       "initial": 0,
       "n": 0,
       "ncols": null,
       "nrows": 24,
       "postfix": null,
       "prefix": "Schultze_unpubl",
       "rate": null,
       "total": 24532,
       "unit": "it",
       "unit_divisor": 1000,
       "unit_scale": false
      },
      "application/vnd.jupyter.widget-view+json": {
       "model_id": "ed799fded826408db2abc9c6dc1da898",
       "version_major": 2,
       "version_minor": 0
      },
      "text/plain": [
       "Schultze_unpubl:   0%|          | 0/24532 [00:00<?, ?it/s]"
      ]
     },
     "metadata": {},
     "output_type": "display_data"
    },
    {
     "name": "stdout",
     "output_type": "stream",
     "text": [
      "changed_only_1_to_n: 5\n",
      "changed_only_1_to_1: 2070\n",
      "alternative_target_1_to_1: 3820\n",
      "alternative_target_1_to_n: 6\n",
      "matching_1_to_0: 46\n",
      "matching_1_to_1: 20655\n",
      "matching_1_to_n: 5\n",
      "input_identifiers: 24532\n",
      "Source release: (38, 91)\n"
     ]
    }
   ],
   "source": [
    "result = dict()\n",
    "final_database=\"HGNC Symbol\"\n",
    "\n",
    "for dataset_name in adata_dict:\n",
    "    \n",
    "    adata = sc.read(adata_dict[dataset_name][0])\n",
    "    gene_list = list(adata.var.index)\n",
    "    \n",
    "    matching = idt.convert_identifier_multiple(gene_list, final_database=final_database, pbar_prefix=dataset_name)\n",
    "    binned_conversions = idt.classify_multiple_conversion(matching)\n",
    "    \n",
    "    idt.print_binned_conversion(binned_conversions)\n",
    "    print(f\"Source release: {idt.infer_identifier_source(gene_list)}\")\n",
    "    \n",
    "    result[dataset_name] = binned_conversions"
   ]
  },
  {
   "cell_type": "code",
   "execution_count": 8,
   "id": "b14cd54a-0cb7-4108-ad97-727675a9036a",
   "metadata": {},
   "outputs": [
    {
     "name": "stdout",
     "output_type": "stream",
     "text": [
      "Saved: /lustre/groups/ml01/workspace/kemal.inecik/idtrack_temp/results_for_hlca_datasets_HGNC Symbol_20221101-175029.pk\n"
     ]
    }
   ],
   "source": [
    "time_suffix = time.strftime(\"%Y%m%d-%H%M%S\", time.gmtime())\n",
    "file_path = os.path.join(local_dir, f\"results_for_hlca_datasets_{final_database}_{time_suffix}.pk\")\n",
    "with open(file_path, 'wb') as handle:\n",
    "    pickle.dump(result, handle)\n",
    "    print(f\"Saved: {file_path}\")"
   ]
  },
  {
   "cell_type": "markdown",
   "id": "a5a84c01-b74f-4d9b-974b-f6854a8e585c",
   "metadata": {},
   "source": [
    "Run the ID conversion with Ensembl gene ID"
   ]
  },
  {
   "cell_type": "code",
   "execution_count": 9,
   "id": "2a737b6d-b05c-4166-9539-ab91cb1ff5b9",
   "metadata": {},
   "outputs": [
    {
     "data": {
      "application/json": {
       "ascii": false,
       "bar_format": null,
       "colour": null,
       "elapsed": 0.01328134536743164,
       "initial": 0,
       "n": 0,
       "ncols": null,
       "nrows": 24,
       "postfix": null,
       "prefix": "Kaminski_2020",
       "rate": null,
       "total": 45947,
       "unit": "it",
       "unit_divisor": 1000,
       "unit_scale": false
      },
      "application/vnd.jupyter.widget-view+json": {
       "model_id": "7dd6f11d24a34ef2b4a4c4632c9de016",
       "version_major": 2,
       "version_minor": 0
      },
      "text/plain": [
       "Kaminski_2020:   0%|          | 0/45947 [00:00<?, ?it/s]"
      ]
     },
     "metadata": {},
     "output_type": "display_data"
    },
    {
     "name": "stdout",
     "output_type": "stream",
     "text": [
      "changed_only_1_to_n: 498\n",
      "changed_only_1_to_1: 45351\n",
      "alternative_target_1_to_1: 0\n",
      "alternative_target_1_to_n: 0\n",
      "matching_1_to_0: 98\n",
      "matching_1_to_1: 45351\n",
      "matching_1_to_n: 498\n",
      "input_identifiers: 45947\n",
      "Source release: (38, 94)\n"
     ]
    },
    {
     "data": {
      "application/json": {
       "ascii": false,
       "bar_format": null,
       "colour": null,
       "elapsed": 0.012554407119750977,
       "initial": 0,
       "n": 0,
       "ncols": null,
       "nrows": 24,
       "postfix": null,
       "prefix": "Meyer_2021",
       "rate": null,
       "total": 20922,
       "unit": "it",
       "unit_divisor": 1000,
       "unit_scale": false
      },
      "application/vnd.jupyter.widget-view+json": {
       "model_id": "53225519e3f845e48bb7eaebb13e86b4",
       "version_major": 2,
       "version_minor": 0
      },
      "text/plain": [
       "Meyer_2021:   0%|          | 0/20922 [00:00<?, ?it/s]"
      ]
     },
     "metadata": {},
     "output_type": "display_data"
    },
    {
     "name": "stdout",
     "output_type": "stream",
     "text": [
      "changed_only_1_to_n: 213\n",
      "changed_only_1_to_1: 20692\n",
      "alternative_target_1_to_1: 0\n",
      "alternative_target_1_to_n: 0\n",
      "matching_1_to_0: 17\n",
      "matching_1_to_1: 20692\n",
      "matching_1_to_n: 213\n",
      "input_identifiers: 20922\n",
      "Source release: (38, 84)\n"
     ]
    },
    {
     "data": {
      "application/json": {
       "ascii": false,
       "bar_format": null,
       "colour": null,
       "elapsed": 0.012552738189697266,
       "initial": 0,
       "n": 0,
       "ncols": null,
       "nrows": 24,
       "postfix": null,
       "prefix": "MeyerNikolic_unpubl",
       "rate": null,
       "total": 33582,
       "unit": "it",
       "unit_divisor": 1000,
       "unit_scale": false
      },
      "application/vnd.jupyter.widget-view+json": {
       "model_id": "a42cb90948b54de6958302d2cff60fe2",
       "version_major": 2,
       "version_minor": 0
      },
      "text/plain": [
       "MeyerNikolic_unpubl:   0%|          | 0/33582 [00:00<?, ?it/s]"
      ]
     },
     "metadata": {},
     "output_type": "display_data"
    },
    {
     "name": "stderr",
     "output_type": "stream",
     "text": [
      "2022-11-01 19:00:01 WARNING:api: Number of unfound IDs: 27.\n"
     ]
    },
    {
     "name": "stdout",
     "output_type": "stream",
     "text": [
      "changed_only_1_to_n: 290\n",
      "changed_only_1_to_1: 33186\n",
      "alternative_target_1_to_1: 0\n",
      "alternative_target_1_to_n: 0\n",
      "matching_1_to_0: 106\n",
      "matching_1_to_1: 33186\n",
      "matching_1_to_n: 290\n",
      "input_identifiers: 33582\n",
      "Source release: (38, 93)\n"
     ]
    },
    {
     "data": {
      "application/json": {
       "ascii": false,
       "bar_format": null,
       "colour": null,
       "elapsed": 0.013469457626342773,
       "initial": 0,
       "n": 0,
       "ncols": null,
       "nrows": 24,
       "postfix": null,
       "prefix": "Barbry_unpubl",
       "rate": null,
       "total": 16859,
       "unit": "it",
       "unit_divisor": 1000,
       "unit_scale": false
      },
      "application/vnd.jupyter.widget-view+json": {
       "model_id": "ad674ae7ef714647bbf54b407627df1d",
       "version_major": 2,
       "version_minor": 0
      },
      "text/plain": [
       "Barbry_unpubl:   0%|          | 0/16859 [00:00<?, ?it/s]"
      ]
     },
     "metadata": {},
     "output_type": "display_data"
    },
    {
     "name": "stderr",
     "output_type": "stream",
     "text": [
      "2022-11-01 19:02:32 WARNING:api: Number of unfound IDs: 1.\n"
     ]
    },
    {
     "name": "stdout",
     "output_type": "stream",
     "text": [
      "changed_only_1_to_n: 101\n",
      "changed_only_1_to_1: 16738\n",
      "alternative_target_1_to_1: 0\n",
      "alternative_target_1_to_n: 0\n",
      "matching_1_to_0: 20\n",
      "matching_1_to_1: 16738\n",
      "matching_1_to_n: 101\n",
      "input_identifiers: 16859\n",
      "Source release: (38, 98)\n"
     ]
    },
    {
     "data": {
      "application/json": {
       "ascii": false,
       "bar_format": null,
       "colour": null,
       "elapsed": 0.012431144714355469,
       "initial": 0,
       "n": 0,
       "ncols": null,
       "nrows": 24,
       "postfix": null,
       "prefix": "Regev_2021",
       "rate": null,
       "total": 30983,
       "unit": "it",
       "unit_divisor": 1000,
       "unit_scale": false
      },
      "application/vnd.jupyter.widget-view+json": {
       "model_id": "3c1c1d4afd484709b2b718017ceafe43",
       "version_major": 2,
       "version_minor": 0
      },
      "text/plain": [
       "Regev_2021:   0%|          | 0/30983 [00:00<?, ?it/s]"
      ]
     },
     "metadata": {},
     "output_type": "display_data"
    },
    {
     "name": "stderr",
     "output_type": "stream",
     "text": [
      "2022-11-01 19:05:32 WARNING:api: Number of unfound IDs: 48.\n"
     ]
    },
    {
     "name": "stdout",
     "output_type": "stream",
     "text": [
      "changed_only_1_to_n: 222\n",
      "changed_only_1_to_1: 30648\n",
      "alternative_target_1_to_1: 0\n",
      "alternative_target_1_to_n: 0\n",
      "matching_1_to_0: 113\n",
      "matching_1_to_1: 30648\n",
      "matching_1_to_n: 222\n",
      "input_identifiers: 30983\n",
      "Source release: (38, 93)\n"
     ]
    },
    {
     "data": {
      "application/json": {
       "ascii": false,
       "bar_format": null,
       "colour": null,
       "elapsed": 0.01238703727722168,
       "initial": 0,
       "n": 0,
       "ncols": null,
       "nrows": 24,
       "postfix": null,
       "prefix": "Thienpont_2018",
       "rate": null,
       "total": 27958,
       "unit": "it",
       "unit_divisor": 1000,
       "unit_scale": false
      },
      "application/vnd.jupyter.widget-view+json": {
       "model_id": "f8725202b97a48ada853b94bd5d59a85",
       "version_major": 2,
       "version_minor": 0
      },
      "text/plain": [
       "Thienpont_2018:   0%|          | 0/27958 [00:00<?, ?it/s]"
      ]
     },
     "metadata": {},
     "output_type": "display_data"
    },
    {
     "name": "stdout",
     "output_type": "stream",
     "text": [
      "changed_only_1_to_n: 246\n",
      "changed_only_1_to_1: 27541\n",
      "alternative_target_1_to_1: 0\n",
      "alternative_target_1_to_n: 0\n",
      "matching_1_to_0: 171\n",
      "matching_1_to_1: 27541\n",
      "matching_1_to_n: 246\n",
      "input_identifiers: 27958\n",
      "Source release: (38, 84)\n"
     ]
    },
    {
     "data": {
      "application/json": {
       "ascii": false,
       "bar_format": null,
       "colour": null,
       "elapsed": 0.012909412384033203,
       "initial": 0,
       "n": 0,
       "ncols": null,
       "nrows": 24,
       "postfix": null,
       "prefix": "Budinger_2020",
       "rate": null,
       "total": 26316,
       "unit": "it",
       "unit_divisor": 1000,
       "unit_scale": false
      },
      "application/vnd.jupyter.widget-view+json": {
       "model_id": "12752b95015d4af5947ed2ad19f9e6ae",
       "version_major": 2,
       "version_minor": 0
      },
      "text/plain": [
       "Budinger_2020:   0%|          | 0/26316 [00:00<?, ?it/s]"
      ]
     },
     "metadata": {},
     "output_type": "display_data"
    },
    {
     "name": "stdout",
     "output_type": "stream",
     "text": [
      "changed_only_1_to_n: 194\n",
      "changed_only_1_to_1: 26066\n",
      "alternative_target_1_to_1: 0\n",
      "alternative_target_1_to_n: 0\n",
      "matching_1_to_0: 56\n",
      "matching_1_to_1: 26066\n",
      "matching_1_to_n: 194\n",
      "input_identifiers: 26316\n",
      "Source release: (38, 93)\n"
     ]
    },
    {
     "data": {
      "application/json": {
       "ascii": false,
       "bar_format": null,
       "colour": null,
       "elapsed": 0.013239383697509766,
       "initial": 0,
       "n": 0,
       "ncols": null,
       "nrows": 24,
       "postfix": null,
       "prefix": "Banovich_Kropski_2020",
       "rate": null,
       "total": 33694,
       "unit": "it",
       "unit_divisor": 1000,
       "unit_scale": false
      },
      "application/vnd.jupyter.widget-view+json": {
       "model_id": "f9334ab3dfd6403883548d3ce6c91d62",
       "version_major": 2,
       "version_minor": 0
      },
      "text/plain": [
       "Banovich_Kropski_2020:   0%|          | 0/33694 [00:00<?, ?it/s]"
      ]
     },
     "metadata": {},
     "output_type": "display_data"
    },
    {
     "name": "stderr",
     "output_type": "stream",
     "text": [
      "2022-11-01 19:14:30 WARNING:api: Number of unfound IDs: 1.\n"
     ]
    },
    {
     "name": "stdout",
     "output_type": "stream",
     "text": [
      "changed_only_1_to_n: 336\n",
      "changed_only_1_to_1: 33096\n",
      "alternative_target_1_to_1: 0\n",
      "alternative_target_1_to_n: 0\n",
      "matching_1_to_0: 262\n",
      "matching_1_to_1: 33096\n",
      "matching_1_to_n: 336\n",
      "input_identifiers: 33694\n",
      "Source release: (38, 84)\n"
     ]
    },
    {
     "data": {
      "application/json": {
       "ascii": false,
       "bar_format": null,
       "colour": null,
       "elapsed": 0.013343572616577148,
       "initial": 0,
       "n": 0,
       "ncols": null,
       "nrows": 24,
       "postfix": null,
       "prefix": "Sheppard_2020",
       "rate": null,
       "total": 27147,
       "unit": "it",
       "unit_divisor": 1000,
       "unit_scale": false
      },
      "application/vnd.jupyter.widget-view+json": {
       "model_id": "79a94fa7878141668a9a931884870406",
       "version_major": 2,
       "version_minor": 0
      },
      "text/plain": [
       "Sheppard_2020:   0%|          | 0/27147 [00:00<?, ?it/s]"
      ]
     },
     "metadata": {},
     "output_type": "display_data"
    },
    {
     "name": "stdout",
     "output_type": "stream",
     "text": [
      "changed_only_1_to_n: 239\n",
      "changed_only_1_to_1: 26742\n",
      "alternative_target_1_to_1: 0\n",
      "alternative_target_1_to_n: 0\n",
      "matching_1_to_0: 166\n",
      "matching_1_to_1: 26742\n",
      "matching_1_to_n: 239\n",
      "input_identifiers: 27147\n",
      "Source release: (38, 84)\n"
     ]
    },
    {
     "data": {
      "application/json": {
       "ascii": false,
       "bar_format": null,
       "colour": null,
       "elapsed": 0.012419700622558594,
       "initial": 0,
       "n": 0,
       "ncols": null,
       "nrows": 24,
       "postfix": null,
       "prefix": "Wunderink_2021",
       "rate": null,
       "total": 21819,
       "unit": "it",
       "unit_divisor": 1000,
       "unit_scale": false
      },
      "application/vnd.jupyter.widget-view+json": {
       "model_id": "e77ee98e87e24ee2a664701ba8327dd6",
       "version_major": 2,
       "version_minor": 0
      },
      "text/plain": [
       "Wunderink_2021:   0%|          | 0/21819 [00:00<?, ?it/s]"
      ]
     },
     "metadata": {},
     "output_type": "display_data"
    },
    {
     "name": "stderr",
     "output_type": "stream",
     "text": [
      "2022-11-01 19:20:28 WARNING:api: Number of unfound IDs: 12.\n"
     ]
    },
    {
     "name": "stdout",
     "output_type": "stream",
     "text": [
      "changed_only_1_to_n: 169\n",
      "changed_only_1_to_1: 21597\n",
      "alternative_target_1_to_1: 0\n",
      "alternative_target_1_to_n: 0\n",
      "matching_1_to_0: 53\n",
      "matching_1_to_1: 21597\n",
      "matching_1_to_n: 169\n",
      "input_identifiers: 21819\n",
      "Source release: (38, 93)\n"
     ]
    },
    {
     "data": {
      "application/json": {
       "ascii": false,
       "bar_format": null,
       "colour": null,
       "elapsed": 0.012948989868164062,
       "initial": 0,
       "n": 0,
       "ncols": null,
       "nrows": 24,
       "postfix": null,
       "prefix": "Lambrechts_2021",
       "rate": null,
       "total": 33538,
       "unit": "it",
       "unit_divisor": 1000,
       "unit_scale": false
      },
      "application/vnd.jupyter.widget-view+json": {
       "model_id": "200143378fde48e7800a2a5c419c1ff1",
       "version_major": 2,
       "version_minor": 0
      },
      "text/plain": [
       "Lambrechts_2021:   0%|          | 0/33538 [00:00<?, ?it/s]"
      ]
     },
     "metadata": {},
     "output_type": "display_data"
    },
    {
     "name": "stderr",
     "output_type": "stream",
     "text": [
      "2022-11-01 19:23:33 WARNING:api: Number of unfound IDs: 1.\n"
     ]
    },
    {
     "name": "stdout",
     "output_type": "stream",
     "text": [
      "changed_only_1_to_n: 290\n",
      "changed_only_1_to_1: 33168\n",
      "alternative_target_1_to_1: 0\n",
      "alternative_target_1_to_n: 0\n",
      "matching_1_to_0: 80\n",
      "matching_1_to_1: 33168\n",
      "matching_1_to_n: 290\n",
      "input_identifiers: 33538\n",
      "Source release: (38, 93)\n"
     ]
    },
    {
     "data": {
      "application/json": {
       "ascii": false,
       "bar_format": null,
       "colour": null,
       "elapsed": 0.013025999069213867,
       "initial": 0,
       "n": 0,
       "ncols": null,
       "nrows": 24,
       "postfix": null,
       "prefix": "Zhang_2021",
       "rate": null,
       "total": 18474,
       "unit": "it",
       "unit_divisor": 1000,
       "unit_scale": false
      },
      "application/vnd.jupyter.widget-view+json": {
       "model_id": "bf8a2c8546154edb9b9e721e71cd8c64",
       "version_major": 2,
       "version_minor": 0
      },
      "text/plain": [
       "Zhang_2021:   0%|          | 0/18474 [00:00<?, ?it/s]"
      ]
     },
     "metadata": {},
     "output_type": "display_data"
    },
    {
     "name": "stdout",
     "output_type": "stream",
     "text": [
      "changed_only_1_to_n: 159\n",
      "changed_only_1_to_1: 18305\n",
      "alternative_target_1_to_1: 0\n",
      "alternative_target_1_to_n: 0\n",
      "matching_1_to_0: 10\n",
      "matching_1_to_1: 18305\n",
      "matching_1_to_n: 159\n",
      "input_identifiers: 18474\n",
      "Source release: (38, 87)\n"
     ]
    },
    {
     "data": {
      "application/json": {
       "ascii": false,
       "bar_format": null,
       "colour": null,
       "elapsed": 0.013621091842651367,
       "initial": 0,
       "n": 0,
       "ncols": null,
       "nrows": 24,
       "postfix": null,
       "prefix": "Duong_lungMAP_unpubl",
       "rate": null,
       "total": 27678,
       "unit": "it",
       "unit_divisor": 1000,
       "unit_scale": false
      },
      "application/vnd.jupyter.widget-view+json": {
       "model_id": "1be1458b79a14689b8b11d51af8b0f0a",
       "version_major": 2,
       "version_minor": 0
      },
      "text/plain": [
       "Duong_lungMAP_unpubl:   0%|          | 0/27678 [00:00<?, ?it/s]"
      ]
     },
     "metadata": {},
     "output_type": "display_data"
    },
    {
     "name": "stdout",
     "output_type": "stream",
     "text": [
      "changed_only_1_to_n: 180\n",
      "changed_only_1_to_1: 27447\n",
      "alternative_target_1_to_1: 0\n",
      "alternative_target_1_to_n: 0\n",
      "matching_1_to_0: 51\n",
      "matching_1_to_1: 27447\n",
      "matching_1_to_n: 180\n",
      "input_identifiers: 27678\n",
      "Source release: (38, 93)\n"
     ]
    },
    {
     "data": {
      "application/json": {
       "ascii": false,
       "bar_format": null,
       "colour": null,
       "elapsed": 0.012672185897827148,
       "initial": 0,
       "n": 0,
       "ncols": null,
       "nrows": 24,
       "postfix": null,
       "prefix": "Janssen_2020",
       "rate": null,
       "total": 33538,
       "unit": "it",
       "unit_divisor": 1000,
       "unit_scale": false
      },
      "application/vnd.jupyter.widget-view+json": {
       "model_id": "e9bd78446e0b4138abb493d93d3dd0ae",
       "version_major": 2,
       "version_minor": 0
      },
      "text/plain": [
       "Janssen_2020:   0%|          | 0/33538 [00:00<?, ?it/s]"
      ]
     },
     "metadata": {},
     "output_type": "display_data"
    },
    {
     "name": "stderr",
     "output_type": "stream",
     "text": [
      "2022-11-01 19:32:22 WARNING:api: Number of unfound IDs: 1.\n"
     ]
    },
    {
     "name": "stdout",
     "output_type": "stream",
     "text": [
      "changed_only_1_to_n: 290\n",
      "changed_only_1_to_1: 33168\n",
      "alternative_target_1_to_1: 0\n",
      "alternative_target_1_to_n: 0\n",
      "matching_1_to_0: 80\n",
      "matching_1_to_1: 33168\n",
      "matching_1_to_n: 290\n",
      "input_identifiers: 33538\n",
      "Source release: (38, 93)\n"
     ]
    },
    {
     "data": {
      "application/json": {
       "ascii": false,
       "bar_format": null,
       "colour": null,
       "elapsed": 0.012909650802612305,
       "initial": 0,
       "n": 0,
       "ncols": null,
       "nrows": 24,
       "postfix": null,
       "prefix": "Sun_2020",
       "rate": null,
       "total": 26578,
       "unit": "it",
       "unit_divisor": 1000,
       "unit_scale": false
      },
      "application/vnd.jupyter.widget-view+json": {
       "model_id": "2a35367482e74c7e9226cd20554f4f8e",
       "version_major": 2,
       "version_minor": 0
      },
      "text/plain": [
       "Sun_2020:   0%|          | 0/26578 [00:00<?, ?it/s]"
      ]
     },
     "metadata": {},
     "output_type": "display_data"
    },
    {
     "name": "stdout",
     "output_type": "stream",
     "text": [
      "changed_only_1_to_n: 161\n",
      "changed_only_1_to_1: 26367\n",
      "alternative_target_1_to_1: 0\n",
      "alternative_target_1_to_n: 0\n",
      "matching_1_to_0: 50\n",
      "matching_1_to_1: 26367\n",
      "matching_1_to_n: 161\n",
      "input_identifiers: 26578\n",
      "Source release: (38, 93)\n"
     ]
    },
    {
     "data": {
      "application/json": {
       "ascii": false,
       "bar_format": null,
       "colour": null,
       "elapsed": 0.012416362762451172,
       "initial": 0,
       "n": 0,
       "ncols": null,
       "nrows": 24,
       "postfix": null,
       "prefix": "Gomperts_2021",
       "rate": null,
       "total": 31229,
       "unit": "it",
       "unit_divisor": 1000,
       "unit_scale": false
      },
      "application/vnd.jupyter.widget-view+json": {
       "model_id": "6ee2e6bca8ab49649463ba6acadafeb4",
       "version_major": 2,
       "version_minor": 0
      },
      "text/plain": [
       "Gomperts_2021:   0%|          | 0/31229 [00:00<?, ?it/s]"
      ]
     },
     "metadata": {},
     "output_type": "display_data"
    },
    {
     "name": "stderr",
     "output_type": "stream",
     "text": [
      "2022-11-01 19:38:22 WARNING:api: Number of unfound IDs: 187.\n"
     ]
    },
    {
     "name": "stdout",
     "output_type": "stream",
     "text": [
      "changed_only_1_to_n: 274\n",
      "changed_only_1_to_1: 30607\n",
      "alternative_target_1_to_1: 0\n",
      "alternative_target_1_to_n: 0\n",
      "matching_1_to_0: 348\n",
      "matching_1_to_1: 30607\n",
      "matching_1_to_n: 274\n",
      "input_identifiers: 31229\n",
      "Source release: (38, 89)\n"
     ]
    },
    {
     "data": {
      "application/json": {
       "ascii": false,
       "bar_format": null,
       "colour": null,
       "elapsed": 0.012761116027832031,
       "initial": 0,
       "n": 0,
       "ncols": null,
       "nrows": 24,
       "postfix": null,
       "prefix": "Eils_2020",
       "rate": null,
       "total": 32738,
       "unit": "it",
       "unit_divisor": 1000,
       "unit_scale": false
      },
      "application/vnd.jupyter.widget-view+json": {
       "model_id": "5b7171308ab249cda35c917f7b7a3405",
       "version_major": 2,
       "version_minor": 0
      },
      "text/plain": [
       "Eils_2020:   0%|          | 0/32738 [00:00<?, ?it/s]"
      ]
     },
     "metadata": {},
     "output_type": "display_data"
    },
    {
     "name": "stderr",
     "output_type": "stream",
     "text": [
      "2022-11-01 19:41:17 WARNING:api: Number of unfound IDs: 7.\n"
     ]
    },
    {
     "name": "stdout",
     "output_type": "stream",
     "text": [
      "changed_only_1_to_n: 284\n",
      "changed_only_1_to_1: 31842\n",
      "alternative_target_1_to_1: 0\n",
      "alternative_target_1_to_n: 0\n",
      "matching_1_to_0: 612\n",
      "matching_1_to_1: 31842\n",
      "matching_1_to_n: 284\n",
      "input_identifiers: 32738\n",
      "Source release: (37, 79)\n"
     ]
    },
    {
     "data": {
      "application/json": {
       "ascii": false,
       "bar_format": null,
       "colour": null,
       "elapsed": 0.013848066329956055,
       "initial": 0,
       "n": 0,
       "ncols": null,
       "nrows": 24,
       "postfix": null,
       "prefix": "Schiller_2020",
       "rate": null,
       "total": 32104,
       "unit": "it",
       "unit_divisor": 1000,
       "unit_scale": false
      },
      "application/vnd.jupyter.widget-view+json": {
       "model_id": "a84a16c119cd400a8b4df041a3a7f4c6",
       "version_major": 2,
       "version_minor": 0
      },
      "text/plain": [
       "Schiller_2020:   0%|          | 0/32104 [00:00<?, ?it/s]"
      ]
     },
     "metadata": {},
     "output_type": "display_data"
    },
    {
     "name": "stderr",
     "output_type": "stream",
     "text": [
      "2022-11-01 19:44:19 WARNING:api: Number of unfound IDs: 40.\n"
     ]
    },
    {
     "name": "stdout",
     "output_type": "stream",
     "text": [
      "changed_only_1_to_n: 263\n",
      "changed_only_1_to_1: 31308\n",
      "alternative_target_1_to_1: 0\n",
      "alternative_target_1_to_n: 0\n",
      "matching_1_to_0: 533\n",
      "matching_1_to_1: 31308\n",
      "matching_1_to_n: 263\n",
      "input_identifiers: 32104\n",
      "Source release: (38, 89)\n"
     ]
    },
    {
     "data": {
      "application/json": {
       "ascii": false,
       "bar_format": null,
       "colour": null,
       "elapsed": 0.01228785514831543,
       "initial": 0,
       "n": 0,
       "ncols": null,
       "nrows": 24,
       "postfix": null,
       "prefix": "Misharin_Budinger_2018",
       "rate": null,
       "total": 27181,
       "unit": "it",
       "unit_divisor": 1000,
       "unit_scale": false
      },
      "application/vnd.jupyter.widget-view+json": {
       "model_id": "161c8636125e4fdc9d5f6159460cf8f8",
       "version_major": 2,
       "version_minor": 0
      },
      "text/plain": [
       "Misharin_Budinger_2018:   0%|          | 0/27181 [00:00<?, ?it/s]"
      ]
     },
     "metadata": {},
     "output_type": "display_data"
    },
    {
     "name": "stdout",
     "output_type": "stream",
     "text": [
      "changed_only_1_to_n: 251\n",
      "changed_only_1_to_1: 26753\n",
      "alternative_target_1_to_1: 0\n",
      "alternative_target_1_to_n: 0\n",
      "matching_1_to_0: 177\n",
      "matching_1_to_1: 26753\n",
      "matching_1_to_n: 251\n",
      "input_identifiers: 27181\n",
      "Source release: (38, 84)\n"
     ]
    },
    {
     "data": {
      "application/json": {
       "ascii": false,
       "bar_format": null,
       "colour": null,
       "elapsed": 0.012464523315429688,
       "initial": 0,
       "n": 0,
       "ncols": null,
       "nrows": 24,
       "postfix": null,
       "prefix": "Shalek_2018",
       "rate": null,
       "total": 25328,
       "unit": "it",
       "unit_divisor": 1000,
       "unit_scale": false
      },
      "application/vnd.jupyter.widget-view+json": {
       "model_id": "3d7eab0338684401b0cfe1f74d926461",
       "version_major": 2,
       "version_minor": 0
      },
      "text/plain": [
       "Shalek_2018:   0%|          | 0/25328 [00:00<?, ?it/s]"
      ]
     },
     "metadata": {},
     "output_type": "display_data"
    },
    {
     "name": "stderr",
     "output_type": "stream",
     "text": [
      "2022-11-01 19:50:15 WARNING:api: Number of unfound IDs: 22.\n"
     ]
    },
    {
     "name": "stdout",
     "output_type": "stream",
     "text": [
      "changed_only_1_to_n: 198\n",
      "changed_only_1_to_1: 24638\n",
      "alternative_target_1_to_1: 0\n",
      "alternative_target_1_to_n: 0\n",
      "matching_1_to_0: 492\n",
      "matching_1_to_1: 24638\n",
      "matching_1_to_n: 198\n",
      "input_identifiers: 25328\n",
      "Source release: (37, 79)\n"
     ]
    },
    {
     "data": {
      "application/json": {
       "ascii": false,
       "bar_format": null,
       "colour": null,
       "elapsed": 0.01276850700378418,
       "initial": 0,
       "n": 0,
       "ncols": null,
       "nrows": 24,
       "postfix": null,
       "prefix": "Schiller_2021",
       "rate": null,
       "total": 17533,
       "unit": "it",
       "unit_divisor": 1000,
       "unit_scale": false
      },
      "application/vnd.jupyter.widget-view+json": {
       "model_id": "d282610363964372a04ff4126869002d",
       "version_major": 2,
       "version_minor": 0
      },
      "text/plain": [
       "Schiller_2021:   0%|          | 0/17533 [00:00<?, ?it/s]"
      ]
     },
     "metadata": {},
     "output_type": "display_data"
    },
    {
     "name": "stdout",
     "output_type": "stream",
     "text": [
      "changed_only_1_to_n: 139\n",
      "changed_only_1_to_1: 17384\n",
      "alternative_target_1_to_1: 0\n",
      "alternative_target_1_to_n: 0\n",
      "matching_1_to_0: 10\n",
      "matching_1_to_1: 17384\n",
      "matching_1_to_n: 139\n",
      "input_identifiers: 17533\n",
      "Source release: (38, 99)\n"
     ]
    },
    {
     "data": {
      "application/json": {
       "ascii": false,
       "bar_format": null,
       "colour": null,
       "elapsed": 0.012270689010620117,
       "initial": 0,
       "n": 0,
       "ncols": null,
       "nrows": 24,
       "postfix": null,
       "prefix": "Peer_Massague_2020",
       "rate": null,
       "total": 19222,
       "unit": "it",
       "unit_divisor": 1000,
       "unit_scale": false
      },
      "application/vnd.jupyter.widget-view+json": {
       "model_id": "d549a76987264a419eb818aceff387d7",
       "version_major": 2,
       "version_minor": 0
      },
      "text/plain": [
       "Peer_Massague_2020:   0%|          | 0/19222 [00:00<?, ?it/s]"
      ]
     },
     "metadata": {},
     "output_type": "display_data"
    },
    {
     "name": "stdout",
     "output_type": "stream",
     "text": [
      "changed_only_1_to_n: 155\n",
      "changed_only_1_to_1: 19004\n",
      "alternative_target_1_to_1: 0\n",
      "alternative_target_1_to_n: 0\n",
      "matching_1_to_0: 63\n",
      "matching_1_to_1: 19004\n",
      "matching_1_to_n: 155\n",
      "input_identifiers: 19222\n",
      "Source release: (38, 86)\n"
     ]
    },
    {
     "data": {
      "application/json": {
       "ascii": false,
       "bar_format": null,
       "colour": null,
       "elapsed": 0.013948917388916016,
       "initial": 0,
       "n": 0,
       "ncols": null,
       "nrows": 24,
       "postfix": null,
       "prefix": "Lafyatis_2019",
       "rate": null,
       "total": 22164,
       "unit": "it",
       "unit_divisor": 1000,
       "unit_scale": false
      },
      "application/vnd.jupyter.widget-view+json": {
       "model_id": "d2a054f266f04e7e800c76037a62e674",
       "version_major": 2,
       "version_minor": 0
      },
      "text/plain": [
       "Lafyatis_2019:   0%|          | 0/22164 [00:00<?, ?it/s]"
      ]
     },
     "metadata": {},
     "output_type": "display_data"
    },
    {
     "name": "stderr",
     "output_type": "stream",
     "text": [
      "2022-11-01 19:58:46 WARNING:api: Number of unfound IDs: 1.\n"
     ]
    },
    {
     "name": "stdout",
     "output_type": "stream",
     "text": [
      "changed_only_1_to_n: 258\n",
      "changed_only_1_to_1: 21885\n",
      "alternative_target_1_to_1: 0\n",
      "alternative_target_1_to_n: 0\n",
      "matching_1_to_0: 21\n",
      "matching_1_to_1: 21885\n",
      "matching_1_to_n: 258\n",
      "input_identifiers: 22164\n",
      "Source release: (38, 84)\n"
     ]
    },
    {
     "data": {
      "application/json": {
       "ascii": false,
       "bar_format": null,
       "colour": null,
       "elapsed": 0.012513399124145508,
       "initial": 0,
       "n": 0,
       "ncols": null,
       "nrows": 24,
       "postfix": null,
       "prefix": "Tata_unpubl",
       "rate": null,
       "total": 31915,
       "unit": "it",
       "unit_divisor": 1000,
       "unit_scale": false
      },
      "application/vnd.jupyter.widget-view+json": {
       "model_id": "5b54dc1e04c847118af834826b50cf84",
       "version_major": 2,
       "version_minor": 0
      },
      "text/plain": [
       "Tata_unpubl:   0%|          | 0/31915 [00:00<?, ?it/s]"
      ]
     },
     "metadata": {},
     "output_type": "display_data"
    },
    {
     "name": "stderr",
     "output_type": "stream",
     "text": [
      "2022-11-01 20:01:33 WARNING:api: Number of unfound IDs: 1.\n"
     ]
    },
    {
     "name": "stdout",
     "output_type": "stream",
     "text": [
      "changed_only_1_to_n: 280\n",
      "changed_only_1_to_1: 31599\n",
      "alternative_target_1_to_1: 0\n",
      "alternative_target_1_to_n: 0\n",
      "matching_1_to_0: 36\n",
      "matching_1_to_1: 31599\n",
      "matching_1_to_n: 280\n",
      "input_identifiers: 31915\n",
      "Source release: (38, 93)\n"
     ]
    },
    {
     "data": {
      "application/json": {
       "ascii": false,
       "bar_format": null,
       "colour": null,
       "elapsed": 0.014091253280639648,
       "initial": 0,
       "n": 0,
       "ncols": null,
       "nrows": 24,
       "postfix": null,
       "prefix": "Xu_2020",
       "rate": null,
       "total": 32738,
       "unit": "it",
       "unit_divisor": 1000,
       "unit_scale": false
      },
      "application/vnd.jupyter.widget-view+json": {
       "model_id": "2ab6cd59bc9146af8b3f923862a2653d",
       "version_major": 2,
       "version_minor": 0
      },
      "text/plain": [
       "Xu_2020:   0%|          | 0/32738 [00:00<?, ?it/s]"
      ]
     },
     "metadata": {},
     "output_type": "display_data"
    },
    {
     "name": "stderr",
     "output_type": "stream",
     "text": [
      "2022-11-01 20:04:44 WARNING:api: Number of unfound IDs: 7.\n"
     ]
    },
    {
     "name": "stdout",
     "output_type": "stream",
     "text": [
      "changed_only_1_to_n: 284\n",
      "changed_only_1_to_1: 31842\n",
      "alternative_target_1_to_1: 0\n",
      "alternative_target_1_to_n: 0\n",
      "matching_1_to_0: 612\n",
      "matching_1_to_1: 31842\n",
      "matching_1_to_n: 284\n",
      "input_identifiers: 32738\n",
      "Source release: (37, 79)\n"
     ]
    },
    {
     "data": {
      "application/json": {
       "ascii": false,
       "bar_format": null,
       "colour": null,
       "elapsed": 0.013205528259277344,
       "initial": 0,
       "n": 0,
       "ncols": null,
       "nrows": 24,
       "postfix": null,
       "prefix": "Sims_2019",
       "rate": null,
       "total": 60725,
       "unit": "it",
       "unit_divisor": 1000,
       "unit_scale": false
      },
      "application/vnd.jupyter.widget-view+json": {
       "model_id": "f85ea4ebb9eb4aa4927998b7bf4d9457",
       "version_major": 2,
       "version_minor": 0
      },
      "text/plain": [
       "Sims_2019:   0%|          | 0/60725 [00:00<?, ?it/s]"
      ]
     },
     "metadata": {},
     "output_type": "display_data"
    },
    {
     "name": "stdout",
     "output_type": "stream",
     "text": [
      "changed_only_1_to_n: 1830\n",
      "changed_only_1_to_1: 57434\n",
      "alternative_target_1_to_1: 0\n",
      "alternative_target_1_to_n: 0\n",
      "matching_1_to_0: 1461\n",
      "matching_1_to_1: 57434\n",
      "matching_1_to_n: 1830\n",
      "input_identifiers: 60725\n"
     ]
    },
    {
     "name": "stderr",
     "output_type": "stream",
     "text": [
      "2022-11-01 20:09:57 WARNING:api: Number of unfound IDs: 10.\n"
     ]
    },
    {
     "name": "stdout",
     "output_type": "stream",
     "text": [
      "Source release: (38, 83)\n"
     ]
    },
    {
     "data": {
      "application/json": {
       "ascii": false,
       "bar_format": null,
       "colour": null,
       "elapsed": 0.013015031814575195,
       "initial": 0,
       "n": 0,
       "ncols": null,
       "nrows": 24,
       "postfix": null,
       "prefix": "Schultze_unpubl",
       "rate": null,
       "total": 24532,
       "unit": "it",
       "unit_divisor": 1000,
       "unit_scale": false
      },
      "application/vnd.jupyter.widget-view+json": {
       "model_id": "c19ada802d404d89a951a0ba58a47438",
       "version_major": 2,
       "version_minor": 0
      },
      "text/plain": [
       "Schultze_unpubl:   0%|          | 0/24532 [00:00<?, ?it/s]"
      ]
     },
     "metadata": {},
     "output_type": "display_data"
    },
    {
     "name": "stdout",
     "output_type": "stream",
     "text": [
      "changed_only_1_to_n: 196\n",
      "changed_only_1_to_1: 24290\n",
      "alternative_target_1_to_1: 0\n",
      "alternative_target_1_to_n: 0\n",
      "matching_1_to_0: 46\n",
      "matching_1_to_1: 24290\n",
      "matching_1_to_n: 196\n",
      "input_identifiers: 24532\n",
      "Source release: (38, 91)\n"
     ]
    }
   ],
   "source": [
    "result = dict()\n",
    "final_database=\"ensembl_gene\"\n",
    "\n",
    "for dataset_name in adata_dict:\n",
    "    \n",
    "    adata = sc.read(adata_dict[dataset_name][0])\n",
    "    gene_list = list(adata.var.index)\n",
    "    \n",
    "    matching = idt.convert_identifier_multiple(gene_list, final_database=final_database, pbar_prefix=dataset_name)\n",
    "    binned_conversions = idt.classify_multiple_conversion(matching)\n",
    "    \n",
    "    idt.print_binned_conversion(binned_conversions)\n",
    "    print(f\"Source release: {idt.infer_identifier_source(gene_list)}\")\n",
    "    \n",
    "    result[dataset_name] = binned_conversions"
   ]
  },
  {
   "cell_type": "markdown",
   "id": "74f831c0",
   "metadata": {},
   "source": [
    "### Save"
   ]
  },
  {
   "cell_type": "code",
   "execution_count": 10,
   "id": "516adee1-8c4f-4892-836c-4c07aed34b24",
   "metadata": {},
   "outputs": [
    {
     "name": "stdout",
     "output_type": "stream",
     "text": [
      "Saved: /lustre/groups/ml01/workspace/kemal.inecik/idtrack_temp/results_for_hlca_datasets_ensembl_gene_20221101-191345.pk\n"
     ]
    }
   ],
   "source": [
    "time_suffix = time.strftime(\"%Y%m%d-%H%M%S\", time.gmtime())\n",
    "file_path = os.path.join(local_dir, f\"results_for_hlca_datasets_{final_database}_{time_suffix}.pk\")\n",
    "with open(file_path, 'wb') as handle:\n",
    "    pickle.dump(result, handle)\n",
    "    print(f\"Saved: {file_path}\")"
   ]
  },
  {
   "cell_type": "markdown",
   "id": "5e4790bb-055f-4a79-abe4-e9fe2adb3185",
   "metadata": {},
   "source": []
  }
 ],
 "metadata": {
  "kernelspec": {
   "display_name": "Python [conda env:hlcav2_scarches_gpu]",
   "language": "python",
   "name": "conda-env-hlcav2_scarches_gpu-py"
  },
  "language_info": {
   "codemirror_mode": {
    "name": "ipython",
    "version": 3
   },
   "file_extension": ".py",
   "mimetype": "text/x-python",
   "name": "python",
   "nbconvert_exporter": "python",
   "pygments_lexer": "ipython3",
   "version": "3.9.16"
  }
 },
 "nbformat": 4,
 "nbformat_minor": 5
}
