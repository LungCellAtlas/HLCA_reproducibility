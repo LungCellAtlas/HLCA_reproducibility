{
 "cells": [
  {
   "cell_type": "markdown",
   "metadata": {},
   "source": [
    "### Notebook to preprocess the data from Xu_2020/Guo"
   ]
  },
  {
   "cell_type": "markdown",
   "metadata": {},
   "source": [
    "### Import required modules"
   ]
  },
  {
   "cell_type": "code",
   "execution_count": 1,
   "metadata": {},
   "outputs": [],
   "source": [
    "import anndata\n",
    "import numpy as np\n",
    "import pandas as pd\n",
    "import scanpy as sc"
   ]
  },
  {
   "cell_type": "markdown",
   "metadata": {},
   "source": [
    "- Set up working environment"
   ]
  },
  {
   "cell_type": "code",
   "execution_count": 2,
   "metadata": {
    "tags": []
   },
   "outputs": [
    {
     "name": "stderr",
     "output_type": "stream",
     "text": [
      "WARNING: If you miss a compact list, please try `print_header`!\n"
     ]
    },
    {
     "name": "stdout",
     "output_type": "stream",
     "text": [
      "-----\n",
      "anndata     0.7.5\n",
      "scanpy      1.7.2\n",
      "sinfo       0.3.1\n",
      "-----\n",
      "PIL                 8.1.0\n",
      "anndata             0.7.5\n",
      "anyio               NA\n",
      "attr                20.3.0\n",
      "babel               2.9.0\n",
      "backcall            0.2.0\n",
      "brotli              NA\n",
      "cached_property     1.5.2\n",
      "cairo               1.20.0\n",
      "certifi             2021.05.30\n",
      "cffi                1.14.4\n",
      "chardet             4.0.0\n",
      "cloudpickle         1.6.0\n",
      "colorama            0.4.4\n",
      "cycler              0.10.0\n",
      "cython_runtime      NA\n",
      "dask                2.30.0\n",
      "dateutil            2.8.1\n",
      "decorator           4.4.2\n",
      "future_fstrings     NA\n",
      "get_version         2.1\n",
      "google              NA\n",
      "h5py                3.1.0\n",
      "idna                2.10\n",
      "igraph              0.8.2\n",
      "ipykernel           5.4.2\n",
      "ipython_genutils    0.2.0\n",
      "jedi                0.18.0\n",
      "jinja2              2.11.2\n",
      "joblib              0.16.0\n",
      "json5               NA\n",
      "jsonschema          3.2.0\n",
      "jupyter_server      1.1.3\n",
      "jupyterlab_server   2.0.0\n",
      "kiwisolver          1.3.1\n",
      "legacy_api_wrap     1.2\n",
      "leidenalg           0.8.4\n",
      "llvmlite            0.35.0\n",
      "louvain             0.7.0\n",
      "markupsafe          1.1.1\n",
      "matplotlib          3.3.3\n",
      "mpl_toolkits        NA\n",
      "natsort             7.0.1\n",
      "nbclassic           NA\n",
      "nbformat            5.0.8\n",
      "numba               0.52.0\n",
      "numexpr             2.7.1\n",
      "numpy               1.18.5\n",
      "packaging           20.8\n",
      "pandas              1.2.4\n",
      "parso               0.8.2\n",
      "pexpect             4.8.0\n",
      "pickleshare         0.7.5\n",
      "pkg_resources       NA\n",
      "prometheus_client   NA\n",
      "prompt_toolkit      3.0.8\n",
      "psutil              5.8.0\n",
      "ptyprocess          0.7.0\n",
      "pvectorc            NA\n",
      "pygments            2.7.3\n",
      "pyparsing           2.4.7\n",
      "pyrsistent          NA\n",
      "pytz                2020.5\n",
      "requests            2.25.1\n",
      "scanpy              1.7.2\n",
      "scipy               1.5.2\n",
      "send2trash          NA\n",
      "setuptools_scm      NA\n",
      "sinfo               0.3.1\n",
      "six                 1.15.0\n",
      "sklearn             0.23.2\n",
      "sniffio             1.2.0\n",
      "socks               1.7.1\n",
      "sparse              0.11.2\n",
      "sphinxcontrib       NA\n",
      "storemagic          NA\n",
      "tables              3.6.1\n",
      "tblib               1.7.0\n",
      "texttable           1.6.3\n",
      "tlz                 0.11.1\n",
      "toolz               0.11.1\n",
      "tornado             6.1\n",
      "traitlets           5.0.5\n",
      "typing_extensions   NA\n",
      "urllib3             1.26.4\n",
      "wcwidth             0.2.5\n",
      "yaml                5.3.1\n",
      "zipp                NA\n",
      "zmq                 20.0.0\n",
      "-----\n",
      "IPython             7.20.0\n",
      "jupyter_client      6.1.7\n",
      "jupyter_core        4.7.0\n",
      "jupyterlab          3.0.0\n",
      "notebook            6.1.6\n",
      "-----\n",
      "Python 3.7.8 | packaged by conda-forge | (default, Jul 31 2020, 02:25:08) [GCC 7.5.0]\n",
      "Linux-4.17.5-200.fc28.x86_64-x86_64-with-fedora-28-Twenty_Eight\n",
      "48 logical CPU cores, x86_64\n",
      "-----\n",
      "Session information updated at 2021-08-10 19:00\n",
      "\n"
     ]
    }
   ],
   "source": [
    "sc.settings.verbosity = 3\n",
    "sc.logging.print_versions()\n",
    "sc.settings.set_figure_params(dpi = 200, color_map = 'RdPu', dpi_save = 180, vector_friendly = True, format = 'svg')"
   ]
  },
  {
   "cell_type": "markdown",
   "metadata": {},
   "source": [
    "### Read in dataset"
   ]
  },
  {
   "cell_type": "code",
   "execution_count": 3,
   "metadata": {},
   "outputs": [
    {
     "name": "stderr",
     "output_type": "stream",
     "text": [
      "... writing an h5ad cache file to speedup reading next time\n"
     ]
    },
    {
     "data": {
      "text/plain": [
       "AnnData object with n_obs × n_vars = 737280 × 32738\n",
       "    obs: 'subject_ID', 'protocol', 'age'\n",
       "    var: 'gene_ids'"
      ]
     },
     "execution_count": 3,
     "metadata": {},
     "output_type": "execute_result"
    }
   ],
   "source": [
    "# adata_1 = sc.read_10x_mtx('./GSE135851_RAW/LAM1/', cache = True)\n",
    "adata_1 = sc.read_10x_mtx('./LAM1/', cache = True)\n",
    "adata_1.obs['subject_ID'] = 'SAMN12574693'\n",
    "adata_1.obs['protocol'] = 'scRNA-Seq'\n",
    "adata_1.obs['age'] = 72\n",
    "adata_1"
   ]
  },
  {
   "cell_type": "code",
   "execution_count": 4,
   "metadata": {},
   "outputs": [
    {
     "name": "stderr",
     "output_type": "stream",
     "text": [
      "... writing an h5ad cache file to speedup reading next time\n"
     ]
    },
    {
     "data": {
      "text/plain": [
       "AnnData object with n_obs × n_vars = 737280 × 32738\n",
       "    obs: 'subject_ID', 'protocol', 'age'\n",
       "    var: 'gene_ids'"
      ]
     },
     "execution_count": 4,
     "metadata": {},
     "output_type": "execute_result"
    }
   ],
   "source": [
    "adata_2 = sc.read_10x_mtx('./LAM2/', cache = True)\n",
    "adata_2.obs['subject_ID'] = 'SAMN12574700'\n",
    "adata_2.obs['protocol'] = 'scRNA-Seq'\n",
    "adata_2.obs['age'] = 65\n",
    "adata_2"
   ]
  },
  {
   "cell_type": "code",
   "execution_count": 5,
   "metadata": {},
   "outputs": [
    {
     "name": "stderr",
     "output_type": "stream",
     "text": [
      "... writing an h5ad cache file to speedup reading next time\n"
     ]
    },
    {
     "data": {
      "text/plain": [
       "AnnData object with n_obs × n_vars = 737280 × 32738\n",
       "    obs: 'subject_ID', 'protocol', 'age'\n",
       "    var: 'gene_ids'"
      ]
     },
     "execution_count": 5,
     "metadata": {},
     "output_type": "execute_result"
    }
   ],
   "source": [
    "adata_3 = sc.read_10x_mtx('./LAM3/', cache = True)\n",
    "adata_3.obs['subject_ID'] = 'SAMN12574699'\n",
    "adata_3.obs['protocol'] = 'scRNA-Seq'\n",
    "adata_3.obs['age'] = 50\n",
    "adata_3"
   ]
  },
  {
   "cell_type": "code",
   "execution_count": 6,
   "metadata": {},
   "outputs": [
    {
     "name": "stderr",
     "output_type": "stream",
     "text": [
      "... writing an h5ad cache file to speedup reading next time\n",
      "/home/icb/ignacio.ibarra/miniconda3/envs/mypython3/lib/python3.7/site-packages/anndata/utils.py:117: UserWarning: Suffix used (-[0-9]+) to deduplicate index values may make index values difficult to interpret. There values with a similar suffixes in the index. Consider using a different delimiter by passing `join={delimiter}`Example key collisions generated by the make_index_unique algorithm: ['SNORD116-1', 'SNORD116-2', 'SNORD116-3', 'SNORD116-5', 'SNORD116-6']\n",
      "  + str(example_colliding_values)\n"
     ]
    },
    {
     "data": {
      "text/plain": [
       "AnnData object with n_obs × n_vars = 737280 × 63677\n",
       "    obs: 'subject_ID', 'protocol', 'age'\n",
       "    var: 'gene_ids'"
      ]
     },
     "execution_count": 6,
     "metadata": {},
     "output_type": "execute_result"
    }
   ],
   "source": [
    "adata_4 = sc.read_10x_mtx('./LAM4/', cache = True)\n",
    "adata_4.obs['subject_ID'] = 'SAMN12574698'\n",
    "adata_4.obs['protocol'] = 'snRNA-Seq'\n",
    "adata_4.obs['age'] = 52\n",
    "adata_4"
   ]
  },
  {
   "cell_type": "markdown",
   "metadata": {},
   "source": [
    "### Merge samples"
   ]
  },
  {
   "cell_type": "code",
   "execution_count": 7,
   "metadata": {},
   "outputs": [
    {
     "data": {
      "text/plain": [
       "AnnData object with n_obs × n_vars = 2949120 × 32738\n",
       "    obs: 'subject_ID', 'protocol', 'age', 'sample', 'genome'\n",
       "    var: 'gene_ids-LAM1', 'gene_ids-LAM2', 'gene_ids-LAM3', 'gene_ids-LAM4'"
      ]
     },
     "execution_count": 7,
     "metadata": {},
     "output_type": "execute_result"
    }
   ],
   "source": [
    "GSE135851 = adata_1.concatenate(adata_2, adata_3, adata_4, batch_key = 'sample', batch_categories = ['LAM1', 'LAM2', 'LAM3', 'LAM4'], join = 'inner')\n",
    "GSE135851.obs['genome'] = 'hg19'\n",
    "GSE135851"
   ]
  },
  {
   "cell_type": "markdown",
   "metadata": {},
   "source": [
    "### Is `adata.X` raw?"
   ]
  },
  {
   "cell_type": "code",
   "execution_count": 8,
   "metadata": {},
   "outputs": [
    {
     "data": {
      "text/plain": [
       "matrix([[0., 0., 0., 0., 0.],\n",
       "        [0., 0., 0., 0., 0.],\n",
       "        [0., 0., 0., 0., 0.],\n",
       "        [0., 0., 0., 0., 0.],\n",
       "        [0., 0., 0., 0., 0.]], dtype=float32)"
      ]
     },
     "execution_count": 8,
     "metadata": {},
     "output_type": "execute_result"
    }
   ],
   "source": [
    "ad = GSE135851\n",
    "GSE135851.X[:5,:5].todense()"
   ]
  },
  {
   "cell_type": "code",
   "execution_count": 9,
   "metadata": {},
   "outputs": [
    {
     "data": {
      "text/plain": [
       "(2949120, 32738)"
      ]
     },
     "execution_count": 9,
     "metadata": {},
     "output_type": "execute_result"
    }
   ],
   "source": [
    "ad.shape"
   ]
  },
  {
   "cell_type": "code",
   "execution_count": 10,
   "metadata": {},
   "outputs": [
    {
     "data": {
      "text/plain": [
       "0.0      291791180\n",
       "1.0         121806\n",
       "2.0          24538\n",
       "3.0          11027\n",
       "4.0           5839\n",
       "           ...    \n",
       "185.0            1\n",
       "71.0             1\n",
       "125.0            1\n",
       "152.0            1\n",
       "94.0             1\n",
       "Length: 94, dtype: int64"
      ]
     },
     "execution_count": 10,
     "metadata": {},
     "output_type": "execute_result"
    }
   ],
   "source": [
    "import pandas as pd\n",
    "pd.Series(GSE135851.X[:,1:100].A.flatten()).value_counts()"
   ]
  },
  {
   "cell_type": "markdown",
   "metadata": {},
   "source": [
    "**It looks like to be integers**"
   ]
  },
  {
   "cell_type": "markdown",
   "metadata": {},
   "source": [
    "### Add basic labels"
   ]
  },
  {
   "cell_type": "code",
   "execution_count": 11,
   "metadata": {},
   "outputs": [
    {
     "data": {
      "text/plain": [
       "AnnData object with n_obs × n_vars = 2949120 × 32738\n",
       "    obs: 'subject_ID', 'protocol', 'age', 'sample', 'genome', 'dataset', 'study', 'original_celltype_ann', 'condition'\n",
       "    var: 'gene_ids-LAM1', 'gene_ids-LAM2', 'gene_ids-LAM3', 'gene_ids-LAM4'"
      ]
     },
     "execution_count": 11,
     "metadata": {},
     "output_type": "execute_result"
    }
   ],
   "source": [
    "ad.obs['dataset'] = 'GSE135851'\n",
    "ad.obs['study'] = 'Guo2020'\n",
    "ad.obs['original_celltype_ann'] = 'N/A'\n",
    "ad.obs['condition'] = 'disease'\n",
    "ad"
   ]
  },
  {
   "cell_type": "code",
   "execution_count": 12,
   "metadata": {},
   "outputs": [
    {
     "data": {
      "text/html": [
       "<div>\n",
       "<style scoped>\n",
       "    .dataframe tbody tr th:only-of-type {\n",
       "        vertical-align: middle;\n",
       "    }\n",
       "\n",
       "    .dataframe tbody tr th {\n",
       "        vertical-align: top;\n",
       "    }\n",
       "\n",
       "    .dataframe thead th {\n",
       "        text-align: right;\n",
       "    }\n",
       "</style>\n",
       "<table border=\"1\" class=\"dataframe\">\n",
       "  <thead>\n",
       "    <tr style=\"text-align: right;\">\n",
       "      <th></th>\n",
       "      <th>subject_ID</th>\n",
       "      <th>protocol</th>\n",
       "      <th>age</th>\n",
       "      <th>sample</th>\n",
       "      <th>genome</th>\n",
       "      <th>dataset</th>\n",
       "      <th>study</th>\n",
       "      <th>original_celltype_ann</th>\n",
       "      <th>condition</th>\n",
       "    </tr>\n",
       "  </thead>\n",
       "  <tbody>\n",
       "    <tr>\n",
       "      <th>AAACCTGAGAAACCAT-1-LAM1</th>\n",
       "      <td>SAMN12574693</td>\n",
       "      <td>scRNA-Seq</td>\n",
       "      <td>72</td>\n",
       "      <td>LAM1</td>\n",
       "      <td>hg19</td>\n",
       "      <td>GSE135851</td>\n",
       "      <td>Guo2020</td>\n",
       "      <td>N/A</td>\n",
       "      <td>disease</td>\n",
       "    </tr>\n",
       "    <tr>\n",
       "      <th>AAACCTGAGAAACCGC-1-LAM1</th>\n",
       "      <td>SAMN12574693</td>\n",
       "      <td>scRNA-Seq</td>\n",
       "      <td>72</td>\n",
       "      <td>LAM1</td>\n",
       "      <td>hg19</td>\n",
       "      <td>GSE135851</td>\n",
       "      <td>Guo2020</td>\n",
       "      <td>N/A</td>\n",
       "      <td>disease</td>\n",
       "    </tr>\n",
       "    <tr>\n",
       "      <th>AAACCTGAGAAACCTA-1-LAM1</th>\n",
       "      <td>SAMN12574693</td>\n",
       "      <td>scRNA-Seq</td>\n",
       "      <td>72</td>\n",
       "      <td>LAM1</td>\n",
       "      <td>hg19</td>\n",
       "      <td>GSE135851</td>\n",
       "      <td>Guo2020</td>\n",
       "      <td>N/A</td>\n",
       "      <td>disease</td>\n",
       "    </tr>\n",
       "    <tr>\n",
       "      <th>AAACCTGAGAAACGAG-1-LAM1</th>\n",
       "      <td>SAMN12574693</td>\n",
       "      <td>scRNA-Seq</td>\n",
       "      <td>72</td>\n",
       "      <td>LAM1</td>\n",
       "      <td>hg19</td>\n",
       "      <td>GSE135851</td>\n",
       "      <td>Guo2020</td>\n",
       "      <td>N/A</td>\n",
       "      <td>disease</td>\n",
       "    </tr>\n",
       "    <tr>\n",
       "      <th>AAACCTGAGAAACGCC-1-LAM1</th>\n",
       "      <td>SAMN12574693</td>\n",
       "      <td>scRNA-Seq</td>\n",
       "      <td>72</td>\n",
       "      <td>LAM1</td>\n",
       "      <td>hg19</td>\n",
       "      <td>GSE135851</td>\n",
       "      <td>Guo2020</td>\n",
       "      <td>N/A</td>\n",
       "      <td>disease</td>\n",
       "    </tr>\n",
       "  </tbody>\n",
       "</table>\n",
       "</div>"
      ],
      "text/plain": [
       "                           subject_ID   protocol  age sample genome  \\\n",
       "AAACCTGAGAAACCAT-1-LAM1  SAMN12574693  scRNA-Seq   72   LAM1   hg19   \n",
       "AAACCTGAGAAACCGC-1-LAM1  SAMN12574693  scRNA-Seq   72   LAM1   hg19   \n",
       "AAACCTGAGAAACCTA-1-LAM1  SAMN12574693  scRNA-Seq   72   LAM1   hg19   \n",
       "AAACCTGAGAAACGAG-1-LAM1  SAMN12574693  scRNA-Seq   72   LAM1   hg19   \n",
       "AAACCTGAGAAACGCC-1-LAM1  SAMN12574693  scRNA-Seq   72   LAM1   hg19   \n",
       "\n",
       "                           dataset    study original_celltype_ann condition  \n",
       "AAACCTGAGAAACCAT-1-LAM1  GSE135851  Guo2020                   N/A   disease  \n",
       "AAACCTGAGAAACCGC-1-LAM1  GSE135851  Guo2020                   N/A   disease  \n",
       "AAACCTGAGAAACCTA-1-LAM1  GSE135851  Guo2020                   N/A   disease  \n",
       "AAACCTGAGAAACGAG-1-LAM1  GSE135851  Guo2020                   N/A   disease  \n",
       "AAACCTGAGAAACGCC-1-LAM1  GSE135851  Guo2020                   N/A   disease  "
      ]
     },
     "execution_count": 12,
     "metadata": {},
     "output_type": "execute_result"
    }
   ],
   "source": [
    "ad.obs.head()"
   ]
  },
  {
   "cell_type": "code",
   "execution_count": 13,
   "metadata": {},
   "outputs": [
    {
     "data": {
      "text/html": [
       "<div>\n",
       "<style scoped>\n",
       "    .dataframe tbody tr th:only-of-type {\n",
       "        vertical-align: middle;\n",
       "    }\n",
       "\n",
       "    .dataframe tbody tr th {\n",
       "        vertical-align: top;\n",
       "    }\n",
       "\n",
       "    .dataframe thead th {\n",
       "        text-align: right;\n",
       "    }\n",
       "</style>\n",
       "<table border=\"1\" class=\"dataframe\">\n",
       "  <thead>\n",
       "    <tr style=\"text-align: right;\">\n",
       "      <th></th>\n",
       "      <th>gene_ids-LAM1</th>\n",
       "      <th>gene_ids-LAM2</th>\n",
       "      <th>gene_ids-LAM3</th>\n",
       "      <th>gene_ids-LAM4</th>\n",
       "    </tr>\n",
       "  </thead>\n",
       "  <tbody>\n",
       "    <tr>\n",
       "      <th>MIR1302-10</th>\n",
       "      <td>ENSG00000243485</td>\n",
       "      <td>ENSG00000243485</td>\n",
       "      <td>ENSG00000243485</td>\n",
       "      <td>ENSG00000243485</td>\n",
       "    </tr>\n",
       "    <tr>\n",
       "      <th>FAM138A</th>\n",
       "      <td>ENSG00000237613</td>\n",
       "      <td>ENSG00000237613</td>\n",
       "      <td>ENSG00000237613</td>\n",
       "      <td>ENSG00000237613</td>\n",
       "    </tr>\n",
       "    <tr>\n",
       "      <th>OR4F5</th>\n",
       "      <td>ENSG00000186092</td>\n",
       "      <td>ENSG00000186092</td>\n",
       "      <td>ENSG00000186092</td>\n",
       "      <td>ENSG00000186092</td>\n",
       "    </tr>\n",
       "    <tr>\n",
       "      <th>RP11-34P13.7</th>\n",
       "      <td>ENSG00000238009</td>\n",
       "      <td>ENSG00000238009</td>\n",
       "      <td>ENSG00000238009</td>\n",
       "      <td>ENSG00000238009</td>\n",
       "    </tr>\n",
       "    <tr>\n",
       "      <th>RP11-34P13.8</th>\n",
       "      <td>ENSG00000239945</td>\n",
       "      <td>ENSG00000239945</td>\n",
       "      <td>ENSG00000239945</td>\n",
       "      <td>ENSG00000239945</td>\n",
       "    </tr>\n",
       "  </tbody>\n",
       "</table>\n",
       "</div>"
      ],
      "text/plain": [
       "                gene_ids-LAM1    gene_ids-LAM2    gene_ids-LAM3  \\\n",
       "MIR1302-10    ENSG00000243485  ENSG00000243485  ENSG00000243485   \n",
       "FAM138A       ENSG00000237613  ENSG00000237613  ENSG00000237613   \n",
       "OR4F5         ENSG00000186092  ENSG00000186092  ENSG00000186092   \n",
       "RP11-34P13.7  ENSG00000238009  ENSG00000238009  ENSG00000238009   \n",
       "RP11-34P13.8  ENSG00000239945  ENSG00000239945  ENSG00000239945   \n",
       "\n",
       "                gene_ids-LAM4  \n",
       "MIR1302-10    ENSG00000243485  \n",
       "FAM138A       ENSG00000237613  \n",
       "OR4F5         ENSG00000186092  \n",
       "RP11-34P13.7  ENSG00000238009  \n",
       "RP11-34P13.8  ENSG00000239945  "
      ]
     },
     "execution_count": 13,
     "metadata": {},
     "output_type": "execute_result"
    }
   ],
   "source": [
    "ad.var.head()"
   ]
  },
  {
   "cell_type": "code",
   "execution_count": 14,
   "metadata": {},
   "outputs": [
    {
     "data": {
      "text/plain": [
       "(2949120, 32738)"
      ]
     },
     "execution_count": 14,
     "metadata": {},
     "output_type": "execute_result"
    }
   ],
   "source": [
    "ad.shape"
   ]
  },
  {
   "cell_type": "code",
   "execution_count": 15,
   "metadata": {},
   "outputs": [
    {
     "name": "stderr",
     "output_type": "stream",
     "text": [
      "... storing 'subject_ID' as categorical\n",
      "... storing 'protocol' as categorical\n",
      "... storing 'genome' as categorical\n",
      "... storing 'dataset' as categorical\n",
      "... storing 'study' as categorical\n",
      "... storing 'original_celltype_ann' as categorical\n",
      "... storing 'condition' as categorical\n"
     ]
    }
   ],
   "source": [
    "ad.write('GSE135851_preprocessed.raw.ctl210706.h5ad', compression='lzf')"
   ]
  },
  {
   "cell_type": "markdown",
   "metadata": {},
   "source": [
    "### Subset datasets to Sikkema's HVGs "
   ]
  },
  {
   "cell_type": "code",
   "execution_count": 16,
   "metadata": {},
   "outputs": [],
   "source": [
    "def subset_and_pad_adata(adata, gene_set):\n",
    "    \"\"\"\n",
    "    This function uses a gene list provided as a Pandas dataframe with gene symbols and\n",
    "    Ensembl IDs and subsets a larger Anndata object to only the genes in this list. If\n",
    "    Not all genes are found in the AnnData object, then zero-padding is performed.\n",
    "    \"\"\"\n",
    "    # Example inputs:\n",
    "    # genes_filename = '/storage/groups/ml01/workspace/hlca_lisa.sikkema_malte.luecken/genes_for_mapping.csv'\n",
    "    # data_filename = '/storage/groups/ml01/workspace/hlca_lisa.sikkema_malte.luecken/ready/adams.h5ad'\n",
    "    # gene_set = pd.read_csv(genes_filename)\n",
    "    # adata = sc.read(data_filename)\n",
    "\n",
    "    # Prep objects\n",
    "    if 'gene_symbols' in gene_set.columns:\n",
    "        gene_set.index = gene_set['gene_symbols']\n",
    "\n",
    "    else:\n",
    "        raise ValueError('The input gene list was not of the expected type!\\n'\n",
    "                         'Gene symbols and ensembl IDs are expected in column names:\\n'\n",
    "                         '\\t`gene_symbols` and `Unnamed: 0`')\n",
    "\n",
    "    # Subset adata object\n",
    "    common_genes = [gene for gene in gene_set['gene_symbols'].values if gene in adata.var_names]\n",
    "    if len(common_genes) == 0:\n",
    "        print(\"WARNING: YOU SHOULD PROBABLY SWITCH YOUR ADATA.VAR INDEX COLUMN TO GENE NAMES\"\n",
    "                  \" RATHER THAN IDS! No genes were recovered.\")\n",
    "        return\n",
    "\n",
    "    adata_sub = adata[:,common_genes].copy()\n",
    "\n",
    "    # Pad object with 0 genes if needed\n",
    "    if len(common_genes) < len(gene_set):\n",
    "        diff = len(gene_set) - len(common_genes)\n",
    "        print(f'not all genes were recovered, filling in 0 counts for {diff} missing genes...')\n",
    "        \n",
    "        # Genes to pad with\n",
    "        genes_to_add = set(gene_set['gene_symbols'].values).difference(set(adata_sub.var_names))\n",
    "        new_var = gene_set.loc[genes_to_add]\n",
    "        \n",
    "        if 'Unnamed: 0' in new_var.columns:\n",
    "            # Assumes the unnamed column are ensembl values\n",
    "            new_var['ensembl'] = new_var['Unnamed: 0']\n",
    "            del new_var['Unnamed: 0']\n",
    "\n",
    "        df_padding = pd.DataFrame(data=np.zeros((adata_sub.shape[0],len(genes_to_add))), index=adata_sub.obs_names, columns=new_var.index)\n",
    "        adata_padding = sc.AnnData(df_padding, var=new_var)\n",
    "        \n",
    "        # Concatenate object\n",
    "        #adata_sub = concat([adata_sub, adata_padding], axis=1, join='outer', index_unique=None, merge='unique')\n",
    "        adata_sub2 = adata_sub.concatenate(adata_padding, batch_key = 'process', batch_categories = ['sub', 'padded'], join = 'outer')\n",
    "\n",
    "    # Ensure ensembl IDs are available\n",
    "    adata_sub2.var['ensembl'] = gene_set['Unnamed: 0']\n",
    "\n",
    "    return adata_sub2"
   ]
  },
  {
   "cell_type": "code",
   "execution_count": 17,
   "metadata": {},
   "outputs": [
    {
     "data": {
      "text/html": [
       "<div>\n",
       "<style scoped>\n",
       "    .dataframe tbody tr th:only-of-type {\n",
       "        vertical-align: middle;\n",
       "    }\n",
       "\n",
       "    .dataframe tbody tr th {\n",
       "        vertical-align: top;\n",
       "    }\n",
       "\n",
       "    .dataframe thead th {\n",
       "        text-align: right;\n",
       "    }\n",
       "</style>\n",
       "<table border=\"1\" class=\"dataframe\">\n",
       "  <thead>\n",
       "    <tr style=\"text-align: right;\">\n",
       "      <th></th>\n",
       "      <th>Unnamed: 0</th>\n",
       "      <th>gene_symbols</th>\n",
       "    </tr>\n",
       "  </thead>\n",
       "  <tbody>\n",
       "    <tr>\n",
       "      <th>0</th>\n",
       "      <td>ENSG00000000938</td>\n",
       "      <td>FGR</td>\n",
       "    </tr>\n",
       "    <tr>\n",
       "      <th>1</th>\n",
       "      <td>ENSG00000000971</td>\n",
       "      <td>CFH</td>\n",
       "    </tr>\n",
       "    <tr>\n",
       "      <th>2</th>\n",
       "      <td>ENSG00000002587</td>\n",
       "      <td>HS3ST1</td>\n",
       "    </tr>\n",
       "    <tr>\n",
       "      <th>3</th>\n",
       "      <td>ENSG00000002933</td>\n",
       "      <td>TMEM176A</td>\n",
       "    </tr>\n",
       "    <tr>\n",
       "      <th>4</th>\n",
       "      <td>ENSG00000003436</td>\n",
       "      <td>TFPI</td>\n",
       "    </tr>\n",
       "  </tbody>\n",
       "</table>\n",
       "</div>"
      ],
      "text/plain": [
       "        Unnamed: 0 gene_symbols\n",
       "0  ENSG00000000938          FGR\n",
       "1  ENSG00000000971          CFH\n",
       "2  ENSG00000002587       HS3ST1\n",
       "3  ENSG00000002933     TMEM176A\n",
       "4  ENSG00000003436         TFPI"
      ]
     },
     "execution_count": 17,
     "metadata": {},
     "output_type": "execute_result"
    }
   ],
   "source": [
    "HVG = pd.read_csv('genes_for_mapping.csv')\n",
    "HVG.head()"
   ]
  },
  {
   "cell_type": "markdown",
   "metadata": {},
   "source": [
    "### Include the cell type information."
   ]
  },
  {
   "cell_type": "code",
   "execution_count": 18,
   "metadata": {},
   "outputs": [],
   "source": [
    "df = pd.read_excel('LAM_scRNAseq_cellmeta.xlsx')"
   ]
  },
  {
   "cell_type": "code",
   "execution_count": 19,
   "metadata": {},
   "outputs": [
    {
     "data": {
      "text/plain": [
       "(12374, 7)"
      ]
     },
     "execution_count": 19,
     "metadata": {},
     "output_type": "execute_result"
    }
   ],
   "source": [
    "df.shape"
   ]
  },
  {
   "cell_type": "code",
   "execution_count": 20,
   "metadata": {},
   "outputs": [
    {
     "data": {
      "text/html": [
       "<div>\n",
       "<style scoped>\n",
       "    .dataframe tbody tr th:only-of-type {\n",
       "        vertical-align: middle;\n",
       "    }\n",
       "\n",
       "    .dataframe tbody tr th {\n",
       "        vertical-align: top;\n",
       "    }\n",
       "\n",
       "    .dataframe thead th {\n",
       "        text-align: right;\n",
       "    }\n",
       "</style>\n",
       "<table border=\"1\" class=\"dataframe\">\n",
       "  <thead>\n",
       "    <tr style=\"text-align: right;\">\n",
       "      <th></th>\n",
       "      <th>subject_ID</th>\n",
       "      <th>protocol</th>\n",
       "      <th>age</th>\n",
       "      <th>sample</th>\n",
       "      <th>genome</th>\n",
       "      <th>dataset</th>\n",
       "      <th>study</th>\n",
       "      <th>original_celltype_ann</th>\n",
       "      <th>condition</th>\n",
       "    </tr>\n",
       "  </thead>\n",
       "  <tbody>\n",
       "    <tr>\n",
       "      <th>AAACCTGAGAAACCAT-1-LAM1</th>\n",
       "      <td>SAMN12574693</td>\n",
       "      <td>scRNA-Seq</td>\n",
       "      <td>72</td>\n",
       "      <td>LAM1</td>\n",
       "      <td>hg19</td>\n",
       "      <td>GSE135851</td>\n",
       "      <td>Guo2020</td>\n",
       "      <td>N/A</td>\n",
       "      <td>disease</td>\n",
       "    </tr>\n",
       "    <tr>\n",
       "      <th>AAACCTGAGAAACCGC-1-LAM1</th>\n",
       "      <td>SAMN12574693</td>\n",
       "      <td>scRNA-Seq</td>\n",
       "      <td>72</td>\n",
       "      <td>LAM1</td>\n",
       "      <td>hg19</td>\n",
       "      <td>GSE135851</td>\n",
       "      <td>Guo2020</td>\n",
       "      <td>N/A</td>\n",
       "      <td>disease</td>\n",
       "    </tr>\n",
       "    <tr>\n",
       "      <th>AAACCTGAGAAACCTA-1-LAM1</th>\n",
       "      <td>SAMN12574693</td>\n",
       "      <td>scRNA-Seq</td>\n",
       "      <td>72</td>\n",
       "      <td>LAM1</td>\n",
       "      <td>hg19</td>\n",
       "      <td>GSE135851</td>\n",
       "      <td>Guo2020</td>\n",
       "      <td>N/A</td>\n",
       "      <td>disease</td>\n",
       "    </tr>\n",
       "    <tr>\n",
       "      <th>AAACCTGAGAAACGAG-1-LAM1</th>\n",
       "      <td>SAMN12574693</td>\n",
       "      <td>scRNA-Seq</td>\n",
       "      <td>72</td>\n",
       "      <td>LAM1</td>\n",
       "      <td>hg19</td>\n",
       "      <td>GSE135851</td>\n",
       "      <td>Guo2020</td>\n",
       "      <td>N/A</td>\n",
       "      <td>disease</td>\n",
       "    </tr>\n",
       "    <tr>\n",
       "      <th>AAACCTGAGAAACGCC-1-LAM1</th>\n",
       "      <td>SAMN12574693</td>\n",
       "      <td>scRNA-Seq</td>\n",
       "      <td>72</td>\n",
       "      <td>LAM1</td>\n",
       "      <td>hg19</td>\n",
       "      <td>GSE135851</td>\n",
       "      <td>Guo2020</td>\n",
       "      <td>N/A</td>\n",
       "      <td>disease</td>\n",
       "    </tr>\n",
       "    <tr>\n",
       "      <th>...</th>\n",
       "      <td>...</td>\n",
       "      <td>...</td>\n",
       "      <td>...</td>\n",
       "      <td>...</td>\n",
       "      <td>...</td>\n",
       "      <td>...</td>\n",
       "      <td>...</td>\n",
       "      <td>...</td>\n",
       "      <td>...</td>\n",
       "    </tr>\n",
       "    <tr>\n",
       "      <th>TTTGTCATCTTTACAC-1-LAM4</th>\n",
       "      <td>SAMN12574698</td>\n",
       "      <td>snRNA-Seq</td>\n",
       "      <td>52</td>\n",
       "      <td>LAM4</td>\n",
       "      <td>hg19</td>\n",
       "      <td>GSE135851</td>\n",
       "      <td>Guo2020</td>\n",
       "      <td>N/A</td>\n",
       "      <td>disease</td>\n",
       "    </tr>\n",
       "    <tr>\n",
       "      <th>TTTGTCATCTTTACGT-1-LAM4</th>\n",
       "      <td>SAMN12574698</td>\n",
       "      <td>snRNA-Seq</td>\n",
       "      <td>52</td>\n",
       "      <td>LAM4</td>\n",
       "      <td>hg19</td>\n",
       "      <td>GSE135851</td>\n",
       "      <td>Guo2020</td>\n",
       "      <td>N/A</td>\n",
       "      <td>disease</td>\n",
       "    </tr>\n",
       "    <tr>\n",
       "      <th>TTTGTCATCTTTAGGG-1-LAM4</th>\n",
       "      <td>SAMN12574698</td>\n",
       "      <td>snRNA-Seq</td>\n",
       "      <td>52</td>\n",
       "      <td>LAM4</td>\n",
       "      <td>hg19</td>\n",
       "      <td>GSE135851</td>\n",
       "      <td>Guo2020</td>\n",
       "      <td>N/A</td>\n",
       "      <td>disease</td>\n",
       "    </tr>\n",
       "    <tr>\n",
       "      <th>TTTGTCATCTTTAGTC-1-LAM4</th>\n",
       "      <td>SAMN12574698</td>\n",
       "      <td>snRNA-Seq</td>\n",
       "      <td>52</td>\n",
       "      <td>LAM4</td>\n",
       "      <td>hg19</td>\n",
       "      <td>GSE135851</td>\n",
       "      <td>Guo2020</td>\n",
       "      <td>N/A</td>\n",
       "      <td>disease</td>\n",
       "    </tr>\n",
       "    <tr>\n",
       "      <th>TTTGTCATCTTTCCTC-1-LAM4</th>\n",
       "      <td>SAMN12574698</td>\n",
       "      <td>snRNA-Seq</td>\n",
       "      <td>52</td>\n",
       "      <td>LAM4</td>\n",
       "      <td>hg19</td>\n",
       "      <td>GSE135851</td>\n",
       "      <td>Guo2020</td>\n",
       "      <td>N/A</td>\n",
       "      <td>disease</td>\n",
       "    </tr>\n",
       "  </tbody>\n",
       "</table>\n",
       "<p>2949120 rows × 9 columns</p>\n",
       "</div>"
      ],
      "text/plain": [
       "                           subject_ID   protocol  age sample genome  \\\n",
       "AAACCTGAGAAACCAT-1-LAM1  SAMN12574693  scRNA-Seq   72   LAM1   hg19   \n",
       "AAACCTGAGAAACCGC-1-LAM1  SAMN12574693  scRNA-Seq   72   LAM1   hg19   \n",
       "AAACCTGAGAAACCTA-1-LAM1  SAMN12574693  scRNA-Seq   72   LAM1   hg19   \n",
       "AAACCTGAGAAACGAG-1-LAM1  SAMN12574693  scRNA-Seq   72   LAM1   hg19   \n",
       "AAACCTGAGAAACGCC-1-LAM1  SAMN12574693  scRNA-Seq   72   LAM1   hg19   \n",
       "...                               ...        ...  ...    ...    ...   \n",
       "TTTGTCATCTTTACAC-1-LAM4  SAMN12574698  snRNA-Seq   52   LAM4   hg19   \n",
       "TTTGTCATCTTTACGT-1-LAM4  SAMN12574698  snRNA-Seq   52   LAM4   hg19   \n",
       "TTTGTCATCTTTAGGG-1-LAM4  SAMN12574698  snRNA-Seq   52   LAM4   hg19   \n",
       "TTTGTCATCTTTAGTC-1-LAM4  SAMN12574698  snRNA-Seq   52   LAM4   hg19   \n",
       "TTTGTCATCTTTCCTC-1-LAM4  SAMN12574698  snRNA-Seq   52   LAM4   hg19   \n",
       "\n",
       "                           dataset    study original_celltype_ann condition  \n",
       "AAACCTGAGAAACCAT-1-LAM1  GSE135851  Guo2020                   N/A   disease  \n",
       "AAACCTGAGAAACCGC-1-LAM1  GSE135851  Guo2020                   N/A   disease  \n",
       "AAACCTGAGAAACCTA-1-LAM1  GSE135851  Guo2020                   N/A   disease  \n",
       "AAACCTGAGAAACGAG-1-LAM1  GSE135851  Guo2020                   N/A   disease  \n",
       "AAACCTGAGAAACGCC-1-LAM1  GSE135851  Guo2020                   N/A   disease  \n",
       "...                            ...      ...                   ...       ...  \n",
       "TTTGTCATCTTTACAC-1-LAM4  GSE135851  Guo2020                   N/A   disease  \n",
       "TTTGTCATCTTTACGT-1-LAM4  GSE135851  Guo2020                   N/A   disease  \n",
       "TTTGTCATCTTTAGGG-1-LAM4  GSE135851  Guo2020                   N/A   disease  \n",
       "TTTGTCATCTTTAGTC-1-LAM4  GSE135851  Guo2020                   N/A   disease  \n",
       "TTTGTCATCTTTCCTC-1-LAM4  GSE135851  Guo2020                   N/A   disease  \n",
       "\n",
       "[2949120 rows x 9 columns]"
      ]
     },
     "execution_count": 20,
     "metadata": {},
     "output_type": "execute_result"
    }
   ],
   "source": [
    "ad.obs"
   ]
  },
  {
   "cell_type": "code",
   "execution_count": 21,
   "metadata": {},
   "outputs": [],
   "source": [
    "df['code'] = df['barcode'] + '-1-' + df['donor']\n",
    "celltype_by_code = df.set_index('code')['celltype'].to_dict()"
   ]
  },
  {
   "cell_type": "code",
   "execution_count": 22,
   "metadata": {},
   "outputs": [
    {
     "data": {
      "text/plain": [
       "N/A    2949120\n",
       "Name: original_celltype_ann, dtype: int64"
      ]
     },
     "execution_count": 22,
     "metadata": {},
     "output_type": "execute_result"
    }
   ],
   "source": [
    "ad.obs.original_celltype_ann.value_counts()"
   ]
  },
  {
   "cell_type": "code",
   "execution_count": 23,
   "metadata": {},
   "outputs": [
    {
     "data": {
      "text/plain": [
       "12374"
      ]
     },
     "execution_count": 23,
     "metadata": {},
     "output_type": "execute_result"
    }
   ],
   "source": [
    "ad.obs.original_celltype_ann = ad.obs.index.map(celltype_by_code)\n",
    "ad.obs.original_celltype_ann.value_counts().sum()"
   ]
  },
  {
   "cell_type": "code",
   "execution_count": 24,
   "metadata": {},
   "outputs": [
    {
     "name": "stderr",
     "output_type": "stream",
     "text": [
      "/home/icb/ignacio.ibarra/miniconda3/envs/mypython3/lib/python3.7/site-packages/pandas/core/arrays/categorical.py:2487: FutureWarning: The `inplace` parameter in pandas.Categorical.remove_unused_categories is deprecated and will be removed in a future version.\n",
      "  res = method(*args, **kwargs)\n"
     ]
    },
    {
     "data": {
      "text/plain": [
       "(12374, 32738)"
      ]
     },
     "execution_count": 24,
     "metadata": {},
     "output_type": "execute_result"
    }
   ],
   "source": [
    "ad = ad[~pd.isnull(ad.obs['original_celltype_ann']),:]\n",
    "ad.shape"
   ]
  },
  {
   "cell_type": "code",
   "execution_count": 25,
   "metadata": {},
   "outputs": [
    {
     "data": {
      "text/plain": [
       "LAM1    6530\n",
       "LAM3    5844\n",
       "Name: sample, dtype: int64"
      ]
     },
     "execution_count": 25,
     "metadata": {},
     "output_type": "execute_result"
    }
   ],
   "source": [
    "ad.obs['sample'].value_counts()"
   ]
  },
  {
   "cell_type": "code",
   "execution_count": 26,
   "metadata": {},
   "outputs": [],
   "source": [
    "for c in ad.var:\n",
    "    del ad.var[c]"
   ]
  },
  {
   "cell_type": "code",
   "execution_count": null,
   "metadata": {},
   "outputs": [],
   "source": [
    "ad.obs['dataset'] = 'Guo2020_LAM1/3'"
   ]
  },
  {
   "cell_type": "code",
   "execution_count": 27,
   "metadata": {},
   "outputs": [
    {
     "name": "stdout",
     "output_type": "stream",
     "text": [
      "not all genes were recovered, filling in 0 counts for 172 missing genes...\n"
     ]
    },
    {
     "data": {
      "text/plain": [
       "((12374, 32738), (12374, 2000))"
      ]
     },
     "execution_count": 27,
     "metadata": {},
     "output_type": "execute_result"
    }
   ],
   "source": [
    "ad_sub = subset_and_pad_adata(ad, HVG)\n",
    "# del(ad.obs['process'])\n",
    "\n",
    "ad_sub = ad_sub[ad_sub.obs.index.str.endswith('-sub'),:]\n",
    "del ad_sub.obs['process']\n",
    "for c in ad_sub.var:\n",
    "    del ad_sub.var[c]\n",
    "\n",
    "ad.shape, ad_sub.shape"
   ]
  },
  {
   "cell_type": "code",
   "execution_count": 44,
   "metadata": {},
   "outputs": [],
   "source": []
  },
  {
   "cell_type": "code",
   "execution_count": 28,
   "metadata": {},
   "outputs": [
    {
     "data": {
      "text/plain": [
       "disease    12374\n",
       "Name: condition, dtype: int64"
      ]
     },
     "execution_count": 28,
     "metadata": {},
     "output_type": "execute_result"
    }
   ],
   "source": [
    "ad.obs.condition.value_counts()"
   ]
  },
  {
   "cell_type": "code",
   "execution_count": 29,
   "metadata": {},
   "outputs": [
    {
     "name": "stderr",
     "output_type": "stream",
     "text": [
      "/home/icb/ignacio.ibarra/miniconda3/envs/mypython3/lib/python3.7/site-packages/anndata/_core/anndata.py:1208: ImplicitModificationWarning: Initializing view as actual.\n",
      "  \"Initializing view as actual.\", ImplicitModificationWarning\n",
      "Trying to set attribute `.obs` of view, copying.\n",
      "... storing 'subject_ID' as categorical\n",
      "Trying to set attribute `.obs` of view, copying.\n",
      "... storing 'protocol' as categorical\n",
      "Trying to set attribute `.obs` of view, copying.\n",
      "... storing 'sample' as categorical\n",
      "Trying to set attribute `.obs` of view, copying.\n",
      "... storing 'genome' as categorical\n",
      "Trying to set attribute `.obs` of view, copying.\n",
      "... storing 'dataset' as categorical\n",
      "Trying to set attribute `.obs` of view, copying.\n",
      "... storing 'study' as categorical\n",
      "Trying to set attribute `.obs` of view, copying.\n",
      "... storing 'original_celltype_ann' as categorical\n",
      "Trying to set attribute `.obs` of view, copying.\n",
      "... storing 'condition' as categorical\n",
      "Trying to set attribute `.var` of view, copying.\n",
      "... storing 'gene_symbols-padded' as categorical\n",
      "Trying to set attribute `.var` of view, copying.\n",
      "... storing 'ensembl-padded' as categorical\n",
      "Trying to set attribute `.var` of view, copying.\n",
      "... storing 'gene_ids-LAM1-sub' as categorical\n",
      "Trying to set attribute `.var` of view, copying.\n",
      "... storing 'gene_ids-LAM2-sub' as categorical\n",
      "Trying to set attribute `.var` of view, copying.\n",
      "... storing 'gene_ids-LAM3-sub' as categorical\n",
      "Trying to set attribute `.var` of view, copying.\n",
      "... storing 'gene_ids-LAM4-sub' as categorical\n"
     ]
    }
   ],
   "source": [
    "ad_sub.write('GSE135851_preprocessed-HVGs.raw.ctl210706.h5ad', compression='lzf')"
   ]
  },
  {
   "cell_type": "code",
   "execution_count": 33,
   "metadata": {},
   "outputs": [
    {
     "data": {
      "text/html": [
       "<div>\n",
       "<style scoped>\n",
       "    .dataframe tbody tr th:only-of-type {\n",
       "        vertical-align: middle;\n",
       "    }\n",
       "\n",
       "    .dataframe tbody tr th {\n",
       "        vertical-align: top;\n",
       "    }\n",
       "\n",
       "    .dataframe thead th {\n",
       "        text-align: right;\n",
       "    }\n",
       "</style>\n",
       "<table border=\"1\" class=\"dataframe\">\n",
       "  <thead>\n",
       "    <tr style=\"text-align: right;\">\n",
       "      <th></th>\n",
       "      <th>subject_ID</th>\n",
       "      <th>protocol</th>\n",
       "      <th>age</th>\n",
       "      <th>sample</th>\n",
       "      <th>genome</th>\n",
       "      <th>dataset</th>\n",
       "      <th>study</th>\n",
       "      <th>original_celltype_ann</th>\n",
       "      <th>condition</th>\n",
       "    </tr>\n",
       "  </thead>\n",
       "  <tbody>\n",
       "    <tr>\n",
       "      <th>AAACCTGAGCTGAAAT-1-LAM1</th>\n",
       "      <td>SAMN12574693</td>\n",
       "      <td>scRNA-Seq</td>\n",
       "      <td>72</td>\n",
       "      <td>LAM1</td>\n",
       "      <td>hg19</td>\n",
       "      <td>GSE135851</td>\n",
       "      <td>Guo2020</td>\n",
       "      <td>AT2</td>\n",
       "      <td>disease</td>\n",
       "    </tr>\n",
       "    <tr>\n",
       "      <th>AAACCTGAGGCTCTTA-1-LAM1</th>\n",
       "      <td>SAMN12574693</td>\n",
       "      <td>scRNA-Seq</td>\n",
       "      <td>72</td>\n",
       "      <td>LAM1</td>\n",
       "      <td>hg19</td>\n",
       "      <td>GSE135851</td>\n",
       "      <td>Guo2020</td>\n",
       "      <td>Macrophage</td>\n",
       "      <td>disease</td>\n",
       "    </tr>\n",
       "    <tr>\n",
       "      <th>AAACCTGAGTCGTACT-1-LAM1</th>\n",
       "      <td>SAMN12574693</td>\n",
       "      <td>scRNA-Seq</td>\n",
       "      <td>72</td>\n",
       "      <td>LAM1</td>\n",
       "      <td>hg19</td>\n",
       "      <td>GSE135851</td>\n",
       "      <td>Guo2020</td>\n",
       "      <td>Macrophage</td>\n",
       "      <td>disease</td>\n",
       "    </tr>\n",
       "    <tr>\n",
       "      <th>AAACCTGCACCCTATC-1-LAM1</th>\n",
       "      <td>SAMN12574693</td>\n",
       "      <td>scRNA-Seq</td>\n",
       "      <td>72</td>\n",
       "      <td>LAM1</td>\n",
       "      <td>hg19</td>\n",
       "      <td>GSE135851</td>\n",
       "      <td>Guo2020</td>\n",
       "      <td>Macrophage</td>\n",
       "      <td>disease</td>\n",
       "    </tr>\n",
       "    <tr>\n",
       "      <th>AAACCTGCAGTTAACC-1-LAM1</th>\n",
       "      <td>SAMN12574693</td>\n",
       "      <td>scRNA-Seq</td>\n",
       "      <td>72</td>\n",
       "      <td>LAM1</td>\n",
       "      <td>hg19</td>\n",
       "      <td>GSE135851</td>\n",
       "      <td>Guo2020</td>\n",
       "      <td>Macrophage</td>\n",
       "      <td>disease</td>\n",
       "    </tr>\n",
       "    <tr>\n",
       "      <th>...</th>\n",
       "      <td>...</td>\n",
       "      <td>...</td>\n",
       "      <td>...</td>\n",
       "      <td>...</td>\n",
       "      <td>...</td>\n",
       "      <td>...</td>\n",
       "      <td>...</td>\n",
       "      <td>...</td>\n",
       "      <td>...</td>\n",
       "    </tr>\n",
       "    <tr>\n",
       "      <th>TTTGTCATCATCTGTT-1-LAM3</th>\n",
       "      <td>SAMN12574699</td>\n",
       "      <td>scRNA-Seq</td>\n",
       "      <td>50</td>\n",
       "      <td>LAM3</td>\n",
       "      <td>hg19</td>\n",
       "      <td>GSE135851</td>\n",
       "      <td>Guo2020</td>\n",
       "      <td>Monocyte</td>\n",
       "      <td>disease</td>\n",
       "    </tr>\n",
       "    <tr>\n",
       "      <th>TTTGTCATCCGCATCT-1-LAM3</th>\n",
       "      <td>SAMN12574699</td>\n",
       "      <td>scRNA-Seq</td>\n",
       "      <td>50</td>\n",
       "      <td>LAM3</td>\n",
       "      <td>hg19</td>\n",
       "      <td>GSE135851</td>\n",
       "      <td>Guo2020</td>\n",
       "      <td>AT2</td>\n",
       "      <td>disease</td>\n",
       "    </tr>\n",
       "    <tr>\n",
       "      <th>TTTGTCATCCTCCTAG-1-LAM3</th>\n",
       "      <td>SAMN12574699</td>\n",
       "      <td>scRNA-Seq</td>\n",
       "      <td>50</td>\n",
       "      <td>LAM3</td>\n",
       "      <td>hg19</td>\n",
       "      <td>GSE135851</td>\n",
       "      <td>Guo2020</td>\n",
       "      <td>NK</td>\n",
       "      <td>disease</td>\n",
       "    </tr>\n",
       "    <tr>\n",
       "      <th>TTTGTCATCGCAAACT-1-LAM3</th>\n",
       "      <td>SAMN12574699</td>\n",
       "      <td>scRNA-Seq</td>\n",
       "      <td>50</td>\n",
       "      <td>LAM3</td>\n",
       "      <td>hg19</td>\n",
       "      <td>GSE135851</td>\n",
       "      <td>Guo2020</td>\n",
       "      <td>Macrophage</td>\n",
       "      <td>disease</td>\n",
       "    </tr>\n",
       "    <tr>\n",
       "      <th>TTTGTCATCTGGCGAC-1-LAM3</th>\n",
       "      <td>SAMN12574699</td>\n",
       "      <td>scRNA-Seq</td>\n",
       "      <td>50</td>\n",
       "      <td>LAM3</td>\n",
       "      <td>hg19</td>\n",
       "      <td>GSE135851</td>\n",
       "      <td>Guo2020</td>\n",
       "      <td>AT2</td>\n",
       "      <td>disease</td>\n",
       "    </tr>\n",
       "  </tbody>\n",
       "</table>\n",
       "<p>12374 rows × 9 columns</p>\n",
       "</div>"
      ],
      "text/plain": [
       "                           subject_ID   protocol  age sample genome  \\\n",
       "AAACCTGAGCTGAAAT-1-LAM1  SAMN12574693  scRNA-Seq   72   LAM1   hg19   \n",
       "AAACCTGAGGCTCTTA-1-LAM1  SAMN12574693  scRNA-Seq   72   LAM1   hg19   \n",
       "AAACCTGAGTCGTACT-1-LAM1  SAMN12574693  scRNA-Seq   72   LAM1   hg19   \n",
       "AAACCTGCACCCTATC-1-LAM1  SAMN12574693  scRNA-Seq   72   LAM1   hg19   \n",
       "AAACCTGCAGTTAACC-1-LAM1  SAMN12574693  scRNA-Seq   72   LAM1   hg19   \n",
       "...                               ...        ...  ...    ...    ...   \n",
       "TTTGTCATCATCTGTT-1-LAM3  SAMN12574699  scRNA-Seq   50   LAM3   hg19   \n",
       "TTTGTCATCCGCATCT-1-LAM3  SAMN12574699  scRNA-Seq   50   LAM3   hg19   \n",
       "TTTGTCATCCTCCTAG-1-LAM3  SAMN12574699  scRNA-Seq   50   LAM3   hg19   \n",
       "TTTGTCATCGCAAACT-1-LAM3  SAMN12574699  scRNA-Seq   50   LAM3   hg19   \n",
       "TTTGTCATCTGGCGAC-1-LAM3  SAMN12574699  scRNA-Seq   50   LAM3   hg19   \n",
       "\n",
       "                           dataset    study original_celltype_ann condition  \n",
       "AAACCTGAGCTGAAAT-1-LAM1  GSE135851  Guo2020                   AT2   disease  \n",
       "AAACCTGAGGCTCTTA-1-LAM1  GSE135851  Guo2020            Macrophage   disease  \n",
       "AAACCTGAGTCGTACT-1-LAM1  GSE135851  Guo2020            Macrophage   disease  \n",
       "AAACCTGCACCCTATC-1-LAM1  GSE135851  Guo2020            Macrophage   disease  \n",
       "AAACCTGCAGTTAACC-1-LAM1  GSE135851  Guo2020            Macrophage   disease  \n",
       "...                            ...      ...                   ...       ...  \n",
       "TTTGTCATCATCTGTT-1-LAM3  GSE135851  Guo2020              Monocyte   disease  \n",
       "TTTGTCATCCGCATCT-1-LAM3  GSE135851  Guo2020                   AT2   disease  \n",
       "TTTGTCATCCTCCTAG-1-LAM3  GSE135851  Guo2020                    NK   disease  \n",
       "TTTGTCATCGCAAACT-1-LAM3  GSE135851  Guo2020            Macrophage   disease  \n",
       "TTTGTCATCTGGCGAC-1-LAM3  GSE135851  Guo2020                   AT2   disease  \n",
       "\n",
       "[12374 rows x 9 columns]"
      ]
     },
     "execution_count": 33,
     "metadata": {},
     "output_type": "execute_result"
    }
   ],
   "source": [
    "ad.obs"
   ]
  },
  {
   "cell_type": "code",
   "execution_count": 30,
   "metadata": {},
   "outputs": [
    {
     "name": "stderr",
     "output_type": "stream",
     "text": [
      "Trying to set attribute `.obs` of view, copying.\n",
      "... storing 'original_celltype_ann' as categorical\n"
     ]
    }
   ],
   "source": [
    "# Clean adata.var\n",
    "full_path = '../../../data/HLCA_extended/extension_datasets/ready/full/guo.h5ad'\n",
    "ad.write(full_path, compression='lzf')\n"
   ]
  },
  {
   "cell_type": "code",
   "execution_count": 31,
   "metadata": {},
   "outputs": [],
   "source": [
    "subsetted_path = '../../../data/HLCA_extended/extension_datasets/ready/subsetted/guo_sub.h5ad'\n",
    "ad_sub.write(subsetted_path, compression='lzf')"
   ]
  },
  {
   "cell_type": "markdown",
   "metadata": {},
   "source": [
    "### Modify access to be checked"
   ]
  },
  {
   "cell_type": "code",
   "execution_count": 32,
   "metadata": {},
   "outputs": [],
   "source": [
    "!chmod 777 $full_path\n",
    "!chmod 777 $subsetted_path"
   ]
  }
 ],
 "metadata": {
  "kernelspec": {
   "display_name": "Python 3",
   "language": "python",
   "name": "python3"
  },
  "language_info": {
   "codemirror_mode": {
    "name": "ipython",
    "version": 3
   },
   "file_extension": ".py",
   "mimetype": "text/x-python",
   "name": "python",
   "nbconvert_exporter": "python",
   "pygments_lexer": "ipython3",
   "version": "3.7.5"
  }
 },
 "nbformat": 4,
 "nbformat_minor": 5
}
