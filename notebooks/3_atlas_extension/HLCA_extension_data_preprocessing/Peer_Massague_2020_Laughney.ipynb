{
 "cells": [
  {
   "cell_type": "markdown",
   "metadata": {},
   "source": [
    "# Data import for Peer_Massague_2020/Laughney dataset:"
   ]
  },
  {
   "cell_type": "code",
   "execution_count": 1,
   "metadata": {},
   "outputs": [],
   "source": [
    "import os\n",
    "os.chdir('./../')"
   ]
  },
  {
   "cell_type": "code",
   "execution_count": 2,
   "metadata": {},
   "outputs": [],
   "source": [
    "import scanpy as sc\n",
    "import anndata as ad\n",
    "import pandas as pd\n",
    "import preprocessing as pp"
   ]
  },
  {
   "cell_type": "code",
   "execution_count": 3,
   "metadata": {},
   "outputs": [
    {
     "name": "stdout",
     "output_type": "stream",
     "text": [
      "2.10.0\n"
     ]
    }
   ],
   "source": [
    "import h5py\n",
    "import hdf5plugin\n",
    "print(h5py.__version__)"
   ]
  },
  {
   "cell_type": "code",
   "execution_count": 4,
   "metadata": {},
   "outputs": [],
   "source": [
    "adata_pd = pd.read_hdf('Laughney/laughney.h5', key='DF_ALL')"
   ]
  },
  {
   "cell_type": "code",
   "execution_count": 5,
   "metadata": {},
   "outputs": [],
   "source": [
    "adata = sc.AnnData(X=adata_pd.values, obs=adata_pd.index.to_frame(), var=adata_pd.columns.to_frame())"
   ]
  },
  {
   "cell_type": "code",
   "execution_count": 6,
   "metadata": {},
   "outputs": [],
   "source": [
    "adata.obs = adata.obs.set_index('Cell ID')"
   ]
  },
  {
   "cell_type": "code",
   "execution_count": 9,
   "metadata": {},
   "outputs": [
    {
     "data": {
      "text/html": [
       "<div>\n",
       "<style scoped>\n",
       "    .dataframe tbody tr th:only-of-type {\n",
       "        vertical-align: middle;\n",
       "    }\n",
       "\n",
       "    .dataframe tbody tr th {\n",
       "        vertical-align: top;\n",
       "    }\n",
       "\n",
       "    .dataframe thead th {\n",
       "        text-align: right;\n",
       "    }\n",
       "</style>\n",
       "<table border=\"1\" class=\"dataframe\">\n",
       "  <thead>\n",
       "    <tr style=\"text-align: right;\">\n",
       "      <th></th>\n",
       "      <th>Legend</th>\n",
       "      <th>CELL_TYPE</th>\n",
       "      <th>Meta-Source</th>\n",
       "      <th>META_CELL_TYPE</th>\n",
       "      <th>PHENOGRAPH_CLASS</th>\n",
       "    </tr>\n",
       "    <tr>\n",
       "      <th>Sample ID</th>\n",
       "      <th></th>\n",
       "      <th></th>\n",
       "      <th></th>\n",
       "      <th></th>\n",
       "      <th></th>\n",
       "    </tr>\n",
       "  </thead>\n",
       "  <tbody>\n",
       "    <tr>\n",
       "      <th>0</th>\n",
       "      <td>RU653_TUMOR_1AS_UTR</td>\n",
       "      <td>Tm</td>\n",
       "      <td>TUMOR</td>\n",
       "      <td>Lymphoid</td>\n",
       "      <td>0_LYMPHOID</td>\n",
       "    </tr>\n",
       "    <tr>\n",
       "      <th>1</th>\n",
       "      <td>RU661_TUMOR_1AS_UTR</td>\n",
       "      <td>Th</td>\n",
       "      <td>TUMOR</td>\n",
       "      <td>Lymphoid</td>\n",
       "      <td>1_LYMPHOID</td>\n",
       "    </tr>\n",
       "    <tr>\n",
       "      <th>10</th>\n",
       "      <td>RU681_BRAINMET_4S_TR</td>\n",
       "      <td>DENDRITIC (ACTIVATED)</td>\n",
       "      <td>MET</td>\n",
       "      <td>Myeloid</td>\n",
       "      <td>32_MYELOID_OTHER</td>\n",
       "    </tr>\n",
       "    <tr>\n",
       "      <th>11</th>\n",
       "      <td>RU682_TUMOR_2AS_UTR</td>\n",
       "      <td>Treg</td>\n",
       "      <td>TUMOR</td>\n",
       "      <td>Lymphoid</td>\n",
       "      <td>11_LYMPHOID</td>\n",
       "    </tr>\n",
       "    <tr>\n",
       "      <th>12</th>\n",
       "      <td>RU682_NORMAL_2AS_UTR</td>\n",
       "      <td>MACROPHAGE</td>\n",
       "      <td>NOR</td>\n",
       "      <td>Myeloid</td>\n",
       "      <td>0_MYELOID_OTHER</td>\n",
       "    </tr>\n",
       "    <tr>\n",
       "      <th>13</th>\n",
       "      <td>RU684_TUMOR_1AS_UTR</td>\n",
       "      <td>Tm</td>\n",
       "      <td>TUMOR</td>\n",
       "      <td>Lymphoid</td>\n",
       "      <td>2_LYMPHOID</td>\n",
       "    </tr>\n",
       "    <tr>\n",
       "      <th>14</th>\n",
       "      <td>RU684_NORMAL_1AS_UTR</td>\n",
       "      <td>Treg</td>\n",
       "      <td>NOR</td>\n",
       "      <td>Lymphoid</td>\n",
       "      <td>11_LYMPHOID</td>\n",
       "    </tr>\n",
       "    <tr>\n",
       "      <th>15</th>\n",
       "      <td>RU685_NORMAL_1ANS_UTR</td>\n",
       "      <td>NKT</td>\n",
       "      <td>NOR</td>\n",
       "      <td>Lymphoid</td>\n",
       "      <td>9_LYMPHOID</td>\n",
       "    </tr>\n",
       "    <tr>\n",
       "      <th>16</th>\n",
       "      <td>RU699_ADRENALMET_4</td>\n",
       "      <td>Treg</td>\n",
       "      <td>MET</td>\n",
       "      <td>Lymphoid</td>\n",
       "      <td>12_LYMPHOID</td>\n",
       "    </tr>\n",
       "    <tr>\n",
       "      <th>17</th>\n",
       "      <td>RU701_BRAINMET_4</td>\n",
       "      <td>Tm</td>\n",
       "      <td>MET</td>\n",
       "      <td>Lymphoid</td>\n",
       "      <td>0_LYMPHOID</td>\n",
       "    </tr>\n",
       "    <tr>\n",
       "      <th>2</th>\n",
       "      <td>RU666_SPINEMET_4NS_TR</td>\n",
       "      <td>PERICYTE</td>\n",
       "      <td>MET</td>\n",
       "      <td>Myeloid</td>\n",
       "      <td>10_MYELOID_OTHER</td>\n",
       "    </tr>\n",
       "    <tr>\n",
       "      <th>3</th>\n",
       "      <td>RU675_NORMAL_1ANS_UTR</td>\n",
       "      <td>NKT</td>\n",
       "      <td>NOR</td>\n",
       "      <td>Lymphoid</td>\n",
       "      <td>9_LYMPHOID</td>\n",
       "    </tr>\n",
       "    <tr>\n",
       "      <th>4</th>\n",
       "      <td>RU675_TUMOR_1ANS_UTR</td>\n",
       "      <td>Th</td>\n",
       "      <td>TUMOR</td>\n",
       "      <td>Lymphoid</td>\n",
       "      <td>4_LYMPHOID</td>\n",
       "    </tr>\n",
       "    <tr>\n",
       "      <th>5</th>\n",
       "      <td>RU676_TUMOR_1AS_UTR</td>\n",
       "      <td>Tm</td>\n",
       "      <td>TUMOR</td>\n",
       "      <td>Lymphoid</td>\n",
       "      <td>2_LYMPHOID</td>\n",
       "    </tr>\n",
       "    <tr>\n",
       "      <th>7</th>\n",
       "      <td>RU255B_BRAINMET_4S_TR</td>\n",
       "      <td>EPITHELIAL</td>\n",
       "      <td>MET</td>\n",
       "      <td>Other</td>\n",
       "      <td>37_MYELOID_OTHER</td>\n",
       "    </tr>\n",
       "    <tr>\n",
       "      <th>8</th>\n",
       "      <td>RU679_TUMOR_2AS_TR</td>\n",
       "      <td>PERICYTE</td>\n",
       "      <td>TUMOR</td>\n",
       "      <td>Myeloid</td>\n",
       "      <td>10_MYELOID_OTHER</td>\n",
       "    </tr>\n",
       "    <tr>\n",
       "      <th>9</th>\n",
       "      <td>RU680_TUMOR_1AS_UTR</td>\n",
       "      <td>MONOCYTE</td>\n",
       "      <td>TUMOR</td>\n",
       "      <td>Myeloid</td>\n",
       "      <td>5_MYELOID_OTHER</td>\n",
       "    </tr>\n",
       "  </tbody>\n",
       "</table>\n",
       "</div>"
      ],
      "text/plain": [
       "                          Legend              CELL_TYPE Meta-Source  \\\n",
       "Sample ID                                                             \n",
       "0            RU653_TUMOR_1AS_UTR                     Tm       TUMOR   \n",
       "1            RU661_TUMOR_1AS_UTR                     Th       TUMOR   \n",
       "10          RU681_BRAINMET_4S_TR  DENDRITIC (ACTIVATED)         MET   \n",
       "11           RU682_TUMOR_2AS_UTR                   Treg       TUMOR   \n",
       "12          RU682_NORMAL_2AS_UTR             MACROPHAGE         NOR   \n",
       "13           RU684_TUMOR_1AS_UTR                     Tm       TUMOR   \n",
       "14          RU684_NORMAL_1AS_UTR                   Treg         NOR   \n",
       "15         RU685_NORMAL_1ANS_UTR                    NKT         NOR   \n",
       "16            RU699_ADRENALMET_4                   Treg         MET   \n",
       "17              RU701_BRAINMET_4                     Tm         MET   \n",
       "2          RU666_SPINEMET_4NS_TR               PERICYTE         MET   \n",
       "3          RU675_NORMAL_1ANS_UTR                    NKT         NOR   \n",
       "4           RU675_TUMOR_1ANS_UTR                     Th       TUMOR   \n",
       "5            RU676_TUMOR_1AS_UTR                     Tm       TUMOR   \n",
       "7          RU255B_BRAINMET_4S_TR             EPITHELIAL         MET   \n",
       "8             RU679_TUMOR_2AS_TR               PERICYTE       TUMOR   \n",
       "9            RU680_TUMOR_1AS_UTR               MONOCYTE       TUMOR   \n",
       "\n",
       "          META_CELL_TYPE  PHENOGRAPH_CLASS  \n",
       "Sample ID                                   \n",
       "0               Lymphoid        0_LYMPHOID  \n",
       "1               Lymphoid        1_LYMPHOID  \n",
       "10               Myeloid  32_MYELOID_OTHER  \n",
       "11              Lymphoid       11_LYMPHOID  \n",
       "12               Myeloid   0_MYELOID_OTHER  \n",
       "13              Lymphoid        2_LYMPHOID  \n",
       "14              Lymphoid       11_LYMPHOID  \n",
       "15              Lymphoid        9_LYMPHOID  \n",
       "16              Lymphoid       12_LYMPHOID  \n",
       "17              Lymphoid        0_LYMPHOID  \n",
       "2                Myeloid  10_MYELOID_OTHER  \n",
       "3               Lymphoid        9_LYMPHOID  \n",
       "4               Lymphoid        4_LYMPHOID  \n",
       "5               Lymphoid        2_LYMPHOID  \n",
       "7                  Other  37_MYELOID_OTHER  \n",
       "8                Myeloid  10_MYELOID_OTHER  \n",
       "9                Myeloid   5_MYELOID_OTHER  "
      ]
     },
     "execution_count": 9,
     "metadata": {},
     "output_type": "execute_result"
    }
   ],
   "source": [
    "adata.obs.groupby('Sample ID').first()"
   ]
  },
  {
   "cell_type": "code",
   "execution_count": 7,
   "metadata": {},
   "outputs": [
    {
     "data": {
      "text/plain": [
       "Meta-Source\n",
       "MET       7655\n",
       "NOR      11055\n",
       "TUMOR    21795\n",
       "dtype: int64"
      ]
     },
     "execution_count": 7,
     "metadata": {},
     "output_type": "execute_result"
    }
   ],
   "source": [
    "adata.obs.groupby('Meta-Source').size()"
   ]
  },
  {
   "cell_type": "code",
   "execution_count": 42,
   "metadata": {},
   "outputs": [],
   "source": [
    "adata.obs['condition'] = adata.obs['Meta-Source']\n",
    "adata.obs['sample'] = adata.obs['Sample ID']\n",
    "adata.obs['subject_ID'] = adata.obs['Legend'].apply(lambda x: x.split('_')[0])\n",
    "adata.obs['original_celltype_ann'] = adata.obs['CELL_TYPE']\n",
    "\n",
    "del (\n",
    "    adata.obs['Sample ID'], \n",
    "    adata.obs['Legend'], \n",
    "    adata.obs['CELL_TYPE'], \n",
    "    adata.obs['Meta-Source'],\n",
    "    adata.obs['META_CELL_TYPE'],\n",
    "    adata.obs['PHENOGRAPH_CLASS']\n",
    ")"
   ]
  },
  {
   "cell_type": "code",
   "execution_count": 43,
   "metadata": {},
   "outputs": [],
   "source": [
    "adata = adata[adata.obs['condition'] != 'MET']"
   ]
  },
  {
   "cell_type": "code",
   "execution_count": 44,
   "metadata": {},
   "outputs": [],
   "source": [
    "del adata.var[0]"
   ]
  },
  {
   "cell_type": "code",
   "execution_count": 45,
   "metadata": {},
   "outputs": [
    {
     "name": "stderr",
     "output_type": "stream",
     "text": [
      "Trying to set attribute `.obs` of view, copying.\n"
     ]
    }
   ],
   "source": [
    "adata.obs['dataset'] = 'PeerMassague2020'\n",
    "adata.obs['study'] = 'PeerMassague2020'"
   ]
  },
  {
   "cell_type": "code",
   "execution_count": 46,
   "metadata": {},
   "outputs": [
    {
     "data": {
      "text/plain": [
       "subject_ID\n",
       "RU653    2381\n",
       "RU661    3669\n",
       "RU675    5121\n",
       "RU676    3439\n",
       "RU679    1323\n",
       "RU680     636\n",
       "RU682    6927\n",
       "RU684    6487\n",
       "RU685    2867\n",
       "dtype: int64"
      ]
     },
     "execution_count": 46,
     "metadata": {},
     "output_type": "execute_result"
    }
   ],
   "source": [
    "adata.obs.groupby('subject_ID').size()"
   ]
  },
  {
   "cell_type": "code",
   "execution_count": 47,
   "metadata": {},
   "outputs": [],
   "source": [
    "import scipy as sp"
   ]
  },
  {
   "cell_type": "code",
   "execution_count": 48,
   "metadata": {},
   "outputs": [],
   "source": [
    "adata.X = sp.sparse.csr_matrix(adata.X)"
   ]
  },
  {
   "cell_type": "code",
   "execution_count": 49,
   "metadata": {},
   "outputs": [
    {
     "name": "stderr",
     "output_type": "stream",
     "text": [
      "... storing 'condition' as categorical\n",
      "... storing 'sample' as categorical\n",
      "... storing 'subject_ID' as categorical\n",
      "... storing 'original_celltype_ann' as categorical\n",
      "... storing 'dataset' as categorical\n",
      "... storing 'study' as categorical\n"
     ]
    }
   ],
   "source": [
    "adata.write('peermassague_full.h5ad')"
   ]
  },
  {
   "cell_type": "code",
   "execution_count": 50,
   "metadata": {},
   "outputs": [],
   "source": [
    "genes_subset = pd.read_csv('genes_for_mapping.csv')"
   ]
  },
  {
   "cell_type": "code",
   "execution_count": 51,
   "metadata": {},
   "outputs": [
    {
     "name": "stdout",
     "output_type": "stream",
     "text": [
      "not all genes were recovered, filling in 0 counts for 101 missing genes...\n"
     ]
    }
   ],
   "source": [
    "adata_sub = pp.subset_and_pad_adata(genes_subset, adata)"
   ]
  },
  {
   "cell_type": "code",
   "execution_count": 52,
   "metadata": {},
   "outputs": [
    {
     "name": "stderr",
     "output_type": "stream",
     "text": [
      "... storing 'gene_symbols' as categorical\n"
     ]
    }
   ],
   "source": [
    "adata_sub.write('peermassague_subset.h5ad')"
   ]
  }
 ],
 "metadata": {
  "kernelspec": {
   "display_name": "Python 3",
   "language": "python",
   "name": "python3"
  },
  "language_info": {
   "codemirror_mode": {
    "name": "ipython",
    "version": 3
   },
   "file_extension": ".py",
   "mimetype": "text/x-python",
   "name": "python",
   "nbconvert_exporter": "python",
   "pygments_lexer": "ipython3",
   "version": "3.7.5"
  }
 },
 "nbformat": 4,
 "nbformat_minor": 5
}
