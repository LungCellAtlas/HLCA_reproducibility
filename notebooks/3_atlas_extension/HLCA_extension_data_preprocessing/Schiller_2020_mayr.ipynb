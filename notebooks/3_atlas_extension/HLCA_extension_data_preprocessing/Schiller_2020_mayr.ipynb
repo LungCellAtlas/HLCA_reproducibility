{
 "cells": [
  {
   "cell_type": "markdown",
   "metadata": {},
   "source": [
    "# Data import for Schiller_2020/Mayr datasets:"
   ]
  },
  {
   "cell_type": "code",
   "execution_count": 1,
   "metadata": {},
   "outputs": [],
   "source": [
    "import scanpy as sc\n",
    "import pandas as pd\n",
    "import numpy as np\n",
    "from anndata import AnnData, concat"
   ]
  },
  {
   "cell_type": "code",
   "execution_count": 2,
   "metadata": {},
   "outputs": [
    {
     "name": "stderr",
     "output_type": "stream",
     "text": [
      "/home/icb/lukas.heumos/miniconda3/envs/single-cell-analysis/lib/python3.8/site-packages/anndata/compat/__init__.py:180: FutureWarning: Moving element from .uns['neighbors']['distances'] to .obsp['distances'].\n",
      "\n",
      "This is where adjacency matrices should go now.\n",
      "  warn(\n",
      "/home/icb/lukas.heumos/miniconda3/envs/single-cell-analysis/lib/python3.8/site-packages/anndata/compat/__init__.py:180: FutureWarning: Moving element from .uns['neighbors']['connectivities'] to .obsp['connectivities'].\n",
      "\n",
      "This is where adjacency matrices should go now.\n",
      "  warn(\n"
     ]
    }
   ],
   "source": [
    "adata = sc.read(\"../../../data/HLCA_extended/extension_datasets/raw/Schiller/munich_cohort_human_dataset.h5ad\")"
   ]
  },
  {
   "cell_type": "code",
   "execution_count": 3,
   "metadata": {},
   "outputs": [
    {
     "data": {
      "text/plain": [
       "AnnData object with n_obs × n_vars = 38648 × 32104\n",
       "    obs: 'patient_id', 'n_counts', 'n_genes', 'percent.mito', 'louvain', 'health_status', 'cell_type', 'cell_state_label', 'tissue_label'\n",
       "    var: 'n_cells', 'highly_variable', 'n_counts'"
      ]
     },
     "execution_count": 3,
     "metadata": {},
     "output_type": "execute_result"
    }
   ],
   "source": [
    "adata_raw = AnnData(X=adata.layers[\"counts\"], obs=adata.obs, var=adata.var)\n",
    "adata_raw"
   ]
  },
  {
   "cell_type": "markdown",
   "metadata": {},
   "source": [
    "# Ensure consistent naming"
   ]
  },
  {
   "cell_type": "code",
   "execution_count": 4,
   "metadata": {
    "tags": []
   },
   "outputs": [],
   "source": [
    "adata_raw.obs.rename(columns={\"patient_id\": \"subject_ID\",\n",
    "                              \"health_status\": \"condition\",\n",
    "                              \"cell_state_label\": \"original_celltype_ann\",\n",
    "                              \"cell_type\": \"low_res_cell_type\"}, inplace=True)"
   ]
  },
  {
   "cell_type": "code",
   "execution_count": 5,
   "metadata": {},
   "outputs": [],
   "source": [
    "adata_raw.obs[\"sample\"] = adata_raw.obs.subject_ID\n",
    "adata_raw.obs[\"study\"] = \"Schiller2020\"\n",
    "adata_raw.obs[\"dataset\"] = adata_raw.obs.study"
   ]
  },
  {
   "cell_type": "markdown",
   "metadata": {
    "tags": []
   },
   "source": [
    "# Remove unnecessary obs columns"
   ]
  },
  {
   "cell_type": "code",
   "execution_count": 6,
   "metadata": {},
   "outputs": [],
   "source": [
    "adata_raw.obs.drop(columns=[\"n_counts\", \"n_genes\", \"percent.mito\", \"louvain\", \"tissue_label\"], inplace=True)\n",
    "adata_raw.var.drop(columns=[\"n_cells\", \"highly_variable\", \"n_counts\"], inplace=True)"
   ]
  },
  {
   "cell_type": "markdown",
   "metadata": {},
   "source": [
    "# Add age & sex & disease"
   ]
  },
  {
   "cell_type": "code",
   "execution_count": 7,
   "metadata": {},
   "outputs": [],
   "source": [
    "def add_age (row):\n",
    "   if row['subject_ID'] == \"muc10380\":\n",
    "      return '73'\n",
    "   if row['subject_ID'] == \"muc10381\":\n",
    "      return '51'\n",
    "   if row['subject_ID'] == \"muc3843\":\n",
    "      return '63'\n",
    "   if row['subject_ID'] == \"muc4658\":\n",
    "      return '59'\n",
    "   if row['subject_ID'] == \"muc4659\":\n",
    "      return '75'\n",
    "   if row['subject_ID'] == \"muc5103\":\n",
    "      return '60'\n",
    "   if row['subject_ID'] == \"muc5104\":\n",
    "      return '76'\n",
    "   if row['subject_ID'] == \"muc5105\":\n",
    "      return '65'\n",
    "   if row['subject_ID'] == \"muc5212\":\n",
    "      return '62'\n",
    "   if row['subject_ID'] == \"muc5213\":\n",
    "      return '23'\n",
    "   if row['subject_ID'] == \"muc5288\":\n",
    "      return '76'\n",
    "   if row['subject_ID'] == \"muc5289\":\n",
    "      return '40'\n",
    "   if row['subject_ID'] == \"muc8257\":\n",
    "      return '40'\n",
    "   if row['subject_ID'] == \"muc8258\":\n",
    "      return '40'\n",
    "   if row['subject_ID'] == \"muc9826\":\n",
    "      return '57'\n",
    "   if row['subject_ID'] == \"muc9832\":\n",
    "      return '81'\n",
    "   if row['subject_ID'] == \"muc9833\":\n",
    "      return '52'\n",
    "   return 'undefined'\n",
    "\n",
    "adata_raw.obs['age'] = adata_raw.obs.apply (lambda row: add_age(row), axis=1)"
   ]
  },
  {
   "cell_type": "code",
   "execution_count": 8,
   "metadata": {},
   "outputs": [],
   "source": [
    "def add_sex (row):\n",
    "   if row['subject_ID'] == \"muc10380\":\n",
    "      return 'M'\n",
    "   if row['subject_ID'] == \"muc10381\":\n",
    "      return 'M'\n",
    "   if row['subject_ID'] == \"muc3843\":\n",
    "      return 'M'\n",
    "   if row['subject_ID'] == \"muc4658\":\n",
    "      return 'M'\n",
    "   if row['subject_ID'] == \"muc4659\":\n",
    "      return 'F'\n",
    "   if row['subject_ID'] == \"muc5103\":\n",
    "      return 'M'\n",
    "   if row['subject_ID'] == \"muc5104\":\n",
    "      return 'M'\n",
    "   if row['subject_ID'] == \"muc5105\":\n",
    "      return 'M'\n",
    "   if row['subject_ID'] == \"muc5212\":\n",
    "      return 'M'\n",
    "   if row['subject_ID'] == \"muc5213\":\n",
    "      return 'F'\n",
    "   if row['subject_ID'] == \"muc5288\":\n",
    "      return 'M'\n",
    "   if row['subject_ID'] == \"muc5289\":\n",
    "      return 'F'\n",
    "   if row['subject_ID'] == \"muc8257\":\n",
    "      return 'F'\n",
    "   if row['subject_ID'] == \"muc8258\":\n",
    "      return 'F'\n",
    "   if row['subject_ID'] == \"muc9826\":\n",
    "      return 'M'\n",
    "   if row['subject_ID'] == \"muc9832\":\n",
    "      return 'F'\n",
    "   if row['subject_ID'] == \"muc9833\":\n",
    "      return 'F'\n",
    "   return 'undefined'\n",
    "\n",
    "adata_raw.obs['sex'] = adata_raw.obs.apply (lambda row: add_sex(row), axis=1)"
   ]
  },
  {
   "cell_type": "code",
   "execution_count": 9,
   "metadata": {},
   "outputs": [],
   "source": [
    "def add_disease (row):\n",
    "   if row['subject_ID'] == \"muc10380\":\n",
    "      return 'Donor'\n",
    "   if row['subject_ID'] == \"muc10381\":\n",
    "      return 'IPF'\n",
    "   if row['subject_ID'] == \"muc3843\":\n",
    "      return 'Donor'\n",
    "   if row['subject_ID'] == \"muc4658\":\n",
    "      return 'Donor'\n",
    "   if row['subject_ID'] == \"muc4659\":\n",
    "      return 'Donor'\n",
    "   if row['subject_ID'] == \"muc5103\":\n",
    "      return 'Donor'\n",
    "   if row['subject_ID'] == \"muc5104\":\n",
    "      return 'Donor'\n",
    "   if row['subject_ID'] == \"muc5105\":\n",
    "      return 'Donor'\n",
    "   if row['subject_ID'] == \"muc5212\":\n",
    "      return 'Donor'\n",
    "   if row['subject_ID'] == \"muc5213\":\n",
    "      return 'Donor'\n",
    "   if row['subject_ID'] == \"muc5288\":\n",
    "      return 'Donor'\n",
    "   if row['subject_ID'] == \"muc5289\":\n",
    "      return 'COPD'\n",
    "   if row['subject_ID'] == \"muc8257\":\n",
    "      return 'EAA'\n",
    "   if row['subject_ID'] == \"muc8258\":\n",
    "      return 'EAA'\n",
    "   if row['subject_ID'] == \"muc9826\":\n",
    "      return 'IPF'\n",
    "   if row['subject_ID'] == \"muc9832\":\n",
    "      return 'Donor'\n",
    "   if row['subject_ID'] == \"muc9833\":\n",
    "      return 'Donor'\n",
    "   return 'undefined'\n",
    "\n",
    "adata_raw.obs['disease'] = adata_raw.obs.apply (lambda row: add_disease(row), axis=1)"
   ]
  },
  {
   "cell_type": "markdown",
   "metadata": {},
   "source": [
    "# Remove duplicated subject"
   ]
  },
  {
   "cell_type": "markdown",
   "metadata": {},
   "source": [
    "MLT211 was harvested twice. Hence, muc8257 and muc8258 match to the same subject.    \n",
    "subject_ID -> 8257 both\n",
    "sample -> 8257_1 8257_2 "
   ]
  },
  {
   "cell_type": "code",
   "execution_count": 10,
   "metadata": {},
   "outputs": [],
   "source": [
    "adata_raw.obs.subject_ID.replace({\"muc8258\": \"muc8257\"}, inplace=True)"
   ]
  },
  {
   "cell_type": "code",
   "execution_count": 11,
   "metadata": {},
   "outputs": [],
   "source": [
    "adata_raw.obs[\"sample\"].replace({\"muc8257\": \"muc8257_1\",\n",
    "                                 \"muc8258\": \"muc8257_2\"}, inplace=True)"
   ]
  },
  {
   "cell_type": "markdown",
   "metadata": {},
   "source": [
    "# Subset to 2000 HVGs"
   ]
  },
  {
   "cell_type": "code",
   "execution_count": 12,
   "metadata": {},
   "outputs": [],
   "source": [
    "def subset_and_pad_adata(adata, gene_set):\n",
    "    \"\"\"\n",
    "    This function uses a gene list provided as a Pandas dataframe with gene symbols and\n",
    "    Ensembl IDs and subsets a larger Anndata object to only the genes in this list. If\n",
    "    Not all genes are found in the AnnData object, then zero-padding is performed.\n",
    "    \"\"\"\n",
    "    # Example inputs:\n",
    "    # genes_filename = '/storage/groups/ml01/workspace/hlca_lisa.sikkema_malte.luecken/genes_for_mapping.csv'\n",
    "    # data_filename = '/storage/groups/ml01/workspace/hlca_lisa.sikkema_malte.luecken/ready/adams.h5ad'\n",
    "    # gene_set = pd.read_csv(genes_filename)\n",
    "    # adata = sc.read(data_filename)\n",
    "\n",
    "    # Prep objects\n",
    "    if 'gene_symbols' in gene_set.columns:\n",
    "        gene_set.index = gene_set['gene_symbols']\n",
    "\n",
    "    else:\n",
    "        raise ValueError('The input gene list was not of the expected type!\\n'\n",
    "                         'Gene symbols and ensembl IDs are expected in column names:\\n'\n",
    "                         '\\t`gene_symbols` and `Unnamed: 0`')\n",
    "\n",
    "    # Subset adata object\n",
    "    common_genes = [gene for gene in gene_set['gene_symbols'].values if gene in adata.var_names]\n",
    "    if len(common_genes) == 0:\n",
    "        print(\"WARNING: YOU SHOULD PROBABLY SWITCH YOUR ADATA.VAR INDEX COLUMN TO GENE NAMES\"\n",
    "                  \" RATHER THAN IDS! No genes were recovered.\")\n",
    "        return\n",
    "\n",
    "    adata_sub = adata[:,common_genes].copy()\n",
    "\n",
    "    # Pad object with 0 genes if needed\n",
    "    if len(common_genes) < len(gene_set):\n",
    "        diff = len(gene_set) - len(common_genes)\n",
    "        print(f'not all genes were recovered, filling in 0 counts for {diff} missing genes...')\n",
    "        \n",
    "        # Genes to pad with\n",
    "        genes_to_add = set(gene_set['gene_symbols'].values).difference(set(adata_sub.var_names))\n",
    "        new_var = gene_set.loc[genes_to_add]\n",
    "        \n",
    "        if 'Unnamed: 0' in new_var.columns:\n",
    "            # Assumes the unnamed column are ensembl values\n",
    "            new_var['ensembl'] = new_var['Unnamed: 0']\n",
    "            del new_var['Unnamed: 0']\n",
    "\n",
    "        df_padding = pd.DataFrame(data=np.zeros((adata_sub.shape[0],len(genes_to_add))), index=adata_sub.obs_names, columns=new_var.index)\n",
    "        adata_padding = sc.AnnData(df_padding, var=new_var)\n",
    "        \n",
    "        # Concatenate object\n",
    "        adata_sub = concat([adata_sub, adata_padding], axis=1, join='outer', index_unique=None, merge='unique')\n",
    "\n",
    "    # Ensure ensembl IDs are available\n",
    "    adata_sub.var['ensembl'] = gene_set['Unnamed: 0']\n",
    "\n",
    "    return adata_sub"
   ]
  },
  {
   "cell_type": "code",
   "execution_count": 13,
   "metadata": {
    "tags": []
   },
   "outputs": [
    {
     "name": "stdout",
     "output_type": "stream",
     "text": [
      "not all genes were recovered, filling in 0 counts for 45 missing genes...\n"
     ]
    }
   ],
   "source": [
    "gene_set = pd.read_csv(\"genes_for_mapping.csv\")\n",
    "adata_raw_subsetted = subset_and_pad_adata(adata_raw, gene_set)"
   ]
  },
  {
   "cell_type": "markdown",
   "metadata": {},
   "source": [
    "# Write out object"
   ]
  },
  {
   "cell_type": "code",
   "execution_count": 14,
   "metadata": {},
   "outputs": [
    {
     "name": "stderr",
     "output_type": "stream",
     "text": [
      "/home/icb/lukas.heumos/miniconda3/envs/single-cell-analysis/lib/python3.8/site-packages/anndata/_core/anndata.py:1220: FutureWarning: The `inplace` parameter in pandas.Categorical.reorder_categories is deprecated and will be removed in a future version. Removing unused categories will always return a new Categorical object.\n",
      "  c.reorder_categories(natsorted(c.categories), inplace=True)\n",
      "... storing 'sample' as categorical\n",
      "/home/icb/lukas.heumos/miniconda3/envs/single-cell-analysis/lib/python3.8/site-packages/anndata/_core/anndata.py:1220: FutureWarning: The `inplace` parameter in pandas.Categorical.reorder_categories is deprecated and will be removed in a future version. Removing unused categories will always return a new Categorical object.\n",
      "  c.reorder_categories(natsorted(c.categories), inplace=True)\n",
      "... storing 'study' as categorical\n",
      "/home/icb/lukas.heumos/miniconda3/envs/single-cell-analysis/lib/python3.8/site-packages/anndata/_core/anndata.py:1220: FutureWarning: The `inplace` parameter in pandas.Categorical.reorder_categories is deprecated and will be removed in a future version. Removing unused categories will always return a new Categorical object.\n",
      "  c.reorder_categories(natsorted(c.categories), inplace=True)\n",
      "... storing 'dataset' as categorical\n",
      "/home/icb/lukas.heumos/miniconda3/envs/single-cell-analysis/lib/python3.8/site-packages/anndata/_core/anndata.py:1220: FutureWarning: The `inplace` parameter in pandas.Categorical.reorder_categories is deprecated and will be removed in a future version. Removing unused categories will always return a new Categorical object.\n",
      "  c.reorder_categories(natsorted(c.categories), inplace=True)\n",
      "... storing 'age' as categorical\n",
      "/home/icb/lukas.heumos/miniconda3/envs/single-cell-analysis/lib/python3.8/site-packages/anndata/_core/anndata.py:1220: FutureWarning: The `inplace` parameter in pandas.Categorical.reorder_categories is deprecated and will be removed in a future version. Removing unused categories will always return a new Categorical object.\n",
      "  c.reorder_categories(natsorted(c.categories), inplace=True)\n",
      "... storing 'sex' as categorical\n",
      "/home/icb/lukas.heumos/miniconda3/envs/single-cell-analysis/lib/python3.8/site-packages/anndata/_core/anndata.py:1220: FutureWarning: The `inplace` parameter in pandas.Categorical.reorder_categories is deprecated and will be removed in a future version. Removing unused categories will always return a new Categorical object.\n",
      "  c.reorder_categories(natsorted(c.categories), inplace=True)\n",
      "... storing 'disease' as categorical\n"
     ]
    }
   ],
   "source": [
    "adata_raw.write(\"../../../data/HLCA_extended/extension_datasets/ready/full/mayr.h5ad\")"
   ]
  },
  {
   "cell_type": "code",
   "execution_count": 15,
   "metadata": {},
   "outputs": [
    {
     "name": "stderr",
     "output_type": "stream",
     "text": [
      "/home/icb/lukas.heumos/miniconda3/envs/single-cell-analysis/lib/python3.8/site-packages/anndata/_core/anndata.py:1220: FutureWarning: The `inplace` parameter in pandas.Categorical.reorder_categories is deprecated and will be removed in a future version. Removing unused categories will always return a new Categorical object.\n",
      "  c.reorder_categories(natsorted(c.categories), inplace=True)\n",
      "... storing 'sample' as categorical\n",
      "/home/icb/lukas.heumos/miniconda3/envs/single-cell-analysis/lib/python3.8/site-packages/anndata/_core/anndata.py:1220: FutureWarning: The `inplace` parameter in pandas.Categorical.reorder_categories is deprecated and will be removed in a future version. Removing unused categories will always return a new Categorical object.\n",
      "  c.reorder_categories(natsorted(c.categories), inplace=True)\n",
      "... storing 'study' as categorical\n",
      "/home/icb/lukas.heumos/miniconda3/envs/single-cell-analysis/lib/python3.8/site-packages/anndata/_core/anndata.py:1220: FutureWarning: The `inplace` parameter in pandas.Categorical.reorder_categories is deprecated and will be removed in a future version. Removing unused categories will always return a new Categorical object.\n",
      "  c.reorder_categories(natsorted(c.categories), inplace=True)\n",
      "... storing 'dataset' as categorical\n",
      "/home/icb/lukas.heumos/miniconda3/envs/single-cell-analysis/lib/python3.8/site-packages/anndata/_core/anndata.py:1220: FutureWarning: The `inplace` parameter in pandas.Categorical.reorder_categories is deprecated and will be removed in a future version. Removing unused categories will always return a new Categorical object.\n",
      "  c.reorder_categories(natsorted(c.categories), inplace=True)\n",
      "... storing 'age' as categorical\n",
      "/home/icb/lukas.heumos/miniconda3/envs/single-cell-analysis/lib/python3.8/site-packages/anndata/_core/anndata.py:1220: FutureWarning: The `inplace` parameter in pandas.Categorical.reorder_categories is deprecated and will be removed in a future version. Removing unused categories will always return a new Categorical object.\n",
      "  c.reorder_categories(natsorted(c.categories), inplace=True)\n",
      "... storing 'sex' as categorical\n",
      "/home/icb/lukas.heumos/miniconda3/envs/single-cell-analysis/lib/python3.8/site-packages/anndata/_core/anndata.py:1220: FutureWarning: The `inplace` parameter in pandas.Categorical.reorder_categories is deprecated and will be removed in a future version. Removing unused categories will always return a new Categorical object.\n",
      "  c.reorder_categories(natsorted(c.categories), inplace=True)\n",
      "... storing 'disease' as categorical\n",
      "/home/icb/lukas.heumos/miniconda3/envs/single-cell-analysis/lib/python3.8/site-packages/anndata/_core/anndata.py:1220: FutureWarning: The `inplace` parameter in pandas.Categorical.reorder_categories is deprecated and will be removed in a future version. Removing unused categories will always return a new Categorical object.\n",
      "  c.reorder_categories(natsorted(c.categories), inplace=True)\n",
      "... storing 'gene_symbols' as categorical\n"
     ]
    }
   ],
   "source": [
    "adata_raw_subsetted.write(\"../../../data/HLCA_extended/extension_datasets/ready/subsetted/mayr_sub.h5ad\")"
   ]
  },
  {
   "cell_type": "code",
   "execution_count": null,
   "metadata": {},
   "outputs": [],
   "source": []
  }
 ],
 "metadata": {
  "kernelspec": {
   "display_name": "Python 3",
   "language": "python",
   "name": "python3"
  },
  "language_info": {
   "codemirror_mode": {
    "name": "ipython",
    "version": 3
   },
   "file_extension": ".py",
   "mimetype": "text/x-python",
   "name": "python",
   "nbconvert_exporter": "python",
   "pygments_lexer": "ipython3",
   "version": "3.7.5"
  }
 },
 "nbformat": 4,
 "nbformat_minor": 5
}
