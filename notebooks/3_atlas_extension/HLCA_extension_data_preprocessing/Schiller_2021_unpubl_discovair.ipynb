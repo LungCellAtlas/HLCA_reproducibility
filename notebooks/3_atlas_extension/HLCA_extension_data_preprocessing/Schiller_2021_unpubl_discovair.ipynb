{
 "cells": [
  {
   "cell_type": "markdown",
   "metadata": {},
   "source": [
    "# Data import for Schiller_2021 (unpublished) data:"
   ]
  },
  {
   "cell_type": "code",
   "execution_count": 1,
   "metadata": {},
   "outputs": [],
   "source": [
    "import scanpy as sc\n",
    "import pandas as pd\n",
    "import numpy as np\n",
    "from anndata import AnnData, concat"
   ]
  },
  {
   "cell_type": "code",
   "execution_count": 2,
   "metadata": {},
   "outputs": [],
   "source": [
    "adata = sc.read(\"../../../data/HLCA_extended/extension_datasets/raw/Schiller_2/210714_ASK_controls_annotated.h5ad\")"
   ]
  },
  {
   "cell_type": "code",
   "execution_count": 3,
   "metadata": {},
   "outputs": [
    {
     "data": {
      "text/plain": [
       "AnnData object with n_obs × n_vars = 35984 × 17533\n",
       "    obs: 'condition', 'name', 'project', 'identifier', 'n_counts', 'n_genes', 'percent_mito', 'QC_group', 'doublet_scores', 'size_factors', 'S_score', 'G2M_score', 'phase', 'louvain', 'leiden_1', 'compartments', 'cell_type_auto', 'cell_type_sub_auto'"
      ]
     },
     "execution_count": 3,
     "metadata": {},
     "output_type": "execute_result"
    }
   ],
   "source": [
    "adata_raw = AnnData(X=adata.layers[\"counts\"], obs=adata.obs, var=adata.var)\n",
    "adata_raw"
   ]
  },
  {
   "cell_type": "markdown",
   "metadata": {},
   "source": [
    "# Ensure consistent naming"
   ]
  },
  {
   "cell_type": "code",
   "execution_count": 4,
   "metadata": {},
   "outputs": [],
   "source": [
    "adata_raw.obs.rename(columns={\"name\": \"subject_ID\",\n",
    "                              \"cell_type_auto\": \"original_celltype_ann\"}, inplace=True)"
   ]
  },
  {
   "cell_type": "code",
   "execution_count": 5,
   "metadata": {},
   "outputs": [],
   "source": [
    "adata_raw.obs[\"sample\"] = adata_raw.obs.identifier\n",
    "adata_raw.obs[\"study\"] = \"Schiller2021\"\n",
    "adata_raw.obs[\"dataset\"] = adata_raw.obs.study"
   ]
  },
  {
   "cell_type": "code",
   "execution_count": 6,
   "metadata": {},
   "outputs": [],
   "source": [
    "adata_raw.obs.condition.replace({\"control\": \"healthy\"}, inplace=True)"
   ]
  },
  {
   "cell_type": "markdown",
   "metadata": {},
   "source": [
    "# Remove unnecessary obs columns"
   ]
  },
  {
   "cell_type": "code",
   "execution_count": 7,
   "metadata": {},
   "outputs": [],
   "source": [
    "adata_raw.obs.drop(columns=[\"identifier\", \"n_counts\", \"n_genes\", \"percent_mito\", \"QC_group\", \"doublet_scores\", \"size_factors\", \"S_score\", \"G2M_score\", \"phase\", \"louvain\", \"leiden_1\", \"compartments\", \"cell_type_sub_auto\"], inplace=True)"
   ]
  },
  {
   "cell_type": "markdown",
   "metadata": {},
   "source": [
    "# Add age & sex & disease"
   ]
  },
  {
   "cell_type": "code",
   "execution_count": 8,
   "metadata": {},
   "outputs": [],
   "source": [
    "def add_age (row):\n",
    "   if row['subject_ID'] == \"ASK591\":\n",
    "      return '21'\n",
    "   if row['subject_ID'] == \"ASK592\":\n",
    "      return '71'\n",
    "   if row['subject_ID'] == \"ASK594\":\n",
    "      return '71'\n",
    "   if row['subject_ID'] == \"ASK595\":\n",
    "      return '62'\n",
    "   if row['subject_ID'] == \"M179opf\":\n",
    "      return '54'\n",
    "   if row['subject_ID'] == \"ASK598\":\n",
    "      return '72'\n",
    "   if row['subject_ID'] == \"ASK599\":\n",
    "      return '75'\n",
    "   if row['subject_ID'] == \"ASK600\":\n",
    "      return '81'\n",
    "   if row['subject_ID'] == \"ASK602\":\n",
    "      return '67'\n",
    "   if row['subject_ID'] == \"ASK603\":\n",
    "      return '60'\n",
    "   if row['subject_ID'] == \"ASK604\":\n",
    "      return '65'\n",
    "   if row['subject_ID'] == \"M870yhk\":\n",
    "      return '63'\n",
    "   if row['subject_ID'] == \"ASK606\":\n",
    "      return '47'\n",
    "   if row['subject_ID'] == \"ASK607\":\n",
    "      return '71'\n",
    "   if row['subject_ID'] == \"M051mrh\":\n",
    "      return '62'\n",
    "   if row['subject_ID'] == \"ASK608\":\n",
    "      return '72'\n",
    "   if row['subject_ID'] == \"ASK610\":\n",
    "      return '70'\n",
    "   if row['subject_ID'] == \"ASK611\":\n",
    "      return '67'\n",
    "   return 'undefined'\n",
    "\n",
    "adata_raw.obs['age'] = adata_raw.obs.apply (lambda row: add_age(row), axis=1)"
   ]
  },
  {
   "cell_type": "code",
   "execution_count": 9,
   "metadata": {},
   "outputs": [],
   "source": [
    "def add_sex (row):\n",
    "   if row['subject_ID'] == \"ASK591\":\n",
    "      return 'female'\n",
    "   if row['subject_ID'] == \"ASK592\":\n",
    "      return 'male'\n",
    "   if row['subject_ID'] == \"ASK594\":\n",
    "      return 'male'\n",
    "   if row['subject_ID'] == \"ASK595\":\n",
    "      return 'female'\n",
    "   if row['subject_ID'] == \"M179opf\":\n",
    "      return 'male'\n",
    "   if row['subject_ID'] == \"ASK598\":\n",
    "      return 'male'\n",
    "   if row['subject_ID'] == \"ASK599\":\n",
    "      return 'female'\n",
    "   if row['subject_ID'] == \"ASK600\":\n",
    "      return 'male'\n",
    "   if row['subject_ID'] == \"ASK602\":\n",
    "      return 'female'\n",
    "   if row['subject_ID'] == \"ASK603\":\n",
    "      return 'female'\n",
    "   if row['subject_ID'] == \"ASK604\":\n",
    "      return 'female'\n",
    "   if row['subject_ID'] == \"M870yhk\":\n",
    "      return 'male'\n",
    "   if row['subject_ID'] == \"ASK606\":\n",
    "      return 'female'\n",
    "   if row['subject_ID'] == \"ASK607\":\n",
    "      return 'female'\n",
    "   if row['subject_ID'] == \"M051mrh\":\n",
    "      return 'male'\n",
    "   if row['subject_ID'] == \"ASK608\":\n",
    "      return 'female'\n",
    "   if row['subject_ID'] == \"ASK610\":\n",
    "      return 'female'\n",
    "   if row['subject_ID'] == \"ASK611\":\n",
    "      return 'female'\n",
    "   return 'undefined'\n",
    "\n",
    "adata_raw.obs['sex'] = adata_raw.obs.apply (lambda row: add_sex(row), axis=1)"
   ]
  },
  {
   "cell_type": "code",
   "execution_count": 10,
   "metadata": {},
   "outputs": [
    {
     "data": {
      "text/plain": [
       "'\\ndef add_disease (row):\\n   if row[\\'subject_ID\\'] == \"muc10380\":\\n      return \\'Donor\\'\\n   if row[\\'subject_ID\\'] == \"muc10381\":\\n      return \\'IPF\\'\\n   if row[\\'subject_ID\\'] == \"muc3843\":\\n      return \\'Donor\\'\\n   if row[\\'subject_ID\\'] == \"muc4658\":\\n      return \\'Donor\\'\\n   if row[\\'subject_ID\\'] == \"muc4659\":\\n      return \\'Donor\\'\\n   if row[\\'subject_ID\\'] == \"muc5103\":\\n      return \\'Donor\\'\\n   if row[\\'subject_ID\\'] == \"muc5104\":\\n      return \\'Donor\\'\\n   if row[\\'subject_ID\\'] == \"muc5105\":\\n      return \\'Donor\\'\\n   if row[\\'subject_ID\\'] == \"muc5212\":\\n      return \\'Donor\\'\\n   if row[\\'subject_ID\\'] == \"muc5213\":\\n      return \\'Donor\\'\\n   if row[\\'subject_ID\\'] == \"muc5288\":\\n      return \\'Donor\\'\\n   if row[\\'subject_ID\\'] == \"muc5289\":\\n      return \\'COPD\\'\\n   if row[\\'subject_ID\\'] == \"muc8257\":\\n      return \\'EAA\\'\\n   if row[\\'subject_ID\\'] == \"muc8258\":\\n      return \\'EAA\\'\\n   if row[\\'subject_ID\\'] == \"muc9826\":\\n      return \\'IPF\\'\\n   if row[\\'subject_ID\\'] == \"muc9832\":\\n      return \\'Donor\\'\\n   if row[\\'subject_ID\\'] == \"muc9833\":\\n      return \\'Donor\\'\\n   return \\'undefined\\'\\n\\nadata_raw.obs[\\'disease\\'] = adata_raw.obs.apply (lambda row: add_disease(row), axis=1)\\n'"
      ]
     },
     "execution_count": 10,
     "metadata": {},
     "output_type": "execute_result"
    }
   ],
   "source": [
    "\"\"\"\n",
    "def add_disease (row):\n",
    "   if row['subject_ID'] == \"muc10380\":\n",
    "      return 'Donor'\n",
    "   if row['subject_ID'] == \"muc10381\":\n",
    "      return 'IPF'\n",
    "   if row['subject_ID'] == \"muc3843\":\n",
    "      return 'Donor'\n",
    "   if row['subject_ID'] == \"muc4658\":\n",
    "      return 'Donor'\n",
    "   if row['subject_ID'] == \"muc4659\":\n",
    "      return 'Donor'\n",
    "   if row['subject_ID'] == \"muc5103\":\n",
    "      return 'Donor'\n",
    "   if row['subject_ID'] == \"muc5104\":\n",
    "      return 'Donor'\n",
    "   if row['subject_ID'] == \"muc5105\":\n",
    "      return 'Donor'\n",
    "   if row['subject_ID'] == \"muc5212\":\n",
    "      return 'Donor'\n",
    "   if row['subject_ID'] == \"muc5213\":\n",
    "      return 'Donor'\n",
    "   if row['subject_ID'] == \"muc5288\":\n",
    "      return 'Donor'\n",
    "   if row['subject_ID'] == \"muc5289\":\n",
    "      return 'COPD'\n",
    "   if row['subject_ID'] == \"muc8257\":\n",
    "      return 'EAA'\n",
    "   if row['subject_ID'] == \"muc8258\":\n",
    "      return 'EAA'\n",
    "   if row['subject_ID'] == \"muc9826\":\n",
    "      return 'IPF'\n",
    "   if row['subject_ID'] == \"muc9832\":\n",
    "      return 'Donor'\n",
    "   if row['subject_ID'] == \"muc9833\":\n",
    "      return 'Donor'\n",
    "   return 'undefined'\n",
    "\n",
    "adata_raw.obs['disease'] = adata_raw.obs.apply (lambda row: add_disease(row), axis=1)\n",
    "\"\"\""
   ]
  },
  {
   "cell_type": "markdown",
   "metadata": {
    "tags": []
   },
   "source": [
    "# Rename cell types"
   ]
  },
  {
   "cell_type": "code",
   "execution_count": 11,
   "metadata": {},
   "outputs": [],
   "source": [
    "adata_raw.obs.original_celltype_ann.replace({\"CD4 Na\": \"Natural CD4 T-cells\",\n",
    "                                             \"CD8 M/E\": \"Memory/Effector CD8 T-cells\",\n",
    "                                             \"CD8 Na\": \"Natural CD8 T-cells\",\n",
    "                                             \"Mono class\": \"Classical Monocytes\",\n",
    "                                             \"DC IGSF21\": \"Dendritic cells\",\n",
    "                                             \"MKI67+ cells\": \"Proliferating cells\",\n",
    "                                             \"Neu\": \"Neutrophils\"}, inplace=True)"
   ]
  },
  {
   "cell_type": "code",
   "execution_count": 12,
   "metadata": {},
   "outputs": [],
   "source": [
    "adata_raw.obs.original_celltype_ann = adata_raw.obs.original_celltype_ann.astype(\"category\")"
   ]
  },
  {
   "cell_type": "markdown",
   "metadata": {},
   "source": [
    "# Rename ASK IDs to anonymous IDs"
   ]
  },
  {
   "cell_type": "code",
   "execution_count": 13,
   "metadata": {},
   "outputs": [],
   "source": [
    "adata_raw.obs.subject_ID.replace({\"ASK591\": \"Patient 1\",\n",
    "                                  \"ASK592\": \"Patient 2\",\n",
    "                                  \"ASK595\": \"Patient 3\",\n",
    "                                  \"ASK598\": \"Patient 4\",\n",
    "                                  \"ASK600\": \"Patient 5\",\n",
    "                                  \"ASK602\": \"Patient 6\",\n",
    "                                  \"ASK604\": \"Patient 7\"}, inplace=True)"
   ]
  },
  {
   "cell_type": "markdown",
   "metadata": {},
   "source": [
    "# Subset to 2000 HVGs"
   ]
  },
  {
   "cell_type": "code",
   "execution_count": 14,
   "metadata": {},
   "outputs": [],
   "source": [
    "def subset_and_pad_adata(adata, gene_set):\n",
    "    \"\"\"\n",
    "    This function uses a gene list provided as a Pandas dataframe with gene symbols and\n",
    "    Ensembl IDs and subsets a larger Anndata object to only the genes in this list. If\n",
    "    Not all genes are found in the AnnData object, then zero-padding is performed.\n",
    "    \"\"\"\n",
    "    # Example inputs:\n",
    "    # genes_filename = '/storage/groups/ml01/workspace/hlca_lisa.sikkema_malte.luecken/genes_for_mapping.csv'\n",
    "    # data_filename = '/storage/groups/ml01/workspace/hlca_lisa.sikkema_malte.luecken/ready/adams.h5ad'\n",
    "    # gene_set = pd.read_csv(genes_filename)\n",
    "    # adata = sc.read(data_filename)\n",
    "\n",
    "    # Prep objects\n",
    "    if 'gene_symbols' in gene_set.columns:\n",
    "        gene_set.index = gene_set['gene_symbols']\n",
    "\n",
    "    else:\n",
    "        raise ValueError('The input gene list was not of the expected type!\\n'\n",
    "                         'Gene symbols and ensembl IDs are expected in column names:\\n'\n",
    "                         '\\t`gene_symbols` and `Unnamed: 0`')\n",
    "\n",
    "    # Subset adata object\n",
    "    common_genes = [gene for gene in gene_set['gene_symbols'].values if gene in adata.var_names]\n",
    "    if len(common_genes) == 0:\n",
    "        print(\"WARNING: YOU SHOULD PROBABLY SWITCH YOUR ADATA.VAR INDEX COLUMN TO GENE NAMES\"\n",
    "                  \" RATHER THAN IDS! No genes were recovered.\")\n",
    "        return\n",
    "\n",
    "    adata_sub = adata[:,common_genes].copy()\n",
    "\n",
    "    # Pad object with 0 genes if needed\n",
    "    if len(common_genes) < len(gene_set):\n",
    "        diff = len(gene_set) - len(common_genes)\n",
    "        print(f'not all genes were recovered, filling in 0 counts for {diff} missing genes...')\n",
    "        \n",
    "        # Genes to pad with\n",
    "        genes_to_add = set(gene_set['gene_symbols'].values).difference(set(adata_sub.var_names))\n",
    "        new_var = gene_set.loc[genes_to_add]\n",
    "        \n",
    "        if 'Unnamed: 0' in new_var.columns:\n",
    "            # Assumes the unnamed column are ensembl values\n",
    "            new_var['ensembl'] = new_var['Unnamed: 0']\n",
    "            del new_var['Unnamed: 0']\n",
    "\n",
    "        df_padding = pd.DataFrame(data=np.zeros((adata_sub.shape[0],len(genes_to_add))), index=adata_sub.obs_names, columns=new_var.index)\n",
    "        adata_padding = sc.AnnData(df_padding, var=new_var)\n",
    "        \n",
    "        # Concatenate object\n",
    "        adata_sub = concat([adata_sub, adata_padding], axis=1, join='outer', index_unique=None, merge='unique')\n",
    "\n",
    "    # Ensure ensembl IDs are available\n",
    "    adata_sub.var['ensembl'] = gene_set['Unnamed: 0']\n",
    "\n",
    "    return adata_sub"
   ]
  },
  {
   "cell_type": "code",
   "execution_count": 15,
   "metadata": {},
   "outputs": [
    {
     "name": "stdout",
     "output_type": "stream",
     "text": [
      "not all genes were recovered, filling in 0 counts for 183 missing genes...\n"
     ]
    }
   ],
   "source": [
    "gene_set = pd.read_csv(\"genes_for_mapping.csv\")\n",
    "adata_raw_subsetted = subset_and_pad_adata(adata_raw, gene_set)"
   ]
  },
  {
   "cell_type": "markdown",
   "metadata": {},
   "source": [
    "# Write out object"
   ]
  },
  {
   "cell_type": "code",
   "execution_count": 16,
   "metadata": {},
   "outputs": [
    {
     "name": "stderr",
     "output_type": "stream",
     "text": [
      "/home/icb/lukas.heumos/miniconda3/envs/single-cell-analysis/lib/python3.8/site-packages/anndata/_core/anndata.py:1220: FutureWarning: The `inplace` parameter in pandas.Categorical.reorder_categories is deprecated and will be removed in a future version. Removing unused categories will always return a new Categorical object.\n",
      "  c.reorder_categories(natsorted(c.categories), inplace=True)\n",
      "... storing 'subject_ID' as categorical\n",
      "/home/icb/lukas.heumos/miniconda3/envs/single-cell-analysis/lib/python3.8/site-packages/anndata/_core/anndata.py:1220: FutureWarning: The `inplace` parameter in pandas.Categorical.reorder_categories is deprecated and will be removed in a future version. Removing unused categories will always return a new Categorical object.\n",
      "  c.reorder_categories(natsorted(c.categories), inplace=True)\n",
      "... storing 'study' as categorical\n",
      "/home/icb/lukas.heumos/miniconda3/envs/single-cell-analysis/lib/python3.8/site-packages/anndata/_core/anndata.py:1220: FutureWarning: The `inplace` parameter in pandas.Categorical.reorder_categories is deprecated and will be removed in a future version. Removing unused categories will always return a new Categorical object.\n",
      "  c.reorder_categories(natsorted(c.categories), inplace=True)\n",
      "... storing 'dataset' as categorical\n",
      "/home/icb/lukas.heumos/miniconda3/envs/single-cell-analysis/lib/python3.8/site-packages/anndata/_core/anndata.py:1220: FutureWarning: The `inplace` parameter in pandas.Categorical.reorder_categories is deprecated and will be removed in a future version. Removing unused categories will always return a new Categorical object.\n",
      "  c.reorder_categories(natsorted(c.categories), inplace=True)\n",
      "... storing 'age' as categorical\n",
      "/home/icb/lukas.heumos/miniconda3/envs/single-cell-analysis/lib/python3.8/site-packages/anndata/_core/anndata.py:1220: FutureWarning: The `inplace` parameter in pandas.Categorical.reorder_categories is deprecated and will be removed in a future version. Removing unused categories will always return a new Categorical object.\n",
      "  c.reorder_categories(natsorted(c.categories), inplace=True)\n",
      "... storing 'sex' as categorical\n"
     ]
    }
   ],
   "source": [
    "adata_raw.write(\"../../../data/HLCA_extended/extension_datasets/ready/full/schiller_discovair.h5ad\")"
   ]
  },
  {
   "cell_type": "code",
   "execution_count": 17,
   "metadata": {},
   "outputs": [
    {
     "name": "stderr",
     "output_type": "stream",
     "text": [
      "/home/icb/lukas.heumos/miniconda3/envs/single-cell-analysis/lib/python3.8/site-packages/anndata/_core/anndata.py:1220: FutureWarning: The `inplace` parameter in pandas.Categorical.reorder_categories is deprecated and will be removed in a future version. Removing unused categories will always return a new Categorical object.\n",
      "  c.reorder_categories(natsorted(c.categories), inplace=True)\n",
      "... storing 'subject_ID' as categorical\n",
      "/home/icb/lukas.heumos/miniconda3/envs/single-cell-analysis/lib/python3.8/site-packages/anndata/_core/anndata.py:1220: FutureWarning: The `inplace` parameter in pandas.Categorical.reorder_categories is deprecated and will be removed in a future version. Removing unused categories will always return a new Categorical object.\n",
      "  c.reorder_categories(natsorted(c.categories), inplace=True)\n",
      "... storing 'study' as categorical\n",
      "/home/icb/lukas.heumos/miniconda3/envs/single-cell-analysis/lib/python3.8/site-packages/anndata/_core/anndata.py:1220: FutureWarning: The `inplace` parameter in pandas.Categorical.reorder_categories is deprecated and will be removed in a future version. Removing unused categories will always return a new Categorical object.\n",
      "  c.reorder_categories(natsorted(c.categories), inplace=True)\n",
      "... storing 'dataset' as categorical\n",
      "/home/icb/lukas.heumos/miniconda3/envs/single-cell-analysis/lib/python3.8/site-packages/anndata/_core/anndata.py:1220: FutureWarning: The `inplace` parameter in pandas.Categorical.reorder_categories is deprecated and will be removed in a future version. Removing unused categories will always return a new Categorical object.\n",
      "  c.reorder_categories(natsorted(c.categories), inplace=True)\n",
      "... storing 'age' as categorical\n",
      "/home/icb/lukas.heumos/miniconda3/envs/single-cell-analysis/lib/python3.8/site-packages/anndata/_core/anndata.py:1220: FutureWarning: The `inplace` parameter in pandas.Categorical.reorder_categories is deprecated and will be removed in a future version. Removing unused categories will always return a new Categorical object.\n",
      "  c.reorder_categories(natsorted(c.categories), inplace=True)\n",
      "... storing 'sex' as categorical\n",
      "/home/icb/lukas.heumos/miniconda3/envs/single-cell-analysis/lib/python3.8/site-packages/anndata/_core/anndata.py:1220: FutureWarning: The `inplace` parameter in pandas.Categorical.reorder_categories is deprecated and will be removed in a future version. Removing unused categories will always return a new Categorical object.\n",
      "  c.reorder_categories(natsorted(c.categories), inplace=True)\n",
      "... storing 'gene_symbols' as categorical\n"
     ]
    }
   ],
   "source": [
    "adata_raw_subsetted.write(\"../../../data/HLCA_extended/extension_datasets/ready/subsetted/schiller_discovair_sub.h5ad\")"
   ]
  },
  {
   "cell_type": "code",
   "execution_count": 18,
   "metadata": {},
   "outputs": [],
   "source": [
    "test = sc.read(\"../../../data/HLCA_extended/extension_datasetsready/subsetted/schiller_discovair_sub.h5ad\")"
   ]
  },
  {
   "cell_type": "code",
   "execution_count": null,
   "metadata": {},
   "outputs": [],
   "source": []
  }
 ],
 "metadata": {
  "kernelspec": {
   "display_name": "Python 3",
   "language": "python",
   "name": "python3"
  },
  "language_info": {
   "codemirror_mode": {
    "name": "ipython",
    "version": 3
   },
   "file_extension": ".py",
   "mimetype": "text/x-python",
   "name": "python",
   "nbconvert_exporter": "python",
   "pygments_lexer": "ipython3",
   "version": "3.7.5"
  }
 },
 "nbformat": 4,
 "nbformat_minor": 5
}
