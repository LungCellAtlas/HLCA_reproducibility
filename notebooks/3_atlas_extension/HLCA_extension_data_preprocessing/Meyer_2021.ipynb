{
 "cells": [
  {
   "cell_type": "markdown",
   "metadata": {},
   "source": [
    "# Data import for Meyer_2021 dataset:"
   ]
  },
  {
   "cell_type": "code",
   "execution_count": 1,
   "metadata": {},
   "outputs": [],
   "source": [
    "import scanpy as sc\n",
    "import sys\n",
    "import pandas as pd\n",
    "sys.path.append(\"../../../scripts/\")\n",
    "import LCA_file_reading \n",
    "import reference_based_harmonizing\n",
    "import preprocessing"
   ]
  },
  {
   "cell_type": "code",
   "execution_count": 2,
   "metadata": {},
   "outputs": [],
   "source": [
    "data_dir = \"..\" # set to storage dir of LCA core datasets\n",
    "project_dir = f\"{data_dir}Meyer_2021/\""
   ]
  },
  {
   "cell_type": "code",
   "execution_count": 3,
   "metadata": {},
   "outputs": [
    {
     "name": "stderr",
     "output_type": "stream",
     "text": [
      "/home/icb/lisa.sikkema/miniconda3/envs/scRNAseq_analysis/lib/python3.7/site-packages/IPython/core/interactiveshell.py:3249: DtypeWarning: Columns (7,10,11,12,14,15,16,22,23,28,30) have mixed types.Specify dtype option on import or set low_memory=False.\n",
      "  if (await self.run_code(code, result,  async_=asy)):\n"
     ]
    },
    {
     "name": "stdout",
     "output_type": "stream",
     "text": [
      "cells from samples found in metadata: 129340\n",
      "of those, n cells found in anndata (count matrices): 128628\n",
      "Note that some cells can be lost here due to different filtering settings during re-alignment.\n"
     ]
    }
   ],
   "source": [
    "adata = LCA_file_reading.read_file_Meyer_2021(project_dir)"
   ]
  },
  {
   "cell_type": "code",
   "execution_count": 4,
   "metadata": {},
   "outputs": [
    {
     "data": {
      "text/plain": [
       "AnnData object with n_obs × n_vars = 128628 × 33694\n",
       "    obs: 'sample', 'original_celltype_ann', 'study_long', 'study', 'last_author_PI'\n",
       "    var: 'gene_symbols'"
      ]
     },
     "execution_count": 4,
     "metadata": {},
     "output_type": "execute_result"
    }
   ],
   "source": [
    "adata"
   ]
  },
  {
   "cell_type": "markdown",
   "metadata": {},
   "source": [
    "add cell type reference annotations:"
   ]
  },
  {
   "cell_type": "code",
   "execution_count": 5,
   "metadata": {},
   "outputs": [],
   "source": [
    "harmonizing_df = reference_based_harmonizing.load_harmonizing_table(\n",
    "    \"../../../supporting_files/metadata_harmonization/HLCA_cell_type_reference_mapping_20211103.csv\"\n",
    ")\n",
    "consensus_df = reference_based_harmonizing.create_consensus_table(harmonizing_df)\n",
    "celltype_translation_df = (\n",
    "    reference_based_harmonizing.create_orig_ann_to_consensus_translation_df(\n",
    "        adata, consensus_df, harmonizing_df, verbose=False\n",
    "    )\n",
    ")\n",
    "adata = reference_based_harmonizing.consensus_annotate_anndata(\n",
    "    adata, celltype_translation_df, verbose=True\n",
    ")\n",
    "# remove cells that are annotated as \"Unicorns and artifacts\"\n",
    "adata = adata[adata.obs.ann_level_1 != 'Unicorns and artifacts',:].copy()\n",
    "# add \"clean\" annotation without forward-propagated labels \n",
    "adata = reference_based_harmonizing.add_clean_annotation(adata)"
   ]
  },
  {
   "cell_type": "code",
   "execution_count": 6,
   "metadata": {},
   "outputs": [
    {
     "data": {
      "text/plain": [
       "(128628, 33694)"
      ]
     },
     "execution_count": 6,
     "metadata": {},
     "output_type": "execute_result"
    }
   ],
   "source": [
    "adata.shape"
   ]
  },
  {
   "cell_type": "markdown",
   "metadata": {},
   "source": [
    "add sample metadata:"
   ]
  },
  {
   "cell_type": "code",
   "execution_count": 8,
   "metadata": {},
   "outputs": [
    {
     "name": "stdout",
     "output_type": "stream",
     "text": [
      "LCA_metadata_Banovich_Kropski.csv\n",
      "LCA_metadata_Seibold.csv\n",
      "LCA_metadata_Krasnow.csv\n",
      "LCA_metadata_Meyer.csv\n",
      "LCA_metadata_Barbry.csv\n",
      "LCA_metadata_Lafyatis.csv\n",
      "LCA_metadata_Nawijn.csv\n",
      "LCA_metadata_Misharin.csv\n",
      "number of rows without rowname/sample name (will be removed): 14\n",
      "Sample IDs unique? False\n",
      "Number of samples without donor ID: 0\n"
     ]
    }
   ],
   "source": [
    "metadata = preprocessing.get_sample_annotation_table_LCA(\"../\")"
   ]
  },
  {
   "cell_type": "code",
   "execution_count": 9,
   "metadata": {},
   "outputs": [
    {
     "name": "stdout",
     "output_type": "stream",
     "text": [
      "Number of samples equal to number of rows in metadata? True\n"
     ]
    }
   ],
   "source": [
    "# subset to sample from this dataset:\n",
    "metadata = metadata[metadata.library_ID.isin(adata.obs['sample'].unique())]\n",
    "# check if each sample has a row:\n",
    "print(\"Number of samples equal to number of rows in metadata?\", metadata.shape[0] == len(adata.obs['sample'].unique()))\n",
    "# remove columns not of interest:\n",
    "metadata_columns_to_drop = [\n",
    "    \"IF_AVAILABLE/_APPLICABLE_-->\",\n",
    "    \"Institute\",\n",
    "    \"Study_PI\",\n",
    "    \"publication_ID\",\n",
    "    \"repository_ID\",\n",
    "    \"library-construction_batch\",\n",
    "    \"year_of_sample_collection\",\n",
    "    \"relative_sample_collection_timepoint\",\n",
    "    \"treatment_status\",\n",
    "    \"number_of_cells_loaded\",\n",
    "]\n",
    "metadata.drop(columns=metadata_columns_to_drop, inplace=True)"
   ]
  },
  {
   "cell_type": "code",
   "execution_count": 10,
   "metadata": {},
   "outputs": [
    {
     "name": "stdout",
     "output_type": "stream",
     "text": [
      "No lung conditions for these subjects.\n"
     ]
    }
   ],
   "source": [
    "# check if there are any samples that have a known lung disease but no condition listed\n",
    "for row in metadata.loc[metadata.known_lung_disease == \"yes\", :].index:\n",
    "    matching_condition = metadata.loc[row, \"condition\"]\n",
    "    if pd.isnull(matching_condition) or matching_condition == \"nan\":\n",
    "        print(row, metadata.loc[row, \"condition\"])\n",
    "# check which lung conditions are in the data:\n",
    "lung_conditions = [x for x in (set(metadata.condition)) if not pd.isnull(x)]\n",
    "if len(lung_conditions) == 0:\n",
    "    print(\"No lung conditions for these subjects.\")"
   ]
  },
  {
   "cell_type": "code",
   "execution_count": 11,
   "metadata": {},
   "outputs": [],
   "source": [
    "# set adata.obs['sample'] to library_ID, since that is what they are:\n",
    "adata.obs['library_ID'] = adata.obs['sample']\n",
    "# now map sample names:\n",
    "library_ID_to_sample_dict = dict(zip(metadata.library_ID, metadata.index))\n",
    "adata.obs['sample'] = adata.obs.library_ID.map(library_ID_to_sample_dict)\n",
    "for cat in metadata.columns:\n",
    "    sample_to_cat_dict = dict(zip(metadata.library_ID, metadata[cat]))\n",
    "    adata.obs[cat] = adata.obs.library_ID.map(sample_to_cat_dict)\n",
    "# and drop library ID\n",
    "adata.obs.drop(columns='library_ID',inplace=True)"
   ]
  },
  {
   "cell_type": "markdown",
   "metadata": {},
   "source": [
    "split data into two datasets, 5' and 3' data:"
   ]
  },
  {
   "cell_type": "code",
   "execution_count": 12,
   "metadata": {},
   "outputs": [],
   "source": [
    "adata.obs['dataset'] = [f\"{study}_{prime[0]}prime\" for study, prime in zip(adata.obs.study,adata.obs[\"3'_or_5'\"])]"
   ]
  },
  {
   "cell_type": "markdown",
   "metadata": {},
   "source": [
    "store result:"
   ]
  },
  {
   "cell_type": "code",
   "execution_count": 14,
   "metadata": {},
   "outputs": [
    {
     "name": "stderr",
     "output_type": "stream",
     "text": [
      "... storing 'original_celltype_ann' as categorical\n",
      "... storing 'study_long' as categorical\n",
      "... storing 'study' as categorical\n",
      "... storing 'last_author_PI' as categorical\n",
      "... storing 'ann_level_1' as categorical\n",
      "... storing 'ann_level_2' as categorical\n",
      "... storing 'ann_level_3' as categorical\n",
      "... storing 'ann_level_4' as categorical\n",
      "... storing 'ann_level_5' as categorical\n",
      "... storing 'ann_level_1_clean' as categorical\n",
      "... storing 'ann_level_2_clean' as categorical\n",
      "... storing 'ann_level_3_clean' as categorical\n",
      "... storing 'ann_level_4_clean' as categorical\n",
      "... storing 'ann_level_5_clean' as categorical\n",
      "... storing 'subject_ID' as categorical\n",
      "... storing 'subject_ID_as_published' as categorical\n",
      "... storing 'pre_or_postnatal' as categorical\n",
      "... storing 'sex' as categorical\n",
      "... storing 'ethnicity' as categorical\n",
      "... storing 'smoking_status' as categorical\n",
      "... storing 'smoking_history' as categorical\n",
      "... storing 'known_lung_disease' as categorical\n",
      "... storing 'subject_type' as categorical\n",
      "... storing 'cause_of_death' as categorical\n",
      "... storing 'sample_type' as categorical\n",
      "... storing 'anatomical_region_coarse' as categorical\n",
      "... storing 'anatomical_region_detailed' as categorical\n",
      "... storing 'tissue_dissociation_protocol' as categorical\n",
      "... storing 'cells_or_nuclei' as categorical\n",
      "... storing 'single_cell_platform' as categorical\n",
      "... storing \"3'_or_5'\" as categorical\n",
      "... storing 'enrichment' as categorical\n",
      "... storing 'sequencing_platform' as categorical\n",
      "... storing 'reference_genome_coarse' as categorical\n",
      "... storing 'cell_ranger_version' as categorical\n",
      "... storing 'disease_status' as categorical\n",
      "... storing 'fresh_or_frozen' as categorical\n",
      "... storing 'cultured' as categorical\n",
      "... storing 'comments' as categorical\n",
      "... storing 'dataset' as categorical\n",
      "... storing 'gene_symbols' as categorical\n"
     ]
    }
   ],
   "source": [
    "adata.write(\"../LCA_h5ads/Meyer_2021_raw.h5ad\")"
   ]
  },
  {
   "cell_type": "markdown",
   "metadata": {},
   "source": [
    "#### subset to 2000 hvgs used for integration with HLCA:"
   ]
  },
  {
   "cell_type": "code",
   "execution_count": 19,
   "metadata": {},
   "outputs": [],
   "source": [
    "genes_to_keep = pd.read_csv(\"../query_datasets/genes_for_mapping.csv\",index_col=0)"
   ]
  },
  {
   "cell_type": "markdown",
   "metadata": {},
   "source": [
    "subset based on ensembl ids "
   ]
  },
  {
   "cell_type": "code",
   "execution_count": 34,
   "metadata": {},
   "outputs": [],
   "source": [
    "adata_subset = adata[:,genes_to_keep.index].copy()"
   ]
  },
  {
   "cell_type": "markdown",
   "metadata": {},
   "source": [
    "store ensembl ids in an adata.var column:"
   ]
  },
  {
   "cell_type": "code",
   "execution_count": 35,
   "metadata": {},
   "outputs": [],
   "source": [
    "adata_subset.var['gene_ids'] = adata_subset.var.index.tolist()"
   ]
  },
  {
   "cell_type": "markdown",
   "metadata": {},
   "source": [
    "check if gene symbols also match with genes to keep (all 2000 should match):"
   ]
  },
  {
   "cell_type": "code",
   "execution_count": 36,
   "metadata": {},
   "outputs": [
    {
     "data": {
      "text/plain": [
       "2000"
      ]
     },
     "execution_count": 36,
     "metadata": {},
     "output_type": "execute_result"
    }
   ],
   "source": [
    "adata_subset.var.gene_symbols.isin(genes_to_keep.gene_symbols).sum()"
   ]
  },
  {
   "cell_type": "markdown",
   "metadata": {},
   "source": [
    "set index to gene symbols:"
   ]
  },
  {
   "cell_type": "code",
   "execution_count": 37,
   "metadata": {},
   "outputs": [],
   "source": [
    "adata_subset.var.index = adata_subset.var.gene_symbols"
   ]
  },
  {
   "cell_type": "code",
   "execution_count": 42,
   "metadata": {},
   "outputs": [],
   "source": [
    "adata_subset.var.index.name = None"
   ]
  },
  {
   "cell_type": "code",
   "execution_count": 43,
   "metadata": {},
   "outputs": [],
   "source": [
    "adata_subset.var.drop(columns=[\"gene_symbols\"], inplace=True)"
   ]
  },
  {
   "cell_type": "code",
   "execution_count": 44,
   "metadata": {},
   "outputs": [
    {
     "data": {
      "text/html": [
       "<div>\n",
       "<style scoped>\n",
       "    .dataframe tbody tr th:only-of-type {\n",
       "        vertical-align: middle;\n",
       "    }\n",
       "\n",
       "    .dataframe tbody tr th {\n",
       "        vertical-align: top;\n",
       "    }\n",
       "\n",
       "    .dataframe thead th {\n",
       "        text-align: right;\n",
       "    }\n",
       "</style>\n",
       "<table border=\"1\" class=\"dataframe\">\n",
       "  <thead>\n",
       "    <tr style=\"text-align: right;\">\n",
       "      <th></th>\n",
       "      <th>gene_ids</th>\n",
       "    </tr>\n",
       "  </thead>\n",
       "  <tbody>\n",
       "    <tr>\n",
       "      <th>FGR</th>\n",
       "      <td>ENSG00000000938</td>\n",
       "    </tr>\n",
       "    <tr>\n",
       "      <th>CFH</th>\n",
       "      <td>ENSG00000000971</td>\n",
       "    </tr>\n",
       "    <tr>\n",
       "      <th>HS3ST1</th>\n",
       "      <td>ENSG00000002587</td>\n",
       "    </tr>\n",
       "    <tr>\n",
       "      <th>TMEM176A</th>\n",
       "      <td>ENSG00000002933</td>\n",
       "    </tr>\n",
       "    <tr>\n",
       "      <th>TFPI</th>\n",
       "      <td>ENSG00000003436</td>\n",
       "    </tr>\n",
       "  </tbody>\n",
       "</table>\n",
       "</div>"
      ],
      "text/plain": [
       "                 gene_ids\n",
       "FGR       ENSG00000000938\n",
       "CFH       ENSG00000000971\n",
       "HS3ST1    ENSG00000002587\n",
       "TMEM176A  ENSG00000002933\n",
       "TFPI      ENSG00000003436"
      ]
     },
     "execution_count": 44,
     "metadata": {},
     "output_type": "execute_result"
    }
   ],
   "source": [
    "adata_subset.var.head()"
   ]
  },
  {
   "cell_type": "markdown",
   "metadata": {},
   "source": [
    "Store:"
   ]
  },
  {
   "cell_type": "code",
   "execution_count": 48,
   "metadata": {},
   "outputs": [],
   "source": [
    "adata_subset.write(\"../../../data/HLCA_extended/extension_datasets/ready/subsetted/meyer_sub.h5ad\")"
   ]
  },
  {
   "cell_type": "code",
   "execution_count": null,
   "metadata": {},
   "outputs": [],
   "source": []
  },
  {
   "cell_type": "code",
   "execution_count": null,
   "metadata": {},
   "outputs": [],
   "source": []
  }
 ],
 "metadata": {
  "kernelspec": {
   "display_name": "Python 3",
   "language": "python",
   "name": "python3"
  },
  "language_info": {
   "codemirror_mode": {
    "name": "ipython",
    "version": 3
   },
   "file_extension": ".py",
   "mimetype": "text/x-python",
   "name": "python",
   "nbconvert_exporter": "python",
   "pygments_lexer": "ipython3",
   "version": "3.7.5"
  }
 },
 "nbformat": 4,
 "nbformat_minor": 4
}
