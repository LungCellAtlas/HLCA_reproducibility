{
 "cells": [
  {
   "cell_type": "markdown",
   "metadata": {},
   "source": [
    "### Notebook to preprocess the data from Janssen_2020/Mould dataset"
   ]
  },
  {
   "cell_type": "markdown",
   "metadata": {},
   "source": [
    "### Import required modules"
   ]
  },
  {
   "cell_type": "code",
   "execution_count": 1,
   "metadata": {},
   "outputs": [],
   "source": [
    "import anndata\n",
    "import scipy as sp\n",
    "import numpy as np\n",
    "import pandas as pd\n",
    "import scanpy as sc"
   ]
  },
  {
   "cell_type": "markdown",
   "metadata": {},
   "source": [
    "- Set up working environment"
   ]
  },
  {
   "cell_type": "code",
   "execution_count": 2,
   "metadata": {
    "tags": []
   },
   "outputs": [
    {
     "name": "stderr",
     "output_type": "stream",
     "text": [
      "WARNING: If you miss a compact list, please try `print_header`!\n"
     ]
    },
    {
     "name": "stdout",
     "output_type": "stream",
     "text": [
      "-----\n",
      "anndata     0.7.4\n",
      "scanpy      1.7.2\n",
      "sinfo       0.3.1\n",
      "-----\n",
      "PIL                 8.0.0\n",
      "anndata             0.7.4\n",
      "backcall            0.1.0\n",
      "cloudpickle         1.2.2\n",
      "cycler              0.10.0\n",
      "cython_runtime      NA\n",
      "dask                2.9.1\n",
      "dateutil            2.8.1\n",
      "decorator           4.4.1\n",
      "get_version         2.1+py3.7.egg\n",
      "google              NA\n",
      "h5py                2.10.0\n",
      "igraph              0.8.3\n",
      "ipykernel           5.1.3\n",
      "ipython_genutils    0.2.0\n",
      "ipywidgets          7.5.1\n",
      "jedi                0.15.1\n",
      "joblib              0.14.0\n",
      "kiwisolver          1.1.0\n",
      "legacy_api_wrap     1.2+py3.7.egg\n",
      "leidenalg           0.8.3\n",
      "llvmlite            0.36.0\n",
      "louvain             0.6.1\n",
      "matplotlib          3.3.2\n",
      "more_itertools      NA\n",
      "mpl_toolkits        NA\n",
      "natsort             6.2.0\n",
      "numba               0.53.1\n",
      "numexpr             2.7.0\n",
      "numpy               1.17.4\n",
      "packaging           20.4\n",
      "pandas              1.0.5\n",
      "parso               0.5.1\n",
      "pexpect             4.7.0\n",
      "pickleshare         0.7.5\n",
      "pkg_resources       NA\n",
      "prompt_toolkit      2.0.10\n",
      "psutil              5.6.7\n",
      "ptyprocess          0.6.0\n",
      "pygments            2.4.2\n",
      "pyparsing           2.4.5\n",
      "pytz                2019.3\n",
      "scanpy              1.7.2\n",
      "scipy               1.5.4\n",
      "setuptools_scm      NA\n",
      "sinfo               0.3.1\n",
      "six                 1.13.0\n",
      "sklearn             0.24.1\n",
      "storemagic          NA\n",
      "tables              3.6.1\n",
      "texttable           1.6.3\n",
      "toolz               0.10.0\n",
      "tornado             6.0.3\n",
      "traitlets           4.3.3\n",
      "typing_extensions   NA\n",
      "wcwidth             NA\n",
      "zipp                NA\n",
      "zmq                 18.1.0\n",
      "-----\n",
      "IPython             7.9.0\n",
      "jupyter_client      6.1.7\n",
      "jupyter_core        4.6.1\n",
      "jupyterlab          1.2.3\n",
      "notebook            6.0.2\n",
      "-----\n",
      "Python 3.7.5 (default, Oct 25 2019, 15:51:11) [GCC 7.3.0]\n",
      "Linux-3.10.0-1062.el7.x86_64-x86_64-with-centos-7.9.2009-Core\n",
      "48 logical CPU cores, x86_64\n",
      "-----\n",
      "Session information updated at 2021-08-16 12:22\n",
      "\n"
     ]
    }
   ],
   "source": [
    "sc.settings.verbosity = 3\n",
    "sc.logging.print_versions()\n",
    "sc.settings.set_figure_params(dpi = 200, color_map = 'RdPu', dpi_save = 180, vector_friendly = True, format = 'svg')"
   ]
  },
  {
   "cell_type": "markdown",
   "metadata": {},
   "source": [
    "### Add annotations from author's website. \n",
    "\n",
    "- Malte found the annotations [here](https://cells.ucsc.edu/?ds=healthy-bal&meta=cell_type)."
   ]
  },
  {
   "cell_type": "code",
   "execution_count": 3,
   "metadata": {},
   "outputs": [
    {
     "ename": "FileNotFoundError",
     "evalue": "[Errno 2] File /Users/ctl/Downloads/mould_meta.tsv does not exist: '/Users/ctl/Downloads/mould_meta.tsv'",
     "output_type": "error",
     "traceback": [
      "\u001b[0;31m---------------------------------------------------------------------------\u001b[0m",
      "\u001b[0;31mFileNotFoundError\u001b[0m                         Traceback (most recent call last)",
      "\u001b[0;32m<ipython-input-3-cc6ad68a57a6>\u001b[0m in \u001b[0;36m<module>\u001b[0;34m\u001b[0m\n\u001b[0;32m----> 1\u001b[0;31m \u001b[0mmetadata\u001b[0m \u001b[0;34m=\u001b[0m \u001b[0mpd\u001b[0m\u001b[0;34m.\u001b[0m\u001b[0mread_csv\u001b[0m\u001b[0;34m(\u001b[0m\u001b[0;34m'/Users/ctl/Downloads/mould_meta.tsv'\u001b[0m\u001b[0;34m,\u001b[0m \u001b[0msep\u001b[0m \u001b[0;34m=\u001b[0m \u001b[0;34m'\\t'\u001b[0m\u001b[0;34m,\u001b[0m \u001b[0mindex_col\u001b[0m \u001b[0;34m=\u001b[0m \u001b[0;36m0\u001b[0m\u001b[0;34m)\u001b[0m\u001b[0;34m\u001b[0m\u001b[0;34m\u001b[0m\u001b[0m\n\u001b[0m\u001b[1;32m      2\u001b[0m \u001b[0mmetadata\u001b[0m\u001b[0;34m.\u001b[0m\u001b[0mhead\u001b[0m\u001b[0;34m(\u001b[0m\u001b[0;34m)\u001b[0m\u001b[0;34m\u001b[0m\u001b[0;34m\u001b[0m\u001b[0m\n",
      "\u001b[0;32m~/miniconda3/envs/scRNAseq_analysis/lib/python3.7/site-packages/pandas/io/parsers.py\u001b[0m in \u001b[0;36mparser_f\u001b[0;34m(filepath_or_buffer, sep, delimiter, header, names, index_col, usecols, squeeze, prefix, mangle_dupe_cols, dtype, engine, converters, true_values, false_values, skipinitialspace, skiprows, skipfooter, nrows, na_values, keep_default_na, na_filter, verbose, skip_blank_lines, parse_dates, infer_datetime_format, keep_date_col, date_parser, dayfirst, cache_dates, iterator, chunksize, compression, thousands, decimal, lineterminator, quotechar, quoting, doublequote, escapechar, comment, encoding, dialect, error_bad_lines, warn_bad_lines, delim_whitespace, low_memory, memory_map, float_precision)\u001b[0m\n\u001b[1;32m    674\u001b[0m         )\n\u001b[1;32m    675\u001b[0m \u001b[0;34m\u001b[0m\u001b[0m\n\u001b[0;32m--> 676\u001b[0;31m         \u001b[0;32mreturn\u001b[0m \u001b[0m_read\u001b[0m\u001b[0;34m(\u001b[0m\u001b[0mfilepath_or_buffer\u001b[0m\u001b[0;34m,\u001b[0m \u001b[0mkwds\u001b[0m\u001b[0;34m)\u001b[0m\u001b[0;34m\u001b[0m\u001b[0;34m\u001b[0m\u001b[0m\n\u001b[0m\u001b[1;32m    677\u001b[0m \u001b[0;34m\u001b[0m\u001b[0m\n\u001b[1;32m    678\u001b[0m     \u001b[0mparser_f\u001b[0m\u001b[0;34m.\u001b[0m\u001b[0m__name__\u001b[0m \u001b[0;34m=\u001b[0m \u001b[0mname\u001b[0m\u001b[0;34m\u001b[0m\u001b[0;34m\u001b[0m\u001b[0m\n",
      "\u001b[0;32m~/miniconda3/envs/scRNAseq_analysis/lib/python3.7/site-packages/pandas/io/parsers.py\u001b[0m in \u001b[0;36m_read\u001b[0;34m(filepath_or_buffer, kwds)\u001b[0m\n\u001b[1;32m    446\u001b[0m \u001b[0;34m\u001b[0m\u001b[0m\n\u001b[1;32m    447\u001b[0m     \u001b[0;31m# Create the parser.\u001b[0m\u001b[0;34m\u001b[0m\u001b[0;34m\u001b[0m\u001b[0;34m\u001b[0m\u001b[0m\n\u001b[0;32m--> 448\u001b[0;31m     \u001b[0mparser\u001b[0m \u001b[0;34m=\u001b[0m \u001b[0mTextFileReader\u001b[0m\u001b[0;34m(\u001b[0m\u001b[0mfp_or_buf\u001b[0m\u001b[0;34m,\u001b[0m \u001b[0;34m**\u001b[0m\u001b[0mkwds\u001b[0m\u001b[0;34m)\u001b[0m\u001b[0;34m\u001b[0m\u001b[0;34m\u001b[0m\u001b[0m\n\u001b[0m\u001b[1;32m    449\u001b[0m \u001b[0;34m\u001b[0m\u001b[0m\n\u001b[1;32m    450\u001b[0m     \u001b[0;32mif\u001b[0m \u001b[0mchunksize\u001b[0m \u001b[0;32mor\u001b[0m \u001b[0miterator\u001b[0m\u001b[0;34m:\u001b[0m\u001b[0;34m\u001b[0m\u001b[0;34m\u001b[0m\u001b[0m\n",
      "\u001b[0;32m~/miniconda3/envs/scRNAseq_analysis/lib/python3.7/site-packages/pandas/io/parsers.py\u001b[0m in \u001b[0;36m__init__\u001b[0;34m(self, f, engine, **kwds)\u001b[0m\n\u001b[1;32m    878\u001b[0m             \u001b[0mself\u001b[0m\u001b[0;34m.\u001b[0m\u001b[0moptions\u001b[0m\u001b[0;34m[\u001b[0m\u001b[0;34m\"has_index_names\"\u001b[0m\u001b[0;34m]\u001b[0m \u001b[0;34m=\u001b[0m \u001b[0mkwds\u001b[0m\u001b[0;34m[\u001b[0m\u001b[0;34m\"has_index_names\"\u001b[0m\u001b[0;34m]\u001b[0m\u001b[0;34m\u001b[0m\u001b[0;34m\u001b[0m\u001b[0m\n\u001b[1;32m    879\u001b[0m \u001b[0;34m\u001b[0m\u001b[0m\n\u001b[0;32m--> 880\u001b[0;31m         \u001b[0mself\u001b[0m\u001b[0;34m.\u001b[0m\u001b[0m_make_engine\u001b[0m\u001b[0;34m(\u001b[0m\u001b[0mself\u001b[0m\u001b[0;34m.\u001b[0m\u001b[0mengine\u001b[0m\u001b[0;34m)\u001b[0m\u001b[0;34m\u001b[0m\u001b[0;34m\u001b[0m\u001b[0m\n\u001b[0m\u001b[1;32m    881\u001b[0m \u001b[0;34m\u001b[0m\u001b[0m\n\u001b[1;32m    882\u001b[0m     \u001b[0;32mdef\u001b[0m \u001b[0mclose\u001b[0m\u001b[0;34m(\u001b[0m\u001b[0mself\u001b[0m\u001b[0;34m)\u001b[0m\u001b[0;34m:\u001b[0m\u001b[0;34m\u001b[0m\u001b[0;34m\u001b[0m\u001b[0m\n",
      "\u001b[0;32m~/miniconda3/envs/scRNAseq_analysis/lib/python3.7/site-packages/pandas/io/parsers.py\u001b[0m in \u001b[0;36m_make_engine\u001b[0;34m(self, engine)\u001b[0m\n\u001b[1;32m   1112\u001b[0m     \u001b[0;32mdef\u001b[0m \u001b[0m_make_engine\u001b[0m\u001b[0;34m(\u001b[0m\u001b[0mself\u001b[0m\u001b[0;34m,\u001b[0m \u001b[0mengine\u001b[0m\u001b[0;34m=\u001b[0m\u001b[0;34m\"c\"\u001b[0m\u001b[0;34m)\u001b[0m\u001b[0;34m:\u001b[0m\u001b[0;34m\u001b[0m\u001b[0;34m\u001b[0m\u001b[0m\n\u001b[1;32m   1113\u001b[0m         \u001b[0;32mif\u001b[0m \u001b[0mengine\u001b[0m \u001b[0;34m==\u001b[0m \u001b[0;34m\"c\"\u001b[0m\u001b[0;34m:\u001b[0m\u001b[0;34m\u001b[0m\u001b[0;34m\u001b[0m\u001b[0m\n\u001b[0;32m-> 1114\u001b[0;31m             \u001b[0mself\u001b[0m\u001b[0;34m.\u001b[0m\u001b[0m_engine\u001b[0m \u001b[0;34m=\u001b[0m \u001b[0mCParserWrapper\u001b[0m\u001b[0;34m(\u001b[0m\u001b[0mself\u001b[0m\u001b[0;34m.\u001b[0m\u001b[0mf\u001b[0m\u001b[0;34m,\u001b[0m \u001b[0;34m**\u001b[0m\u001b[0mself\u001b[0m\u001b[0;34m.\u001b[0m\u001b[0moptions\u001b[0m\u001b[0;34m)\u001b[0m\u001b[0;34m\u001b[0m\u001b[0;34m\u001b[0m\u001b[0m\n\u001b[0m\u001b[1;32m   1115\u001b[0m         \u001b[0;32melse\u001b[0m\u001b[0;34m:\u001b[0m\u001b[0;34m\u001b[0m\u001b[0;34m\u001b[0m\u001b[0m\n\u001b[1;32m   1116\u001b[0m             \u001b[0;32mif\u001b[0m \u001b[0mengine\u001b[0m \u001b[0;34m==\u001b[0m \u001b[0;34m\"python\"\u001b[0m\u001b[0;34m:\u001b[0m\u001b[0;34m\u001b[0m\u001b[0;34m\u001b[0m\u001b[0m\n",
      "\u001b[0;32m~/miniconda3/envs/scRNAseq_analysis/lib/python3.7/site-packages/pandas/io/parsers.py\u001b[0m in \u001b[0;36m__init__\u001b[0;34m(self, src, **kwds)\u001b[0m\n\u001b[1;32m   1889\u001b[0m         \u001b[0mkwds\u001b[0m\u001b[0;34m[\u001b[0m\u001b[0;34m\"usecols\"\u001b[0m\u001b[0;34m]\u001b[0m \u001b[0;34m=\u001b[0m \u001b[0mself\u001b[0m\u001b[0;34m.\u001b[0m\u001b[0musecols\u001b[0m\u001b[0;34m\u001b[0m\u001b[0;34m\u001b[0m\u001b[0m\n\u001b[1;32m   1890\u001b[0m \u001b[0;34m\u001b[0m\u001b[0m\n\u001b[0;32m-> 1891\u001b[0;31m         \u001b[0mself\u001b[0m\u001b[0;34m.\u001b[0m\u001b[0m_reader\u001b[0m \u001b[0;34m=\u001b[0m \u001b[0mparsers\u001b[0m\u001b[0;34m.\u001b[0m\u001b[0mTextReader\u001b[0m\u001b[0;34m(\u001b[0m\u001b[0msrc\u001b[0m\u001b[0;34m,\u001b[0m \u001b[0;34m**\u001b[0m\u001b[0mkwds\u001b[0m\u001b[0;34m)\u001b[0m\u001b[0;34m\u001b[0m\u001b[0;34m\u001b[0m\u001b[0m\n\u001b[0m\u001b[1;32m   1892\u001b[0m         \u001b[0mself\u001b[0m\u001b[0;34m.\u001b[0m\u001b[0munnamed_cols\u001b[0m \u001b[0;34m=\u001b[0m \u001b[0mself\u001b[0m\u001b[0;34m.\u001b[0m\u001b[0m_reader\u001b[0m\u001b[0;34m.\u001b[0m\u001b[0munnamed_cols\u001b[0m\u001b[0;34m\u001b[0m\u001b[0;34m\u001b[0m\u001b[0m\n\u001b[1;32m   1893\u001b[0m \u001b[0;34m\u001b[0m\u001b[0m\n",
      "\u001b[0;32mpandas/_libs/parsers.pyx\u001b[0m in \u001b[0;36mpandas._libs.parsers.TextReader.__cinit__\u001b[0;34m()\u001b[0m\n",
      "\u001b[0;32mpandas/_libs/parsers.pyx\u001b[0m in \u001b[0;36mpandas._libs.parsers.TextReader._setup_parser_source\u001b[0;34m()\u001b[0m\n",
      "\u001b[0;31mFileNotFoundError\u001b[0m: [Errno 2] File /Users/ctl/Downloads/mould_meta.tsv does not exist: '/Users/ctl/Downloads/mould_meta.tsv'"
     ]
    }
   ],
   "source": [
    "metadata = pd.read_csv('/Users/ctl/Downloads/mould_meta.tsv', sep = '\\t', index_col = 0)\n",
    "metadata.head()"
   ]
  },
  {
   "cell_type": "markdown",
   "metadata": {},
   "source": [
    "### Read in dataset"
   ]
  },
  {
   "cell_type": "code",
   "execution_count": null,
   "metadata": {
    "tags": []
   },
   "outputs": [],
   "source": [
    "adata_1 = sc.read_csv('./GSE151928_RAW/GSM4593888_sample_1_UMI_counts.csv.gz').T\n",
    "adata_1.obs_names = [str(i).replace('.','_') for i in adata_1.obs_names]\n",
    "meta_1 = metadata.loc[metadata['orig.ident'] == 'sample_1']\n",
    "adata_1 = adata_1[meta_1.index]\n",
    "adata_1.obs = meta_1.copy()\n",
    "adata_1.obs['subject_ID'] = 'SAMN15153963'\n",
    "adata_1"
   ]
  },
  {
   "cell_type": "code",
   "execution_count": null,
   "metadata": {
    "tags": []
   },
   "outputs": [],
   "source": [
    "adata_2 = sc.read_csv('./GSE151928_RAW/GSM4593889_sample_2_UMI_counts.csv.gz').T\n",
    "adata_2.obs_names = [str(i).replace('.','_') for i in adata_2.obs_names]\n",
    "adata_2.obs_names = [str(i).replace('_1','_2') for i in adata_2.obs_names]\n",
    "meta_2 = metadata.loc[metadata['orig.ident'] == 'sample_2']\n",
    "adata_2 = adata_2[meta_2.index]\n",
    "adata_2.obs = meta_2.copy()\n",
    "adata_2.obs['subject_ID'] = 'SAMN15153962'\n",
    "adata_2"
   ]
  },
  {
   "cell_type": "code",
   "execution_count": null,
   "metadata": {},
   "outputs": [],
   "source": [
    "adata_3 = sc.read_csv('./GSE151928_RAW/GSM4593890_sample_3_UMI_counts.csv.gz').T\n",
    "adata_3.obs_names = [str(i).replace('.','_') for i in adata_3.obs_names]\n",
    "adata_3.obs_names = [str(i).replace('_1','_3') for i in adata_3.obs_names]\n",
    "meta_3 = metadata.loc[metadata['orig.ident'] == 'sample_3']\n",
    "adata_3 = adata_3[meta_3.index]\n",
    "adata_3.obs = meta_3.copy()\n",
    "adata_3.obs['subject_ID'] = 'SAMN15153961'\n",
    "adata_3"
   ]
  },
  {
   "cell_type": "code",
   "execution_count": null,
   "metadata": {},
   "outputs": [],
   "source": [
    "adata_4 = sc.read_csv('./GSE151928_RAW/GSM4593891_sample_4_UMI_counts.csv.gz').T\n",
    "adata_4.obs_names = [str(i).replace('.','_') for i in adata_4.obs_names]\n",
    "adata_4.obs_names = [str(i).replace('_1','_4') for i in adata_4.obs_names]\n",
    "meta_4 = metadata.loc[metadata['orig.ident'] == 'sample_4']\n",
    "adata_4 = adata_4[meta_4.index]\n",
    "adata_4.obs = meta_4.copy()\n",
    "adata_4.obs['subject_ID'] = 'SAMN15153960'\n",
    "adata_4"
   ]
  },
  {
   "cell_type": "code",
   "execution_count": null,
   "metadata": {},
   "outputs": [],
   "source": [
    "adata_5 = sc.read_csv('./GSE151928_RAW/GSM4593892_sample_5_UMI_counts.csv.gz').T\n",
    "adata_5.obs_names = [str(i).replace('.','_') for i in adata_5.obs_names]\n",
    "adata_5.obs_names = [str(i).replace('_1','_5') for i in adata_5.obs_names]\n",
    "meta_5 = metadata.loc[metadata['orig.ident'] == 'sample_5']\n",
    "adata_5 = adata_5[meta_5.index]\n",
    "adata_5.obs = meta_5.copy()\n",
    "adata_5.obs['subject_ID'] = 'SAMN15153959'\n",
    "adata_5"
   ]
  },
  {
   "cell_type": "code",
   "execution_count": null,
   "metadata": {},
   "outputs": [],
   "source": [
    "adata_6 = sc.read_csv('./GSE151928_RAW/GSM4593893_sample_6_UMI_counts.csv.gz').T\n",
    "adata_6.obs_names = [str(i).replace('.','_') for i in adata_6.obs_names]\n",
    "adata_6.obs_names = [str(i).replace('_1','_6') for i in adata_6.obs_names]\n",
    "meta_6 = metadata.loc[metadata['orig.ident'] == 'sample_6']\n",
    "adata_6 = adata_6[meta_6.index]\n",
    "adata_6.obs = meta_6.copy()\n",
    "adata_6.obs['subject_ID'] = 'SAMN15153958'\n",
    "adata_6"
   ]
  },
  {
   "cell_type": "code",
   "execution_count": 10,
   "metadata": {},
   "outputs": [
    {
     "data": {
      "text/plain": [
       "AnnData object with n_obs × n_vars = 5276 × 33538\n",
       "    obs: 'orig.ident', 'sample_number', 'nCount_RNA', 'nFeature_RNA', 'percent.mito', 'percent.ribo', 'nCount_SCT', 'nFeature_SCT', 'overall_cluster', 'macrophage_cluster', 'monocyte_cluster', 'cell_type', 'subject_ID'"
      ]
     },
     "execution_count": 10,
     "metadata": {},
     "output_type": "execute_result"
    }
   ],
   "source": [
    "adata_7 = sc.read_csv('./GSE151928_RAW/GSM4593894_sample_7_UMI_counts.csv.gz').T\n",
    "adata_7.obs_names = [str(i).replace('.','_') for i in adata_7.obs_names]\n",
    "adata_7.obs_names = [str(i).replace('_1','_7') for i in adata_7.obs_names]\n",
    "meta_7 = metadata.loc[metadata['orig.ident'] == 'sample_7']\n",
    "adata_7 = adata_7[meta_7.index]\n",
    "adata_7.obs = meta_7.copy()\n",
    "adata_7.obs['subject_ID'] = 'SAMN15153957'\n",
    "adata_7"
   ]
  },
  {
   "cell_type": "code",
   "execution_count": 11,
   "metadata": {},
   "outputs": [
    {
     "data": {
      "text/plain": [
       "AnnData object with n_obs × n_vars = 6333 × 33538\n",
       "    obs: 'orig.ident', 'sample_number', 'nCount_RNA', 'nFeature_RNA', 'percent.mito', 'percent.ribo', 'nCount_SCT', 'nFeature_SCT', 'overall_cluster', 'macrophage_cluster', 'monocyte_cluster', 'cell_type', 'subject_ID'"
      ]
     },
     "execution_count": 11,
     "metadata": {},
     "output_type": "execute_result"
    }
   ],
   "source": [
    "adata_8 = sc.read_csv('./GSE151928_RAW/GSM4593895_sample_8_UMI_counts.csv.gz').T\n",
    "adata_8.obs_names = [str(i).replace('.','_') for i in adata_8.obs_names]\n",
    "adata_8.obs_names = [str(i).replace('_1','_8') for i in adata_8.obs_names]\n",
    "meta_8 = metadata.loc[metadata['orig.ident'] == 'sample_8']\n",
    "adata_8 = adata_8[meta_8.index]\n",
    "adata_8.obs = meta_8.copy()\n",
    "adata_8.obs['subject_ID'] = 'SAMN15153956'\n",
    "adata_8"
   ]
  },
  {
   "cell_type": "code",
   "execution_count": 12,
   "metadata": {},
   "outputs": [
    {
     "data": {
      "text/plain": [
       "AnnData object with n_obs × n_vars = 2486 × 33538\n",
       "    obs: 'orig.ident', 'sample_number', 'nCount_RNA', 'nFeature_RNA', 'percent.mito', 'percent.ribo', 'nCount_SCT', 'nFeature_SCT', 'overall_cluster', 'macrophage_cluster', 'monocyte_cluster', 'cell_type', 'subject_ID'"
      ]
     },
     "execution_count": 12,
     "metadata": {},
     "output_type": "execute_result"
    }
   ],
   "source": [
    "adata_9 = sc.read_csv('./GSE151928_RAW/GSM4593896_sample_9_UMI_counts.csv.gz').T\n",
    "adata_9.obs_names = [str(i).replace('.','_') for i in adata_9.obs_names]\n",
    "adata_9.obs_names = [str(i).replace('_1','_9') for i in adata_9.obs_names]\n",
    "meta_9 = metadata.loc[metadata['orig.ident'] == 'sample_9']\n",
    "adata_9 = adata_9[meta_9.index]\n",
    "adata_9.obs = meta_9.copy()\n",
    "adata_9.obs['subject_ID'] = 'SAMN15153955'\n",
    "adata_9"
   ]
  },
  {
   "cell_type": "code",
   "execution_count": 13,
   "metadata": {},
   "outputs": [
    {
     "data": {
      "text/plain": [
       "AnnData object with n_obs × n_vars = 3816 × 33538\n",
       "    obs: 'orig.ident', 'sample_number', 'nCount_RNA', 'nFeature_RNA', 'percent.mito', 'percent.ribo', 'nCount_SCT', 'nFeature_SCT', 'overall_cluster', 'macrophage_cluster', 'monocyte_cluster', 'cell_type', 'subject_ID'"
      ]
     },
     "execution_count": 13,
     "metadata": {},
     "output_type": "execute_result"
    }
   ],
   "source": [
    "adata_10 = sc.read_csv('./GSE151928_RAW/GSM4593897_sample_10_UMI_counts.csv.gz').T\n",
    "adata_10.obs_names = (adata_10.obs_names + '-1_10')\n",
    "meta_10 = metadata.loc[metadata['orig.ident'] == 'sample_10']\n",
    "adata_10 = adata_10[meta_10.index]\n",
    "adata_10.obs = meta_10.copy()\n",
    "adata_10.obs['subject_ID'] = 'GSM4593897'\n",
    "adata_10"
   ]
  },
  {
   "cell_type": "markdown",
   "metadata": {},
   "source": [
    "### Merge samples"
   ]
  },
  {
   "cell_type": "code",
   "execution_count": 14,
   "metadata": {},
   "outputs": [
    {
     "data": {
      "text/plain": [
       "AnnData object with n_obs × n_vars = 49384 × 33538\n",
       "    obs: 'orig.ident', 'sample_number', 'nCount_RNA', 'nFeature_RNA', 'percent.mito', 'percent.ribo', 'nCount_SCT', 'nFeature_SCT', 'overall_cluster', 'macrophage_cluster', 'monocyte_cluster', 'cell_type', 'subject_ID', 'sample', 'genome'"
      ]
     },
     "execution_count": 14,
     "metadata": {},
     "output_type": "execute_result"
    }
   ],
   "source": [
    "GSE151928 = adata_1.concatenate(adata_2, adata_3, adata_4, adata_5, adata_6, adata_7, adata_8, adata_9, adata_10, batch_key = 'sample', batch_categories = ['PX1', 'PX2', 'PX3', 'PX4', 'PX5', 'PX6', 'PX7', 'PX8', 'PX9','PX10'], join = 'inner')\n",
    "GSE151928.obs['genome'] = 'GRCh38'\n",
    "GSE151928"
   ]
  },
  {
   "cell_type": "markdown",
   "metadata": {},
   "source": [
    "### Add authors metadata"
   ]
  },
  {
   "cell_type": "code",
   "execution_count": 15,
   "metadata": {},
   "outputs": [
    {
     "data": {
      "text/plain": [
       "Index(['AAACCCAAGCGTCTGC_1-PX1', 'AAACCCAAGTGATAAC_1-PX1',\n",
       "       'AAACCCAAGTTCCAGT_1-PX1', 'AAACCCACACTGTTCC_1-PX1',\n",
       "       'AAACCCAGTATTTCGG_1-PX1', 'AAACCCAGTGAGAACC_1-PX1',\n",
       "       'AAACCCAGTGGCTCTG_1-PX1', 'AAACCCATCGCTCCTA_1-PX1',\n",
       "       'AAACGAACAATGTCAC_1-PX1', 'AAACGAACATTCGATG_1-PX1',\n",
       "       ...\n",
       "       'TTTGGAGGTAGGGTAC-1_10-PX10', 'TTTGGAGGTCAATGGG-1_10-PX10',\n",
       "       'TTTGGAGTCTAGAACC-1_10-PX10', 'TTTGGTTCAATTTCCT-1_10-PX10',\n",
       "       'TTTGGTTTCAATCTCT-1_10-PX10', 'TTTGGTTTCCCAACTC-1_10-PX10',\n",
       "       'TTTGGTTTCTGCTGAA-1_10-PX10', 'TTTGTTGCACGTCATA-1_10-PX10',\n",
       "       'TTTGTTGGTAAGGTCG-1_10-PX10', 'TTTGTTGTCAACACCA-1_10-PX10'],\n",
       "      dtype='object', length=49384)"
      ]
     },
     "execution_count": 15,
     "metadata": {},
     "output_type": "execute_result"
    }
   ],
   "source": [
    "GSE151928.obs_names"
   ]
  },
  {
   "cell_type": "markdown",
   "metadata": {},
   "source": [
    "### Is `adata.X` raw?"
   ]
  },
  {
   "cell_type": "code",
   "execution_count": 16,
   "metadata": {},
   "outputs": [
    {
     "data": {
      "text/plain": [
       "array([[0., 0., 0., 0., 0.],\n",
       "       [0., 0., 0., 0., 0.],\n",
       "       [0., 0., 0., 0., 0.],\n",
       "       [0., 0., 0., 0., 0.],\n",
       "       [0., 0., 0., 0., 0.]], dtype=float32)"
      ]
     },
     "execution_count": 16,
     "metadata": {},
     "output_type": "execute_result"
    }
   ],
   "source": [
    "GSE151928.X[:5,:5]"
   ]
  },
  {
   "cell_type": "markdown",
   "metadata": {},
   "source": [
    "### Add basic labels"
   ]
  },
  {
   "cell_type": "code",
   "execution_count": 17,
   "metadata": {},
   "outputs": [
    {
     "data": {
      "text/plain": [
       "AnnData object with n_obs × n_vars = 49384 × 33538\n",
       "    obs: 'orig.ident', 'sample_number', 'nCount_RNA', 'nFeature_RNA', 'percent.mito', 'percent.ribo', 'nCount_SCT', 'nFeature_SCT', 'overall_cluster', 'macrophage_cluster', 'monocyte_cluster', 'cell_type', 'subject_ID', 'sample', 'genome', 'dataset', 'study', 'original_celltype_ann', 'condition'"
      ]
     },
     "execution_count": 17,
     "metadata": {},
     "output_type": "execute_result"
    }
   ],
   "source": [
    "GSE151928.obs['dataset'] = 'GSE151928'\n",
    "GSE151928.obs['study'] = 'Mould,2020'\n",
    "GSE151928.obs['original_celltype_ann'] = GSE151928.obs['cell_type']\n",
    "GSE151928.obs['condition'] = 'healthy'\n",
    "GSE151928"
   ]
  },
  {
   "cell_type": "code",
   "execution_count": 18,
   "metadata": {},
   "outputs": [],
   "source": [
    "del(GSE151928.obs['orig.ident'])\n",
    "del(GSE151928.obs['sample_number'])\n",
    "del(GSE151928.obs['nCount_RNA'])\n",
    "del(GSE151928.obs['nFeature_RNA'])\n",
    "del(GSE151928.obs['percent.mito'])\n",
    "del(GSE151928.obs['percent.ribo'])\n",
    "del(GSE151928.obs['nCount_SCT'])\n",
    "del(GSE151928.obs['nFeature_SCT'])\n",
    "del(GSE151928.obs['overall_cluster'])\n",
    "del(GSE151928.obs['macrophage_cluster'])\n",
    "del(GSE151928.obs['monocyte_cluster'])\n",
    "del(GSE151928.obs['subject_ID'])\n",
    "del(GSE151928.obs['sample'])\n",
    "del(GSE151928.obs['cell_type'])"
   ]
  },
  {
   "cell_type": "code",
   "execution_count": 19,
   "metadata": {},
   "outputs": [
    {
     "data": {
      "text/html": [
       "<div>\n",
       "<style scoped>\n",
       "    .dataframe tbody tr th:only-of-type {\n",
       "        vertical-align: middle;\n",
       "    }\n",
       "\n",
       "    .dataframe tbody tr th {\n",
       "        vertical-align: top;\n",
       "    }\n",
       "\n",
       "    .dataframe thead th {\n",
       "        text-align: right;\n",
       "    }\n",
       "</style>\n",
       "<table border=\"1\" class=\"dataframe\">\n",
       "  <thead>\n",
       "    <tr style=\"text-align: right;\">\n",
       "      <th></th>\n",
       "    </tr>\n",
       "  </thead>\n",
       "  <tbody>\n",
       "    <tr>\n",
       "      <th>MIR1302-2HG</th>\n",
       "    </tr>\n",
       "    <tr>\n",
       "      <th>FAM138A</th>\n",
       "    </tr>\n",
       "    <tr>\n",
       "      <th>OR4F5</th>\n",
       "    </tr>\n",
       "    <tr>\n",
       "      <th>AL627309.1</th>\n",
       "    </tr>\n",
       "    <tr>\n",
       "      <th>AL627309.3</th>\n",
       "    </tr>\n",
       "  </tbody>\n",
       "</table>\n",
       "</div>"
      ],
      "text/plain": [
       "Empty DataFrame\n",
       "Columns: []\n",
       "Index: [MIR1302-2HG, FAM138A, OR4F5, AL627309.1, AL627309.3]"
      ]
     },
     "execution_count": 19,
     "metadata": {},
     "output_type": "execute_result"
    }
   ],
   "source": [
    "GSE151928.var.head()"
   ]
  },
  {
   "cell_type": "code",
   "execution_count": 20,
   "metadata": {},
   "outputs": [
    {
     "data": {
      "text/plain": [
       "matrix([[0., 0., 0., 0., 0.],\n",
       "        [0., 0., 0., 0., 0.],\n",
       "        [0., 0., 0., 0., 0.],\n",
       "        [0., 0., 0., 0., 0.],\n",
       "        [0., 0., 0., 0., 0.]], dtype=float32)"
      ]
     },
     "execution_count": 20,
     "metadata": {},
     "output_type": "execute_result"
    }
   ],
   "source": [
    "GSE151928.X = sp.sparse.csr_matrix(GSE151928.X)\n",
    "GSE151928.X[:5,:5].todense()"
   ]
  },
  {
   "cell_type": "code",
   "execution_count": 21,
   "metadata": {},
   "outputs": [
    {
     "name": "stderr",
     "output_type": "stream",
     "text": [
      "... storing 'genome' as categorical\n",
      "... storing 'dataset' as categorical\n",
      "... storing 'study' as categorical\n",
      "... storing 'original_celltype_ann' as categorical\n",
      "... storing 'condition' as categorical\n"
     ]
    }
   ],
   "source": [
    "GSE151928.write('GSE151928_preprocessed.raw.ctl210706.h5ad')"
   ]
  },
  {
   "cell_type": "markdown",
   "metadata": {},
   "source": [
    "### Subset datasets to Sikkema's HVGs "
   ]
  },
  {
   "cell_type": "markdown",
   "metadata": {},
   "source": [
    "SOMETHING GOES WRONG HERE, CELLS ARE DOUBLED! CORRECT THIS..."
   ]
  },
  {
   "cell_type": "code",
   "execution_count": 22,
   "metadata": {},
   "outputs": [],
   "source": [
    "def subset_and_pad_adata(adata, gene_set):\n",
    "    \"\"\"\n",
    "    This function uses a gene list provided as a Pandas dataframe with gene symbols and\n",
    "    Ensembl IDs and subsets a larger Anndata object to only the genes in this list. If\n",
    "    Not all genes are found in the AnnData object, then zero-padding is performed.\n",
    "    \"\"\"\n",
    "    # Example inputs:\n",
    "    # genes_filename = '/storage/groups/ml01/workspace/hlca_lisa.sikkema_malte.luecken/genes_for_mapping.csv'\n",
    "    # data_filename = '/storage/groups/ml01/workspace/hlca_lisa.sikkema_malte.luecken/ready/adams.h5ad'\n",
    "    # gene_set = pd.read_csv(genes_filename)\n",
    "    # adata = sc.read(data_filename)\n",
    "\n",
    "    # Prep objects\n",
    "    if 'gene_symbols' in gene_set.columns:\n",
    "        gene_set.index = gene_set['gene_symbols']\n",
    "\n",
    "    else:\n",
    "        raise ValueError('The input gene list was not of the expected type!\\n'\n",
    "                         'Gene symbols and ensembl IDs are expected in column names:\\n'\n",
    "                         '\\t`gene_symbols` and `Unnamed: 0`')\n",
    "\n",
    "    # Subset adata object\n",
    "    common_genes = [gene for gene in gene_set['gene_symbols'].values if gene in adata.var_names]\n",
    "    if len(common_genes) == 0:\n",
    "        print(\"WARNING: YOU SHOULD PROBABLY SWITCH YOUR ADATA.VAR INDEX COLUMN TO GENE NAMES\"\n",
    "                  \" RATHER THAN IDS! No genes were recovered.\")\n",
    "        return\n",
    "\n",
    "    adata_sub = adata[:,common_genes].copy()\n",
    "\n",
    "    # Pad object with 0 genes if needed\n",
    "    if len(common_genes) < len(gene_set):\n",
    "        diff = len(gene_set) - len(common_genes)\n",
    "        print(f'not all genes were recovered, filling in 0 counts for {diff} missing genes...')\n",
    "        \n",
    "        # Genes to pad with\n",
    "        genes_to_add = set(gene_set['gene_symbols'].values).difference(set(adata_sub.var_names))\n",
    "        new_var = gene_set.loc[genes_to_add]\n",
    "        \n",
    "        if 'Unnamed: 0' in new_var.columns:\n",
    "            # Assumes the unnamed column are ensembl values\n",
    "            new_var['ensembl'] = new_var['Unnamed: 0']\n",
    "            del new_var['Unnamed: 0']\n",
    "\n",
    "        df_padding = pd.DataFrame(data=np.zeros((adata_sub.shape[0],len(genes_to_add))), index=adata_sub.obs_names, columns=new_var.index)\n",
    "        adata_padding = sc.AnnData(df_padding, var=new_var)\n",
    "        \n",
    "        # Concatenate object\n",
    "        #adata_sub = concat([adata_sub, adata_padding], axis=1, join='outer', index_unique=None, merge='unique')\n",
    "        adata_sub2 = adata_sub.concatenate(adata_padding, batch_key = 'process', batch_categories = ['sub', 'padded'], join = 'outer')\n",
    "\n",
    "    # Ensure ensembl IDs are available\n",
    "    adata_sub2.var['ensembl'] = gene_set['Unnamed: 0']\n",
    "\n",
    "    return adata_sub2"
   ]
  },
  {
   "cell_type": "code",
   "execution_count": 23,
   "metadata": {},
   "outputs": [
    {
     "data": {
      "text/html": [
       "<div>\n",
       "<style scoped>\n",
       "    .dataframe tbody tr th:only-of-type {\n",
       "        vertical-align: middle;\n",
       "    }\n",
       "\n",
       "    .dataframe tbody tr th {\n",
       "        vertical-align: top;\n",
       "    }\n",
       "\n",
       "    .dataframe thead th {\n",
       "        text-align: right;\n",
       "    }\n",
       "</style>\n",
       "<table border=\"1\" class=\"dataframe\">\n",
       "  <thead>\n",
       "    <tr style=\"text-align: right;\">\n",
       "      <th></th>\n",
       "      <th>Unnamed: 0</th>\n",
       "      <th>gene_symbols</th>\n",
       "    </tr>\n",
       "  </thead>\n",
       "  <tbody>\n",
       "    <tr>\n",
       "      <th>0</th>\n",
       "      <td>ENSG00000000938</td>\n",
       "      <td>FGR</td>\n",
       "    </tr>\n",
       "    <tr>\n",
       "      <th>1</th>\n",
       "      <td>ENSG00000000971</td>\n",
       "      <td>CFH</td>\n",
       "    </tr>\n",
       "    <tr>\n",
       "      <th>2</th>\n",
       "      <td>ENSG00000002587</td>\n",
       "      <td>HS3ST1</td>\n",
       "    </tr>\n",
       "    <tr>\n",
       "      <th>3</th>\n",
       "      <td>ENSG00000002933</td>\n",
       "      <td>TMEM176A</td>\n",
       "    </tr>\n",
       "    <tr>\n",
       "      <th>4</th>\n",
       "      <td>ENSG00000003436</td>\n",
       "      <td>TFPI</td>\n",
       "    </tr>\n",
       "  </tbody>\n",
       "</table>\n",
       "</div>"
      ],
      "text/plain": [
       "        Unnamed: 0 gene_symbols\n",
       "0  ENSG00000000938          FGR\n",
       "1  ENSG00000000971          CFH\n",
       "2  ENSG00000002587       HS3ST1\n",
       "3  ENSG00000002933     TMEM176A\n",
       "4  ENSG00000003436         TFPI"
      ]
     },
     "execution_count": 23,
     "metadata": {},
     "output_type": "execute_result"
    }
   ],
   "source": [
    "HVG = pd.read_csv('/Users/ctl/Downloads/genes_for_mapping.csv')\n",
    "HVG.head()"
   ]
  },
  {
   "cell_type": "code",
   "execution_count": 24,
   "metadata": {},
   "outputs": [
    {
     "name": "stdout",
     "output_type": "stream",
     "text": [
      "not all genes were recovered, filling in 0 counts for 92 missing genes...\n"
     ]
    },
    {
     "data": {
      "text/plain": [
       "AnnData object with n_obs × n_vars = 98768 × 2000\n",
       "    obs: 'genome', 'dataset', 'study', 'original_celltype_ann', 'condition'\n",
       "    var: 'gene_symbols-padded', 'ensembl-padded', 'ensembl'"
      ]
     },
     "execution_count": 24,
     "metadata": {},
     "output_type": "execute_result"
    }
   ],
   "source": [
    "GSE151928_subset = subset_and_pad_adata(GSE151928, HVG)\n",
    "del(GSE151928_subset.obs['process'])\n",
    "GSE151928_subset"
   ]
  },
  {
   "cell_type": "code",
   "execution_count": 25,
   "metadata": {},
   "outputs": [
    {
     "name": "stderr",
     "output_type": "stream",
     "text": [
      "... storing 'genome' as categorical\n",
      "... storing 'dataset' as categorical\n",
      "... storing 'study' as categorical\n",
      "... storing 'original_celltype_ann' as categorical\n",
      "... storing 'condition' as categorical\n",
      "... storing 'gene_symbols-padded' as categorical\n",
      "... storing 'ensembl-padded' as categorical\n"
     ]
    }
   ],
   "source": [
    "GSE151928_subset.write('GSE151928_preprocessed-HVGs.raw.ctl210706.h5ad')"
   ]
  },
  {
   "cell_type": "code",
   "execution_count": null,
   "metadata": {},
   "outputs": [],
   "source": []
  }
 ],
 "metadata": {
  "kernelspec": {
   "display_name": "Python 3",
   "language": "python",
   "name": "python3"
  },
  "language_info": {
   "codemirror_mode": {
    "name": "ipython",
    "version": 3
   },
   "file_extension": ".py",
   "mimetype": "text/x-python",
   "name": "python",
   "nbconvert_exporter": "python",
   "pygments_lexer": "ipython3",
   "version": "3.7.5"
  }
 },
 "nbformat": 4,
 "nbformat_minor": 5
}
