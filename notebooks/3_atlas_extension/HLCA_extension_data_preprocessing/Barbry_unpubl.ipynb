{
 "cells": [
  {
   "cell_type": "code",
   "execution_count": 1,
   "metadata": {},
   "outputs": [],
   "source": [
    "import pandas as pd \n",
    "import scanpy as sc"
   ]
  },
  {
   "cell_type": "markdown",
   "metadata": {},
   "source": [
    "paths:"
   ]
  },
  {
   "cell_type": "code",
   "execution_count": 3,
   "metadata": {},
   "outputs": [],
   "source": [
    "path_input_h5ad = '../../../data/HLCA_extended/extension_datasets/raw/Barbry/D460_D463_concatenate_prefiltered-2.h5ad'\n",
    "path_out_full_biopsy = \"../../../data/HLCA_extended/extension_datasets/ready/full/barby_BIOP.h5ad\"\n",
    "path_out_full_brush = \"../../../data/HLCA_extended/extension_datasets/ready/full/barby_BRUS.h5ad\"\n",
    "path_genes_to_include = \"../../../data/HLCA_extended/extension_datasets/genes_for_mapping.csv\""
   ]
  },
  {
   "cell_type": "code",
   "execution_count": 2,
   "metadata": {},
   "outputs": [],
   "source": [
    "adata = sc.read(path_input_h5ad)"
   ]
  },
  {
   "cell_type": "code",
   "execution_count": 3,
   "metadata": {},
   "outputs": [
    {
     "data": {
      "text/html": [
       "<div>\n",
       "<style scoped>\n",
       "    .dataframe tbody tr th:only-of-type {\n",
       "        vertical-align: middle;\n",
       "    }\n",
       "\n",
       "    .dataframe tbody tr th {\n",
       "        vertical-align: top;\n",
       "    }\n",
       "\n",
       "    .dataframe thead th {\n",
       "        text-align: right;\n",
       "    }\n",
       "</style>\n",
       "<table border=\"1\" class=\"dataframe\">\n",
       "  <thead>\n",
       "    <tr style=\"text-align: right;\">\n",
       "      <th></th>\n",
       "      <th>manip</th>\n",
       "      <th>donor</th>\n",
       "      <th>method</th>\n",
       "      <th>position</th>\n",
       "      <th>n_genes</th>\n",
       "      <th>CellTypes_V2</th>\n",
       "      <th>batch</th>\n",
       "    </tr>\n",
       "    <tr>\n",
       "      <th>name</th>\n",
       "      <th></th>\n",
       "      <th></th>\n",
       "      <th></th>\n",
       "      <th></th>\n",
       "      <th></th>\n",
       "      <th></th>\n",
       "      <th></th>\n",
       "    </tr>\n",
       "  </thead>\n",
       "  <tbody>\n",
       "    <tr>\n",
       "      <th>D463_BIOP_NAS1AAACCCAAGACATAGT-1-0</th>\n",
       "      <td>D463_BIOP_NAS1</td>\n",
       "      <td>D463</td>\n",
       "      <td>BIOP</td>\n",
       "      <td>NAS</td>\n",
       "      <td>934</td>\n",
       "      <td>Suprabasal</td>\n",
       "      <td>0</td>\n",
       "    </tr>\n",
       "    <tr>\n",
       "      <th>D463_BIOP_NAS1AAACCCAAGGGATCAC-1-0</th>\n",
       "      <td>D463_BIOP_NAS1</td>\n",
       "      <td>D463</td>\n",
       "      <td>BIOP</td>\n",
       "      <td>NAS</td>\n",
       "      <td>3886</td>\n",
       "      <td>Secretory N</td>\n",
       "      <td>0</td>\n",
       "    </tr>\n",
       "    <tr>\n",
       "      <th>D463_BIOP_NAS1AAACCCAAGGTCACCC-1-0</th>\n",
       "      <td>D463_BIOP_NAS1</td>\n",
       "      <td>D463</td>\n",
       "      <td>BIOP</td>\n",
       "      <td>NAS</td>\n",
       "      <td>420</td>\n",
       "      <td>empty</td>\n",
       "      <td>0</td>\n",
       "    </tr>\n",
       "    <tr>\n",
       "      <th>D463_BIOP_NAS1AAACCCAAGTATGGCG-1-0</th>\n",
       "      <td>D463_BIOP_NAS1</td>\n",
       "      <td>D463</td>\n",
       "      <td>BIOP</td>\n",
       "      <td>NAS</td>\n",
       "      <td>2315</td>\n",
       "      <td>Secretory N</td>\n",
       "      <td>0</td>\n",
       "    </tr>\n",
       "    <tr>\n",
       "      <th>D463_BIOP_NAS1AAACCCACAATGTCTG-1-0</th>\n",
       "      <td>D463_BIOP_NAS1</td>\n",
       "      <td>D463</td>\n",
       "      <td>BIOP</td>\n",
       "      <td>NAS</td>\n",
       "      <td>2736</td>\n",
       "      <td>Suprabasal</td>\n",
       "      <td>0</td>\n",
       "    </tr>\n",
       "    <tr>\n",
       "      <th>...</th>\n",
       "      <td>...</td>\n",
       "      <td>...</td>\n",
       "      <td>...</td>\n",
       "      <td>...</td>\n",
       "      <td>...</td>\n",
       "      <td>...</td>\n",
       "      <td>...</td>\n",
       "    </tr>\n",
       "    <tr>\n",
       "      <th>D463_BRUS_NAS1TTTGATCTCTATCACT-1-16</th>\n",
       "      <td>D463_BRUS_NAS1</td>\n",
       "      <td>D463</td>\n",
       "      <td>BRUS</td>\n",
       "      <td>NAS</td>\n",
       "      <td>3210</td>\n",
       "      <td>Suprabasal</td>\n",
       "      <td>16</td>\n",
       "    </tr>\n",
       "    <tr>\n",
       "      <th>D463_BRUS_NAS1TTTGGAGCATGCCGAC-1-16</th>\n",
       "      <td>D463_BRUS_NAS1</td>\n",
       "      <td>D463</td>\n",
       "      <td>BRUS</td>\n",
       "      <td>NAS</td>\n",
       "      <td>5032</td>\n",
       "      <td>Goblet</td>\n",
       "      <td>16</td>\n",
       "    </tr>\n",
       "    <tr>\n",
       "      <th>D463_BRUS_NAS1TTTGTTGAGTTTCGGT-1-16</th>\n",
       "      <td>D463_BRUS_NAS1</td>\n",
       "      <td>D463</td>\n",
       "      <td>BRUS</td>\n",
       "      <td>NAS</td>\n",
       "      <td>3791</td>\n",
       "      <td>Secretory</td>\n",
       "      <td>16</td>\n",
       "    </tr>\n",
       "    <tr>\n",
       "      <th>D463_BRUS_NAS1TTTGTTGCAGACCTAT-1-16</th>\n",
       "      <td>D463_BRUS_NAS1</td>\n",
       "      <td>D463</td>\n",
       "      <td>BRUS</td>\n",
       "      <td>NAS</td>\n",
       "      <td>5007</td>\n",
       "      <td>Goblet</td>\n",
       "      <td>16</td>\n",
       "    </tr>\n",
       "    <tr>\n",
       "      <th>D463_BRUS_NAS1TTTGTTGTCGCTTGCT-1-16</th>\n",
       "      <td>D463_BRUS_NAS1</td>\n",
       "      <td>D463</td>\n",
       "      <td>BRUS</td>\n",
       "      <td>NAS</td>\n",
       "      <td>3330</td>\n",
       "      <td>Club</td>\n",
       "      <td>16</td>\n",
       "    </tr>\n",
       "  </tbody>\n",
       "</table>\n",
       "<p>104013 rows × 7 columns</p>\n",
       "</div>"
      ],
      "text/plain": [
       "                                              manip donor method position  \\\n",
       "name                                                                        \n",
       "D463_BIOP_NAS1AAACCCAAGACATAGT-1-0   D463_BIOP_NAS1  D463   BIOP      NAS   \n",
       "D463_BIOP_NAS1AAACCCAAGGGATCAC-1-0   D463_BIOP_NAS1  D463   BIOP      NAS   \n",
       "D463_BIOP_NAS1AAACCCAAGGTCACCC-1-0   D463_BIOP_NAS1  D463   BIOP      NAS   \n",
       "D463_BIOP_NAS1AAACCCAAGTATGGCG-1-0   D463_BIOP_NAS1  D463   BIOP      NAS   \n",
       "D463_BIOP_NAS1AAACCCACAATGTCTG-1-0   D463_BIOP_NAS1  D463   BIOP      NAS   \n",
       "...                                             ...   ...    ...      ...   \n",
       "D463_BRUS_NAS1TTTGATCTCTATCACT-1-16  D463_BRUS_NAS1  D463   BRUS      NAS   \n",
       "D463_BRUS_NAS1TTTGGAGCATGCCGAC-1-16  D463_BRUS_NAS1  D463   BRUS      NAS   \n",
       "D463_BRUS_NAS1TTTGTTGAGTTTCGGT-1-16  D463_BRUS_NAS1  D463   BRUS      NAS   \n",
       "D463_BRUS_NAS1TTTGTTGCAGACCTAT-1-16  D463_BRUS_NAS1  D463   BRUS      NAS   \n",
       "D463_BRUS_NAS1TTTGTTGTCGCTTGCT-1-16  D463_BRUS_NAS1  D463   BRUS      NAS   \n",
       "\n",
       "                                     n_genes CellTypes_V2 batch  \n",
       "name                                                             \n",
       "D463_BIOP_NAS1AAACCCAAGACATAGT-1-0       934   Suprabasal     0  \n",
       "D463_BIOP_NAS1AAACCCAAGGGATCAC-1-0      3886  Secretory N     0  \n",
       "D463_BIOP_NAS1AAACCCAAGGTCACCC-1-0       420        empty     0  \n",
       "D463_BIOP_NAS1AAACCCAAGTATGGCG-1-0      2315  Secretory N     0  \n",
       "D463_BIOP_NAS1AAACCCACAATGTCTG-1-0      2736   Suprabasal     0  \n",
       "...                                      ...          ...   ...  \n",
       "D463_BRUS_NAS1TTTGATCTCTATCACT-1-16     3210   Suprabasal    16  \n",
       "D463_BRUS_NAS1TTTGGAGCATGCCGAC-1-16     5032       Goblet    16  \n",
       "D463_BRUS_NAS1TTTGTTGAGTTTCGGT-1-16     3791    Secretory    16  \n",
       "D463_BRUS_NAS1TTTGTTGCAGACCTAT-1-16     5007       Goblet    16  \n",
       "D463_BRUS_NAS1TTTGTTGTCGCTTGCT-1-16     3330         Club    16  \n",
       "\n",
       "[104013 rows x 7 columns]"
      ]
     },
     "execution_count": 3,
     "metadata": {},
     "output_type": "execute_result"
    }
   ],
   "source": [
    "adata.obs"
   ]
  },
  {
   "cell_type": "code",
   "execution_count": 4,
   "metadata": {},
   "outputs": [
    {
     "data": {
      "text/plain": [
       "['D463', 'D460']\n",
       "Categories (2, object): ['D463', 'D460']"
      ]
     },
     "execution_count": 4,
     "metadata": {},
     "output_type": "execute_result"
    }
   ],
   "source": [
    "adata.obs.donor.unique()"
   ]
  },
  {
   "cell_type": "code",
   "execution_count": 5,
   "metadata": {},
   "outputs": [
    {
     "data": {
      "text/plain": [
       "['0', '1', '2', '3', '4', ..., '7', '10', '11', '12', '16']\n",
       "Length: 12\n",
       "Categories (12, object): ['0', '1', '2', '3', ..., '10', '11', '12', '16']"
      ]
     },
     "execution_count": 5,
     "metadata": {},
     "output_type": "execute_result"
    }
   ],
   "source": [
    "adata.obs.batch.unique()"
   ]
  },
  {
   "cell_type": "code",
   "execution_count": 6,
   "metadata": {},
   "outputs": [
    {
     "data": {
      "text/plain": [
       "['BIOP', 'BRUS']\n",
       "Categories (2, object): ['BIOP', 'BRUS']"
      ]
     },
     "execution_count": 6,
     "metadata": {},
     "output_type": "execute_result"
    }
   ],
   "source": [
    "adata.obs.method.unique()"
   ]
  },
  {
   "cell_type": "code",
   "execution_count": 7,
   "metadata": {},
   "outputs": [
    {
     "data": {
      "text/html": [
       "<div>\n",
       "<style scoped>\n",
       "    .dataframe tbody tr th:only-of-type {\n",
       "        vertical-align: middle;\n",
       "    }\n",
       "\n",
       "    .dataframe tbody tr th {\n",
       "        vertical-align: top;\n",
       "    }\n",
       "\n",
       "    .dataframe thead th {\n",
       "        text-align: right;\n",
       "    }\n",
       "</style>\n",
       "<table border=\"1\" class=\"dataframe\">\n",
       "  <thead>\n",
       "    <tr style=\"text-align: right;\">\n",
       "      <th>batch</th>\n",
       "      <th>0</th>\n",
       "      <th>1</th>\n",
       "      <th>2</th>\n",
       "      <th>3</th>\n",
       "      <th>4</th>\n",
       "      <th>5</th>\n",
       "      <th>6</th>\n",
       "      <th>7</th>\n",
       "      <th>10</th>\n",
       "      <th>11</th>\n",
       "      <th>12</th>\n",
       "      <th>16</th>\n",
       "    </tr>\n",
       "    <tr>\n",
       "      <th>donor</th>\n",
       "      <th></th>\n",
       "      <th></th>\n",
       "      <th></th>\n",
       "      <th></th>\n",
       "      <th></th>\n",
       "      <th></th>\n",
       "      <th></th>\n",
       "      <th></th>\n",
       "      <th></th>\n",
       "      <th></th>\n",
       "      <th></th>\n",
       "      <th></th>\n",
       "    </tr>\n",
       "  </thead>\n",
       "  <tbody>\n",
       "    <tr>\n",
       "      <th>D460</th>\n",
       "      <td>0</td>\n",
       "      <td>14059</td>\n",
       "      <td>0</td>\n",
       "      <td>0</td>\n",
       "      <td>10140</td>\n",
       "      <td>9549</td>\n",
       "      <td>0</td>\n",
       "      <td>7735</td>\n",
       "      <td>5073</td>\n",
       "      <td>0</td>\n",
       "      <td>3157</td>\n",
       "      <td>0</td>\n",
       "    </tr>\n",
       "    <tr>\n",
       "      <th>D463</th>\n",
       "      <td>16577</td>\n",
       "      <td>0</td>\n",
       "      <td>13815</td>\n",
       "      <td>10434</td>\n",
       "      <td>0</td>\n",
       "      <td>0</td>\n",
       "      <td>7954</td>\n",
       "      <td>0</td>\n",
       "      <td>0</td>\n",
       "      <td>3633</td>\n",
       "      <td>0</td>\n",
       "      <td>1887</td>\n",
       "    </tr>\n",
       "  </tbody>\n",
       "</table>\n",
       "</div>"
      ],
      "text/plain": [
       "batch      0      1      2      3      4     5     6     7    10    11    12  \\\n",
       "donor                                                                          \n",
       "D460       0  14059      0      0  10140  9549     0  7735  5073     0  3157   \n",
       "D463   16577      0  13815  10434      0     0  7954     0     0  3633     0   \n",
       "\n",
       "batch    16  \n",
       "donor        \n",
       "D460      0  \n",
       "D463   1887  "
      ]
     },
     "execution_count": 7,
     "metadata": {},
     "output_type": "execute_result"
    }
   ],
   "source": [
    "pd.crosstab(adata.obs.donor, adata.obs.batch)"
   ]
  },
  {
   "cell_type": "code",
   "execution_count": 8,
   "metadata": {},
   "outputs": [
    {
     "data": {
      "text/plain": [
       "['NAS', 'PRO', 'INT']\n",
       "Categories (3, object): ['NAS', 'PRO', 'INT']"
      ]
     },
     "execution_count": 8,
     "metadata": {},
     "output_type": "execute_result"
    }
   ],
   "source": [
    "adata.obs.position.unique()"
   ]
  },
  {
   "cell_type": "code",
   "execution_count": 9,
   "metadata": {},
   "outputs": [
    {
     "data": {
      "text/plain": [
       "Basal                29844\n",
       "Suprabasal           15283\n",
       "Multiciliated        13955\n",
       "Goblet                6693\n",
       "Endothelial           5171\n",
       "Secretory             4518\n",
       "Serous                4319\n",
       "Secretory N           3658\n",
       "empty                 3549\n",
       "Club                  2967\n",
       "LT_NK                 2512\n",
       "Smooth muscle         1998\n",
       "Goblet MUC5B          1960\n",
       "Duct cells            1222\n",
       "Macrophage            1186\n",
       "IPF Basal              677\n",
       "Cycling Basal          494\n",
       "Fibroblast             462\n",
       "Inflamatory Basal      436\n",
       "Ionocyte               421\n",
       "Unknown 2              318\n",
       "SMG Basal              315\n",
       "SMG Goblet             302\n",
       "doublets ?             253\n",
       "Pericyte               200\n",
       "B cells                194\n",
       "Plasma cells           191\n",
       "KRT14 Basal            189\n",
       "Erythrocytes           183\n",
       "SMG_Goblet              89\n",
       "Smooth Muscle           81\n",
       "Mast cells              79\n",
       "Multiciliated SAA       51\n",
       "Deuterosomal            51\n",
       "Lymphatic               45\n",
       "Monocytes               43\n",
       "Glandular               43\n",
       "Unknown 1               33\n",
       "PNEC ?                  15\n",
       "Squamous                13\n",
       "Name: CellTypes_V2, dtype: int64"
      ]
     },
     "execution_count": 9,
     "metadata": {},
     "output_type": "execute_result"
    }
   ],
   "source": [
    "adata.obs.CellTypes_V2.value_counts()"
   ]
  },
  {
   "cell_type": "code",
   "execution_count": 10,
   "metadata": {},
   "outputs": [
    {
     "name": "stderr",
     "output_type": "stream",
     "text": [
      "/home/icb/daniel.strobl/conda_scib/envs/scIB-python-2/lib/python3.7/site-packages/anndata/_core/anndata.py:1094: FutureWarning: is_categorical is deprecated and will be removed in a future version.  Use is_categorical_dtype instead\n",
      "  if not is_categorical(df_full[k]):\n"
     ]
    }
   ],
   "source": [
    "adata_cleaned = adata[adata.obs.CellTypes_V2!='doublets ?']"
   ]
  },
  {
   "cell_type": "code",
   "execution_count": 11,
   "metadata": {},
   "outputs": [],
   "source": [
    "adata_cleaned = adata_cleaned[adata_cleaned.obs.CellTypes_V2!='empty']"
   ]
  },
  {
   "cell_type": "code",
   "execution_count": 12,
   "metadata": {},
   "outputs": [
    {
     "data": {
      "text/plain": [
       "Basal                29844\n",
       "Suprabasal           15283\n",
       "Multiciliated        13955\n",
       "Goblet                6693\n",
       "Endothelial           5171\n",
       "Secretory             4518\n",
       "Serous                4319\n",
       "Secretory N           3658\n",
       "Club                  2967\n",
       "LT_NK                 2512\n",
       "Smooth muscle         1998\n",
       "Goblet MUC5B          1960\n",
       "Duct cells            1222\n",
       "Macrophage            1186\n",
       "IPF Basal              677\n",
       "Cycling Basal          494\n",
       "Fibroblast             462\n",
       "Inflamatory Basal      436\n",
       "Ionocyte               421\n",
       "Unknown 2              318\n",
       "SMG Basal              315\n",
       "SMG Goblet             302\n",
       "Pericyte               200\n",
       "B cells                194\n",
       "Plasma cells           191\n",
       "KRT14 Basal            189\n",
       "Erythrocytes           183\n",
       "SMG_Goblet              89\n",
       "Smooth Muscle           81\n",
       "Mast cells              79\n",
       "Multiciliated SAA       51\n",
       "Deuterosomal            51\n",
       "Lymphatic               45\n",
       "Monocytes               43\n",
       "Glandular               43\n",
       "Unknown 1               33\n",
       "PNEC ?                  15\n",
       "Squamous                13\n",
       "Name: CellTypes_V2, dtype: int64"
      ]
     },
     "execution_count": 12,
     "metadata": {},
     "output_type": "execute_result"
    }
   ],
   "source": [
    "adata_cleaned.obs.CellTypes_V2.value_counts()"
   ]
  },
  {
   "cell_type": "code",
   "execution_count": 13,
   "metadata": {},
   "outputs": [
    {
     "name": "stderr",
     "output_type": "stream",
     "text": [
      "/home/icb/daniel.strobl/conda_scib/envs/scIB-python-2/lib/python3.7/site-packages/scipy/sparse/_index.py:116: SparseEfficiencyWarning: Changing the sparsity structure of a csr_matrix is expensive. lil_matrix is more efficient.\n",
      "  self._set_arrayXarray_sparse(i, j, x)\n"
     ]
    }
   ],
   "source": [
    "adata_cleaned.X = adata_cleaned.raw.X"
   ]
  },
  {
   "cell_type": "code",
   "execution_count": 14,
   "metadata": {},
   "outputs": [
    {
     "data": {
      "text/plain": [
       "<100211x16859 sparse matrix of type '<class 'numpy.float32'>'\n",
       "\twith 397121952 stored elements in Compressed Sparse Row format>"
      ]
     },
     "execution_count": 14,
     "metadata": {},
     "output_type": "execute_result"
    }
   ],
   "source": [
    "adata_cleaned.X"
   ]
  },
  {
   "cell_type": "code",
   "execution_count": 15,
   "metadata": {},
   "outputs": [
    {
     "data": {
      "text/plain": [
       "<104013x16859 sparse matrix of type '<class 'numpy.float32'>'\n",
       "\twith 400911513 stored elements in Compressed Sparse Row format>"
      ]
     },
     "execution_count": 15,
     "metadata": {},
     "output_type": "execute_result"
    }
   ],
   "source": [
    "adata.X"
   ]
  },
  {
   "cell_type": "code",
   "execution_count": 16,
   "metadata": {},
   "outputs": [
    {
     "data": {
      "text/plain": [
       "matrix([[0., 0., 0., 0., 0., 0., 0., 0., 0., 0.],\n",
       "        [0., 0., 0., 0., 0., 0., 0., 0., 0., 0.],\n",
       "        [0., 0., 0., 0., 0., 0., 0., 0., 0., 0.],\n",
       "        [0., 0., 0., 0., 0., 0., 0., 0., 0., 0.],\n",
       "        [0., 0., 0., 0., 0., 0., 0., 0., 0., 0.],\n",
       "        [0., 0., 0., 0., 1., 0., 0., 0., 0., 0.],\n",
       "        [0., 0., 0., 0., 0., 0., 0., 0., 0., 0.],\n",
       "        [0., 0., 0., 0., 0., 0., 0., 0., 0., 0.],\n",
       "        [0., 0., 0., 0., 0., 0., 0., 0., 0., 2.],\n",
       "        [0., 0., 0., 0., 0., 1., 0., 0., 0., 0.]], dtype=float32)"
      ]
     },
     "execution_count": 16,
     "metadata": {},
     "output_type": "execute_result"
    }
   ],
   "source": [
    "adata.raw.X[0:10,0:10].todense()"
   ]
  },
  {
   "cell_type": "code",
   "execution_count": 17,
   "metadata": {},
   "outputs": [
    {
     "name": "stderr",
     "output_type": "stream",
     "text": [
      "Trying to set attribute `.obs` of view, copying.\n"
     ]
    }
   ],
   "source": [
    "adata_cleaned.obs['original_celltype_ann']=adata_cleaned.obs.CellTypes_V2"
   ]
  },
  {
   "cell_type": "code",
   "execution_count": 18,
   "metadata": {},
   "outputs": [],
   "source": [
    "adata_cleaned.obs['subject_ID']=adata_cleaned.obs.donor"
   ]
  },
  {
   "cell_type": "code",
   "execution_count": 19,
   "metadata": {},
   "outputs": [],
   "source": [
    "adata_cleaned.obs['sample']=adata_cleaned.obs.batch"
   ]
  },
  {
   "cell_type": "code",
   "execution_count": 20,
   "metadata": {},
   "outputs": [],
   "source": [
    "adata_cleaned.obs['condition']='IPF'"
   ]
  },
  {
   "cell_type": "code",
   "execution_count": 21,
   "metadata": {},
   "outputs": [],
   "source": [
    "adata_cleaned.obs['study']='BarbyUnpublished'"
   ]
  },
  {
   "cell_type": "code",
   "execution_count": 22,
   "metadata": {},
   "outputs": [],
   "source": [
    "adata_cleaned.obs['dataset']=adata_cleaned.obs.study.astype(str) + adata_cleaned.obs.method.astype(str)"
   ]
  },
  {
   "cell_type": "code",
   "execution_count": 23,
   "metadata": {},
   "outputs": [],
   "source": [
    "adata_cleaned.obs = adata_cleaned.obs[['method', 'original_celltype_ann', 'subject_ID', 'sample', 'condition', 'study', 'dataset']]"
   ]
  },
  {
   "cell_type": "code",
   "execution_count": 24,
   "metadata": {},
   "outputs": [
    {
     "data": {
      "text/plain": [
       "BIOP    63489\n",
       "BRUS    36722\n",
       "Name: method, dtype: int64"
      ]
     },
     "execution_count": 24,
     "metadata": {},
     "output_type": "execute_result"
    }
   ],
   "source": [
    "adata_cleaned.obs.method.value_counts()"
   ]
  },
  {
   "cell_type": "code",
   "execution_count": 34,
   "metadata": {},
   "outputs": [],
   "source": [
    "del adata_cleaned.obsm"
   ]
  },
  {
   "cell_type": "code",
   "execution_count": 39,
   "metadata": {},
   "outputs": [],
   "source": [
    "del adata_cleaned.raw"
   ]
  },
  {
   "cell_type": "code",
   "execution_count": 42,
   "metadata": {},
   "outputs": [],
   "source": [
    "adata_out = adata_cleaned.copy()"
   ]
  },
  {
   "cell_type": "code",
   "execution_count": 43,
   "metadata": {},
   "outputs": [],
   "source": [
    "adata_out.X = adata_out.X.astype(int)"
   ]
  },
  {
   "cell_type": "code",
   "execution_count": 45,
   "metadata": {},
   "outputs": [],
   "source": [
    "del adata_out.uns"
   ]
  },
  {
   "cell_type": "code",
   "execution_count": 47,
   "metadata": {},
   "outputs": [],
   "source": [
    "del adata_out.layers['scaled']"
   ]
  },
  {
   "cell_type": "code",
   "execution_count": 48,
   "metadata": {},
   "outputs": [
    {
     "data": {
      "text/plain": [
       "AnnData object with n_obs × n_vars = 100211 × 16859\n",
       "    obs: 'method', 'original_celltype_ann', 'subject_ID', 'sample', 'condition', 'study', 'dataset'\n",
       "    var: 'gene_ids', 'feature_types', 'genome', 'mt', 'ribo'"
      ]
     },
     "execution_count": 48,
     "metadata": {},
     "output_type": "execute_result"
    }
   ],
   "source": [
    "adata_out"
   ]
  },
  {
   "cell_type": "code",
   "execution_count": 49,
   "metadata": {},
   "outputs": [],
   "source": [
    "adata_cleaned_biop = adata_out[adata_out.obs.method=='BIOP']"
   ]
  },
  {
   "cell_type": "code",
   "execution_count": 51,
   "metadata": {},
   "outputs": [],
   "source": [
    "adata_cleaned_biop.write(path_out_full_biopsy)"
   ]
  },
  {
   "cell_type": "code",
   "execution_count": 52,
   "metadata": {},
   "outputs": [],
   "source": [
    "adata_cleaned_brus = adata_out[adata_out.obs.method=='BRUS']"
   ]
  },
  {
   "cell_type": "code",
   "execution_count": 53,
   "metadata": {},
   "outputs": [
    {
     "name": "stderr",
     "output_type": "stream",
     "text": [
      "Trying to set attribute `.obs` of view, copying.\n",
      "... storing 'condition' as categorical\n",
      "Trying to set attribute `.obs` of view, copying.\n",
      "... storing 'study' as categorical\n",
      "Trying to set attribute `.obs` of view, copying.\n",
      "... storing 'dataset' as categorical\n"
     ]
    }
   ],
   "source": [
    "adata_cleaned_brus.write(path_out_full_brush)"
   ]
  },
  {
   "cell_type": "code",
   "execution_count": 54,
   "metadata": {},
   "outputs": [
    {
     "data": {
      "text/plain": [
       "AnnData object with n_obs × n_vars = 100211 × 16859\n",
       "    obs: 'method', 'original_celltype_ann', 'subject_ID', 'sample', 'condition', 'study', 'dataset'\n",
       "    var: 'gene_ids', 'feature_types', 'genome', 'mt', 'ribo'"
      ]
     },
     "execution_count": 54,
     "metadata": {},
     "output_type": "execute_result"
    }
   ],
   "source": [
    "adata_out"
   ]
  },
  {
   "cell_type": "code",
   "execution_count": 55,
   "metadata": {},
   "outputs": [],
   "source": [
    "genes = pd.read_csv(path_genes_to_include)"
   ]
  },
  {
   "cell_type": "code",
   "execution_count": 59,
   "metadata": {},
   "outputs": [
    {
     "data": {
      "text/plain": [
       "array(['FGR', 'CFH', 'HS3ST1', ..., 'CH17-262H11.1', 'RP1-34B20.21',\n",
       "       'TRBV6-2'], dtype=object)"
      ]
     },
     "execution_count": 59,
     "metadata": {},
     "output_type": "execute_result"
    }
   ],
   "source": [
    "genes['gene_symbols'].values"
   ]
  },
  {
   "cell_type": "code",
   "execution_count": 60,
   "metadata": {},
   "outputs": [
    {
     "ename": "AttributeError",
     "evalue": "module 'scanpy.preprocessing' has no attribute 'subset_and_pad_adata'",
     "output_type": "error",
     "traceback": [
      "\u001b[0;31m---------------------------------------------------------------------------\u001b[0m",
      "\u001b[0;31mAttributeError\u001b[0m                            Traceback (most recent call last)",
      "\u001b[0;32m<ipython-input-60-37abac0ce4fd>\u001b[0m in \u001b[0;36m<module>\u001b[0;34m\u001b[0m\n\u001b[0;32m----> 1\u001b[0;31m \u001b[0msc\u001b[0m\u001b[0;34m.\u001b[0m\u001b[0mpp\u001b[0m\u001b[0;34m.\u001b[0m\u001b[0msubset_and_pad_adata\u001b[0m\u001b[0;34m(\u001b[0m\u001b[0mgenes\u001b[0m\u001b[0;34m[\u001b[0m\u001b[0;34m'gene_symbols'\u001b[0m\u001b[0;34m]\u001b[0m\u001b[0;34m.\u001b[0m\u001b[0mvalues\u001b[0m\u001b[0;34m,\u001b[0m \u001b[0madata_out\u001b[0m\u001b[0;34m)\u001b[0m\u001b[0;34m\u001b[0m\u001b[0;34m\u001b[0m\u001b[0m\n\u001b[0m",
      "\u001b[0;31mAttributeError\u001b[0m: module 'scanpy.preprocessing' has no attribute 'subset_and_pad_adata'"
     ]
    }
   ],
   "source": [
    "sc.pp.subset_and_pad_adata(genes['gene_symbols'].values, adata_out)"
   ]
  }
 ],
 "metadata": {
  "kernelspec": {
   "display_name": "Python 3",
   "language": "python",
   "name": "python3"
  },
  "language_info": {
   "codemirror_mode": {
    "name": "ipython",
    "version": 3
   },
   "file_extension": ".py",
   "mimetype": "text/x-python",
   "name": "python",
   "nbconvert_exporter": "python",
   "pygments_lexer": "ipython3",
   "version": "3.7.5"
  }
 },
 "nbformat": 4,
 "nbformat_minor": 4
}
