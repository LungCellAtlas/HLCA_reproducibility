{
 "cells": [
  {
   "cell_type": "markdown",
   "metadata": {},
   "source": [
    "# Data import for Lafyatis_2019/valenzi dataset:"
   ]
  },
  {
   "cell_type": "code",
   "execution_count": 1,
   "metadata": {},
   "outputs": [],
   "source": [
    "import scanpy as sc\n",
    "import anndata as ad\n",
    "import numpy as np\n",
    "import pandas as pd\n",
    "import matplotlib.pyplot as plt\n",
    "import seaborn as sns"
   ]
  },
  {
   "cell_type": "code",
   "execution_count": 2,
   "metadata": {},
   "outputs": [],
   "source": [
    "annotation = pd.read_csv('Valenzi-annotation-export.csv', index_col=[0])"
   ]
  },
  {
   "cell_type": "code",
   "execution_count": 3,
   "metadata": {},
   "outputs": [],
   "source": [
    "data_ids = [\n",
    "    'GSM3666096_SC45NOR', #C1\n",
    "    'GSM3666097_SC56NOR', #C2\n",
    "    'GSM3666098_SC59NOR', #C3\n",
    "    'GSM3666100_SC156NORUP', #C4\n",
    "    'GSM3666099_SC155NORLOW', #C5\n",
    "    'GSM3909673_SC277raw_feature_bc_matrix', #C6\n",
    "    'GSM3666102_SC52SSCUP', #ssc1 \n",
    "    'GSM3666101_SC51SSCLOW', #ssc2\n",
    "    'GSM3666104_SC64SSCUP', #ssc3\n",
    "    'GSM3666103_SC63SSCLOW', #ssc4\n",
    "    'GSM3666106_SC109SSCUP', #ssc5\n",
    "    'GSM3666105_SC108SSCLOW', #ssc6\n",
    "    'GSM3666108_SC136SSCUP', #ssc7\n",
    "    'GSM3666107_SC135SSCLOW', #ssc8\n",
    "    'GSM3909674_SC281raw_feature_bc_matrix', #ssc9/10\n",
    "    'GSM3909675_SC284raw_feature_bc_matrix', #ssc11/12\n",
    "]\n",
    "\n",
    "annot_id = [\n",
    "    'Valenzi_C1',\n",
    "    'Valenzi_C2',\n",
    "    'Valenzi_C3',\n",
    "    'Valenzi_C4',\n",
    "    'Valenzi_C5',\n",
    "    'Valenzi_C6',\n",
    "    'Valenzi_SSc1',\n",
    "    'Valenzi_SSc2',\n",
    "    'Valenzi_SSc3',\n",
    "    'Valenzi_SSc4',\n",
    "    'Valenzi_SSc5',\n",
    "    'Valenzi_SSc6',\n",
    "    'Valenzi_SSc7',\n",
    "    'Valenzi_SSc8',\n",
    "    'Valenzi_SSc_9',\n",
    "    'Valenzi_SSc_10',\n",
    "    'Valenzi_SSc_11',\n",
    "    'Valenzi_SSc_12',\n",
    "]"
   ]
  },
  {
   "cell_type": "code",
   "execution_count": 4,
   "metadata": {},
   "outputs": [
    {
     "name": "stdout",
     "output_type": "stream",
     "text": [
      "GSM3666096_SC45NOR 0\n",
      "GSM3666097_SC56NOR 1\n",
      "GSM3666098_SC59NOR 2\n",
      "GSM3666100_SC156NORUP 3\n",
      "GSM3666099_SC155NORLOW 4\n",
      "GSM3909673_SC277raw_feature_bc_matrix 5\n"
     ]
    },
    {
     "name": "stderr",
     "output_type": "stream",
     "text": [
      "Variable names are not unique. To make them unique, call `.var_names_make_unique`.\n",
      "Variable names are not unique. To make them unique, call `.var_names_make_unique`.\n"
     ]
    },
    {
     "name": "stdout",
     "output_type": "stream",
     "text": [
      "GSM3666102_SC52SSCUP 6\n",
      "GSM3666101_SC51SSCLOW 7\n",
      "GSM3666104_SC64SSCUP 8\n",
      "GSM3666103_SC63SSCLOW 9\n",
      "GSM3666106_SC109SSCUP 10\n",
      "GSM3666105_SC108SSCLOW 11\n",
      "GSM3666108_SC136SSCUP 12\n",
      "GSM3666107_SC135SSCLOW 13\n",
      "GSM3909674_SC281raw_feature_bc_matrix 14\n"
     ]
    },
    {
     "name": "stderr",
     "output_type": "stream",
     "text": [
      "Variable names are not unique. To make them unique, call `.var_names_make_unique`.\n",
      "Variable names are not unique. To make them unique, call `.var_names_make_unique`.\n"
     ]
    },
    {
     "name": "stdout",
     "output_type": "stream",
     "text": [
      "GSM3909675_SC284raw_feature_bc_matrix 16\n"
     ]
    },
    {
     "name": "stderr",
     "output_type": "stream",
     "text": [
      "Variable names are not unique. To make them unique, call `.var_names_make_unique`.\n",
      "Variable names are not unique. To make them unique, call `.var_names_make_unique`.\n"
     ]
    }
   ],
   "source": [
    "adatas = []\n",
    "i = 0\n",
    "for data_id in data_ids:\n",
    "    print(data_id, i)\n",
    "    if 'raw' not in data_id:\n",
    "        adata_tmp = sc.read_mtx(f'data/{data_id}_matrix.mtx').transpose()\n",
    "        barcodes_tmp = pd.read_csv(f'data/{data_id}_barcodes.tsv', header=None, sep='\\t')\n",
    "        genes_tmp = pd.read_csv(f'data/{data_id}_genes.tsv', header=None, sep='\\t')\n",
    "\n",
    "        #Annotate data\n",
    "        barcodes_tmp.rename(columns={0:'barcode'}, inplace=True)\n",
    "        barcodes_tmp.set_index('barcode', inplace=True)\n",
    "        adata_tmp.obs = barcodes_tmp\n",
    "        adata_tmp.obs_names = [\n",
    "            '_'.join([annot_id[i], adata_tmp.obs_names[j]]) \n",
    "            for j in range(len(adata_tmp))\n",
    "        ]\n",
    "        adata_tmp.obs['sample'] = [data_id.split(\"_\")[1]]*adata_tmp.n_obs\n",
    "\n",
    "        genes_tmp.rename(columns={0:'gene_id', 1:'gene_symbol'}, inplace=True)\n",
    "        genes_tmp.set_index('gene_symbol', inplace=True)\n",
    "        adata_tmp.var = genes_tmp\n",
    "        adata_tmp.var_names_make_unique()\n",
    "        adatas.append(adata_tmp)\n",
    "        i += 1\n",
    "    else:\n",
    "        adata_tmp = sc.read_10x_h5(f'data/{data_id}.h5')\n",
    "        adata_tmp.var_names_make_unique()\n",
    "        if '281' not in data_id and '284' not in data_id:\n",
    "            adata_tmp.obs_names = [\n",
    "                    '_'.join([annot_id[i], adata_tmp.obs_names[j]]) \n",
    "                    for j in range(len(adata_tmp))\n",
    "                ]\n",
    "            adata_tmp.obs['sample'] = [data_id.split(\"_\")[1]]*adata_tmp.n_obs\n",
    "            adatas.append(adata_tmp)\n",
    "            i += 1\n",
    "        elif '281' in data_id:\n",
    "            annot_sc281 = pd.read_csv('SC281.csv', index_col=[0])\n",
    "            adata_tmp.obs = annot_sc281.reindex(adata_tmp.obs_names)\n",
    "            #adata_tmp = adata_tmp.var_names_make_unique()\n",
    "            adata_tmp = adata_tmp[~np.any(adata_tmp.obs.isna(), axis=1)]\n",
    "            adata_tmp = adata_tmp[~adata_tmp.obs['x'].isin(['Negative', 'Doublet'])]\n",
    "            adata_tmp_hto3 = adata_tmp[adata_tmp.obs['x'].str.contains('HTO3')]\n",
    "            adata_tmp_hto4 = adata_tmp[adata_tmp.obs['x'].str.contains('HTO4')]\n",
    "            adata_tmp_hto3.obs_names = [\n",
    "                '_'.join([annot_id[i], adata_tmp_hto3.obs_names[j]]) \n",
    "                for j in range(len(adata_tmp_hto3))\n",
    "            ]\n",
    "            adata_tmp_hto4.obs_names = [\n",
    "                '_'.join([annot_id[i+1], adata_tmp_hto4.obs_names[j]]) \n",
    "                for j in range(len(adata_tmp_hto4))\n",
    "            ]\n",
    "            adata_tmp_hto3.obs['sample'] = [data_id.split(\"_\")[1] + '_HTO3']*adata_tmp_hto3.n_obs\n",
    "            adata_tmp_hto4.obs['sample'] = [data_id.split(\"_\")[1] + '_HTO4']*adata_tmp_hto4.n_obs\n",
    "            adatas.append(adata_tmp_hto3)\n",
    "            adatas.append(adata_tmp_hto4)\n",
    "            i += 2\n",
    "        elif '284' in data_id:\n",
    "            annot_sc284 = pd.read_csv('SC284.csv', index_col=[0])\n",
    "            adata_tmp.obs = annot_sc284.reindex(adata_tmp.obs_names)\n",
    "            #adata_tmp = adata_tmp.var_names_make_unique()\n",
    "            adata_tmp = adata_tmp[~np.any(adata_tmp.obs.isna(), axis=1)]\n",
    "            adata_tmp = adata_tmp[~adata_tmp.obs['x'].isin(['Negative', 'Doublet'])]\n",
    "            adata_tmp_hto5 = adata_tmp[adata_tmp.obs['x'].str.contains('HTO5')]\n",
    "            adata_tmp_hto6 = adata_tmp[adata_tmp.obs['x'].str.contains('HTO5')]\n",
    "            adata_tmp_hto5.obs_names = [\n",
    "                '_'.join([annot_id[i], adata_tmp_hto5.obs_names[j]]) \n",
    "                for j in range(len(adata_tmp_hto5))\n",
    "            ]\n",
    "            adata_tmp_hto6.obs_names = [\n",
    "                '_'.join([annot_id[i+1], adata_tmp_hto6.obs_names[j]]) \n",
    "                for j in range(len(adata_tmp_hto6))\n",
    "            ]\n",
    "            adata_tmp_hto5.obs['sample'] = [data_id.split(\"_\")[1] + '_HTO5']*adata_tmp_hto5.n_obs\n",
    "            adata_tmp_hto6.obs['sample'] = [data_id.split(\"_\")[1] + '_HTO6']*adata_tmp_hto6.n_obs\n",
    "            adatas.append(adata_tmp_hto5)\n",
    "            adatas.append(adata_tmp_hto6)\n",
    "            i += 2"
   ]
  },
  {
   "cell_type": "code",
   "execution_count": 5,
   "metadata": {},
   "outputs": [],
   "source": [
    "adata = ad.concat(adatas)"
   ]
  },
  {
   "cell_type": "code",
   "execution_count": 6,
   "metadata": {},
   "outputs": [],
   "source": [
    "adata.obs_names = [x[:-2] for x in adata.obs_names]"
   ]
  },
  {
   "cell_type": "code",
   "execution_count": 7,
   "metadata": {},
   "outputs": [],
   "source": [
    "adata = adata[adata.obs_names.isin(annotation.index)]\n",
    "adata.obs = annotation.reindex(adata.obs_names)"
   ]
  },
  {
   "cell_type": "code",
   "execution_count": 8,
   "metadata": {},
   "outputs": [],
   "source": [
    "adata.obs['original_celltype_ann'] = adata.obs['cell_type_3'].map(\n",
    "    {\n",
    "        'AT1' : 'AT1',\n",
    "        'AT1,AT2' : 'Alveolar epithelium',\n",
    "        'AT1,AT2,HHIP+ AT2' : 'Alveolar epithelium',\n",
    "        'AT2' : 'AT2',\n",
    "        'AT2,Basal' : 'REMOVE',\n",
    "        'AT2,Club' : 'REMOVE',\n",
    "        'AT2,HHIP+ AT2' : 'AT2',\n",
    "        'AT2,Secr' : 'REMOVE',\n",
    "        'Aerocyte' : 'Aerocyte',\n",
    "        'Aerocyte,Artery' : 'Arterial aerocyte',\n",
    "        'Aerocyte,Vein' : 'Venous aerocyte',\n",
    "        'Artery' : 'Arterial EC',\n",
    "        'B cell lineage' : 'B cell',\n",
    "        'B cell lineage,DC,Mac' : 'REMOVE',\n",
    "        'Basal' : 'Basal',\n",
    "        'Basal,Secr' : 'Airway epithelium',\n",
    "        'Ciliated' : 'Ciliated',\n",
    "        'Ciliated,Low quality' : 'REMOVE',\n",
    "        'Ciliated,Low quality,Mac' : 'REMOVE',\n",
    "        'Cycling cells' : 'Cycling cell',\n",
    "        'DASC' : 'Disease-associated stromal cell',\n",
    "        'DC' : 'DC',\n",
    "        'DC,Gnlc,Mac' : 'REMOVE',\n",
    "        'DC,Mac' : 'Myeloid',\n",
    "        'Doublets' : 'REMOVE',\n",
    "        'Endothelial' : 'Endothelial cell',\n",
    "        'Endothelial,Lymphatics' : 'Lymphatic EC',\n",
    "        'Endothelial,Lymphatics,Stromal' : 'REMOVE',\n",
    "        'Erythrocytes' : 'Erythrocytes',\n",
    "        'Fibroblast' : 'Fibroblast',\n",
    "        'Fibroblast,SMC' : 'Stromal cell',\n",
    "        'Gnlc' : 'Granulocytes',\n",
    "        'HHIP+ AT2' : 'HHIP+ AT2',\n",
    "        'Immune' : 'REMOVE',\n",
    "        'Low quality' : 'REMOVE',\n",
    "        'Low quality,Mac' : 'REMOVE',\n",
    "        'Low quality,T cells' : 'REMOVE',\n",
    "        'Lymphatics' : 'Lymphatics',\n",
    "        'Mac' : 'Macrophage',\n",
    "        'Mac,Mo' : 'Myeloid',\n",
    "        'Mast' : 'Mast',\n",
    "        'Mo' : 'Monocyte',\n",
    "        'MyoF' : 'Myofibroblast',\n",
    "        'NK cells' : 'NK cell',\n",
    "        'Pericyte' : 'Pericyte',\n",
    "        'SMC' : 'Smooth muscle cell',\n",
    "        'Secr' : 'Secretory cell',\n",
    "        'Stromal' : 'Stromal cell',\n",
    "        'T cells' : 'T cell',\n",
    "        'Vein' : 'Venous endothelial cell',\n",
    "    }\n",
    ")"
   ]
  },
  {
   "cell_type": "code",
   "execution_count": 9,
   "metadata": {},
   "outputs": [
    {
     "data": {
      "text/plain": [
       "cell_type_2                     original_celltype_ann          \n",
       "AT1                             AT1                                  711\n",
       "AT1,AT2                         Alveolar epithelium                 1500\n",
       "AT2                             AT2                                 1902\n",
       "                                HHIP+ AT2                            317\n",
       "AT2,Basal                       REMOVE                               184\n",
       "AT2,Club                        REMOVE                               343\n",
       "AT2,Secr                        REMOVE                                83\n",
       "Basal                           Basal                                232\n",
       "Basal,Secr                      Airway epithelium                    474\n",
       "Ciliated                        Ciliated                            3149\n",
       "Ciliated,Low quality            REMOVE                               101\n",
       "Ciliated,Low quality,Myeloid    REMOVE                                70\n",
       "Cycling cells                   Cycling cell                         247\n",
       "DASC                            Disease-associated stromal cell      247\n",
       "Doublets                        REMOVE                               412\n",
       "Endothelial                     Endothelial cell                    2265\n",
       "                                Aerocyte                            1138\n",
       "                                Arterial aerocyte                    665\n",
       "                                Venous endothelial cell              468\n",
       "                                Venous aerocyte                      183\n",
       "                                Arterial EC                           53\n",
       "Endothelial,Lymphatics          Lymphatic EC                         506\n",
       "Endothelial,Lymphatics,Stromal  REMOVE                               115\n",
       "Erythrocytes                    Erythrocytes                          18\n",
       "Fibroblast                      Fibroblast                          1588\n",
       "                                Myofibroblast                         72\n",
       "Fibroblast,SMC                  Stromal cell                         152\n",
       "Immune                          REMOVE                               180\n",
       "Low quality                     REMOVE                             11716\n",
       "Low quality,Lymphoid            REMOVE                              1010\n",
       "Low quality,Myeloid             REMOVE                               572\n",
       "Lymphatics                      Lymphatics                           554\n",
       "Lymphoid                        T cell                              7594\n",
       "                                NK cell                             1101\n",
       "                                B cell                               296\n",
       "Lymphoid,Myeloid                REMOVE                               322\n",
       "Myeloid                         Macrophage                         19913\n",
       "                                Monocyte                            5090\n",
       "                                Myeloid                             2240\n",
       "                                Granulocytes                        1441\n",
       "                                Mast                                 873\n",
       "                                REMOVE                               855\n",
       "                                DC                                   325\n",
       "Pericyte                        Pericyte                             840\n",
       "SMC                             Smooth muscle cell                   210\n",
       "Secr                            Secretory cell                       605\n",
       "Stromal                         Stromal cell                         862\n",
       "Name: original_celltype_ann, dtype: int64"
      ]
     },
     "execution_count": 9,
     "metadata": {},
     "output_type": "execute_result"
    }
   ],
   "source": [
    "adata.obs.groupby('cell_type_2')['original_celltype_ann'].value_counts()"
   ]
  },
  {
   "cell_type": "code",
   "execution_count": 10,
   "metadata": {},
   "outputs": [],
   "source": [
    "adata.obs['study'] = 'Lafyatis2019'\n",
    "adata.obs['dataset'] = 'Lafyatis2019'\n",
    "adata.obs['condition'] = adata.obs['Status']\n",
    "adata.obs['subject_ID'] = adata.obs['Patient']\n",
    "adata.obs['sample'] = adata.obs['Sample']\n",
    "adata.obs['sex'] = adata.obs['Sex']\n",
    "adata.obs['age'] = adata.obs['Age']\n",
    "\n",
    "for col in adata.obs.columns:\n",
    "    if col not in ['study', \n",
    "                   'dataset', \n",
    "                   'condition',\n",
    "                   'original_celltype_ann',\n",
    "                   'subject_ID',\n",
    "                   'sex',\n",
    "                   'smoking_status',\n",
    "                   'age',\n",
    "                   'sample'\n",
    "                  ]:\n",
    "        del adata.obs[col]"
   ]
  },
  {
   "cell_type": "code",
   "execution_count": 11,
   "metadata": {},
   "outputs": [],
   "source": [
    "adata = adata[adata.obs['condition'] == 'SSc']\n",
    "adata = adata[adata.obs['original_celltype_ann'] != 'REMOVE']"
   ]
  },
  {
   "cell_type": "code",
   "execution_count": 12,
   "metadata": {},
   "outputs": [],
   "source": [
    "genes_subset = pd.read_csv('genes_for_mapping.csv')"
   ]
  },
  {
   "cell_type": "code",
   "execution_count": 13,
   "metadata": {},
   "outputs": [
    {
     "name": "stdout",
     "output_type": "stream",
     "text": [
      "not all genes were recovered, filling in 0 counts for 92 missing genes...\n"
     ]
    }
   ],
   "source": [
    "import preprocessing as pp\n",
    "adata_sub = pp.subset_and_pad_adata(genes_subset, adata)"
   ]
  },
  {
   "cell_type": "code",
   "execution_count": 14,
   "metadata": {},
   "outputs": [
    {
     "name": "stderr",
     "output_type": "stream",
     "text": [
      "/home/icb/carlo.dedonno/anaconda3/envs/cpi/lib/python3.8/site-packages/anndata/_core/anndata.py:1207: ImplicitModificationWarning: Initializing view as actual.\n",
      "  warnings.warn(\n",
      "Trying to set attribute `.obs` of view, copying.\n",
      "... storing 'original_celltype_ann' as categorical\n",
      "Trying to set attribute `.obs` of view, copying.\n",
      "... storing 'study' as categorical\n",
      "Trying to set attribute `.obs` of view, copying.\n",
      "... storing 'dataset' as categorical\n",
      "Trying to set attribute `.obs` of view, copying.\n",
      "... storing 'condition' as categorical\n",
      "Trying to set attribute `.obs` of view, copying.\n",
      "... storing 'subject_ID' as categorical\n",
      "Trying to set attribute `.obs` of view, copying.\n",
      "... storing 'sample' as categorical\n",
      "Trying to set attribute `.obs` of view, copying.\n",
      "... storing 'sex' as categorical\n",
      "... storing 'original_celltype_ann' as categorical\n",
      "... storing 'study' as categorical\n",
      "... storing 'dataset' as categorical\n",
      "... storing 'condition' as categorical\n",
      "... storing 'subject_ID' as categorical\n",
      "... storing 'sample' as categorical\n",
      "... storing 'sex' as categorical\n",
      "... storing 'gene_symbols' as categorical\n"
     ]
    }
   ],
   "source": [
    "adata.write('valenzi.h5ad')\n",
    "adata_sub.write('valenzi_sub.h5ad')"
   ]
  },
  {
   "cell_type": "code",
   "execution_count": 15,
   "metadata": {},
   "outputs": [
    {
     "data": {
      "text/plain": [
       "AnnData object with n_obs × n_vars = 27297 × 22164\n",
       "    obs: 'original_celltype_ann', 'study', 'dataset', 'condition', 'subject_ID', 'sample', 'sex', 'age'"
      ]
     },
     "execution_count": 15,
     "metadata": {},
     "output_type": "execute_result"
    }
   ],
   "source": [
    "adata"
   ]
  },
  {
   "cell_type": "code",
   "execution_count": null,
   "metadata": {},
   "outputs": [],
   "source": []
  }
 ],
 "metadata": {
  "kernelspec": {
   "display_name": "Python 3",
   "language": "python",
   "name": "python3"
  },
  "language_info": {
   "codemirror_mode": {
    "name": "ipython",
    "version": 3
   },
   "file_extension": ".py",
   "mimetype": "text/x-python",
   "name": "python",
   "nbconvert_exporter": "python",
   "pygments_lexer": "ipython3",
   "version": "3.7.5"
  }
 },
 "nbformat": 4,
 "nbformat_minor": 5
}
