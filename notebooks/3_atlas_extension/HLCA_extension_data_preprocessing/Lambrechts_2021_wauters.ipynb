{
 "cells": [
  {
   "cell_type": "markdown",
   "metadata": {},
   "source": [
    "# Data import for Lambrechts_2021/Wauters dataset:"
   ]
  },
  {
   "cell_type": "code",
   "execution_count": 1,
   "metadata": {},
   "outputs": [],
   "source": [
    "import scanpy as sc\n",
    "import numpy as np\n",
    "import pandas as pd"
   ]
  },
  {
   "cell_type": "code",
   "execution_count": 2,
   "metadata": {},
   "outputs": [],
   "source": [
    "adata = sc.read('../../../data/HLCA_extended/extension_datasets/ready/full/wouters.h5ad')\n",
    "extra_labs_adata = sc.read('../../../data/HLCA_extended/extension_datasets/ready/full/wouters_labs.h5ad')\n"
   ]
  },
  {
   "cell_type": "code",
   "execution_count": 3,
   "metadata": {},
   "outputs": [
    {
     "data": {
      "text/plain": [
       "AnnData object with n_obs × n_vars = 65166 × 33538\n",
       "    obs: 'subject_ID', 'condition', 'original_celltype_ann', 'study', 'dataset', 'sample'"
      ]
     },
     "execution_count": 3,
     "metadata": {},
     "output_type": "execute_result"
    }
   ],
   "source": [
    "adata"
   ]
  },
  {
   "cell_type": "code",
   "execution_count": 4,
   "metadata": {},
   "outputs": [],
   "source": [
    "adata.obs['patient_type'] = extra_labs_adata.obs['PatientType']"
   ]
  },
  {
   "cell_type": "code",
   "execution_count": 5,
   "metadata": {},
   "outputs": [
    {
     "data": {
      "text/plain": [
       "Index(['MIR1302-2HG', 'FAM138A', 'OR4F5', 'AL627309.1', 'AL627309.3',\n",
       "       'AL627309.2', 'AL627309.4', 'AL732372.1', 'OR4F29', 'AC114498.1',\n",
       "       ...\n",
       "       'AC007325.2', 'BX072566.1', 'AL354822.1', 'AC023491.2', 'AC004556.1',\n",
       "       'AC233755.2', 'AC233755.1', 'AC240274.1', 'AC213203.1', 'FAM231C'],\n",
       "      dtype='object', length=33538)"
      ]
     },
     "execution_count": 5,
     "metadata": {},
     "output_type": "execute_result"
    },
    {
     "data": {
      "text/plain": [
       "Index(['BAL009_AAACCTGAGCTAGCCC-1', 'BAL009_AAACCTGTCACATACG-1',\n",
       "       'BAL009_AAACGGGAGGGCTTCC-1', 'BAL009_AACCGCGAGGTCATCT-1',\n",
       "       'BAL009_AACCGCGGTCGCCATG-1', 'BAL009_AACCGCGTCGTATCAG-1',\n",
       "       'BAL009_AACGTTGTCACCTCGT-1', 'BAL009_AACTCAGCAACCGCCA-1',\n",
       "       'BAL009_AACTCAGTCTCCAACC-1', 'BAL009_AACTCCCAGCTAGCCC-1',\n",
       "       ...\n",
       "       'BAL029_CTAGAGTAGCCCAATT-1', 'BAL029_CTCGAAACAATGGATA-1',\n",
       "       'BAL029_CTGTGCTTCAATACCG-1', 'BAL029_GCAAACTGTTTGACAC-1',\n",
       "       'BAL029_GCACATACACGAAAGC-1', 'BAL029_GGGCATCTCTAACTCT-1',\n",
       "       'BAL029_TATGCCCTCATGGTCA-1', 'BAL029_TGCTGCTAGCGACGTA-1',\n",
       "       'BAL029_TTAGGACTCAGCAACT-1', 'BAL029_TTAGTTCTCAGAGCTT-1'],\n",
       "      dtype='object', name='Cell', length=65166)"
      ]
     },
     "execution_count": 5,
     "metadata": {},
     "output_type": "execute_result"
    }
   ],
   "source": [
    "adata.var_names\n",
    "adata.obs_names"
   ]
  },
  {
   "cell_type": "code",
   "execution_count": 6,
   "metadata": {
    "scrolled": true,
    "tags": []
   },
   "outputs": [
    {
     "name": "stdout",
     "output_type": "stream",
     "text": [
      "subject_ID\n"
     ]
    },
    {
     "data": {
      "text/plain": [
       "BAL019    11574\n",
       "BAL010     6395\n",
       "BAL031     3795\n",
       "BAL002     3775\n",
       "BAL021     2593\n",
       "BAL024     2267\n",
       "BAL003     2117\n",
       "BAL026     2111\n",
       "BAL015     1989\n",
       "BAL013     1950\n",
       "BAL014     1939\n",
       "BAL001     1884\n",
       "BAL027     1487\n",
       "BAL022     1482\n",
       "BAL020     1408\n",
       "BAL016     1399\n",
       "BAL029     1278\n",
       "BAL023     1224\n",
       "BAL009     1212\n",
       "BAL034     1199\n",
       "BAL028     1183\n",
       "BAL025     1175\n",
       "BAL035     1144\n",
       "BAL017     1128\n",
       "BAL038     1097\n",
       "BAL039     1017\n",
       "BAL033     1005\n",
       "BAL037      914\n",
       "BAL040      853\n",
       "BAL032      582\n",
       "BAL018      504\n",
       "BAL012      498\n",
       "BAL011      448\n",
       "BAL030      310\n",
       "BAL036      230\n",
       "Name: subject_ID, dtype: int64"
      ]
     },
     "execution_count": 6,
     "metadata": {},
     "output_type": "execute_result"
    },
    {
     "name": "stdout",
     "output_type": "stream",
     "text": [
      "condition\n"
     ]
    },
    {
     "data": {
      "text/plain": [
       "COVID19    33243\n",
       "control    31923\n",
       "Name: condition, dtype: int64"
      ]
     },
     "execution_count": 6,
     "metadata": {},
     "output_type": "execute_result"
    },
    {
     "name": "stdout",
     "output_type": "stream",
     "text": [
      "original_celltype_ann\n"
     ]
    },
    {
     "data": {
      "text/plain": [
       "Md_macrophage          22142\n",
       "Neutrophil              9139\n",
       "Ciliated                7429\n",
       "Monocyte                5944\n",
       "Secretory               4194\n",
       "Squamous_KRT13          3543\n",
       "CD4_Tcell               2975\n",
       "Alveolar_macrophage     2015\n",
       "CD8_Tcell               1481\n",
       "Plasma_cell             1393\n",
       "Basal                   1241\n",
       "AT2                      897\n",
       "NK                       796\n",
       "Inflammatory             651\n",
       "B_cell                   485\n",
       "cDC                      400\n",
       "Mast_cell                340\n",
       "pDC                      101\n",
       "Name: original_celltype_ann, dtype: int64"
      ]
     },
     "execution_count": 6,
     "metadata": {},
     "output_type": "execute_result"
    },
    {
     "name": "stdout",
     "output_type": "stream",
     "text": [
      "study\n"
     ]
    },
    {
     "data": {
      "text/plain": [
       "Lambrechts2021    65166\n",
       "Name: study, dtype: int64"
      ]
     },
     "execution_count": 6,
     "metadata": {},
     "output_type": "execute_result"
    },
    {
     "name": "stdout",
     "output_type": "stream",
     "text": [
      "dataset\n"
     ]
    },
    {
     "data": {
      "text/plain": [
       "Lambrechts2021    65166\n",
       "Name: dataset, dtype: int64"
      ]
     },
     "execution_count": 6,
     "metadata": {},
     "output_type": "execute_result"
    },
    {
     "name": "stdout",
     "output_type": "stream",
     "text": [
      "sample\n"
     ]
    },
    {
     "data": {
      "text/plain": [
       "BAL019    11574\n",
       "BAL010     6395\n",
       "BAL031     3795\n",
       "BAL002     3775\n",
       "BAL021     2593\n",
       "BAL024     2267\n",
       "BAL003     2117\n",
       "BAL026     2111\n",
       "BAL015     1989\n",
       "BAL013     1950\n",
       "BAL014     1939\n",
       "BAL001     1884\n",
       "BAL027     1487\n",
       "BAL022     1482\n",
       "BAL020     1408\n",
       "BAL016     1399\n",
       "BAL029     1278\n",
       "BAL023     1224\n",
       "BAL009     1212\n",
       "BAL034     1199\n",
       "BAL028     1183\n",
       "BAL025     1175\n",
       "BAL035     1144\n",
       "BAL017     1128\n",
       "BAL038     1097\n",
       "BAL039     1017\n",
       "BAL033     1005\n",
       "BAL037      914\n",
       "BAL040      853\n",
       "BAL032      582\n",
       "BAL018      504\n",
       "BAL012      498\n",
       "BAL011      448\n",
       "BAL030      310\n",
       "BAL036      230\n",
       "Name: sample, dtype: int64"
      ]
     },
     "execution_count": 6,
     "metadata": {},
     "output_type": "execute_result"
    },
    {
     "name": "stdout",
     "output_type": "stream",
     "text": [
      "patient_type\n"
     ]
    },
    {
     "data": {
      "text/plain": [
       "ICU     33001\n",
       "Ward    32165\n",
       "Name: patient_type, dtype: int64"
      ]
     },
     "execution_count": 6,
     "metadata": {},
     "output_type": "execute_result"
    }
   ],
   "source": [
    "for i in adata.obs.columns:\n",
    "    print(i)\n",
    "    adata.obs[i].value_counts()"
   ]
  },
  {
   "cell_type": "code",
   "execution_count": 7,
   "metadata": {
    "scrolled": true,
    "tags": []
   },
   "outputs": [
    {
     "data": {
      "text/html": [
       "<div>\n",
       "<style scoped>\n",
       "    .dataframe tbody tr th:only-of-type {\n",
       "        vertical-align: middle;\n",
       "    }\n",
       "\n",
       "    .dataframe tbody tr th {\n",
       "        vertical-align: top;\n",
       "    }\n",
       "\n",
       "    .dataframe thead th {\n",
       "        text-align: right;\n",
       "    }\n",
       "</style>\n",
       "<table border=\"1\" class=\"dataframe\">\n",
       "  <thead>\n",
       "    <tr style=\"text-align: right;\">\n",
       "      <th>condition</th>\n",
       "      <th>COVID19</th>\n",
       "      <th>control</th>\n",
       "    </tr>\n",
       "    <tr>\n",
       "      <th>subject_ID</th>\n",
       "      <th></th>\n",
       "      <th></th>\n",
       "    </tr>\n",
       "  </thead>\n",
       "  <tbody>\n",
       "    <tr>\n",
       "      <th>BAL001</th>\n",
       "      <td>0</td>\n",
       "      <td>1884</td>\n",
       "    </tr>\n",
       "    <tr>\n",
       "      <th>BAL002</th>\n",
       "      <td>0</td>\n",
       "      <td>3775</td>\n",
       "    </tr>\n",
       "    <tr>\n",
       "      <th>BAL003</th>\n",
       "      <td>0</td>\n",
       "      <td>2117</td>\n",
       "    </tr>\n",
       "    <tr>\n",
       "      <th>BAL009</th>\n",
       "      <td>1212</td>\n",
       "      <td>0</td>\n",
       "    </tr>\n",
       "    <tr>\n",
       "      <th>BAL010</th>\n",
       "      <td>0</td>\n",
       "      <td>6395</td>\n",
       "    </tr>\n",
       "    <tr>\n",
       "      <th>BAL011</th>\n",
       "      <td>0</td>\n",
       "      <td>448</td>\n",
       "    </tr>\n",
       "    <tr>\n",
       "      <th>BAL012</th>\n",
       "      <td>498</td>\n",
       "      <td>0</td>\n",
       "    </tr>\n",
       "    <tr>\n",
       "      <th>BAL013</th>\n",
       "      <td>1950</td>\n",
       "      <td>0</td>\n",
       "    </tr>\n",
       "    <tr>\n",
       "      <th>BAL014</th>\n",
       "      <td>1939</td>\n",
       "      <td>0</td>\n",
       "    </tr>\n",
       "    <tr>\n",
       "      <th>BAL015</th>\n",
       "      <td>1989</td>\n",
       "      <td>0</td>\n",
       "    </tr>\n",
       "    <tr>\n",
       "      <th>BAL016</th>\n",
       "      <td>1399</td>\n",
       "      <td>0</td>\n",
       "    </tr>\n",
       "    <tr>\n",
       "      <th>BAL017</th>\n",
       "      <td>0</td>\n",
       "      <td>1128</td>\n",
       "    </tr>\n",
       "    <tr>\n",
       "      <th>BAL018</th>\n",
       "      <td>0</td>\n",
       "      <td>504</td>\n",
       "    </tr>\n",
       "    <tr>\n",
       "      <th>BAL019</th>\n",
       "      <td>0</td>\n",
       "      <td>11574</td>\n",
       "    </tr>\n",
       "    <tr>\n",
       "      <th>BAL020</th>\n",
       "      <td>1408</td>\n",
       "      <td>0</td>\n",
       "    </tr>\n",
       "    <tr>\n",
       "      <th>BAL021</th>\n",
       "      <td>2593</td>\n",
       "      <td>0</td>\n",
       "    </tr>\n",
       "    <tr>\n",
       "      <th>BAL022</th>\n",
       "      <td>1482</td>\n",
       "      <td>0</td>\n",
       "    </tr>\n",
       "    <tr>\n",
       "      <th>BAL023</th>\n",
       "      <td>1224</td>\n",
       "      <td>0</td>\n",
       "    </tr>\n",
       "    <tr>\n",
       "      <th>BAL024</th>\n",
       "      <td>2267</td>\n",
       "      <td>0</td>\n",
       "    </tr>\n",
       "    <tr>\n",
       "      <th>BAL025</th>\n",
       "      <td>1175</td>\n",
       "      <td>0</td>\n",
       "    </tr>\n",
       "    <tr>\n",
       "      <th>BAL026</th>\n",
       "      <td>2111</td>\n",
       "      <td>0</td>\n",
       "    </tr>\n",
       "    <tr>\n",
       "      <th>BAL027</th>\n",
       "      <td>1487</td>\n",
       "      <td>0</td>\n",
       "    </tr>\n",
       "    <tr>\n",
       "      <th>BAL028</th>\n",
       "      <td>0</td>\n",
       "      <td>1183</td>\n",
       "    </tr>\n",
       "    <tr>\n",
       "      <th>BAL029</th>\n",
       "      <td>0</td>\n",
       "      <td>1278</td>\n",
       "    </tr>\n",
       "    <tr>\n",
       "      <th>BAL030</th>\n",
       "      <td>0</td>\n",
       "      <td>310</td>\n",
       "    </tr>\n",
       "    <tr>\n",
       "      <th>BAL031</th>\n",
       "      <td>3795</td>\n",
       "      <td>0</td>\n",
       "    </tr>\n",
       "    <tr>\n",
       "      <th>BAL032</th>\n",
       "      <td>582</td>\n",
       "      <td>0</td>\n",
       "    </tr>\n",
       "    <tr>\n",
       "      <th>BAL033</th>\n",
       "      <td>1005</td>\n",
       "      <td>0</td>\n",
       "    </tr>\n",
       "    <tr>\n",
       "      <th>BAL034</th>\n",
       "      <td>1199</td>\n",
       "      <td>0</td>\n",
       "    </tr>\n",
       "    <tr>\n",
       "      <th>BAL035</th>\n",
       "      <td>1144</td>\n",
       "      <td>0</td>\n",
       "    </tr>\n",
       "    <tr>\n",
       "      <th>BAL036</th>\n",
       "      <td>0</td>\n",
       "      <td>230</td>\n",
       "    </tr>\n",
       "    <tr>\n",
       "      <th>BAL037</th>\n",
       "      <td>914</td>\n",
       "      <td>0</td>\n",
       "    </tr>\n",
       "    <tr>\n",
       "      <th>BAL038</th>\n",
       "      <td>0</td>\n",
       "      <td>1097</td>\n",
       "    </tr>\n",
       "    <tr>\n",
       "      <th>BAL039</th>\n",
       "      <td>1017</td>\n",
       "      <td>0</td>\n",
       "    </tr>\n",
       "    <tr>\n",
       "      <th>BAL040</th>\n",
       "      <td>853</td>\n",
       "      <td>0</td>\n",
       "    </tr>\n",
       "  </tbody>\n",
       "</table>\n",
       "</div>"
      ],
      "text/plain": [
       "condition   COVID19  control\n",
       "subject_ID                  \n",
       "BAL001            0     1884\n",
       "BAL002            0     3775\n",
       "BAL003            0     2117\n",
       "BAL009         1212        0\n",
       "BAL010            0     6395\n",
       "BAL011            0      448\n",
       "BAL012          498        0\n",
       "BAL013         1950        0\n",
       "BAL014         1939        0\n",
       "BAL015         1989        0\n",
       "BAL016         1399        0\n",
       "BAL017            0     1128\n",
       "BAL018            0      504\n",
       "BAL019            0    11574\n",
       "BAL020         1408        0\n",
       "BAL021         2593        0\n",
       "BAL022         1482        0\n",
       "BAL023         1224        0\n",
       "BAL024         2267        0\n",
       "BAL025         1175        0\n",
       "BAL026         2111        0\n",
       "BAL027         1487        0\n",
       "BAL028            0     1183\n",
       "BAL029            0     1278\n",
       "BAL030            0      310\n",
       "BAL031         3795        0\n",
       "BAL032          582        0\n",
       "BAL033         1005        0\n",
       "BAL034         1199        0\n",
       "BAL035         1144        0\n",
       "BAL036            0      230\n",
       "BAL037          914        0\n",
       "BAL038            0     1097\n",
       "BAL039         1017        0\n",
       "BAL040          853        0"
      ]
     },
     "execution_count": 7,
     "metadata": {},
     "output_type": "execute_result"
    }
   ],
   "source": [
    "pd.crosstab(adata.obs.subject_ID, adata.obs.condition)"
   ]
  },
  {
   "cell_type": "code",
   "execution_count": 8,
   "metadata": {},
   "outputs": [],
   "source": [
    "adata.obs['condition'] = ['COVID-19' if cond == 'COVID19' else 'non-COVID pneumonia' for cond in adata.obs['condition']]"
   ]
  },
  {
   "cell_type": "code",
   "execution_count": 9,
   "metadata": {},
   "outputs": [
    {
     "data": {
      "text/plain": [
       "COVID-19               33243\n",
       "non-COVID pneumonia    31923\n",
       "Name: condition, dtype: int64"
      ]
     },
     "execution_count": 9,
     "metadata": {},
     "output_type": "execute_result"
    }
   ],
   "source": [
    "adata.obs.condition.value_counts()"
   ]
  },
  {
   "cell_type": "markdown",
   "metadata": {},
   "source": [
    "# Write updated anndata file"
   ]
  },
  {
   "cell_type": "code",
   "execution_count": 10,
   "metadata": {},
   "outputs": [
    {
     "name": "stderr",
     "output_type": "stream",
     "text": [
      "... storing 'condition' as categorical\n"
     ]
    }
   ],
   "source": [
    "adata.write('../../../data/HLCA_extended/extension_datasets/ready/full/wouters.h5ad')"
   ]
  },
  {
   "cell_type": "markdown",
   "metadata": {},
   "source": [
    "# Subset data"
   ]
  },
  {
   "cell_type": "code",
   "execution_count": 11,
   "metadata": {},
   "outputs": [],
   "source": [
    "gene_set = pd.read_csv('genes_for_mapping.csv')"
   ]
  },
  {
   "cell_type": "code",
   "execution_count": 12,
   "metadata": {},
   "outputs": [
    {
     "name": "stdout",
     "output_type": "stream",
     "text": [
      "/mnt/znas/icb_zstore01/groups/ml01/workspace/hlca_lisa.sikkema_malte.luecken/scripts\n"
     ]
    }
   ],
   "source": [
    "cd ../scripts"
   ]
  },
  {
   "cell_type": "code",
   "execution_count": 13,
   "metadata": {},
   "outputs": [],
   "source": [
    "import preprocessing as pp"
   ]
  },
  {
   "cell_type": "code",
   "execution_count": 14,
   "metadata": {},
   "outputs": [
    {
     "name": "stdout",
     "output_type": "stream",
     "text": [
      "/mnt/znas/icb_zstore01/groups/ml01/workspace/hlca_lisa.sikkema_malte.luecken/query_datasets\n"
     ]
    }
   ],
   "source": [
    "cd ../query_datasets/"
   ]
  },
  {
   "cell_type": "code",
   "execution_count": 15,
   "metadata": {},
   "outputs": [
    {
     "name": "stderr",
     "output_type": "stream",
     "text": [
      "/home/icb/malte.luecken/anaconda3/lib/python3.7/site-packages/pandas/core/arrays/categorical.py:2492: FutureWarning: The `inplace` parameter in pandas.Categorical.remove_unused_categories is deprecated and will be removed in a future version.\n",
      "  res = method(*args, **kwargs)\n"
     ]
    },
    {
     "name": "stdout",
     "output_type": "stream",
     "text": [
      "not all genes were recovered, filling in 0 counts for 92 missing genes...\n"
     ]
    }
   ],
   "source": [
    "adata_sub = pp.subset_and_pad_adata(gene_set, adata)"
   ]
  },
  {
   "cell_type": "code",
   "execution_count": 16,
   "metadata": {},
   "outputs": [
    {
     "data": {
      "text/plain": [
       "AnnData object with n_obs × n_vars = 65166 × 2000\n",
       "    obs: 'subject_ID', 'condition', 'original_celltype_ann', 'study', 'dataset', 'sample', 'patient_type'\n",
       "    var: 'gene_symbols', 'ensembl'"
      ]
     },
     "execution_count": 16,
     "metadata": {},
     "output_type": "execute_result"
    }
   ],
   "source": [
    "adata_sub"
   ]
  },
  {
   "cell_type": "code",
   "execution_count": 17,
   "metadata": {},
   "outputs": [
    {
     "name": "stderr",
     "output_type": "stream",
     "text": [
      "... storing 'gene_symbols' as categorical\n"
     ]
    }
   ],
   "source": [
    "adata_sub.write('../../../data/HLCA_extended/extension_datasets/ready/subsetted/wouters_sub.h5ad')"
   ]
  }
 ],
 "metadata": {
  "kernelspec": {
   "display_name": "Python 3",
   "language": "python",
   "name": "python3"
  },
  "language_info": {
   "codemirror_mode": {
    "name": "ipython",
    "version": 3
   },
   "file_extension": ".py",
   "mimetype": "text/x-python",
   "name": "python",
   "nbconvert_exporter": "python",
   "pygments_lexer": "ipython3",
   "version": "3.7.5"
  }
 },
 "nbformat": 4,
 "nbformat_minor": 5
}
