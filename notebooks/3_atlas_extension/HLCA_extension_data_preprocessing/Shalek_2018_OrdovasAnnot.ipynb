{
 "cells": [
  {
   "cell_type": "markdown",
   "metadata": {},
   "source": [
    "# Data import for Shalek_2018/Ordovas-Montanes dataset:"
   ]
  },
  {
   "cell_type": "code",
   "execution_count": 1,
   "metadata": {},
   "outputs": [],
   "source": [
    "import os\n",
    "os.chdir('./../')"
   ]
  },
  {
   "cell_type": "code",
   "execution_count": 2,
   "metadata": {},
   "outputs": [],
   "source": [
    "import scanpy as sc\n",
    "import anndata as ad\n",
    "import preprocessing as pp\n",
    "import pandas as pd"
   ]
  },
  {
   "cell_type": "code",
   "execution_count": 3,
   "metadata": {},
   "outputs": [
    {
     "name": "stderr",
     "output_type": "stream",
     "text": [
      "Observation names are not unique. To make them unique, call `.obs_names_make_unique`.\n"
     ]
    }
   ],
   "source": [
    "adata = sc.read('Ordovas-Montanes/ordovas.h5ad')"
   ]
  },
  {
   "cell_type": "code",
   "execution_count": 4,
   "metadata": {},
   "outputs": [],
   "source": [
    "metadata = pd.read_csv('Ordovas-Montanes/OrdovasMontanes_HumanNasal_covid19_genes.csv').set_index('NAME')"
   ]
  },
  {
   "cell_type": "code",
   "execution_count": 5,
   "metadata": {},
   "outputs": [
    {
     "data": {
      "text/html": [
       "<div>\n",
       "<style scoped>\n",
       "    .dataframe tbody tr th:only-of-type {\n",
       "        vertical-align: middle;\n",
       "    }\n",
       "\n",
       "    .dataframe tbody tr th {\n",
       "        vertical-align: top;\n",
       "    }\n",
       "\n",
       "    .dataframe thead th {\n",
       "        text-align: right;\n",
       "    }\n",
       "</style>\n",
       "<table border=\"1\" class=\"dataframe\">\n",
       "  <thead>\n",
       "    <tr style=\"text-align: right;\">\n",
       "      <th></th>\n",
       "      <th>ACE2</th>\n",
       "      <th>TMPRSS2</th>\n",
       "      <th>CTSL</th>\n",
       "      <th>biosample_id</th>\n",
       "      <th>donor_id</th>\n",
       "      <th>sex</th>\n",
       "      <th>organism_age</th>\n",
       "      <th>total counts</th>\n",
       "      <th>disease__ontology_label</th>\n",
       "      <th>organ__ontology_label</th>\n",
       "      <th>cell_type__ontology_label</th>\n",
       "      <th>organism_age__unit_label</th>\n",
       "      <th>polyp</th>\n",
       "      <th>method</th>\n",
       "      <th>sinusturb</th>\n",
       "    </tr>\n",
       "    <tr>\n",
       "      <th>NAME</th>\n",
       "      <th></th>\n",
       "      <th></th>\n",
       "      <th></th>\n",
       "      <th></th>\n",
       "      <th></th>\n",
       "      <th></th>\n",
       "      <th></th>\n",
       "      <th></th>\n",
       "      <th></th>\n",
       "      <th></th>\n",
       "      <th></th>\n",
       "      <th></th>\n",
       "      <th></th>\n",
       "      <th></th>\n",
       "      <th></th>\n",
       "    </tr>\n",
       "  </thead>\n",
       "  <tbody>\n",
       "    <tr>\n",
       "      <th>Polyp11TOT_10</th>\n",
       "      <td>0.0</td>\n",
       "      <td>1.0</td>\n",
       "      <td>0.0</td>\n",
       "      <td>Polyp11TOT</td>\n",
       "      <td>320</td>\n",
       "      <td>female</td>\n",
       "      <td>55</td>\n",
       "      <td>7860.0</td>\n",
       "      <td>respiratory system disease</td>\n",
       "      <td>ethmoid sinus</td>\n",
       "      <td>basal cell of olfactory epithelium</td>\n",
       "      <td>year</td>\n",
       "      <td>YES</td>\n",
       "      <td>Surgery</td>\n",
       "      <td>EthSinus</td>\n",
       "    </tr>\n",
       "    <tr>\n",
       "      <th>Polyp11TOT_100</th>\n",
       "      <td>0.0</td>\n",
       "      <td>0.0</td>\n",
       "      <td>0.0</td>\n",
       "      <td>Polyp11TOT</td>\n",
       "      <td>320</td>\n",
       "      <td>female</td>\n",
       "      <td>55</td>\n",
       "      <td>5584.0</td>\n",
       "      <td>respiratory system disease</td>\n",
       "      <td>ethmoid sinus</td>\n",
       "      <td>plasma cell</td>\n",
       "      <td>year</td>\n",
       "      <td>YES</td>\n",
       "      <td>Surgery</td>\n",
       "      <td>EthSinus</td>\n",
       "    </tr>\n",
       "    <tr>\n",
       "      <th>Polyp11TOT_1000</th>\n",
       "      <td>0.0</td>\n",
       "      <td>0.0</td>\n",
       "      <td>0.0</td>\n",
       "      <td>Polyp11TOT</td>\n",
       "      <td>320</td>\n",
       "      <td>female</td>\n",
       "      <td>55</td>\n",
       "      <td>2015.0</td>\n",
       "      <td>respiratory system disease</td>\n",
       "      <td>ethmoid sinus</td>\n",
       "      <td>goblet cell</td>\n",
       "      <td>year</td>\n",
       "      <td>YES</td>\n",
       "      <td>Surgery</td>\n",
       "      <td>EthSinus</td>\n",
       "    </tr>\n",
       "    <tr>\n",
       "      <th>Polyp11TOT_1001</th>\n",
       "      <td>0.0</td>\n",
       "      <td>0.0</td>\n",
       "      <td>0.0</td>\n",
       "      <td>Polyp11TOT</td>\n",
       "      <td>320</td>\n",
       "      <td>female</td>\n",
       "      <td>55</td>\n",
       "      <td>2261.0</td>\n",
       "      <td>respiratory system disease</td>\n",
       "      <td>ethmoid sinus</td>\n",
       "      <td>plasma cell</td>\n",
       "      <td>year</td>\n",
       "      <td>YES</td>\n",
       "      <td>Surgery</td>\n",
       "      <td>EthSinus</td>\n",
       "    </tr>\n",
       "    <tr>\n",
       "      <th>Polyp11TOT_1002</th>\n",
       "      <td>0.0</td>\n",
       "      <td>0.0</td>\n",
       "      <td>0.0</td>\n",
       "      <td>Polyp11TOT</td>\n",
       "      <td>320</td>\n",
       "      <td>female</td>\n",
       "      <td>55</td>\n",
       "      <td>1136.0</td>\n",
       "      <td>respiratory system disease</td>\n",
       "      <td>ethmoid sinus</td>\n",
       "      <td>basal cell of olfactory epithelium</td>\n",
       "      <td>year</td>\n",
       "      <td>YES</td>\n",
       "      <td>Surgery</td>\n",
       "      <td>EthSinus</td>\n",
       "    </tr>\n",
       "    <tr>\n",
       "      <th>...</th>\n",
       "      <td>...</td>\n",
       "      <td>...</td>\n",
       "      <td>...</td>\n",
       "      <td>...</td>\n",
       "      <td>...</td>\n",
       "      <td>...</td>\n",
       "      <td>...</td>\n",
       "      <td>...</td>\n",
       "      <td>...</td>\n",
       "      <td>...</td>\n",
       "      <td>...</td>\n",
       "      <td>...</td>\n",
       "      <td>...</td>\n",
       "      <td>...</td>\n",
       "      <td>...</td>\n",
       "    </tr>\n",
       "    <tr>\n",
       "      <th>Polyp9TOT_995</th>\n",
       "      <td>0.0</td>\n",
       "      <td>0.0</td>\n",
       "      <td>0.0</td>\n",
       "      <td>Polyp9TOT</td>\n",
       "      <td>318</td>\n",
       "      <td>female</td>\n",
       "      <td>31</td>\n",
       "      <td>518.0</td>\n",
       "      <td>chronic rhinitis</td>\n",
       "      <td>ethmoid sinus</td>\n",
       "      <td>mast cell</td>\n",
       "      <td>year</td>\n",
       "      <td>YES</td>\n",
       "      <td>Surgery</td>\n",
       "      <td>EthSinus</td>\n",
       "    </tr>\n",
       "    <tr>\n",
       "      <th>Polyp9TOT_996</th>\n",
       "      <td>0.0</td>\n",
       "      <td>0.0</td>\n",
       "      <td>0.0</td>\n",
       "      <td>Polyp9TOT</td>\n",
       "      <td>318</td>\n",
       "      <td>female</td>\n",
       "      <td>31</td>\n",
       "      <td>808.0</td>\n",
       "      <td>chronic rhinitis</td>\n",
       "      <td>ethmoid sinus</td>\n",
       "      <td>plasma cell</td>\n",
       "      <td>year</td>\n",
       "      <td>YES</td>\n",
       "      <td>Surgery</td>\n",
       "      <td>EthSinus</td>\n",
       "    </tr>\n",
       "    <tr>\n",
       "      <th>Polyp9TOT_997</th>\n",
       "      <td>0.0</td>\n",
       "      <td>0.0</td>\n",
       "      <td>0.0</td>\n",
       "      <td>Polyp9TOT</td>\n",
       "      <td>318</td>\n",
       "      <td>female</td>\n",
       "      <td>31</td>\n",
       "      <td>663.0</td>\n",
       "      <td>chronic rhinitis</td>\n",
       "      <td>ethmoid sinus</td>\n",
       "      <td>T cell</td>\n",
       "      <td>year</td>\n",
       "      <td>YES</td>\n",
       "      <td>Surgery</td>\n",
       "      <td>EthSinus</td>\n",
       "    </tr>\n",
       "    <tr>\n",
       "      <th>Polyp9TOT_998</th>\n",
       "      <td>0.0</td>\n",
       "      <td>0.0</td>\n",
       "      <td>0.0</td>\n",
       "      <td>Polyp9TOT</td>\n",
       "      <td>318</td>\n",
       "      <td>female</td>\n",
       "      <td>31</td>\n",
       "      <td>926.0</td>\n",
       "      <td>chronic rhinitis</td>\n",
       "      <td>ethmoid sinus</td>\n",
       "      <td>plasma cell</td>\n",
       "      <td>year</td>\n",
       "      <td>YES</td>\n",
       "      <td>Surgery</td>\n",
       "      <td>EthSinus</td>\n",
       "    </tr>\n",
       "    <tr>\n",
       "      <th>Polyp9TOT_999</th>\n",
       "      <td>0.0</td>\n",
       "      <td>0.0</td>\n",
       "      <td>1.0</td>\n",
       "      <td>Polyp9TOT</td>\n",
       "      <td>318</td>\n",
       "      <td>female</td>\n",
       "      <td>31</td>\n",
       "      <td>626.0</td>\n",
       "      <td>chronic rhinitis</td>\n",
       "      <td>ethmoid sinus</td>\n",
       "      <td>mast cell</td>\n",
       "      <td>year</td>\n",
       "      <td>YES</td>\n",
       "      <td>Surgery</td>\n",
       "      <td>EthSinus</td>\n",
       "    </tr>\n",
       "  </tbody>\n",
       "</table>\n",
       "<p>36740 rows × 15 columns</p>\n",
       "</div>"
      ],
      "text/plain": [
       "                 ACE2  TMPRSS2  CTSL biosample_id  donor_id     sex  \\\n",
       "NAME                                                                  \n",
       "Polyp11TOT_10     0.0      1.0   0.0   Polyp11TOT       320  female   \n",
       "Polyp11TOT_100    0.0      0.0   0.0   Polyp11TOT       320  female   \n",
       "Polyp11TOT_1000   0.0      0.0   0.0   Polyp11TOT       320  female   \n",
       "Polyp11TOT_1001   0.0      0.0   0.0   Polyp11TOT       320  female   \n",
       "Polyp11TOT_1002   0.0      0.0   0.0   Polyp11TOT       320  female   \n",
       "...               ...      ...   ...          ...       ...     ...   \n",
       "Polyp9TOT_995     0.0      0.0   0.0    Polyp9TOT       318  female   \n",
       "Polyp9TOT_996     0.0      0.0   0.0    Polyp9TOT       318  female   \n",
       "Polyp9TOT_997     0.0      0.0   0.0    Polyp9TOT       318  female   \n",
       "Polyp9TOT_998     0.0      0.0   0.0    Polyp9TOT       318  female   \n",
       "Polyp9TOT_999     0.0      0.0   1.0    Polyp9TOT       318  female   \n",
       "\n",
       "                 organism_age  total counts     disease__ontology_label  \\\n",
       "NAME                                                                      \n",
       "Polyp11TOT_10              55        7860.0  respiratory system disease   \n",
       "Polyp11TOT_100             55        5584.0  respiratory system disease   \n",
       "Polyp11TOT_1000            55        2015.0  respiratory system disease   \n",
       "Polyp11TOT_1001            55        2261.0  respiratory system disease   \n",
       "Polyp11TOT_1002            55        1136.0  respiratory system disease   \n",
       "...                       ...           ...                         ...   \n",
       "Polyp9TOT_995              31         518.0            chronic rhinitis   \n",
       "Polyp9TOT_996              31         808.0            chronic rhinitis   \n",
       "Polyp9TOT_997              31         663.0            chronic rhinitis   \n",
       "Polyp9TOT_998              31         926.0            chronic rhinitis   \n",
       "Polyp9TOT_999              31         626.0            chronic rhinitis   \n",
       "\n",
       "                organ__ontology_label           cell_type__ontology_label  \\\n",
       "NAME                                                                        \n",
       "Polyp11TOT_10           ethmoid sinus  basal cell of olfactory epithelium   \n",
       "Polyp11TOT_100          ethmoid sinus                         plasma cell   \n",
       "Polyp11TOT_1000         ethmoid sinus                         goblet cell   \n",
       "Polyp11TOT_1001         ethmoid sinus                         plasma cell   \n",
       "Polyp11TOT_1002         ethmoid sinus  basal cell of olfactory epithelium   \n",
       "...                               ...                                 ...   \n",
       "Polyp9TOT_995           ethmoid sinus                           mast cell   \n",
       "Polyp9TOT_996           ethmoid sinus                         plasma cell   \n",
       "Polyp9TOT_997           ethmoid sinus                              T cell   \n",
       "Polyp9TOT_998           ethmoid sinus                         plasma cell   \n",
       "Polyp9TOT_999           ethmoid sinus                           mast cell   \n",
       "\n",
       "                organism_age__unit_label polyp   method sinusturb  \n",
       "NAME                                                               \n",
       "Polyp11TOT_10                       year   YES  Surgery  EthSinus  \n",
       "Polyp11TOT_100                      year   YES  Surgery  EthSinus  \n",
       "Polyp11TOT_1000                     year   YES  Surgery  EthSinus  \n",
       "Polyp11TOT_1001                     year   YES  Surgery  EthSinus  \n",
       "Polyp11TOT_1002                     year   YES  Surgery  EthSinus  \n",
       "...                                  ...   ...      ...       ...  \n",
       "Polyp9TOT_995                       year   YES  Surgery  EthSinus  \n",
       "Polyp9TOT_996                       year   YES  Surgery  EthSinus  \n",
       "Polyp9TOT_997                       year   YES  Surgery  EthSinus  \n",
       "Polyp9TOT_998                       year   YES  Surgery  EthSinus  \n",
       "Polyp9TOT_999                       year   YES  Surgery  EthSinus  \n",
       "\n",
       "[36740 rows x 15 columns]"
      ]
     },
     "execution_count": 5,
     "metadata": {},
     "output_type": "execute_result"
    }
   ],
   "source": [
    "metadata"
   ]
  },
  {
   "cell_type": "code",
   "execution_count": 6,
   "metadata": {},
   "outputs": [],
   "source": [
    "adata = adata[adata.obs_names.isin(metadata.index)]"
   ]
  },
  {
   "cell_type": "code",
   "execution_count": 7,
   "metadata": {},
   "outputs": [],
   "source": [
    "adata = adata[~adata.obs_names.duplicated(keep='first')]"
   ]
  },
  {
   "cell_type": "code",
   "execution_count": 8,
   "metadata": {},
   "outputs": [
    {
     "name": "stderr",
     "output_type": "stream",
     "text": [
      "Trying to set attribute `.obs` of view, copying.\n"
     ]
    }
   ],
   "source": [
    "adata.obs['sample'] = metadata['biosample_id'].loc[adata.obs_names]\n",
    "adata.obs['subject_ID'] = metadata['donor_id'].loc[adata.obs_names]\n",
    "adata.obs['original_celltype_ann'] = metadata['cell_type__ontology_label'].loc[adata.obs_names]\n",
    "adata.obs['condition'] = metadata['disease__ontology_label'].loc[adata.obs_names]\n",
    "adata.obs['sex'] = metadata['sex'].loc[adata.obs_names]\n",
    "adata.obs['age'] = metadata['organism_age'].loc[adata.obs_names]"
   ]
  },
  {
   "cell_type": "code",
   "execution_count": 9,
   "metadata": {},
   "outputs": [],
   "source": [
    "adata.obs['dataset'] = 'Shalek2018'\n",
    "adata.obs['study'] = 'Shalek2018'"
   ]
  },
  {
   "cell_type": "code",
   "execution_count": 10,
   "metadata": {},
   "outputs": [],
   "source": [
    "genes_subset = pd.read_csv('./genes_for_mapping.csv')"
   ]
  },
  {
   "cell_type": "code",
   "execution_count": 11,
   "metadata": {},
   "outputs": [
    {
     "data": {
      "text/html": [
       "<div>\n",
       "<style scoped>\n",
       "    .dataframe tbody tr th:only-of-type {\n",
       "        vertical-align: middle;\n",
       "    }\n",
       "\n",
       "    .dataframe tbody tr th {\n",
       "        vertical-align: top;\n",
       "    }\n",
       "\n",
       "    .dataframe thead th {\n",
       "        text-align: right;\n",
       "    }\n",
       "</style>\n",
       "<table border=\"1\" class=\"dataframe\">\n",
       "  <thead>\n",
       "    <tr style=\"text-align: right;\">\n",
       "      <th></th>\n",
       "      <th>Unnamed: 0</th>\n",
       "      <th>gene_symbols</th>\n",
       "    </tr>\n",
       "  </thead>\n",
       "  <tbody>\n",
       "    <tr>\n",
       "      <th>0</th>\n",
       "      <td>ENSG00000000938</td>\n",
       "      <td>FGR</td>\n",
       "    </tr>\n",
       "    <tr>\n",
       "      <th>1</th>\n",
       "      <td>ENSG00000000971</td>\n",
       "      <td>CFH</td>\n",
       "    </tr>\n",
       "    <tr>\n",
       "      <th>2</th>\n",
       "      <td>ENSG00000002587</td>\n",
       "      <td>HS3ST1</td>\n",
       "    </tr>\n",
       "    <tr>\n",
       "      <th>3</th>\n",
       "      <td>ENSG00000002933</td>\n",
       "      <td>TMEM176A</td>\n",
       "    </tr>\n",
       "    <tr>\n",
       "      <th>4</th>\n",
       "      <td>ENSG00000003436</td>\n",
       "      <td>TFPI</td>\n",
       "    </tr>\n",
       "    <tr>\n",
       "      <th>...</th>\n",
       "      <td>...</td>\n",
       "      <td>...</td>\n",
       "    </tr>\n",
       "    <tr>\n",
       "      <th>1995</th>\n",
       "      <td>ENSG00000280721</td>\n",
       "      <td>AC133644.2</td>\n",
       "    </tr>\n",
       "    <tr>\n",
       "      <th>1996</th>\n",
       "      <td>ENSG00000281103</td>\n",
       "      <td>TRG-AS1</td>\n",
       "    </tr>\n",
       "    <tr>\n",
       "      <th>1997</th>\n",
       "      <td>ENSG00000282122</td>\n",
       "      <td>CH17-262H11.1</td>\n",
       "    </tr>\n",
       "    <tr>\n",
       "      <th>1998</th>\n",
       "      <td>ENSG00000282988</td>\n",
       "      <td>RP1-34B20.21</td>\n",
       "    </tr>\n",
       "    <tr>\n",
       "      <th>1999</th>\n",
       "      <td>ENSG00000283063</td>\n",
       "      <td>TRBV6-2</td>\n",
       "    </tr>\n",
       "  </tbody>\n",
       "</table>\n",
       "<p>2000 rows × 2 columns</p>\n",
       "</div>"
      ],
      "text/plain": [
       "           Unnamed: 0   gene_symbols\n",
       "0     ENSG00000000938            FGR\n",
       "1     ENSG00000000971            CFH\n",
       "2     ENSG00000002587         HS3ST1\n",
       "3     ENSG00000002933       TMEM176A\n",
       "4     ENSG00000003436           TFPI\n",
       "...               ...            ...\n",
       "1995  ENSG00000280721     AC133644.2\n",
       "1996  ENSG00000281103        TRG-AS1\n",
       "1997  ENSG00000282122  CH17-262H11.1\n",
       "1998  ENSG00000282988   RP1-34B20.21\n",
       "1999  ENSG00000283063        TRBV6-2\n",
       "\n",
       "[2000 rows x 2 columns]"
      ]
     },
     "execution_count": 11,
     "metadata": {},
     "output_type": "execute_result"
    }
   ],
   "source": [
    "genes_subset"
   ]
  },
  {
   "cell_type": "code",
   "execution_count": 12,
   "metadata": {},
   "outputs": [
    {
     "name": "stdout",
     "output_type": "stream",
     "text": [
      "not all genes were recovered, filling in 0 counts for 176 missing genes...\n"
     ]
    }
   ],
   "source": [
    "adata_subset = pp.subset_and_pad_adata(genes_subset, adata)"
   ]
  },
  {
   "cell_type": "code",
   "execution_count": 13,
   "metadata": {},
   "outputs": [
    {
     "name": "stderr",
     "output_type": "stream",
     "text": [
      "... storing 'sample' as categorical\n",
      "... storing 'original_celltype_ann' as categorical\n",
      "... storing 'condition' as categorical\n",
      "... storing 'sex' as categorical\n",
      "... storing 'dataset' as categorical\n",
      "... storing 'study' as categorical\n",
      "... storing 'gene_symbols' as categorical\n"
     ]
    }
   ],
   "source": [
    "adata_subset.write('Ordovas-Montanes/ordovasmontanes_sub_annot.h5ad')"
   ]
  },
  {
   "cell_type": "code",
   "execution_count": 14,
   "metadata": {},
   "outputs": [
    {
     "name": "stderr",
     "output_type": "stream",
     "text": [
      "... storing 'sample' as categorical\n",
      "... storing 'original_celltype_ann' as categorical\n",
      "... storing 'condition' as categorical\n",
      "... storing 'sex' as categorical\n",
      "... storing 'dataset' as categorical\n",
      "... storing 'study' as categorical\n"
     ]
    }
   ],
   "source": [
    "adata.write('Ordovas-Montanes/ordovasmontanes_annot.h5ad')"
   ]
  },
  {
   "cell_type": "code",
   "execution_count": 15,
   "metadata": {},
   "outputs": [
    {
     "data": {
      "text/plain": [
       "<36740x25328 sparse matrix of type '<class 'numpy.float32'>'\n",
       "\twith 32233322 stored elements in Compressed Sparse Row format>"
      ]
     },
     "execution_count": 15,
     "metadata": {},
     "output_type": "execute_result"
    }
   ],
   "source": [
    "adata.X"
   ]
  },
  {
   "cell_type": "code",
   "execution_count": null,
   "metadata": {},
   "outputs": [],
   "source": []
  }
 ],
 "metadata": {
  "kernelspec": {
   "display_name": "Python 3",
   "language": "python",
   "name": "python3"
  },
  "language_info": {
   "codemirror_mode": {
    "name": "ipython",
    "version": 3
   },
   "file_extension": ".py",
   "mimetype": "text/x-python",
   "name": "python",
   "nbconvert_exporter": "python",
   "pygments_lexer": "ipython3",
   "version": "3.7.5"
  }
 },
 "nbformat": 4,
 "nbformat_minor": 5
}
