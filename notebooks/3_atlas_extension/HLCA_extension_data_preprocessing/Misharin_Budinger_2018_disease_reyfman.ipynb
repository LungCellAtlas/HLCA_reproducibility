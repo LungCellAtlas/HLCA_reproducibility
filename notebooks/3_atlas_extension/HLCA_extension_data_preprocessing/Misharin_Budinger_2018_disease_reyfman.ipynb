{
 "cells": [
  {
   "cell_type": "markdown",
   "metadata": {},
   "source": [
    "# Reyfman data"
   ]
  },
  {
   "cell_type": "code",
   "execution_count": 38,
   "metadata": {},
   "outputs": [],
   "source": [
    "import scanpy as sc\n",
    "import glob\n",
    "import anndata\n",
    "import scIB\n",
    "import pandas as pd\n",
    "import numpy as np"
   ]
  },
  {
   "cell_type": "code",
   "execution_count": 2,
   "metadata": {},
   "outputs": [],
   "source": [
    "files = glob.glob('../../../data/HLCA_extended/extension_datasets/raw/Reyfman/*filtered*')"
   ]
  },
  {
   "cell_type": "code",
   "execution_count": 3,
   "metadata": {},
   "outputs": [
    {
     "data": {
      "text/plain": [
       "['/storage/groups/ml01/workspace/hlca_lisa.sikkema_malte.luecken/query_datasets/raw/Reyfman/GSM3489198_SSc-ILD_02_filtered_gene_bc_matrices_h5.h5',\n",
       " '/storage/groups/ml01/workspace/hlca_lisa.sikkema_malte.luecken/query_datasets/raw/Reyfman/GSM3489183_IPF_01_filtered_gene_bc_matrices_h5.h5',\n",
       " '/storage/groups/ml01/workspace/hlca_lisa.sikkema_malte.luecken/query_datasets/raw/Reyfman/GSM3489196_Myositis-ILD_01_filtered_gene_bc_matrices_h5.h5',\n",
       " '/storage/groups/ml01/workspace/hlca_lisa.sikkema_malte.luecken/query_datasets/raw/Reyfman/GSM3489190_IPF_04_filtered_gene_bc_matrices_h5.h5',\n",
       " '/storage/groups/ml01/workspace/hlca_lisa.sikkema_malte.luecken/query_datasets/raw/Reyfman/GSM3489184_IPF_02_filtered_gene_bc_matrices_h5.h5',\n",
       " '/storage/groups/ml01/workspace/hlca_lisa.sikkema_malte.luecken/query_datasets/raw/Reyfman/GSM3489186_Cryobiopsy_01_filtered_gene_bc_matrices_h5.h5',\n",
       " '/storage/groups/ml01/workspace/hlca_lisa.sikkema_malte.luecken/query_datasets/raw/Reyfman/GSM3489194_SSc-ILD_01_filtered_gene_bc_matrices_h5.h5',\n",
       " '/storage/groups/ml01/workspace/hlca_lisa.sikkema_malte.luecken/query_datasets/raw/Reyfman/GSM3489192_HP_01_filtered_gene_bc_matrices_h5.h5',\n",
       " '/storage/groups/ml01/workspace/hlca_lisa.sikkema_malte.luecken/query_datasets/raw/Reyfman/GSM3489188_IPF_03_filtered_gene_bc_matrices_h5.h5']"
      ]
     },
     "execution_count": 3,
     "metadata": {},
     "output_type": "execute_result"
    }
   ],
   "source": [
    "files"
   ]
  },
  {
   "cell_type": "code",
   "execution_count": 4,
   "metadata": {},
   "outputs": [
    {
     "name": "stderr",
     "output_type": "stream",
     "text": [
      "Variable names are not unique. To make them unique, call `.var_names_make_unique`.\n",
      "Variable names are not unique. To make them unique, call `.var_names_make_unique`.\n",
      "Variable names are not unique. To make them unique, call `.var_names_make_unique`.\n",
      "Variable names are not unique. To make them unique, call `.var_names_make_unique`.\n",
      "Variable names are not unique. To make them unique, call `.var_names_make_unique`.\n",
      "Variable names are not unique. To make them unique, call `.var_names_make_unique`.\n",
      "Variable names are not unique. To make them unique, call `.var_names_make_unique`.\n",
      "Variable names are not unique. To make them unique, call `.var_names_make_unique`.\n",
      "Variable names are not unique. To make them unique, call `.var_names_make_unique`.\n"
     ]
    }
   ],
   "source": [
    "adatas = {}\n",
    "for i in files:\n",
    "    name = \"_\".join(i.split('/')[9].split('_')[1:3])\n",
    "    sub_id = i.split('/')[9].split('_')[0]\n",
    "    adatas[name] = sc.read_10x_h5(i)\n",
    "    adatas[name].obs['condition']=name.split('_')[0]\n",
    "    #adatas[name].obs['condition']=name.split('_')[0]\n",
    "    adatas[name].obs['subject_ID']=name\n",
    "    adatas[name].var_names_make_unique()\n",
    "    #adatas[name].obs_names = adatas[name].obs_names+name"
   ]
  },
  {
   "cell_type": "code",
   "execution_count": 5,
   "metadata": {},
   "outputs": [
    {
     "name": "stderr",
     "output_type": "stream",
     "text": [
      "Observation names are not unique. To make them unique, call `.obs_names_make_unique`.\n"
     ]
    }
   ],
   "source": [
    "adata = anndata.concat(adatas)"
   ]
  },
  {
   "cell_type": "code",
   "execution_count": 6,
   "metadata": {},
   "outputs": [
    {
     "data": {
      "text/plain": [
       "AnnData object with n_obs × n_vars = 37287 × 33694\n",
       "    obs: 'condition', 'subject_ID'"
      ]
     },
     "execution_count": 6,
     "metadata": {},
     "output_type": "execute_result"
    }
   ],
   "source": [
    "adata"
   ]
  },
  {
   "cell_type": "code",
   "execution_count": 7,
   "metadata": {},
   "outputs": [],
   "source": [
    "adata.obs_names_make_unique()"
   ]
  },
  {
   "cell_type": "code",
   "execution_count": 8,
   "metadata": {},
   "outputs": [],
   "source": [
    "adata.obs['dataset']='MisharinBudinger2019_disease'\n",
    "adata.obs['study']='MisharinBudinger2019'"
   ]
  },
  {
   "cell_type": "code",
   "execution_count": 9,
   "metadata": {},
   "outputs": [
    {
     "data": {
      "text/html": [
       "<div>\n",
       "<style scoped>\n",
       "    .dataframe tbody tr th:only-of-type {\n",
       "        vertical-align: middle;\n",
       "    }\n",
       "\n",
       "    .dataframe tbody tr th {\n",
       "        vertical-align: top;\n",
       "    }\n",
       "\n",
       "    .dataframe thead th {\n",
       "        text-align: right;\n",
       "    }\n",
       "</style>\n",
       "<table border=\"1\" class=\"dataframe\">\n",
       "  <thead>\n",
       "    <tr style=\"text-align: right;\">\n",
       "      <th></th>\n",
       "      <th>condition</th>\n",
       "      <th>subject_ID</th>\n",
       "      <th>dataset</th>\n",
       "      <th>study</th>\n",
       "    </tr>\n",
       "  </thead>\n",
       "  <tbody>\n",
       "    <tr>\n",
       "      <th>AAACCTGCAACTGGCC-1</th>\n",
       "      <td>SSc-ILD</td>\n",
       "      <td>SSc-ILD_02</td>\n",
       "      <td>MisharinBudinger2019_disease</td>\n",
       "      <td>MisharinBudinger2019</td>\n",
       "    </tr>\n",
       "    <tr>\n",
       "      <th>AAACCTGCACAGACAG-1</th>\n",
       "      <td>SSc-ILD</td>\n",
       "      <td>SSc-ILD_02</td>\n",
       "      <td>MisharinBudinger2019_disease</td>\n",
       "      <td>MisharinBudinger2019</td>\n",
       "    </tr>\n",
       "    <tr>\n",
       "      <th>AAACCTGCACGTGAGA-1</th>\n",
       "      <td>SSc-ILD</td>\n",
       "      <td>SSc-ILD_02</td>\n",
       "      <td>MisharinBudinger2019_disease</td>\n",
       "      <td>MisharinBudinger2019</td>\n",
       "    </tr>\n",
       "    <tr>\n",
       "      <th>AAACCTGGTAGAAGGA-1</th>\n",
       "      <td>SSc-ILD</td>\n",
       "      <td>SSc-ILD_02</td>\n",
       "      <td>MisharinBudinger2019_disease</td>\n",
       "      <td>MisharinBudinger2019</td>\n",
       "    </tr>\n",
       "    <tr>\n",
       "      <th>AAACCTGGTATATGAG-1</th>\n",
       "      <td>SSc-ILD</td>\n",
       "      <td>SSc-ILD_02</td>\n",
       "      <td>MisharinBudinger2019_disease</td>\n",
       "      <td>MisharinBudinger2019</td>\n",
       "    </tr>\n",
       "    <tr>\n",
       "      <th>...</th>\n",
       "      <td>...</td>\n",
       "      <td>...</td>\n",
       "      <td>...</td>\n",
       "      <td>...</td>\n",
       "    </tr>\n",
       "    <tr>\n",
       "      <th>TTTGTCAAGGGTCTCC-1</th>\n",
       "      <td>IPF</td>\n",
       "      <td>IPF_03</td>\n",
       "      <td>MisharinBudinger2019_disease</td>\n",
       "      <td>MisharinBudinger2019</td>\n",
       "    </tr>\n",
       "    <tr>\n",
       "      <th>TTTGTCACAATAACGA-1</th>\n",
       "      <td>IPF</td>\n",
       "      <td>IPF_03</td>\n",
       "      <td>MisharinBudinger2019_disease</td>\n",
       "      <td>MisharinBudinger2019</td>\n",
       "    </tr>\n",
       "    <tr>\n",
       "      <th>TTTGTCAGTTGGTTTG-1</th>\n",
       "      <td>IPF</td>\n",
       "      <td>IPF_03</td>\n",
       "      <td>MisharinBudinger2019_disease</td>\n",
       "      <td>MisharinBudinger2019</td>\n",
       "    </tr>\n",
       "    <tr>\n",
       "      <th>TTTGTCAGTTTAGCTG-1</th>\n",
       "      <td>IPF</td>\n",
       "      <td>IPF_03</td>\n",
       "      <td>MisharinBudinger2019_disease</td>\n",
       "      <td>MisharinBudinger2019</td>\n",
       "    </tr>\n",
       "    <tr>\n",
       "      <th>TTTGTCATCTTGTCAT-1</th>\n",
       "      <td>IPF</td>\n",
       "      <td>IPF_03</td>\n",
       "      <td>MisharinBudinger2019_disease</td>\n",
       "      <td>MisharinBudinger2019</td>\n",
       "    </tr>\n",
       "  </tbody>\n",
       "</table>\n",
       "<p>37287 rows × 4 columns</p>\n",
       "</div>"
      ],
      "text/plain": [
       "                   condition  subject_ID                       dataset  \\\n",
       "AAACCTGCAACTGGCC-1   SSc-ILD  SSc-ILD_02  MisharinBudinger2019_disease   \n",
       "AAACCTGCACAGACAG-1   SSc-ILD  SSc-ILD_02  MisharinBudinger2019_disease   \n",
       "AAACCTGCACGTGAGA-1   SSc-ILD  SSc-ILD_02  MisharinBudinger2019_disease   \n",
       "AAACCTGGTAGAAGGA-1   SSc-ILD  SSc-ILD_02  MisharinBudinger2019_disease   \n",
       "AAACCTGGTATATGAG-1   SSc-ILD  SSc-ILD_02  MisharinBudinger2019_disease   \n",
       "...                      ...         ...                           ...   \n",
       "TTTGTCAAGGGTCTCC-1       IPF      IPF_03  MisharinBudinger2019_disease   \n",
       "TTTGTCACAATAACGA-1       IPF      IPF_03  MisharinBudinger2019_disease   \n",
       "TTTGTCAGTTGGTTTG-1       IPF      IPF_03  MisharinBudinger2019_disease   \n",
       "TTTGTCAGTTTAGCTG-1       IPF      IPF_03  MisharinBudinger2019_disease   \n",
       "TTTGTCATCTTGTCAT-1       IPF      IPF_03  MisharinBudinger2019_disease   \n",
       "\n",
       "                                   study  \n",
       "AAACCTGCAACTGGCC-1  MisharinBudinger2019  \n",
       "AAACCTGCACAGACAG-1  MisharinBudinger2019  \n",
       "AAACCTGCACGTGAGA-1  MisharinBudinger2019  \n",
       "AAACCTGGTAGAAGGA-1  MisharinBudinger2019  \n",
       "AAACCTGGTATATGAG-1  MisharinBudinger2019  \n",
       "...                                  ...  \n",
       "TTTGTCAAGGGTCTCC-1  MisharinBudinger2019  \n",
       "TTTGTCACAATAACGA-1  MisharinBudinger2019  \n",
       "TTTGTCAGTTGGTTTG-1  MisharinBudinger2019  \n",
       "TTTGTCAGTTTAGCTG-1  MisharinBudinger2019  \n",
       "TTTGTCATCTTGTCAT-1  MisharinBudinger2019  \n",
       "\n",
       "[37287 rows x 4 columns]"
      ]
     },
     "execution_count": 9,
     "metadata": {},
     "output_type": "execute_result"
    }
   ],
   "source": [
    "adata.obs"
   ]
  },
  {
   "cell_type": "code",
   "execution_count": 10,
   "metadata": {},
   "outputs": [],
   "source": [
    "scIB.pp.summarize_counts(adata)"
   ]
  },
  {
   "cell_type": "code",
   "execution_count": 11,
   "metadata": {},
   "outputs": [
    {
     "name": "stderr",
     "output_type": "stream",
     "text": [
      "... storing 'condition' as categorical\n",
      "... storing 'subject_ID' as categorical\n",
      "... storing 'dataset' as categorical\n",
      "... storing 'study' as categorical\n"
     ]
    },
    {
     "data": {
      "image/png": "[encoded data removed]",
      "text/plain": [
       "<Figure size 487.93x288 with 1 Axes>"
      ]
     },
     "metadata": {
      "needs_background": "light"
     },
     "output_type": "display_data"
    },
    {
     "name": "stdout",
     "output_type": "stream",
     "text": [
      "Counts Threshold: (10, 40000)\n"
     ]
    },
    {
     "data": {
      "image/png": "[encoded data removed]",
      "text/plain": [
       "<Figure size 432x288 with 1 Axes>"
      ]
     },
     "metadata": {
      "needs_background": "light"
     },
     "output_type": "display_data"
    },
    {
     "name": "stdout",
     "output_type": "stream",
     "text": [
      "lower threshold: 10\n"
     ]
    },
    {
     "name": "stderr",
     "output_type": "stream",
     "text": [
      "/home/icb/malte.luecken/anaconda3/lib/python3.7/site-packages/seaborn/distributions.py:198: RuntimeWarning: Mean of empty slice.\n",
      "  line, = ax.plot(a.mean(), 0)\n",
      "/home/icb/malte.luecken/.local/lib/python3.7/site-packages/numpy/core/_methods.py:161: RuntimeWarning: invalid value encountered in true_divide\n",
      "  ret = ret.dtype.type(ret / rcount)\n"
     ]
    },
    {
     "data": {
      "image/png": "[encoded data removed]",
      "text/plain": [
       "<Figure size 432x288 with 1 Axes>"
      ]
     },
     "metadata": {
      "needs_background": "light"
     },
     "output_type": "display_data"
    },
    {
     "name": "stdout",
     "output_type": "stream",
     "text": [
      "upper threshold: 40000\n"
     ]
    },
    {
     "data": {
      "image/png": "[encoded data removed]",
      "text/plain": [
       "<Figure size 432x288 with 1 Axes>"
      ]
     },
     "metadata": {
      "needs_background": "light"
     },
     "output_type": "display_data"
    },
    {
     "name": "stdout",
     "output_type": "stream",
     "text": [
      "Gene Threshold: (800, 5000)\n"
     ]
    },
    {
     "data": {
      "image/png": "[encoded data removed]",
      "text/plain": [
       "<Figure size 432x288 with 1 Axes>"
      ]
     },
     "metadata": {
      "needs_background": "light"
     },
     "output_type": "display_data"
    },
    {
     "name": "stdout",
     "output_type": "stream",
     "text": [
      "lower threshold: 800\n"
     ]
    },
    {
     "data": {
      "image/png": "[encoded data removed]",
      "text/plain": [
       "<Figure size 432x288 with 1 Axes>"
      ]
     },
     "metadata": {
      "needs_background": "light"
     },
     "output_type": "display_data"
    },
    {
     "name": "stdout",
     "output_type": "stream",
     "text": [
      "upper threshold: 5000\n"
     ]
    },
    {
     "data": {
      "image/png": "[encoded data removed]",
      "text/plain": [
       "<Figure size 432x288 with 1 Axes>"
      ]
     },
     "metadata": {
      "needs_background": "light"
     },
     "output_type": "display_data"
    }
   ],
   "source": [
    "scIB.pp.plot_QC(adata, gene_threshold=(800,5000), count_threshold=(10,40000))"
   ]
  },
  {
   "cell_type": "code",
   "execution_count": 12,
   "metadata": {},
   "outputs": [
    {
     "name": "stderr",
     "output_type": "stream",
     "text": [
      "/home/icb/malte.luecken/anaconda3/lib/python3.7/site-packages/pandas/core/arrays/categorical.py:2492: FutureWarning: The `inplace` parameter in pandas.Categorical.remove_unused_categories is deprecated and will be removed in a future version.\n",
      "  res = method(*args, **kwargs)\n"
     ]
    }
   ],
   "source": [
    "sc.pp.filter_cells(adata, max_genes=7000)"
   ]
  },
  {
   "cell_type": "code",
   "execution_count": 13,
   "metadata": {},
   "outputs": [],
   "source": [
    "sc.pp.filter_genes(adata, min_counts=1)"
   ]
  },
  {
   "cell_type": "code",
   "execution_count": 15,
   "metadata": {},
   "outputs": [],
   "source": [
    "adata.obs=adata.obs.iloc[:,0:4]"
   ]
  },
  {
   "cell_type": "code",
   "execution_count": 16,
   "metadata": {},
   "outputs": [],
   "source": [
    "adata.obs['preprocessing']='filter cells to max_genes=7000 and genes to min_counts=1'"
   ]
  },
  {
   "cell_type": "code",
   "execution_count": 17,
   "metadata": {},
   "outputs": [
    {
     "data": {
      "text/plain": [
       "['SSc-ILD', 'IPF', 'Myositis-ILD', 'Cryobiopsy', 'HP']\n",
       "Categories (5, object): ['SSc-ILD', 'IPF', 'Myositis-ILD', 'Cryobiopsy', 'HP']"
      ]
     },
     "execution_count": 17,
     "metadata": {},
     "output_type": "execute_result"
    }
   ],
   "source": [
    "adata.obs.condition.unique()"
   ]
  },
  {
   "cell_type": "code",
   "execution_count": null,
   "metadata": {},
   "outputs": [],
   "source": []
  },
  {
   "cell_type": "markdown",
   "metadata": {},
   "source": [
    "# Assign further obs covariates"
   ]
  },
  {
   "cell_type": "code",
   "execution_count": 25,
   "metadata": {},
   "outputs": [
    {
     "data": {
      "text/plain": [
       "AnnData object with n_obs × n_vars = 37221 × 27181\n",
       "    obs: 'condition', 'subject_ID', 'dataset', 'study', 'preprocessing'\n",
       "    var: 'n_counts'"
      ]
     },
     "execution_count": 25,
     "metadata": {},
     "output_type": "execute_result"
    }
   ],
   "source": [
    "adata"
   ]
  },
  {
   "cell_type": "code",
   "execution_count": 26,
   "metadata": {},
   "outputs": [],
   "source": [
    "adata.obs['sample'] = adata.obs['subject_ID']"
   ]
  },
  {
   "cell_type": "markdown",
   "metadata": {},
   "source": [
    "# Load annotations"
   ]
  },
  {
   "cell_type": "code",
   "execution_count": 20,
   "metadata": {},
   "outputs": [],
   "source": [
    "idents = pd.read_csv('../../../data/HLCA_extended/extension_datasets/raw/Reyfman/Reyfman_2019_idents.csv')\n",
    "samps = pd.read_csv('../../../data/HLCA_extended/extension_datasets/raw/Reyfman/Reyfman_samples.csv')"
   ]
  },
  {
   "cell_type": "code",
   "execution_count": 21,
   "metadata": {},
   "outputs": [],
   "source": [
    "idents.index = idents['Unnamed: 0']\n",
    "samps.index = samps['paper_ID']"
   ]
  },
  {
   "cell_type": "code",
   "execution_count": 27,
   "metadata": {
    "scrolled": true,
    "tags": []
   },
   "outputs": [
    {
     "data": {
      "text/html": [
       "<div>\n",
       "<style scoped>\n",
       "    .dataframe tbody tr th:only-of-type {\n",
       "        vertical-align: middle;\n",
       "    }\n",
       "\n",
       "    .dataframe tbody tr th {\n",
       "        vertical-align: top;\n",
       "    }\n",
       "\n",
       "    .dataframe thead th {\n",
       "        text-align: right;\n",
       "    }\n",
       "</style>\n",
       "<table border=\"1\" class=\"dataframe\">\n",
       "  <thead>\n",
       "    <tr style=\"text-align: right;\">\n",
       "      <th></th>\n",
       "      <th>library_ID</th>\n",
       "      <th>paper_ID</th>\n",
       "      <th>dbGap_ID/GEO</th>\n",
       "    </tr>\n",
       "    <tr>\n",
       "      <th>paper_ID</th>\n",
       "      <th></th>\n",
       "      <th></th>\n",
       "      <th></th>\n",
       "    </tr>\n",
       "  </thead>\n",
       "  <tbody>\n",
       "    <tr>\n",
       "      <th>Donor_01</th>\n",
       "      <td>SC07</td>\n",
       "      <td>Donor_01</td>\n",
       "      <td>Subject_01</td>\n",
       "    </tr>\n",
       "    <tr>\n",
       "      <th>IPF_01</th>\n",
       "      <td>SC08</td>\n",
       "      <td>IPF_01</td>\n",
       "      <td>Subject_02</td>\n",
       "    </tr>\n",
       "    <tr>\n",
       "      <th>IPF_02</th>\n",
       "      <td>SC09</td>\n",
       "      <td>IPF_02</td>\n",
       "      <td>Subject_03</td>\n",
       "    </tr>\n",
       "    <tr>\n",
       "      <th>Donor_02</th>\n",
       "      <td>SC10</td>\n",
       "      <td>Donor_02</td>\n",
       "      <td>Subject_04</td>\n",
       "    </tr>\n",
       "    <tr>\n",
       "      <th>Cryobiopsy_01</th>\n",
       "      <td>SC13</td>\n",
       "      <td>Cryobiopsy_01</td>\n",
       "      <td>Subject_05</td>\n",
       "    </tr>\n",
       "    <tr>\n",
       "      <th>Donor_03</th>\n",
       "      <td>SC18</td>\n",
       "      <td>Donor_03</td>\n",
       "      <td>Subject_06</td>\n",
       "    </tr>\n",
       "    <tr>\n",
       "      <th>IPF_03</th>\n",
       "      <td>SC19</td>\n",
       "      <td>IPF_03</td>\n",
       "      <td>Subject_07</td>\n",
       "    </tr>\n",
       "    <tr>\n",
       "      <th>Donor_04</th>\n",
       "      <td>SC20</td>\n",
       "      <td>Donor_04</td>\n",
       "      <td>Subject_08</td>\n",
       "    </tr>\n",
       "    <tr>\n",
       "      <th>IPF_04</th>\n",
       "      <td>SC21</td>\n",
       "      <td>IPF_04</td>\n",
       "      <td>Subject_09</td>\n",
       "    </tr>\n",
       "    <tr>\n",
       "      <th>Donor_05</th>\n",
       "      <td>SC22</td>\n",
       "      <td>Donor_05</td>\n",
       "      <td>Subject_10</td>\n",
       "    </tr>\n",
       "    <tr>\n",
       "      <th>HP_01</th>\n",
       "      <td>SC23</td>\n",
       "      <td>HP_01</td>\n",
       "      <td>Subject_11</td>\n",
       "    </tr>\n",
       "    <tr>\n",
       "      <th>Donor_06</th>\n",
       "      <td>SC24</td>\n",
       "      <td>Donor_06</td>\n",
       "      <td>Subject_12</td>\n",
       "    </tr>\n",
       "    <tr>\n",
       "      <th>SSc-ILD_01</th>\n",
       "      <td>SC25</td>\n",
       "      <td>SSc-ILD_01</td>\n",
       "      <td>Subject_13</td>\n",
       "    </tr>\n",
       "    <tr>\n",
       "      <th>Donor_07</th>\n",
       "      <td>SC27</td>\n",
       "      <td>Donor_07</td>\n",
       "      <td>Subject_14</td>\n",
       "    </tr>\n",
       "    <tr>\n",
       "      <th>Myositis-ILD_01</th>\n",
       "      <td>SC28</td>\n",
       "      <td>Myositis-ILD_01</td>\n",
       "      <td>Subject_15</td>\n",
       "    </tr>\n",
       "    <tr>\n",
       "      <th>Donor_08</th>\n",
       "      <td>SC29</td>\n",
       "      <td>Donor_08</td>\n",
       "      <td>Subject_16</td>\n",
       "    </tr>\n",
       "    <tr>\n",
       "      <th>SSc-ILD_02</th>\n",
       "      <td>SC30</td>\n",
       "      <td>SSc-ILD_02</td>\n",
       "      <td>Subject_17</td>\n",
       "    </tr>\n",
       "  </tbody>\n",
       "</table>\n",
       "</div>"
      ],
      "text/plain": [
       "                library_ID         paper_ID dbGap_ID/GEO\n",
       "paper_ID                                                \n",
       "Donor_01              SC07         Donor_01   Subject_01\n",
       "IPF_01                SC08           IPF_01   Subject_02\n",
       "IPF_02                SC09           IPF_02   Subject_03\n",
       "Donor_02              SC10         Donor_02   Subject_04\n",
       "Cryobiopsy_01         SC13    Cryobiopsy_01   Subject_05\n",
       "Donor_03              SC18         Donor_03   Subject_06\n",
       "IPF_03                SC19           IPF_03   Subject_07\n",
       "Donor_04              SC20         Donor_04   Subject_08\n",
       "IPF_04                SC21           IPF_04   Subject_09\n",
       "Donor_05              SC22         Donor_05   Subject_10\n",
       "HP_01                 SC23            HP_01   Subject_11\n",
       "Donor_06              SC24         Donor_06   Subject_12\n",
       "SSc-ILD_01            SC25       SSc-ILD_01   Subject_13\n",
       "Donor_07              SC27         Donor_07   Subject_14\n",
       "Myositis-ILD_01       SC28  Myositis-ILD_01   Subject_15\n",
       "Donor_08              SC29         Donor_08   Subject_16\n",
       "SSc-ILD_02            SC30       SSc-ILD_02   Subject_17"
      ]
     },
     "execution_count": 27,
     "metadata": {},
     "output_type": "execute_result"
    },
    {
     "data": {
      "text/html": [
       "<div>\n",
       "<style scoped>\n",
       "    .dataframe tbody tr th:only-of-type {\n",
       "        vertical-align: middle;\n",
       "    }\n",
       "\n",
       "    .dataframe tbody tr th {\n",
       "        vertical-align: top;\n",
       "    }\n",
       "\n",
       "    .dataframe thead th {\n",
       "        text-align: right;\n",
       "    }\n",
       "</style>\n",
       "<table border=\"1\" class=\"dataframe\">\n",
       "  <thead>\n",
       "    <tr style=\"text-align: right;\">\n",
       "      <th></th>\n",
       "      <th>Unnamed: 0</th>\n",
       "      <th>integrated.data@active.ident</th>\n",
       "    </tr>\n",
       "    <tr>\n",
       "      <th>Unnamed: 0</th>\n",
       "      <th></th>\n",
       "      <th></th>\n",
       "    </tr>\n",
       "  </thead>\n",
       "  <tbody>\n",
       "    <tr>\n",
       "      <th>SC07_AAACCTGAGCGTTTAC</th>\n",
       "      <td>SC07_AAACCTGAGCGTTTAC</td>\n",
       "      <td>AT2</td>\n",
       "    </tr>\n",
       "    <tr>\n",
       "      <th>SC07_AAACCTGAGTCGCCGT</th>\n",
       "      <td>SC07_AAACCTGAGTCGCCGT</td>\n",
       "      <td>AT2</td>\n",
       "    </tr>\n",
       "    <tr>\n",
       "      <th>SC07_AAACCTGGTAGGACAC</th>\n",
       "      <td>SC07_AAACCTGGTAGGACAC</td>\n",
       "      <td>AT2</td>\n",
       "    </tr>\n",
       "    <tr>\n",
       "      <th>SC07_AAACCTGGTGCCTTGG</th>\n",
       "      <td>SC07_AAACCTGGTGCCTTGG</td>\n",
       "      <td>AT2</td>\n",
       "    </tr>\n",
       "    <tr>\n",
       "      <th>SC07_AAACCTGGTTCAGCGC</th>\n",
       "      <td>SC07_AAACCTGGTTCAGCGC</td>\n",
       "      <td>Secretory</td>\n",
       "    </tr>\n",
       "    <tr>\n",
       "      <th>...</th>\n",
       "      <td>...</td>\n",
       "      <td>...</td>\n",
       "    </tr>\n",
       "    <tr>\n",
       "      <th>SC30_TTTGTCATCATACGGT</th>\n",
       "      <td>SC30_TTTGTCATCATACGGT</td>\n",
       "      <td>Alveolar macrophages</td>\n",
       "    </tr>\n",
       "    <tr>\n",
       "      <th>SC30_TTTGTCATCATGTCTT</th>\n",
       "      <td>SC30_TTTGTCATCATGTCTT</td>\n",
       "      <td>AT2</td>\n",
       "    </tr>\n",
       "    <tr>\n",
       "      <th>SC30_TTTGTCATCGAACTGT</th>\n",
       "      <td>SC30_TTTGTCATCGAACTGT</td>\n",
       "      <td>SPP1 Macrophages</td>\n",
       "    </tr>\n",
       "    <tr>\n",
       "      <th>SC30_TTTGTCATCGCCCTTA</th>\n",
       "      <td>SC30_TTTGTCATCGCCCTTA</td>\n",
       "      <td>Alveolar macrophages</td>\n",
       "    </tr>\n",
       "    <tr>\n",
       "      <th>SC30_TTTGTCATCGCGTAGC</th>\n",
       "      <td>SC30_TTTGTCATCGCGTAGC</td>\n",
       "      <td>Alveolar macrophages</td>\n",
       "    </tr>\n",
       "  </tbody>\n",
       "</table>\n",
       "<p>78941 rows × 2 columns</p>\n",
       "</div>"
      ],
      "text/plain": [
       "                                  Unnamed: 0 integrated.data@active.ident\n",
       "Unnamed: 0                                                               \n",
       "SC07_AAACCTGAGCGTTTAC  SC07_AAACCTGAGCGTTTAC                          AT2\n",
       "SC07_AAACCTGAGTCGCCGT  SC07_AAACCTGAGTCGCCGT                          AT2\n",
       "SC07_AAACCTGGTAGGACAC  SC07_AAACCTGGTAGGACAC                          AT2\n",
       "SC07_AAACCTGGTGCCTTGG  SC07_AAACCTGGTGCCTTGG                          AT2\n",
       "SC07_AAACCTGGTTCAGCGC  SC07_AAACCTGGTTCAGCGC                    Secretory\n",
       "...                                      ...                          ...\n",
       "SC30_TTTGTCATCATACGGT  SC30_TTTGTCATCATACGGT         Alveolar macrophages\n",
       "SC30_TTTGTCATCATGTCTT  SC30_TTTGTCATCATGTCTT                          AT2\n",
       "SC30_TTTGTCATCGAACTGT  SC30_TTTGTCATCGAACTGT             SPP1 Macrophages\n",
       "SC30_TTTGTCATCGCCCTTA  SC30_TTTGTCATCGCCCTTA         Alveolar macrophages\n",
       "SC30_TTTGTCATCGCGTAGC  SC30_TTTGTCATCGCGTAGC         Alveolar macrophages\n",
       "\n",
       "[78941 rows x 2 columns]"
      ]
     },
     "execution_count": 27,
     "metadata": {},
     "output_type": "execute_result"
    },
    {
     "data": {
      "text/html": [
       "<div>\n",
       "<style scoped>\n",
       "    .dataframe tbody tr th:only-of-type {\n",
       "        vertical-align: middle;\n",
       "    }\n",
       "\n",
       "    .dataframe tbody tr th {\n",
       "        vertical-align: top;\n",
       "    }\n",
       "\n",
       "    .dataframe thead th {\n",
       "        text-align: right;\n",
       "    }\n",
       "</style>\n",
       "<table border=\"1\" class=\"dataframe\">\n",
       "  <thead>\n",
       "    <tr style=\"text-align: right;\">\n",
       "      <th></th>\n",
       "      <th>condition</th>\n",
       "      <th>subject_ID</th>\n",
       "      <th>dataset</th>\n",
       "      <th>study</th>\n",
       "      <th>preprocessing</th>\n",
       "      <th>sample</th>\n",
       "    </tr>\n",
       "  </thead>\n",
       "  <tbody>\n",
       "    <tr>\n",
       "      <th>AAACCTGCAACTGGCC-1</th>\n",
       "      <td>SSc-ILD</td>\n",
       "      <td>SSc-ILD_02</td>\n",
       "      <td>MisharinBudinger2019_disease</td>\n",
       "      <td>MisharinBudinger2019</td>\n",
       "      <td>filter cells to max_genes=7000 and genes to mi...</td>\n",
       "      <td>SSc-ILD_02</td>\n",
       "    </tr>\n",
       "    <tr>\n",
       "      <th>AAACCTGCACAGACAG-1</th>\n",
       "      <td>SSc-ILD</td>\n",
       "      <td>SSc-ILD_02</td>\n",
       "      <td>MisharinBudinger2019_disease</td>\n",
       "      <td>MisharinBudinger2019</td>\n",
       "      <td>filter cells to max_genes=7000 and genes to mi...</td>\n",
       "      <td>SSc-ILD_02</td>\n",
       "    </tr>\n",
       "    <tr>\n",
       "      <th>AAACCTGCACGTGAGA-1</th>\n",
       "      <td>SSc-ILD</td>\n",
       "      <td>SSc-ILD_02</td>\n",
       "      <td>MisharinBudinger2019_disease</td>\n",
       "      <td>MisharinBudinger2019</td>\n",
       "      <td>filter cells to max_genes=7000 and genes to mi...</td>\n",
       "      <td>SSc-ILD_02</td>\n",
       "    </tr>\n",
       "    <tr>\n",
       "      <th>AAACCTGGTAGAAGGA-1</th>\n",
       "      <td>SSc-ILD</td>\n",
       "      <td>SSc-ILD_02</td>\n",
       "      <td>MisharinBudinger2019_disease</td>\n",
       "      <td>MisharinBudinger2019</td>\n",
       "      <td>filter cells to max_genes=7000 and genes to mi...</td>\n",
       "      <td>SSc-ILD_02</td>\n",
       "    </tr>\n",
       "    <tr>\n",
       "      <th>AAACCTGGTATATGAG-1</th>\n",
       "      <td>SSc-ILD</td>\n",
       "      <td>SSc-ILD_02</td>\n",
       "      <td>MisharinBudinger2019_disease</td>\n",
       "      <td>MisharinBudinger2019</td>\n",
       "      <td>filter cells to max_genes=7000 and genes to mi...</td>\n",
       "      <td>SSc-ILD_02</td>\n",
       "    </tr>\n",
       "    <tr>\n",
       "      <th>...</th>\n",
       "      <td>...</td>\n",
       "      <td>...</td>\n",
       "      <td>...</td>\n",
       "      <td>...</td>\n",
       "      <td>...</td>\n",
       "      <td>...</td>\n",
       "    </tr>\n",
       "    <tr>\n",
       "      <th>TTTGTCAAGGGTCTCC-1</th>\n",
       "      <td>IPF</td>\n",
       "      <td>IPF_03</td>\n",
       "      <td>MisharinBudinger2019_disease</td>\n",
       "      <td>MisharinBudinger2019</td>\n",
       "      <td>filter cells to max_genes=7000 and genes to mi...</td>\n",
       "      <td>IPF_03</td>\n",
       "    </tr>\n",
       "    <tr>\n",
       "      <th>TTTGTCACAATAACGA-1</th>\n",
       "      <td>IPF</td>\n",
       "      <td>IPF_03</td>\n",
       "      <td>MisharinBudinger2019_disease</td>\n",
       "      <td>MisharinBudinger2019</td>\n",
       "      <td>filter cells to max_genes=7000 and genes to mi...</td>\n",
       "      <td>IPF_03</td>\n",
       "    </tr>\n",
       "    <tr>\n",
       "      <th>TTTGTCAGTTGGTTTG-1</th>\n",
       "      <td>IPF</td>\n",
       "      <td>IPF_03</td>\n",
       "      <td>MisharinBudinger2019_disease</td>\n",
       "      <td>MisharinBudinger2019</td>\n",
       "      <td>filter cells to max_genes=7000 and genes to mi...</td>\n",
       "      <td>IPF_03</td>\n",
       "    </tr>\n",
       "    <tr>\n",
       "      <th>TTTGTCAGTTTAGCTG-1</th>\n",
       "      <td>IPF</td>\n",
       "      <td>IPF_03</td>\n",
       "      <td>MisharinBudinger2019_disease</td>\n",
       "      <td>MisharinBudinger2019</td>\n",
       "      <td>filter cells to max_genes=7000 and genes to mi...</td>\n",
       "      <td>IPF_03</td>\n",
       "    </tr>\n",
       "    <tr>\n",
       "      <th>TTTGTCATCTTGTCAT-1</th>\n",
       "      <td>IPF</td>\n",
       "      <td>IPF_03</td>\n",
       "      <td>MisharinBudinger2019_disease</td>\n",
       "      <td>MisharinBudinger2019</td>\n",
       "      <td>filter cells to max_genes=7000 and genes to mi...</td>\n",
       "      <td>IPF_03</td>\n",
       "    </tr>\n",
       "  </tbody>\n",
       "</table>\n",
       "<p>37221 rows × 6 columns</p>\n",
       "</div>"
      ],
      "text/plain": [
       "                   condition  subject_ID                       dataset  \\\n",
       "AAACCTGCAACTGGCC-1   SSc-ILD  SSc-ILD_02  MisharinBudinger2019_disease   \n",
       "AAACCTGCACAGACAG-1   SSc-ILD  SSc-ILD_02  MisharinBudinger2019_disease   \n",
       "AAACCTGCACGTGAGA-1   SSc-ILD  SSc-ILD_02  MisharinBudinger2019_disease   \n",
       "AAACCTGGTAGAAGGA-1   SSc-ILD  SSc-ILD_02  MisharinBudinger2019_disease   \n",
       "AAACCTGGTATATGAG-1   SSc-ILD  SSc-ILD_02  MisharinBudinger2019_disease   \n",
       "...                      ...         ...                           ...   \n",
       "TTTGTCAAGGGTCTCC-1       IPF      IPF_03  MisharinBudinger2019_disease   \n",
       "TTTGTCACAATAACGA-1       IPF      IPF_03  MisharinBudinger2019_disease   \n",
       "TTTGTCAGTTGGTTTG-1       IPF      IPF_03  MisharinBudinger2019_disease   \n",
       "TTTGTCAGTTTAGCTG-1       IPF      IPF_03  MisharinBudinger2019_disease   \n",
       "TTTGTCATCTTGTCAT-1       IPF      IPF_03  MisharinBudinger2019_disease   \n",
       "\n",
       "                                   study  \\\n",
       "AAACCTGCAACTGGCC-1  MisharinBudinger2019   \n",
       "AAACCTGCACAGACAG-1  MisharinBudinger2019   \n",
       "AAACCTGCACGTGAGA-1  MisharinBudinger2019   \n",
       "AAACCTGGTAGAAGGA-1  MisharinBudinger2019   \n",
       "AAACCTGGTATATGAG-1  MisharinBudinger2019   \n",
       "...                                  ...   \n",
       "TTTGTCAAGGGTCTCC-1  MisharinBudinger2019   \n",
       "TTTGTCACAATAACGA-1  MisharinBudinger2019   \n",
       "TTTGTCAGTTGGTTTG-1  MisharinBudinger2019   \n",
       "TTTGTCAGTTTAGCTG-1  MisharinBudinger2019   \n",
       "TTTGTCATCTTGTCAT-1  MisharinBudinger2019   \n",
       "\n",
       "                                                        preprocessing  \\\n",
       "AAACCTGCAACTGGCC-1  filter cells to max_genes=7000 and genes to mi...   \n",
       "AAACCTGCACAGACAG-1  filter cells to max_genes=7000 and genes to mi...   \n",
       "AAACCTGCACGTGAGA-1  filter cells to max_genes=7000 and genes to mi...   \n",
       "AAACCTGGTAGAAGGA-1  filter cells to max_genes=7000 and genes to mi...   \n",
       "AAACCTGGTATATGAG-1  filter cells to max_genes=7000 and genes to mi...   \n",
       "...                                                               ...   \n",
       "TTTGTCAAGGGTCTCC-1  filter cells to max_genes=7000 and genes to mi...   \n",
       "TTTGTCACAATAACGA-1  filter cells to max_genes=7000 and genes to mi...   \n",
       "TTTGTCAGTTGGTTTG-1  filter cells to max_genes=7000 and genes to mi...   \n",
       "TTTGTCAGTTTAGCTG-1  filter cells to max_genes=7000 and genes to mi...   \n",
       "TTTGTCATCTTGTCAT-1  filter cells to max_genes=7000 and genes to mi...   \n",
       "\n",
       "                        sample  \n",
       "AAACCTGCAACTGGCC-1  SSc-ILD_02  \n",
       "AAACCTGCACAGACAG-1  SSc-ILD_02  \n",
       "AAACCTGCACGTGAGA-1  SSc-ILD_02  \n",
       "AAACCTGGTAGAAGGA-1  SSc-ILD_02  \n",
       "AAACCTGGTATATGAG-1  SSc-ILD_02  \n",
       "...                        ...  \n",
       "TTTGTCAAGGGTCTCC-1      IPF_03  \n",
       "TTTGTCACAATAACGA-1      IPF_03  \n",
       "TTTGTCAGTTGGTTTG-1      IPF_03  \n",
       "TTTGTCAGTTTAGCTG-1      IPF_03  \n",
       "TTTGTCATCTTGTCAT-1      IPF_03  \n",
       "\n",
       "[37221 rows x 6 columns]"
      ]
     },
     "execution_count": 27,
     "metadata": {},
     "output_type": "execute_result"
    }
   ],
   "source": [
    "samps\n",
    "idents\n",
    "adata.obs"
   ]
  },
  {
   "cell_type": "code",
   "execution_count": 28,
   "metadata": {},
   "outputs": [],
   "source": [
    "#Map obs names\n",
    "adata.obs_names = [samps.loc[adata.obs['sample'][idx]]['library_ID']+'_'+idx.split('-')[0] for idx in adata.obs_names]"
   ]
  },
  {
   "cell_type": "code",
   "execution_count": 29,
   "metadata": {
    "scrolled": true,
    "tags": []
   },
   "outputs": [
    {
     "data": {
      "text/html": [
       "<div>\n",
       "<style scoped>\n",
       "    .dataframe tbody tr th:only-of-type {\n",
       "        vertical-align: middle;\n",
       "    }\n",
       "\n",
       "    .dataframe tbody tr th {\n",
       "        vertical-align: top;\n",
       "    }\n",
       "\n",
       "    .dataframe thead th {\n",
       "        text-align: right;\n",
       "    }\n",
       "</style>\n",
       "<table border=\"1\" class=\"dataframe\">\n",
       "  <thead>\n",
       "    <tr style=\"text-align: right;\">\n",
       "      <th></th>\n",
       "      <th>condition</th>\n",
       "      <th>subject_ID</th>\n",
       "      <th>dataset</th>\n",
       "      <th>study</th>\n",
       "      <th>preprocessing</th>\n",
       "      <th>sample</th>\n",
       "    </tr>\n",
       "  </thead>\n",
       "  <tbody>\n",
       "    <tr>\n",
       "      <th>SC30_AAACCTGCAACTGGCC</th>\n",
       "      <td>SSc-ILD</td>\n",
       "      <td>SSc-ILD_02</td>\n",
       "      <td>MisharinBudinger2019_disease</td>\n",
       "      <td>MisharinBudinger2019</td>\n",
       "      <td>filter cells to max_genes=7000 and genes to mi...</td>\n",
       "      <td>SSc-ILD_02</td>\n",
       "    </tr>\n",
       "    <tr>\n",
       "      <th>SC30_AAACCTGCACAGACAG</th>\n",
       "      <td>SSc-ILD</td>\n",
       "      <td>SSc-ILD_02</td>\n",
       "      <td>MisharinBudinger2019_disease</td>\n",
       "      <td>MisharinBudinger2019</td>\n",
       "      <td>filter cells to max_genes=7000 and genes to mi...</td>\n",
       "      <td>SSc-ILD_02</td>\n",
       "    </tr>\n",
       "    <tr>\n",
       "      <th>SC30_AAACCTGCACGTGAGA</th>\n",
       "      <td>SSc-ILD</td>\n",
       "      <td>SSc-ILD_02</td>\n",
       "      <td>MisharinBudinger2019_disease</td>\n",
       "      <td>MisharinBudinger2019</td>\n",
       "      <td>filter cells to max_genes=7000 and genes to mi...</td>\n",
       "      <td>SSc-ILD_02</td>\n",
       "    </tr>\n",
       "    <tr>\n",
       "      <th>SC30_AAACCTGGTAGAAGGA</th>\n",
       "      <td>SSc-ILD</td>\n",
       "      <td>SSc-ILD_02</td>\n",
       "      <td>MisharinBudinger2019_disease</td>\n",
       "      <td>MisharinBudinger2019</td>\n",
       "      <td>filter cells to max_genes=7000 and genes to mi...</td>\n",
       "      <td>SSc-ILD_02</td>\n",
       "    </tr>\n",
       "    <tr>\n",
       "      <th>SC30_AAACCTGGTATATGAG</th>\n",
       "      <td>SSc-ILD</td>\n",
       "      <td>SSc-ILD_02</td>\n",
       "      <td>MisharinBudinger2019_disease</td>\n",
       "      <td>MisharinBudinger2019</td>\n",
       "      <td>filter cells to max_genes=7000 and genes to mi...</td>\n",
       "      <td>SSc-ILD_02</td>\n",
       "    </tr>\n",
       "    <tr>\n",
       "      <th>...</th>\n",
       "      <td>...</td>\n",
       "      <td>...</td>\n",
       "      <td>...</td>\n",
       "      <td>...</td>\n",
       "      <td>...</td>\n",
       "      <td>...</td>\n",
       "    </tr>\n",
       "    <tr>\n",
       "      <th>SC19_TTTGTCAAGGGTCTCC</th>\n",
       "      <td>IPF</td>\n",
       "      <td>IPF_03</td>\n",
       "      <td>MisharinBudinger2019_disease</td>\n",
       "      <td>MisharinBudinger2019</td>\n",
       "      <td>filter cells to max_genes=7000 and genes to mi...</td>\n",
       "      <td>IPF_03</td>\n",
       "    </tr>\n",
       "    <tr>\n",
       "      <th>SC19_TTTGTCACAATAACGA</th>\n",
       "      <td>IPF</td>\n",
       "      <td>IPF_03</td>\n",
       "      <td>MisharinBudinger2019_disease</td>\n",
       "      <td>MisharinBudinger2019</td>\n",
       "      <td>filter cells to max_genes=7000 and genes to mi...</td>\n",
       "      <td>IPF_03</td>\n",
       "    </tr>\n",
       "    <tr>\n",
       "      <th>SC19_TTTGTCAGTTGGTTTG</th>\n",
       "      <td>IPF</td>\n",
       "      <td>IPF_03</td>\n",
       "      <td>MisharinBudinger2019_disease</td>\n",
       "      <td>MisharinBudinger2019</td>\n",
       "      <td>filter cells to max_genes=7000 and genes to mi...</td>\n",
       "      <td>IPF_03</td>\n",
       "    </tr>\n",
       "    <tr>\n",
       "      <th>SC19_TTTGTCAGTTTAGCTG</th>\n",
       "      <td>IPF</td>\n",
       "      <td>IPF_03</td>\n",
       "      <td>MisharinBudinger2019_disease</td>\n",
       "      <td>MisharinBudinger2019</td>\n",
       "      <td>filter cells to max_genes=7000 and genes to mi...</td>\n",
       "      <td>IPF_03</td>\n",
       "    </tr>\n",
       "    <tr>\n",
       "      <th>SC19_TTTGTCATCTTGTCAT</th>\n",
       "      <td>IPF</td>\n",
       "      <td>IPF_03</td>\n",
       "      <td>MisharinBudinger2019_disease</td>\n",
       "      <td>MisharinBudinger2019</td>\n",
       "      <td>filter cells to max_genes=7000 and genes to mi...</td>\n",
       "      <td>IPF_03</td>\n",
       "    </tr>\n",
       "  </tbody>\n",
       "</table>\n",
       "<p>37221 rows × 6 columns</p>\n",
       "</div>"
      ],
      "text/plain": [
       "                      condition  subject_ID                       dataset  \\\n",
       "SC30_AAACCTGCAACTGGCC   SSc-ILD  SSc-ILD_02  MisharinBudinger2019_disease   \n",
       "SC30_AAACCTGCACAGACAG   SSc-ILD  SSc-ILD_02  MisharinBudinger2019_disease   \n",
       "SC30_AAACCTGCACGTGAGA   SSc-ILD  SSc-ILD_02  MisharinBudinger2019_disease   \n",
       "SC30_AAACCTGGTAGAAGGA   SSc-ILD  SSc-ILD_02  MisharinBudinger2019_disease   \n",
       "SC30_AAACCTGGTATATGAG   SSc-ILD  SSc-ILD_02  MisharinBudinger2019_disease   \n",
       "...                         ...         ...                           ...   \n",
       "SC19_TTTGTCAAGGGTCTCC       IPF      IPF_03  MisharinBudinger2019_disease   \n",
       "SC19_TTTGTCACAATAACGA       IPF      IPF_03  MisharinBudinger2019_disease   \n",
       "SC19_TTTGTCAGTTGGTTTG       IPF      IPF_03  MisharinBudinger2019_disease   \n",
       "SC19_TTTGTCAGTTTAGCTG       IPF      IPF_03  MisharinBudinger2019_disease   \n",
       "SC19_TTTGTCATCTTGTCAT       IPF      IPF_03  MisharinBudinger2019_disease   \n",
       "\n",
       "                                      study  \\\n",
       "SC30_AAACCTGCAACTGGCC  MisharinBudinger2019   \n",
       "SC30_AAACCTGCACAGACAG  MisharinBudinger2019   \n",
       "SC30_AAACCTGCACGTGAGA  MisharinBudinger2019   \n",
       "SC30_AAACCTGGTAGAAGGA  MisharinBudinger2019   \n",
       "SC30_AAACCTGGTATATGAG  MisharinBudinger2019   \n",
       "...                                     ...   \n",
       "SC19_TTTGTCAAGGGTCTCC  MisharinBudinger2019   \n",
       "SC19_TTTGTCACAATAACGA  MisharinBudinger2019   \n",
       "SC19_TTTGTCAGTTGGTTTG  MisharinBudinger2019   \n",
       "SC19_TTTGTCAGTTTAGCTG  MisharinBudinger2019   \n",
       "SC19_TTTGTCATCTTGTCAT  MisharinBudinger2019   \n",
       "\n",
       "                                                           preprocessing  \\\n",
       "SC30_AAACCTGCAACTGGCC  filter cells to max_genes=7000 and genes to mi...   \n",
       "SC30_AAACCTGCACAGACAG  filter cells to max_genes=7000 and genes to mi...   \n",
       "SC30_AAACCTGCACGTGAGA  filter cells to max_genes=7000 and genes to mi...   \n",
       "SC30_AAACCTGGTAGAAGGA  filter cells to max_genes=7000 and genes to mi...   \n",
       "SC30_AAACCTGGTATATGAG  filter cells to max_genes=7000 and genes to mi...   \n",
       "...                                                                  ...   \n",
       "SC19_TTTGTCAAGGGTCTCC  filter cells to max_genes=7000 and genes to mi...   \n",
       "SC19_TTTGTCACAATAACGA  filter cells to max_genes=7000 and genes to mi...   \n",
       "SC19_TTTGTCAGTTGGTTTG  filter cells to max_genes=7000 and genes to mi...   \n",
       "SC19_TTTGTCAGTTTAGCTG  filter cells to max_genes=7000 and genes to mi...   \n",
       "SC19_TTTGTCATCTTGTCAT  filter cells to max_genes=7000 and genes to mi...   \n",
       "\n",
       "                           sample  \n",
       "SC30_AAACCTGCAACTGGCC  SSc-ILD_02  \n",
       "SC30_AAACCTGCACAGACAG  SSc-ILD_02  \n",
       "SC30_AAACCTGCACGTGAGA  SSc-ILD_02  \n",
       "SC30_AAACCTGGTAGAAGGA  SSc-ILD_02  \n",
       "SC30_AAACCTGGTATATGAG  SSc-ILD_02  \n",
       "...                           ...  \n",
       "SC19_TTTGTCAAGGGTCTCC      IPF_03  \n",
       "SC19_TTTGTCACAATAACGA      IPF_03  \n",
       "SC19_TTTGTCAGTTGGTTTG      IPF_03  \n",
       "SC19_TTTGTCAGTTTAGCTG      IPF_03  \n",
       "SC19_TTTGTCATCTTGTCAT      IPF_03  \n",
       "\n",
       "[37221 rows x 6 columns]"
      ]
     },
     "execution_count": 29,
     "metadata": {},
     "output_type": "execute_result"
    }
   ],
   "source": [
    "adata.obs"
   ]
  },
  {
   "cell_type": "code",
   "execution_count": 31,
   "metadata": {},
   "outputs": [],
   "source": [
    "adata.obs['original_celltype_ann'] = idents['integrated.data@active.ident']"
   ]
  },
  {
   "cell_type": "code",
   "execution_count": 32,
   "metadata": {},
   "outputs": [
    {
     "data": {
      "text/html": [
       "<div>\n",
       "<style scoped>\n",
       "    .dataframe tbody tr th:only-of-type {\n",
       "        vertical-align: middle;\n",
       "    }\n",
       "\n",
       "    .dataframe tbody tr th {\n",
       "        vertical-align: top;\n",
       "    }\n",
       "\n",
       "    .dataframe thead th {\n",
       "        text-align: right;\n",
       "    }\n",
       "</style>\n",
       "<table border=\"1\" class=\"dataframe\">\n",
       "  <thead>\n",
       "    <tr style=\"text-align: right;\">\n",
       "      <th></th>\n",
       "      <th>condition</th>\n",
       "      <th>subject_ID</th>\n",
       "      <th>dataset</th>\n",
       "      <th>study</th>\n",
       "      <th>preprocessing</th>\n",
       "      <th>sample</th>\n",
       "      <th>original_celltype_ann</th>\n",
       "    </tr>\n",
       "  </thead>\n",
       "  <tbody>\n",
       "    <tr>\n",
       "      <th>SC30_AAACCTGCAACTGGCC</th>\n",
       "      <td>SSc-ILD</td>\n",
       "      <td>SSc-ILD_02</td>\n",
       "      <td>MisharinBudinger2019_disease</td>\n",
       "      <td>MisharinBudinger2019</td>\n",
       "      <td>filter cells to max_genes=7000 and genes to mi...</td>\n",
       "      <td>SSc-ILD_02</td>\n",
       "      <td>Alveolar macrophages</td>\n",
       "    </tr>\n",
       "    <tr>\n",
       "      <th>SC30_AAACCTGCACAGACAG</th>\n",
       "      <td>SSc-ILD</td>\n",
       "      <td>SSc-ILD_02</td>\n",
       "      <td>MisharinBudinger2019_disease</td>\n",
       "      <td>MisharinBudinger2019</td>\n",
       "      <td>filter cells to max_genes=7000 and genes to mi...</td>\n",
       "      <td>SSc-ILD_02</td>\n",
       "      <td>Alveolar macrophages</td>\n",
       "    </tr>\n",
       "    <tr>\n",
       "      <th>SC30_AAACCTGCACGTGAGA</th>\n",
       "      <td>SSc-ILD</td>\n",
       "      <td>SSc-ILD_02</td>\n",
       "      <td>MisharinBudinger2019_disease</td>\n",
       "      <td>MisharinBudinger2019</td>\n",
       "      <td>filter cells to max_genes=7000 and genes to mi...</td>\n",
       "      <td>SSc-ILD_02</td>\n",
       "      <td>Alveolar macrophages</td>\n",
       "    </tr>\n",
       "    <tr>\n",
       "      <th>SC30_AAACCTGGTAGAAGGA</th>\n",
       "      <td>SSc-ILD</td>\n",
       "      <td>SSc-ILD_02</td>\n",
       "      <td>MisharinBudinger2019_disease</td>\n",
       "      <td>MisharinBudinger2019</td>\n",
       "      <td>filter cells to max_genes=7000 and genes to mi...</td>\n",
       "      <td>SSc-ILD_02</td>\n",
       "      <td>AT2</td>\n",
       "    </tr>\n",
       "    <tr>\n",
       "      <th>SC30_AAACCTGGTATATGAG</th>\n",
       "      <td>SSc-ILD</td>\n",
       "      <td>SSc-ILD_02</td>\n",
       "      <td>MisharinBudinger2019_disease</td>\n",
       "      <td>MisharinBudinger2019</td>\n",
       "      <td>filter cells to max_genes=7000 and genes to mi...</td>\n",
       "      <td>SSc-ILD_02</td>\n",
       "      <td>Alveolar macrophages</td>\n",
       "    </tr>\n",
       "    <tr>\n",
       "      <th>...</th>\n",
       "      <td>...</td>\n",
       "      <td>...</td>\n",
       "      <td>...</td>\n",
       "      <td>...</td>\n",
       "      <td>...</td>\n",
       "      <td>...</td>\n",
       "      <td>...</td>\n",
       "    </tr>\n",
       "    <tr>\n",
       "      <th>SC19_TTTGTCAAGGGTCTCC</th>\n",
       "      <td>IPF</td>\n",
       "      <td>IPF_03</td>\n",
       "      <td>MisharinBudinger2019_disease</td>\n",
       "      <td>MisharinBudinger2019</td>\n",
       "      <td>filter cells to max_genes=7000 and genes to mi...</td>\n",
       "      <td>IPF_03</td>\n",
       "      <td>AT2</td>\n",
       "    </tr>\n",
       "    <tr>\n",
       "      <th>SC19_TTTGTCACAATAACGA</th>\n",
       "      <td>IPF</td>\n",
       "      <td>IPF_03</td>\n",
       "      <td>MisharinBudinger2019_disease</td>\n",
       "      <td>MisharinBudinger2019</td>\n",
       "      <td>filter cells to max_genes=7000 and genes to mi...</td>\n",
       "      <td>IPF_03</td>\n",
       "      <td>SPP1 Macrophages</td>\n",
       "    </tr>\n",
       "    <tr>\n",
       "      <th>SC19_TTTGTCAGTTGGTTTG</th>\n",
       "      <td>IPF</td>\n",
       "      <td>IPF_03</td>\n",
       "      <td>MisharinBudinger2019_disease</td>\n",
       "      <td>MisharinBudinger2019</td>\n",
       "      <td>filter cells to max_genes=7000 and genes to mi...</td>\n",
       "      <td>IPF_03</td>\n",
       "      <td>DC</td>\n",
       "    </tr>\n",
       "    <tr>\n",
       "      <th>SC19_TTTGTCAGTTTAGCTG</th>\n",
       "      <td>IPF</td>\n",
       "      <td>IPF_03</td>\n",
       "      <td>MisharinBudinger2019_disease</td>\n",
       "      <td>MisharinBudinger2019</td>\n",
       "      <td>filter cells to max_genes=7000 and genes to mi...</td>\n",
       "      <td>IPF_03</td>\n",
       "      <td>SPP1 Macrophages</td>\n",
       "    </tr>\n",
       "    <tr>\n",
       "      <th>SC19_TTTGTCATCTTGTCAT</th>\n",
       "      <td>IPF</td>\n",
       "      <td>IPF_03</td>\n",
       "      <td>MisharinBudinger2019_disease</td>\n",
       "      <td>MisharinBudinger2019</td>\n",
       "      <td>filter cells to max_genes=7000 and genes to mi...</td>\n",
       "      <td>IPF_03</td>\n",
       "      <td>Alveolar macrophages</td>\n",
       "    </tr>\n",
       "  </tbody>\n",
       "</table>\n",
       "<p>37221 rows × 7 columns</p>\n",
       "</div>"
      ],
      "text/plain": [
       "                      condition  subject_ID                       dataset  \\\n",
       "SC30_AAACCTGCAACTGGCC   SSc-ILD  SSc-ILD_02  MisharinBudinger2019_disease   \n",
       "SC30_AAACCTGCACAGACAG   SSc-ILD  SSc-ILD_02  MisharinBudinger2019_disease   \n",
       "SC30_AAACCTGCACGTGAGA   SSc-ILD  SSc-ILD_02  MisharinBudinger2019_disease   \n",
       "SC30_AAACCTGGTAGAAGGA   SSc-ILD  SSc-ILD_02  MisharinBudinger2019_disease   \n",
       "SC30_AAACCTGGTATATGAG   SSc-ILD  SSc-ILD_02  MisharinBudinger2019_disease   \n",
       "...                         ...         ...                           ...   \n",
       "SC19_TTTGTCAAGGGTCTCC       IPF      IPF_03  MisharinBudinger2019_disease   \n",
       "SC19_TTTGTCACAATAACGA       IPF      IPF_03  MisharinBudinger2019_disease   \n",
       "SC19_TTTGTCAGTTGGTTTG       IPF      IPF_03  MisharinBudinger2019_disease   \n",
       "SC19_TTTGTCAGTTTAGCTG       IPF      IPF_03  MisharinBudinger2019_disease   \n",
       "SC19_TTTGTCATCTTGTCAT       IPF      IPF_03  MisharinBudinger2019_disease   \n",
       "\n",
       "                                      study  \\\n",
       "SC30_AAACCTGCAACTGGCC  MisharinBudinger2019   \n",
       "SC30_AAACCTGCACAGACAG  MisharinBudinger2019   \n",
       "SC30_AAACCTGCACGTGAGA  MisharinBudinger2019   \n",
       "SC30_AAACCTGGTAGAAGGA  MisharinBudinger2019   \n",
       "SC30_AAACCTGGTATATGAG  MisharinBudinger2019   \n",
       "...                                     ...   \n",
       "SC19_TTTGTCAAGGGTCTCC  MisharinBudinger2019   \n",
       "SC19_TTTGTCACAATAACGA  MisharinBudinger2019   \n",
       "SC19_TTTGTCAGTTGGTTTG  MisharinBudinger2019   \n",
       "SC19_TTTGTCAGTTTAGCTG  MisharinBudinger2019   \n",
       "SC19_TTTGTCATCTTGTCAT  MisharinBudinger2019   \n",
       "\n",
       "                                                           preprocessing  \\\n",
       "SC30_AAACCTGCAACTGGCC  filter cells to max_genes=7000 and genes to mi...   \n",
       "SC30_AAACCTGCACAGACAG  filter cells to max_genes=7000 and genes to mi...   \n",
       "SC30_AAACCTGCACGTGAGA  filter cells to max_genes=7000 and genes to mi...   \n",
       "SC30_AAACCTGGTAGAAGGA  filter cells to max_genes=7000 and genes to mi...   \n",
       "SC30_AAACCTGGTATATGAG  filter cells to max_genes=7000 and genes to mi...   \n",
       "...                                                                  ...   \n",
       "SC19_TTTGTCAAGGGTCTCC  filter cells to max_genes=7000 and genes to mi...   \n",
       "SC19_TTTGTCACAATAACGA  filter cells to max_genes=7000 and genes to mi...   \n",
       "SC19_TTTGTCAGTTGGTTTG  filter cells to max_genes=7000 and genes to mi...   \n",
       "SC19_TTTGTCAGTTTAGCTG  filter cells to max_genes=7000 and genes to mi...   \n",
       "SC19_TTTGTCATCTTGTCAT  filter cells to max_genes=7000 and genes to mi...   \n",
       "\n",
       "                           sample original_celltype_ann  \n",
       "SC30_AAACCTGCAACTGGCC  SSc-ILD_02  Alveolar macrophages  \n",
       "SC30_AAACCTGCACAGACAG  SSc-ILD_02  Alveolar macrophages  \n",
       "SC30_AAACCTGCACGTGAGA  SSc-ILD_02  Alveolar macrophages  \n",
       "SC30_AAACCTGGTAGAAGGA  SSc-ILD_02                   AT2  \n",
       "SC30_AAACCTGGTATATGAG  SSc-ILD_02  Alveolar macrophages  \n",
       "...                           ...                   ...  \n",
       "SC19_TTTGTCAAGGGTCTCC      IPF_03                   AT2  \n",
       "SC19_TTTGTCACAATAACGA      IPF_03      SPP1 Macrophages  \n",
       "SC19_TTTGTCAGTTGGTTTG      IPF_03                    DC  \n",
       "SC19_TTTGTCAGTTTAGCTG      IPF_03      SPP1 Macrophages  \n",
       "SC19_TTTGTCATCTTGTCAT      IPF_03  Alveolar macrophages  \n",
       "\n",
       "[37221 rows x 7 columns]"
      ]
     },
     "execution_count": 32,
     "metadata": {},
     "output_type": "execute_result"
    }
   ],
   "source": [
    "adata.obs"
   ]
  },
  {
   "cell_type": "code",
   "execution_count": 35,
   "metadata": {},
   "outputs": [
    {
     "data": {
      "text/plain": [
       "Alveolar macrophages        13891\n",
       "AT2                          6549\n",
       "SPP1 Macrophages             2396\n",
       "CD8 T cells                  1774\n",
       "F13A1 Macrophages            1493\n",
       "Ciliated                     1488\n",
       "Monocytes                    1346\n",
       "Secretory                    1203\n",
       "Plasma cells                 1167\n",
       "Proliferating immune          963\n",
       "DC                            946\n",
       "AT1                           896\n",
       "Endothelial                   798\n",
       "B cells                       549\n",
       "KRT5 Basal cells              541\n",
       "Mast cells                    479\n",
       "SMC+Fibroblasts               423\n",
       "Lymphatics                     94\n",
       "Proliferating epithelial       75\n",
       "Erythroblasts                  26\n",
       "Name: original_celltype_ann, dtype: int64"
      ]
     },
     "execution_count": 35,
     "metadata": {},
     "output_type": "execute_result"
    }
   ],
   "source": [
    "adata.obs['original_celltype_ann'].value_counts()"
   ]
  },
  {
   "cell_type": "code",
   "execution_count": 40,
   "metadata": {},
   "outputs": [
    {
     "data": {
      "text/plain": [
       "124"
      ]
     },
     "execution_count": 40,
     "metadata": {},
     "output_type": "execute_result"
    }
   ],
   "source": [
    "np.sum(adata.obs['original_celltype_ann'].isna())"
   ]
  },
  {
   "cell_type": "markdown",
   "metadata": {},
   "source": [
    "### Filter out NA celltype cells"
   ]
  },
  {
   "cell_type": "code",
   "execution_count": 42,
   "metadata": {},
   "outputs": [],
   "source": [
    "adata = adata[~adata.obs['original_celltype_ann'].isin([np.nan])].copy()"
   ]
  },
  {
   "cell_type": "code",
   "execution_count": 43,
   "metadata": {},
   "outputs": [
    {
     "data": {
      "text/plain": [
       "AnnData object with n_obs × n_vars = 37097 × 27181\n",
       "    obs: 'condition', 'subject_ID', 'dataset', 'study', 'preprocessing', 'sample', 'original_celltype_ann'\n",
       "    var: 'n_counts'"
      ]
     },
     "execution_count": 43,
     "metadata": {},
     "output_type": "execute_result"
    },
    {
     "data": {
      "text/plain": [
       "0"
      ]
     },
     "execution_count": 43,
     "metadata": {},
     "output_type": "execute_result"
    }
   ],
   "source": [
    "adata\n",
    "np.sum(adata_nona.obs['original_celltype_ann'].isna())"
   ]
  },
  {
   "cell_type": "markdown",
   "metadata": {},
   "source": [
    "# Write full object"
   ]
  },
  {
   "cell_type": "code",
   "execution_count": 44,
   "metadata": {},
   "outputs": [
    {
     "data": {
      "text/plain": [
       "AnnData object with n_obs × n_vars = 37097 × 27181\n",
       "    obs: 'condition', 'subject_ID', 'dataset', 'study', 'preprocessing', 'sample', 'original_celltype_ann'\n",
       "    var: 'n_counts'"
      ]
     },
     "execution_count": 44,
     "metadata": {},
     "output_type": "execute_result"
    }
   ],
   "source": [
    "adata"
   ]
  },
  {
   "cell_type": "code",
   "execution_count": 45,
   "metadata": {},
   "outputs": [
    {
     "name": "stderr",
     "output_type": "stream",
     "text": [
      "... storing 'preprocessing' as categorical\n",
      "... storing 'original_celltype_ann' as categorical\n"
     ]
    }
   ],
   "source": [
    "adata.write('../../../data/HLCA_extended/extension_datasets/ready/full/reyfman_disease.h5ad')"
   ]
  },
  {
   "cell_type": "code",
   "execution_count": null,
   "metadata": {},
   "outputs": [],
   "source": []
  },
  {
   "cell_type": "markdown",
   "metadata": {},
   "source": [
    "# Subset data"
   ]
  },
  {
   "cell_type": "code",
   "execution_count": 46,
   "metadata": {},
   "outputs": [],
   "source": [
    "adata = sc.read('ready/full/reyfman_disease.h5ad')\n",
    "gene_set = pd.read_csv('genes_for_mapping.csv')"
   ]
  },
  {
   "cell_type": "code",
   "execution_count": 47,
   "metadata": {},
   "outputs": [
    {
     "name": "stdout",
     "output_type": "stream",
     "text": [
      "/mnt/znas/icb_zstore01/groups/ml01/workspace/hlca_lisa.sikkema_malte.luecken/scripts\n"
     ]
    }
   ],
   "source": [
    "cd ../scripts"
   ]
  },
  {
   "cell_type": "code",
   "execution_count": 48,
   "metadata": {},
   "outputs": [],
   "source": [
    "import preprocessing as pp"
   ]
  },
  {
   "cell_type": "code",
   "execution_count": 49,
   "metadata": {},
   "outputs": [
    {
     "name": "stdout",
     "output_type": "stream",
     "text": [
      "/mnt/znas/icb_zstore01/groups/ml01/workspace/hlca_lisa.sikkema_malte.luecken/query_datasets\n"
     ]
    }
   ],
   "source": [
    "cd ../query_datasets/"
   ]
  },
  {
   "cell_type": "code",
   "execution_count": 50,
   "metadata": {},
   "outputs": [
    {
     "name": "stdout",
     "output_type": "stream",
     "text": [
      "not all genes were recovered, filling in 0 counts for 6 missing genes...\n"
     ]
    }
   ],
   "source": [
    "adata_sub = pp.subset_and_pad_adata(gene_set, adata)"
   ]
  },
  {
   "cell_type": "markdown",
   "metadata": {},
   "source": [
    "# Write output"
   ]
  },
  {
   "cell_type": "code",
   "execution_count": 51,
   "metadata": {},
   "outputs": [
    {
     "name": "stderr",
     "output_type": "stream",
     "text": [
      "... storing 'gene_symbols' as categorical\n"
     ]
    }
   ],
   "source": [
    "adata_sub.write('../../../data/HLCA_extended/extension_datasets/ready/subsetted/reyfman_disease_sub.h5ad')"
   ]
  }
 ],
 "metadata": {
  "kernelspec": {
   "display_name": "Python 3",
   "language": "python",
   "name": "python3"
  },
  "language_info": {
   "codemirror_mode": {
    "name": "ipython",
    "version": 3
   },
   "file_extension": ".py",
   "mimetype": "text/x-python",
   "name": "python",
   "nbconvert_exporter": "python",
   "pygments_lexer": "ipython3",
   "version": "3.7.5"
  }
 },
 "nbformat": 4,
 "nbformat_minor": 5
}
