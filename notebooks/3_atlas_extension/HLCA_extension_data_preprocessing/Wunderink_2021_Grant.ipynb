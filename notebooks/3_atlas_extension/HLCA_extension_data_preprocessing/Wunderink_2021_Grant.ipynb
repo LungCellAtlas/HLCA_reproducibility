{
 "cells": [
  {
   "cell_type": "markdown",
   "metadata": {},
   "source": [
    "# Import data for Wunderink_2021/Grant:"
   ]
  },
  {
   "cell_type": "code",
   "execution_count": 1,
   "metadata": {},
   "outputs": [],
   "source": [
    "import scanpy as sc\n",
    "import numpy as np\n",
    "import pandas as pd"
   ]
  },
  {
   "cell_type": "markdown",
   "metadata": {},
   "source": [
    "# Load data"
   ]
  },
  {
   "cell_type": "code",
   "execution_count": 2,
   "metadata": {},
   "outputs": [
    {
     "name": "stdout",
     "output_type": "stream",
     "text": [
      "/mnt/znas/icb_zstore01/groups/ml01/workspace/hlca_lisa.sikkema_malte.luecken/query_datasets\n"
     ]
    }
   ],
   "source": [
    "!pwd"
   ]
  },
  {
   "cell_type": "code",
   "execution_count": 3,
   "metadata": {},
   "outputs": [],
   "source": [
    "adata = sc.read('raw/Grant/GSE155249_main.h5ad')"
   ]
  },
  {
   "cell_type": "code",
   "execution_count": 4,
   "metadata": {},
   "outputs": [],
   "source": [
    "gene_set = pd.read_csv('genes_for_mapping.csv')"
   ]
  },
  {
   "cell_type": "code",
   "execution_count": 5,
   "metadata": {},
   "outputs": [],
   "source": [
    "meta = pd.read_csv('raw/Grant/patients-metadata.csv', index_col=0)"
   ]
  },
  {
   "cell_type": "code",
   "execution_count": 6,
   "metadata": {},
   "outputs": [
    {
     "name": "stderr",
     "output_type": "stream",
     "text": [
      "Variable names are not unique. To make them unique, call `.var_names_make_unique`.\n",
      "Variable names are not unique. To make them unique, call `.var_names_make_unique`.\n",
      "Variable names are not unique. To make them unique, call `.var_names_make_unique`.\n",
      "Variable names are not unique. To make them unique, call `.var_names_make_unique`.\n",
      "Variable names are not unique. To make them unique, call `.var_names_make_unique`.\n",
      "Variable names are not unique. To make them unique, call `.var_names_make_unique`.\n",
      "Variable names are not unique. To make them unique, call `.var_names_make_unique`.\n",
      "Variable names are not unique. To make them unique, call `.var_names_make_unique`.\n",
      "Variable names are not unique. To make them unique, call `.var_names_make_unique`.\n",
      "Variable names are not unique. To make them unique, call `.var_names_make_unique`.\n",
      "Variable names are not unique. To make them unique, call `.var_names_make_unique`.\n",
      "Variable names are not unique. To make them unique, call `.var_names_make_unique`.\n",
      "Variable names are not unique. To make them unique, call `.var_names_make_unique`.\n",
      "Variable names are not unique. To make them unique, call `.var_names_make_unique`.\n",
      "Variable names are not unique. To make them unique, call `.var_names_make_unique`.\n",
      "Variable names are not unique. To make them unique, call `.var_names_make_unique`.\n",
      "Variable names are not unique. To make them unique, call `.var_names_make_unique`.\n",
      "Variable names are not unique. To make them unique, call `.var_names_make_unique`.\n",
      "Variable names are not unique. To make them unique, call `.var_names_make_unique`.\n",
      "Variable names are not unique. To make them unique, call `.var_names_make_unique`.\n",
      "Variable names are not unique. To make them unique, call `.var_names_make_unique`.\n",
      "Variable names are not unique. To make them unique, call `.var_names_make_unique`.\n",
      "Variable names are not unique. To make them unique, call `.var_names_make_unique`.\n",
      "Variable names are not unique. To make them unique, call `.var_names_make_unique`.\n",
      "Variable names are not unique. To make them unique, call `.var_names_make_unique`.\n",
      "Variable names are not unique. To make them unique, call `.var_names_make_unique`.\n",
      "Variable names are not unique. To make them unique, call `.var_names_make_unique`.\n",
      "Variable names are not unique. To make them unique, call `.var_names_make_unique`.\n",
      "Variable names are not unique. To make them unique, call `.var_names_make_unique`.\n",
      "Variable names are not unique. To make them unique, call `.var_names_make_unique`.\n"
     ]
    }
   ],
   "source": [
    "raw_data = dict()\n",
    "files = !ls raw/Grant/*.h5\n",
    "for file in files:\n",
    "    samp = file.split('_')[2]\n",
    "    raw_data[samp] = sc.read_10x_h5(file)\n",
    "    raw_data[samp].var_names_make_unique(join='.')"
   ]
  },
  {
   "cell_type": "code",
   "execution_count": 7,
   "metadata": {},
   "outputs": [
    {
     "data": {
      "text/plain": [
       "AnnData object with n_obs × n_vars = 77146 × 21819\n",
       "    obs: 'Patient', 'Day after intubation', 'Sample type', 'Sample', 'Sample status', 'Cluster', 'COVID-19', 'No of SARS-CoV-2 genes', 'IFNA Response', 'IFNG Response', 'No of genes', 'No of UMIs', '% of mito genes', '% of ribo genes'\n",
       "    var: 'gene_ids-0', 'feature_types-0', 'n_cells-0', 'gene_ids-1', 'feature_types-1', 'n_cells-1', 'gene_ids-10', 'feature_types-10', 'n_cells-10', 'gene_ids-11', 'feature_types-11', 'n_cells-11', 'gene_ids-12', 'feature_types-12', 'n_cells-12', 'gene_ids-13', 'feature_types-13', 'n_cells-13', 'gene_ids-14', 'feature_types-14', 'n_cells-14', 'gene_ids-15', 'feature_types-15', 'n_cells-15', 'gene_ids-16', 'feature_types-16', 'n_cells-16', 'gene_ids-17', 'feature_types-17', 'n_cells-17', 'gene_ids-18', 'feature_types-18', 'n_cells-18', 'gene_ids-2', 'feature_types-2', 'n_cells-2', 'gene_ids-3', 'feature_types-3', 'n_cells-3', 'gene_ids-4', 'feature_types-4', 'n_cells-4', 'gene_ids-5', 'feature_types-5', 'n_cells-5', 'gene_ids-6', 'feature_types-6', 'n_cells-6', 'gene_ids-7', 'feature_types-7', 'n_cells-7', 'gene_ids-8', 'feature_types-8', 'n_cells-8', 'gene_ids-9', 'feature_types-9', 'n_cells-9', 'mito', 'ribo', 'n_cells_by_counts', 'mean_counts', 'pct_dropout_by_counts', 'total_counts', 'highly_variable', 'means', 'dispersions', 'dispersions_norm', 'highly_variable_nbatches', 'highly_variable_intersection', 'mean', 'std'\n",
       "    uns: 'celltype_colors', 'leiden', 'neighbors', 'pca', 'rank_genes_groups', 'umap'\n",
       "    obsm: 'X_pca', 'X_umap'\n",
       "    varm: 'PCs'\n",
       "    obsp: 'connectivities', 'distances'"
      ]
     },
     "execution_count": 7,
     "metadata": {},
     "output_type": "execute_result"
    }
   ],
   "source": [
    "adata"
   ]
  },
  {
   "cell_type": "markdown",
   "metadata": {},
   "source": [
    "# Make object lightweight"
   ]
  },
  {
   "cell_type": "code",
   "execution_count": 8,
   "metadata": {},
   "outputs": [],
   "source": [
    "del adata.uns\n",
    "del adata.obsm\n",
    "del adata.varm\n",
    "del adata.obsp"
   ]
  },
  {
   "cell_type": "markdown",
   "metadata": {},
   "source": [
    "# Clean adata.var\n"
   ]
  },
  {
   "cell_type": "code",
   "execution_count": 9,
   "metadata": {},
   "outputs": [],
   "source": [
    "to_drop = [col for col in adata.var.columns if 'feature_types' in col]\n",
    "for i in to_drop:\n",
    "    del adata.var[i]"
   ]
  },
  {
   "cell_type": "code",
   "execution_count": 10,
   "metadata": {},
   "outputs": [],
   "source": [
    "gene_id_cols = [col for col in adata.var.columns if 'gene_ids' in col]\n",
    "\n",
    "def get_id(series):\n",
    "    series_sub = series[~series.isin(['nan'])]\n",
    "    return series_sub.value_counts().index[0]\n",
    "\n",
    "adata.var['gene_id'] = adata.var[gene_id_cols].apply(get_id, axis=1)\n",
    "\n",
    "for i in gene_id_cols:\n",
    "    del adata.var[i]"
   ]
  },
  {
   "cell_type": "code",
   "execution_count": 11,
   "metadata": {},
   "outputs": [],
   "source": [
    "n_cells_col = [col for col in adata.var.columns if 'n_cells' in col]\n",
    "\n",
    "for i in n_cells_col:\n",
    "    del adata.var[i]"
   ]
  },
  {
   "cell_type": "code",
   "execution_count": 12,
   "metadata": {},
   "outputs": [],
   "source": [
    "to_drop = ['mito', 'ribo', 'mean_counts', 'pct_dropout_by_counts', 'total_counts', 'highly_variable', 'means', 'dispersions', 'dispersions_norm', 'highly_variable_nbatches', 'highly_variable_intersection', 'mean', 'std']\n",
    "adata.var = adata.var.drop(columns=to_drop)"
   ]
  },
  {
   "cell_type": "code",
   "execution_count": 13,
   "metadata": {},
   "outputs": [
    {
     "data": {
      "text/plain": [
       "AnnData object with n_obs × n_vars = 77146 × 21819\n",
       "    obs: 'Patient', 'Day after intubation', 'Sample type', 'Sample', 'Sample status', 'Cluster', 'COVID-19', 'No of SARS-CoV-2 genes', 'IFNA Response', 'IFNG Response', 'No of genes', 'No of UMIs', '% of mito genes', '% of ribo genes'\n",
       "    var: 'gene_id'"
      ]
     },
     "execution_count": 13,
     "metadata": {},
     "output_type": "execute_result"
    }
   ],
   "source": [
    "adata"
   ]
  },
  {
   "cell_type": "markdown",
   "metadata": {},
   "source": [
    "# Organize obs columns"
   ]
  },
  {
   "cell_type": "code",
   "execution_count": 14,
   "metadata": {},
   "outputs": [],
   "source": [
    "adata.obs['subject_ID'] = adata.obs['Patient']\n",
    "del adata.obs['Patient']"
   ]
  },
  {
   "cell_type": "code",
   "execution_count": 15,
   "metadata": {},
   "outputs": [],
   "source": [
    "adata.obs['sample'] = adata.obs['Sample']\n",
    "del adata.obs['Sample']"
   ]
  },
  {
   "cell_type": "code",
   "execution_count": 16,
   "metadata": {},
   "outputs": [],
   "source": [
    "adata.obs['sample_type'] = adata.obs['Sample type']\n",
    "del adata.obs['Sample type']"
   ]
  },
  {
   "cell_type": "code",
   "execution_count": 17,
   "metadata": {},
   "outputs": [],
   "source": [
    "adata.obs['original_celltype_ann'] = adata.obs['Cluster']\n",
    "del adata.obs['Cluster']"
   ]
  },
  {
   "cell_type": "code",
   "execution_count": 18,
   "metadata": {},
   "outputs": [],
   "source": [
    "adata.obs['condition'] = ['COVID-19' for i in range(adata.n_obs)]\n",
    "del adata.obs['COVID-19']"
   ]
  },
  {
   "cell_type": "code",
   "execution_count": 19,
   "metadata": {},
   "outputs": [],
   "source": [
    "adata.obs['n_counts'] = adata.obs['No of UMIs']\n",
    "del adata.obs['No of UMIs']"
   ]
  },
  {
   "cell_type": "code",
   "execution_count": 20,
   "metadata": {},
   "outputs": [],
   "source": [
    "adata.obs['n_genes'] = adata.obs['No of genes']\n",
    "del adata.obs['No of genes']"
   ]
  },
  {
   "cell_type": "code",
   "execution_count": 21,
   "metadata": {},
   "outputs": [],
   "source": [
    "adata.obs['study'] = ['Wunderink2021' for i in range(adata.n_obs)]"
   ]
  },
  {
   "cell_type": "code",
   "execution_count": 22,
   "metadata": {},
   "outputs": [
    {
     "data": {
      "text/plain": [
       "AnnData object with n_obs × n_vars = 77146 × 21819\n",
       "    obs: 'Day after intubation', 'Sample status', 'No of SARS-CoV-2 genes', 'IFNA Response', 'IFNG Response', '% of mito genes', '% of ribo genes', 'subject_ID', 'sample', 'sample_type', 'original_celltype_ann', 'condition', 'n_counts', 'n_genes', 'study'\n",
       "    var: 'gene_id'"
      ]
     },
     "execution_count": 22,
     "metadata": {},
     "output_type": "execute_result"
    }
   ],
   "source": [
    "adata"
   ]
  },
  {
   "cell_type": "markdown",
   "metadata": {},
   "source": [
    "# Match raw count data to processed object"
   ]
  },
  {
   "cell_type": "code",
   "execution_count": 23,
   "metadata": {},
   "outputs": [],
   "source": [
    "# Assign a sample ID\n",
    "for samp in raw_data.keys():\n",
    "    raw_data[samp].obs['sample'] = [samp for i in range(raw_data[samp].n_obs)]"
   ]
  },
  {
   "cell_type": "code",
   "execution_count": 24,
   "metadata": {},
   "outputs": [],
   "source": [
    "# Match obs_names to merged adata object\n",
    "for samp in raw_data.keys():\n",
    "    raw_data[samp].obs_names = ['-'.join([idx.split('-')[0],str(int(samp)-1)])  for idx in raw_data[samp].obs_names]"
   ]
  },
  {
   "cell_type": "code",
   "execution_count": 25,
   "metadata": {},
   "outputs": [],
   "source": [
    "# Merge the raw objects\n",
    "samples = list(raw_data.keys())\n",
    "raw_merged = raw_data[samples.pop(0)]\n",
    "\n",
    "for i in samples:\n",
    "    raw_merged = raw_merged.concatenate(raw_data[i], index_unique=None)"
   ]
  },
  {
   "cell_type": "code",
   "execution_count": 26,
   "metadata": {},
   "outputs": [],
   "source": [
    "raw_merged.var_names = [i.split('GRCh38______')[-1] for i in raw_merged.var_names]"
   ]
  },
  {
   "cell_type": "code",
   "execution_count": 27,
   "metadata": {},
   "outputs": [
    {
     "data": {
      "text/plain": [
       "{'SARS-CoV-2-Antisense',\n",
       " 'SARS-CoV-2-E',\n",
       " 'SARS-CoV-2-M',\n",
       " 'SARS-CoV-2-N',\n",
       " 'SARS-CoV-2-ORF10',\n",
       " 'SARS-CoV-2-ORF1ab',\n",
       " 'SARS-CoV-2-ORF3a',\n",
       " 'SARS-CoV-2-ORF6',\n",
       " 'SARS-CoV-2-ORF7a',\n",
       " 'SARS-CoV-2-ORF7b',\n",
       " 'SARS-CoV-2-ORF8',\n",
       " 'SARS-CoV-2-S'}"
      ]
     },
     "execution_count": 27,
     "metadata": {},
     "output_type": "execute_result"
    }
   ],
   "source": [
    "set(adata.var_names).difference(set(raw_merged.var_names))"
   ]
  },
  {
   "cell_type": "code",
   "execution_count": 28,
   "metadata": {},
   "outputs": [],
   "source": [
    "# Fix SARS-CoV-2 gene names\n",
    "raw_merged.var_names = [i.replace('_', '-') for i in raw_merged.var_names]\n",
    "raw_merged.var_names = [i.replace('2i', '2') for i in raw_merged.var_names]\n",
    "raw_merged.var_names = [i.replace('SARS-CoV-2-SARS-CoV-2-antisense', 'SARS-CoV-2-Antisense') for i in raw_merged.var_names]"
   ]
  },
  {
   "cell_type": "code",
   "execution_count": 29,
   "metadata": {},
   "outputs": [
    {
     "data": {
      "text/plain": [
       "set()"
      ]
     },
     "execution_count": 29,
     "metadata": {},
     "output_type": "execute_result"
    },
    {
     "data": {
      "text/plain": [
       "21819"
      ]
     },
     "execution_count": 29,
     "metadata": {},
     "output_type": "execute_result"
    }
   ],
   "source": [
    "set(adata.var_names).difference(set(raw_merged.var_names))\n",
    "len(set(adata.var_names).intersection(set(raw_merged.var_names)))"
   ]
  },
  {
   "cell_type": "code",
   "execution_count": 30,
   "metadata": {},
   "outputs": [
    {
     "data": {
      "text/plain": [
       "AnnData object with n_obs × n_vars = 77146 × 21819\n",
       "    obs: 'Day after intubation', 'Sample status', 'No of SARS-CoV-2 genes', 'IFNA Response', 'IFNG Response', '% of mito genes', '% of ribo genes', 'subject_ID', 'sample', 'sample_type', 'original_celltype_ann', 'condition', 'n_counts', 'n_genes', 'study'\n",
       "    var: 'gene_id'"
      ]
     },
     "execution_count": 30,
     "metadata": {},
     "output_type": "execute_result"
    }
   ],
   "source": [
    "adata"
   ]
  },
  {
   "cell_type": "markdown",
   "metadata": {},
   "source": [
    "# Assign raw count data to merged object"
   ]
  },
  {
   "cell_type": "code",
   "execution_count": 31,
   "metadata": {},
   "outputs": [
    {
     "name": "stderr",
     "output_type": "stream",
     "text": [
      "/home/icb/malte.luecken/anaconda3/lib/python3.7/site-packages/pandas/core/arrays/categorical.py:2492: FutureWarning: The `inplace` parameter in pandas.Categorical.remove_unused_categories is deprecated and will be removed in a future version.\n",
      "  res = method(*args, **kwargs)\n"
     ]
    },
    {
     "data": {
      "text/plain": [
       "AnnData object with n_obs × n_vars = 77146 × 21819\n",
       "    obs: 'sample', 'batch'\n",
       "    var: 'gene_ids', 'feature_types', 'genome'"
      ]
     },
     "execution_count": 31,
     "metadata": {},
     "output_type": "execute_result"
    }
   ],
   "source": [
    "raw_merged_sub = raw_merged[adata.obs_names,:][:,adata.var_names].copy()\n",
    "raw_merged_sub"
   ]
  },
  {
   "cell_type": "code",
   "execution_count": 32,
   "metadata": {},
   "outputs": [],
   "source": [
    "adata.layers['counts'] = raw_merged_sub.X"
   ]
  },
  {
   "cell_type": "markdown",
   "metadata": {},
   "source": [
    "### Check raw count mapping"
   ]
  },
  {
   "cell_type": "code",
   "execution_count": 33,
   "metadata": {},
   "outputs": [
    {
     "data": {
      "text/plain": [
       "array([[0., 0., 0., 0., 0., 0., 0., 0., 0., 0.],\n",
       "       [0., 0., 0., 0., 0., 0., 0., 0., 0., 0.],\n",
       "       [0., 0., 0., 0., 0., 0., 1., 0., 0., 0.],\n",
       "       [0., 0., 1., 0., 0., 0., 0., 0., 0., 0.],\n",
       "       [0., 0., 0., 0., 0., 0., 0., 0., 0., 0.],\n",
       "       [0., 0., 0., 0., 0., 0., 0., 0., 0., 0.],\n",
       "       [0., 0., 0., 0., 1., 0., 0., 0., 0., 0.],\n",
       "       [0., 0., 0., 0., 0., 0., 0., 0., 0., 0.],\n",
       "       [0., 0., 0., 0., 1., 0., 0., 0., 0., 0.],\n",
       "       [0., 0., 0., 0., 0., 0., 1., 0., 0., 0.]], dtype=float32)"
      ]
     },
     "execution_count": 33,
     "metadata": {},
     "output_type": "execute_result"
    },
    {
     "data": {
      "text/plain": [
       "array([[-0.00844672, -0.02548061, -0.43014944, -0.30342752, -0.44830588,\n",
       "        -0.27202973, -0.4466437 , -0.01194746, -0.2808309 , -0.00892327],\n",
       "       [-0.00844672, -0.02548061, -0.43014944, -0.30342752, -0.44830588,\n",
       "        -0.27202973, -0.4466437 , -0.01194746, -0.2808309 , -0.00892327],\n",
       "       [-0.00844672, -0.02548061, -0.43014944, -0.30342752, -0.44830588,\n",
       "        -0.27202973,  3.1880455 , -0.01194746, -0.2808309 , -0.00892327],\n",
       "       [-0.00844672, -0.02548061,  3.579508  , -0.30342752, -0.44830588,\n",
       "        -0.27202973, -0.4466437 , -0.01194746, -0.2808309 , -0.00892327],\n",
       "       [-0.00844672, -0.02548061, -0.43014944, -0.30342752, -0.44830588,\n",
       "        -0.27202973, -0.4466437 , -0.01194746, -0.2808309 , -0.00892327],\n",
       "       [-0.00844672, -0.02548061, -0.43014944, -0.30342752, -0.44830588,\n",
       "        -0.27202973, -0.4466437 , -0.01194746, -0.2808309 , -0.00892327],\n",
       "       [-0.00844672, -0.02548061, -0.43014944, -0.30342752,  2.8370743 ,\n",
       "        -0.27202973, -0.4466437 , -0.01194746, -0.2808309 , -0.00892327],\n",
       "       [-0.00844672, -0.02548061, -0.43014944, -0.30342752, -0.44830588,\n",
       "        -0.27202973, -0.4466437 , -0.01194746, -0.2808309 , -0.00892327],\n",
       "       [-0.00844672, -0.02548061, -0.43014944, -0.30342752,  4.047048  ,\n",
       "        -0.27202973, -0.4466437 , -0.01194746, -0.2808309 , -0.00892327],\n",
       "       [-0.00844672, -0.02548061, -0.43014944, -0.30342752, -0.44830588,\n",
       "        -0.27202973,  2.4960942 , -0.01194746, -0.2808309 , -0.00892327]],\n",
       "      dtype=float32)"
      ]
     },
     "execution_count": 33,
     "metadata": {},
     "output_type": "execute_result"
    },
    {
     "data": {
      "text/plain": [
       "array([[0., 0., 0., 0., 0., 0., 0., 0., 0., 0.],\n",
       "       [0., 0., 0., 0., 0., 0., 0., 0., 0., 0.],\n",
       "       [0., 0., 0., 0., 0., 0., 1., 0., 0., 0.],\n",
       "       [0., 0., 1., 0., 0., 0., 0., 0., 0., 0.],\n",
       "       [0., 0., 0., 0., 0., 0., 0., 0., 0., 0.],\n",
       "       [0., 0., 0., 0., 0., 0., 0., 0., 0., 0.],\n",
       "       [0., 0., 0., 0., 1., 0., 0., 0., 0., 0.],\n",
       "       [0., 0., 0., 0., 0., 0., 0., 0., 0., 0.],\n",
       "       [0., 0., 0., 0., 1., 0., 0., 0., 0., 0.],\n",
       "       [0., 0., 0., 0., 0., 0., 1., 0., 0., 0.]], dtype=float32)"
      ]
     },
     "execution_count": 33,
     "metadata": {},
     "output_type": "execute_result"
    }
   ],
   "source": [
    "adata.layers['counts'][20:30,10:20].A\n",
    "adata.X[20:30,10:20]\n",
    "raw_merged_sub.X[20:30,10:20].A"
   ]
  },
  {
   "cell_type": "code",
   "execution_count": 34,
   "metadata": {},
   "outputs": [],
   "source": [
    "adata.X = adata.layers['counts']\n",
    "del adata.layers['counts']"
   ]
  },
  {
   "cell_type": "markdown",
   "metadata": {},
   "source": [
    "# Assign additional patient metadata"
   ]
  },
  {
   "cell_type": "code",
   "execution_count": 35,
   "metadata": {},
   "outputs": [
    {
     "data": {
      "text/plain": [
       "AnnData object with n_obs × n_vars = 77146 × 21819\n",
       "    obs: 'Day after intubation', 'Sample status', 'No of SARS-CoV-2 genes', 'IFNA Response', 'IFNG Response', '% of mito genes', '% of ribo genes', 'subject_ID', 'sample', 'sample_type', 'original_celltype_ann', 'condition', 'n_counts', 'n_genes', 'study'\n",
       "    var: 'gene_id'"
      ]
     },
     "execution_count": 35,
     "metadata": {},
     "output_type": "execute_result"
    }
   ],
   "source": [
    "adata"
   ]
  },
  {
   "cell_type": "code",
   "execution_count": 36,
   "metadata": {},
   "outputs": [
    {
     "data": {
      "text/html": [
       "<div>\n",
       "<style scoped>\n",
       "    .dataframe tbody tr th:only-of-type {\n",
       "        vertical-align: middle;\n",
       "    }\n",
       "\n",
       "    .dataframe tbody tr th {\n",
       "        vertical-align: top;\n",
       "    }\n",
       "\n",
       "    .dataframe thead th {\n",
       "        text-align: right;\n",
       "    }\n",
       "</style>\n",
       "<table border=\"1\" class=\"dataframe\">\n",
       "  <thead>\n",
       "    <tr style=\"text-align: right;\">\n",
       "      <th></th>\n",
       "      <th>age</th>\n",
       "      <th>sex</th>\n",
       "      <th>diagnosis</th>\n",
       "      <th>days_from_first_intubation</th>\n",
       "      <th>scRNAseq_id</th>\n",
       "      <th>superinfection</th>\n",
       "    </tr>\n",
       "  </thead>\n",
       "  <tbody>\n",
       "    <tr>\n",
       "      <th>1</th>\n",
       "      <td>38.310062</td>\n",
       "      <td>Male</td>\n",
       "      <td>COVID-19</td>\n",
       "      <td>2</td>\n",
       "      <td>1</td>\n",
       "      <td>Primary Only</td>\n",
       "    </tr>\n",
       "    <tr>\n",
       "      <th>2</th>\n",
       "      <td>77.176705</td>\n",
       "      <td>Male</td>\n",
       "      <td>COVID-19</td>\n",
       "      <td>0</td>\n",
       "      <td>2</td>\n",
       "      <td>Primary Only</td>\n",
       "    </tr>\n",
       "    <tr>\n",
       "      <th>3</th>\n",
       "      <td>72.527721</td>\n",
       "      <td>Male</td>\n",
       "      <td>COVID-19</td>\n",
       "      <td>1</td>\n",
       "      <td>3</td>\n",
       "      <td>Primary Only</td>\n",
       "    </tr>\n",
       "    <tr>\n",
       "      <th>4</th>\n",
       "      <td>64.097878</td>\n",
       "      <td>Male</td>\n",
       "      <td>COVID-19</td>\n",
       "      <td>1</td>\n",
       "      <td>4</td>\n",
       "      <td>Primary Only</td>\n",
       "    </tr>\n",
       "    <tr>\n",
       "      <th>5</th>\n",
       "      <td>37.737965</td>\n",
       "      <td>Male</td>\n",
       "      <td>COVID-19</td>\n",
       "      <td>1</td>\n",
       "      <td>5</td>\n",
       "      <td>Primary Only</td>\n",
       "    </tr>\n",
       "    <tr>\n",
       "      <th>6</th>\n",
       "      <td>39.586014</td>\n",
       "      <td>Male</td>\n",
       "      <td>Other Pneumonia</td>\n",
       "      <td>1</td>\n",
       "      <td>6</td>\n",
       "      <td>NaN</td>\n",
       "    </tr>\n",
       "    <tr>\n",
       "      <th>7</th>\n",
       "      <td>70.370294</td>\n",
       "      <td>Female</td>\n",
       "      <td>COVID-19</td>\n",
       "      <td>0</td>\n",
       "      <td>7</td>\n",
       "      <td>Superinfection</td>\n",
       "    </tr>\n",
       "    <tr>\n",
       "      <th>8</th>\n",
       "      <td>21.116359</td>\n",
       "      <td>Male</td>\n",
       "      <td>COVID-19</td>\n",
       "      <td>0</td>\n",
       "      <td>8</td>\n",
       "      <td>Primary Only</td>\n",
       "    </tr>\n",
       "    <tr>\n",
       "      <th>9</th>\n",
       "      <td>61.655829</td>\n",
       "      <td>Female</td>\n",
       "      <td>COVID-19</td>\n",
       "      <td>1</td>\n",
       "      <td>9</td>\n",
       "      <td>Primary Only</td>\n",
       "    </tr>\n",
       "    <tr>\n",
       "      <th>10</th>\n",
       "      <td>62.370294</td>\n",
       "      <td>Male</td>\n",
       "      <td>COVID-19</td>\n",
       "      <td>0</td>\n",
       "      <td>A</td>\n",
       "      <td>Superinfection</td>\n",
       "    </tr>\n",
       "    <tr>\n",
       "      <th>11</th>\n",
       "      <td>48.054187</td>\n",
       "      <td>Male</td>\n",
       "      <td>COVID-19</td>\n",
       "      <td>0</td>\n",
       "      <td>B</td>\n",
       "      <td>Primary Only</td>\n",
       "    </tr>\n",
       "    <tr>\n",
       "      <th>12</th>\n",
       "      <td>50.438741</td>\n",
       "      <td>Female</td>\n",
       "      <td>Non-Pneumonia Control</td>\n",
       "      <td>0</td>\n",
       "      <td>C</td>\n",
       "      <td>Primary Only</td>\n",
       "    </tr>\n",
       "  </tbody>\n",
       "</table>\n",
       "</div>"
      ],
      "text/plain": [
       "          age     sex              diagnosis  days_from_first_intubation  \\\n",
       "1   38.310062    Male               COVID-19                           2   \n",
       "2   77.176705    Male               COVID-19                           0   \n",
       "3   72.527721    Male               COVID-19                           1   \n",
       "4   64.097878    Male               COVID-19                           1   \n",
       "5   37.737965    Male               COVID-19                           1   \n",
       "6   39.586014    Male        Other Pneumonia                           1   \n",
       "7   70.370294  Female               COVID-19                           0   \n",
       "8   21.116359    Male               COVID-19                           0   \n",
       "9   61.655829  Female               COVID-19                           1   \n",
       "10  62.370294    Male               COVID-19                           0   \n",
       "11  48.054187    Male               COVID-19                           0   \n",
       "12  50.438741  Female  Non-Pneumonia Control                           0   \n",
       "\n",
       "   scRNAseq_id  superinfection  \n",
       "1            1    Primary Only  \n",
       "2            2    Primary Only  \n",
       "3            3    Primary Only  \n",
       "4            4    Primary Only  \n",
       "5            5    Primary Only  \n",
       "6            6             NaN  \n",
       "7            7  Superinfection  \n",
       "8            8    Primary Only  \n",
       "9            9    Primary Only  \n",
       "10           A  Superinfection  \n",
       "11           B    Primary Only  \n",
       "12           C    Primary Only  "
      ]
     },
     "execution_count": 36,
     "metadata": {},
     "output_type": "execute_result"
    }
   ],
   "source": [
    "meta"
   ]
  },
  {
   "cell_type": "code",
   "execution_count": 37,
   "metadata": {},
   "outputs": [],
   "source": [
    "meta.index = meta.scRNAseq_id"
   ]
  },
  {
   "cell_type": "code",
   "execution_count": 38,
   "metadata": {},
   "outputs": [
    {
     "data": {
      "text/html": [
       "<div>\n",
       "<style scoped>\n",
       "    .dataframe tbody tr th:only-of-type {\n",
       "        vertical-align: middle;\n",
       "    }\n",
       "\n",
       "    .dataframe tbody tr th {\n",
       "        vertical-align: top;\n",
       "    }\n",
       "\n",
       "    .dataframe thead th {\n",
       "        text-align: right;\n",
       "    }\n",
       "</style>\n",
       "<table border=\"1\" class=\"dataframe\">\n",
       "  <thead>\n",
       "    <tr style=\"text-align: right;\">\n",
       "      <th></th>\n",
       "      <th>age</th>\n",
       "      <th>sex</th>\n",
       "      <th>diagnosis</th>\n",
       "      <th>days_from_first_intubation</th>\n",
       "      <th>scRNAseq_id</th>\n",
       "      <th>superinfection</th>\n",
       "    </tr>\n",
       "    <tr>\n",
       "      <th>scRNAseq_id</th>\n",
       "      <th></th>\n",
       "      <th></th>\n",
       "      <th></th>\n",
       "      <th></th>\n",
       "      <th></th>\n",
       "      <th></th>\n",
       "    </tr>\n",
       "  </thead>\n",
       "  <tbody>\n",
       "    <tr>\n",
       "      <th>1</th>\n",
       "      <td>38.310062</td>\n",
       "      <td>Male</td>\n",
       "      <td>COVID-19</td>\n",
       "      <td>2</td>\n",
       "      <td>1</td>\n",
       "      <td>Primary Only</td>\n",
       "    </tr>\n",
       "    <tr>\n",
       "      <th>2</th>\n",
       "      <td>77.176705</td>\n",
       "      <td>Male</td>\n",
       "      <td>COVID-19</td>\n",
       "      <td>0</td>\n",
       "      <td>2</td>\n",
       "      <td>Primary Only</td>\n",
       "    </tr>\n",
       "    <tr>\n",
       "      <th>3</th>\n",
       "      <td>72.527721</td>\n",
       "      <td>Male</td>\n",
       "      <td>COVID-19</td>\n",
       "      <td>1</td>\n",
       "      <td>3</td>\n",
       "      <td>Primary Only</td>\n",
       "    </tr>\n",
       "    <tr>\n",
       "      <th>4</th>\n",
       "      <td>64.097878</td>\n",
       "      <td>Male</td>\n",
       "      <td>COVID-19</td>\n",
       "      <td>1</td>\n",
       "      <td>4</td>\n",
       "      <td>Primary Only</td>\n",
       "    </tr>\n",
       "    <tr>\n",
       "      <th>5</th>\n",
       "      <td>37.737965</td>\n",
       "      <td>Male</td>\n",
       "      <td>COVID-19</td>\n",
       "      <td>1</td>\n",
       "      <td>5</td>\n",
       "      <td>Primary Only</td>\n",
       "    </tr>\n",
       "    <tr>\n",
       "      <th>6</th>\n",
       "      <td>39.586014</td>\n",
       "      <td>Male</td>\n",
       "      <td>Other Pneumonia</td>\n",
       "      <td>1</td>\n",
       "      <td>6</td>\n",
       "      <td>NaN</td>\n",
       "    </tr>\n",
       "    <tr>\n",
       "      <th>7</th>\n",
       "      <td>70.370294</td>\n",
       "      <td>Female</td>\n",
       "      <td>COVID-19</td>\n",
       "      <td>0</td>\n",
       "      <td>7</td>\n",
       "      <td>Superinfection</td>\n",
       "    </tr>\n",
       "    <tr>\n",
       "      <th>8</th>\n",
       "      <td>21.116359</td>\n",
       "      <td>Male</td>\n",
       "      <td>COVID-19</td>\n",
       "      <td>0</td>\n",
       "      <td>8</td>\n",
       "      <td>Primary Only</td>\n",
       "    </tr>\n",
       "    <tr>\n",
       "      <th>9</th>\n",
       "      <td>61.655829</td>\n",
       "      <td>Female</td>\n",
       "      <td>COVID-19</td>\n",
       "      <td>1</td>\n",
       "      <td>9</td>\n",
       "      <td>Primary Only</td>\n",
       "    </tr>\n",
       "    <tr>\n",
       "      <th>A</th>\n",
       "      <td>62.370294</td>\n",
       "      <td>Male</td>\n",
       "      <td>COVID-19</td>\n",
       "      <td>0</td>\n",
       "      <td>A</td>\n",
       "      <td>Superinfection</td>\n",
       "    </tr>\n",
       "    <tr>\n",
       "      <th>B</th>\n",
       "      <td>48.054187</td>\n",
       "      <td>Male</td>\n",
       "      <td>COVID-19</td>\n",
       "      <td>0</td>\n",
       "      <td>B</td>\n",
       "      <td>Primary Only</td>\n",
       "    </tr>\n",
       "    <tr>\n",
       "      <th>C</th>\n",
       "      <td>50.438741</td>\n",
       "      <td>Female</td>\n",
       "      <td>Non-Pneumonia Control</td>\n",
       "      <td>0</td>\n",
       "      <td>C</td>\n",
       "      <td>Primary Only</td>\n",
       "    </tr>\n",
       "  </tbody>\n",
       "</table>\n",
       "</div>"
      ],
      "text/plain": [
       "                   age     sex              diagnosis  \\\n",
       "scRNAseq_id                                             \n",
       "1            38.310062    Male               COVID-19   \n",
       "2            77.176705    Male               COVID-19   \n",
       "3            72.527721    Male               COVID-19   \n",
       "4            64.097878    Male               COVID-19   \n",
       "5            37.737965    Male               COVID-19   \n",
       "6            39.586014    Male        Other Pneumonia   \n",
       "7            70.370294  Female               COVID-19   \n",
       "8            21.116359    Male               COVID-19   \n",
       "9            61.655829  Female               COVID-19   \n",
       "A            62.370294    Male               COVID-19   \n",
       "B            48.054187    Male               COVID-19   \n",
       "C            50.438741  Female  Non-Pneumonia Control   \n",
       "\n",
       "             days_from_first_intubation scRNAseq_id  superinfection  \n",
       "scRNAseq_id                                                          \n",
       "1                                     2           1    Primary Only  \n",
       "2                                     0           2    Primary Only  \n",
       "3                                     1           3    Primary Only  \n",
       "4                                     1           4    Primary Only  \n",
       "5                                     1           5    Primary Only  \n",
       "6                                     1           6             NaN  \n",
       "7                                     0           7  Superinfection  \n",
       "8                                     0           8    Primary Only  \n",
       "9                                     1           9    Primary Only  \n",
       "A                                     0           A  Superinfection  \n",
       "B                                     0           B    Primary Only  \n",
       "C                                     0           C    Primary Only  "
      ]
     },
     "execution_count": 38,
     "metadata": {},
     "output_type": "execute_result"
    }
   ],
   "source": [
    "meta"
   ]
  },
  {
   "cell_type": "code",
   "execution_count": 39,
   "metadata": {},
   "outputs": [
    {
     "data": {
      "text/plain": [
       "8    16099\n",
       "A    15373\n",
       "9    10374\n",
       "3     9353\n",
       "1     7060\n",
       "B     4956\n",
       "7     4887\n",
       "5     3909\n",
       "4     2756\n",
       "2     2379\n",
       "Name: subject_ID, dtype: int64"
      ]
     },
     "execution_count": 39,
     "metadata": {},
     "output_type": "execute_result"
    }
   ],
   "source": [
    "adata.obs['subject_ID'].value_counts()"
   ]
  },
  {
   "cell_type": "code",
   "execution_count": 40,
   "metadata": {},
   "outputs": [],
   "source": [
    "# Map patient metadata to adata order\n",
    "age_list = [meta.loc[idx]['age'] for idx in adata.obs['subject_ID']] \n",
    "sex_list = [meta.loc[idx]['sex']  for idx in adata.obs['subject_ID']]\n",
    "sup_list = [meta.loc[idx]['superinfection'] for idx in adata.obs['subject_ID']]\n",
    "intub_list = [meta.loc[idx]['days_from_first_intubation'] for idx in adata.obs['subject_ID']]"
   ]
  },
  {
   "cell_type": "markdown",
   "metadata": {},
   "source": []
  },
  {
   "cell_type": "code",
   "execution_count": 41,
   "metadata": {},
   "outputs": [],
   "source": [
    "adata.obs['age'] = age_list\n",
    "adata.obs['sex'] = sex_list\n",
    "adata.obs['superinfection'] = sup_list\n",
    "adata.obs['days_from_first_intubation'] = intub_list"
   ]
  },
  {
   "cell_type": "code",
   "execution_count": 42,
   "metadata": {},
   "outputs": [
    {
     "data": {
      "text/html": [
       "<div>\n",
       "<style scoped>\n",
       "    .dataframe tbody tr th:only-of-type {\n",
       "        vertical-align: middle;\n",
       "    }\n",
       "\n",
       "    .dataframe tbody tr th {\n",
       "        vertical-align: top;\n",
       "    }\n",
       "\n",
       "    .dataframe thead th {\n",
       "        text-align: right;\n",
       "    }\n",
       "</style>\n",
       "<table border=\"1\" class=\"dataframe\">\n",
       "  <thead>\n",
       "    <tr style=\"text-align: right;\">\n",
       "      <th>age</th>\n",
       "      <th>21.116359</th>\n",
       "      <th>37.737965</th>\n",
       "      <th>38.310062</th>\n",
       "      <th>48.054187</th>\n",
       "      <th>61.655829</th>\n",
       "      <th>62.370294</th>\n",
       "      <th>64.097878</th>\n",
       "      <th>70.370294</th>\n",
       "      <th>72.527721</th>\n",
       "      <th>77.176705</th>\n",
       "    </tr>\n",
       "    <tr>\n",
       "      <th>subject_ID</th>\n",
       "      <th></th>\n",
       "      <th></th>\n",
       "      <th></th>\n",
       "      <th></th>\n",
       "      <th></th>\n",
       "      <th></th>\n",
       "      <th></th>\n",
       "      <th></th>\n",
       "      <th></th>\n",
       "      <th></th>\n",
       "    </tr>\n",
       "  </thead>\n",
       "  <tbody>\n",
       "    <tr>\n",
       "      <th>1</th>\n",
       "      <td>0</td>\n",
       "      <td>0</td>\n",
       "      <td>7060</td>\n",
       "      <td>0</td>\n",
       "      <td>0</td>\n",
       "      <td>0</td>\n",
       "      <td>0</td>\n",
       "      <td>0</td>\n",
       "      <td>0</td>\n",
       "      <td>0</td>\n",
       "    </tr>\n",
       "    <tr>\n",
       "      <th>2</th>\n",
       "      <td>0</td>\n",
       "      <td>0</td>\n",
       "      <td>0</td>\n",
       "      <td>0</td>\n",
       "      <td>0</td>\n",
       "      <td>0</td>\n",
       "      <td>0</td>\n",
       "      <td>0</td>\n",
       "      <td>0</td>\n",
       "      <td>2379</td>\n",
       "    </tr>\n",
       "    <tr>\n",
       "      <th>3</th>\n",
       "      <td>0</td>\n",
       "      <td>0</td>\n",
       "      <td>0</td>\n",
       "      <td>0</td>\n",
       "      <td>0</td>\n",
       "      <td>0</td>\n",
       "      <td>0</td>\n",
       "      <td>0</td>\n",
       "      <td>9353</td>\n",
       "      <td>0</td>\n",
       "    </tr>\n",
       "    <tr>\n",
       "      <th>4</th>\n",
       "      <td>0</td>\n",
       "      <td>0</td>\n",
       "      <td>0</td>\n",
       "      <td>0</td>\n",
       "      <td>0</td>\n",
       "      <td>0</td>\n",
       "      <td>2756</td>\n",
       "      <td>0</td>\n",
       "      <td>0</td>\n",
       "      <td>0</td>\n",
       "    </tr>\n",
       "    <tr>\n",
       "      <th>5</th>\n",
       "      <td>0</td>\n",
       "      <td>3909</td>\n",
       "      <td>0</td>\n",
       "      <td>0</td>\n",
       "      <td>0</td>\n",
       "      <td>0</td>\n",
       "      <td>0</td>\n",
       "      <td>0</td>\n",
       "      <td>0</td>\n",
       "      <td>0</td>\n",
       "    </tr>\n",
       "    <tr>\n",
       "      <th>7</th>\n",
       "      <td>0</td>\n",
       "      <td>0</td>\n",
       "      <td>0</td>\n",
       "      <td>0</td>\n",
       "      <td>0</td>\n",
       "      <td>0</td>\n",
       "      <td>0</td>\n",
       "      <td>4887</td>\n",
       "      <td>0</td>\n",
       "      <td>0</td>\n",
       "    </tr>\n",
       "    <tr>\n",
       "      <th>8</th>\n",
       "      <td>16099</td>\n",
       "      <td>0</td>\n",
       "      <td>0</td>\n",
       "      <td>0</td>\n",
       "      <td>0</td>\n",
       "      <td>0</td>\n",
       "      <td>0</td>\n",
       "      <td>0</td>\n",
       "      <td>0</td>\n",
       "      <td>0</td>\n",
       "    </tr>\n",
       "    <tr>\n",
       "      <th>9</th>\n",
       "      <td>0</td>\n",
       "      <td>0</td>\n",
       "      <td>0</td>\n",
       "      <td>0</td>\n",
       "      <td>10374</td>\n",
       "      <td>0</td>\n",
       "      <td>0</td>\n",
       "      <td>0</td>\n",
       "      <td>0</td>\n",
       "      <td>0</td>\n",
       "    </tr>\n",
       "    <tr>\n",
       "      <th>A</th>\n",
       "      <td>0</td>\n",
       "      <td>0</td>\n",
       "      <td>0</td>\n",
       "      <td>0</td>\n",
       "      <td>0</td>\n",
       "      <td>15373</td>\n",
       "      <td>0</td>\n",
       "      <td>0</td>\n",
       "      <td>0</td>\n",
       "      <td>0</td>\n",
       "    </tr>\n",
       "    <tr>\n",
       "      <th>B</th>\n",
       "      <td>0</td>\n",
       "      <td>0</td>\n",
       "      <td>0</td>\n",
       "      <td>4956</td>\n",
       "      <td>0</td>\n",
       "      <td>0</td>\n",
       "      <td>0</td>\n",
       "      <td>0</td>\n",
       "      <td>0</td>\n",
       "      <td>0</td>\n",
       "    </tr>\n",
       "  </tbody>\n",
       "</table>\n",
       "</div>"
      ],
      "text/plain": [
       "age         21.116359  37.737965  38.310062  48.054187  61.655829  62.370294  \\\n",
       "subject_ID                                                                     \n",
       "1                   0          0       7060          0          0          0   \n",
       "2                   0          0          0          0          0          0   \n",
       "3                   0          0          0          0          0          0   \n",
       "4                   0          0          0          0          0          0   \n",
       "5                   0       3909          0          0          0          0   \n",
       "7                   0          0          0          0          0          0   \n",
       "8               16099          0          0          0          0          0   \n",
       "9                   0          0          0          0      10374          0   \n",
       "A                   0          0          0          0          0      15373   \n",
       "B                   0          0          0       4956          0          0   \n",
       "\n",
       "age         64.097878  70.370294  72.527721  77.176705  \n",
       "subject_ID                                              \n",
       "1                   0          0          0          0  \n",
       "2                   0          0          0       2379  \n",
       "3                   0          0       9353          0  \n",
       "4                2756          0          0          0  \n",
       "5                   0          0          0          0  \n",
       "7                   0       4887          0          0  \n",
       "8                   0          0          0          0  \n",
       "9                   0          0          0          0  \n",
       "A                   0          0          0          0  \n",
       "B                   0          0          0          0  "
      ]
     },
     "execution_count": 42,
     "metadata": {},
     "output_type": "execute_result"
    },
    {
     "data": {
      "text/html": [
       "<div>\n",
       "<style scoped>\n",
       "    .dataframe tbody tr th:only-of-type {\n",
       "        vertical-align: middle;\n",
       "    }\n",
       "\n",
       "    .dataframe tbody tr th {\n",
       "        vertical-align: top;\n",
       "    }\n",
       "\n",
       "    .dataframe thead th {\n",
       "        text-align: right;\n",
       "    }\n",
       "</style>\n",
       "<table border=\"1\" class=\"dataframe\">\n",
       "  <thead>\n",
       "    <tr style=\"text-align: right;\">\n",
       "      <th>sex</th>\n",
       "      <th>Female</th>\n",
       "      <th>Male</th>\n",
       "    </tr>\n",
       "    <tr>\n",
       "      <th>subject_ID</th>\n",
       "      <th></th>\n",
       "      <th></th>\n",
       "    </tr>\n",
       "  </thead>\n",
       "  <tbody>\n",
       "    <tr>\n",
       "      <th>1</th>\n",
       "      <td>0</td>\n",
       "      <td>7060</td>\n",
       "    </tr>\n",
       "    <tr>\n",
       "      <th>2</th>\n",
       "      <td>0</td>\n",
       "      <td>2379</td>\n",
       "    </tr>\n",
       "    <tr>\n",
       "      <th>3</th>\n",
       "      <td>0</td>\n",
       "      <td>9353</td>\n",
       "    </tr>\n",
       "    <tr>\n",
       "      <th>4</th>\n",
       "      <td>0</td>\n",
       "      <td>2756</td>\n",
       "    </tr>\n",
       "    <tr>\n",
       "      <th>5</th>\n",
       "      <td>0</td>\n",
       "      <td>3909</td>\n",
       "    </tr>\n",
       "    <tr>\n",
       "      <th>7</th>\n",
       "      <td>4887</td>\n",
       "      <td>0</td>\n",
       "    </tr>\n",
       "    <tr>\n",
       "      <th>8</th>\n",
       "      <td>0</td>\n",
       "      <td>16099</td>\n",
       "    </tr>\n",
       "    <tr>\n",
       "      <th>9</th>\n",
       "      <td>10374</td>\n",
       "      <td>0</td>\n",
       "    </tr>\n",
       "    <tr>\n",
       "      <th>A</th>\n",
       "      <td>0</td>\n",
       "      <td>15373</td>\n",
       "    </tr>\n",
       "    <tr>\n",
       "      <th>B</th>\n",
       "      <td>0</td>\n",
       "      <td>4956</td>\n",
       "    </tr>\n",
       "  </tbody>\n",
       "</table>\n",
       "</div>"
      ],
      "text/plain": [
       "sex         Female   Male\n",
       "subject_ID               \n",
       "1                0   7060\n",
       "2                0   2379\n",
       "3                0   9353\n",
       "4                0   2756\n",
       "5                0   3909\n",
       "7             4887      0\n",
       "8                0  16099\n",
       "9            10374      0\n",
       "A                0  15373\n",
       "B                0   4956"
      ]
     },
     "execution_count": 42,
     "metadata": {},
     "output_type": "execute_result"
    },
    {
     "data": {
      "text/html": [
       "<div>\n",
       "<style scoped>\n",
       "    .dataframe tbody tr th:only-of-type {\n",
       "        vertical-align: middle;\n",
       "    }\n",
       "\n",
       "    .dataframe tbody tr th {\n",
       "        vertical-align: top;\n",
       "    }\n",
       "\n",
       "    .dataframe thead th {\n",
       "        text-align: right;\n",
       "    }\n",
       "</style>\n",
       "<table border=\"1\" class=\"dataframe\">\n",
       "  <thead>\n",
       "    <tr style=\"text-align: right;\">\n",
       "      <th>superinfection</th>\n",
       "      <th>Primary Only</th>\n",
       "      <th>Superinfection</th>\n",
       "    </tr>\n",
       "    <tr>\n",
       "      <th>subject_ID</th>\n",
       "      <th></th>\n",
       "      <th></th>\n",
       "    </tr>\n",
       "  </thead>\n",
       "  <tbody>\n",
       "    <tr>\n",
       "      <th>1</th>\n",
       "      <td>7060</td>\n",
       "      <td>0</td>\n",
       "    </tr>\n",
       "    <tr>\n",
       "      <th>2</th>\n",
       "      <td>2379</td>\n",
       "      <td>0</td>\n",
       "    </tr>\n",
       "    <tr>\n",
       "      <th>3</th>\n",
       "      <td>9353</td>\n",
       "      <td>0</td>\n",
       "    </tr>\n",
       "    <tr>\n",
       "      <th>4</th>\n",
       "      <td>2756</td>\n",
       "      <td>0</td>\n",
       "    </tr>\n",
       "    <tr>\n",
       "      <th>5</th>\n",
       "      <td>3909</td>\n",
       "      <td>0</td>\n",
       "    </tr>\n",
       "    <tr>\n",
       "      <th>7</th>\n",
       "      <td>0</td>\n",
       "      <td>4887</td>\n",
       "    </tr>\n",
       "    <tr>\n",
       "      <th>8</th>\n",
       "      <td>16099</td>\n",
       "      <td>0</td>\n",
       "    </tr>\n",
       "    <tr>\n",
       "      <th>9</th>\n",
       "      <td>10374</td>\n",
       "      <td>0</td>\n",
       "    </tr>\n",
       "    <tr>\n",
       "      <th>A</th>\n",
       "      <td>0</td>\n",
       "      <td>15373</td>\n",
       "    </tr>\n",
       "    <tr>\n",
       "      <th>B</th>\n",
       "      <td>4956</td>\n",
       "      <td>0</td>\n",
       "    </tr>\n",
       "  </tbody>\n",
       "</table>\n",
       "</div>"
      ],
      "text/plain": [
       "superinfection  Primary Only  Superinfection\n",
       "subject_ID                                  \n",
       "1                       7060               0\n",
       "2                       2379               0\n",
       "3                       9353               0\n",
       "4                       2756               0\n",
       "5                       3909               0\n",
       "7                          0            4887\n",
       "8                      16099               0\n",
       "9                      10374               0\n",
       "A                          0           15373\n",
       "B                       4956               0"
      ]
     },
     "execution_count": 42,
     "metadata": {},
     "output_type": "execute_result"
    },
    {
     "data": {
      "text/html": [
       "<div>\n",
       "<style scoped>\n",
       "    .dataframe tbody tr th:only-of-type {\n",
       "        vertical-align: middle;\n",
       "    }\n",
       "\n",
       "    .dataframe tbody tr th {\n",
       "        vertical-align: top;\n",
       "    }\n",
       "\n",
       "    .dataframe thead th {\n",
       "        text-align: right;\n",
       "    }\n",
       "</style>\n",
       "<table border=\"1\" class=\"dataframe\">\n",
       "  <thead>\n",
       "    <tr style=\"text-align: right;\">\n",
       "      <th>days_from_first_intubation</th>\n",
       "      <th>0</th>\n",
       "      <th>1</th>\n",
       "      <th>2</th>\n",
       "    </tr>\n",
       "    <tr>\n",
       "      <th>subject_ID</th>\n",
       "      <th></th>\n",
       "      <th></th>\n",
       "      <th></th>\n",
       "    </tr>\n",
       "  </thead>\n",
       "  <tbody>\n",
       "    <tr>\n",
       "      <th>1</th>\n",
       "      <td>0</td>\n",
       "      <td>0</td>\n",
       "      <td>7060</td>\n",
       "    </tr>\n",
       "    <tr>\n",
       "      <th>2</th>\n",
       "      <td>2379</td>\n",
       "      <td>0</td>\n",
       "      <td>0</td>\n",
       "    </tr>\n",
       "    <tr>\n",
       "      <th>3</th>\n",
       "      <td>0</td>\n",
       "      <td>9353</td>\n",
       "      <td>0</td>\n",
       "    </tr>\n",
       "    <tr>\n",
       "      <th>4</th>\n",
       "      <td>0</td>\n",
       "      <td>2756</td>\n",
       "      <td>0</td>\n",
       "    </tr>\n",
       "    <tr>\n",
       "      <th>5</th>\n",
       "      <td>0</td>\n",
       "      <td>3909</td>\n",
       "      <td>0</td>\n",
       "    </tr>\n",
       "    <tr>\n",
       "      <th>7</th>\n",
       "      <td>4887</td>\n",
       "      <td>0</td>\n",
       "      <td>0</td>\n",
       "    </tr>\n",
       "    <tr>\n",
       "      <th>8</th>\n",
       "      <td>16099</td>\n",
       "      <td>0</td>\n",
       "      <td>0</td>\n",
       "    </tr>\n",
       "    <tr>\n",
       "      <th>9</th>\n",
       "      <td>0</td>\n",
       "      <td>10374</td>\n",
       "      <td>0</td>\n",
       "    </tr>\n",
       "    <tr>\n",
       "      <th>A</th>\n",
       "      <td>15373</td>\n",
       "      <td>0</td>\n",
       "      <td>0</td>\n",
       "    </tr>\n",
       "    <tr>\n",
       "      <th>B</th>\n",
       "      <td>4956</td>\n",
       "      <td>0</td>\n",
       "      <td>0</td>\n",
       "    </tr>\n",
       "  </tbody>\n",
       "</table>\n",
       "</div>"
      ],
      "text/plain": [
       "days_from_first_intubation      0      1     2\n",
       "subject_ID                                    \n",
       "1                               0      0  7060\n",
       "2                            2379      0     0\n",
       "3                               0   9353     0\n",
       "4                               0   2756     0\n",
       "5                               0   3909     0\n",
       "7                            4887      0     0\n",
       "8                           16099      0     0\n",
       "9                               0  10374     0\n",
       "A                           15373      0     0\n",
       "B                            4956      0     0"
      ]
     },
     "execution_count": 42,
     "metadata": {},
     "output_type": "execute_result"
    }
   ],
   "source": [
    "pd.crosstab(adata.obs.subject_ID, adata.obs['age'])\n",
    "pd.crosstab(adata.obs.subject_ID, adata.obs['sex'])\n",
    "pd.crosstab(adata.obs.subject_ID, adata.obs['superinfection'])\n",
    "pd.crosstab(adata.obs.subject_ID, adata.obs['days_from_first_intubation'])"
   ]
  },
  {
   "cell_type": "markdown",
   "metadata": {},
   "source": [
    "# Separate datasets"
   ]
  },
  {
   "cell_type": "code",
   "execution_count": 43,
   "metadata": {},
   "outputs": [
    {
     "name": "stderr",
     "output_type": "stream",
     "text": [
      "/home/icb/malte.luecken/anaconda3/lib/python3.7/site-packages/pandas/core/arrays/categorical.py:2492: FutureWarning: The `inplace` parameter in pandas.Categorical.remove_unused_categories is deprecated and will be removed in a future version.\n",
      "  res = method(*args, **kwargs)\n"
     ]
    }
   ],
   "source": [
    "adata_cryo = adata[adata.obs['Sample status'].isin(['Cryo'])].copy()\n",
    "adata_fresh = adata[adata.obs['Sample status'].isin(['Fresh'])].copy()"
   ]
  },
  {
   "cell_type": "code",
   "execution_count": 44,
   "metadata": {},
   "outputs": [],
   "source": [
    "adata_cryo.obs['dataset'] = [stu+'_cryo' for stu in adata_cryo.obs['study']]\n",
    "adata_fresh.obs['dataset'] = [stu+'_fresh' for stu in adata_fresh.obs['study']]\n",
    "del adata_cryo.obs['Sample status']\n",
    "del adata_fresh.obs['Sample status']"
   ]
  },
  {
   "cell_type": "code",
   "execution_count": 45,
   "metadata": {},
   "outputs": [
    {
     "data": {
      "text/plain": [
       "AnnData object with n_obs × n_vars = 51689 × 21819\n",
       "    obs: 'Day after intubation', 'No of SARS-CoV-2 genes', 'IFNA Response', 'IFNG Response', '% of mito genes', '% of ribo genes', 'subject_ID', 'sample', 'sample_type', 'original_celltype_ann', 'condition', 'n_counts', 'n_genes', 'study', 'age', 'sex', 'superinfection', 'days_from_first_intubation', 'dataset'\n",
       "    var: 'gene_id'"
      ]
     },
     "execution_count": 45,
     "metadata": {},
     "output_type": "execute_result"
    },
    {
     "data": {
      "text/plain": [
       "AnnData object with n_obs × n_vars = 25457 × 21819\n",
       "    obs: 'Day after intubation', 'No of SARS-CoV-2 genes', 'IFNA Response', 'IFNG Response', '% of mito genes', '% of ribo genes', 'subject_ID', 'sample', 'sample_type', 'original_celltype_ann', 'condition', 'n_counts', 'n_genes', 'study', 'age', 'sex', 'superinfection', 'days_from_first_intubation', 'dataset'\n",
       "    var: 'gene_id'"
      ]
     },
     "execution_count": 45,
     "metadata": {},
     "output_type": "execute_result"
    }
   ],
   "source": [
    "adata_cryo\n",
    "adata_fresh"
   ]
  },
  {
   "cell_type": "markdown",
   "metadata": {},
   "source": [
    "# Write full datasets"
   ]
  },
  {
   "cell_type": "code",
   "execution_count": 47,
   "metadata": {},
   "outputs": [],
   "source": [
    "adata_cryo.write('ready/full/grant_cryo.h5ad')\n",
    "adata_fresh.write('ready/full/grant_fresh.h5ad')"
   ]
  },
  {
   "cell_type": "markdown",
   "metadata": {},
   "source": [
    "# Gene selection"
   ]
  },
  {
   "cell_type": "code",
   "execution_count": 50,
   "metadata": {},
   "outputs": [
    {
     "name": "stdout",
     "output_type": "stream",
     "text": [
      "/mnt/znas/icb_zstore01/groups/ml01/workspace/hlca_lisa.sikkema_malte.luecken/scripts\n"
     ]
    }
   ],
   "source": [
    "cd ../scripts/"
   ]
  },
  {
   "cell_type": "code",
   "execution_count": 51,
   "metadata": {},
   "outputs": [],
   "source": [
    "import preprocessing as pp\n"
   ]
  },
  {
   "cell_type": "code",
   "execution_count": 52,
   "metadata": {},
   "outputs": [
    {
     "name": "stdout",
     "output_type": "stream",
     "text": [
      "/mnt/znas/icb_zstore01/groups/ml01/workspace/hlca_lisa.sikkema_malte.luecken/query_datasets\n"
     ]
    }
   ],
   "source": [
    "cd ../query_datasets/"
   ]
  },
  {
   "cell_type": "code",
   "execution_count": 55,
   "metadata": {},
   "outputs": [
    {
     "name": "stdout",
     "output_type": "stream",
     "text": [
      "not all genes were recovered, filling in 0 counts for 215 missing genes...\n"
     ]
    },
    {
     "name": "stderr",
     "output_type": "stream",
     "text": [
      "/home/icb/malte.luecken/anaconda3/lib/python3.7/site-packages/anndata/_core/merge.py:894: UserWarning: Only some AnnData objects have `.raw` attribute, not concatenating `.raw` attributes.\n",
      "  UserWarning,\n"
     ]
    }
   ],
   "source": [
    "adata_cryo_sub = pp.subset_and_pad_adata(gene_set, adata_cryo)"
   ]
  },
  {
   "cell_type": "code",
   "execution_count": 56,
   "metadata": {},
   "outputs": [
    {
     "name": "stdout",
     "output_type": "stream",
     "text": [
      "not all genes were recovered, filling in 0 counts for 215 missing genes...\n"
     ]
    }
   ],
   "source": [
    "adata_fresh_sub = pp.subset_and_pad_adata(gene_set, adata_fresh)"
   ]
  },
  {
   "cell_type": "code",
   "execution_count": 58,
   "metadata": {},
   "outputs": [
    {
     "name": "stderr",
     "output_type": "stream",
     "text": [
      "... storing 'gene_id' as categorical\n",
      "... storing 'gene_symbols' as categorical\n",
      "... storing 'gene_id' as categorical\n",
      "... storing 'gene_symbols' as categorical\n"
     ]
    }
   ],
   "source": [
    "adata_cryo_sub.write('../../../data/HLCA_extended/extension_datasets/ready/subsetted/grant_cryo_sub.h5ad')\n",
    "adata_fresh_sub.write('../../../data/HLCA_extended/extension_datasets/ready/subsetted/grant_fresh_sub.h5ad')"
   ]
  }
 ],
 "metadata": {
  "kernelspec": {
   "display_name": "Python 3",
   "language": "python",
   "name": "python3"
  },
  "language_info": {
   "codemirror_mode": {
    "name": "ipython",
    "version": 3
   },
   "file_extension": ".py",
   "mimetype": "text/x-python",
   "name": "python",
   "nbconvert_exporter": "python",
   "pygments_lexer": "ipython3",
   "version": "3.7.5"
  }
 },
 "nbformat": 4,
 "nbformat_minor": 5
}
