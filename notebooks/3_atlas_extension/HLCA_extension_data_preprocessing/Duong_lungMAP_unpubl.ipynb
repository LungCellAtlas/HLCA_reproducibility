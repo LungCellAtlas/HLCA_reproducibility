{
 "cells": [
  {
   "cell_type": "markdown",
   "metadata": {},
   "source": [
    "## Data import for Duong_lungMAP_unpubl"
   ]
  },
  {
   "cell_type": "code",
   "execution_count": 1,
   "metadata": {},
   "outputs": [],
   "source": [
    "import scanpy as sc\n",
    "import pandas as pd\n",
    "import numpy as np\n",
    "import os"
   ]
  },
  {
   "cell_type": "code",
   "execution_count": 2,
   "metadata": {},
   "outputs": [],
   "source": [
    "dir_data_in = \"../../../data/HLCA_extended/extension_datasets/raw/Duong/\"\n",
    "dir_data_out = \"../../../data/HLCA_extended/extension_datasets/ready/\""
   ]
  },
  {
   "cell_type": "code",
   "execution_count": 2,
   "metadata": {},
   "outputs": [
    {
     "name": "stdout",
     "output_type": "stream",
     "text": [
      "scanpy==1.7.2 anndata==0.7.4 umap==0.5.1 numpy==1.17.4 scipy==1.5.4 pandas==1.0.5 scikit-learn==0.24.1 statsmodels==0.13.0.dev0+87.g52b142c python-igraph==0.8.3 louvain==0.6.1 leidenalg==0.8.3\n"
     ]
    }
   ],
   "source": [
    "sc.logging.print_header()"
   ]
  },
  {
   "cell_type": "markdown",
   "metadata": {},
   "source": [
    "# Load the data"
   ]
  },
  {
   "cell_type": "code",
   "execution_count": 3,
   "metadata": {},
   "outputs": [],
   "source": [
    "adata = sc.read(os.path.join(dir_data_in, 'LungHubmap.h5ad'))"
   ]
  },
  {
   "cell_type": "code",
   "execution_count": 4,
   "metadata": {},
   "outputs": [
    {
     "data": {
      "text/plain": [
       "AnnData object with n_obs × n_vars = 53904 × 27678\n",
       "    obs: 'sample.ID', 'nCount_RNA', 'nFeature_RNA', 'subject.ID', 'donor.id.loc', 'age', 'race', 'sex', 'class', 'subclass', 'subclass.l2', 'condition', 'smoking.status'\n",
       "    var: 'features'"
      ]
     },
     "execution_count": 4,
     "metadata": {},
     "output_type": "execute_result"
    }
   ],
   "source": [
    "adata"
   ]
  },
  {
   "cell_type": "markdown",
   "metadata": {},
   "source": [
    "# Check data formats"
   ]
  },
  {
   "cell_type": "markdown",
   "metadata": {},
   "source": [
    "### Data"
   ]
  },
  {
   "cell_type": "code",
   "execution_count": 5,
   "metadata": {},
   "outputs": [
    {
     "data": {
      "text/plain": [
       "array([[0., 0., 0., 0., 0., 0., 0., 0., 0., 0.],\n",
       "       [0., 0., 0., 5., 0., 0., 0., 0., 0., 0.],\n",
       "       [0., 0., 0., 0., 0., 0., 0., 0., 0., 0.],\n",
       "       [0., 0., 0., 0., 0., 0., 0., 0., 0., 0.],\n",
       "       [0., 1., 0., 0., 0., 0., 0., 0., 0., 0.],\n",
       "       [0., 0., 0., 0., 0., 0., 0., 0., 0., 0.],\n",
       "       [0., 0., 0., 0., 0., 0., 0., 0., 0., 0.],\n",
       "       [0., 0., 0., 0., 0., 0., 0., 0., 0., 0.],\n",
       "       [0., 0., 0., 0., 0., 0., 0., 0., 0., 0.],\n",
       "       [0., 0., 0., 0., 0., 0., 0., 0., 0., 0.]])"
      ]
     },
     "execution_count": 5,
     "metadata": {},
     "output_type": "execute_result"
    }
   ],
   "source": [
    "adata.X[:10,:10].A"
   ]
  },
  {
   "cell_type": "markdown",
   "metadata": {},
   "source": [
    "### var"
   ]
  },
  {
   "cell_type": "code",
   "execution_count": 6,
   "metadata": {},
   "outputs": [
    {
     "data": {
      "text/html": [
       "<div>\n",
       "<style scoped>\n",
       "    .dataframe tbody tr th:only-of-type {\n",
       "        vertical-align: middle;\n",
       "    }\n",
       "\n",
       "    .dataframe tbody tr th {\n",
       "        vertical-align: top;\n",
       "    }\n",
       "\n",
       "    .dataframe thead th {\n",
       "        text-align: right;\n",
       "    }\n",
       "</style>\n",
       "<table border=\"1\" class=\"dataframe\">\n",
       "  <thead>\n",
       "    <tr style=\"text-align: right;\">\n",
       "      <th></th>\n",
       "      <th>features</th>\n",
       "    </tr>\n",
       "  </thead>\n",
       "  <tbody>\n",
       "    <tr>\n",
       "      <th>A1BG</th>\n",
       "      <td>A1BG</td>\n",
       "    </tr>\n",
       "    <tr>\n",
       "      <th>A1BG-AS1</th>\n",
       "      <td>A1BG-AS1</td>\n",
       "    </tr>\n",
       "    <tr>\n",
       "      <th>A1CF</th>\n",
       "      <td>A1CF</td>\n",
       "    </tr>\n",
       "    <tr>\n",
       "      <th>A2M</th>\n",
       "      <td>A2M</td>\n",
       "    </tr>\n",
       "    <tr>\n",
       "      <th>A2M-AS1</th>\n",
       "      <td>A2M-AS1</td>\n",
       "    </tr>\n",
       "  </tbody>\n",
       "</table>\n",
       "</div>"
      ],
      "text/plain": [
       "          features\n",
       "A1BG          A1BG\n",
       "A1BG-AS1  A1BG-AS1\n",
       "A1CF          A1CF\n",
       "A2M            A2M\n",
       "A2M-AS1    A2M-AS1"
      ]
     },
     "execution_count": 6,
     "metadata": {},
     "output_type": "execute_result"
    }
   ],
   "source": [
    "adata.var.head()"
   ]
  },
  {
   "cell_type": "markdown",
   "metadata": {},
   "source": [
    "### obs"
   ]
  },
  {
   "cell_type": "code",
   "execution_count": 7,
   "metadata": {},
   "outputs": [
    {
     "data": {
      "text/html": [
       "<div>\n",
       "<style scoped>\n",
       "    .dataframe tbody tr th:only-of-type {\n",
       "        vertical-align: middle;\n",
       "    }\n",
       "\n",
       "    .dataframe tbody tr th {\n",
       "        vertical-align: top;\n",
       "    }\n",
       "\n",
       "    .dataframe thead th {\n",
       "        text-align: right;\n",
       "    }\n",
       "</style>\n",
       "<table border=\"1\" class=\"dataframe\">\n",
       "  <thead>\n",
       "    <tr style=\"text-align: right;\">\n",
       "      <th></th>\n",
       "      <th>sample.ID</th>\n",
       "      <th>nCount_RNA</th>\n",
       "      <th>nFeature_RNA</th>\n",
       "      <th>subject.ID</th>\n",
       "      <th>donor.id.loc</th>\n",
       "      <th>age</th>\n",
       "      <th>race</th>\n",
       "      <th>sex</th>\n",
       "      <th>class</th>\n",
       "      <th>subclass</th>\n",
       "      <th>subclass.l2</th>\n",
       "      <th>condition</th>\n",
       "      <th>smoking.status</th>\n",
       "    </tr>\n",
       "  </thead>\n",
       "  <tbody>\n",
       "    <tr>\n",
       "      <th>LAP40_AAACCCAAGATGCTAA</th>\n",
       "      <td>0</td>\n",
       "      <td>3962.0</td>\n",
       "      <td>1859</td>\n",
       "      <td>D239</td>\n",
       "      <td>D239-RML-9B3</td>\n",
       "      <td>37yo</td>\n",
       "      <td>black</td>\n",
       "      <td>M</td>\n",
       "      <td>0</td>\n",
       "      <td>0</td>\n",
       "      <td>8</td>\n",
       "      <td>healthy</td>\n",
       "      <td>h/o mj</td>\n",
       "    </tr>\n",
       "    <tr>\n",
       "      <th>LAP40_AAACCCAAGATTGACA</th>\n",
       "      <td>0</td>\n",
       "      <td>5413.0</td>\n",
       "      <td>2587</td>\n",
       "      <td>D239</td>\n",
       "      <td>D239-RML-9B3</td>\n",
       "      <td>37yo</td>\n",
       "      <td>black</td>\n",
       "      <td>M</td>\n",
       "      <td>1</td>\n",
       "      <td>1</td>\n",
       "      <td>14</td>\n",
       "      <td>healthy</td>\n",
       "      <td>h/o mj</td>\n",
       "    </tr>\n",
       "    <tr>\n",
       "      <th>LAP40_AAACCCAGTTTCTATC</th>\n",
       "      <td>0</td>\n",
       "      <td>2113.0</td>\n",
       "      <td>1140</td>\n",
       "      <td>D239</td>\n",
       "      <td>D239-RML-9B3</td>\n",
       "      <td>37yo</td>\n",
       "      <td>black</td>\n",
       "      <td>M</td>\n",
       "      <td>2</td>\n",
       "      <td>2</td>\n",
       "      <td>36</td>\n",
       "      <td>healthy</td>\n",
       "      <td>h/o mj</td>\n",
       "    </tr>\n",
       "    <tr>\n",
       "      <th>LAP40_AAACCCATCCAACTAG</th>\n",
       "      <td>0</td>\n",
       "      <td>645.0</td>\n",
       "      <td>480</td>\n",
       "      <td>D239</td>\n",
       "      <td>D239-RML-9B3</td>\n",
       "      <td>37yo</td>\n",
       "      <td>black</td>\n",
       "      <td>M</td>\n",
       "      <td>0</td>\n",
       "      <td>3</td>\n",
       "      <td>6</td>\n",
       "      <td>healthy</td>\n",
       "      <td>h/o mj</td>\n",
       "    </tr>\n",
       "    <tr>\n",
       "      <th>LAP40_AAACCCATCGCGGTAC</th>\n",
       "      <td>0</td>\n",
       "      <td>7475.0</td>\n",
       "      <td>2958</td>\n",
       "      <td>D239</td>\n",
       "      <td>D239-RML-9B3</td>\n",
       "      <td>37yo</td>\n",
       "      <td>black</td>\n",
       "      <td>M</td>\n",
       "      <td>2</td>\n",
       "      <td>2</td>\n",
       "      <td>36</td>\n",
       "      <td>healthy</td>\n",
       "      <td>h/o mj</td>\n",
       "    </tr>\n",
       "  </tbody>\n",
       "</table>\n",
       "</div>"
      ],
      "text/plain": [
       "                        sample.ID  nCount_RNA  nFeature_RNA subject.ID  \\\n",
       "LAP40_AAACCCAAGATGCTAA          0      3962.0          1859       D239   \n",
       "LAP40_AAACCCAAGATTGACA          0      5413.0          2587       D239   \n",
       "LAP40_AAACCCAGTTTCTATC          0      2113.0          1140       D239   \n",
       "LAP40_AAACCCATCCAACTAG          0       645.0           480       D239   \n",
       "LAP40_AAACCCATCGCGGTAC          0      7475.0          2958       D239   \n",
       "\n",
       "                        donor.id.loc   age   race sex  class  subclass  \\\n",
       "LAP40_AAACCCAAGATGCTAA  D239-RML-9B3  37yo  black   M      0         0   \n",
       "LAP40_AAACCCAAGATTGACA  D239-RML-9B3  37yo  black   M      1         1   \n",
       "LAP40_AAACCCAGTTTCTATC  D239-RML-9B3  37yo  black   M      2         2   \n",
       "LAP40_AAACCCATCCAACTAG  D239-RML-9B3  37yo  black   M      0         3   \n",
       "LAP40_AAACCCATCGCGGTAC  D239-RML-9B3  37yo  black   M      2         2   \n",
       "\n",
       "                        subclass.l2 condition smoking.status  \n",
       "LAP40_AAACCCAAGATGCTAA            8   healthy         h/o mj  \n",
       "LAP40_AAACCCAAGATTGACA           14   healthy         h/o mj  \n",
       "LAP40_AAACCCAGTTTCTATC           36   healthy         h/o mj  \n",
       "LAP40_AAACCCATCCAACTAG            6   healthy         h/o mj  \n",
       "LAP40_AAACCCATCGCGGTAC           36   healthy         h/o mj  "
      ]
     },
     "execution_count": 7,
     "metadata": {},
     "output_type": "execute_result"
    }
   ],
   "source": [
    "adata.obs.head()"
   ]
  },
  {
   "cell_type": "code",
   "execution_count": 8,
   "metadata": {},
   "outputs": [
    {
     "data": {
      "text/html": [
       "<div>\n",
       "<style scoped>\n",
       "    .dataframe tbody tr th:only-of-type {\n",
       "        vertical-align: middle;\n",
       "    }\n",
       "\n",
       "    .dataframe tbody tr th {\n",
       "        vertical-align: top;\n",
       "    }\n",
       "\n",
       "    .dataframe thead th {\n",
       "        text-align: right;\n",
       "    }\n",
       "</style>\n",
       "<table border=\"1\" class=\"dataframe\">\n",
       "  <thead>\n",
       "    <tr style=\"text-align: right;\">\n",
       "      <th>donor.id.loc</th>\n",
       "      <th>D239-RML-12A3</th>\n",
       "      <th>D239-RML-12A4</th>\n",
       "      <th>D239-RML-3A4</th>\n",
       "      <th>D239-RML-7A2</th>\n",
       "      <th>D239-RML-7A3</th>\n",
       "      <th>D239-RML-9B3</th>\n",
       "      <th>D239-RML-9B5</th>\n",
       "    </tr>\n",
       "    <tr>\n",
       "      <th>sample.ID</th>\n",
       "      <th></th>\n",
       "      <th></th>\n",
       "      <th></th>\n",
       "      <th></th>\n",
       "      <th></th>\n",
       "      <th></th>\n",
       "      <th></th>\n",
       "    </tr>\n",
       "  </thead>\n",
       "  <tbody>\n",
       "    <tr>\n",
       "      <th>0</th>\n",
       "      <td>0</td>\n",
       "      <td>0</td>\n",
       "      <td>0</td>\n",
       "      <td>0</td>\n",
       "      <td>0</td>\n",
       "      <td>6016</td>\n",
       "      <td>0</td>\n",
       "    </tr>\n",
       "    <tr>\n",
       "      <th>1</th>\n",
       "      <td>0</td>\n",
       "      <td>0</td>\n",
       "      <td>0</td>\n",
       "      <td>0</td>\n",
       "      <td>0</td>\n",
       "      <td>9177</td>\n",
       "      <td>0</td>\n",
       "    </tr>\n",
       "    <tr>\n",
       "      <th>2</th>\n",
       "      <td>0</td>\n",
       "      <td>0</td>\n",
       "      <td>3612</td>\n",
       "      <td>0</td>\n",
       "      <td>0</td>\n",
       "      <td>0</td>\n",
       "      <td>0</td>\n",
       "    </tr>\n",
       "    <tr>\n",
       "      <th>3</th>\n",
       "      <td>0</td>\n",
       "      <td>0</td>\n",
       "      <td>0</td>\n",
       "      <td>3720</td>\n",
       "      <td>0</td>\n",
       "      <td>0</td>\n",
       "      <td>0</td>\n",
       "    </tr>\n",
       "    <tr>\n",
       "      <th>4</th>\n",
       "      <td>0</td>\n",
       "      <td>0</td>\n",
       "      <td>0</td>\n",
       "      <td>0</td>\n",
       "      <td>5290</td>\n",
       "      <td>0</td>\n",
       "      <td>0</td>\n",
       "    </tr>\n",
       "    <tr>\n",
       "      <th>5</th>\n",
       "      <td>0</td>\n",
       "      <td>0</td>\n",
       "      <td>0</td>\n",
       "      <td>0</td>\n",
       "      <td>0</td>\n",
       "      <td>6967</td>\n",
       "      <td>0</td>\n",
       "    </tr>\n",
       "    <tr>\n",
       "      <th>6</th>\n",
       "      <td>0</td>\n",
       "      <td>0</td>\n",
       "      <td>0</td>\n",
       "      <td>0</td>\n",
       "      <td>0</td>\n",
       "      <td>0</td>\n",
       "      <td>6351</td>\n",
       "    </tr>\n",
       "    <tr>\n",
       "      <th>7</th>\n",
       "      <td>6030</td>\n",
       "      <td>0</td>\n",
       "      <td>0</td>\n",
       "      <td>0</td>\n",
       "      <td>0</td>\n",
       "      <td>0</td>\n",
       "      <td>0</td>\n",
       "    </tr>\n",
       "    <tr>\n",
       "      <th>8</th>\n",
       "      <td>0</td>\n",
       "      <td>6741</td>\n",
       "      <td>0</td>\n",
       "      <td>0</td>\n",
       "      <td>0</td>\n",
       "      <td>0</td>\n",
       "      <td>0</td>\n",
       "    </tr>\n",
       "  </tbody>\n",
       "</table>\n",
       "</div>"
      ],
      "text/plain": [
       "donor.id.loc  D239-RML-12A3  D239-RML-12A4  D239-RML-3A4  D239-RML-7A2  \\\n",
       "sample.ID                                                                \n",
       "0                         0              0             0             0   \n",
       "1                         0              0             0             0   \n",
       "2                         0              0          3612             0   \n",
       "3                         0              0             0          3720   \n",
       "4                         0              0             0             0   \n",
       "5                         0              0             0             0   \n",
       "6                         0              0             0             0   \n",
       "7                      6030              0             0             0   \n",
       "8                         0           6741             0             0   \n",
       "\n",
       "donor.id.loc  D239-RML-7A3  D239-RML-9B3  D239-RML-9B5  \n",
       "sample.ID                                               \n",
       "0                        0          6016             0  \n",
       "1                        0          9177             0  \n",
       "2                        0             0             0  \n",
       "3                        0             0             0  \n",
       "4                     5290             0             0  \n",
       "5                        0          6967             0  \n",
       "6                        0             0          6351  \n",
       "7                        0             0             0  \n",
       "8                        0             0             0  "
      ]
     },
     "execution_count": 8,
     "metadata": {},
     "output_type": "execute_result"
    }
   ],
   "source": [
    "pd.crosstab(adata.obs['sample.ID'], adata.obs['donor.id.loc'])"
   ]
  },
  {
   "cell_type": "code",
   "execution_count": 9,
   "metadata": {},
   "outputs": [
    {
     "data": {
      "text/plain": [
       "h/o mj    53904\n",
       "Name: smoking.status, dtype: int64"
      ]
     },
     "execution_count": 9,
     "metadata": {},
     "output_type": "execute_result"
    }
   ],
   "source": [
    "adata.obs['smoking.status'].value_counts()"
   ]
  },
  {
   "cell_type": "code",
   "execution_count": 10,
   "metadata": {
    "scrolled": true,
    "tags": []
   },
   "outputs": [
    {
     "data": {
      "text/plain": [
       "0    19769\n",
       "3    13667\n",
       "2    12704\n",
       "1     7764\n",
       "Name: class, dtype: int64"
      ]
     },
     "execution_count": 10,
     "metadata": {},
     "output_type": "execute_result"
    },
    {
     "data": {
      "text/plain": [
       "0     10974\n",
       "5     10859\n",
       "2      8746\n",
       "1      5511\n",
       "4      4766\n",
       "8      3958\n",
       "6      1348\n",
       "7      1172\n",
       "12     1124\n",
       "13     1081\n",
       "16      942\n",
       "3       936\n",
       "11      742\n",
       "10      662\n",
       "9       541\n",
       "17      232\n",
       "14      218\n",
       "18       48\n",
       "15       44\n",
       "Name: subclass, dtype: int64"
      ]
     },
     "execution_count": 10,
     "metadata": {},
     "output_type": "execute_result"
    },
    {
     "data": {
      "text/plain": [
       "8     10948\n",
       "22     7648\n",
       "11     4645\n",
       "14     4384\n",
       "36     3638\n",
       "24     2758\n",
       "32     2436\n",
       "30     1405\n",
       "15     1127\n",
       "21     1124\n",
       "31     1093\n",
       "20     1081\n",
       "37      994\n",
       "1       988\n",
       "29      980\n",
       "25      942\n",
       "6       936\n",
       "34      749\n",
       "26      742\n",
       "10      662\n",
       "18      612\n",
       "0       541\n",
       "33      477\n",
       "23      453\n",
       "28      335\n",
       "35      320\n",
       "2       301\n",
       "7       232\n",
       "5       218\n",
       "16      213\n",
       "17      191\n",
       "19      156\n",
       "27      145\n",
       "38      132\n",
       "12      121\n",
       "3        59\n",
       "4        48\n",
       "13       44\n",
       "9        26\n",
       "Name: subclass.l2, dtype: int64"
      ]
     },
     "execution_count": 10,
     "metadata": {},
     "output_type": "execute_result"
    }
   ],
   "source": [
    "adata.obs['class'].value_counts()\n",
    "adata.obs['subclass'].value_counts()\n",
    "adata.obs['subclass.l2'].value_counts()"
   ]
  },
  {
   "cell_type": "code",
   "execution_count": 11,
   "metadata": {},
   "outputs": [
    {
     "data": {
      "text/plain": [
       "black    53904\n",
       "Name: race, dtype: int64"
      ]
     },
     "execution_count": 11,
     "metadata": {},
     "output_type": "execute_result"
    }
   ],
   "source": [
    "adata.obs['race'].value_counts()"
   ]
  },
  {
   "cell_type": "markdown",
   "metadata": {},
   "source": [
    "### Obs renaming"
   ]
  },
  {
   "cell_type": "markdown",
   "metadata": {},
   "source": [
    "#### Assign labels"
   ]
  },
  {
   "cell_type": "code",
   "execution_count": 12,
   "metadata": {},
   "outputs": [],
   "source": [
    "c1 = pd.read_csv(os.path.join(dir_data_in, 'class_forHLCAv1.txt'), sep='\\t', header=None, index_col=0)\n",
    "c2 = pd.read_csv(os.path.join(dir_data_in, 'subclass_forHLCAv1.txt'), sep='\\t', header=None, index_col=0)\n",
    "c3 = pd.read_csv(os.path.join(dir_data_in,'raw/Duong/subclass.l2_forHLCAv1.txt'), sep='\\t', header=None, index_col=0)"
   ]
  },
  {
   "cell_type": "code",
   "execution_count": 13,
   "metadata": {},
   "outputs": [
    {
     "data": {
      "text/html": [
       "<div>\n",
       "<style scoped>\n",
       "    .dataframe tbody tr th:only-of-type {\n",
       "        vertical-align: middle;\n",
       "    }\n",
       "\n",
       "    .dataframe tbody tr th {\n",
       "        vertical-align: top;\n",
       "    }\n",
       "\n",
       "    .dataframe thead th {\n",
       "        text-align: right;\n",
       "    }\n",
       "</style>\n",
       "<table border=\"1\" class=\"dataframe\">\n",
       "  <thead>\n",
       "    <tr style=\"text-align: right;\">\n",
       "      <th></th>\n",
       "      <th>1</th>\n",
       "    </tr>\n",
       "    <tr>\n",
       "      <th>0</th>\n",
       "      <th></th>\n",
       "    </tr>\n",
       "  </thead>\n",
       "  <tbody>\n",
       "    <tr>\n",
       "      <th>LAP40_AAACCCAAGATGCTAA</th>\n",
       "      <td>epithelial</td>\n",
       "    </tr>\n",
       "    <tr>\n",
       "      <th>LAP40_AAACCCAAGATTGACA</th>\n",
       "      <td>mesenchymal</td>\n",
       "    </tr>\n",
       "    <tr>\n",
       "      <th>LAP40_AAACCCAGTTTCTATC</th>\n",
       "      <td>immune</td>\n",
       "    </tr>\n",
       "    <tr>\n",
       "      <th>LAP40_AAACCCATCCAACTAG</th>\n",
       "      <td>epithelial</td>\n",
       "    </tr>\n",
       "    <tr>\n",
       "      <th>LAP40_AAACCCATCGCGGTAC</th>\n",
       "      <td>immune</td>\n",
       "    </tr>\n",
       "  </tbody>\n",
       "</table>\n",
       "</div>"
      ],
      "text/plain": [
       "                                  1\n",
       "0                                  \n",
       "LAP40_AAACCCAAGATGCTAA   epithelial\n",
       "LAP40_AAACCCAAGATTGACA  mesenchymal\n",
       "LAP40_AAACCCAGTTTCTATC       immune\n",
       "LAP40_AAACCCATCCAACTAG   epithelial\n",
       "LAP40_AAACCCATCGCGGTAC       immune"
      ]
     },
     "execution_count": 13,
     "metadata": {},
     "output_type": "execute_result"
    }
   ],
   "source": [
    "c1.head()"
   ]
  },
  {
   "cell_type": "code",
   "execution_count": 14,
   "metadata": {},
   "outputs": [],
   "source": [
    "adata.obs['class_test'] = c1[1]\n",
    "adata.obs['subclass_test'] = c2[1]"
   ]
  },
  {
   "cell_type": "code",
   "execution_count": 15,
   "metadata": {},
   "outputs": [
    {
     "data": {
      "text/html": [
       "<div>\n",
       "<style scoped>\n",
       "    .dataframe tbody tr th:only-of-type {\n",
       "        vertical-align: middle;\n",
       "    }\n",
       "\n",
       "    .dataframe tbody tr th {\n",
       "        vertical-align: top;\n",
       "    }\n",
       "\n",
       "    .dataframe thead th {\n",
       "        text-align: right;\n",
       "    }\n",
       "</style>\n",
       "<table border=\"1\" class=\"dataframe\">\n",
       "  <thead>\n",
       "    <tr style=\"text-align: right;\">\n",
       "      <th>subclass_test</th>\n",
       "      <th>AT1</th>\n",
       "      <th>AT1.AT2</th>\n",
       "      <th>AT2</th>\n",
       "      <th>Art</th>\n",
       "      <th>BASC</th>\n",
       "      <th>Bas</th>\n",
       "      <th>Cap</th>\n",
       "      <th>Cil</th>\n",
       "      <th>Club</th>\n",
       "      <th>Gob</th>\n",
       "      <th>Lym</th>\n",
       "      <th>Lymphoid</th>\n",
       "      <th>MFB</th>\n",
       "      <th>Myeloid</th>\n",
       "      <th>MyoFB.SM</th>\n",
       "      <th>NE</th>\n",
       "      <th>Peri</th>\n",
       "      <th>Ser</th>\n",
       "      <th>Vein</th>\n",
       "    </tr>\n",
       "    <tr>\n",
       "      <th>subclass</th>\n",
       "      <th></th>\n",
       "      <th></th>\n",
       "      <th></th>\n",
       "      <th></th>\n",
       "      <th></th>\n",
       "      <th></th>\n",
       "      <th></th>\n",
       "      <th></th>\n",
       "      <th></th>\n",
       "      <th></th>\n",
       "      <th></th>\n",
       "      <th></th>\n",
       "      <th></th>\n",
       "      <th></th>\n",
       "      <th></th>\n",
       "      <th></th>\n",
       "      <th></th>\n",
       "      <th></th>\n",
       "      <th></th>\n",
       "    </tr>\n",
       "  </thead>\n",
       "  <tbody>\n",
       "    <tr>\n",
       "      <th>0</th>\n",
       "      <td>0</td>\n",
       "      <td>0</td>\n",
       "      <td>10974</td>\n",
       "      <td>0</td>\n",
       "      <td>0</td>\n",
       "      <td>0</td>\n",
       "      <td>0</td>\n",
       "      <td>0</td>\n",
       "      <td>0</td>\n",
       "      <td>0</td>\n",
       "      <td>0</td>\n",
       "      <td>0</td>\n",
       "      <td>0</td>\n",
       "      <td>0</td>\n",
       "      <td>0</td>\n",
       "      <td>0</td>\n",
       "      <td>0</td>\n",
       "      <td>0</td>\n",
       "      <td>0</td>\n",
       "    </tr>\n",
       "    <tr>\n",
       "      <th>1</th>\n",
       "      <td>0</td>\n",
       "      <td>0</td>\n",
       "      <td>0</td>\n",
       "      <td>0</td>\n",
       "      <td>0</td>\n",
       "      <td>0</td>\n",
       "      <td>0</td>\n",
       "      <td>0</td>\n",
       "      <td>0</td>\n",
       "      <td>0</td>\n",
       "      <td>0</td>\n",
       "      <td>0</td>\n",
       "      <td>5511</td>\n",
       "      <td>0</td>\n",
       "      <td>0</td>\n",
       "      <td>0</td>\n",
       "      <td>0</td>\n",
       "      <td>0</td>\n",
       "      <td>0</td>\n",
       "    </tr>\n",
       "    <tr>\n",
       "      <th>2</th>\n",
       "      <td>0</td>\n",
       "      <td>0</td>\n",
       "      <td>0</td>\n",
       "      <td>0</td>\n",
       "      <td>0</td>\n",
       "      <td>0</td>\n",
       "      <td>0</td>\n",
       "      <td>0</td>\n",
       "      <td>0</td>\n",
       "      <td>0</td>\n",
       "      <td>0</td>\n",
       "      <td>0</td>\n",
       "      <td>0</td>\n",
       "      <td>8746</td>\n",
       "      <td>0</td>\n",
       "      <td>0</td>\n",
       "      <td>0</td>\n",
       "      <td>0</td>\n",
       "      <td>0</td>\n",
       "    </tr>\n",
       "    <tr>\n",
       "      <th>3</th>\n",
       "      <td>0</td>\n",
       "      <td>0</td>\n",
       "      <td>0</td>\n",
       "      <td>0</td>\n",
       "      <td>0</td>\n",
       "      <td>0</td>\n",
       "      <td>0</td>\n",
       "      <td>0</td>\n",
       "      <td>936</td>\n",
       "      <td>0</td>\n",
       "      <td>0</td>\n",
       "      <td>0</td>\n",
       "      <td>0</td>\n",
       "      <td>0</td>\n",
       "      <td>0</td>\n",
       "      <td>0</td>\n",
       "      <td>0</td>\n",
       "      <td>0</td>\n",
       "      <td>0</td>\n",
       "    </tr>\n",
       "    <tr>\n",
       "      <th>4</th>\n",
       "      <td>4766</td>\n",
       "      <td>0</td>\n",
       "      <td>0</td>\n",
       "      <td>0</td>\n",
       "      <td>0</td>\n",
       "      <td>0</td>\n",
       "      <td>0</td>\n",
       "      <td>0</td>\n",
       "      <td>0</td>\n",
       "      <td>0</td>\n",
       "      <td>0</td>\n",
       "      <td>0</td>\n",
       "      <td>0</td>\n",
       "      <td>0</td>\n",
       "      <td>0</td>\n",
       "      <td>0</td>\n",
       "      <td>0</td>\n",
       "      <td>0</td>\n",
       "      <td>0</td>\n",
       "    </tr>\n",
       "    <tr>\n",
       "      <th>5</th>\n",
       "      <td>0</td>\n",
       "      <td>0</td>\n",
       "      <td>0</td>\n",
       "      <td>0</td>\n",
       "      <td>0</td>\n",
       "      <td>0</td>\n",
       "      <td>10859</td>\n",
       "      <td>0</td>\n",
       "      <td>0</td>\n",
       "      <td>0</td>\n",
       "      <td>0</td>\n",
       "      <td>0</td>\n",
       "      <td>0</td>\n",
       "      <td>0</td>\n",
       "      <td>0</td>\n",
       "      <td>0</td>\n",
       "      <td>0</td>\n",
       "      <td>0</td>\n",
       "      <td>0</td>\n",
       "    </tr>\n",
       "    <tr>\n",
       "      <th>6</th>\n",
       "      <td>0</td>\n",
       "      <td>0</td>\n",
       "      <td>0</td>\n",
       "      <td>0</td>\n",
       "      <td>0</td>\n",
       "      <td>0</td>\n",
       "      <td>0</td>\n",
       "      <td>1348</td>\n",
       "      <td>0</td>\n",
       "      <td>0</td>\n",
       "      <td>0</td>\n",
       "      <td>0</td>\n",
       "      <td>0</td>\n",
       "      <td>0</td>\n",
       "      <td>0</td>\n",
       "      <td>0</td>\n",
       "      <td>0</td>\n",
       "      <td>0</td>\n",
       "      <td>0</td>\n",
       "    </tr>\n",
       "    <tr>\n",
       "      <th>7</th>\n",
       "      <td>0</td>\n",
       "      <td>0</td>\n",
       "      <td>0</td>\n",
       "      <td>0</td>\n",
       "      <td>0</td>\n",
       "      <td>0</td>\n",
       "      <td>0</td>\n",
       "      <td>0</td>\n",
       "      <td>0</td>\n",
       "      <td>0</td>\n",
       "      <td>0</td>\n",
       "      <td>0</td>\n",
       "      <td>0</td>\n",
       "      <td>0</td>\n",
       "      <td>1172</td>\n",
       "      <td>0</td>\n",
       "      <td>0</td>\n",
       "      <td>0</td>\n",
       "      <td>0</td>\n",
       "    </tr>\n",
       "    <tr>\n",
       "      <th>8</th>\n",
       "      <td>0</td>\n",
       "      <td>0</td>\n",
       "      <td>0</td>\n",
       "      <td>0</td>\n",
       "      <td>0</td>\n",
       "      <td>0</td>\n",
       "      <td>0</td>\n",
       "      <td>0</td>\n",
       "      <td>0</td>\n",
       "      <td>0</td>\n",
       "      <td>0</td>\n",
       "      <td>3958</td>\n",
       "      <td>0</td>\n",
       "      <td>0</td>\n",
       "      <td>0</td>\n",
       "      <td>0</td>\n",
       "      <td>0</td>\n",
       "      <td>0</td>\n",
       "      <td>0</td>\n",
       "    </tr>\n",
       "    <tr>\n",
       "      <th>9</th>\n",
       "      <td>0</td>\n",
       "      <td>0</td>\n",
       "      <td>0</td>\n",
       "      <td>0</td>\n",
       "      <td>0</td>\n",
       "      <td>541</td>\n",
       "      <td>0</td>\n",
       "      <td>0</td>\n",
       "      <td>0</td>\n",
       "      <td>0</td>\n",
       "      <td>0</td>\n",
       "      <td>0</td>\n",
       "      <td>0</td>\n",
       "      <td>0</td>\n",
       "      <td>0</td>\n",
       "      <td>0</td>\n",
       "      <td>0</td>\n",
       "      <td>0</td>\n",
       "      <td>0</td>\n",
       "    </tr>\n",
       "    <tr>\n",
       "      <th>10</th>\n",
       "      <td>0</td>\n",
       "      <td>662</td>\n",
       "      <td>0</td>\n",
       "      <td>0</td>\n",
       "      <td>0</td>\n",
       "      <td>0</td>\n",
       "      <td>0</td>\n",
       "      <td>0</td>\n",
       "      <td>0</td>\n",
       "      <td>0</td>\n",
       "      <td>0</td>\n",
       "      <td>0</td>\n",
       "      <td>0</td>\n",
       "      <td>0</td>\n",
       "      <td>0</td>\n",
       "      <td>0</td>\n",
       "      <td>0</td>\n",
       "      <td>0</td>\n",
       "      <td>0</td>\n",
       "    </tr>\n",
       "    <tr>\n",
       "      <th>11</th>\n",
       "      <td>0</td>\n",
       "      <td>0</td>\n",
       "      <td>0</td>\n",
       "      <td>0</td>\n",
       "      <td>0</td>\n",
       "      <td>0</td>\n",
       "      <td>0</td>\n",
       "      <td>0</td>\n",
       "      <td>0</td>\n",
       "      <td>0</td>\n",
       "      <td>742</td>\n",
       "      <td>0</td>\n",
       "      <td>0</td>\n",
       "      <td>0</td>\n",
       "      <td>0</td>\n",
       "      <td>0</td>\n",
       "      <td>0</td>\n",
       "      <td>0</td>\n",
       "      <td>0</td>\n",
       "    </tr>\n",
       "    <tr>\n",
       "      <th>12</th>\n",
       "      <td>0</td>\n",
       "      <td>0</td>\n",
       "      <td>0</td>\n",
       "      <td>1124</td>\n",
       "      <td>0</td>\n",
       "      <td>0</td>\n",
       "      <td>0</td>\n",
       "      <td>0</td>\n",
       "      <td>0</td>\n",
       "      <td>0</td>\n",
       "      <td>0</td>\n",
       "      <td>0</td>\n",
       "      <td>0</td>\n",
       "      <td>0</td>\n",
       "      <td>0</td>\n",
       "      <td>0</td>\n",
       "      <td>0</td>\n",
       "      <td>0</td>\n",
       "      <td>0</td>\n",
       "    </tr>\n",
       "    <tr>\n",
       "      <th>13</th>\n",
       "      <td>0</td>\n",
       "      <td>0</td>\n",
       "      <td>0</td>\n",
       "      <td>0</td>\n",
       "      <td>0</td>\n",
       "      <td>0</td>\n",
       "      <td>0</td>\n",
       "      <td>0</td>\n",
       "      <td>0</td>\n",
       "      <td>0</td>\n",
       "      <td>0</td>\n",
       "      <td>0</td>\n",
       "      <td>0</td>\n",
       "      <td>0</td>\n",
       "      <td>0</td>\n",
       "      <td>0</td>\n",
       "      <td>1081</td>\n",
       "      <td>0</td>\n",
       "      <td>0</td>\n",
       "    </tr>\n",
       "    <tr>\n",
       "      <th>14</th>\n",
       "      <td>0</td>\n",
       "      <td>0</td>\n",
       "      <td>0</td>\n",
       "      <td>0</td>\n",
       "      <td>0</td>\n",
       "      <td>0</td>\n",
       "      <td>0</td>\n",
       "      <td>0</td>\n",
       "      <td>0</td>\n",
       "      <td>218</td>\n",
       "      <td>0</td>\n",
       "      <td>0</td>\n",
       "      <td>0</td>\n",
       "      <td>0</td>\n",
       "      <td>0</td>\n",
       "      <td>0</td>\n",
       "      <td>0</td>\n",
       "      <td>0</td>\n",
       "      <td>0</td>\n",
       "    </tr>\n",
       "    <tr>\n",
       "      <th>15</th>\n",
       "      <td>0</td>\n",
       "      <td>0</td>\n",
       "      <td>0</td>\n",
       "      <td>0</td>\n",
       "      <td>0</td>\n",
       "      <td>0</td>\n",
       "      <td>0</td>\n",
       "      <td>0</td>\n",
       "      <td>0</td>\n",
       "      <td>0</td>\n",
       "      <td>0</td>\n",
       "      <td>0</td>\n",
       "      <td>0</td>\n",
       "      <td>0</td>\n",
       "      <td>0</td>\n",
       "      <td>44</td>\n",
       "      <td>0</td>\n",
       "      <td>0</td>\n",
       "      <td>0</td>\n",
       "    </tr>\n",
       "    <tr>\n",
       "      <th>16</th>\n",
       "      <td>0</td>\n",
       "      <td>0</td>\n",
       "      <td>0</td>\n",
       "      <td>0</td>\n",
       "      <td>0</td>\n",
       "      <td>0</td>\n",
       "      <td>0</td>\n",
       "      <td>0</td>\n",
       "      <td>0</td>\n",
       "      <td>0</td>\n",
       "      <td>0</td>\n",
       "      <td>0</td>\n",
       "      <td>0</td>\n",
       "      <td>0</td>\n",
       "      <td>0</td>\n",
       "      <td>0</td>\n",
       "      <td>0</td>\n",
       "      <td>0</td>\n",
       "      <td>942</td>\n",
       "    </tr>\n",
       "    <tr>\n",
       "      <th>17</th>\n",
       "      <td>0</td>\n",
       "      <td>0</td>\n",
       "      <td>0</td>\n",
       "      <td>0</td>\n",
       "      <td>232</td>\n",
       "      <td>0</td>\n",
       "      <td>0</td>\n",
       "      <td>0</td>\n",
       "      <td>0</td>\n",
       "      <td>0</td>\n",
       "      <td>0</td>\n",
       "      <td>0</td>\n",
       "      <td>0</td>\n",
       "      <td>0</td>\n",
       "      <td>0</td>\n",
       "      <td>0</td>\n",
       "      <td>0</td>\n",
       "      <td>0</td>\n",
       "      <td>0</td>\n",
       "    </tr>\n",
       "    <tr>\n",
       "      <th>18</th>\n",
       "      <td>0</td>\n",
       "      <td>0</td>\n",
       "      <td>0</td>\n",
       "      <td>0</td>\n",
       "      <td>0</td>\n",
       "      <td>0</td>\n",
       "      <td>0</td>\n",
       "      <td>0</td>\n",
       "      <td>0</td>\n",
       "      <td>0</td>\n",
       "      <td>0</td>\n",
       "      <td>0</td>\n",
       "      <td>0</td>\n",
       "      <td>0</td>\n",
       "      <td>0</td>\n",
       "      <td>0</td>\n",
       "      <td>0</td>\n",
       "      <td>48</td>\n",
       "      <td>0</td>\n",
       "    </tr>\n",
       "  </tbody>\n",
       "</table>\n",
       "</div>"
      ],
      "text/plain": [
       "subclass_test   AT1  AT1.AT2    AT2   Art  BASC  Bas    Cap   Cil  Club  Gob  \\\n",
       "subclass                                                                       \n",
       "0                 0        0  10974     0     0    0      0     0     0    0   \n",
       "1                 0        0      0     0     0    0      0     0     0    0   \n",
       "2                 0        0      0     0     0    0      0     0     0    0   \n",
       "3                 0        0      0     0     0    0      0     0   936    0   \n",
       "4              4766        0      0     0     0    0      0     0     0    0   \n",
       "5                 0        0      0     0     0    0  10859     0     0    0   \n",
       "6                 0        0      0     0     0    0      0  1348     0    0   \n",
       "7                 0        0      0     0     0    0      0     0     0    0   \n",
       "8                 0        0      0     0     0    0      0     0     0    0   \n",
       "9                 0        0      0     0     0  541      0     0     0    0   \n",
       "10                0      662      0     0     0    0      0     0     0    0   \n",
       "11                0        0      0     0     0    0      0     0     0    0   \n",
       "12                0        0      0  1124     0    0      0     0     0    0   \n",
       "13                0        0      0     0     0    0      0     0     0    0   \n",
       "14                0        0      0     0     0    0      0     0     0  218   \n",
       "15                0        0      0     0     0    0      0     0     0    0   \n",
       "16                0        0      0     0     0    0      0     0     0    0   \n",
       "17                0        0      0     0   232    0      0     0     0    0   \n",
       "18                0        0      0     0     0    0      0     0     0    0   \n",
       "\n",
       "subclass_test  Lym  Lymphoid   MFB  Myeloid  MyoFB.SM  NE  Peri  Ser  Vein  \n",
       "subclass                                                                    \n",
       "0                0         0     0        0         0   0     0    0     0  \n",
       "1                0         0  5511        0         0   0     0    0     0  \n",
       "2                0         0     0     8746         0   0     0    0     0  \n",
       "3                0         0     0        0         0   0     0    0     0  \n",
       "4                0         0     0        0         0   0     0    0     0  \n",
       "5                0         0     0        0         0   0     0    0     0  \n",
       "6                0         0     0        0         0   0     0    0     0  \n",
       "7                0         0     0        0      1172   0     0    0     0  \n",
       "8                0      3958     0        0         0   0     0    0     0  \n",
       "9                0         0     0        0         0   0     0    0     0  \n",
       "10               0         0     0        0         0   0     0    0     0  \n",
       "11             742         0     0        0         0   0     0    0     0  \n",
       "12               0         0     0        0         0   0     0    0     0  \n",
       "13               0         0     0        0         0   0  1081    0     0  \n",
       "14               0         0     0        0         0   0     0    0     0  \n",
       "15               0         0     0        0         0  44     0    0     0  \n",
       "16               0         0     0        0         0   0     0    0   942  \n",
       "17               0         0     0        0         0   0     0    0     0  \n",
       "18               0         0     0        0         0   0     0   48     0  "
      ]
     },
     "execution_count": 15,
     "metadata": {},
     "output_type": "execute_result"
    }
   ],
   "source": [
    "#test the mappings\n",
    "pd.crosstab(adata.obs['subclass'], adata.obs['subclass_test'])"
   ]
  },
  {
   "cell_type": "code",
   "execution_count": 16,
   "metadata": {},
   "outputs": [],
   "source": [
    "adata.obs['class'] = c1[1]\n",
    "adata.obs['subclass'] = c2[1]\n",
    "adata.obs['subclass.l2'] = c3[1]"
   ]
  },
  {
   "cell_type": "code",
   "execution_count": 17,
   "metadata": {},
   "outputs": [],
   "source": [
    "del adata.obs['class_test']\n",
    "del adata.obs['subclass_test']"
   ]
  },
  {
   "cell_type": "code",
   "execution_count": 18,
   "metadata": {},
   "outputs": [
    {
     "data": {
      "text/plain": [
       "AT2         10974\n",
       "Cap         10859\n",
       "Myeloid      8746\n",
       "MFB          5511\n",
       "AT1          4766\n",
       "Lymphoid     3958\n",
       "Cil          1348\n",
       "MyoFB.SM     1172\n",
       "Art          1124\n",
       "Peri         1081\n",
       "Vein          942\n",
       "Club          936\n",
       "Lym           742\n",
       "AT1.AT2       662\n",
       "Bas           541\n",
       "BASC          232\n",
       "Gob           218\n",
       "Ser            48\n",
       "NE             44\n",
       "Name: subclass, dtype: int64"
      ]
     },
     "execution_count": 18,
     "metadata": {},
     "output_type": "execute_result"
    },
    {
     "data": {
      "text/plain": [
       "AT2        10948\n",
       "gCap        7648\n",
       "AT1         4645\n",
       "MFB.1       4384\n",
       "MP.1        3638\n",
       "aCap        2758\n",
       "Neu         2436\n",
       "CD4T        1405\n",
       "MFB.2       1127\n",
       "Art         1124\n",
       "NK          1093\n",
       "Peri        1081\n",
       "MP.2         994\n",
       "Cil.1        988\n",
       "CD8T         980\n",
       "Vein         942\n",
       "Club         936\n",
       "Mono         749\n",
       "Lym          742\n",
       "AT1.AT2      662\n",
       "MyoFB        612\n",
       "Bas          541\n",
       "Mast.Ba      477\n",
       "Cap.I        453\n",
       "Plasma       335\n",
       "DC           320\n",
       "Cil.2        301\n",
       "BASC         232\n",
       "Gob          218\n",
       "SCMF         213\n",
       "ASM          191\n",
       "VSM          156\n",
       "B            145\n",
       "Imm.P        132\n",
       "AT1.D        121\n",
       "Cil.D         59\n",
       "Ser           48\n",
       "NE            44\n",
       "AT2.P         26\n",
       "Name: subclass.l2, dtype: int64"
      ]
     },
     "execution_count": 18,
     "metadata": {},
     "output_type": "execute_result"
    }
   ],
   "source": [
    "adata.obs['subclass'].value_counts()\n",
    "adata.obs['subclass.l2'].value_counts()"
   ]
  },
  {
   "cell_type": "markdown",
   "metadata": {},
   "source": [
    "#### Rename other obs"
   ]
  },
  {
   "cell_type": "code",
   "execution_count": 19,
   "metadata": {},
   "outputs": [],
   "source": [
    "# Rename obs categories\n",
    "adata.obs = adata.obs.rename(columns={'sample.ID':'sample', 'subject.ID':'subject_ID','smoking.status':'smoking_status', \n",
    "                                      'race':'ethnicity', 'subclass.l2':'orig_celltype_ann'})"
   ]
  },
  {
   "cell_type": "code",
   "execution_count": 20,
   "metadata": {},
   "outputs": [],
   "source": [
    "adata.obs['smoking_status'] = 'hist of marijuana use'"
   ]
  },
  {
   "cell_type": "code",
   "execution_count": 21,
   "metadata": {},
   "outputs": [
    {
     "data": {
      "text/plain": [
       "M    53904\n",
       "Name: sex, dtype: int64"
      ]
     },
     "execution_count": 21,
     "metadata": {},
     "output_type": "execute_result"
    }
   ],
   "source": [
    "adata.obs.sex.value_counts()"
   ]
  },
  {
   "cell_type": "code",
   "execution_count": 22,
   "metadata": {},
   "outputs": [],
   "source": [
    "adata.obs['sex'] = 'male'"
   ]
  },
  {
   "cell_type": "code",
   "execution_count": 23,
   "metadata": {},
   "outputs": [
    {
     "data": {
      "text/plain": [
       "AT2                          10948\n",
       "gCap                          7648\n",
       "AT1                           4645\n",
       "Matrix fibroblast 1           4384\n",
       "Macrophage 1                  3638\n",
       "aCap                          2758\n",
       "Neutrophil                    2436\n",
       "CD4T                          1405\n",
       "Matrix fibroblast 2           1127\n",
       "Arterial EC                   1124\n",
       "NK                            1093\n",
       "Pericyte                      1081\n",
       "Macrophage 2                   994\n",
       "Multiciliated 1                988\n",
       "CD8T                           980\n",
       "Venous EC                      942\n",
       "Club                           936\n",
       "Monocyte                       749\n",
       "Lymphatic EC                   742\n",
       "AT1.AT2                        662\n",
       "Myofibroblast                  612\n",
       "Basal                          541\n",
       "Mast/Basal                     477\n",
       "Capillary intermediate         453\n",
       "Plasma                         335\n",
       "DC                             320\n",
       "Multiciliated 2                301\n",
       "Bronchoalveolar stem cell      232\n",
       "Goblet                         218\n",
       "Secondary crest myofib         213\n",
       "Arterial smooth muscle         191\n",
       "Venous smooth muscle           156\n",
       "B                              145\n",
       "Immune prog                    132\n",
       "AT1 diff                       121\n",
       "Multiciliated diff              59\n",
       "Serous                          48\n",
       "Neuroendocrine                  44\n",
       "AT2 prolif                      26\n",
       "Name: orig_celltype_ann, dtype: int64"
      ]
     },
     "execution_count": 23,
     "metadata": {},
     "output_type": "execute_result"
    },
    {
     "data": {
      "text/plain": [
       "AT2                          10974\n",
       "Capillary EC                 10859\n",
       "Myeloid                       8746\n",
       "Matrix fibroblast             5511\n",
       "AT1                           4766\n",
       "Lymphoid                      3958\n",
       "Cil                           1348\n",
       "MyoFB.SM                      1172\n",
       "Arterial EC                   1124\n",
       "Pericyte                      1081\n",
       "Venous EC                      942\n",
       "Club                           936\n",
       "Lymphatic EC                   742\n",
       "AT1.AT2                        662\n",
       "Basal                          541\n",
       "Bronchoalveolar stem cell      232\n",
       "Goblet                         218\n",
       "Serous                          48\n",
       "Neuroendocrine                  44\n",
       "Name: subclass, dtype: int64"
      ]
     },
     "execution_count": 23,
     "metadata": {},
     "output_type": "execute_result"
    }
   ],
   "source": [
    "ct_map = {'MFB.1': 'Matrix fibroblast 1',\n",
    "          'MFB.2': 'Matrix fibroblast 2',\n",
    "          'MFB': 'Matrix fibroblast',\n",
    "          'MP.1': 'Macrophage 1',\n",
    "          'MP.2': 'Macrophage 2',\n",
    "          'Art': 'Arterial EC',\n",
    "          'Lym': 'Lymphatic EC',\n",
    "          'Mast.Ba': 'Mast/Basal',\n",
    "          'Cap.I': 'Capillary intermediate',\n",
    "          'Cap': 'Capillary EC',\n",
    "          'BASC': 'Bronchoalveolar stem cell',\n",
    "          'SCMF': 'Secondary crest myofib',\n",
    "          'ASM': 'Arterial smooth muscle',\n",
    "          'VSM': 'Venous smooth muscle',\n",
    "          'Imm.P': 'Immune prog',\n",
    "          'AT1.D': 'AT1 diff',\n",
    "          'Cil.D': 'Multiciliated diff',\n",
    "          'Cil.1': 'Multiciliated 1',\n",
    "          'Cil.2': 'Multiciliated 2',\n",
    "          'Ser': 'Serous',\n",
    "          'Neu': 'Neutrophil',\n",
    "          'Mono': 'Monocyte',\n",
    "          'Gob': 'Goblet',\n",
    "          'Bas': 'Basal',\n",
    "          'Peri': 'Pericyte',\n",
    "          'Vein': 'Venous EC',\n",
    "          'MyoFB': 'Myofibroblast',\n",
    "          'NE': 'Neuroendocrine',\n",
    "          'AT2.P':  'AT2 prolif'}\n",
    "\n",
    "adata.obs['orig_celltype_ann'] = [ct_map[ct] if ct in ct_map else ct for ct in adata.obs['orig_celltype_ann']]\n",
    "adata.obs['subclass'] = [ct_map[ct] if ct in ct_map else ct for ct in adata.obs['subclass']]\n",
    "\n",
    "adata.obs['orig_celltype_ann'].value_counts()\n",
    "adata.obs['subclass'].value_counts()"
   ]
  },
  {
   "cell_type": "code",
   "execution_count": 24,
   "metadata": {},
   "outputs": [
    {
     "data": {
      "text/plain": [
       "AnnData object with n_obs × n_vars = 53904 × 27678\n",
       "    obs: 'sample', 'nCount_RNA', 'nFeature_RNA', 'subject_ID', 'donor.id.loc', 'age', 'ethnicity', 'sex', 'class', 'subclass', 'orig_celltype_ann', 'condition', 'smoking_status'\n",
       "    var: 'features'"
      ]
     },
     "execution_count": 24,
     "metadata": {},
     "output_type": "execute_result"
    }
   ],
   "source": [
    "adata"
   ]
  },
  {
   "cell_type": "code",
   "execution_count": 25,
   "metadata": {},
   "outputs": [],
   "source": [
    "adata.obs = adata.obs.drop(columns=['nCount_RNA', 'nFeature_RNA'])"
   ]
  },
  {
   "cell_type": "code",
   "execution_count": 26,
   "metadata": {},
   "outputs": [
    {
     "data": {
      "text/html": [
       "<div>\n",
       "<style scoped>\n",
       "    .dataframe tbody tr th:only-of-type {\n",
       "        vertical-align: middle;\n",
       "    }\n",
       "\n",
       "    .dataframe tbody tr th {\n",
       "        vertical-align: top;\n",
       "    }\n",
       "\n",
       "    .dataframe thead th {\n",
       "        text-align: right;\n",
       "    }\n",
       "</style>\n",
       "<table border=\"1\" class=\"dataframe\">\n",
       "  <thead>\n",
       "    <tr style=\"text-align: right;\">\n",
       "      <th></th>\n",
       "      <th>sample</th>\n",
       "      <th>subject_ID</th>\n",
       "      <th>donor.id.loc</th>\n",
       "      <th>age</th>\n",
       "      <th>ethnicity</th>\n",
       "      <th>sex</th>\n",
       "      <th>class</th>\n",
       "      <th>subclass</th>\n",
       "      <th>orig_celltype_ann</th>\n",
       "      <th>condition</th>\n",
       "      <th>smoking_status</th>\n",
       "    </tr>\n",
       "  </thead>\n",
       "  <tbody>\n",
       "    <tr>\n",
       "      <th>LAP40_AAACCCAAGATGCTAA</th>\n",
       "      <td>0</td>\n",
       "      <td>D239</td>\n",
       "      <td>D239-RML-9B3</td>\n",
       "      <td>37yo</td>\n",
       "      <td>black</td>\n",
       "      <td>male</td>\n",
       "      <td>epithelial</td>\n",
       "      <td>AT2</td>\n",
       "      <td>AT2</td>\n",
       "      <td>healthy</td>\n",
       "      <td>hist of marijuana use</td>\n",
       "    </tr>\n",
       "    <tr>\n",
       "      <th>LAP40_AAACCCAAGATTGACA</th>\n",
       "      <td>0</td>\n",
       "      <td>D239</td>\n",
       "      <td>D239-RML-9B3</td>\n",
       "      <td>37yo</td>\n",
       "      <td>black</td>\n",
       "      <td>male</td>\n",
       "      <td>mesenchymal</td>\n",
       "      <td>Matrix fibroblast</td>\n",
       "      <td>Matrix fibroblast 1</td>\n",
       "      <td>healthy</td>\n",
       "      <td>hist of marijuana use</td>\n",
       "    </tr>\n",
       "    <tr>\n",
       "      <th>LAP40_AAACCCAGTTTCTATC</th>\n",
       "      <td>0</td>\n",
       "      <td>D239</td>\n",
       "      <td>D239-RML-9B3</td>\n",
       "      <td>37yo</td>\n",
       "      <td>black</td>\n",
       "      <td>male</td>\n",
       "      <td>immune</td>\n",
       "      <td>Myeloid</td>\n",
       "      <td>Macrophage 1</td>\n",
       "      <td>healthy</td>\n",
       "      <td>hist of marijuana use</td>\n",
       "    </tr>\n",
       "    <tr>\n",
       "      <th>LAP40_AAACCCATCCAACTAG</th>\n",
       "      <td>0</td>\n",
       "      <td>D239</td>\n",
       "      <td>D239-RML-9B3</td>\n",
       "      <td>37yo</td>\n",
       "      <td>black</td>\n",
       "      <td>male</td>\n",
       "      <td>epithelial</td>\n",
       "      <td>Club</td>\n",
       "      <td>Club</td>\n",
       "      <td>healthy</td>\n",
       "      <td>hist of marijuana use</td>\n",
       "    </tr>\n",
       "    <tr>\n",
       "      <th>LAP40_AAACCCATCGCGGTAC</th>\n",
       "      <td>0</td>\n",
       "      <td>D239</td>\n",
       "      <td>D239-RML-9B3</td>\n",
       "      <td>37yo</td>\n",
       "      <td>black</td>\n",
       "      <td>male</td>\n",
       "      <td>immune</td>\n",
       "      <td>Myeloid</td>\n",
       "      <td>Macrophage 1</td>\n",
       "      <td>healthy</td>\n",
       "      <td>hist of marijuana use</td>\n",
       "    </tr>\n",
       "  </tbody>\n",
       "</table>\n",
       "</div>"
      ],
      "text/plain": [
       "                        sample subject_ID  donor.id.loc   age ethnicity   sex  \\\n",
       "LAP40_AAACCCAAGATGCTAA       0       D239  D239-RML-9B3  37yo     black  male   \n",
       "LAP40_AAACCCAAGATTGACA       0       D239  D239-RML-9B3  37yo     black  male   \n",
       "LAP40_AAACCCAGTTTCTATC       0       D239  D239-RML-9B3  37yo     black  male   \n",
       "LAP40_AAACCCATCCAACTAG       0       D239  D239-RML-9B3  37yo     black  male   \n",
       "LAP40_AAACCCATCGCGGTAC       0       D239  D239-RML-9B3  37yo     black  male   \n",
       "\n",
       "                              class           subclass    orig_celltype_ann  \\\n",
       "LAP40_AAACCCAAGATGCTAA   epithelial                AT2                  AT2   \n",
       "LAP40_AAACCCAAGATTGACA  mesenchymal  Matrix fibroblast  Matrix fibroblast 1   \n",
       "LAP40_AAACCCAGTTTCTATC       immune            Myeloid         Macrophage 1   \n",
       "LAP40_AAACCCATCCAACTAG   epithelial               Club                 Club   \n",
       "LAP40_AAACCCATCGCGGTAC       immune            Myeloid         Macrophage 1   \n",
       "\n",
       "                       condition         smoking_status  \n",
       "LAP40_AAACCCAAGATGCTAA   healthy  hist of marijuana use  \n",
       "LAP40_AAACCCAAGATTGACA   healthy  hist of marijuana use  \n",
       "LAP40_AAACCCAGTTTCTATC   healthy  hist of marijuana use  \n",
       "LAP40_AAACCCATCCAACTAG   healthy  hist of marijuana use  \n",
       "LAP40_AAACCCATCGCGGTAC   healthy  hist of marijuana use  "
      ]
     },
     "execution_count": 26,
     "metadata": {},
     "output_type": "execute_result"
    }
   ],
   "source": [
    "adata.obs.head()"
   ]
  },
  {
   "cell_type": "markdown",
   "metadata": {},
   "source": [
    "- what is donor.id.loc? -> a location of sampling"
   ]
  },
  {
   "cell_type": "code",
   "execution_count": 27,
   "metadata": {},
   "outputs": [
    {
     "data": {
      "text/plain": [
       "D239-RML-9B3     22160\n",
       "D239-RML-12A4     6741\n",
       "D239-RML-9B5      6351\n",
       "D239-RML-12A3     6030\n",
       "D239-RML-7A3      5290\n",
       "D239-RML-7A2      3720\n",
       "D239-RML-3A4      3612\n",
       "Name: donor.id.loc, dtype: int64"
      ]
     },
     "execution_count": 27,
     "metadata": {},
     "output_type": "execute_result"
    }
   ],
   "source": [
    "adata.obs['donor.id.loc'].value_counts()"
   ]
  },
  {
   "cell_type": "markdown",
   "metadata": {},
   "source": [
    "Sample to location mapping:\n",
    "- Mid: 9B3 -> anatomical location YY (Lobar bronchi with surrounding parenchyma)\n",
    "- Proximal: 7A2, 7A3 -> anatomical location XX (segmental bronchi)\n",
    "- Peripheral: 9B5, 3A4, 12A3, 12A4 -> anatomical location 0.97 (parenchyma)"
   ]
  },
  {
   "cell_type": "code",
   "execution_count": 28,
   "metadata": {},
   "outputs": [],
   "source": [
    "# Assign some airway locations\n",
    "adata.obs['anatomical_region_level_1'] = ['airway' if samp in ['D239-RML-9B3', 'D239-RML-7A3', 'D239-RML-7A2'] \n",
    "                                          else 'parenchyma' for samp in adata.obs['donor.id.loc']]"
   ]
  },
  {
   "cell_type": "code",
   "execution_count": 29,
   "metadata": {},
   "outputs": [],
   "source": [
    "adata.obs['anatomical_region_coarse'] = ['airway' if samp in ['D239-RML-9B3'] else 'segmental_bronchi' if samp in ['D239-RML-7A3', 'D239-RML-7A2']\n",
    "                                          else 'parenchyma' for samp in adata.obs['donor.id.loc']]"
   ]
  },
  {
   "cell_type": "code",
   "execution_count": 30,
   "metadata": {},
   "outputs": [],
   "source": [
    "adata.obs['anatomical_region_fine'] = ['lobar_bronchi' if samp in ['D239-RML-9B3'] else 'segmental_bronchi' if samp in ['D239-RML-7A3', 'D239-RML-7A2']\n",
    "                                          else 'parenchyma' for samp in adata.obs['donor.id.loc']]"
   ]
  },
  {
   "cell_type": "code",
   "execution_count": 31,
   "metadata": {},
   "outputs": [
    {
     "data": {
      "text/plain": [
       "airway        31170\n",
       "parenchyma    22734\n",
       "Name: anatomical_region_level_1, dtype: int64"
      ]
     },
     "execution_count": 31,
     "metadata": {},
     "output_type": "execute_result"
    },
    {
     "data": {
      "text/plain": [
       "parenchyma           22734\n",
       "airway               22160\n",
       "segmental_bronchi     9010\n",
       "Name: anatomical_region_coarse, dtype: int64"
      ]
     },
     "execution_count": 31,
     "metadata": {},
     "output_type": "execute_result"
    },
    {
     "data": {
      "text/plain": [
       "parenchyma           22734\n",
       "lobar_bronchi        22160\n",
       "segmental_bronchi     9010\n",
       "Name: anatomical_region_fine, dtype: int64"
      ]
     },
     "execution_count": 31,
     "metadata": {},
     "output_type": "execute_result"
    }
   ],
   "source": [
    "adata.obs['anatomical_region_level_1'].value_counts()\n",
    "adata.obs['anatomical_region_coarse'].value_counts()\n",
    "adata.obs['anatomical_region_fine'].value_counts()"
   ]
  },
  {
   "cell_type": "code",
   "execution_count": 32,
   "metadata": {},
   "outputs": [],
   "source": [
    "# Subject to change in post-processing\n",
    "#adata.obs['anatomical_region_ccf_score'] = [0.72 if samp in ['D239-RML-9B3'] else 0.5 if samp in ['D239-RML-7A3', 'D239-RML-7A2']\n",
    "#                                          else 0.97 for samp in adata.obs['donor.id.loc']]"
   ]
  },
  {
   "cell_type": "code",
   "execution_count": 33,
   "metadata": {},
   "outputs": [
    {
     "data": {
      "text/plain": [
       "AnnData object with n_obs × n_vars = 53904 × 27678\n",
       "    obs: 'sample', 'subject_ID', 'donor.id.loc', 'age', 'ethnicity', 'sex', 'class', 'subclass', 'orig_celltype_ann', 'condition', 'smoking_status', 'anatomical_region_level_1', 'anatomical_region_coarse', 'anatomical_region_fine'\n",
       "    var: 'features'"
      ]
     },
     "execution_count": 33,
     "metadata": {},
     "output_type": "execute_result"
    }
   ],
   "source": [
    "adata"
   ]
  },
  {
   "cell_type": "markdown",
   "metadata": {},
   "source": [
    "# Gene selection"
   ]
  },
  {
   "cell_type": "code",
   "execution_count": 34,
   "metadata": {},
   "outputs": [],
   "source": [
    "gene_set = pd.read_csv('genes_for_mapping.csv')"
   ]
  },
  {
   "cell_type": "code",
   "execution_count": 35,
   "metadata": {},
   "outputs": [
    {
     "name": "stdout",
     "output_type": "stream",
     "text": [
      "/mnt/znas/icb_zstore01/groups/ml01/workspace/hlca_lisa.sikkema_malte.luecken/scripts\n"
     ]
    }
   ],
   "source": [
    "cd ../scripts/"
   ]
  },
  {
   "cell_type": "code",
   "execution_count": 36,
   "metadata": {},
   "outputs": [],
   "source": [
    "import preprocessing as pp\n"
   ]
  },
  {
   "cell_type": "code",
   "execution_count": 37,
   "metadata": {},
   "outputs": [
    {
     "name": "stdout",
     "output_type": "stream",
     "text": [
      "/mnt/znas/icb_zstore01/groups/ml01/workspace/hlca_lisa.sikkema_malte.luecken/query_datasets\n"
     ]
    }
   ],
   "source": [
    "cd ../query_datasets/"
   ]
  },
  {
   "cell_type": "code",
   "execution_count": 38,
   "metadata": {},
   "outputs": [
    {
     "name": "stdout",
     "output_type": "stream",
     "text": [
      "not all genes were recovered, filling in 0 counts for 181 missing genes...\n"
     ]
    },
    {
     "name": "stderr",
     "output_type": "stream",
     "text": [
      "/home/icb/malte.luecken/anaconda3/lib/python3.7/site-packages/anndata/_core/merge.py:894: UserWarning: Only some AnnData objects have `.raw` attribute, not concatenating `.raw` attributes.\n",
      "  UserWarning,\n"
     ]
    }
   ],
   "source": [
    "adata_sub = pp.subset_and_pad_adata(gene_set, adata)"
   ]
  },
  {
   "cell_type": "markdown",
   "metadata": {},
   "source": [
    "# Writing"
   ]
  },
  {
   "cell_type": "code",
   "execution_count": 39,
   "metadata": {},
   "outputs": [],
   "source": [
    "del adata.raw"
   ]
  },
  {
   "cell_type": "code",
   "execution_count": 40,
   "metadata": {},
   "outputs": [
    {
     "name": "stderr",
     "output_type": "stream",
     "text": [
      "... storing 'subject_ID' as categorical\n",
      "... storing 'donor.id.loc' as categorical\n",
      "... storing 'age' as categorical\n",
      "... storing 'ethnicity' as categorical\n",
      "... storing 'sex' as categorical\n",
      "... storing 'class' as categorical\n",
      "... storing 'subclass' as categorical\n",
      "... storing 'orig_celltype_ann' as categorical\n",
      "... storing 'condition' as categorical\n",
      "... storing 'smoking_status' as categorical\n",
      "... storing 'anatomical_region_level_1' as categorical\n",
      "... storing 'anatomical_region_coarse' as categorical\n",
      "... storing 'anatomical_region_fine' as categorical\n",
      "... storing 'subject_ID' as categorical\n",
      "... storing 'donor.id.loc' as categorical\n",
      "... storing 'age' as categorical\n",
      "... storing 'ethnicity' as categorical\n",
      "... storing 'sex' as categorical\n",
      "... storing 'class' as categorical\n",
      "... storing 'subclass' as categorical\n",
      "... storing 'orig_celltype_ann' as categorical\n",
      "... storing 'condition' as categorical\n",
      "... storing 'smoking_status' as categorical\n",
      "... storing 'anatomical_region_level_1' as categorical\n",
      "... storing 'anatomical_region_coarse' as categorical\n",
      "... storing 'anatomical_region_fine' as categorical\n",
      "... storing 'features' as categorical\n",
      "... storing 'gene_symbols' as categorical\n"
     ]
    }
   ],
   "source": [
    "adata.write(os.path.join(dir_data_out, 'full/duong.h5ad'))\n",
    "adata_sub.write(os.path.join(dir_data_out, 'subsetted/duong_sub.h5ad'))"
   ]
  },
  {
   "cell_type": "code",
   "execution_count": 41,
   "metadata": {},
   "outputs": [
    {
     "data": {
      "text/plain": [
       "AnnData object with n_obs × n_vars = 53904 × 27678\n",
       "    obs: 'sample', 'subject_ID', 'donor.id.loc', 'age', 'ethnicity', 'sex', 'class', 'subclass', 'orig_celltype_ann', 'condition', 'smoking_status', 'anatomical_region_level_1', 'anatomical_region_coarse', 'anatomical_region_fine'\n",
       "    var: 'features'"
      ]
     },
     "execution_count": 41,
     "metadata": {},
     "output_type": "execute_result"
    }
   ],
   "source": [
    "adata"
   ]
  }
 ],
 "metadata": {
  "kernelspec": {
   "display_name": "Python 3",
   "language": "python",
   "name": "python3"
  },
  "language_info": {
   "codemirror_mode": {
    "name": "ipython",
    "version": 3
   },
   "file_extension": ".py",
   "mimetype": "text/x-python",
   "name": "python",
   "nbconvert_exporter": "python",
   "pygments_lexer": "ipython3",
   "version": "3.7.5"
  }
 },
 "nbformat": 4,
 "nbformat_minor": 5
}
