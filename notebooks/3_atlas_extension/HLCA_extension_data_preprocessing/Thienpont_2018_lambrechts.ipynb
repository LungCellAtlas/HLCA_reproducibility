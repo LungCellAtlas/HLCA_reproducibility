{
 "cells": [
  {
   "cell_type": "markdown",
   "metadata": {},
   "source": [
    "# Import Thienpont_2018/lambrechts data:"
   ]
  },
  {
   "cell_type": "code",
   "execution_count": 7,
   "metadata": {},
   "outputs": [],
   "source": [
    "import scanpy as sc\n",
    "import sys\n",
    "sys.path.append(\"../../../scripts/\")\n",
    "import pandas as pd\n",
    "import LCA_file_reading\n",
    "import preprocessing\n",
    "import reference_based_harmonizing"
   ]
  },
  {
   "cell_type": "code",
   "execution_count": null,
   "metadata": {},
   "outputs": [],
   "source": [
    "project_dir =  \".\" # change to raw data dir HLCA core\n",
    "target_adata = LCA_file_reading.read_file_Thienpont_2018(project_dir)"
   ]
  },
  {
   "cell_type": "code",
   "execution_count": null,
   "metadata": {},
   "outputs": [],
   "source": [
    "n_genes_before = target_adata.shape[1]\n",
    "sc.pp.filter_genes(target_adata, min_counts=1)\n",
    "# drop annotation label that is automatically created:\n",
    "target_adata.var.drop(\"n_counts\", axis=1, inplace=True)\n",
    "n_genes_after = target_adata.shape[1]\n",
    "print(\"number of genes removed:\", n_genes_before - n_genes_after)"
   ]
  },
  {
   "cell_type": "code",
   "execution_count": null,
   "metadata": {},
   "outputs": [],
   "source": [
    "# add up genes with duplicate names\n",
    "target_adata = preprocessing.add_up_duplicate_gene_name_columns(target_adata)\n",
    "print(target_adata.shape, \"\\n\")\n",
    "# correct gene names\n",
    "renamer_dict = preprocessing.get_gene_renamer_dict(target_adata.var.index.tolist().copy())\n",
    "n_genes_to_rename = np.sum(old != new for old, new in renamer_dict.items())\n",
    "print(n_genes_to_rename, \"GENES TO BE RENAMED (old, new):\\n\")\n",
    "for old, new in renamer_dict.items():\n",
    "    if len(new) > 0:\n",
    "        print(old, new)\n",
    "target_adata.var[\"original_gene_names\"] = target_adata.var.index.tolist().copy()\n",
    "translation_dict = dict(zip(target_adata.var.index, target_adata.var.index))\n",
    "for gene_to_rename, new_name in renamer_dict.items():\n",
    "    translation_dict[gene_to_rename] = new_name\n",
    "target_adata.var.index = target_adata.var.index.map(translation_dict)\n",
    "# add up duplicate genes again\n",
    "# they might have emerged due to gene re-naming above\n",
    "target_adata = preprocessing.add_up_duplicate_gene_name_columns(target_adata)"
   ]
  },
  {
   "cell_type": "code",
   "execution_count": null,
   "metadata": {},
   "outputs": [],
   "source": []
  },
  {
   "cell_type": "code",
   "execution_count": null,
   "metadata": {},
   "outputs": [],
   "source": [
    "harmonizing_df = reference_based_harmonizing.load_harmonizing_table(\n",
    "    \"../../../supporting_files/metadata_harmonization/HLCA_anatomical_region_reference_mapping_20210521.csv\"\n",
    ")\n",
    "consensus_df = reference_based_harmonizing.create_consensus_table(harmonizing_df)\n",
    "celltype_translation_df = (\n",
    "    reference_based_harmonizing.create_orig_ann_to_consensus_translation_df(\n",
    "        target_adata, consensus_df, harmonizing_df, verbose=False\n",
    "    )\n",
    ")"
   ]
  },
  {
   "cell_type": "code",
   "execution_count": null,
   "metadata": {},
   "outputs": [],
   "source": [
    "target_adata = reference_based_harmonizing.consensus_annotate_anndata(\n",
    "    target_adata, celltype_translation_df, verbose=True\n",
    ")"
   ]
  },
  {
   "cell_type": "code",
   "execution_count": null,
   "metadata": {},
   "outputs": [],
   "source": [
    "target_adata.X[:30,:10].toarray()"
   ]
  },
  {
   "cell_type": "markdown",
   "metadata": {},
   "source": [
    "#### store full raw object:"
   ]
  },
  {
   "cell_type": "code",
   "execution_count": null,
   "metadata": {},
   "outputs": [],
   "source": [
    "target_adata.write(\"../../../data/HLCA_extended/extension_datasets/raw/Lambrechts/lambrechts.h5ad\")"
   ]
  },
  {
   "cell_type": "markdown",
   "metadata": {},
   "source": [
    "#### store subsetted object for scArches mapping (based on 2000 HLCA hvgs):"
   ]
  },
  {
   "cell_type": "code",
   "execution_count": 12,
   "metadata": {},
   "outputs": [],
   "source": [
    "genes_to_keep = pd.read_csv(\"../query_datasets/genes_for_mapping.csv\")"
   ]
  },
  {
   "cell_type": "code",
   "execution_count": 11,
   "metadata": {},
   "outputs": [
    {
     "data": {
      "text/html": [
       "<div>\n",
       "<style scoped>\n",
       "    .dataframe tbody tr th:only-of-type {\n",
       "        vertical-align: middle;\n",
       "    }\n",
       "\n",
       "    .dataframe tbody tr th {\n",
       "        vertical-align: top;\n",
       "    }\n",
       "\n",
       "    .dataframe thead th {\n",
       "        text-align: right;\n",
       "    }\n",
       "</style>\n",
       "<table border=\"1\" class=\"dataframe\">\n",
       "  <thead>\n",
       "    <tr style=\"text-align: right;\">\n",
       "      <th></th>\n",
       "      <th>original_gene_names</th>\n",
       "    </tr>\n",
       "  </thead>\n",
       "  <tbody>\n",
       "    <tr>\n",
       "      <th>RP11-34P13.3</th>\n",
       "      <td>RP11-34P13.3</td>\n",
       "    </tr>\n",
       "    <tr>\n",
       "      <th>RP11-34P13.7</th>\n",
       "      <td>RP11-34P13.7</td>\n",
       "    </tr>\n",
       "    <tr>\n",
       "      <th>RP11-34P13.8</th>\n",
       "      <td>RP11-34P13.8</td>\n",
       "    </tr>\n",
       "    <tr>\n",
       "      <th>RP11-34P13.9</th>\n",
       "      <td>RP11-34P13.9</td>\n",
       "    </tr>\n",
       "    <tr>\n",
       "      <th>FO538757.3</th>\n",
       "      <td>FO538757.3</td>\n",
       "    </tr>\n",
       "  </tbody>\n",
       "</table>\n",
       "</div>"
      ],
      "text/plain": [
       "             original_gene_names\n",
       "RP11-34P13.3        RP11-34P13.3\n",
       "RP11-34P13.7        RP11-34P13.7\n",
       "RP11-34P13.8        RP11-34P13.8\n",
       "RP11-34P13.9        RP11-34P13.9\n",
       "FO538757.3            FO538757.3"
      ]
     },
     "execution_count": 11,
     "metadata": {},
     "output_type": "execute_result"
    }
   ],
   "source": [
    "target_adata.var.head(5)"
   ]
  },
  {
   "cell_type": "code",
   "execution_count": 17,
   "metadata": {},
   "outputs": [
    {
     "name": "stdout",
     "output_type": "stream",
     "text": [
      "not all genes were recovered, filling in 0 counts for 4 missing genes...\n"
     ]
    },
    {
     "name": "stderr",
     "output_type": "stream",
     "text": [
      "/home/icb/lisa.sikkema/miniconda3/envs/scRNAseq_analysis/lib/python3.7/site-packages/anndata/_core/merge.py:894: UserWarning: Only some AnnData objects have `.raw` attribute, not concatenating `.raw` attributes.\n",
      "  UserWarning,\n"
     ]
    }
   ],
   "source": [
    "adata_subset = preprocessing.subset_and_pad_adata(genes_to_keep, target_adata)"
   ]
  },
  {
   "cell_type": "code",
   "execution_count": 18,
   "metadata": {},
   "outputs": [
    {
     "name": "stderr",
     "output_type": "stream",
     "text": [
      "... storing 'original_gene_names' as categorical\n",
      "... storing 'gene_symbols' as categorical\n"
     ]
    }
   ],
   "source": [
    "adata_subset.write(\"../../../data/HLCA_extended/extension_datasets/ready/subsetted/lambrechts_sub.h5ad\")"
   ]
  },
  {
   "cell_type": "code",
   "execution_count": null,
   "metadata": {},
   "outputs": [],
   "source": []
  }
 ],
 "metadata": {
  "kernelspec": {
   "display_name": "Python 3",
   "language": "python",
   "name": "python3"
  },
  "language_info": {
   "codemirror_mode": {
    "name": "ipython",
    "version": 3
   },
   "file_extension": ".py",
   "mimetype": "text/x-python",
   "name": "python",
   "nbconvert_exporter": "python",
   "pygments_lexer": "ipython3",
   "version": "3.7.5"
  }
 },
 "nbformat": 4,
 "nbformat_minor": 5
}
