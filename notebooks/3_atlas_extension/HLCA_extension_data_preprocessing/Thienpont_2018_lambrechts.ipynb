{
 "cells": [
  {
   "cell_type": "markdown",
   "id": "a96bc162",
   "metadata": {},
   "source": [
    "# Import Thienpont_2018/lambrechts data:"
   ]
  },
  {
   "cell_type": "code",
   "execution_count": 5,
   "id": "f7440b75",
   "metadata": {},
   "outputs": [],
   "source": [
    "import scanpy as sc\n",
    "import sys\n",
    "sys.path.append(\"../../../scripts/\")\n",
    "import pandas as pd\n",
    "import numpy as np\n",
    "import LCA_file_reading\n",
    "import preprocessing\n",
    "import reference_based_harmonizing"
   ]
  },
  {
   "cell_type": "code",
   "execution_count": 2,
   "id": "d76851a3",
   "metadata": {},
   "outputs": [],
   "source": [
    "project_dir = \".\" # change to raw data dir HLCA core\n",
    "target_adata = LCA_file_reading.read_file_Thienpont_2018(project_dir)"
   ]
  },
  {
   "cell_type": "code",
   "execution_count": 3,
   "id": "ae6034f2",
   "metadata": {},
   "outputs": [
    {
     "name": "stdout",
     "output_type": "stream",
     "text": [
      "number of genes removed: 5716\n"
     ]
    }
   ],
   "source": [
    "n_genes_before = target_adata.shape[1]\n",
    "sc.pp.filter_genes(target_adata, min_counts=1)\n",
    "# drop annotation label that is automatically created:\n",
    "target_adata.var.drop(\"n_counts\", axis=1, inplace=True)\n",
    "n_genes_after = target_adata.shape[1]\n",
    "print(\"number of genes removed:\", n_genes_before - n_genes_after)"
   ]
  },
  {
   "cell_type": "code",
   "execution_count": 6,
   "id": "bee1dcef",
   "metadata": {},
   "outputs": [
    {
     "name": "stdout",
     "output_type": "stream",
     "text": [
      "TO DO: STORE ENSEMBL IDS OF MERGED IDS AND MATCHING COUNTS IN A SEPARATE COLUMN!!!\n",
      "Number of duplicate genes: 0\n",
      "Index([], dtype='object')\n",
      "(93575, 27978) \n",
      "\n"
     ]
    },
    {
     "name": "stderr",
     "output_type": "stream",
     "text": [
      "/home/icb/lisa.sikkema/miniconda3/envs/HLCA_basic/lib/python3.7/site-packages/ipykernel_launcher.py:6: DeprecationWarning: Calling np.sum(generator) is deprecated, and in the future will give a different result. Use np.sum(np.fromiter(generator)) or the python sum builtin instead.\n",
      "  \n"
     ]
    },
    {
     "name": "stdout",
     "output_type": "stream",
     "text": [
      "20 GENES TO BE RENAMED (old, new):\n",
      "\n",
      "RGS5.1 RGS5\n",
      "ATRIP.1 ATRIP\n",
      "CYB561D2.1 CYB561D2\n",
      "CFAP99.1 CFAP99\n",
      "MATR3.1 MATR3\n",
      "BLOC1S5.1 BLOC1S5\n",
      "PRICKLE4.1 PRICKLE4\n",
      "RAET1E-AS1.1 RAET1E-AS1\n",
      "PGM5-AS1.1 PGM5-AS1\n",
      "TIMM10B.1 TIMM10B\n",
      "CCDC7.1 CCDC7\n",
      "LINC00864.1 LINC00864\n",
      "LINC01481.1 LINC01481\n",
      "SPATA13.1 SPATA13\n",
      "SERPINA3.1 SERPINA3\n",
      "IGHV2-70.1 IGHV2-70\n",
      "TMEM256-PLSCR3.1 TMEM256-PLSCR3\n",
      "TBC1D26.1 TBC1D26\n",
      "LINC01297.1 LINC01297\n",
      "LINC01422.1 LINC01422\n",
      "TO DO: STORE ENSEMBL IDS OF MERGED IDS AND MATCHING COUNTS IN A SEPARATE COLUMN!!!\n",
      "Number of duplicate genes: 20\n",
      "Index(['RGS5', 'ATRIP', 'CYB561D2', 'CFAP99', 'MATR3', 'BLOC1S5', 'PRICKLE4',\n",
      "       'RAET1E-AS1', 'PGM5-AS1', 'TIMM10B', 'CCDC7', 'LINC00864', 'LINC01481',\n",
      "       'SPATA13', 'SERPINA3', 'IGHV2-70', 'TMEM256-PLSCR3', 'TBC1D26',\n",
      "       'LINC01297', 'LINC01422'],\n",
      "      dtype='object')\n"
     ]
    },
    {
     "name": "stderr",
     "output_type": "stream",
     "text": [
      "/home/icb/lisa.sikkema/miniconda3/envs/HLCA_basic/lib/python3.7/site-packages/scipy/sparse/_index.py:125: SparseEfficiencyWarning: Changing the sparsity structure of a csr_matrix is expensive. lil_matrix is more efficient.\n",
      "  self._set_arrayXarray(i, j, x)\n"
     ]
    }
   ],
   "source": [
    "# add up genes with duplicate names\n",
    "target_adata = preprocessing.add_up_duplicate_gene_name_columns(target_adata)\n",
    "print(target_adata.shape, \"\\n\")\n",
    "# correct gene names\n",
    "renamer_dict = preprocessing.get_gene_renamer_dict(target_adata.var.index.tolist().copy())\n",
    "n_genes_to_rename = np.sum(old != new for old, new in renamer_dict.items())\n",
    "print(n_genes_to_rename, \"GENES TO BE RENAMED (old, new):\\n\")\n",
    "for old, new in renamer_dict.items():\n",
    "    if len(new) > 0:\n",
    "        print(old, new)\n",
    "target_adata.var[\"original_gene_names\"] = target_adata.var.index.tolist().copy()\n",
    "translation_dict = dict(zip(target_adata.var.index, target_adata.var.index))\n",
    "for gene_to_rename, new_name in renamer_dict.items():\n",
    "    translation_dict[gene_to_rename] = new_name\n",
    "target_adata.var.index = target_adata.var.index.map(translation_dict)\n",
    "# add up duplicate genes again\n",
    "# they might have emerged due to gene re-naming above\n",
    "target_adata = preprocessing.add_up_duplicate_gene_name_columns(target_adata)"
   ]
  },
  {
   "cell_type": "code",
   "execution_count": 7,
   "id": "26444612",
   "metadata": {},
   "outputs": [],
   "source": [
    "harmonizing_df = reference_based_harmonizing.load_harmonizing_table(\n",
    "    \"../../../supporting_files/metadata_harmonization/HLCA_cell_type_reference_mapping_20220722.csv\"\n",
    ")\n",
    "consensus_df = reference_based_harmonizing.create_consensus_table(harmonizing_df)\n",
    "celltype_translation_df = (\n",
    "    reference_based_harmonizing.create_orig_ann_to_consensus_translation_df(\n",
    "        target_adata, consensus_df, harmonizing_df, verbose=False\n",
    "    )\n",
    ")"
   ]
  },
  {
   "cell_type": "code",
   "execution_count": 8,
   "id": "ced32999",
   "metadata": {},
   "outputs": [],
   "source": [
    "target_adata = reference_based_harmonizing.consensus_annotate_anndata(\n",
    "    target_adata, celltype_translation_df, verbose=True\n",
    ")"
   ]
  },
  {
   "cell_type": "code",
   "execution_count": 9,
   "id": "30e41ec8",
   "metadata": {},
   "outputs": [
    {
     "data": {
      "text/plain": [
       "array([[0., 0., 0., 0., 0., 0., 0., 0., 0., 0.],\n",
       "       [0., 0., 0., 0., 0., 0., 0., 0., 0., 0.],\n",
       "       [0., 0., 0., 0., 0., 0., 0., 0., 0., 0.],\n",
       "       [0., 0., 0., 0., 0., 0., 0., 0., 0., 0.],\n",
       "       [0., 0., 0., 0., 0., 0., 0., 0., 0., 0.],\n",
       "       [0., 0., 0., 0., 0., 0., 0., 0., 0., 0.],\n",
       "       [0., 0., 0., 0., 0., 0., 0., 0., 0., 0.],\n",
       "       [0., 0., 0., 0., 0., 0., 0., 0., 0., 0.],\n",
       "       [0., 0., 0., 0., 0., 0., 0., 0., 0., 0.],\n",
       "       [0., 0., 0., 0., 0., 1., 0., 0., 0., 0.],\n",
       "       [0., 0., 0., 0., 0., 0., 0., 0., 0., 0.],\n",
       "       [0., 0., 0., 0., 0., 0., 0., 0., 0., 0.],\n",
       "       [0., 0., 0., 0., 0., 0., 0., 0., 0., 0.],\n",
       "       [0., 0., 0., 0., 0., 0., 0., 0., 0., 0.],\n",
       "       [0., 0., 0., 0., 0., 0., 0., 0., 0., 0.],\n",
       "       [0., 0., 0., 0., 0., 0., 0., 0., 0., 0.],\n",
       "       [0., 0., 0., 0., 0., 0., 0., 0., 0., 0.],\n",
       "       [0., 0., 0., 0., 0., 0., 0., 0., 0., 0.],\n",
       "       [0., 0., 0., 0., 0., 0., 0., 0., 0., 0.],\n",
       "       [0., 0., 0., 0., 0., 0., 0., 0., 0., 0.],\n",
       "       [0., 0., 0., 0., 0., 0., 0., 0., 0., 0.],\n",
       "       [0., 0., 0., 0., 0., 0., 0., 0., 0., 0.],\n",
       "       [0., 0., 0., 0., 0., 0., 0., 0., 0., 0.],\n",
       "       [0., 0., 0., 0., 0., 1., 0., 0., 0., 0.],\n",
       "       [0., 0., 0., 0., 0., 0., 0., 0., 0., 0.],\n",
       "       [0., 0., 0., 0., 0., 0., 0., 0., 0., 0.],\n",
       "       [0., 0., 0., 0., 0., 0., 0., 0., 0., 0.],\n",
       "       [0., 0., 0., 0., 0., 0., 0., 0., 0., 0.],\n",
       "       [0., 0., 0., 0., 0., 0., 0., 0., 0., 0.],\n",
       "       [0., 0., 0., 0., 0., 0., 0., 0., 0., 0.]], dtype=float32)"
      ]
     },
     "execution_count": 9,
     "metadata": {},
     "output_type": "execute_result"
    }
   ],
   "source": [
    "target_adata.X[:30,:10].toarray()"
   ]
  },
  {
   "cell_type": "code",
   "execution_count": 10,
   "id": "675f32c9-b981-41c5-8449-948b7f9aaaec",
   "metadata": {},
   "outputs": [
    {
     "data": {
      "text/plain": [
       "AnnData object with n_obs × n_vars = 93575 × 27958\n",
       "    obs: 'n_genes_detected', 'total_counts', 'cell_from_tumor', 'subject_ID', 'tumor_site', 'original_celltype_ann', 'sample', 'study', 'study_long', 'dataset', 'last_author_PI', 'lung_vs_nasal', 'original_ann_level_1', 'original_ann_level_2', 'original_ann_level_3', 'original_ann_level_4', 'original_ann_level_5', 'original_ann_highest_res', 'original_ann_new'\n",
       "    var: 'original_gene_names'"
      ]
     },
     "execution_count": 10,
     "metadata": {},
     "output_type": "execute_result"
    }
   ],
   "source": [
    "target_adata"
   ]
  },
  {
   "cell_type": "markdown",
   "id": "84c925f4",
   "metadata": {
    "tags": []
   },
   "source": [
    "#### store full raw object:"
   ]
  },
  {
   "cell_type": "code",
   "execution_count": 11,
   "id": "55be676d",
   "metadata": {},
   "outputs": [],
   "source": [
    "target_adata.write(\"../../../data/HLCA_extended/extension_datasets/raw/Lambrechts/lambrechts.h5ad\")\n",
    "target_adata.write(\"../../../data/HLCA_extended/extension_datasets/ready/full/lambrechts.h5ad\")\n"
   ]
  },
  {
   "cell_type": "markdown",
   "id": "2c849da3",
   "metadata": {},
   "source": [
    "#### store subsetted object for scArches mapping (based on 2000 HLCA hvgs):"
   ]
  },
  {
   "cell_type": "code",
   "execution_count": 13,
   "id": "bfd91dec",
   "metadata": {},
   "outputs": [],
   "source": [
    "genes_to_keep = pd.read_csv(\"./genes_for_mapping.csv\")"
   ]
  },
  {
   "cell_type": "code",
   "execution_count": 14,
   "id": "2e22a539",
   "metadata": {},
   "outputs": [
    {
     "data": {
      "text/html": [
       "<div>\n",
       "<style scoped>\n",
       "    .dataframe tbody tr th:only-of-type {\n",
       "        vertical-align: middle;\n",
       "    }\n",
       "\n",
       "    .dataframe tbody tr th {\n",
       "        vertical-align: top;\n",
       "    }\n",
       "\n",
       "    .dataframe thead th {\n",
       "        text-align: right;\n",
       "    }\n",
       "</style>\n",
       "<table border=\"1\" class=\"dataframe\">\n",
       "  <thead>\n",
       "    <tr style=\"text-align: right;\">\n",
       "      <th></th>\n",
       "      <th>original_gene_names</th>\n",
       "    </tr>\n",
       "  </thead>\n",
       "  <tbody>\n",
       "    <tr>\n",
       "      <th>RP11-34P13.3</th>\n",
       "      <td>RP11-34P13.3</td>\n",
       "    </tr>\n",
       "    <tr>\n",
       "      <th>RP11-34P13.7</th>\n",
       "      <td>RP11-34P13.7</td>\n",
       "    </tr>\n",
       "    <tr>\n",
       "      <th>RP11-34P13.8</th>\n",
       "      <td>RP11-34P13.8</td>\n",
       "    </tr>\n",
       "    <tr>\n",
       "      <th>RP11-34P13.9</th>\n",
       "      <td>RP11-34P13.9</td>\n",
       "    </tr>\n",
       "    <tr>\n",
       "      <th>FO538757.3</th>\n",
       "      <td>FO538757.3</td>\n",
       "    </tr>\n",
       "  </tbody>\n",
       "</table>\n",
       "</div>"
      ],
      "text/plain": [
       "             original_gene_names\n",
       "RP11-34P13.3        RP11-34P13.3\n",
       "RP11-34P13.7        RP11-34P13.7\n",
       "RP11-34P13.8        RP11-34P13.8\n",
       "RP11-34P13.9        RP11-34P13.9\n",
       "FO538757.3            FO538757.3"
      ]
     },
     "execution_count": 14,
     "metadata": {},
     "output_type": "execute_result"
    }
   ],
   "source": [
    "target_adata.var.head(5)"
   ]
  },
  {
   "cell_type": "code",
   "execution_count": 17,
   "id": "a636e94a",
   "metadata": {},
   "outputs": [
    {
     "name": "stdout",
     "output_type": "stream",
     "text": [
      "not all genes were recovered, filling in 0 counts for 4 missing genes...\n"
     ]
    },
    {
     "name": "stderr",
     "output_type": "stream",
     "text": [
      "/home/icb/lisa.sikkema/miniconda3/envs/scRNAseq_analysis/lib/python3.7/site-packages/anndata/_core/merge.py:894: UserWarning: Only some AnnData objects have `.raw` attribute, not concatenating `.raw` attributes.\n",
      "  UserWarning,\n"
     ]
    }
   ],
   "source": [
    "adata_subset = preprocessing.subset_and_pad_adata(genes_to_keep, target_adata)"
   ]
  },
  {
   "cell_type": "code",
   "execution_count": 18,
   "id": "b28d78ff",
   "metadata": {},
   "outputs": [
    {
     "name": "stderr",
     "output_type": "stream",
     "text": [
      "... storing 'original_gene_names' as categorical\n",
      "... storing 'gene_symbols' as categorical\n"
     ]
    }
   ],
   "source": [
    "adata_subset.write(\"../../../data/HLCA_extended/extension_datasets/ready/subsetted/lambrechts_sub.h5ad\")"
   ]
  },
  {
   "cell_type": "code",
   "execution_count": null,
   "id": "6ced0b03",
   "metadata": {},
   "outputs": [],
   "source": []
  }
 ],
 "metadata": {
  "kernelspec": {
   "display_name": "Python 3 (ipykernel)",
   "language": "python",
   "name": "python3"
  },
  "language_info": {
   "codemirror_mode": {
    "name": "ipython",
    "version": 3
   },
   "file_extension": ".py",
   "mimetype": "text/x-python",
   "name": "python",
   "nbconvert_exporter": "python",
   "pygments_lexer": "ipython3",
   "version": "3.7.13"
  }
 },
 "nbformat": 4,
 "nbformat_minor": 5
}
