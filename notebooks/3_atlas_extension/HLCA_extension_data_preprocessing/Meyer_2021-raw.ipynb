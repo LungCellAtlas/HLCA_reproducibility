{
 "cells": [
  {
   "cell_type": "code",
   "execution_count": 1,
   "id": "d3d3a8a8-799b-4792-b684-6f7f07b08ee4",
   "metadata": {},
   "outputs": [],
   "source": [
    "import scanpy as sc\n",
    "import pandas as pd\n",
    "import re"
   ]
  },
  {
   "cell_type": "markdown",
   "id": "50f928a0-6542-4d6f-8215-b9ae22d6fa1d",
   "metadata": {},
   "source": [
    "#### Loading data"
   ]
  },
  {
   "cell_type": "code",
   "execution_count": 20,
   "id": "df19ae9a-0e02-4b36-8a3b-ce626dd61741",
   "metadata": {},
   "outputs": [],
   "source": [
    "adata_f = \"/lustre/groups/ml01/workspace/hlca_lisa.sikkema_malte.luecken/HLCA_reproducibility/data/HLCA_extended/extension_datasets/raw/Meyer/lung_actual_raw_20221223.h5ad\"\n",
    "adata0_f = \"/lustre/groups/ml01/workspace/hlca_lisa.sikkema_malte.luecken/HLCA_reproducibility/data/HLCA_extended/extension_datasets/ready/full/meyer_2021.h5ad\"\n",
    "adata1_f = \"/lustre/groups/ml01/workspace/hlca_lisa.sikkema_malte.luecken/HLCA_reproducibility/data/HLCA_extended/extension_datasets/ready/full/meyer_2021_raw.h5ad\""
   ]
  },
  {
   "cell_type": "code",
   "execution_count": 3,
   "id": "2d9d36d3-ef5a-4f86-96f7-9ec6827641d4",
   "metadata": {},
   "outputs": [],
   "source": [
    "adata = sc.read(adata_f)"
   ]
  },
  {
   "cell_type": "code",
   "execution_count": 4,
   "id": "bfc8de07-3945-477f-8f77-7a34a62302e4",
   "metadata": {},
   "outputs": [
    {
     "data": {
      "text/plain": [
       "AnnData object with n_obs × n_vars = 193108 × 33538\n",
       "    obs: 'Celltypes', 'Celltypes_master_high', 'Celltypes_master_higher', 'Celltypes_master_higher_immune', 'Loc_true', 'Material', 'Donor', 'Donor_ID_2', 'Gender', 'Sample', 'ID', 'Protocol_plot', 'Version', 'Study', 'PoolDon', 'DonorPool', 'scDonor_snBatch'\n",
       "    var: 'gene_ids', 'feature_types'"
      ]
     },
     "execution_count": 4,
     "metadata": {},
     "output_type": "execute_result"
    }
   ],
   "source": [
    "adata"
   ]
  },
  {
   "cell_type": "code",
   "execution_count": 5,
   "id": "f3aa1ccf-640b-4b29-81a6-f31d4d22d64c",
   "metadata": {},
   "outputs": [
    {
     "data": {
      "text/html": [
       "<div>\n",
       "<style scoped>\n",
       "    .dataframe tbody tr th:only-of-type {\n",
       "        vertical-align: middle;\n",
       "    }\n",
       "\n",
       "    .dataframe tbody tr th {\n",
       "        vertical-align: top;\n",
       "    }\n",
       "\n",
       "    .dataframe thead th {\n",
       "        text-align: right;\n",
       "    }\n",
       "</style>\n",
       "<table border=\"1\" class=\"dataframe\">\n",
       "  <thead>\n",
       "    <tr style=\"text-align: right;\">\n",
       "      <th></th>\n",
       "      <th>Celltypes</th>\n",
       "      <th>Celltypes_master_high</th>\n",
       "      <th>Celltypes_master_higher</th>\n",
       "      <th>Celltypes_master_higher_immune</th>\n",
       "      <th>Loc_true</th>\n",
       "      <th>Material</th>\n",
       "      <th>Donor</th>\n",
       "      <th>Donor_ID_2</th>\n",
       "      <th>Gender</th>\n",
       "      <th>Sample</th>\n",
       "      <th>ID</th>\n",
       "      <th>Protocol_plot</th>\n",
       "      <th>Version</th>\n",
       "      <th>Study</th>\n",
       "      <th>PoolDon</th>\n",
       "      <th>DonorPool</th>\n",
       "      <th>scDonor_snBatch</th>\n",
       "    </tr>\n",
       "  </thead>\n",
       "  <tbody>\n",
       "    <tr>\n",
       "      <th>WTDAtest7887999-AAACCTGGTGTGAATA</th>\n",
       "      <td>AT1</td>\n",
       "      <td>Epithelia</td>\n",
       "      <td>Epithelia</td>\n",
       "      <td>AT1</td>\n",
       "      <td>d_LowLeftPar</td>\n",
       "      <td>cells</td>\n",
       "      <td>A32</td>\n",
       "      <td>411C</td>\n",
       "      <td>M</td>\n",
       "      <td>WTDAtest7887999</td>\n",
       "      <td>A32-LNG-1-SC-45N-1</td>\n",
       "      <td>LibCD45neg_TrypLibUndigest</td>\n",
       "      <td>10x3prime_v2</td>\n",
       "      <td>dissociation</td>\n",
       "      <td>nan</td>\n",
       "      <td>nan</td>\n",
       "      <td>A32_cells</td>\n",
       "    </tr>\n",
       "    <tr>\n",
       "      <th>WTDAtest7887999-AAACGGGCAACCGCCA</th>\n",
       "      <td>B_plasma_IgA</td>\n",
       "      <td>Immune</td>\n",
       "      <td>Immune</td>\n",
       "      <td>B_cell</td>\n",
       "      <td>d_LowLeftPar</td>\n",
       "      <td>cells</td>\n",
       "      <td>A32</td>\n",
       "      <td>411C</td>\n",
       "      <td>M</td>\n",
       "      <td>WTDAtest7887999</td>\n",
       "      <td>A32-LNG-1-SC-45N-1</td>\n",
       "      <td>LibCD45neg_TrypLibUndigest</td>\n",
       "      <td>10x3prime_v2</td>\n",
       "      <td>dissociation</td>\n",
       "      <td>nan</td>\n",
       "      <td>nan</td>\n",
       "      <td>A32_cells</td>\n",
       "    </tr>\n",
       "    <tr>\n",
       "      <th>WTDAtest7887999-AACCATGGTACAGCAG</th>\n",
       "      <td>Monocyte_CD16</td>\n",
       "      <td>Immune</td>\n",
       "      <td>Immune</td>\n",
       "      <td>Monocyte</td>\n",
       "      <td>d_LowLeftPar</td>\n",
       "      <td>cells</td>\n",
       "      <td>A32</td>\n",
       "      <td>411C</td>\n",
       "      <td>M</td>\n",
       "      <td>WTDAtest7887999</td>\n",
       "      <td>A32-LNG-1-SC-45N-1</td>\n",
       "      <td>LibCD45neg_TrypLibUndigest</td>\n",
       "      <td>10x3prime_v2</td>\n",
       "      <td>dissociation</td>\n",
       "      <td>nan</td>\n",
       "      <td>nan</td>\n",
       "      <td>A32_cells</td>\n",
       "    </tr>\n",
       "    <tr>\n",
       "      <th>WTDAtest7887999-AACGTTGGTGTCCTCT</th>\n",
       "      <td>CD8_EM/EMRA</td>\n",
       "      <td>Immune</td>\n",
       "      <td>Immune</td>\n",
       "      <td>CD8</td>\n",
       "      <td>d_LowLeftPar</td>\n",
       "      <td>cells</td>\n",
       "      <td>A32</td>\n",
       "      <td>411C</td>\n",
       "      <td>M</td>\n",
       "      <td>WTDAtest7887999</td>\n",
       "      <td>A32-LNG-1-SC-45N-1</td>\n",
       "      <td>LibCD45neg_TrypLibUndigest</td>\n",
       "      <td>10x3prime_v2</td>\n",
       "      <td>dissociation</td>\n",
       "      <td>nan</td>\n",
       "      <td>nan</td>\n",
       "      <td>A32_cells</td>\n",
       "    </tr>\n",
       "    <tr>\n",
       "      <th>WTDAtest7887999-AACTCCCTCCTAGTGA</th>\n",
       "      <td>Macro_intravascular</td>\n",
       "      <td>Immune</td>\n",
       "      <td>Immune</td>\n",
       "      <td>Macrophage_other</td>\n",
       "      <td>d_LowLeftPar</td>\n",
       "      <td>cells</td>\n",
       "      <td>A32</td>\n",
       "      <td>411C</td>\n",
       "      <td>M</td>\n",
       "      <td>WTDAtest7887999</td>\n",
       "      <td>A32-LNG-1-SC-45N-1</td>\n",
       "      <td>LibCD45neg_TrypLibUndigest</td>\n",
       "      <td>10x3prime_v2</td>\n",
       "      <td>dissociation</td>\n",
       "      <td>nan</td>\n",
       "      <td>nan</td>\n",
       "      <td>A32_cells</td>\n",
       "    </tr>\n",
       "    <tr>\n",
       "      <th>...</th>\n",
       "      <td>...</td>\n",
       "      <td>...</td>\n",
       "      <td>...</td>\n",
       "      <td>...</td>\n",
       "      <td>...</td>\n",
       "      <td>...</td>\n",
       "      <td>...</td>\n",
       "      <td>...</td>\n",
       "      <td>...</td>\n",
       "      <td>...</td>\n",
       "      <td>...</td>\n",
       "      <td>...</td>\n",
       "      <td>...</td>\n",
       "      <td>...</td>\n",
       "      <td>...</td>\n",
       "      <td>...</td>\n",
       "      <td>...</td>\n",
       "    </tr>\n",
       "    <tr>\n",
       "      <th>WSSS_A_LNG8757929-TTTGGTTGTAATGCGG</th>\n",
       "      <td>T_reg</td>\n",
       "      <td>Immune</td>\n",
       "      <td>Immune</td>\n",
       "      <td>CD4</td>\n",
       "      <td>b_Bronchi.2.3</td>\n",
       "      <td>nuclei</td>\n",
       "      <td>A42</td>\n",
       "      <td>nan</td>\n",
       "      <td>nan</td>\n",
       "      <td>WSSS_A_LNG8757929</td>\n",
       "      <td>WSSS_A_LNG8757929</td>\n",
       "      <td>nuclei</td>\n",
       "      <td>nan</td>\n",
       "      <td>nan</td>\n",
       "      <td>A42</td>\n",
       "      <td>A42none</td>\n",
       "      <td>A42_nuclei</td>\n",
       "    </tr>\n",
       "    <tr>\n",
       "      <th>WSSS_A_LNG8757929-TTTGGTTGTGCCCTTT</th>\n",
       "      <td>SMG_Mucous</td>\n",
       "      <td>Epithelia</td>\n",
       "      <td>Epithelia</td>\n",
       "      <td>Submucosal_Glands</td>\n",
       "      <td>b_Bronchi.2.3</td>\n",
       "      <td>nuclei</td>\n",
       "      <td>A42</td>\n",
       "      <td>nan</td>\n",
       "      <td>nan</td>\n",
       "      <td>WSSS_A_LNG8757929</td>\n",
       "      <td>WSSS_A_LNG8757929</td>\n",
       "      <td>nuclei</td>\n",
       "      <td>nan</td>\n",
       "      <td>nan</td>\n",
       "      <td>A42</td>\n",
       "      <td>A42none</td>\n",
       "      <td>A42_nuclei</td>\n",
       "    </tr>\n",
       "    <tr>\n",
       "      <th>WSSS_A_LNG8757929-TTTGGTTTCAAGAGTA</th>\n",
       "      <td>Basal</td>\n",
       "      <td>Epithelia</td>\n",
       "      <td>Epithelia</td>\n",
       "      <td>Epi_Basal</td>\n",
       "      <td>b_Bronchi.2.3</td>\n",
       "      <td>nuclei</td>\n",
       "      <td>A42</td>\n",
       "      <td>nan</td>\n",
       "      <td>nan</td>\n",
       "      <td>WSSS_A_LNG8757929</td>\n",
       "      <td>WSSS_A_LNG8757929</td>\n",
       "      <td>nuclei</td>\n",
       "      <td>nan</td>\n",
       "      <td>nan</td>\n",
       "      <td>A42</td>\n",
       "      <td>A42none</td>\n",
       "      <td>A42_nuclei</td>\n",
       "    </tr>\n",
       "    <tr>\n",
       "      <th>WSSS_A_LNG8757929-TTTGTTGAGCGAGTCA</th>\n",
       "      <td>SMG_Mucous</td>\n",
       "      <td>Epithelia</td>\n",
       "      <td>Epithelia</td>\n",
       "      <td>Submucosal_Glands</td>\n",
       "      <td>b_Bronchi.2.3</td>\n",
       "      <td>nuclei</td>\n",
       "      <td>A42</td>\n",
       "      <td>nan</td>\n",
       "      <td>nan</td>\n",
       "      <td>WSSS_A_LNG8757929</td>\n",
       "      <td>WSSS_A_LNG8757929</td>\n",
       "      <td>nuclei</td>\n",
       "      <td>nan</td>\n",
       "      <td>nan</td>\n",
       "      <td>A42</td>\n",
       "      <td>A42none</td>\n",
       "      <td>A42_nuclei</td>\n",
       "    </tr>\n",
       "    <tr>\n",
       "      <th>WSSS_A_LNG8757929-TTTGTTGTCTTCTGGC</th>\n",
       "      <td>Chondrocyte</td>\n",
       "      <td>Stroma</td>\n",
       "      <td>Stroma</td>\n",
       "      <td>Chondrocyte</td>\n",
       "      <td>b_Bronchi.2.3</td>\n",
       "      <td>nuclei</td>\n",
       "      <td>A42</td>\n",
       "      <td>nan</td>\n",
       "      <td>nan</td>\n",
       "      <td>WSSS_A_LNG8757929</td>\n",
       "      <td>WSSS_A_LNG8757929</td>\n",
       "      <td>nuclei</td>\n",
       "      <td>nan</td>\n",
       "      <td>nan</td>\n",
       "      <td>A42</td>\n",
       "      <td>A42none</td>\n",
       "      <td>A42_nuclei</td>\n",
       "    </tr>\n",
       "  </tbody>\n",
       "</table>\n",
       "<p>193108 rows × 17 columns</p>\n",
       "</div>"
      ],
      "text/plain": [
       "                                              Celltypes Celltypes_master_high  \\\n",
       "WTDAtest7887999-AAACCTGGTGTGAATA                   AT1              Epithelia   \n",
       "WTDAtest7887999-AAACGGGCAACCGCCA           B_plasma_IgA                Immune   \n",
       "WTDAtest7887999-AACCATGGTACAGCAG          Monocyte_CD16                Immune   \n",
       "WTDAtest7887999-AACGTTGGTGTCCTCT            CD8_EM/EMRA                Immune   \n",
       "WTDAtest7887999-AACTCCCTCCTAGTGA    Macro_intravascular                Immune   \n",
       "...                                                 ...                   ...   \n",
       "WSSS_A_LNG8757929-TTTGGTTGTAATGCGG                T_reg                Immune   \n",
       "WSSS_A_LNG8757929-TTTGGTTGTGCCCTTT           SMG_Mucous             Epithelia   \n",
       "WSSS_A_LNG8757929-TTTGGTTTCAAGAGTA                Basal             Epithelia   \n",
       "WSSS_A_LNG8757929-TTTGTTGAGCGAGTCA           SMG_Mucous             Epithelia   \n",
       "WSSS_A_LNG8757929-TTTGTTGTCTTCTGGC          Chondrocyte                Stroma   \n",
       "\n",
       "                                   Celltypes_master_higher  \\\n",
       "WTDAtest7887999-AAACCTGGTGTGAATA                 Epithelia   \n",
       "WTDAtest7887999-AAACGGGCAACCGCCA                    Immune   \n",
       "WTDAtest7887999-AACCATGGTACAGCAG                    Immune   \n",
       "WTDAtest7887999-AACGTTGGTGTCCTCT                    Immune   \n",
       "WTDAtest7887999-AACTCCCTCCTAGTGA                    Immune   \n",
       "...                                                    ...   \n",
       "WSSS_A_LNG8757929-TTTGGTTGTAATGCGG                  Immune   \n",
       "WSSS_A_LNG8757929-TTTGGTTGTGCCCTTT               Epithelia   \n",
       "WSSS_A_LNG8757929-TTTGGTTTCAAGAGTA               Epithelia   \n",
       "WSSS_A_LNG8757929-TTTGTTGAGCGAGTCA               Epithelia   \n",
       "WSSS_A_LNG8757929-TTTGTTGTCTTCTGGC                  Stroma   \n",
       "\n",
       "                                   Celltypes_master_higher_immune  \\\n",
       "WTDAtest7887999-AAACCTGGTGTGAATA                              AT1   \n",
       "WTDAtest7887999-AAACGGGCAACCGCCA                           B_cell   \n",
       "WTDAtest7887999-AACCATGGTACAGCAG                         Monocyte   \n",
       "WTDAtest7887999-AACGTTGGTGTCCTCT                              CD8   \n",
       "WTDAtest7887999-AACTCCCTCCTAGTGA                 Macrophage_other   \n",
       "...                                                           ...   \n",
       "WSSS_A_LNG8757929-TTTGGTTGTAATGCGG                            CD4   \n",
       "WSSS_A_LNG8757929-TTTGGTTGTGCCCTTT              Submucosal_Glands   \n",
       "WSSS_A_LNG8757929-TTTGGTTTCAAGAGTA                      Epi_Basal   \n",
       "WSSS_A_LNG8757929-TTTGTTGAGCGAGTCA              Submucosal_Glands   \n",
       "WSSS_A_LNG8757929-TTTGTTGTCTTCTGGC                    Chondrocyte   \n",
       "\n",
       "                                         Loc_true Material Donor Donor_ID_2  \\\n",
       "WTDAtest7887999-AAACCTGGTGTGAATA     d_LowLeftPar    cells   A32       411C   \n",
       "WTDAtest7887999-AAACGGGCAACCGCCA     d_LowLeftPar    cells   A32       411C   \n",
       "WTDAtest7887999-AACCATGGTACAGCAG     d_LowLeftPar    cells   A32       411C   \n",
       "WTDAtest7887999-AACGTTGGTGTCCTCT     d_LowLeftPar    cells   A32       411C   \n",
       "WTDAtest7887999-AACTCCCTCCTAGTGA     d_LowLeftPar    cells   A32       411C   \n",
       "...                                           ...      ...   ...        ...   \n",
       "WSSS_A_LNG8757929-TTTGGTTGTAATGCGG  b_Bronchi.2.3   nuclei   A42        nan   \n",
       "WSSS_A_LNG8757929-TTTGGTTGTGCCCTTT  b_Bronchi.2.3   nuclei   A42        nan   \n",
       "WSSS_A_LNG8757929-TTTGGTTTCAAGAGTA  b_Bronchi.2.3   nuclei   A42        nan   \n",
       "WSSS_A_LNG8757929-TTTGTTGAGCGAGTCA  b_Bronchi.2.3   nuclei   A42        nan   \n",
       "WSSS_A_LNG8757929-TTTGTTGTCTTCTGGC  b_Bronchi.2.3   nuclei   A42        nan   \n",
       "\n",
       "                                   Gender             Sample  \\\n",
       "WTDAtest7887999-AAACCTGGTGTGAATA        M    WTDAtest7887999   \n",
       "WTDAtest7887999-AAACGGGCAACCGCCA        M    WTDAtest7887999   \n",
       "WTDAtest7887999-AACCATGGTACAGCAG        M    WTDAtest7887999   \n",
       "WTDAtest7887999-AACGTTGGTGTCCTCT        M    WTDAtest7887999   \n",
       "WTDAtest7887999-AACTCCCTCCTAGTGA        M    WTDAtest7887999   \n",
       "...                                   ...                ...   \n",
       "WSSS_A_LNG8757929-TTTGGTTGTAATGCGG    nan  WSSS_A_LNG8757929   \n",
       "WSSS_A_LNG8757929-TTTGGTTGTGCCCTTT    nan  WSSS_A_LNG8757929   \n",
       "WSSS_A_LNG8757929-TTTGGTTTCAAGAGTA    nan  WSSS_A_LNG8757929   \n",
       "WSSS_A_LNG8757929-TTTGTTGAGCGAGTCA    nan  WSSS_A_LNG8757929   \n",
       "WSSS_A_LNG8757929-TTTGTTGTCTTCTGGC    nan  WSSS_A_LNG8757929   \n",
       "\n",
       "                                                    ID  \\\n",
       "WTDAtest7887999-AAACCTGGTGTGAATA    A32-LNG-1-SC-45N-1   \n",
       "WTDAtest7887999-AAACGGGCAACCGCCA    A32-LNG-1-SC-45N-1   \n",
       "WTDAtest7887999-AACCATGGTACAGCAG    A32-LNG-1-SC-45N-1   \n",
       "WTDAtest7887999-AACGTTGGTGTCCTCT    A32-LNG-1-SC-45N-1   \n",
       "WTDAtest7887999-AACTCCCTCCTAGTGA    A32-LNG-1-SC-45N-1   \n",
       "...                                                ...   \n",
       "WSSS_A_LNG8757929-TTTGGTTGTAATGCGG   WSSS_A_LNG8757929   \n",
       "WSSS_A_LNG8757929-TTTGGTTGTGCCCTTT   WSSS_A_LNG8757929   \n",
       "WSSS_A_LNG8757929-TTTGGTTTCAAGAGTA   WSSS_A_LNG8757929   \n",
       "WSSS_A_LNG8757929-TTTGTTGAGCGAGTCA   WSSS_A_LNG8757929   \n",
       "WSSS_A_LNG8757929-TTTGTTGTCTTCTGGC   WSSS_A_LNG8757929   \n",
       "\n",
       "                                                 Protocol_plot       Version  \\\n",
       "WTDAtest7887999-AAACCTGGTGTGAATA    LibCD45neg_TrypLibUndigest  10x3prime_v2   \n",
       "WTDAtest7887999-AAACGGGCAACCGCCA    LibCD45neg_TrypLibUndigest  10x3prime_v2   \n",
       "WTDAtest7887999-AACCATGGTACAGCAG    LibCD45neg_TrypLibUndigest  10x3prime_v2   \n",
       "WTDAtest7887999-AACGTTGGTGTCCTCT    LibCD45neg_TrypLibUndigest  10x3prime_v2   \n",
       "WTDAtest7887999-AACTCCCTCCTAGTGA    LibCD45neg_TrypLibUndigest  10x3prime_v2   \n",
       "...                                                        ...           ...   \n",
       "WSSS_A_LNG8757929-TTTGGTTGTAATGCGG                      nuclei           nan   \n",
       "WSSS_A_LNG8757929-TTTGGTTGTGCCCTTT                      nuclei           nan   \n",
       "WSSS_A_LNG8757929-TTTGGTTTCAAGAGTA                      nuclei           nan   \n",
       "WSSS_A_LNG8757929-TTTGTTGAGCGAGTCA                      nuclei           nan   \n",
       "WSSS_A_LNG8757929-TTTGTTGTCTTCTGGC                      nuclei           nan   \n",
       "\n",
       "                                           Study PoolDon DonorPool  \\\n",
       "WTDAtest7887999-AAACCTGGTGTGAATA    dissociation     nan       nan   \n",
       "WTDAtest7887999-AAACGGGCAACCGCCA    dissociation     nan       nan   \n",
       "WTDAtest7887999-AACCATGGTACAGCAG    dissociation     nan       nan   \n",
       "WTDAtest7887999-AACGTTGGTGTCCTCT    dissociation     nan       nan   \n",
       "WTDAtest7887999-AACTCCCTCCTAGTGA    dissociation     nan       nan   \n",
       "...                                          ...     ...       ...   \n",
       "WSSS_A_LNG8757929-TTTGGTTGTAATGCGG           nan     A42   A42none   \n",
       "WSSS_A_LNG8757929-TTTGGTTGTGCCCTTT           nan     A42   A42none   \n",
       "WSSS_A_LNG8757929-TTTGGTTTCAAGAGTA           nan     A42   A42none   \n",
       "WSSS_A_LNG8757929-TTTGTTGAGCGAGTCA           nan     A42   A42none   \n",
       "WSSS_A_LNG8757929-TTTGTTGTCTTCTGGC           nan     A42   A42none   \n",
       "\n",
       "                                   scDonor_snBatch  \n",
       "WTDAtest7887999-AAACCTGGTGTGAATA         A32_cells  \n",
       "WTDAtest7887999-AAACGGGCAACCGCCA         A32_cells  \n",
       "WTDAtest7887999-AACCATGGTACAGCAG         A32_cells  \n",
       "WTDAtest7887999-AACGTTGGTGTCCTCT         A32_cells  \n",
       "WTDAtest7887999-AACTCCCTCCTAGTGA         A32_cells  \n",
       "...                                            ...  \n",
       "WSSS_A_LNG8757929-TTTGGTTGTAATGCGG      A42_nuclei  \n",
       "WSSS_A_LNG8757929-TTTGGTTGTGCCCTTT      A42_nuclei  \n",
       "WSSS_A_LNG8757929-TTTGGTTTCAAGAGTA      A42_nuclei  \n",
       "WSSS_A_LNG8757929-TTTGTTGAGCGAGTCA      A42_nuclei  \n",
       "WSSS_A_LNG8757929-TTTGTTGTCTTCTGGC      A42_nuclei  \n",
       "\n",
       "[193108 rows x 17 columns]"
      ]
     },
     "execution_count": 5,
     "metadata": {},
     "output_type": "execute_result"
    }
   ],
   "source": [
    "adata.obs"
   ]
  },
  {
   "cell_type": "code",
   "execution_count": 6,
   "id": "774a5d29-f58e-4bc6-a122-52766d41e4bf",
   "metadata": {},
   "outputs": [],
   "source": [
    "adata = adata[adata.obs[\"Material\"] == \"cells\"].copy()"
   ]
  },
  {
   "cell_type": "code",
   "execution_count": 7,
   "id": "a75d90ee-9a12-4e93-b05c-b9597b7916dd",
   "metadata": {},
   "outputs": [
    {
     "data": {
      "text/plain": [
       "Layers with keys: "
      ]
     },
     "execution_count": 7,
     "metadata": {},
     "output_type": "execute_result"
    }
   ],
   "source": [
    "adata.layers"
   ]
  },
  {
   "cell_type": "code",
   "execution_count": 8,
   "id": "87d3601a-e49f-4b69-a042-044e204b0d80",
   "metadata": {},
   "outputs": [
    {
     "data": {
      "text/plain": [
       "AnnData object with n_obs × n_vars = 129340 × 33538\n",
       "    obs: 'Celltypes', 'Celltypes_master_high', 'Celltypes_master_higher', 'Celltypes_master_higher_immune', 'Loc_true', 'Material', 'Donor', 'Donor_ID_2', 'Gender', 'Sample', 'ID', 'Protocol_plot', 'Version', 'Study', 'PoolDon', 'DonorPool', 'scDonor_snBatch'\n",
       "    var: 'gene_ids', 'feature_types'"
      ]
     },
     "execution_count": 8,
     "metadata": {},
     "output_type": "execute_result"
    }
   ],
   "source": [
    "adata"
   ]
  },
  {
   "cell_type": "code",
   "execution_count": 9,
   "id": "39e35ba2-91a3-49b4-a654-e917657b1dd6",
   "metadata": {},
   "outputs": [],
   "source": [
    "adata0 = sc.read(adata0_f)"
   ]
  },
  {
   "cell_type": "code",
   "execution_count": 10,
   "id": "7573d148-a730-4622-b3a9-993f8795dc9a",
   "metadata": {},
   "outputs": [
    {
     "data": {
      "text/plain": [
       "AnnData object with n_obs × n_vars = 129340 × 20922\n",
       "    obs: 'institute', 'study_PI', 'sample_ID', 'subject_ID', 'library_ID', 'subject_ID_published', 'subject_developmental_state', 'age_years', 'sex', 'ethnicity_1', 'smoking_status', 'smoking_history', 'bmi', 'disease_lung_known', 'subject_type', 'cause_of_death', 'sample_type', 'anatomical_region_level1', 'anatomical_region_level3', 'protocol_tissue_dissociation', 'biological_unit', 'library_platform', 'strand_sequence', 'cell_enrichment', 'sequencing_platform', 'reference_genome', 'reference_genome_ensembl_release', 'reads_processing', 'sample_collection_year', 'disease_status', 'treatment_status', 'sample_status', 'sample_cultured', 'cell_number_loaded', 'cell_viability_percentage', 'comments', 'study', 'dataset', 'sample', 'disease_condition', 'original_celltype_ann'\n",
       "    var: 'mt', 'gene_ids-0', 'n_cells-0', 'n_cells_by_counts-0', 'mean_counts-0', 'pct_dropout_by_counts-0', 'total_counts-0', 'gene_ids-1', 'n_cells-1', 'n_cells_by_counts-1', 'mean_counts-1', 'pct_dropout_by_counts-1', 'total_counts-1', 'feature_types-1', 'n_cells'"
      ]
     },
     "execution_count": 10,
     "metadata": {},
     "output_type": "execute_result"
    }
   ],
   "source": [
    "adata0"
   ]
  },
  {
   "cell_type": "code",
   "execution_count": 11,
   "id": "ebfbaf54-82b0-447d-a8a0-57be69933478",
   "metadata": {},
   "outputs": [
    {
     "data": {
      "text/plain": [
       "Layers with keys: "
      ]
     },
     "execution_count": 11,
     "metadata": {},
     "output_type": "execute_result"
    }
   ],
   "source": [
    "adata0.layers"
   ]
  },
  {
   "cell_type": "markdown",
   "id": "e52b6f45-ff08-4286-8785-b672a7d2ff83",
   "metadata": {},
   "source": [
    "#### Let's check if obs_names are consistent"
   ]
  },
  {
   "cell_type": "code",
   "execution_count": 12,
   "id": "4d2253bc-d959-4364-a789-85fc04a70fa1",
   "metadata": {},
   "outputs": [
    {
     "data": {
      "text/plain": [
       "Index(['AAACCTGGTGTGAATA-1-WTDAtest7887999-0',\n",
       "       'AAACGGGCAACCGCCA-1-WTDAtest7887999-0',\n",
       "       'AACCATGGTACAGCAG-1-WTDAtest7887999-0',\n",
       "       'AACGTTGGTGTCCTCT-1-WTDAtest7887999-0',\n",
       "       'AACTCCCTCCTAGTGA-1-WTDAtest7887999-0',\n",
       "       'AACTTTCCAAGCCGTC-1-WTDAtest7887999-0',\n",
       "       'AAGTCTGCACGCCAGT-1-WTDAtest7887999-0',\n",
       "       'AATCGGTGTAGCGCAA-1-WTDAtest7887999-0',\n",
       "       'ACACCGGGTTCAACCA-1-WTDAtest7887999-0',\n",
       "       'ACATACGAGCGATAGC-1-WTDAtest7887999-0',\n",
       "       ...\n",
       "       'TTTGGTTTCCTCGCAT-WSSS8123931-0', 'TTTGTCAAGAGCTGCA-WSSS8123931-0',\n",
       "       'TTTGTCAAGCAGCGTA-WSSS8123931-0', 'TTTGTCAAGGAGCGAG-WSSS8123931-0',\n",
       "       'TTTGTCAAGGAGTAGA-WSSS8123931-0', 'TTTGTCACAATGACCT-WSSS8123931-0',\n",
       "       'TTTGTCAGTCCGTCAG-WSSS8123931-0', 'TTTGTCAGTTGCGCAC-WSSS8123931-0',\n",
       "       'TTTGTCATCAGTTCGA-WSSS8123931-0', 'TTTGTCATCGAATCCA-WSSS8123931-0'],\n",
       "      dtype='object', length=129340)"
      ]
     },
     "execution_count": 12,
     "metadata": {},
     "output_type": "execute_result"
    }
   ],
   "source": [
    "adata0.obs_names"
   ]
  },
  {
   "cell_type": "code",
   "execution_count": 13,
   "id": "f4b7b9b5-668b-48c7-a720-e6fed37b2292",
   "metadata": {},
   "outputs": [
    {
     "data": {
      "text/plain": [
       "Index(['WTDAtest7887999-AAACCTGGTGTGAATA', 'WTDAtest7887999-AAACGGGCAACCGCCA',\n",
       "       'WTDAtest7887999-AACCATGGTACAGCAG', 'WTDAtest7887999-AACGTTGGTGTCCTCT',\n",
       "       'WTDAtest7887999-AACTCCCTCCTAGTGA', 'WTDAtest7887999-AACTTTCCAAGCCGTC',\n",
       "       'WTDAtest7887999-AAGTCTGCACGCCAGT', 'WTDAtest7887999-AATCGGTGTAGCGCAA',\n",
       "       'WTDAtest7887999-ACACCGGGTTCAACCA', 'WTDAtest7887999-ACATACGAGCGATAGC',\n",
       "       ...\n",
       "       'WSSS8123931-TTTGGTTTCCTCGCAT', 'WSSS8123931-TTTGTCAAGAGCTGCA',\n",
       "       'WSSS8123931-TTTGTCAAGCAGCGTA', 'WSSS8123931-TTTGTCAAGGAGCGAG',\n",
       "       'WSSS8123931-TTTGTCAAGGAGTAGA', 'WSSS8123931-TTTGTCACAATGACCT',\n",
       "       'WSSS8123931-TTTGTCAGTCCGTCAG', 'WSSS8123931-TTTGTCAGTTGCGCAC',\n",
       "       'WSSS8123931-TTTGTCATCAGTTCGA', 'WSSS8123931-TTTGTCATCGAATCCA'],\n",
       "      dtype='object', length=129340)"
      ]
     },
     "execution_count": 13,
     "metadata": {},
     "output_type": "execute_result"
    }
   ],
   "source": [
    "adata.obs_names"
   ]
  },
  {
   "cell_type": "code",
   "execution_count": 14,
   "id": "13f43394-4ba5-4995-903a-b12e97789f9a",
   "metadata": {},
   "outputs": [],
   "source": [
    "obs_df = pd.DataFrame({\"original\": adata0.obs_names})"
   ]
  },
  {
   "cell_type": "code",
   "execution_count": 15,
   "id": "d025cfb9-a3e6-4ff0-b483-b9411f3fb1b4",
   "metadata": {},
   "outputs": [],
   "source": [
    "obs_df[\"matching\"] = [re.sub(\"-1-\", \"-\", i) for i in obs_df[\"original\"]]\n",
    "obs_df[\"matching\"] = [re.sub(\"-0$\", \"\", i) for i in obs_df[\"matching\"]]\n",
    "cellnames = []\n",
    "for cellname in obs_df[\"matching\"]:\n",
    "    if \"-W\" in cellname:\n",
    "        cellnames.append(re.sub(\".*-W\", \"W\", cellname) + \"-\" + re.sub(\"-W.*\", \"\", cellname))\n",
    "    elif \"-5841S\" in cellname:\n",
    "        cellnames.append(re.sub(\".*-5841S\", \"5841S\", cellname) + \"-\" + re.sub(\"-5841S.*\", \"\", cellname))\n",
    "    elif \"-HC\" in cellname:\n",
    "        cellnames.append(re.sub(\".*-HC\", \"HC\", cellname) + \"-\" + re.sub(\"-HC.*\", \"\", cellname))\n",
    "    else:\n",
    "        cellnames.append(cellname)\n",
    "obs_df[\"matching\"] = cellnames\n",
    "# obs_df[\"matching\"] = [re.sub(\"-1$\", \"\", i) for i in obs_df[\"matching\"]]"
   ]
  },
  {
   "cell_type": "code",
   "execution_count": 16,
   "id": "3d8d2d95-4c44-4d85-8dc2-ba91af043067",
   "metadata": {},
   "outputs": [
    {
     "data": {
      "text/html": [
       "<div>\n",
       "<style scoped>\n",
       "    .dataframe tbody tr th:only-of-type {\n",
       "        vertical-align: middle;\n",
       "    }\n",
       "\n",
       "    .dataframe tbody tr th {\n",
       "        vertical-align: top;\n",
       "    }\n",
       "\n",
       "    .dataframe thead th {\n",
       "        text-align: right;\n",
       "    }\n",
       "</style>\n",
       "<table border=\"1\" class=\"dataframe\">\n",
       "  <thead>\n",
       "    <tr style=\"text-align: right;\">\n",
       "      <th></th>\n",
       "      <th>original</th>\n",
       "      <th>matching</th>\n",
       "    </tr>\n",
       "  </thead>\n",
       "  <tbody>\n",
       "    <tr>\n",
       "      <th>0</th>\n",
       "      <td>AAACCTGGTGTGAATA-1-WTDAtest7887999-0</td>\n",
       "      <td>WTDAtest7887999-AAACCTGGTGTGAATA</td>\n",
       "    </tr>\n",
       "    <tr>\n",
       "      <th>1</th>\n",
       "      <td>AAACGGGCAACCGCCA-1-WTDAtest7887999-0</td>\n",
       "      <td>WTDAtest7887999-AAACGGGCAACCGCCA</td>\n",
       "    </tr>\n",
       "    <tr>\n",
       "      <th>2</th>\n",
       "      <td>AACCATGGTACAGCAG-1-WTDAtest7887999-0</td>\n",
       "      <td>WTDAtest7887999-AACCATGGTACAGCAG</td>\n",
       "    </tr>\n",
       "    <tr>\n",
       "      <th>3</th>\n",
       "      <td>AACGTTGGTGTCCTCT-1-WTDAtest7887999-0</td>\n",
       "      <td>WTDAtest7887999-AACGTTGGTGTCCTCT</td>\n",
       "    </tr>\n",
       "    <tr>\n",
       "      <th>4</th>\n",
       "      <td>AACTCCCTCCTAGTGA-1-WTDAtest7887999-0</td>\n",
       "      <td>WTDAtest7887999-AACTCCCTCCTAGTGA</td>\n",
       "    </tr>\n",
       "    <tr>\n",
       "      <th>...</th>\n",
       "      <td>...</td>\n",
       "      <td>...</td>\n",
       "    </tr>\n",
       "    <tr>\n",
       "      <th>129335</th>\n",
       "      <td>TTTGTCACAATGACCT-WSSS8123931-0</td>\n",
       "      <td>WSSS8123931-TTTGTCACAATGACCT</td>\n",
       "    </tr>\n",
       "    <tr>\n",
       "      <th>129336</th>\n",
       "      <td>TTTGTCAGTCCGTCAG-WSSS8123931-0</td>\n",
       "      <td>WSSS8123931-TTTGTCAGTCCGTCAG</td>\n",
       "    </tr>\n",
       "    <tr>\n",
       "      <th>129337</th>\n",
       "      <td>TTTGTCAGTTGCGCAC-WSSS8123931-0</td>\n",
       "      <td>WSSS8123931-TTTGTCAGTTGCGCAC</td>\n",
       "    </tr>\n",
       "    <tr>\n",
       "      <th>129338</th>\n",
       "      <td>TTTGTCATCAGTTCGA-WSSS8123931-0</td>\n",
       "      <td>WSSS8123931-TTTGTCATCAGTTCGA</td>\n",
       "    </tr>\n",
       "    <tr>\n",
       "      <th>129339</th>\n",
       "      <td>TTTGTCATCGAATCCA-WSSS8123931-0</td>\n",
       "      <td>WSSS8123931-TTTGTCATCGAATCCA</td>\n",
       "    </tr>\n",
       "  </tbody>\n",
       "</table>\n",
       "<p>129340 rows × 2 columns</p>\n",
       "</div>"
      ],
      "text/plain": [
       "                                    original                          matching\n",
       "0       AAACCTGGTGTGAATA-1-WTDAtest7887999-0  WTDAtest7887999-AAACCTGGTGTGAATA\n",
       "1       AAACGGGCAACCGCCA-1-WTDAtest7887999-0  WTDAtest7887999-AAACGGGCAACCGCCA\n",
       "2       AACCATGGTACAGCAG-1-WTDAtest7887999-0  WTDAtest7887999-AACCATGGTACAGCAG\n",
       "3       AACGTTGGTGTCCTCT-1-WTDAtest7887999-0  WTDAtest7887999-AACGTTGGTGTCCTCT\n",
       "4       AACTCCCTCCTAGTGA-1-WTDAtest7887999-0  WTDAtest7887999-AACTCCCTCCTAGTGA\n",
       "...                                      ...                               ...\n",
       "129335        TTTGTCACAATGACCT-WSSS8123931-0      WSSS8123931-TTTGTCACAATGACCT\n",
       "129336        TTTGTCAGTCCGTCAG-WSSS8123931-0      WSSS8123931-TTTGTCAGTCCGTCAG\n",
       "129337        TTTGTCAGTTGCGCAC-WSSS8123931-0      WSSS8123931-TTTGTCAGTTGCGCAC\n",
       "129338        TTTGTCATCAGTTCGA-WSSS8123931-0      WSSS8123931-TTTGTCATCAGTTCGA\n",
       "129339        TTTGTCATCGAATCCA-WSSS8123931-0      WSSS8123931-TTTGTCATCGAATCCA\n",
       "\n",
       "[129340 rows x 2 columns]"
      ]
     },
     "execution_count": 16,
     "metadata": {},
     "output_type": "execute_result"
    }
   ],
   "source": [
    "obs_df"
   ]
  },
  {
   "cell_type": "code",
   "execution_count": 17,
   "id": "ca8f0299-2430-45b4-8e4a-15ad155231fd",
   "metadata": {
    "tags": []
   },
   "outputs": [
    {
     "name": "stdout",
     "output_type": "stream",
     "text": [
      "0\n"
     ]
    },
    {
     "data": {
      "text/plain": [
       "[]"
      ]
     },
     "execution_count": 17,
     "metadata": {},
     "output_type": "execute_result"
    }
   ],
   "source": [
    "not_found = list(set(adata.obs_names)-set(obs_df[\"matching\"]))\n",
    "# not_found = list(set(obs_df[\"matching\"])-set(adata.obs_names))\n",
    "print(len(not_found))\n",
    "not_found[:5]"
   ]
  },
  {
   "cell_type": "code",
   "execution_count": 18,
   "id": "db370ad1-bf46-4e67-8467-9af1c4f0aa88",
   "metadata": {},
   "outputs": [
    {
     "data": {
      "text/html": [
       "<div>\n",
       "<style scoped>\n",
       "    .dataframe tbody tr th:only-of-type {\n",
       "        vertical-align: middle;\n",
       "    }\n",
       "\n",
       "    .dataframe tbody tr th {\n",
       "        vertical-align: top;\n",
       "    }\n",
       "\n",
       "    .dataframe thead th {\n",
       "        text-align: right;\n",
       "    }\n",
       "</style>\n",
       "<table border=\"1\" class=\"dataframe\">\n",
       "  <thead>\n",
       "    <tr style=\"text-align: right;\">\n",
       "      <th></th>\n",
       "      <th>original</th>\n",
       "      <th>matching</th>\n",
       "    </tr>\n",
       "  </thead>\n",
       "  <tbody>\n",
       "    <tr>\n",
       "      <th>26980</th>\n",
       "      <td>TGCGTGGAGCCACCTG-5841STDY7991475-0</td>\n",
       "      <td>5841STDY7991475-TGCGTGGAGCCACCTG</td>\n",
       "    </tr>\n",
       "  </tbody>\n",
       "</table>\n",
       "</div>"
      ],
      "text/plain": [
       "                                 original                          matching\n",
       "26980  TGCGTGGAGCCACCTG-5841STDY7991475-0  5841STDY7991475-TGCGTGGAGCCACCTG"
      ]
     },
     "execution_count": 18,
     "metadata": {},
     "output_type": "execute_result"
    }
   ],
   "source": [
    "bcode = \"TGCGTGGAGCCACCTG\"\n",
    "matching = [bcode in s for s in obs_df[\"matching\"]]\n",
    "obs_df.loc[matching, :]"
   ]
  },
  {
   "cell_type": "code",
   "execution_count": 19,
   "id": "3ef104b9-25fe-47f4-80ef-409aa1c7ed45",
   "metadata": {},
   "outputs": [
    {
     "data": {
      "text/plain": [
       "Index(['WTDAtest7887999-AAACCTGGTGTGAATA', 'WTDAtest7887999-AAACGGGCAACCGCCA',\n",
       "       'WTDAtest7887999-AACCATGGTACAGCAG', 'WTDAtest7887999-AACGTTGGTGTCCTCT',\n",
       "       'WTDAtest7887999-AACTCCCTCCTAGTGA', 'WTDAtest7887999-AACTTTCCAAGCCGTC',\n",
       "       'WTDAtest7887999-AAGTCTGCACGCCAGT', 'WTDAtest7887999-AATCGGTGTAGCGCAA',\n",
       "       'WTDAtest7887999-ACACCGGGTTCAACCA', 'WTDAtest7887999-ACATACGAGCGATAGC',\n",
       "       ...\n",
       "       'WSSS8123931-TTTGGTTTCCTCGCAT', 'WSSS8123931-TTTGTCAAGAGCTGCA',\n",
       "       'WSSS8123931-TTTGTCAAGCAGCGTA', 'WSSS8123931-TTTGTCAAGGAGCGAG',\n",
       "       'WSSS8123931-TTTGTCAAGGAGTAGA', 'WSSS8123931-TTTGTCACAATGACCT',\n",
       "       'WSSS8123931-TTTGTCAGTCCGTCAG', 'WSSS8123931-TTTGTCAGTTGCGCAC',\n",
       "       'WSSS8123931-TTTGTCATCAGTTCGA', 'WSSS8123931-TTTGTCATCGAATCCA'],\n",
       "      dtype='object', length=129340)"
      ]
     },
     "execution_count": 19,
     "metadata": {},
     "output_type": "execute_result"
    }
   ],
   "source": [
    "adata.obs_names"
   ]
  },
  {
   "cell_type": "markdown",
   "id": "77ebdf34-e261-4df5-a02a-5e0d3c3fdc11",
   "metadata": {},
   "source": [
    "#### Filtering to the same obs and vars"
   ]
  },
  {
   "cell_type": "code",
   "execution_count": 21,
   "id": "e252f0a0-14f6-47ab-ac90-f7580f5aed7f",
   "metadata": {},
   "outputs": [],
   "source": [
    "adata1 = adata[obs_df[\"matching\"],adata0.var_names].copy()"
   ]
  },
  {
   "cell_type": "code",
   "execution_count": 22,
   "id": "e1176665-c386-4c53-9a97-22c0b45e098a",
   "metadata": {},
   "outputs": [],
   "source": [
    "adata1.obs_names = obs_df[\"matching\"]"
   ]
  },
  {
   "cell_type": "code",
   "execution_count": 23,
   "id": "58e886b2-049d-43c8-bc0a-8e4791e51705",
   "metadata": {},
   "outputs": [],
   "source": [
    "adata1.obs = adata0.obs.copy()"
   ]
  },
  {
   "cell_type": "code",
   "execution_count": 24,
   "id": "0db06ae3-e203-49c0-b40c-f75b9b82a478",
   "metadata": {},
   "outputs": [
    {
     "data": {
      "text/plain": [
       "AnnData object with n_obs × n_vars = 129340 × 20922\n",
       "    obs: 'institute', 'study_PI', 'sample_ID', 'subject_ID', 'library_ID', 'subject_ID_published', 'subject_developmental_state', 'age_years', 'sex', 'ethnicity_1', 'smoking_status', 'smoking_history', 'bmi', 'disease_lung_known', 'subject_type', 'cause_of_death', 'sample_type', 'anatomical_region_level1', 'anatomical_region_level3', 'protocol_tissue_dissociation', 'biological_unit', 'library_platform', 'strand_sequence', 'cell_enrichment', 'sequencing_platform', 'reference_genome', 'reference_genome_ensembl_release', 'reads_processing', 'sample_collection_year', 'disease_status', 'treatment_status', 'sample_status', 'sample_cultured', 'cell_number_loaded', 'cell_viability_percentage', 'comments', 'study', 'dataset', 'sample', 'disease_condition', 'original_celltype_ann'\n",
       "    var: 'gene_ids', 'feature_types'"
      ]
     },
     "execution_count": 24,
     "metadata": {},
     "output_type": "execute_result"
    }
   ],
   "source": [
    "adata1"
   ]
  },
  {
   "cell_type": "code",
   "execution_count": 25,
   "id": "510c712e-1b11-44c7-bd38-6909656b60aa",
   "metadata": {},
   "outputs": [],
   "source": [
    "adata1.write(adata1_f)"
   ]
  },
  {
   "cell_type": "markdown",
   "id": "39f376f7-a17d-4f28-a795-2731e730b10e",
   "metadata": {},
   "source": [
    "Done"
   ]
  }
 ],
 "metadata": {
  "kernelspec": {
   "display_name": "Python [conda env:HLCA_basic] *",
   "language": "python",
   "name": "conda-env-HLCA_basic-py"
  },
  "language_info": {
   "codemirror_mode": {
    "name": "ipython",
    "version": 3
   },
   "file_extension": ".py",
   "mimetype": "text/x-python",
   "name": "python",
   "nbconvert_exporter": "python",
   "pygments_lexer": "ipython3",
   "version": "3.7.13"
  }
 },
 "nbformat": 4,
 "nbformat_minor": 5
}
