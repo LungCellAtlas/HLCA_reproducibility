{
 "cells": [
  {
   "cell_type": "markdown",
   "metadata": {},
   "source": [
    "## Data import for Gomperts_2021/carraro data:"
   ]
  },
  {
   "cell_type": "code",
   "execution_count": 1,
   "metadata": {},
   "outputs": [],
   "source": [
    "import scanpy as sc\n",
    "import numpy as np\n",
    "import pandas as pd\n",
    "import os"
   ]
  },
  {
   "cell_type": "code",
   "execution_count": 3,
   "metadata": {},
   "outputs": [],
   "source": [
    "dir_data_in = \"../../../data/HLCA_extended/extension_datasets/ready/full/\"\n",
    "dir_data_out = \"../../../data/HLCA_extended/extension_datasets/ready/subsetted/\""
   ]
  },
  {
   "cell_type": "code",
   "execution_count": 2,
   "metadata": {},
   "outputs": [],
   "source": [
    "adata_ucla = sc.read(os.path.join(dir_data_in, 'carraro_ucla.h5ad'))\n",
    "adata_cff = sc.read(os.path.join(dir_data_in, 'carraro_cff.h5ad'))\n",
    "adata_csmc = sc.read(os.path.join(dir_data_in, 'carraro_csmc.h5ad'))"
   ]
  },
  {
   "cell_type": "code",
   "execution_count": 7,
   "metadata": {},
   "outputs": [
    {
     "data": {
      "text/plain": [
       "AnnData object with n_obs × n_vars = 19239 × 31229\n",
       "    obs: 'subject_ID', 'dataset', 'condition', 'mutation', 'original_celltype_ann', 'study', 'sample'"
      ]
     },
     "execution_count": 7,
     "metadata": {},
     "output_type": "execute_result"
    },
    {
     "data": {
      "text/plain": [
       "AnnData object with n_obs × n_vars = 6995 × 31229\n",
       "    obs: 'subject_ID', 'dataset', 'condition', 'mutation', 'original_celltype_ann', 'study', 'sample'"
      ]
     },
     "execution_count": 7,
     "metadata": {},
     "output_type": "execute_result"
    },
    {
     "data": {
      "text/plain": [
       "AnnData object with n_obs × n_vars = 14475 × 31229\n",
       "    obs: 'subject_ID', 'dataset', 'condition', 'mutation', 'original_celltype_ann', 'study', 'sample'"
      ]
     },
     "execution_count": 7,
     "metadata": {},
     "output_type": "execute_result"
    }
   ],
   "source": [
    "adata_ucla\n",
    "adata_cff\n",
    "adata_csmc"
   ]
  },
  {
   "cell_type": "code",
   "execution_count": 4,
   "metadata": {
    "scrolled": true,
    "tags": []
   },
   "outputs": [
    {
     "name": "stdout",
     "output_type": "stream",
     "text": [
      "subject_ID\n"
     ]
    },
    {
     "data": {
      "text/plain": [
       "BG9_34    2849\n",
       "BG9_20    2502\n",
       "BG9_12    2163\n",
       "BG9_31    1706\n",
       "BG9_33    1623\n",
       "BG9_37    1622\n",
       "BG9_22    1349\n",
       "BG9_19    1216\n",
       "BG9_21     865\n",
       "BG9_23     822\n",
       "BG9_2      532\n",
       "BG9_3      464\n",
       "BG9_30     363\n",
       "BG9_26     280\n",
       "BG9_18     191\n",
       "BG9_36     183\n",
       "BG9_27     168\n",
       "BG9_7      158\n",
       "BG9_35     115\n",
       "BG9_24      42\n",
       "BG9_25      26\n",
       "Name: subject_ID, dtype: int64"
      ]
     },
     "execution_count": 4,
     "metadata": {},
     "output_type": "execute_result"
    },
    {
     "name": "stdout",
     "output_type": "stream",
     "text": [
      "dataset\n"
     ]
    },
    {
     "data": {
      "text/plain": [
       "Gomperts2021_UCLA    19239\n",
       "Name: dataset, dtype: int64"
      ]
     },
     "execution_count": 4,
     "metadata": {},
     "output_type": "execute_result"
    },
    {
     "name": "stdout",
     "output_type": "stream",
     "text": [
      "condition\n"
     ]
    },
    {
     "data": {
      "text/plain": [
       "CF    9836\n",
       "CO    9403\n",
       "Name: condition, dtype: int64"
      ]
     },
     "execution_count": 4,
     "metadata": {},
     "output_type": "execute_result"
    },
    {
     "name": "stdout",
     "output_type": "stream",
     "text": [
      "mutation\n"
     ]
    },
    {
     "data": {
      "text/plain": [
       "no              9403\n",
       "dF508/dF508     5461\n",
       "dF508_dF508     2849\n",
       "dF508_G551D      822\n",
       "dF508/NLR P3     363\n",
       "dF508/L633K      183\n",
       "dF508/1898A      158\n",
       "Name: mutation, dtype: int64"
      ]
     },
     "execution_count": 4,
     "metadata": {},
     "output_type": "execute_result"
    },
    {
     "name": "stdout",
     "output_type": "stream",
     "text": [
      "original_celltype_ann\n"
     ]
    },
    {
     "data": {
      "text/plain": [
       "Basal        10948\n",
       "Secretory     5007\n",
       "Ciliated      3132\n",
       "Ionocyte        86\n",
       "FOXN4+          52\n",
       "NE              14\n",
       "Name: original_celltype_ann, dtype: int64"
      ]
     },
     "execution_count": 4,
     "metadata": {},
     "output_type": "execute_result"
    },
    {
     "name": "stdout",
     "output_type": "stream",
     "text": [
      "study\n"
     ]
    },
    {
     "data": {
      "text/plain": [
       "Gomperts2021    19239\n",
       "Name: study, dtype: int64"
      ]
     },
     "execution_count": 4,
     "metadata": {},
     "output_type": "execute_result"
    },
    {
     "name": "stdout",
     "output_type": "stream",
     "text": [
      "sample\n"
     ]
    },
    {
     "data": {
      "text/plain": [
       "BG9_34    2849\n",
       "BG9_20    2502\n",
       "BG9_12    2163\n",
       "BG9_31    1706\n",
       "BG9_33    1623\n",
       "BG9_37    1622\n",
       "BG9_22    1349\n",
       "BG9_19    1216\n",
       "BG9_21     865\n",
       "BG9_23     822\n",
       "BG9_2      532\n",
       "BG9_3      464\n",
       "BG9_30     363\n",
       "BG9_26     280\n",
       "BG9_18     191\n",
       "BG9_36     183\n",
       "BG9_27     168\n",
       "BG9_7      158\n",
       "BG9_35     115\n",
       "BG9_24      42\n",
       "BG9_25      26\n",
       "Name: sample, dtype: int64"
      ]
     },
     "execution_count": 4,
     "metadata": {},
     "output_type": "execute_result"
    }
   ],
   "source": [
    "for i in adata_ucla.obs.columns:\n",
    "    print(i)\n",
    "    adata_ucla.obs[i].value_counts()"
   ]
  },
  {
   "cell_type": "code",
   "execution_count": 5,
   "metadata": {
    "scrolled": true,
    "tags": []
   },
   "outputs": [
    {
     "name": "stdout",
     "output_type": "stream",
     "text": [
      "subject_ID\n"
     ]
    },
    {
     "data": {
      "text/plain": [
       "ND15656     3306\n",
       "ND15989     2122\n",
       "CF301018     713\n",
       "ND17494      557\n",
       "ND16737      297\n",
       "Name: subject_ID, dtype: int64"
      ]
     },
     "execution_count": 5,
     "metadata": {},
     "output_type": "execute_result"
    },
    {
     "name": "stdout",
     "output_type": "stream",
     "text": [
      "dataset\n"
     ]
    },
    {
     "data": {
      "text/plain": [
       "Gomperts2021_CFF    6995\n",
       "Name: dataset, dtype: int64"
      ]
     },
     "execution_count": 5,
     "metadata": {},
     "output_type": "execute_result"
    },
    {
     "name": "stdout",
     "output_type": "stream",
     "text": [
      "condition\n"
     ]
    },
    {
     "data": {
      "text/plain": [
       "CF    4316\n",
       "CO    2679\n",
       "Name: condition, dtype: int64"
      ]
     },
     "execution_count": 5,
     "metadata": {},
     "output_type": "execute_result"
    },
    {
     "name": "stdout",
     "output_type": "stream",
     "text": [
      "mutation\n"
     ]
    },
    {
     "data": {
      "text/plain": [
       "dF508_1811_A-G    3306\n",
       "no                2679\n",
       "dF508_1078detT     713\n",
       "dF508_R553X        297\n",
       "Name: mutation, dtype: int64"
      ]
     },
     "execution_count": 5,
     "metadata": {},
     "output_type": "execute_result"
    },
    {
     "name": "stdout",
     "output_type": "stream",
     "text": [
      "original_celltype_ann\n"
     ]
    },
    {
     "data": {
      "text/plain": [
       "Basal        3745\n",
       "Secretory    2392\n",
       "Ciliated      803\n",
       "FOXN4+         29\n",
       "Ionocyte       23\n",
       "NE              3\n",
       "Name: original_celltype_ann, dtype: int64"
      ]
     },
     "execution_count": 5,
     "metadata": {},
     "output_type": "execute_result"
    },
    {
     "name": "stdout",
     "output_type": "stream",
     "text": [
      "study\n"
     ]
    },
    {
     "data": {
      "text/plain": [
       "Gomperts2021    6995\n",
       "Name: study, dtype: int64"
      ]
     },
     "execution_count": 5,
     "metadata": {},
     "output_type": "execute_result"
    },
    {
     "name": "stdout",
     "output_type": "stream",
     "text": [
      "sample\n"
     ]
    },
    {
     "data": {
      "text/plain": [
       "ND15656     3306\n",
       "ND15989     2122\n",
       "CF301018     713\n",
       "ND17494      557\n",
       "ND16737      297\n",
       "Name: sample, dtype: int64"
      ]
     },
     "execution_count": 5,
     "metadata": {},
     "output_type": "execute_result"
    }
   ],
   "source": [
    "for i in adata_cff.obs.columns:\n",
    "    print(i)\n",
    "    adata_cff.obs[i].value_counts()"
   ]
  },
  {
   "cell_type": "code",
   "execution_count": 6,
   "metadata": {
    "scrolled": true,
    "tags": []
   },
   "outputs": [
    {
     "name": "stdout",
     "output_type": "stream",
     "text": [
      "subject_ID\n"
     ]
    },
    {
     "data": {
      "text/plain": [
       "dd10p        2132\n",
       "cc05p        1687\n",
       "dd09p        1592\n",
       "cc01p        1243\n",
       "cc04p        1120\n",
       "dd49p        1062\n",
       "cf019        1059\n",
       "dd39p         969\n",
       "KKD019N       719\n",
       "h18           685\n",
       "KKD022N       572\n",
       "cc02p         547\n",
       "KKD020N       501\n",
       "KKCFFT32N     450\n",
       "KKD024N        80\n",
       "KKD023N        57\n",
       "Name: subject_ID, dtype: int64"
      ]
     },
     "execution_count": 6,
     "metadata": {},
     "output_type": "execute_result"
    },
    {
     "name": "stdout",
     "output_type": "stream",
     "text": [
      "dataset\n"
     ]
    },
    {
     "data": {
      "text/plain": [
       "Gomperts2021_CSMC    14475\n",
       "Name: dataset, dtype: int64"
      ]
     },
     "execution_count": 6,
     "metadata": {},
     "output_type": "execute_result"
    },
    {
     "name": "stdout",
     "output_type": "stream",
     "text": [
      "condition\n"
     ]
    },
    {
     "data": {
      "text/plain": [
       "CO    11037\n",
       "CF     3438\n",
       "Name: condition, dtype: int64"
      ]
     },
     "execution_count": 6,
     "metadata": {},
     "output_type": "execute_result"
    },
    {
     "name": "stdout",
     "output_type": "stream",
     "text": [
      "mutation\n"
     ]
    },
    {
     "data": {
      "text/plain": [
       "no              11037\n",
       "dF508_dF508      1821\n",
       "dF508_G551D      1059\n",
       "G542x_L1077p      501\n",
       "G542x/R785x        57\n",
       "Name: mutation, dtype: int64"
      ]
     },
     "execution_count": 6,
     "metadata": {},
     "output_type": "execute_result"
    },
    {
     "name": "stdout",
     "output_type": "stream",
     "text": [
      "original_celltype_ann\n"
     ]
    },
    {
     "data": {
      "text/plain": [
       "Basal        6161\n",
       "Secretory    4484\n",
       "Ciliated     3660\n",
       "FOXN4+         86\n",
       "Ionocyte       75\n",
       "NE              9\n",
       "Name: original_celltype_ann, dtype: int64"
      ]
     },
     "execution_count": 6,
     "metadata": {},
     "output_type": "execute_result"
    },
    {
     "name": "stdout",
     "output_type": "stream",
     "text": [
      "study\n"
     ]
    },
    {
     "data": {
      "text/plain": [
       "Gomperts2021    14475\n",
       "Name: study, dtype: int64"
      ]
     },
     "execution_count": 6,
     "metadata": {},
     "output_type": "execute_result"
    },
    {
     "name": "stdout",
     "output_type": "stream",
     "text": [
      "sample\n"
     ]
    },
    {
     "data": {
      "text/plain": [
       "dd10p        2132\n",
       "cc05p        1687\n",
       "dd09p        1592\n",
       "cc01p        1243\n",
       "cc04p        1120\n",
       "dd49p        1062\n",
       "cf019        1059\n",
       "dd39p         969\n",
       "KKD019N       719\n",
       "h18           685\n",
       "KKD022N       572\n",
       "cc02p         547\n",
       "KKD020N       501\n",
       "KKCFFT32N     450\n",
       "KKD024N        80\n",
       "KKD023N        57\n",
       "Name: sample, dtype: int64"
      ]
     },
     "execution_count": 6,
     "metadata": {},
     "output_type": "execute_result"
    }
   ],
   "source": [
    "for i in adata_csmc.obs.columns:\n",
    "    print(i)\n",
    "    adata_csmc.obs[i].value_counts()"
   ]
  },
  {
   "cell_type": "markdown",
   "metadata": {},
   "source": [
    "Note: UCLA dataset seems to have more donors than quoted in the paper"
   ]
  },
  {
   "cell_type": "code",
   "execution_count": 9,
   "metadata": {},
   "outputs": [
    {
     "data": {
      "text/html": [
       "<div>\n",
       "<style scoped>\n",
       "    .dataframe tbody tr th:only-of-type {\n",
       "        vertical-align: middle;\n",
       "    }\n",
       "\n",
       "    .dataframe tbody tr th {\n",
       "        vertical-align: top;\n",
       "    }\n",
       "\n",
       "    .dataframe thead th {\n",
       "        text-align: right;\n",
       "    }\n",
       "</style>\n",
       "<table border=\"1\" class=\"dataframe\">\n",
       "  <thead>\n",
       "    <tr style=\"text-align: right;\">\n",
       "      <th>original_celltype_ann</th>\n",
       "      <th>Basal</th>\n",
       "      <th>Ciliated</th>\n",
       "      <th>FOXN4+</th>\n",
       "      <th>Ionocyte</th>\n",
       "      <th>NE</th>\n",
       "      <th>Secretory</th>\n",
       "    </tr>\n",
       "    <tr>\n",
       "      <th>subject_ID</th>\n",
       "      <th></th>\n",
       "      <th></th>\n",
       "      <th></th>\n",
       "      <th></th>\n",
       "      <th></th>\n",
       "      <th></th>\n",
       "    </tr>\n",
       "  </thead>\n",
       "  <tbody>\n",
       "    <tr>\n",
       "      <th>BG9_12</th>\n",
       "      <td>1472</td>\n",
       "      <td>142</td>\n",
       "      <td>2</td>\n",
       "      <td>10</td>\n",
       "      <td>2</td>\n",
       "      <td>535</td>\n",
       "    </tr>\n",
       "    <tr>\n",
       "      <th>BG9_18</th>\n",
       "      <td>117</td>\n",
       "      <td>15</td>\n",
       "      <td>0</td>\n",
       "      <td>2</td>\n",
       "      <td>0</td>\n",
       "      <td>57</td>\n",
       "    </tr>\n",
       "    <tr>\n",
       "      <th>BG9_19</th>\n",
       "      <td>765</td>\n",
       "      <td>76</td>\n",
       "      <td>3</td>\n",
       "      <td>5</td>\n",
       "      <td>0</td>\n",
       "      <td>367</td>\n",
       "    </tr>\n",
       "    <tr>\n",
       "      <th>BG9_2</th>\n",
       "      <td>342</td>\n",
       "      <td>15</td>\n",
       "      <td>0</td>\n",
       "      <td>2</td>\n",
       "      <td>1</td>\n",
       "      <td>172</td>\n",
       "    </tr>\n",
       "    <tr>\n",
       "      <th>BG9_20</th>\n",
       "      <td>1253</td>\n",
       "      <td>745</td>\n",
       "      <td>4</td>\n",
       "      <td>19</td>\n",
       "      <td>3</td>\n",
       "      <td>478</td>\n",
       "    </tr>\n",
       "    <tr>\n",
       "      <th>BG9_21</th>\n",
       "      <td>539</td>\n",
       "      <td>168</td>\n",
       "      <td>1</td>\n",
       "      <td>2</td>\n",
       "      <td>0</td>\n",
       "      <td>155</td>\n",
       "    </tr>\n",
       "    <tr>\n",
       "      <th>BG9_22</th>\n",
       "      <td>861</td>\n",
       "      <td>192</td>\n",
       "      <td>3</td>\n",
       "      <td>3</td>\n",
       "      <td>1</td>\n",
       "      <td>289</td>\n",
       "    </tr>\n",
       "    <tr>\n",
       "      <th>BG9_23</th>\n",
       "      <td>420</td>\n",
       "      <td>206</td>\n",
       "      <td>2</td>\n",
       "      <td>6</td>\n",
       "      <td>1</td>\n",
       "      <td>187</td>\n",
       "    </tr>\n",
       "    <tr>\n",
       "      <th>BG9_24</th>\n",
       "      <td>16</td>\n",
       "      <td>0</td>\n",
       "      <td>0</td>\n",
       "      <td>0</td>\n",
       "      <td>0</td>\n",
       "      <td>26</td>\n",
       "    </tr>\n",
       "    <tr>\n",
       "      <th>BG9_25</th>\n",
       "      <td>2</td>\n",
       "      <td>1</td>\n",
       "      <td>0</td>\n",
       "      <td>0</td>\n",
       "      <td>0</td>\n",
       "      <td>23</td>\n",
       "    </tr>\n",
       "    <tr>\n",
       "      <th>BG9_26</th>\n",
       "      <td>133</td>\n",
       "      <td>70</td>\n",
       "      <td>3</td>\n",
       "      <td>3</td>\n",
       "      <td>0</td>\n",
       "      <td>71</td>\n",
       "    </tr>\n",
       "    <tr>\n",
       "      <th>BG9_27</th>\n",
       "      <td>54</td>\n",
       "      <td>11</td>\n",
       "      <td>1</td>\n",
       "      <td>1</td>\n",
       "      <td>0</td>\n",
       "      <td>101</td>\n",
       "    </tr>\n",
       "    <tr>\n",
       "      <th>BG9_3</th>\n",
       "      <td>329</td>\n",
       "      <td>11</td>\n",
       "      <td>2</td>\n",
       "      <td>1</td>\n",
       "      <td>0</td>\n",
       "      <td>121</td>\n",
       "    </tr>\n",
       "    <tr>\n",
       "      <th>BG9_30</th>\n",
       "      <td>197</td>\n",
       "      <td>49</td>\n",
       "      <td>0</td>\n",
       "      <td>4</td>\n",
       "      <td>0</td>\n",
       "      <td>113</td>\n",
       "    </tr>\n",
       "    <tr>\n",
       "      <th>BG9_31</th>\n",
       "      <td>784</td>\n",
       "      <td>438</td>\n",
       "      <td>10</td>\n",
       "      <td>6</td>\n",
       "      <td>2</td>\n",
       "      <td>466</td>\n",
       "    </tr>\n",
       "    <tr>\n",
       "      <th>BG9_33</th>\n",
       "      <td>996</td>\n",
       "      <td>174</td>\n",
       "      <td>5</td>\n",
       "      <td>6</td>\n",
       "      <td>2</td>\n",
       "      <td>440</td>\n",
       "    </tr>\n",
       "    <tr>\n",
       "      <th>BG9_34</th>\n",
       "      <td>1442</td>\n",
       "      <td>660</td>\n",
       "      <td>11</td>\n",
       "      <td>7</td>\n",
       "      <td>2</td>\n",
       "      <td>727</td>\n",
       "    </tr>\n",
       "    <tr>\n",
       "      <th>BG9_35</th>\n",
       "      <td>51</td>\n",
       "      <td>6</td>\n",
       "      <td>0</td>\n",
       "      <td>0</td>\n",
       "      <td>0</td>\n",
       "      <td>58</td>\n",
       "    </tr>\n",
       "    <tr>\n",
       "      <th>BG9_36</th>\n",
       "      <td>106</td>\n",
       "      <td>35</td>\n",
       "      <td>0</td>\n",
       "      <td>0</td>\n",
       "      <td>0</td>\n",
       "      <td>42</td>\n",
       "    </tr>\n",
       "    <tr>\n",
       "      <th>BG9_37</th>\n",
       "      <td>968</td>\n",
       "      <td>109</td>\n",
       "      <td>4</td>\n",
       "      <td>7</td>\n",
       "      <td>0</td>\n",
       "      <td>534</td>\n",
       "    </tr>\n",
       "    <tr>\n",
       "      <th>BG9_7</th>\n",
       "      <td>101</td>\n",
       "      <td>9</td>\n",
       "      <td>1</td>\n",
       "      <td>2</td>\n",
       "      <td>0</td>\n",
       "      <td>45</td>\n",
       "    </tr>\n",
       "  </tbody>\n",
       "</table>\n",
       "</div>"
      ],
      "text/plain": [
       "original_celltype_ann  Basal  Ciliated  FOXN4+  Ionocyte  NE  Secretory\n",
       "subject_ID                                                             \n",
       "BG9_12                  1472       142       2        10   2        535\n",
       "BG9_18                   117        15       0         2   0         57\n",
       "BG9_19                   765        76       3         5   0        367\n",
       "BG9_2                    342        15       0         2   1        172\n",
       "BG9_20                  1253       745       4        19   3        478\n",
       "BG9_21                   539       168       1         2   0        155\n",
       "BG9_22                   861       192       3         3   1        289\n",
       "BG9_23                   420       206       2         6   1        187\n",
       "BG9_24                    16         0       0         0   0         26\n",
       "BG9_25                     2         1       0         0   0         23\n",
       "BG9_26                   133        70       3         3   0         71\n",
       "BG9_27                    54        11       1         1   0        101\n",
       "BG9_3                    329        11       2         1   0        121\n",
       "BG9_30                   197        49       0         4   0        113\n",
       "BG9_31                   784       438      10         6   2        466\n",
       "BG9_33                   996       174       5         6   2        440\n",
       "BG9_34                  1442       660      11         7   2        727\n",
       "BG9_35                    51         6       0         0   0         58\n",
       "BG9_36                   106        35       0         0   0         42\n",
       "BG9_37                   968       109       4         7   0        534\n",
       "BG9_7                    101         9       1         2   0         45"
      ]
     },
     "execution_count": 9,
     "metadata": {},
     "output_type": "execute_result"
    }
   ],
   "source": [
    "pd.crosstab(adata_ucla.obs.subject_ID, adata_ucla.obs.original_celltype_ann)"
   ]
  },
  {
   "cell_type": "code",
   "execution_count": 13,
   "metadata": {},
   "outputs": [
    {
     "data": {
      "text/plain": [
       "False"
      ]
     },
     "execution_count": 13,
     "metadata": {},
     "output_type": "execute_result"
    }
   ],
   "source": [
    "np.any(adata_ucla.obs.original_celltype_ann.isna())"
   ]
  },
  {
   "cell_type": "markdown",
   "metadata": {},
   "source": [
    "All samples seem to be annotated and therefore fine"
   ]
  },
  {
   "cell_type": "code",
   "execution_count": null,
   "metadata": {},
   "outputs": [],
   "source": [
    "pd.crosstab(adata_ucla.obs.subject_ID, adata_ucla.obs.condition)"
   ]
  },
  {
   "cell_type": "code",
   "execution_count": 16,
   "metadata": {},
   "outputs": [
    {
     "data": {
      "text/html": [
       "<div>\n",
       "<style scoped>\n",
       "    .dataframe tbody tr th:only-of-type {\n",
       "        vertical-align: middle;\n",
       "    }\n",
       "\n",
       "    .dataframe tbody tr th {\n",
       "        vertical-align: top;\n",
       "    }\n",
       "\n",
       "    .dataframe thead th {\n",
       "        text-align: right;\n",
       "    }\n",
       "</style>\n",
       "<table border=\"1\" class=\"dataframe\">\n",
       "  <thead>\n",
       "    <tr style=\"text-align: right;\">\n",
       "      <th>condition</th>\n",
       "      <th>CF</th>\n",
       "      <th>CO</th>\n",
       "    </tr>\n",
       "    <tr>\n",
       "      <th>subject_ID</th>\n",
       "      <th></th>\n",
       "      <th></th>\n",
       "    </tr>\n",
       "  </thead>\n",
       "  <tbody>\n",
       "    <tr>\n",
       "      <th>CF301018</th>\n",
       "      <td>713</td>\n",
       "      <td>0</td>\n",
       "    </tr>\n",
       "    <tr>\n",
       "      <th>ND15656</th>\n",
       "      <td>3306</td>\n",
       "      <td>0</td>\n",
       "    </tr>\n",
       "    <tr>\n",
       "      <th>ND15989</th>\n",
       "      <td>0</td>\n",
       "      <td>2122</td>\n",
       "    </tr>\n",
       "    <tr>\n",
       "      <th>ND16737</th>\n",
       "      <td>297</td>\n",
       "      <td>0</td>\n",
       "    </tr>\n",
       "    <tr>\n",
       "      <th>ND17494</th>\n",
       "      <td>0</td>\n",
       "      <td>557</td>\n",
       "    </tr>\n",
       "  </tbody>\n",
       "</table>\n",
       "</div>"
      ],
      "text/plain": [
       "condition     CF    CO\n",
       "subject_ID            \n",
       "CF301018     713     0\n",
       "ND15656     3306     0\n",
       "ND15989        0  2122\n",
       "ND16737      297     0\n",
       "ND17494        0   557"
      ]
     },
     "execution_count": 16,
     "metadata": {},
     "output_type": "execute_result"
    }
   ],
   "source": [
    "pd.crosstab(adata_cff.obs.subject_ID, adata_cff.obs.condition)"
   ]
  },
  {
   "cell_type": "code",
   "execution_count": 18,
   "metadata": {},
   "outputs": [
    {
     "data": {
      "text/html": [
       "<div>\n",
       "<style scoped>\n",
       "    .dataframe tbody tr th:only-of-type {\n",
       "        vertical-align: middle;\n",
       "    }\n",
       "\n",
       "    .dataframe tbody tr th {\n",
       "        vertical-align: top;\n",
       "    }\n",
       "\n",
       "    .dataframe thead th {\n",
       "        text-align: right;\n",
       "    }\n",
       "</style>\n",
       "<table border=\"1\" class=\"dataframe\">\n",
       "  <thead>\n",
       "    <tr style=\"text-align: right;\">\n",
       "      <th>condition</th>\n",
       "      <th>CF</th>\n",
       "      <th>CO</th>\n",
       "    </tr>\n",
       "    <tr>\n",
       "      <th>subject_ID</th>\n",
       "      <th></th>\n",
       "      <th></th>\n",
       "    </tr>\n",
       "  </thead>\n",
       "  <tbody>\n",
       "    <tr>\n",
       "      <th>cc01p</th>\n",
       "      <td>0</td>\n",
       "      <td>1243</td>\n",
       "    </tr>\n",
       "    <tr>\n",
       "      <th>cc02p</th>\n",
       "      <td>0</td>\n",
       "      <td>547</td>\n",
       "    </tr>\n",
       "    <tr>\n",
       "      <th>cc04p</th>\n",
       "      <td>0</td>\n",
       "      <td>1120</td>\n",
       "    </tr>\n",
       "    <tr>\n",
       "      <th>cc05p</th>\n",
       "      <td>0</td>\n",
       "      <td>1687</td>\n",
       "    </tr>\n",
       "    <tr>\n",
       "      <th>cf019</th>\n",
       "      <td>1059</td>\n",
       "      <td>0</td>\n",
       "    </tr>\n",
       "    <tr>\n",
       "      <th>dd09p</th>\n",
       "      <td>0</td>\n",
       "      <td>1592</td>\n",
       "    </tr>\n",
       "    <tr>\n",
       "      <th>dd10p</th>\n",
       "      <td>0</td>\n",
       "      <td>2132</td>\n",
       "    </tr>\n",
       "    <tr>\n",
       "      <th>dd39p</th>\n",
       "      <td>0</td>\n",
       "      <td>969</td>\n",
       "    </tr>\n",
       "    <tr>\n",
       "      <th>dd49p</th>\n",
       "      <td>0</td>\n",
       "      <td>1062</td>\n",
       "    </tr>\n",
       "    <tr>\n",
       "      <th>h18</th>\n",
       "      <td>0</td>\n",
       "      <td>685</td>\n",
       "    </tr>\n",
       "    <tr>\n",
       "      <th>KKCFFT32N</th>\n",
       "      <td>450</td>\n",
       "      <td>0</td>\n",
       "    </tr>\n",
       "    <tr>\n",
       "      <th>KKD019N</th>\n",
       "      <td>719</td>\n",
       "      <td>0</td>\n",
       "    </tr>\n",
       "    <tr>\n",
       "      <th>KKD020N</th>\n",
       "      <td>501</td>\n",
       "      <td>0</td>\n",
       "    </tr>\n",
       "    <tr>\n",
       "      <th>KKD022N</th>\n",
       "      <td>572</td>\n",
       "      <td>0</td>\n",
       "    </tr>\n",
       "    <tr>\n",
       "      <th>KKD023N</th>\n",
       "      <td>57</td>\n",
       "      <td>0</td>\n",
       "    </tr>\n",
       "    <tr>\n",
       "      <th>KKD024N</th>\n",
       "      <td>80</td>\n",
       "      <td>0</td>\n",
       "    </tr>\n",
       "  </tbody>\n",
       "</table>\n",
       "</div>"
      ],
      "text/plain": [
       "condition     CF    CO\n",
       "subject_ID            \n",
       "cc01p          0  1243\n",
       "cc02p          0   547\n",
       "cc04p          0  1120\n",
       "cc05p          0  1687\n",
       "cf019       1059     0\n",
       "dd09p          0  1592\n",
       "dd10p          0  2132\n",
       "dd39p          0   969\n",
       "dd49p          0  1062\n",
       "h18            0   685\n",
       "KKCFFT32N    450     0\n",
       "KKD019N      719     0\n",
       "KKD020N      501     0\n",
       "KKD022N      572     0\n",
       "KKD023N       57     0\n",
       "KKD024N       80     0"
      ]
     },
     "execution_count": 18,
     "metadata": {},
     "output_type": "execute_result"
    }
   ],
   "source": [
    "pd.crosstab(adata_csmc.obs.subject_ID, adata_csmc.obs.condition)"
   ]
  },
  {
   "cell_type": "markdown",
   "metadata": {},
   "source": [
    "# Subset data"
   ]
  },
  {
   "cell_type": "code",
   "execution_count": 19,
   "metadata": {},
   "outputs": [],
   "source": [
    "gene_set = pd.read_csv('genes_for_mapping.csv')"
   ]
  },
  {
   "cell_type": "code",
   "execution_count": 20,
   "metadata": {},
   "outputs": [
    {
     "name": "stdout",
     "output_type": "stream",
     "text": [
      "/mnt/znas/icb_zstore01/groups/ml01/workspace/hlca_lisa.sikkema_malte.luecken/scripts\n"
     ]
    }
   ],
   "source": [
    "cd ../scripts"
   ]
  },
  {
   "cell_type": "code",
   "execution_count": 21,
   "metadata": {},
   "outputs": [],
   "source": [
    "import preprocessing as pp"
   ]
  },
  {
   "cell_type": "code",
   "execution_count": 22,
   "metadata": {},
   "outputs": [
    {
     "name": "stdout",
     "output_type": "stream",
     "text": [
      "/mnt/znas/icb_zstore01/groups/ml01/workspace/hlca_lisa.sikkema_malte.luecken/query_datasets\n"
     ]
    }
   ],
   "source": [
    "cd ../query_datasets/"
   ]
  },
  {
   "cell_type": "code",
   "execution_count": 23,
   "metadata": {},
   "outputs": [
    {
     "name": "stderr",
     "output_type": "stream",
     "text": [
      "/home/icb/malte.luecken/anaconda3/lib/python3.7/site-packages/pandas/core/arrays/categorical.py:2492: FutureWarning: The `inplace` parameter in pandas.Categorical.remove_unused_categories is deprecated and will be removed in a future version.\n",
      "  res = method(*args, **kwargs)\n"
     ]
    },
    {
     "name": "stdout",
     "output_type": "stream",
     "text": [
      "not all genes were recovered, filling in 0 counts for 40 missing genes...\n",
      "not all genes were recovered, filling in 0 counts for 40 missing genes...\n",
      "not all genes were recovered, filling in 0 counts for 40 missing genes...\n"
     ]
    }
   ],
   "source": [
    "adata_ucla_sub = pp.subset_and_pad_adata(gene_set, adata_ucla)\n",
    "adata_cff_sub = pp.subset_and_pad_adata(gene_set, adata_cff)\n",
    "adata_csmc_sub = pp.subset_and_pad_adata(gene_set, adata_csmc)"
   ]
  },
  {
   "cell_type": "code",
   "execution_count": 24,
   "metadata": {},
   "outputs": [
    {
     "data": {
      "text/plain": [
       "AnnData object with n_obs × n_vars = 19239 × 2000\n",
       "    obs: 'subject_ID', 'dataset', 'condition', 'mutation', 'original_celltype_ann', 'study', 'sample'\n",
       "    var: 'gene_symbols', 'ensembl'"
      ]
     },
     "execution_count": 24,
     "metadata": {},
     "output_type": "execute_result"
    },
    {
     "data": {
      "text/plain": [
       "AnnData object with n_obs × n_vars = 6995 × 2000\n",
       "    obs: 'subject_ID', 'dataset', 'condition', 'mutation', 'original_celltype_ann', 'study', 'sample'\n",
       "    var: 'gene_symbols', 'ensembl'"
      ]
     },
     "execution_count": 24,
     "metadata": {},
     "output_type": "execute_result"
    },
    {
     "data": {
      "text/plain": [
       "AnnData object with n_obs × n_vars = 14475 × 2000\n",
       "    obs: 'subject_ID', 'dataset', 'condition', 'mutation', 'original_celltype_ann', 'study', 'sample'\n",
       "    var: 'gene_symbols', 'ensembl'"
      ]
     },
     "execution_count": 24,
     "metadata": {},
     "output_type": "execute_result"
    }
   ],
   "source": [
    "adata_ucla_sub\n",
    "adata_cff_sub\n",
    "adata_csmc_sub"
   ]
  },
  {
   "cell_type": "code",
   "execution_count": 25,
   "metadata": {},
   "outputs": [
    {
     "name": "stderr",
     "output_type": "stream",
     "text": [
      "... storing 'gene_symbols' as categorical\n",
      "... storing 'gene_symbols' as categorical\n",
      "... storing 'gene_symbols' as categorical\n"
     ]
    }
   ],
   "source": [
    "adata_ucla_sub.write(os.path.join(dir_data_out 'carraro_ucla_sub.h5ad'))\n",
    "adata_cff_sub.write(os.path.join(dir_data_out, 'carraro_cff_sub.h5ad'))\n",
    "adata_csmc_sub.write(os.path.join(dir_data_out, 'carraro_csmc_sub.h5ad'))"
   ]
  },
  {
   "cell_type": "code",
   "execution_count": null,
   "metadata": {},
   "outputs": [],
   "source": []
  }
 ],
 "metadata": {
  "kernelspec": {
   "display_name": "Python 3",
   "language": "python",
   "name": "python3"
  },
  "language_info": {
   "codemirror_mode": {
    "name": "ipython",
    "version": 3
   },
   "file_extension": ".py",
   "mimetype": "text/x-python",
   "name": "python",
   "nbconvert_exporter": "python",
   "pygments_lexer": "ipython3",
   "version": "3.7.5"
  }
 },
 "nbformat": 4,
 "nbformat_minor": 5
}
