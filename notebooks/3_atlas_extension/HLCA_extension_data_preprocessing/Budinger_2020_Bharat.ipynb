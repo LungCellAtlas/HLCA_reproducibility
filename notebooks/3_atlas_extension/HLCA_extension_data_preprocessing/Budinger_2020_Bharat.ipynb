{
 "cells": [
  {
   "cell_type": "markdown",
   "metadata": {},
   "source": [
    "### This script does the preparation of Budinger_2020/Bharat\n",
    "\n",
    "The original dataset is at \n",
    "`../../../../../../datasets/projects/20210309_Saliba_covidFibrosis_ignacio.ibarra_malte.luecken/bharat_et_al_full.h5ad`\n",
    "It was used for Wendisch et al. Here Malte/Nacho are refining it to be used in the HLCA"
   ]
  },
  {
   "cell_type": "code",
   "execution_count": 318,
   "metadata": {},
   "outputs": [],
   "source": [
    "import scanpy as sc"
   ]
  },
  {
   "cell_type": "code",
   "execution_count": null,
   "metadata": {},
   "outputs": [],
   "source": [
    "ad = sc.read_h5ad('bharat_et_al_full.h5ad')"
   ]
  },
  {
   "cell_type": "code",
   "execution_count": null,
   "metadata": {},
   "outputs": [],
   "source": [
    "ad.shape"
   ]
  },
  {
   "cell_type": "code",
   "execution_count": null,
   "metadata": {},
   "outputs": [],
   "source": [
    "ad"
   ]
  },
  {
   "cell_type": "code",
   "execution_count": null,
   "metadata": {},
   "outputs": [],
   "source": [
    "ad.obs_names = list(ad.obs['Unnamed: 0'])\n",
    "# ad.obs"
   ]
  },
  {
   "cell_type": "code",
   "execution_count": null,
   "metadata": {},
   "outputs": [],
   "source": [
    "# the numbers in ad.X are raw counts"
   ]
  },
  {
   "cell_type": "code",
   "execution_count": null,
   "metadata": {},
   "outputs": [],
   "source": [
    "ad.raw is None"
   ]
  },
  {
   "cell_type": "code",
   "execution_count": null,
   "metadata": {},
   "outputs": [],
   "source": [
    "# ad.to_df()['A1BG'].describe()"
   ]
  },
  {
   "cell_type": "code",
   "execution_count": null,
   "metadata": {},
   "outputs": [],
   "source": [
    "## check mito content quickly\n",
    "import matplotlib.pyplot as plt"
   ]
  },
  {
   "cell_type": "code",
   "execution_count": null,
   "metadata": {},
   "outputs": [],
   "source": [
    "ad.obs['% of mito genes'].describe()"
   ]
  },
  {
   "cell_type": "code",
   "execution_count": null,
   "metadata": {},
   "outputs": [],
   "source": [
    "ad.obs"
   ]
  },
  {
   "cell_type": "markdown",
   "metadata": {},
   "source": [
    "### Remove all HEALTHY cells (these are already in the atlas and for that reason readding them is redundant."
   ]
  },
  {
   "cell_type": "code",
   "execution_count": null,
   "metadata": {},
   "outputs": [],
   "source": [
    "ad.obs['orig.ident'].value_counts().shape"
   ]
  },
  {
   "cell_type": "code",
   "execution_count": null,
   "metadata": {},
   "outputs": [],
   "source": [
    "ad = ad[ad.obs['Sample Status'] != 'Control',:]\n",
    "ad.obs['Sample Status'] = 'COVID-19"
   ]
  },
  {
   "cell_type": "code",
   "execution_count": null,
   "metadata": {},
   "outputs": [],
   "source": [
    "plt.hist(ad.obs['% of mito genes'], bins=20)"
   ]
  },
  {
   "cell_type": "code",
   "execution_count": null,
   "metadata": {},
   "outputs": [],
   "source": [
    "filter_mt = False\n",
    "if filter_mt:\n",
    "    mt_thr = 20\n",
    "    print('# before', ad.shape)\n",
    "    ad = ad[ad.obs['% of mito genes'] < mt_thr,:]\n",
    "    print('# after', ad.shape)"
   ]
  },
  {
   "cell_type": "code",
   "execution_count": null,
   "metadata": {},
   "outputs": [],
   "source": [
    "plt.hist(ad.obs['% of mito genes'], bins=20)"
   ]
  },
  {
   "cell_type": "markdown",
   "metadata": {},
   "source": [
    "# Make object lightweight"
   ]
  },
  {
   "cell_type": "code",
   "execution_count": null,
   "metadata": {},
   "outputs": [],
   "source": [
    "del ad.uns\n",
    "del ad.obsm\n",
    "del ad.varm\n",
    "del ad.obsp"
   ]
  },
  {
   "cell_type": "markdown",
   "metadata": {},
   "source": [
    "# Clean adata.var\n"
   ]
  },
  {
   "cell_type": "code",
   "execution_count": null,
   "metadata": {},
   "outputs": [],
   "source": [
    "for c in ad.var.columns:\n",
    "    del ad.var[c]"
   ]
  },
  {
   "cell_type": "markdown",
   "metadata": {},
   "source": [
    "### I don't think this could divided into multiple samples. No clear batch, su assuming everything got sequenced together."
   ]
  },
  {
   "cell_type": "code",
   "execution_count": null,
   "metadata": {},
   "outputs": [],
   "source": [
    "ad.obs[['Sample Source', 'Sample Name', 'Sample Status', 'orig.ident']].value_counts()"
   ]
  },
  {
   "cell_type": "code",
   "execution_count": null,
   "metadata": {},
   "outputs": [],
   "source": [
    "ad.obs['dataset'] = 'Bundinger2021'\n",
    "ad.obs['study'] = 'Bundinger2021'\n",
    "ad.obs['original_celltype_ann'] = ad.obs['Cell Type']\n",
    "ad.obs['condition'] = ad.obs['Sample Status']\n",
    "ad.obs['subject_ID'] = ad.obs['Sample Name']\n",
    "ad.obs['sample'] = ad.obs['orig.ident']\n",
    "\n",
    "ad.obs = ad.obs[ad.obs.columns[-6:]]"
   ]
  },
  {
   "cell_type": "code",
   "execution_count": null,
   "metadata": {},
   "outputs": [],
   "source": [
    "# this is based on the paraphrasing of the manuscript info\n",
    "age_by_subject_ID = {'PMB 1': 53, 'PMB 2': 57, 'Case 1': 27}\n",
    "sex_by_subject_ID = {'PMB 1': 'M', 'PMB 2': 'F', 'Case 1': 'F'}\n",
    "ethn_by_subject_ID = {'PMB 1': None, 'PMB 2': None, 'Case 1': 'Latina'}\n",
    "bmi_by_subject_ID = {'PMB 1': None, 'PMB 2': None, 'Case 1': 25.2}"
   ]
  },
  {
   "cell_type": "code",
   "execution_count": null,
   "metadata": {},
   "outputs": [],
   "source": [
    "ad.obs['age'] = ad.obs['subject_ID'].map(age_by_subject_ID)\n",
    "ad.obs['sex'] = ad.obs['subject_ID'].map(sex_by_subject_ID)\n",
    "ad.obs['ethnicity'] = ad.obs['subject_ID'].map(ethn_by_subject_ID)\n",
    "ad.obs['bmi'] = ad.obs['subject_ID'].map(bmi_by_subject_ID)\n",
    "ad.obs"
   ]
  },
  {
   "cell_type": "code",
   "execution_count": null,
   "metadata": {},
   "outputs": [],
   "source": [
    "ad.obs['sample'].value_counts().shape"
   ]
  },
  {
   "cell_type": "code",
   "execution_count": null,
   "metadata": {},
   "outputs": [],
   "source": [
    "# subset to 2000 HVGs that Lisa uses"
   ]
  },
  {
   "cell_type": "code",
   "execution_count": null,
   "metadata": {},
   "outputs": [],
   "source": [
    "import pandas as pd\n",
    "gene_set = pd.read_csv('genes_for_mapping.csv')\n",
    "# gene_set = set(gene_set['gene_symbols'])"
   ]
  },
  {
   "cell_type": "code",
   "execution_count": null,
   "metadata": {},
   "outputs": [],
   "source": [
    "len(set(ad.var.index).intersection(gene_set['gene_symbols']))"
   ]
  },
  {
   "cell_type": "code",
   "execution_count": null,
   "metadata": {},
   "outputs": [],
   "source": [
    "import preprocessing as pp"
   ]
  },
  {
   "cell_type": "code",
   "execution_count": null,
   "metadata": {},
   "outputs": [],
   "source": [
    "ad_sub = pp.subset_and_pad_adata(gene_set, ad) "
   ]
  },
  {
   "cell_type": "code",
   "execution_count": null,
   "metadata": {},
   "outputs": [],
   "source": [
    "ad.shape, ad_sub.shape"
   ]
  },
  {
   "cell_type": "code",
   "execution_count": null,
   "metadata": {},
   "outputs": [],
   "source": [
    "ad.obs['subject_ID'].value_counts()"
   ]
  },
  {
   "cell_type": "markdown",
   "metadata": {},
   "source": [
    "### Write a full and subsetted version of h5ad"
   ]
  },
  {
   "cell_type": "code",
   "execution_count": null,
   "metadata": {},
   "outputs": [],
   "source": [
    "# Clean adata.var\n",
    "full_path = '../../../data/HLCA_extended/extension_datasets/ready/full/bharat.h5ad'\n",
    "ad.write(full_path, compression='lzf')\n"
   ]
  },
  {
   "cell_type": "code",
   "execution_count": null,
   "metadata": {},
   "outputs": [],
   "source": [
    "subsetted_path = '../../../data/HLCA_extended/extension_datasets/ready/subsetted/bharat_sub.h5ad'\n",
    "ad_sub.write(subsetted_path, compression='lzf')"
   ]
  },
  {
   "cell_type": "code",
   "execution_count": null,
   "metadata": {},
   "outputs": [],
   "source": [
    "ad.obs"
   ]
  },
  {
   "cell_type": "markdown",
   "metadata": {},
   "source": [
    "### Modify access to be checked"
   ]
  },
  {
   "cell_type": "code",
   "execution_count": null,
   "metadata": {},
   "outputs": [],
   "source": [
    "!chmod 777 $full_path\n",
    "!chmod 777 $subsetted_path"
   ]
  }
 ],
 "metadata": {
  "kernelspec": {
   "display_name": "Python 3",
   "language": "python",
   "name": "python3"
  },
  "language_info": {
   "codemirror_mode": {
    "name": "ipython",
    "version": 3
   },
   "file_extension": ".py",
   "mimetype": "text/x-python",
   "name": "python",
   "nbconvert_exporter": "python",
   "pygments_lexer": "ipython3",
   "version": "3.7.5"
  }
 },
 "nbformat": 4,
 "nbformat_minor": 4
}
