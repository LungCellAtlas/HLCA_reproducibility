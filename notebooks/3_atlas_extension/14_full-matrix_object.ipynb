{
 "cells": [
  {
   "cell_type": "markdown",
   "id": "b9afb6fa-49d3-4a0b-a576-5bc688ba3bcc",
   "metadata": {},
   "source": [
    "## Full matrix data object"
   ]
  },
  {
   "cell_type": "markdown",
   "id": "ca515c61-f403-4fa6-8d7f-21c21c1a5e67",
   "metadata": {},
   "source": [
    "We are now completing the whole object."
   ]
  },
  {
   "cell_type": "markdown",
   "id": "23de934c-c7db-4ce4-8d93-ca21f5214d70",
   "metadata": {},
   "source": [
    "__authors__ = [\"Ciro Ramírez-Suástegui\", \"Lisa Sikkema\"]\n",
    "\n",
    "__copyright__ = \"Copyright 2022-11-15, Helmholtz Zentrum Muenchen\"\n",
    "\n",
    "__license__ = \"GPL\"\n",
    "\n",
    "__version__ = \"0.0.9\"\n",
    "\n",
    "__email__ = \"ciro.suastegui@helmholtz-muenchen.de, lisa.sikkema@helmholtz-muenchen.de\"\n",
    "\n",
    "__status__ = \"Prototype\""
   ]
  },
  {
   "cell_type": "markdown",
   "id": "0a30d319-1970-44e5-9841-7896667cf7b1",
   "metadata": {},
   "source": [
    "#### Structure"
   ]
  },
  {
   "cell_type": "markdown",
   "id": "b3394972-1d67-4d84-bfa5-452a2aa7f097",
   "metadata": {},
   "source": [
    "* [Global variables and paths](#bullet1)\n",
    "* [Loading data](#bullet2)\n",
    "* [Pre-processing](#bullet3)\n",
    "* [Main](#bullet4)\n",
    "* [Conclusions](#bullet5)\n",
    "* [Save](#bullet6)"
   ]
  },
  {
   "cell_type": "markdown",
   "id": "57ae3e89-eb09-4c75-8d38-e34c6c6cdba9",
   "metadata": {},
   "source": [
    "### Environment setup"
   ]
  },
  {
   "cell_type": "code",
   "execution_count": 1,
   "id": "92b7de45-cbfc-43b6-922d-edb07e7fcfda",
   "metadata": {},
   "outputs": [],
   "source": [
    "%load_ext autoreload\n",
    "%autoreload 2\n",
    "import importlib\n",
    "\n",
    "spam_spec = importlib.util.find_spec(\"lab_black\")\n",
    "if spam_spec is not None:\n",
    "    %load_ext lab_black"
   ]
  },
  {
   "cell_type": "code",
   "execution_count": 2,
   "id": "888512b4-5a55-40b1-8f68-601d21f6e675",
   "metadata": {},
   "outputs": [],
   "source": [
    "# basic modules\n",
    "import warnings, os, re\n",
    "import time, sys, gc\n",
    "\n",
    "warnings.simplefilter(action=\"ignore\", category=FutureWarning)\n",
    "warnings.simplefilter(action=\"ignore\", category=UserWarning)"
   ]
  },
  {
   "cell_type": "code",
   "execution_count": 3,
   "id": "e1e45447-8db4-486d-b606-a2429ebe9c9b",
   "metadata": {},
   "outputs": [],
   "source": [
    "# in-house/developing modules\n",
    "# tools modules\n",
    "import scanpy as sc\n",
    "import matplotlib.pyplot as plt\n",
    "import numpy as np\n",
    "import pandas as pd\n",
    "import scipy.sparse as sp"
   ]
  },
  {
   "cell_type": "code",
   "execution_count": 4,
   "id": "07b160d6-c969-4015-b793-9571d2513e28",
   "metadata": {
    "scrolled": true,
    "tags": []
   },
   "outputs": [
    {
     "name": "stdout",
     "output_type": "stream",
     "text": [
      "-----\n",
      "anndata     0.8.0\n",
      "scanpy      1.9.1\n",
      "-----\n",
      "7b32b9a39ad70713acde__mypyc NA\n",
      "PIL                         9.2.0\n",
      "autoreload                  NA\n",
      "backcall                    0.2.0\n",
      "beta_ufunc                  NA\n",
      "binom_ufunc                 NA\n",
      "black                       22.6.0\n",
      "blib2to3                    NA\n",
      "cffi                        1.15.1\n",
      "click                       8.1.3\n",
      "cycler                      0.10.0\n",
      "cython_runtime              NA\n",
      "dateutil                    2.8.2\n",
      "debugpy                     1.5.1\n",
      "decorator                   5.1.1\n",
      "defusedxml                  0.7.1\n",
      "entrypoints                 0.4\n",
      "h5py                        3.7.0\n",
      "igraph                      0.9.11\n",
      "ipykernel                   6.15.2\n",
      "ipython_genutils            0.2.0\n",
      "jedi                        0.18.2\n",
      "joblib                      1.1.0\n",
      "jupyter_server              1.23.4\n",
      "kiwisolver                  1.4.4\n",
      "lab_black                   NA\n",
      "leidenalg                   0.8.10\n",
      "llvmlite                    0.39.0\n",
      "matplotlib                  3.5.2\n",
      "mpl_toolkits                NA\n",
      "mypy_extensions             NA\n",
      "natsort                     8.1.0\n",
      "nbinom_ufunc                NA\n",
      "numba                       0.56.0\n",
      "numpy                       1.21.6\n",
      "packaging                   23.0\n",
      "pandas                      1.3.5\n",
      "parso                       0.8.3\n",
      "pathspec                    0.9.0\n",
      "pexpect                     4.8.0\n",
      "pickleshare                 0.7.5\n",
      "pkg_resources               NA\n",
      "platformdirs                2.5.2\n",
      "prompt_toolkit              3.0.36\n",
      "psutil                      5.9.0\n",
      "ptyprocess                  0.7.0\n",
      "pydev_ipython               NA\n",
      "pydevconsole                NA\n",
      "pydevd                      2.6.0\n",
      "pydevd_concurrency_analyser NA\n",
      "pydevd_file_utils           NA\n",
      "pydevd_plugins              NA\n",
      "pydevd_tracing              NA\n",
      "pygments                    2.14.0\n",
      "pyparsing                   3.0.9\n",
      "pytz                        2022.7.1\n",
      "scipy                       1.7.3\n",
      "session_info                1.0.0\n",
      "setuptools                  65.5.0\n",
      "six                         1.16.0\n",
      "sklearn                     1.0.2\n",
      "storemagic                  NA\n",
      "texttable                   1.6.4\n",
      "threadpoolctl               3.1.0\n",
      "tomli                       2.0.1\n",
      "tornado                     6.1\n",
      "traitlets                   5.8.1\n",
      "typed_ast                   1.5.4\n",
      "typing_extensions           NA\n",
      "wcwidth                     0.2.6\n",
      "zipp                        NA\n",
      "zmq                         19.0.2\n",
      "-----\n",
      "IPython             7.33.0\n",
      "jupyter_client      7.0.6\n",
      "jupyter_core        4.11.1\n",
      "jupyterlab          3.5.3\n",
      "notebook            6.5.2\n",
      "-----\n",
      "Python 3.7.13 (default, Mar 29 2022, 02:18:16) [GCC 7.5.0]\n",
      "Linux-3.10.0-1160.25.1.el7.x86_64-x86_64-with-centos-7.9.2009-Core\n",
      "-----\n",
      "Session information updated at 2023-02-24 14:45\n"
     ]
    }
   ],
   "source": [
    "sc.logging.print_versions()"
   ]
  },
  {
   "cell_type": "code",
   "execution_count": 5,
   "id": "f09732e7-b743-4311-8c85-b1e8f3989dc0",
   "metadata": {},
   "outputs": [
    {
     "name": "stdout",
     "output_type": "stream",
     "text": [
      "Environment: /home/icb/ciro.suastegui/miniconda3/envs/HLCA_basic/lib/python3.7\n",
      "Working at: /notebooks/3_atlas_extension\n"
     ]
    }
   ],
   "source": [
    "print(\"Environment:\", re.sub(\".os.py\", \"\", os.__file__))\n",
    "parentpath = lambda _path, n: os.sep.join(_path.split(os.sep)[:-n])\n",
    "print(\"Working at:\", re.sub(parentpath(os.getcwd(), 2), \"\", os.getcwd()))"
   ]
  },
  {
   "cell_type": "markdown",
   "id": "639f761f-18f8-43b5-9126-0eb61551823e",
   "metadata": {},
   "source": [
    "### Global variables and paths <a class=\"anchor\" id=\"bullet1\"></a>"
   ]
  },
  {
   "cell_type": "markdown",
   "id": "95eaae49-ac65-4a80-b971-873be5018499",
   "metadata": {},
   "source": [
    "#### Inputs"
   ]
  },
  {
   "cell_type": "code",
   "execution_count": 6,
   "id": "79728285-f306-4d59-96e5-0ad117efb13b",
   "metadata": {},
   "outputs": [],
   "source": [
    "# .layers: counts\n",
    "cdata_inp = \"../../data/HLCA_extended/HLCA_extended/HLCA_extended_full_raw.h5ad\"\n",
    "# .layers: soupXed\n",
    "sdata_inp = \"../../data/HLCA_extended/HLCA_extended/HLCA_extended_full.h5ad\"\n",
    "# .var\n",
    "gname_inp = (\n",
    "    \"../../data/HLCA_extended/extension_datasets/features/all_update_table_flat.csv\"\n",
    ")\n",
    "# uns: 'neighbors'\n",
    "# obsm: 'X_umap'\n",
    "# obsp: 'connectivities', 'distances'\n",
    "# obsm: 'X_scanvi_emb' is in .X\n",
    "embed_inp = \"../../data/HLCA_extended/HLCA_extended/HLCA_extended_scarches_emb.h5ad\""
   ]
  },
  {
   "cell_type": "markdown",
   "id": "0af31a0f-c145-4eb1-b355-232b21c2594e",
   "metadata": {},
   "source": [
    "#### Output"
   ]
  },
  {
   "cell_type": "code",
   "execution_count": 7,
   "id": "406da3d2-8587-41cd-8122-675f37d167b2",
   "metadata": {},
   "outputs": [],
   "source": [
    "adata_out = \"../../data/HLCA_extended/HLCA_extended/HLCA_extended_full_object.h5ad\""
   ]
  },
  {
   "cell_type": "markdown",
   "id": "8fcd0201-3c7d-4b6e-a820-a4a5f8030c1c",
   "metadata": {},
   "source": [
    "### Loading data <a class=\"anchor\" id=\"bullet2\"></a>"
   ]
  },
  {
   "cell_type": "code",
   "execution_count": 8,
   "id": "9c59dae8-ee84-425f-8f42-fb2488fa8547",
   "metadata": {},
   "outputs": [
    {
     "name": "stdout",
     "output_type": "stream",
     "text": [
      "CPU times: user 6.9 s, sys: 5.58 s, total: 12.5 s\n",
      "Wall time: 24.6 s\n"
     ]
    }
   ],
   "source": [
    "%%time\n",
    "sdata = sc.read(sdata_inp, backed='r')"
   ]
  },
  {
   "cell_type": "code",
   "execution_count": 9,
   "id": "a8269be4-3471-4341-a8d0-c2c186a06aea",
   "metadata": {},
   "outputs": [
    {
     "data": {
      "text/plain": [
       "AnnData object with n_obs × n_vars = 2382658 × 59586 backed at '../../data/HLCA_extended/HLCA_extended/HLCA_extended_full.h5ad'\n",
       "    obs: 'sample', 'original_celltype_ann', 'study_long', 'study', 'last_author_PI', 'subject_ID', 'subject_ID_as_published', 'pre_or_postnatal', 'age_in_years', 'age_range', 'sex', 'smoking_status', 'smoking_history', 'BMI', 'known_lung_disease', 'condition', 'subject_type', 'cause_of_death', 'sample_type', 'anatomical_region_coarse', 'anatomical_region_detailed', 'tissue_dissociation_protocol', 'cells_or_nuclei', 'single_cell_platform', \"3'_or_5'\", 'enrichment', 'sequencing_platform', 'reference_genome_coarse', 'ensembl_release_reference_genome', 'cell_ranger_version', 'disease_status', 'fresh_or_frozen', 'cultured', 'cell_viability_%', 'comments', 'Processing_site', 'dataset', 'anatomical_region_level_1', 'anatomical_region_level_2', 'anatomical_region_level_3', 'anatomical_region_highest_res', 'age', 'ann_level_1', 'ann_level_2', 'ann_level_3', 'ann_level_4', 'ann_level_5', 'ann_highest_res', 'ann_new', 'n_genes', 'total_counts', 'log10_total_counts', 'n_genes_detected', 'mito_frac', 'ribo_frac', 'compl', 'size_factors', 'ann_level_1_clean', 'ann_level_2_clean', 'ann_level_3_clean', 'ann_level_4_clean', 'ann_level_5_clean', 'scanvi_label', 'leiden_1', 'leiden_2', 'leiden_3', 'anatomical_region_ccf_score', 'manual_ann', 'leiden_4', 'reannotation_type', 'leiden_5', 'original_ann_level_1', 'original_ann_level_2', 'original_ann_level_3', 'original_ann_level_4', 'original_ann_level_5', 'original_ann_highest_res', 'original_ann_new', 'original_ann_level_1_clean', 'original_ann_level_2_clean', 'original_ann_level_3_clean', 'original_ann_level_4_clean', 'original_ann_level_5_clean', 'cluster_annotated', 'manual_ann_grouped', 'entropy_subject_ID_leiden_3', 'entropy_dataset_leiden_3', 'entropy_original_ann_level_1_leiden_3', 'entropy_original_ann_level_2_clean_leiden_3', 'entropy_original_ann_level_3_clean_leiden_3', 'core_or_extension', 'ancestry', 'mixed_ancestry', 'transf_ann_level_1_label', 'transf_ann_level_1_uncert', 'transf_ann_level_2_label', 'transf_ann_level_2_uncert', 'transf_ann_level_3_label', 'transf_ann_level_3_uncert', 'transf_ann_level_4_label', 'transf_ann_level_4_uncert', 'transf_ann_level_5_label', 'transf_ann_level_5_uncert', 'cellname_original'"
      ]
     },
     "execution_count": 9,
     "metadata": {},
     "output_type": "execute_result"
    }
   ],
   "source": [
    "sdata"
   ]
  },
  {
   "cell_type": "code",
   "execution_count": 10,
   "id": "1a009c30-8787-44f5-be9e-4e892ee94756",
   "metadata": {},
   "outputs": [
    {
     "name": "stdout",
     "output_type": "stream",
     "text": [
      "CPU times: user 7.05 s, sys: 4.31 s, total: 11.4 s\n",
      "Wall time: 18.2 s\n"
     ]
    }
   ],
   "source": [
    "%%time\n",
    "cdata = sc.read(cdata_inp, backed='r')"
   ]
  },
  {
   "cell_type": "code",
   "execution_count": 11,
   "id": "3bd3dc19-77de-4371-acab-4f2b0cafa76e",
   "metadata": {},
   "outputs": [
    {
     "data": {
      "text/plain": [
       "AnnData object with n_obs × n_vars = 2382658 × 59586 backed at '../../data/HLCA_extended/HLCA_extended/HLCA_extended_full_raw.h5ad'\n",
       "    obs: 'sample', 'original_celltype_ann', 'study_long', 'study', 'last_author_PI', 'subject_ID', 'subject_ID_as_published', 'pre_or_postnatal', 'age_in_years', 'age_range', 'sex', 'smoking_status', 'smoking_history', 'BMI', 'known_lung_disease', 'condition', 'subject_type', 'cause_of_death', 'sample_type', 'anatomical_region_coarse', 'anatomical_region_detailed', 'tissue_dissociation_protocol', 'cells_or_nuclei', 'single_cell_platform', \"3'_or_5'\", 'enrichment', 'sequencing_platform', 'reference_genome_coarse', 'ensembl_release_reference_genome', 'cell_ranger_version', 'disease_status', 'fresh_or_frozen', 'cultured', 'cell_viability_%', 'comments', 'Processing_site', 'dataset', 'anatomical_region_level_1', 'anatomical_region_level_2', 'anatomical_region_level_3', 'anatomical_region_highest_res', 'age', 'ann_level_1', 'ann_level_2', 'ann_level_3', 'ann_level_4', 'ann_level_5', 'ann_highest_res', 'ann_new', 'n_genes', 'total_counts', 'log10_total_counts', 'n_genes_detected', 'mito_frac', 'ribo_frac', 'compl', 'size_factors', 'ann_level_1_clean', 'ann_level_2_clean', 'ann_level_3_clean', 'ann_level_4_clean', 'ann_level_5_clean', 'scanvi_label', 'leiden_1', 'leiden_2', 'leiden_3', 'anatomical_region_ccf_score', 'manual_ann', 'leiden_4', 'reannotation_type', 'leiden_5', 'original_ann_level_1', 'original_ann_level_2', 'original_ann_level_3', 'original_ann_level_4', 'original_ann_level_5', 'original_ann_highest_res', 'original_ann_new', 'original_ann_level_1_clean', 'original_ann_level_2_clean', 'original_ann_level_3_clean', 'original_ann_level_4_clean', 'original_ann_level_5_clean', 'cluster_annotated', 'manual_ann_grouped', 'entropy_subject_ID_leiden_3', 'entropy_dataset_leiden_3', 'entropy_original_ann_level_1_leiden_3', 'entropy_original_ann_level_2_clean_leiden_3', 'entropy_original_ann_level_3_clean_leiden_3', 'core_or_extension', 'ancestry', 'mixed_ancestry', 'transf_ann_level_1_label', 'transf_ann_level_1_uncert', 'transf_ann_level_2_label', 'transf_ann_level_2_uncert', 'transf_ann_level_3_label', 'transf_ann_level_3_uncert', 'transf_ann_level_4_label', 'transf_ann_level_4_uncert', 'transf_ann_level_5_label', 'transf_ann_level_5_uncert', 'cellname_original'"
      ]
     },
     "execution_count": 11,
     "metadata": {},
     "output_type": "execute_result"
    }
   ],
   "source": [
    "cdata"
   ]
  },
  {
   "cell_type": "code",
   "execution_count": 12,
   "id": "57561fcb-72fd-403b-9e7e-6627070f1006",
   "metadata": {},
   "outputs": [
    {
     "name": "stdout",
     "output_type": "stream",
     "text": [
      "CPU times: user 4.56 s, sys: 5.83 s, total: 10.4 s\n",
      "Wall time: 12.6 s\n"
     ]
    }
   ],
   "source": [
    "%%time\n",
    "embed = sc.read(embed_inp)"
   ]
  },
  {
   "cell_type": "code",
   "execution_count": 13,
   "id": "cc5e9d0a-0a43-48a3-a3af-3abe6bb8d792",
   "metadata": {},
   "outputs": [
    {
     "data": {
      "text/plain": [
       "AnnData object with n_obs × n_vars = 2382658 × 30\n",
       "    obs: 'sample', 'original_celltype_ann', 'study_long', 'study', 'last_author_PI', 'subject_ID', 'subject_ID_as_published', 'pre_or_postnatal', 'age_in_years', 'age_range', 'sex', 'smoking_status', 'smoking_history', 'BMI', 'known_lung_disease', 'condition', 'subject_type', 'cause_of_death', 'sample_type', 'anatomical_region_coarse', 'anatomical_region_detailed', 'tissue_dissociation_protocol', 'cells_or_nuclei', 'single_cell_platform', \"3'_or_5'\", 'enrichment', 'sequencing_platform', 'reference_genome_coarse', 'ensembl_release_reference_genome', 'cell_ranger_version', 'disease_status', 'fresh_or_frozen', 'cultured', 'cell_viability_%', 'comments', 'Processing_site', 'dataset', 'anatomical_region_level_1', 'anatomical_region_level_2', 'anatomical_region_level_3', 'anatomical_region_highest_res', 'age', 'ann_level_1', 'ann_level_2', 'ann_level_3', 'ann_level_4', 'ann_level_5', 'ann_highest_res', 'ann_new', 'n_genes', 'total_counts', 'log10_total_counts', 'n_genes_detected', 'mito_frac', 'ribo_frac', 'compl', 'size_factors', 'ann_level_1_clean', 'ann_level_2_clean', 'ann_level_3_clean', 'ann_level_4_clean', 'ann_level_5_clean', 'scanvi_label', 'leiden_1', 'leiden_2', 'leiden_3', 'anatomical_region_ccf_score', 'manual_ann', 'leiden_4', 'reannotation_type', 'leiden_5', 'original_ann_level_1', 'original_ann_level_2', 'original_ann_level_3', 'original_ann_level_4', 'original_ann_level_5', 'original_ann_highest_res', 'original_ann_new', 'original_ann_level_1_clean', 'original_ann_level_2_clean', 'original_ann_level_3_clean', 'original_ann_level_4_clean', 'original_ann_level_5_clean', 'cluster_annotated', 'manual_ann_grouped', 'entropy_subject_ID_leiden_3', 'entropy_dataset_leiden_3', 'entropy_original_ann_level_1_leiden_3', 'entropy_original_ann_level_2_clean_leiden_3', 'entropy_original_ann_level_3_clean_leiden_3', 'core_or_extension', 'ancestry', 'mixed_ancestry', 'transf_ann_level_1_label', 'transf_ann_level_1_uncert', 'transf_ann_level_2_label', 'transf_ann_level_2_uncert', 'transf_ann_level_3_label', 'transf_ann_level_3_uncert', 'transf_ann_level_4_label', 'transf_ann_level_4_uncert', 'transf_ann_level_5_label', 'transf_ann_level_5_uncert'\n",
       "    uns: 'ann_level_3_colors', 'manual_ann_colors', 'neighbors', 'transf_ann_level_3_label_colors', 'umap'\n",
       "    obsm: 'X_umap'\n",
       "    obsp: 'connectivities', 'distances'"
      ]
     },
     "execution_count": 13,
     "metadata": {},
     "output_type": "execute_result"
    }
   ],
   "source": [
    "embed"
   ]
  },
  {
   "cell_type": "code",
   "execution_count": 14,
   "id": "f1b80ecf-da83-4789-8453-9657665f1442",
   "metadata": {},
   "outputs": [],
   "source": [
    "gname = pd.read_csv(gname_inp, index_col=0)"
   ]
  },
  {
   "cell_type": "code",
   "execution_count": 15,
   "id": "dadc7df2-a72a-41c6-8e7c-cdc8a6711793",
   "metadata": {},
   "outputs": [
    {
     "data": {
      "text/html": [
       "<div>\n",
       "<style scoped>\n",
       "    .dataframe tbody tr th:only-of-type {\n",
       "        vertical-align: middle;\n",
       "    }\n",
       "\n",
       "    .dataframe tbody tr th {\n",
       "        vertical-align: top;\n",
       "    }\n",
       "\n",
       "    .dataframe thead th {\n",
       "        text-align: right;\n",
       "    }\n",
       "</style>\n",
       "<table border=\"1\" class=\"dataframe\">\n",
       "  <thead>\n",
       "    <tr style=\"text-align: right;\">\n",
       "      <th></th>\n",
       "      <th>original</th>\n",
       "      <th>symbol_type</th>\n",
       "      <th>ensembl_id</th>\n",
       "      <th>new</th>\n",
       "      <th>repeat</th>\n",
       "      <th>study</th>\n",
       "    </tr>\n",
       "  </thead>\n",
       "  <tbody>\n",
       "    <tr>\n",
       "      <th>0</th>\n",
       "      <td>TSPAN6</td>\n",
       "      <td>last_node</td>\n",
       "      <td>ENSG00000000003.15</td>\n",
       "      <td>TSPAN6</td>\n",
       "      <td>False</td>\n",
       "      <td>Kaminski_2020</td>\n",
       "    </tr>\n",
       "    <tr>\n",
       "      <th>1</th>\n",
       "      <td>TNMD</td>\n",
       "      <td>last_node</td>\n",
       "      <td>ENSG00000000005.6</td>\n",
       "      <td>TNMD</td>\n",
       "      <td>False</td>\n",
       "      <td>Kaminski_2020</td>\n",
       "    </tr>\n",
       "    <tr>\n",
       "      <th>2</th>\n",
       "      <td>DPM1</td>\n",
       "      <td>last_node</td>\n",
       "      <td>ENSG00000000419.14</td>\n",
       "      <td>DPM1</td>\n",
       "      <td>False</td>\n",
       "      <td>Kaminski_2020</td>\n",
       "    </tr>\n",
       "    <tr>\n",
       "      <th>3</th>\n",
       "      <td>SCYL3</td>\n",
       "      <td>last_node</td>\n",
       "      <td>ENSG00000000457.14</td>\n",
       "      <td>SCYL3</td>\n",
       "      <td>False</td>\n",
       "      <td>Kaminski_2020</td>\n",
       "    </tr>\n",
       "    <tr>\n",
       "      <th>4</th>\n",
       "      <td>C1orf112</td>\n",
       "      <td>last_node</td>\n",
       "      <td>ENSG00000000460.17</td>\n",
       "      <td>C1ORF112</td>\n",
       "      <td>False</td>\n",
       "      <td>Kaminski_2020</td>\n",
       "    </tr>\n",
       "    <tr>\n",
       "      <th>...</th>\n",
       "      <td>...</td>\n",
       "      <td>...</td>\n",
       "      <td>...</td>\n",
       "      <td>...</td>\n",
       "      <td>...</td>\n",
       "      <td>...</td>\n",
       "    </tr>\n",
       "    <tr>\n",
       "      <th>810964</th>\n",
       "      <td>ZYG11A</td>\n",
       "      <td>last_node</td>\n",
       "      <td>ENSG00000203995.10</td>\n",
       "      <td>ZYG11A</td>\n",
       "      <td>False</td>\n",
       "      <td>Meyer_Nikolic_2022</td>\n",
       "    </tr>\n",
       "    <tr>\n",
       "      <th>810965</th>\n",
       "      <td>ZYG11B</td>\n",
       "      <td>last_node</td>\n",
       "      <td>ENSG00000162378.13</td>\n",
       "      <td>ZYG11B</td>\n",
       "      <td>False</td>\n",
       "      <td>Meyer_Nikolic_2022</td>\n",
       "    </tr>\n",
       "    <tr>\n",
       "      <th>810966</th>\n",
       "      <td>ZYX</td>\n",
       "      <td>last_node</td>\n",
       "      <td>ENSG00000285443.2</td>\n",
       "      <td>ZYX</td>\n",
       "      <td>False</td>\n",
       "      <td>Meyer_Nikolic_2022</td>\n",
       "    </tr>\n",
       "    <tr>\n",
       "      <th>810967</th>\n",
       "      <td>ZZEF1</td>\n",
       "      <td>last_node</td>\n",
       "      <td>ENSG00000074755.15</td>\n",
       "      <td>ZZEF1</td>\n",
       "      <td>False</td>\n",
       "      <td>Meyer_Nikolic_2022</td>\n",
       "    </tr>\n",
       "    <tr>\n",
       "      <th>810968</th>\n",
       "      <td>hsa-mir-1253</td>\n",
       "      <td>query_id</td>\n",
       "      <td>NaN</td>\n",
       "      <td>hsa-mir-1253</td>\n",
       "      <td>False</td>\n",
       "      <td>Meyer_Nikolic_2022</td>\n",
       "    </tr>\n",
       "  </tbody>\n",
       "</table>\n",
       "<p>810969 rows × 6 columns</p>\n",
       "</div>"
      ],
      "text/plain": [
       "            original symbol_type          ensembl_id           new  repeat  \\\n",
       "0             TSPAN6   last_node  ENSG00000000003.15        TSPAN6   False   \n",
       "1               TNMD   last_node   ENSG00000000005.6          TNMD   False   \n",
       "2               DPM1   last_node  ENSG00000000419.14          DPM1   False   \n",
       "3              SCYL3   last_node  ENSG00000000457.14         SCYL3   False   \n",
       "4           C1orf112   last_node  ENSG00000000460.17      C1ORF112   False   \n",
       "...              ...         ...                 ...           ...     ...   \n",
       "810964        ZYG11A   last_node  ENSG00000203995.10        ZYG11A   False   \n",
       "810965        ZYG11B   last_node  ENSG00000162378.13        ZYG11B   False   \n",
       "810966           ZYX   last_node   ENSG00000285443.2           ZYX   False   \n",
       "810967         ZZEF1   last_node  ENSG00000074755.15         ZZEF1   False   \n",
       "810968  hsa-mir-1253    query_id                 NaN  hsa-mir-1253   False   \n",
       "\n",
       "                     study  \n",
       "0            Kaminski_2020  \n",
       "1            Kaminski_2020  \n",
       "2            Kaminski_2020  \n",
       "3            Kaminski_2020  \n",
       "4            Kaminski_2020  \n",
       "...                    ...  \n",
       "810964  Meyer_Nikolic_2022  \n",
       "810965  Meyer_Nikolic_2022  \n",
       "810966  Meyer_Nikolic_2022  \n",
       "810967  Meyer_Nikolic_2022  \n",
       "810968  Meyer_Nikolic_2022  \n",
       "\n",
       "[810969 rows x 6 columns]"
      ]
     },
     "execution_count": 15,
     "metadata": {},
     "output_type": "execute_result"
    }
   ],
   "source": [
    "gname"
   ]
  },
  {
   "cell_type": "markdown",
   "id": "fd5f9459-1ed5-4306-98aa-4a259ed11a6e",
   "metadata": {},
   "source": [
    "### Pre-processing <a class=\"anchor\" id=\"bullet3\"></a>"
   ]
  },
  {
   "cell_type": "markdown",
   "id": "39280836-b117-405f-806a-5592bc16a66a",
   "metadata": {},
   "source": [
    "#### Setting up features' metadata"
   ]
  },
  {
   "cell_type": "code",
   "execution_count": 16,
   "id": "61032d5c-7f5c-4285-9527-253f1ba90ecc",
   "metadata": {},
   "outputs": [
    {
     "name": "stdout",
     "output_type": "stream",
     "text": [
      "CPU times: user 4.72 s, sys: 46.2 ms, total: 4.76 s\n",
      "Wall time: 4.89 s\n"
     ]
    }
   ],
   "source": [
    "%%time\n",
    "gname[\"original_aggr\"] = gname.groupby([\"new\"])[\"original\"].transform(\n",
    "    lambda x: \";\".join(list(set(x)))\n",
    ")"
   ]
  },
  {
   "cell_type": "code",
   "execution_count": 17,
   "id": "1dffd603-09c7-4db6-bc40-eb8b75664cba",
   "metadata": {},
   "outputs": [],
   "source": [
    "df = gname.copy()\n",
    "df = df.loc[:, [\"original_aggr\", \"ensembl_id\", \"new\"]]"
   ]
  },
  {
   "cell_type": "code",
   "execution_count": 18,
   "id": "b9145eeb-f7d2-43ea-a80f-85cf91922263",
   "metadata": {},
   "outputs": [
    {
     "data": {
      "text/html": [
       "<div>\n",
       "<style scoped>\n",
       "    .dataframe tbody tr th:only-of-type {\n",
       "        vertical-align: middle;\n",
       "    }\n",
       "\n",
       "    .dataframe tbody tr th {\n",
       "        vertical-align: top;\n",
       "    }\n",
       "\n",
       "    .dataframe thead th {\n",
       "        text-align: right;\n",
       "    }\n",
       "</style>\n",
       "<table border=\"1\" class=\"dataframe\">\n",
       "  <thead>\n",
       "    <tr style=\"text-align: right;\">\n",
       "      <th></th>\n",
       "      <th>original_aggr</th>\n",
       "      <th>ensembl_id</th>\n",
       "    </tr>\n",
       "    <tr>\n",
       "      <th>new</th>\n",
       "      <th></th>\n",
       "      <th></th>\n",
       "    </tr>\n",
       "  </thead>\n",
       "  <tbody>\n",
       "    <tr>\n",
       "      <th>TSPAN6</th>\n",
       "      <td>TSPAN6</td>\n",
       "      <td>ENSG00000000003.15</td>\n",
       "    </tr>\n",
       "    <tr>\n",
       "      <th>TNMD</th>\n",
       "      <td>TNMD</td>\n",
       "      <td>ENSG00000000005.6</td>\n",
       "    </tr>\n",
       "    <tr>\n",
       "      <th>DPM1</th>\n",
       "      <td>DPM1</td>\n",
       "      <td>ENSG00000000419.14</td>\n",
       "    </tr>\n",
       "    <tr>\n",
       "      <th>SCYL3</th>\n",
       "      <td>SCYL3</td>\n",
       "      <td>ENSG00000000457.14</td>\n",
       "    </tr>\n",
       "    <tr>\n",
       "      <th>C1ORF112</th>\n",
       "      <td>C1orf112;C1ORF112</td>\n",
       "      <td>ENSG00000000460.17</td>\n",
       "    </tr>\n",
       "    <tr>\n",
       "      <th>...</th>\n",
       "      <td>...</td>\n",
       "      <td>...</td>\n",
       "    </tr>\n",
       "    <tr>\n",
       "      <th>VIRAL_Measles_morbillivirus</th>\n",
       "      <td>VIRAL_Measles_morbillivirus</td>\n",
       "      <td>NaN</td>\n",
       "    </tr>\n",
       "    <tr>\n",
       "      <th>VIRAL_Mumps_rubulavirus</th>\n",
       "      <td>VIRAL_Mumps_rubulavirus</td>\n",
       "      <td>NaN</td>\n",
       "    </tr>\n",
       "    <tr>\n",
       "      <th>VIRAL_Rubella</th>\n",
       "      <td>VIRAL_Rubella</td>\n",
       "      <td>NaN</td>\n",
       "    </tr>\n",
       "    <tr>\n",
       "      <th>VIRAL_SARS-CoV2</th>\n",
       "      <td>VIRAL_SARS-CoV2</td>\n",
       "      <td>NaN</td>\n",
       "    </tr>\n",
       "    <tr>\n",
       "      <th>VIRAL_Varicella_Zoster_Virus_(VZV_Human_alphaherpesvirus_3)</th>\n",
       "      <td>VIRAL_Varicella_Zoster_Virus_(VZV_Human_alphah...</td>\n",
       "      <td>NaN</td>\n",
       "    </tr>\n",
       "  </tbody>\n",
       "</table>\n",
       "<p>59586 rows × 2 columns</p>\n",
       "</div>"
      ],
      "text/plain": [
       "                                                                                        original_aggr  \\\n",
       "new                                                                                                     \n",
       "TSPAN6                                                                                         TSPAN6   \n",
       "TNMD                                                                                             TNMD   \n",
       "DPM1                                                                                             DPM1   \n",
       "SCYL3                                                                                           SCYL3   \n",
       "C1ORF112                                                                            C1orf112;C1ORF112   \n",
       "...                                                                                               ...   \n",
       "VIRAL_Measles_morbillivirus                                               VIRAL_Measles_morbillivirus   \n",
       "VIRAL_Mumps_rubulavirus                                                       VIRAL_Mumps_rubulavirus   \n",
       "VIRAL_Rubella                                                                           VIRAL_Rubella   \n",
       "VIRAL_SARS-CoV2                                                                       VIRAL_SARS-CoV2   \n",
       "VIRAL_Varicella_Zoster_Virus_(VZV_Human_alphahe...  VIRAL_Varicella_Zoster_Virus_(VZV_Human_alphah...   \n",
       "\n",
       "                                                            ensembl_id  \n",
       "new                                                                     \n",
       "TSPAN6                                              ENSG00000000003.15  \n",
       "TNMD                                                 ENSG00000000005.6  \n",
       "DPM1                                                ENSG00000000419.14  \n",
       "SCYL3                                               ENSG00000000457.14  \n",
       "C1ORF112                                            ENSG00000000460.17  \n",
       "...                                                                ...  \n",
       "VIRAL_Measles_morbillivirus                                        NaN  \n",
       "VIRAL_Mumps_rubulavirus                                            NaN  \n",
       "VIRAL_Rubella                                                      NaN  \n",
       "VIRAL_SARS-CoV2                                                    NaN  \n",
       "VIRAL_Varicella_Zoster_Virus_(VZV_Human_alphahe...                 NaN  \n",
       "\n",
       "[59586 rows x 2 columns]"
      ]
     },
     "execution_count": 18,
     "metadata": {},
     "output_type": "execute_result"
    }
   ],
   "source": [
    "df = df.drop_duplicates(subset=[\"new\"]).set_index(\"new\")\n",
    "df.shape\n",
    "df"
   ]
  },
  {
   "cell_type": "code",
   "execution_count": 19,
   "id": "7cb644db-daf0-4c5a-b64e-c38045d33414",
   "metadata": {},
   "outputs": [
    {
     "data": {
      "text/plain": [
       "[]"
      ]
     },
     "execution_count": 19,
     "metadata": {},
     "output_type": "execute_result"
    }
   ],
   "source": [
    "ensembl_id_duplicates = list(\n",
    "    set(df.loc[df[\"ensembl_id\"].duplicated(), \"ensembl_id\"]) - set([\"\", np.nan])\n",
    ")\n",
    "ensembl_id_duplicates[:5]"
   ]
  },
  {
   "cell_type": "code",
   "execution_count": 20,
   "id": "3caaec61-04dd-4f51-912e-1de33ade253d",
   "metadata": {},
   "outputs": [
    {
     "name": "stdout",
     "output_type": "stream",
     "text": [
      "No repeats in ensembl IDs\n"
     ]
    }
   ],
   "source": [
    "if len(ensembl_id_duplicates) > 0:\n",
    "    temp = df.loc[df[\"ensembl_id\"].isin(ensembl_id_duplicates), :].sort_values(\n",
    "        by=[\"ensembl_id\"], ascending=False\n",
    "    )\n",
    "    print(temp.iloc[:5, :])\n",
    "else:\n",
    "    print(\"No repeats in ensembl IDs\")"
   ]
  },
  {
   "cell_type": "code",
   "execution_count": 21,
   "id": "88b1ab90-90eb-4c61-a493-67035cccef76",
   "metadata": {},
   "outputs": [
    {
     "data": {
      "text/html": [
       "<div>\n",
       "<style scoped>\n",
       "    .dataframe tbody tr th:only-of-type {\n",
       "        vertical-align: middle;\n",
       "    }\n",
       "\n",
       "    .dataframe tbody tr th {\n",
       "        vertical-align: top;\n",
       "    }\n",
       "\n",
       "    .dataframe thead th {\n",
       "        text-align: right;\n",
       "    }\n",
       "</style>\n",
       "<table border=\"1\" class=\"dataframe\">\n",
       "  <thead>\n",
       "    <tr style=\"text-align: right;\">\n",
       "      <th></th>\n",
       "      <th>original_aggr</th>\n",
       "      <th>ensembl_id</th>\n",
       "    </tr>\n",
       "  </thead>\n",
       "  <tbody>\n",
       "    <tr>\n",
       "      <th>1-DEC</th>\n",
       "      <td>1-DEC</td>\n",
       "      <td>NaN</td>\n",
       "    </tr>\n",
       "    <tr>\n",
       "      <th>A1BG</th>\n",
       "      <td>A1BG</td>\n",
       "      <td>ENSG00000121410.12</td>\n",
       "    </tr>\n",
       "    <tr>\n",
       "      <th>A1BG-AS1</th>\n",
       "      <td>A1BG-AS1</td>\n",
       "      <td>ENSG00000268895.6</td>\n",
       "    </tr>\n",
       "    <tr>\n",
       "      <th>A1CF</th>\n",
       "      <td>A1CF</td>\n",
       "      <td>ENSG00000148584.15</td>\n",
       "    </tr>\n",
       "    <tr>\n",
       "      <th>A2M</th>\n",
       "      <td>A2M</td>\n",
       "      <td>ENSG00000175899.15</td>\n",
       "    </tr>\n",
       "    <tr>\n",
       "      <th>...</th>\n",
       "      <td>...</td>\n",
       "      <td>...</td>\n",
       "    </tr>\n",
       "    <tr>\n",
       "      <th>rab1b</th>\n",
       "      <td>RAB1B</td>\n",
       "      <td>ENSG00000174903.16</td>\n",
       "    </tr>\n",
       "    <tr>\n",
       "      <th>stc1</th>\n",
       "      <td>STC1</td>\n",
       "      <td>ENSG00000159167.12</td>\n",
       "    </tr>\n",
       "    <tr>\n",
       "      <th>stxbp1</th>\n",
       "      <td>STXBP1</td>\n",
       "      <td>ENSG00000136854.24</td>\n",
       "    </tr>\n",
       "    <tr>\n",
       "      <th>tec</th>\n",
       "      <td>TEC</td>\n",
       "      <td>ENSG00000135605.13</td>\n",
       "    </tr>\n",
       "    <tr>\n",
       "      <th>wfs1</th>\n",
       "      <td>WFS1</td>\n",
       "      <td>ENSG00000109501.15</td>\n",
       "    </tr>\n",
       "  </tbody>\n",
       "</table>\n",
       "<p>59586 rows × 2 columns</p>\n",
       "</div>"
      ],
      "text/plain": [
       "         original_aggr          ensembl_id\n",
       "1-DEC            1-DEC                 NaN\n",
       "A1BG              A1BG  ENSG00000121410.12\n",
       "A1BG-AS1      A1BG-AS1   ENSG00000268895.6\n",
       "A1CF              A1CF  ENSG00000148584.15\n",
       "A2M                A2M  ENSG00000175899.15\n",
       "...                ...                 ...\n",
       "rab1b            RAB1B  ENSG00000174903.16\n",
       "stc1              STC1  ENSG00000159167.12\n",
       "stxbp1          STXBP1  ENSG00000136854.24\n",
       "tec                TEC  ENSG00000135605.13\n",
       "wfs1              WFS1  ENSG00000109501.15\n",
       "\n",
       "[59586 rows x 2 columns]"
      ]
     },
     "execution_count": 21,
     "metadata": {},
     "output_type": "execute_result"
    }
   ],
   "source": [
    "df.loc[sdata.var_names, :]"
   ]
  },
  {
   "cell_type": "markdown",
   "id": "e7db9dad-8643-437c-861c-cfaeb5b76062",
   "metadata": {},
   "source": [
    "#### Make sure `obs_names` have the same order"
   ]
  },
  {
   "cell_type": "code",
   "execution_count": 22,
   "id": "d4ac69ed-ba06-4c05-a181-e5e7bdfc4bda",
   "metadata": {},
   "outputs": [
    {
     "name": "stdout",
     "output_type": "stream",
     "text": [
      "Same values? True\n"
     ]
    }
   ],
   "source": [
    "print(f\"Same values? {set(sdata.obs_names) == set(embed.obs_names)}\")"
   ]
  },
  {
   "cell_type": "code",
   "execution_count": 23,
   "id": "ec5e407a-3b5f-4606-b875-1f31d8a53067",
   "metadata": {},
   "outputs": [
    {
     "name": "stdout",
     "output_type": "stream",
     "text": [
      "Same order? False\n"
     ]
    }
   ],
   "source": [
    "print(f\"Same order? {(sdata.obs_names == embed.obs_names).all()}\")"
   ]
  },
  {
   "cell_type": "code",
   "execution_count": 24,
   "id": "c1cd6a69-0b02-4a8c-8b44-f8389f4b6dbc",
   "metadata": {},
   "outputs": [],
   "source": [
    "embed_obs = embed.obs_names.tolist()\n",
    "meyer_obs = sdata.obs_names[sdata.obs[\"study\"] == \"Meyer_2021\"].tolist()\n",
    "other_obs = sdata.obs_names[sdata.obs[\"study\"] != \"Meyer_2021\"].tolist()"
   ]
  },
  {
   "cell_type": "markdown",
   "id": "b646bfa8-d2c4-4d91-8ff7-7fd377867dbf",
   "metadata": {},
   "source": [
    "Sorting embedding to the same order as the final Meyer + Rest (zero's only) matrix"
   ]
  },
  {
   "cell_type": "code",
   "execution_count": 25,
   "id": "36995da1-c750-4ef3-9a62-d20dd7c2d731",
   "metadata": {},
   "outputs": [],
   "source": [
    "embed = embed[meyer_obs + other_obs]"
   ]
  },
  {
   "cell_type": "markdown",
   "id": "6aa1118f-036d-4eb0-a3f1-2816196935c3",
   "metadata": {},
   "source": [
    "### Main <a class=\"anchor\" id=\"bullet4\"></a>"
   ]
  },
  {
   "cell_type": "code",
   "execution_count": 26,
   "id": "035565f9-6823-477c-aabe-f8751b16e519",
   "metadata": {},
   "outputs": [
    {
     "name": "stdout",
     "output_type": "stream",
     "text": [
      "CPU times: user 1min 59s, sys: 1min 24s, total: 3min 24s\n",
      "Wall time: 3min 44s\n"
     ]
    }
   ],
   "source": [
    "%%time\n",
    "adata_c = sdata[meyer_obs + other_obs].to_memory()"
   ]
  },
  {
   "cell_type": "code",
   "execution_count": 27,
   "id": "e84d1000-6323-4559-b8e1-560adb3d68a1",
   "metadata": {},
   "outputs": [],
   "source": [
    "adata_c.var = df.loc[adata_c.var_names, :]"
   ]
  },
  {
   "cell_type": "code",
   "execution_count": 28,
   "id": "c907af74-3fa0-493d-83d0-cc6a014c0a0e",
   "metadata": {},
   "outputs": [],
   "source": [
    "adata_c.uns[\"neighbors\"] = embed.uns[\"neighbors\"]"
   ]
  },
  {
   "cell_type": "code",
   "execution_count": 29,
   "id": "43490cce-b3ae-4700-88bc-c0a05fb355db",
   "metadata": {},
   "outputs": [],
   "source": [
    "adata_c.obsp[\"connectivities\"] = embed.obsp[\"connectivities\"]"
   ]
  },
  {
   "cell_type": "code",
   "execution_count": 30,
   "id": "f05d15df-a92b-4517-819f-e95ff77c2c29",
   "metadata": {},
   "outputs": [],
   "source": [
    "adata_c.obsp[\"distances\"] = embed.obsp[\"distances\"]"
   ]
  },
  {
   "cell_type": "code",
   "execution_count": 31,
   "id": "e7a3e3b4-48de-4f1b-b910-86c183288edd",
   "metadata": {},
   "outputs": [],
   "source": [
    "adata_c.obsm[\"X_umap\"] = embed.obsm[\"X_umap\"]"
   ]
  },
  {
   "cell_type": "markdown",
   "id": "05e2b9f1-5729-4cbb-b482-20acd9c662cb",
   "metadata": {},
   "source": [
    "Do you know if I need to use `X.copy()` or `.X` is fine?\n",
    "\n",
    "Putting the embedding into `obsm`."
   ]
  },
  {
   "cell_type": "code",
   "execution_count": 32,
   "id": "b38e52c2-8637-488e-a91c-d957baaa18d8",
   "metadata": {},
   "outputs": [],
   "source": [
    "adata_c.obsm[\"X_scanvi_emb\"] = embed.X.copy()"
   ]
  },
  {
   "cell_type": "code",
   "execution_count": 33,
   "id": "d53d23ff-d3b0-49a0-94f6-f70db024dcf6",
   "metadata": {},
   "outputs": [],
   "source": [
    "del embed"
   ]
  },
  {
   "cell_type": "markdown",
   "id": "015edf58-303a-46e9-80da-5aaa07481933",
   "metadata": {},
   "source": [
    "#### Normalization and log-transformation"
   ]
  },
  {
   "cell_type": "code",
   "execution_count": 34,
   "id": "7229ae13-c2ce-4ddc-938a-10cc44faddde",
   "metadata": {},
   "outputs": [
    {
     "name": "stdout",
     "output_type": "stream",
     "text": [
      "CPU times: user 16.4 s, sys: 3.42 s, total: 19.8 s\n",
      "Wall time: 19.9 s\n"
     ]
    }
   ],
   "source": [
    "%%time\n",
    "sc.pp.normalize_total(adata_c, target_sum=7699)"
   ]
  },
  {
   "cell_type": "code",
   "execution_count": 35,
   "id": "9468420a-acc6-42a9-9009-8e115f44533d",
   "metadata": {},
   "outputs": [
    {
     "name": "stdout",
     "output_type": "stream",
     "text": [
      "CPU times: user 58 s, sys: 0 ns, total: 58 s\n",
      "Wall time: 58.2 s\n"
     ]
    }
   ],
   "source": [
    "%%time\n",
    "sc.pp.log1p(adata_c)"
   ]
  },
  {
   "cell_type": "markdown",
   "id": "35aad9fe-9bd3-4077-b428-c3421929994c",
   "metadata": {},
   "source": [
    "#### Save raw counts in a layer and calculate total counts"
   ]
  },
  {
   "cell_type": "markdown",
   "id": "e81621de-0346-47bc-8ceb-3d27a8e41ab7",
   "metadata": {},
   "source": [
    "We reload this to memory because we wanted to avoid it taking up memory while normalizing and log-transforming"
   ]
  },
  {
   "cell_type": "code",
   "execution_count": 36,
   "id": "cff50ff8-12ce-4a01-98ce-1c8bb727299a",
   "metadata": {
    "tags": []
   },
   "outputs": [
    {
     "name": "stdout",
     "output_type": "stream",
     "text": [
      "CPU times: user 2min 22s, sys: 1min 22s, total: 3min 45s\n",
      "Wall time: 4min 17s\n"
     ]
    }
   ],
   "source": [
    "%%time\n",
    "adata_c.layers[\"counts\"] = cdata[meyer_obs + other_obs].to_memory().X.copy()"
   ]
  },
  {
   "cell_type": "code",
   "execution_count": 37,
   "id": "5a8f19af-09f0-46c3-be99-ec1c826b214d",
   "metadata": {},
   "outputs": [],
   "source": [
    "adata_c.obs[\"total_counts\"] = adata_c.layers[\"counts\"].sum(axis=1)"
   ]
  },
  {
   "cell_type": "markdown",
   "id": "32342790-4cca-4860-8ade-11f85eaa2fb1",
   "metadata": {},
   "source": [
    "#### Adding Meyer_2021 soupXed data"
   ]
  },
  {
   "cell_type": "code",
   "execution_count": 38,
   "id": "dd955fad-5348-41e6-9a3f-6a08b899e2ef",
   "metadata": {},
   "outputs": [
    {
     "name": "stdout",
     "output_type": "stream",
     "text": [
      "CPU times: user 5.35 s, sys: 1.91 s, total: 7.26 s\n",
      "Wall time: 10.2 s\n"
     ]
    }
   ],
   "source": [
    "%%time\n",
    "sdata_meyer2021 = sdata[meyer_obs].to_memory().X.copy()"
   ]
  },
  {
   "cell_type": "code",
   "execution_count": 39,
   "id": "aa4bcb82-a69d-4184-8044-54728a988977",
   "metadata": {},
   "outputs": [],
   "source": [
    "adata_c.layers[\"soupX\"] = sp.vstack(\n",
    "    (\n",
    "        sdata_meyer2021,\n",
    "        sp.csr_matrix(\n",
    "            (sdata.shape[0] - sdata_meyer2021.shape[0], sdata.shape[1]),\n",
    "            dtype=np.float32,\n",
    "        ),\n",
    "    ),\n",
    "    format=\"csr\",\n",
    ")"
   ]
  },
  {
   "cell_type": "markdown",
   "id": "a1a3e904-517d-4d3a-af0d-7cdfde1db149",
   "metadata": {},
   "source": [
    "#### Checking matrices' sparcity"
   ]
  },
  {
   "cell_type": "code",
   "execution_count": 40,
   "id": "dd3dd812-cf11-4a71-adb1-d9519aa616ad",
   "metadata": {},
   "outputs": [
    {
     "data": {
      "text/plain": [
       "<2382658x59586 sparse matrix of type '<class 'numpy.float32'>'\n",
       "\twith 4333222727 stored elements in Compressed Sparse Row format>"
      ]
     },
     "execution_count": 40,
     "metadata": {},
     "output_type": "execute_result"
    }
   ],
   "source": [
    "adata_c.X"
   ]
  },
  {
   "cell_type": "code",
   "execution_count": 41,
   "id": "812a6939-3255-4cb0-9fec-e44e78f2a59e",
   "metadata": {},
   "outputs": [
    {
     "data": {
      "text/plain": [
       "<2382658x59586 sparse matrix of type '<class 'numpy.float32'>'\n",
       "\twith 4312860970 stored elements in Compressed Sparse Row format>"
      ]
     },
     "execution_count": 41,
     "metadata": {},
     "output_type": "execute_result"
    }
   ],
   "source": [
    "adata_c.layers[\"counts\"]"
   ]
  },
  {
   "cell_type": "code",
   "execution_count": 42,
   "id": "b282aee2-73d1-4c57-8941-c2cb89feb4c3",
   "metadata": {},
   "outputs": [
    {
     "data": {
      "text/plain": [
       "<2382658x59586 sparse matrix of type '<class 'numpy.float32'>'\n",
       "\twith 187231837 stored elements in Compressed Sparse Row format>"
      ]
     },
     "execution_count": 42,
     "metadata": {},
     "output_type": "execute_result"
    }
   ],
   "source": [
    "adata_c.layers[\"soupX\"]"
   ]
  },
  {
   "cell_type": "markdown",
   "id": "3127de73-39c3-49cf-bd81-2da41bd934c1",
   "metadata": {},
   "source": [
    "Meyer specifically"
   ]
  },
  {
   "cell_type": "code",
   "execution_count": 43,
   "id": "dd155a83-0846-4b8e-be77-7b7496094732",
   "metadata": {},
   "outputs": [
    {
     "data": {
      "text/plain": [
       "<129340x59586 sparse matrix of type '<class 'numpy.float32'>'\n",
       "\twith 187231837 stored elements in Compressed Sparse Row format>"
      ]
     },
     "execution_count": 43,
     "metadata": {},
     "output_type": "execute_result"
    }
   ],
   "source": [
    "adata_c[adata_c.obs[\"study\"] == \"Meyer_2021\"].X"
   ]
  },
  {
   "cell_type": "code",
   "execution_count": 45,
   "id": "2ca7fc97-ae34-48e5-adf1-c10a882815c4",
   "metadata": {},
   "outputs": [
    {
     "data": {
      "text/plain": [
       "<129340x59586 sparse matrix of type '<class 'numpy.float32'>'\n",
       "\twith 166870080 stored elements in Compressed Sparse Row format>"
      ]
     },
     "execution_count": 45,
     "metadata": {},
     "output_type": "execute_result"
    }
   ],
   "source": [
    "adata_c[adata_c.obs[\"study\"] == \"Meyer_2021\"].layers[\"counts\"]"
   ]
  },
  {
   "cell_type": "code",
   "execution_count": 46,
   "id": "b87a0fe0-1a7b-46d1-abcb-dbb5976b05fc",
   "metadata": {},
   "outputs": [
    {
     "data": {
      "text/plain": [
       "<129340x59586 sparse matrix of type '<class 'numpy.float32'>'\n",
       "\twith 187231837 stored elements in Compressed Sparse Row format>"
      ]
     },
     "execution_count": 46,
     "metadata": {},
     "output_type": "execute_result"
    }
   ],
   "source": [
    "adata_c[adata_c.obs[\"study\"] == \"Meyer_2021\"].layers[\"soupX\"]"
   ]
  },
  {
   "cell_type": "markdown",
   "id": "509c02fd-6348-4bd8-88eb-b07219134280",
   "metadata": {},
   "source": [
    "Tata because other studies get jealous"
   ]
  },
  {
   "cell_type": "code",
   "execution_count": 47,
   "id": "fdc073e2-2214-4a30-ab9d-b458868a6288",
   "metadata": {},
   "outputs": [
    {
     "data": {
      "text/plain": [
       "<21700x59586 sparse matrix of type '<class 'numpy.float32'>'\n",
       "\twith 57876664 stored elements in Compressed Sparse Row format>"
      ]
     },
     "execution_count": 47,
     "metadata": {},
     "output_type": "execute_result"
    }
   ],
   "source": [
    "adata_c[adata_c.obs[\"study\"] == \"Tata_unpubl\"].X"
   ]
  },
  {
   "cell_type": "code",
   "execution_count": 48,
   "id": "95121976-f4ae-4916-9c8b-316d64b5fac5",
   "metadata": {},
   "outputs": [
    {
     "data": {
      "text/plain": [
       "<21700x59586 sparse matrix of type '<class 'numpy.float32'>'\n",
       "\twith 57876664 stored elements in Compressed Sparse Row format>"
      ]
     },
     "execution_count": 48,
     "metadata": {},
     "output_type": "execute_result"
    }
   ],
   "source": [
    "adata_c[adata_c.obs[\"study\"] == \"Tata_unpubl\"].layers[\"counts\"]"
   ]
  },
  {
   "cell_type": "code",
   "execution_count": 49,
   "id": "6e4064b0-73bb-40eb-a16f-6556c08c762f",
   "metadata": {},
   "outputs": [
    {
     "data": {
      "text/plain": [
       "<21700x59586 sparse matrix of type '<class 'numpy.float32'>'\n",
       "\twith 0 stored elements in Compressed Sparse Row format>"
      ]
     },
     "execution_count": 49,
     "metadata": {},
     "output_type": "execute_result"
    }
   ],
   "source": [
    "adata_c[adata_c.obs[\"study\"] == \"Tata_unpubl\"].layers[\"soupX\"]"
   ]
  },
  {
   "cell_type": "markdown",
   "id": "84d748cf-549b-4aee-8b10-30190502c360",
   "metadata": {},
   "source": [
    "Closing up to Meyer counts difference across matrices"
   ]
  },
  {
   "cell_type": "code",
   "execution_count": 58,
   "id": "363f9b66-3497-470d-970c-9df0584ed282",
   "metadata": {},
   "outputs": [
    {
     "data": {
      "text/plain": [
       "array([[0.        , 0.        , 0.        , 0.        , 0.        ],\n",
       "       [0.58168983, 0.        , 0.        , 0.        , 0.        ],\n",
       "       [0.        , 0.        , 0.        , 0.        , 0.        ],\n",
       "       [0.        , 0.        , 0.        , 0.        , 0.        ],\n",
       "       [0.        , 0.        , 0.        , 0.        , 0.        ],\n",
       "       [1.3137116 , 0.        , 0.        , 0.        , 0.        ],\n",
       "       [1.9351146 , 0.        , 0.        , 0.        , 0.        ],\n",
       "       [0.        , 0.        , 0.        , 0.        , 0.        ],\n",
       "       [0.        , 0.        , 0.        , 0.        , 0.        ],\n",
       "       [0.        , 0.        , 0.        , 0.        , 0.        ]],\n",
       "      dtype=float32)"
      ]
     },
     "execution_count": 58,
     "metadata": {},
     "output_type": "execute_result"
    }
   ],
   "source": [
    "adata_c[adata_c.obs[\"study\"] == \"Meyer_2021\"].X[-10:, -10:-5].toarray()"
   ]
  },
  {
   "cell_type": "code",
   "execution_count": 59,
   "id": "edfa22e3-b897-46bf-af77-4aa821d37454",
   "metadata": {},
   "outputs": [
    {
     "data": {
      "text/plain": [
       "array([[0., 0., 0., 0., 0.],\n",
       "       [1., 0., 0., 0., 0.],\n",
       "       [0., 0., 0., 0., 0.],\n",
       "       [0., 0., 0., 0., 0.],\n",
       "       [0., 0., 0., 0., 0.],\n",
       "       [1., 0., 0., 0., 0.],\n",
       "       [1., 0., 0., 0., 0.],\n",
       "       [0., 0., 0., 0., 0.],\n",
       "       [0., 0., 0., 0., 0.],\n",
       "       [0., 0., 0., 0., 0.]], dtype=float32)"
      ]
     },
     "execution_count": 59,
     "metadata": {},
     "output_type": "execute_result"
    }
   ],
   "source": [
    "adata_c[adata_c.obs[\"study\"] == \"Meyer_2021\"].layers[\"counts\"][-10:, -10:-5].toarray()"
   ]
  },
  {
   "cell_type": "code",
   "execution_count": 57,
   "id": "25d1982b-4b10-4ce6-9ce0-5ac329a7b32d",
   "metadata": {},
   "outputs": [
    {
     "data": {
      "text/plain": [
       "array([[0.        , 0.        , 0.        , 0.        , 0.        ],\n",
       "       [0.99843436, 0.        , 0.        , 0.        , 0.        ],\n",
       "       [0.        , 0.        , 0.        , 0.        , 0.        ],\n",
       "       [0.        , 0.        , 0.        , 0.        , 0.        ],\n",
       "       [0.        , 0.        , 0.        , 0.        , 0.        ],\n",
       "       [0.9994829 , 0.        , 0.        , 0.        , 0.        ],\n",
       "       [0.9997394 , 0.        , 0.        , 0.        , 0.        ],\n",
       "       [0.        , 0.        , 0.        , 0.        , 0.        ],\n",
       "       [0.        , 0.        , 0.        , 0.        , 0.        ],\n",
       "       [0.        , 0.        , 0.        , 0.        , 0.        ]],\n",
       "      dtype=float32)"
      ]
     },
     "execution_count": 57,
     "metadata": {},
     "output_type": "execute_result"
    }
   ],
   "source": [
    "adata_c[adata_c.obs[\"study\"] == \"Meyer_2021\"].layers[\"soupX\"][-10:, -10:-5].toarray()"
   ]
  },
  {
   "cell_type": "markdown",
   "id": "011f6134-ca6e-4b83-b046-42c3dde6c70b",
   "metadata": {},
   "source": [
    "Checking other parts of the matrix"
   ]
  },
  {
   "cell_type": "code",
   "execution_count": 64,
   "id": "d7f71d6b-2769-4693-bf00-0189d00721dc",
   "metadata": {},
   "outputs": [
    {
     "data": {
      "text/plain": [
       "array([[0.       , 3.0992782, 0.       , 2.8291957, 0.       ],\n",
       "       [0.6540061, 3.0111947, 1.5428032, 0.6433596, 0.       ],\n",
       "       [0.       , 4.818784 , 0.       , 1.9212245, 0.       ],\n",
       "       [0.       , 2.5507424, 3.3594618, 0.       , 0.       ],\n",
       "       [0.       , 3.6311038, 1.1894857, 1.1877304, 0.       ],\n",
       "       [0.       , 4.6386056, 2.1822228, 0.       , 0.       ],\n",
       "       [0.       , 3.7287457, 1.0569537, 1.3399746, 0.       ],\n",
       "       [0.       , 4.1396537, 0.       , 1.4845533, 0.       ],\n",
       "       [0.       , 3.9706714, 2.070712 , 2.0700052, 0.       ],\n",
       "       [0.       , 0.       , 2.0253978, 2.024512 , 0.       ]],\n",
       "      dtype=float32)"
      ]
     },
     "execution_count": 64,
     "metadata": {},
     "output_type": "execute_result"
    }
   ],
   "source": [
    "adata_c[adata_c.obs[\"study\"] == \"Meyer_2021\"].X[-210:-200, -905:-900].toarray()"
   ]
  },
  {
   "cell_type": "code",
   "execution_count": 65,
   "id": "5f7cd452-527e-41eb-9c6a-9f0e5d205d03",
   "metadata": {},
   "outputs": [
    {
     "data": {
      "text/plain": [
       "array([[ 0.,  3.,  0.,  3.,  0.],\n",
       "       [ 1., 21.,  4.,  1.,  0.],\n",
       "       [ 0., 42.,  0.,  1.,  0.],\n",
       "       [ 0.,  3.,  7.,  0.,  0.],\n",
       "       [ 0., 16.,  1.,  1.,  0.],\n",
       "       [ 0., 25.,  2.,  0.,  0.],\n",
       "       [ 0., 43.,  2.,  3.,  0.],\n",
       "       [ 0., 18.,  0.,  1.,  0.],\n",
       "       [ 0., 30.,  4.,  4.,  0.],\n",
       "       [ 0.,  0.,  1.,  1.,  0.]], dtype=float32)"
      ]
     },
     "execution_count": 65,
     "metadata": {},
     "output_type": "execute_result"
    }
   ],
   "source": [
    "adata_c[adata_c.obs[\"study\"] == \"Meyer_2021\"].layers[\"counts\"][\n",
    "    -210:-200, -905:-900\n",
    "].toarray()"
   ]
  },
  {
   "cell_type": "code",
   "execution_count": 66,
   "id": "558bb129-80c3-480a-b006-791e9f53245f",
   "metadata": {},
   "outputs": [
    {
     "data": {
      "text/plain": [
       "array([[ 0.        ,  3.9823215 ,  0.        ,  2.9952738 ,  0.        ],\n",
       "       [ 1.        , 20.917482  ,  3.9834964 ,  0.97793925,  0.        ],\n",
       "       [ 0.        , 41.970463  ,  0.        ,  1.9921033 ,  0.        ],\n",
       "       [ 0.        ,  2.976199  ,  6.9952397 ,  0.        ,  0.        ],\n",
       "       [ 0.        , 15.962845  ,  0.99256897,  0.9900667 ,  0.        ],\n",
       "       [ 0.        , 25.977457  ,  1.9954914 ,  0.        ,  0.        ],\n",
       "       [ 0.        , 42.917206  ,  1.9834412 ,  2.9778655 ,  0.        ],\n",
       "       [ 0.        , 17.973505  ,  0.        ,  0.99291664,  0.        ],\n",
       "       [ 0.        , 29.952091  ,  3.9904182 ,  3.9871917 ,  0.        ],\n",
       "       [ 0.        ,  0.        ,  0.9969799 ,  0.9959629 ,  0.        ]],\n",
       "      dtype=float32)"
      ]
     },
     "execution_count": 66,
     "metadata": {},
     "output_type": "execute_result"
    }
   ],
   "source": [
    "adata_c[adata_c.obs[\"study\"] == \"Meyer_2021\"].layers[\"soupX\"][\n",
    "    -210:-200, -905:-900\n",
    "].toarray()"
   ]
  },
  {
   "cell_type": "markdown",
   "id": "8eb589df-1c3a-498c-8bb0-395c937e9443",
   "metadata": {},
   "source": [
    "Checking if Kaminski's data is integers."
   ]
  },
  {
   "cell_type": "code",
   "execution_count": 71,
   "id": "4387696a-b83f-4272-a65e-ba90abb464a3",
   "metadata": {},
   "outputs": [
    {
     "data": {
      "text/plain": [
       "<307650x59586 sparse matrix of type '<class 'numpy.float32'>'\n",
       "\twith 675634120 stored elements in Compressed Sparse Row format>"
      ]
     },
     "execution_count": 71,
     "metadata": {},
     "output_type": "execute_result"
    }
   ],
   "source": [
    "adata_c[adata_c.obs[\"study\"] == \"Kaminski_2020\"].X"
   ]
  },
  {
   "cell_type": "code",
   "execution_count": 72,
   "id": "f726dac3-d21a-428c-8fb8-c74403184ac9",
   "metadata": {},
   "outputs": [
    {
     "data": {
      "text/plain": [
       "<307650x59586 sparse matrix of type '<class 'numpy.float32'>'\n",
       "\twith 675634120 stored elements in Compressed Sparse Row format>"
      ]
     },
     "execution_count": 72,
     "metadata": {},
     "output_type": "execute_result"
    }
   ],
   "source": [
    "adata_c[adata_c.obs[\"study\"] == \"Kaminski_2020\"].layers[\"counts\"]"
   ]
  },
  {
   "cell_type": "code",
   "execution_count": 73,
   "id": "6cf7939c-9de7-43b1-be7f-453d991d86c9",
   "metadata": {},
   "outputs": [
    {
     "data": {
      "text/plain": [
       "<307650x59586 sparse matrix of type '<class 'numpy.float32'>'\n",
       "\twith 0 stored elements in Compressed Sparse Row format>"
      ]
     },
     "execution_count": 73,
     "metadata": {},
     "output_type": "execute_result"
    }
   ],
   "source": [
    "adata_c[adata_c.obs[\"study\"] == \"Kaminski_2020\"].layers[\"soupX\"]"
   ]
  },
  {
   "cell_type": "code",
   "execution_count": 75,
   "id": "c3f1fc16-6168-417d-89cb-8a6f6dd2808c",
   "metadata": {},
   "outputs": [
    {
     "data": {
      "text/plain": [
       "array([[ 0.,  0.,  0.,  1.,  0.],\n",
       "       [ 0.,  1.,  0.,  0.,  0.],\n",
       "       [ 2.,  0.,  0.,  0.,  0.],\n",
       "       [ 1.,  0.,  0.,  0.,  0.],\n",
       "       [11.,  1.,  0.,  0.,  0.],\n",
       "       [ 2.,  0.,  0.,  0.,  0.],\n",
       "       [ 2.,  0.,  0.,  0.,  0.],\n",
       "       [ 1.,  0.,  0.,  0.,  0.],\n",
       "       [ 2.,  0.,  0.,  0.,  0.],\n",
       "       [ 0.,  0.,  0.,  0.,  2.]], dtype=float32)"
      ]
     },
     "execution_count": 75,
     "metadata": {},
     "output_type": "execute_result"
    }
   ],
   "source": [
    "adata_c[adata_c.obs[\"study\"] == \"Kaminski_2020\"].layers[\"counts\"][\n",
    "    -10:, -10:-5\n",
    "].toarray()"
   ]
  },
  {
   "cell_type": "code",
   "execution_count": 80,
   "id": "c17bee9c-9101-42f5-8ba9-109be6d8e9cf",
   "metadata": {},
   "outputs": [
    {
     "data": {
      "text/plain": [
       "0.0       5773416\n",
       "1.0        119184\n",
       "2.0         30577\n",
       "3.0         12151\n",
       "4.0          6238\n",
       "           ...   \n",
       "317.0           1\n",
       "245.0           1\n",
       "1134.0          1\n",
       "139.0           1\n",
       "283.0           1\n",
       "Length: 209, dtype: int64"
      ]
     },
     "execution_count": 80,
     "metadata": {},
     "output_type": "execute_result"
    }
   ],
   "source": [
    "pd.Series(\n",
    "    adata_c[adata_c.obs[\"study\"] == \"Kaminski_2020\"]\n",
    "    .layers[\"counts\"][:100, :]\n",
    "    .A.flatten()\n",
    ").value_counts()"
   ]
  },
  {
   "cell_type": "code",
   "execution_count": 85,
   "id": "a6615a17-6a40-4576-93f4-26e1f24fa0f6",
   "metadata": {},
   "outputs": [
    {
     "name": "stdout",
     "output_type": "stream",
     "text": [
      "CPU times: user 2min 27s, sys: 37.8 s, total: 3min 5s\n",
      "Wall time: 3min 5s\n"
     ]
    }
   ],
   "source": [
    "%%time\n",
    "non_int = adata_c[adata_c.obs[\"study\"] == \"Kaminski_2020\"].layers[\"counts\"].toarray() % 1 != 0"
   ]
  },
  {
   "cell_type": "code",
   "execution_count": 86,
   "id": "8d4b17f5-a873-4c0a-9003-8ca26d8fd145",
   "metadata": {},
   "outputs": [],
   "source": [
    "total_non_ints = sum(non_int)"
   ]
  },
  {
   "cell_type": "code",
   "execution_count": 88,
   "id": "2454a040-ec4f-4e54-85fb-953ec8533d30",
   "metadata": {},
   "outputs": [
    {
     "data": {
      "text/plain": [
       "0"
      ]
     },
     "execution_count": 88,
     "metadata": {},
     "output_type": "execute_result"
    }
   ],
   "source": [
    "sum(total_non_ints)"
   ]
  },
  {
   "cell_type": "markdown",
   "id": "26cc5846-9117-4879-91ae-d0148d9a72f8",
   "metadata": {},
   "source": [
    "### Conclusions <a class=\"anchor\" id=\"bullet5\"></a>"
   ]
  },
  {
   "cell_type": "code",
   "execution_count": 67,
   "id": "7b411282-44a0-4d3f-8b55-f65a138b2c1c",
   "metadata": {},
   "outputs": [
    {
     "data": {
      "text/plain": [
       "AnnData object with n_obs × n_vars = 2382658 × 59586\n",
       "    obs: 'sample', 'original_celltype_ann', 'study_long', 'study', 'last_author_PI', 'subject_ID', 'subject_ID_as_published', 'pre_or_postnatal', 'age_in_years', 'age_range', 'sex', 'smoking_status', 'smoking_history', 'BMI', 'known_lung_disease', 'condition', 'subject_type', 'cause_of_death', 'sample_type', 'anatomical_region_coarse', 'anatomical_region_detailed', 'tissue_dissociation_protocol', 'cells_or_nuclei', 'single_cell_platform', \"3'_or_5'\", 'enrichment', 'sequencing_platform', 'reference_genome_coarse', 'ensembl_release_reference_genome', 'cell_ranger_version', 'disease_status', 'fresh_or_frozen', 'cultured', 'cell_viability_%', 'comments', 'Processing_site', 'dataset', 'anatomical_region_level_1', 'anatomical_region_level_2', 'anatomical_region_level_3', 'anatomical_region_highest_res', 'age', 'ann_level_1', 'ann_level_2', 'ann_level_3', 'ann_level_4', 'ann_level_5', 'ann_highest_res', 'ann_new', 'n_genes', 'total_counts', 'log10_total_counts', 'n_genes_detected', 'mito_frac', 'ribo_frac', 'compl', 'size_factors', 'ann_level_1_clean', 'ann_level_2_clean', 'ann_level_3_clean', 'ann_level_4_clean', 'ann_level_5_clean', 'scanvi_label', 'leiden_1', 'leiden_2', 'leiden_3', 'anatomical_region_ccf_score', 'manual_ann', 'leiden_4', 'reannotation_type', 'leiden_5', 'original_ann_level_1', 'original_ann_level_2', 'original_ann_level_3', 'original_ann_level_4', 'original_ann_level_5', 'original_ann_highest_res', 'original_ann_new', 'original_ann_level_1_clean', 'original_ann_level_2_clean', 'original_ann_level_3_clean', 'original_ann_level_4_clean', 'original_ann_level_5_clean', 'cluster_annotated', 'manual_ann_grouped', 'entropy_subject_ID_leiden_3', 'entropy_dataset_leiden_3', 'entropy_original_ann_level_1_leiden_3', 'entropy_original_ann_level_2_clean_leiden_3', 'entropy_original_ann_level_3_clean_leiden_3', 'core_or_extension', 'ancestry', 'mixed_ancestry', 'transf_ann_level_1_label', 'transf_ann_level_1_uncert', 'transf_ann_level_2_label', 'transf_ann_level_2_uncert', 'transf_ann_level_3_label', 'transf_ann_level_3_uncert', 'transf_ann_level_4_label', 'transf_ann_level_4_uncert', 'transf_ann_level_5_label', 'transf_ann_level_5_uncert', 'cellname_original'\n",
       "    var: 'original_aggr', 'ensembl_id'\n",
       "    uns: 'neighbors', 'log1p'\n",
       "    obsm: 'X_umap', 'X_scanvi_emb'\n",
       "    layers: 'counts', 'soupX'\n",
       "    obsp: 'connectivities', 'distances'"
      ]
     },
     "execution_count": 67,
     "metadata": {},
     "output_type": "execute_result"
    }
   ],
   "source": [
    "adata_c"
   ]
  },
  {
   "cell_type": "markdown",
   "id": "70e2e917-4eba-43cf-bd5e-90721bed3c8e",
   "metadata": {
    "tags": []
   },
   "source": [
    "### Save <a class=\"anchor\" id=\"bullet6\"></a>"
   ]
  },
  {
   "cell_type": "code",
   "execution_count": 69,
   "id": "30562abd-7a6f-4c80-a2f6-70cce832d253",
   "metadata": {},
   "outputs": [
    {
     "name": "stdout",
     "output_type": "stream",
     "text": [
      "CPU times: user 30.7 s, sys: 2min 25s, total: 2min 56s\n",
      "Wall time: 3min 16s\n"
     ]
    }
   ],
   "source": [
    "%%time\n",
    "adata_c.write(filename=adata_out)"
   ]
  },
  {
   "cell_type": "markdown",
   "id": "558a3346-bdd1-4945-af1b-73797f206953",
   "metadata": {},
   "source": [
    "Done."
   ]
  }
 ],
 "metadata": {
  "kernelspec": {
   "display_name": "Python [conda env:HLCA_basic] *",
   "language": "python",
   "name": "conda-env-HLCA_basic-py"
  },
  "language_info": {
   "codemirror_mode": {
    "name": "ipython",
    "version": 3
   },
   "file_extension": ".py",
   "mimetype": "text/x-python",
   "name": "python",
   "nbconvert_exporter": "python",
   "pygments_lexer": "ipython3",
   "version": "3.7.13"
  }
 },
 "nbformat": 4,
 "nbformat_minor": 5
}
